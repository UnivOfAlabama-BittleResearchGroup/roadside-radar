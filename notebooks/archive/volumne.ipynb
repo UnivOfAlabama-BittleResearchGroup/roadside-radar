{
 "cells": [
  {
   "cell_type": "code",
   "execution_count": 2,
   "metadata": {},
   "outputs": [],
   "source": [
    "%load_ext autoreload\n",
    "%autoreload 2"
   ]
  },
  {
   "cell_type": "code",
   "execution_count": 3,
   "metadata": {},
   "outputs": [
    {
     "name": "stdout",
     "output_type": "stream",
     "text": [
      "GPU available: True\n"
     ]
    }
   ],
   "source": [
    "# ruff: noqa: E402\n",
    "# find the root of the project\n",
    "import os\n",
    "from pathlib import Path\n",
    "import sys\n",
    "import polars as pl\n",
    "import dotenv\n",
    "\n",
    "\n",
    "ROOT = Path(os.getcwd()).parent\n",
    "while not ROOT.joinpath(\".git\").exists():\n",
    "    ROOT = ROOT.parent\n",
    "\n",
    "# add the root to the python path\n",
    "sys.path.append(str(ROOT))\n",
    "\n",
    "\n",
    "dotenv.load_dotenv(ROOT.joinpath(\".env\"))\n",
    "\n",
    "from src.utils import check_gpu_available\n",
    "\n",
    "GPU = check_gpu_available()\n",
    "print(f\"GPU available: {GPU}\")"
   ]
  },
  {
   "cell_type": "code",
   "execution_count": 4,
   "metadata": {},
   "outputs": [],
   "source": [
    "import geopandas as gpd\n",
    "\n",
    "keep_lanes = gpd.read_file(ROOT / \"data/calibration_lanes_new.geojson\")\n",
    "keep_lanes = keep_lanes.loc[keep_lanes['name'].str.contains('Walmart'), 'name'].values"
   ]
  },
  {
   "cell_type": "markdown",
   "metadata": {},
   "source": []
  },
  {
   "cell_type": "code",
   "execution_count": 5,
   "metadata": {},
   "outputs": [],
   "source": [
    "import geopandas as gpd\n",
    "from src.geometry import RoadNetwork\n",
    "\n",
    "LANE_WIDTH = 3.55\n",
    "net = RoadNetwork(\n",
    "    lane_gdf=gpd.read_file(ROOT / \"data/calibration_lanes_new.geojson\"),\n",
    "    # keep_lanes=keep_lanes,\n",
    "    step_size=0.05,\n",
    ")"
   ]
  },
  {
   "cell_type": "code",
   "execution_count": 6,
   "metadata": {},
   "outputs": [
    {
     "data": {
      "text/html": [
       "<div style=\"width:100%;\"><div style=\"position:relative;width:100%;height:0;padding-bottom:60%;\"><span style=\"color:#565656\">Make this Notebook Trusted to load map: File -> Trust Notebook</span><iframe srcdoc=\"&lt;!DOCTYPE html&gt;\n",
       "&lt;html&gt;\n",
       "&lt;head&gt;\n",
       "    \n",
       "    &lt;meta http-equiv=&quot;content-type&quot; content=&quot;text/html; charset=UTF-8&quot; /&gt;\n",
       "    \n",
       "        &lt;script&gt;\n",
       "            L_NO_TOUCH = false;\n",
       "            L_DISABLE_3D = false;\n",
       "        &lt;/script&gt;\n",
       "    \n",
       "    &lt;style&gt;html, body {width: 100%;height: 100%;margin: 0;padding: 0;}&lt;/style&gt;\n",
       "    &lt;style&gt;#map {position:absolute;top:0;bottom:0;right:0;left:0;}&lt;/style&gt;\n",
       "    &lt;script src=&quot;https://cdn.jsdelivr.net/npm/leaflet@1.9.3/dist/leaflet.js&quot;&gt;&lt;/script&gt;\n",
       "    &lt;script src=&quot;https://code.jquery.com/jquery-3.7.1.min.js&quot;&gt;&lt;/script&gt;\n",
       "    &lt;script src=&quot;https://cdn.jsdelivr.net/npm/bootstrap@5.2.2/dist/js/bootstrap.bundle.min.js&quot;&gt;&lt;/script&gt;\n",
       "    &lt;script src=&quot;https://cdnjs.cloudflare.com/ajax/libs/Leaflet.awesome-markers/2.0.2/leaflet.awesome-markers.js&quot;&gt;&lt;/script&gt;\n",
       "    &lt;link rel=&quot;stylesheet&quot; href=&quot;https://cdn.jsdelivr.net/npm/leaflet@1.9.3/dist/leaflet.css&quot;/&gt;\n",
       "    &lt;link rel=&quot;stylesheet&quot; href=&quot;https://cdn.jsdelivr.net/npm/bootstrap@5.2.2/dist/css/bootstrap.min.css&quot;/&gt;\n",
       "    &lt;link rel=&quot;stylesheet&quot; href=&quot;https://netdna.bootstrapcdn.com/bootstrap/3.0.0/css/bootstrap.min.css&quot;/&gt;\n",
       "    &lt;link rel=&quot;stylesheet&quot; href=&quot;https://cdn.jsdelivr.net/npm/@fortawesome/fontawesome-free@6.2.0/css/all.min.css&quot;/&gt;\n",
       "    &lt;link rel=&quot;stylesheet&quot; href=&quot;https://cdnjs.cloudflare.com/ajax/libs/Leaflet.awesome-markers/2.0.2/leaflet.awesome-markers.css&quot;/&gt;\n",
       "    &lt;link rel=&quot;stylesheet&quot; href=&quot;https://cdn.jsdelivr.net/gh/python-visualization/folium/folium/templates/leaflet.awesome.rotate.min.css&quot;/&gt;\n",
       "    \n",
       "            &lt;meta name=&quot;viewport&quot; content=&quot;width=device-width,\n",
       "                initial-scale=1.0, maximum-scale=1.0, user-scalable=no&quot; /&gt;\n",
       "            &lt;style&gt;\n",
       "                #map_a72aee2d0df39f5f127d71f40e5847f0 {\n",
       "                    position: relative;\n",
       "                    width: 100.0%;\n",
       "                    height: 100.0%;\n",
       "                    left: 0.0%;\n",
       "                    top: 0.0%;\n",
       "                }\n",
       "                .leaflet-container { font-size: 1rem; }\n",
       "            &lt;/style&gt;\n",
       "        \n",
       "    \n",
       "                    &lt;style&gt;\n",
       "                        .foliumtooltip {\n",
       "                            \n",
       "                        }\n",
       "                       .foliumtooltip table{\n",
       "                            margin: auto;\n",
       "                        }\n",
       "                        .foliumtooltip tr{\n",
       "                            text-align: left;\n",
       "                        }\n",
       "                        .foliumtooltip th{\n",
       "                            padding: 2px; padding-right: 8px;\n",
       "                        }\n",
       "                    &lt;/style&gt;\n",
       "            \n",
       "&lt;/head&gt;\n",
       "&lt;body&gt;\n",
       "    \n",
       "    \n",
       "            &lt;div class=&quot;folium-map&quot; id=&quot;map_a72aee2d0df39f5f127d71f40e5847f0&quot; &gt;&lt;/div&gt;\n",
       "        \n",
       "&lt;/body&gt;\n",
       "&lt;script&gt;\n",
       "    \n",
       "    \n",
       "            var map_a72aee2d0df39f5f127d71f40e5847f0 = L.map(\n",
       "                &quot;map_a72aee2d0df39f5f127d71f40e5847f0&quot;,\n",
       "                {\n",
       "                    center: [33.23489887972436, -87.61442342277924],\n",
       "                    crs: L.CRS.EPSG3857,\n",
       "                    zoom: 10,\n",
       "                    zoomControl: true,\n",
       "                    preferCanvas: false,\n",
       "                }\n",
       "            );\n",
       "            L.control.scale().addTo(map_a72aee2d0df39f5f127d71f40e5847f0);\n",
       "\n",
       "            \n",
       "\n",
       "        \n",
       "    \n",
       "            var tile_layer_9be552356854295f2e934f08e7232338 = L.tileLayer(\n",
       "                &quot;https://tile.openstreetmap.org/{z}/{x}/{y}.png&quot;,\n",
       "                {&quot;attribution&quot;: &quot;\\u0026copy; \\u003ca href=\\&quot;https://www.openstreetmap.org/copyright\\&quot;\\u003eOpenStreetMap\\u003c/a\\u003e contributors&quot;, &quot;detectRetina&quot;: false, &quot;maxNativeZoom&quot;: 19, &quot;maxZoom&quot;: 19, &quot;minZoom&quot;: 0, &quot;noWrap&quot;: false, &quot;opacity&quot;: 1, &quot;subdomains&quot;: &quot;abc&quot;, &quot;tms&quot;: false}\n",
       "            );\n",
       "        \n",
       "    \n",
       "            tile_layer_9be552356854295f2e934f08e7232338.addTo(map_a72aee2d0df39f5f127d71f40e5847f0);\n",
       "        \n",
       "    \n",
       "            map_a72aee2d0df39f5f127d71f40e5847f0.fitBounds(\n",
       "                [[33.233618383754276, -87.61887163650094], [33.23617937569445, -87.60997520905754]],\n",
       "                {}\n",
       "            );\n",
       "        \n",
       "    \n",
       "        function geo_json_52b1bb0de77f12fa4b42a773747d4dcb_styler(feature) {\n",
       "            switch(feature.id) {\n",
       "                default:\n",
       "                    return {&quot;fillOpacity&quot;: 0.5, &quot;weight&quot;: 2};\n",
       "            }\n",
       "        }\n",
       "        function geo_json_52b1bb0de77f12fa4b42a773747d4dcb_highlighter(feature) {\n",
       "            switch(feature.id) {\n",
       "                default:\n",
       "                    return {&quot;fillOpacity&quot;: 0.75};\n",
       "            }\n",
       "        }\n",
       "        function geo_json_52b1bb0de77f12fa4b42a773747d4dcb_pointToLayer(feature, latlng) {\n",
       "            var opts = {&quot;bubblingMouseEvents&quot;: true, &quot;color&quot;: &quot;#3388ff&quot;, &quot;dashArray&quot;: null, &quot;dashOffset&quot;: null, &quot;fill&quot;: true, &quot;fillColor&quot;: &quot;#3388ff&quot;, &quot;fillOpacity&quot;: 0.2, &quot;fillRule&quot;: &quot;evenodd&quot;, &quot;lineCap&quot;: &quot;round&quot;, &quot;lineJoin&quot;: &quot;round&quot;, &quot;opacity&quot;: 1.0, &quot;radius&quot;: 2, &quot;stroke&quot;: true, &quot;weight&quot;: 3};\n",
       "            \n",
       "            let style = geo_json_52b1bb0de77f12fa4b42a773747d4dcb_styler(feature)\n",
       "            Object.assign(opts, style)\n",
       "            \n",
       "            return new L.CircleMarker(latlng, opts)\n",
       "        }\n",
       "\n",
       "        function geo_json_52b1bb0de77f12fa4b42a773747d4dcb_onEachFeature(feature, layer) {\n",
       "            layer.on({\n",
       "                mouseout: function(e) {\n",
       "                    if(typeof e.target.setStyle === &quot;function&quot;){\n",
       "                            geo_json_52b1bb0de77f12fa4b42a773747d4dcb.resetStyle(e.target);\n",
       "                    }\n",
       "                },\n",
       "                mouseover: function(e) {\n",
       "                    if(typeof e.target.setStyle === &quot;function&quot;){\n",
       "                        const highlightStyle = geo_json_52b1bb0de77f12fa4b42a773747d4dcb_highlighter(e.target.feature)\n",
       "                        e.target.setStyle(highlightStyle);\n",
       "                    }\n",
       "                },\n",
       "            });\n",
       "        };\n",
       "        var geo_json_52b1bb0de77f12fa4b42a773747d4dcb = L.geoJson(null, {\n",
       "                onEachFeature: geo_json_52b1bb0de77f12fa4b42a773747d4dcb_onEachFeature,\n",
       "            \n",
       "                style: geo_json_52b1bb0de77f12fa4b42a773747d4dcb_styler,\n",
       "                pointToLayer: geo_json_52b1bb0de77f12fa4b42a773747d4dcb_pointToLayer,\n",
       "        });\n",
       "\n",
       "        function geo_json_52b1bb0de77f12fa4b42a773747d4dcb_add (data) {\n",
       "            geo_json_52b1bb0de77f12fa4b42a773747d4dcb\n",
       "                .addData(data);\n",
       "        }\n",
       "            geo_json_52b1bb0de77f12fa4b42a773747d4dcb_add({&quot;bbox&quot;: [-87.61887163650094, 33.233618383754276, -87.60997520905754, 33.23617937569445], &quot;features&quot;: [{&quot;bbox&quot;: [-87.61331679467374, 33.23531844901764, -87.61326346425594, 33.235467830408794], &quot;geometry&quot;: {&quot;coordinates&quot;: [[-87.61331679467374, 33.235467830408794], [-87.61326346425594, 33.23531844901764]], &quot;type&quot;: &quot;LineString&quot;}, &quot;id&quot;: &quot;0&quot;, &quot;properties&quot;: {&quot;id&quot;: null, &quot;layer&quot;: null, &quot;name&quot;: &quot;Walmart_SBLT&quot;, &quot;path&quot;: null}, &quot;type&quot;: &quot;Feature&quot;}, {&quot;bbox&quot;: [-87.61208988500417, 33.235598279574624, -87.61206135943185, 33.23569060530797], &quot;geometry&quot;: {&quot;coordinates&quot;: [[-87.61208988500417, 33.23569060530797], [-87.61206135943185, 33.235598279574624]], &quot;type&quot;: &quot;LineString&quot;}, &quot;id&quot;: &quot;1&quot;, &quot;properties&quot;: {&quot;id&quot;: null, &quot;layer&quot;: null, &quot;name&quot;: &quot;Walmart2_SBLT&quot;, &quot;path&quot;: null}, &quot;type&quot;: &quot;Feature&quot;}, {&quot;bbox&quot;: [-87.61215313736015, 33.235578569573974, -87.61210972888055, 33.23569371740965], &quot;geometry&quot;: {&quot;coordinates&quot;: [[-87.61215313736015, 33.23569371740965], [-87.61212461178783, 33.23565740954991], [-87.61211096912282, 33.23563769956259], [-87.61210972888055, 33.235607615889165], [-87.61211965081874, 33.235578569573974]], &quot;type&quot;: &quot;LineString&quot;}, &quot;id&quot;: &quot;2&quot;, &quot;properties&quot;: {&quot;id&quot;: null, &quot;layer&quot;: null, &quot;name&quot;: &quot;Walmart2_SBRT&quot;, &quot;path&quot;: null}, &quot;type&quot;: &quot;Feature&quot;}, {&quot;bbox&quot;: [-87.61887163650094, 33.233735812110076, -87.61857164468111, 33.23380626904787], &quot;geometry&quot;: {&quot;coordinates&quot;: [[-87.61887163650094, 33.233735812110076], [-87.61857164468111, 33.23380626904787]], &quot;type&quot;: &quot;LineString&quot;}, &quot;id&quot;: &quot;3&quot;, &quot;properties&quot;: {&quot;id&quot;: null, &quot;layer&quot;: &quot;Airport_Mini_Lanes&quot;, &quot;name&quot;: &quot;Airport_EB1&quot;, &quot;path&quot;: &quot;/Users/max/Desktop/Airport_Mini_Lanes.geojson&quot;}, &quot;type&quot;: &quot;Feature&quot;}, {&quot;bbox&quot;: [-87.61886276974766, 33.23377413080261, -87.61858568370715, 33.233835317067076], &quot;geometry&quot;: {&quot;coordinates&quot;: [[-87.61886276974766, 33.23377413080261], [-87.61858568370715, 33.233835317067076]], &quot;type&quot;: &quot;LineString&quot;}, &quot;id&quot;: &quot;4&quot;, &quot;properties&quot;: {&quot;id&quot;: null, &quot;layer&quot;: &quot;Airport_Mini_Lanes&quot;, &quot;name&quot;: &quot;Airport_EB2&quot;, &quot;path&quot;: &quot;/Users/max/Desktop/Airport_Mini_Lanes.geojson&quot;}, &quot;type&quot;: &quot;Feature&quot;}, {&quot;bbox&quot;: [-87.61872311838323, 33.233618383754276, -87.61843716558943, 33.23371541667013], &quot;geometry&quot;: {&quot;coordinates&quot;: [[-87.61872311838323, 33.23371541667013], [-87.6186381453308, 33.23371047232033], [-87.61855391117449, 33.23368945883057], [-87.6184992328625, 33.23365855663057], [-87.61843716558943, 33.233618383754276]], &quot;type&quot;: &quot;LineString&quot;}, &quot;id&quot;: &quot;5&quot;, &quot;properties&quot;: {&quot;id&quot;: null, &quot;layer&quot;: &quot;Airport_Mini_Lanes&quot;, &quot;name&quot;: &quot;Airport_EBR&quot;, &quot;path&quot;: &quot;/Users/max/Desktop/Airport_Mini_Lanes.geojson&quot;}, &quot;type&quot;: &quot;Feature&quot;}, {&quot;bbox&quot;: [-87.61820293552317, 33.23369625731309, -87.61806587029515, 33.23388105222676], &quot;geometry&quot;: {&quot;coordinates&quot;: [[-87.61820293552317, 33.23369625731309], [-87.61817485747108, 33.233766714282744], [-87.61812904591237, 33.23383346293849], [-87.61806587029515, 33.23388105222676]], &quot;type&quot;: &quot;LineString&quot;}, &quot;id&quot;: &quot;6&quot;, &quot;properties&quot;: {&quot;id&quot;: null, &quot;layer&quot;: &quot;Airport_Mini_Lanes&quot;, &quot;name&quot;: &quot;Airport_NBR&quot;, &quot;path&quot;: &quot;/Users/max/Desktop/Airport_Mini_Lanes.geojson&quot;}, &quot;type&quot;: &quot;Feature&quot;}, {&quot;bbox&quot;: [-87.61835182308899, 33.23368266034751, -87.61830083925749, 33.233810595349226], &quot;geometry&quot;: {&quot;coordinates&quot;: [[-87.61830083925749, 33.23368266034751], [-87.61835182308899, 33.233810595349226]], &quot;type&quot;: &quot;LineString&quot;}, &quot;id&quot;: &quot;7&quot;, &quot;properties&quot;: {&quot;id&quot;: null, &quot;layer&quot;: &quot;Airport_Mini_Lanes&quot;, &quot;name&quot;: &quot;Airport_NB&quot;, &quot;path&quot;: &quot;/Users/max/Desktop/Airport_Mini_Lanes.geojson&quot;}, &quot;type&quot;: &quot;Feature&quot;}, {&quot;bbox&quot;: [-87.61825022487409, 33.234004660646704, -87.61785565435241, 33.23409056839562], &quot;geometry&quot;: {&quot;coordinates&quot;: [[-87.61785565435241, 33.23409056839562], [-87.61825022487409, 33.234004660646704]], &quot;type&quot;: &quot;LineString&quot;}, &quot;id&quot;: &quot;8&quot;, &quot;properties&quot;: {&quot;id&quot;: null, &quot;layer&quot;: &quot;Airport_Mini_Lanes&quot;, &quot;name&quot;: &quot;Airport_WBL&quot;, &quot;path&quot;: &quot;/Users/max/Desktop/Airport_Mini_Lanes.geojson&quot;}, &quot;type&quot;: &quot;Feature&quot;}, {&quot;bbox&quot;: [-87.61826537224437, 33.23403154545489, -87.6178781906837, 33.234121779460615], &quot;geometry&quot;: {&quot;coordinates&quot;: [[-87.6178781906837, 33.234121779460615], [-87.61824874708194, 33.23403339957928], [-87.61826537224437, 33.23403154545489]], &quot;type&quot;: &quot;LineString&quot;}, &quot;id&quot;: &quot;9&quot;, &quot;properties&quot;: {&quot;id&quot;: null, &quot;layer&quot;: &quot;Airport_Mini_Lanes&quot;, &quot;name&quot;: &quot;Airport_WB2&quot;, &quot;path&quot;: &quot;/Users/max/Desktop/Airport_Mini_Lanes.geojson&quot;}, &quot;type&quot;: &quot;Feature&quot;}, {&quot;bbox&quot;: [-87.61827719458209, 33.234059975358036, -87.61788816578117, 33.23415422659865], &quot;geometry&quot;: {&quot;coordinates&quot;: [[-87.61788816578117, 33.23415422659865], [-87.61827719458209, 33.234059975358036]], &quot;type&quot;: &quot;LineString&quot;}, &quot;id&quot;: &quot;10&quot;, &quot;properties&quot;: {&quot;id&quot;: null, &quot;layer&quot;: &quot;Airport_Mini_Lanes&quot;, &quot;name&quot;: &quot;Aiport_WB1&quot;, &quot;path&quot;: &quot;/Users/max/Desktop/Airport_Mini_Lanes.geojson&quot;}, &quot;type&quot;: &quot;Feature&quot;}, {&quot;bbox&quot;: [-87.61464116564629, 33.234656554743914, -87.61447759818196, 33.23468695767586], &quot;geometry&quot;: {&quot;coordinates&quot;: [[-87.61464116564629, 33.23467859687063], [-87.614558473206, 33.23468695767586], [-87.61451758133994, 33.23467935694386], [-87.6144885026796, 33.2346671957713], [-87.61447759818196, 33.234656554743914]], &quot;type&quot;: &quot;LineString&quot;}, &quot;id&quot;: &quot;11&quot;, &quot;properties&quot;: {&quot;id&quot;: null, &quot;layer&quot;: &quot;Airport_Mini_Lanes&quot;, &quot;name&quot;: &quot;Lowes_EBR&quot;, &quot;path&quot;: &quot;/Users/max/Desktop/Airport_Mini_Lanes.geojson&quot;}, &quot;type&quot;: &quot;Feature&quot;}, {&quot;bbox&quot;: [-87.61485834689059, 33.23466491555125, -87.61459573023954, 33.23472344118025], &quot;geometry&quot;: {&quot;coordinates&quot;: [[-87.61485834689059, 33.23466491555125], [-87.61459573023954, 33.23472344118025]], &quot;type&quot;: &quot;LineString&quot;}, &quot;id&quot;: &quot;12&quot;, &quot;properties&quot;: {&quot;id&quot;: null, &quot;layer&quot;: &quot;Airport_Mini_Lanes&quot;, &quot;name&quot;: &quot;Lowes_EB1&quot;, &quot;path&quot;: &quot;/Users/max/Desktop/Airport_Mini_Lanes.geojson&quot;}, &quot;type&quot;: &quot;Feature&quot;}, {&quot;bbox&quot;: [-87.61482199856515, 33.234708999794925, -87.6146075434453, 33.23475916459688], &quot;geometry&quot;: {&quot;coordinates&quot;: [[-87.61482199856515, 33.234708999794925], [-87.6146075434453, 33.23475916459688]], &quot;type&quot;: &quot;LineString&quot;}, &quot;id&quot;: &quot;13&quot;, &quot;properties&quot;: {&quot;id&quot;: null, &quot;layer&quot;: &quot;Airport_Mini_Lanes&quot;, &quot;name&quot;: &quot;Lowes_EB2&quot;, &quot;path&quot;: &quot;/Users/max/Desktop/Airport_Mini_Lanes.geojson&quot;}, &quot;type&quot;: &quot;Feature&quot;}, {&quot;bbox&quot;: [-87.61484108143601, 33.23474168292674, -87.61461753923479, 33.23479032756542], &quot;geometry&quot;: {&quot;coordinates&quot;: [[-87.61484108143601, 33.23474168292674], [-87.61472022325405, 33.234767525394425], [-87.61461753923479, 33.23479032756542]], &quot;type&quot;: &quot;LineString&quot;}, &quot;id&quot;: &quot;14&quot;, &quot;properties&quot;: {&quot;id&quot;: null, &quot;layer&quot;: &quot;Airport_Mini_Lanes&quot;, &quot;name&quot;: &quot;Lowes_EBL&quot;, &quot;path&quot;: &quot;/Users/max/Desktop/Airport_Mini_Lanes.geojson&quot;}, &quot;type&quot;: &quot;Feature&quot;}, {&quot;bbox&quot;: [-87.61431540499714, 33.23470443337905, -87.61426318545983, 33.234772533513535], &quot;geometry&quot;: {&quot;coordinates&quot;: [[-87.61431540499714, 33.23470443337905], [-87.6143075864933, 33.23472583586959], [-87.61429734922955, 33.23474681541126], [-87.61428292452678, 33.23476046823193], [-87.61426318545983, 33.234772533513535]], &quot;type&quot;: &quot;LineString&quot;}, &quot;id&quot;: &quot;15&quot;, &quot;properties&quot;: {&quot;id&quot;: null, &quot;layer&quot;: &quot;Airport_Mini_Lanes&quot;, &quot;name&quot;: &quot;Lowes_NBR&quot;, &quot;path&quot;: &quot;/Users/max/Desktop/Airport_Mini_Lanes.geojson&quot;}, &quot;type&quot;: &quot;Feature&quot;}, {&quot;bbox&quot;: [-87.61436444833936, 33.23467768025853, -87.6143481005586, 33.2347448603012], &quot;geometry&quot;: {&quot;coordinates&quot;: [[-87.6143481005586, 33.23467768025853], [-87.61436444833936, 33.2347448603012]], &quot;type&quot;: &quot;LineString&quot;}, &quot;id&quot;: &quot;16&quot;, &quot;properties&quot;: {&quot;id&quot;: null, &quot;layer&quot;: &quot;Airport_Mini_Lanes&quot;, &quot;name&quot;: &quot;Lowes_NBS&quot;, &quot;path&quot;: &quot;/Users/max/Desktop/Airport_Mini_Lanes.geojson&quot;}, &quot;type&quot;: &quot;Feature&quot;}, {&quot;bbox&quot;: [-87.61439074694316, 33.234542725503516, -87.61435876215474, 33.234668762549866], &quot;geometry&quot;: {&quot;coordinates&quot;: [[-87.61435876215474, 33.234542725503516], [-87.61439074694316, 33.234668762549866]], &quot;type&quot;: &quot;LineString&quot;}, &quot;id&quot;: &quot;17&quot;, &quot;properties&quot;: {&quot;id&quot;: null, &quot;layer&quot;: &quot;Airport_Mini_Lanes&quot;, &quot;name&quot;: &quot;Lowes_NBL&quot;, &quot;path&quot;: &quot;/Users/max/Desktop/Airport_Mini_Lanes.geojson&quot;}, &quot;type&quot;: &quot;Feature&quot;}, {&quot;bbox&quot;: [-87.61431951489631, 33.234980929318645, -87.61408780351807, 33.23503526864211], &quot;geometry&quot;: {&quot;coordinates&quot;: [[-87.61408780351807, 33.23503526864211], [-87.61431951489631, 33.234980929318645]], &quot;type&quot;: &quot;LineString&quot;}, &quot;id&quot;: &quot;18&quot;, &quot;properties&quot;: {&quot;id&quot;: null, &quot;layer&quot;: &quot;Airport_Mini_Lanes&quot;, &quot;name&quot;: &quot;Lowes_WBL1&quot;, &quot;path&quot;: &quot;/Users/max/Desktop/Airport_Mini_Lanes.geojson&quot;}, &quot;type&quot;: &quot;Feature&quot;}, {&quot;bbox&quot;: [-87.6143057998926, 33.23494953324968, -87.61406903561827, 33.23500206128177], &quot;geometry&quot;: {&quot;coordinates&quot;: [[-87.61406903561827, 33.23500206128177], [-87.6143057998926, 33.23494953324968]], &quot;type&quot;: &quot;LineString&quot;}, &quot;id&quot;: &quot;19&quot;, &quot;properties&quot;: {&quot;id&quot;: null, &quot;layer&quot;: &quot;Airport_Mini_Lanes&quot;, &quot;name&quot;: &quot;Lowes_WBL2&quot;, &quot;path&quot;: &quot;/Users/max/Desktop/Airport_Mini_Lanes.geojson&quot;}, &quot;type&quot;: &quot;Feature&quot;}, {&quot;bbox&quot;: [-87.61429785962731, 33.2349169296277, -87.61404954587618, 33.234973684072926], &quot;geometry&quot;: {&quot;coordinates&quot;: [[-87.61404954587618, 33.234973684072926], [-87.61429785962731, 33.2349169296277]], &quot;type&quot;: &quot;LineString&quot;}, &quot;id&quot;: &quot;20&quot;, &quot;properties&quot;: {&quot;id&quot;: null, &quot;layer&quot;: &quot;Airport_Mini_Lanes&quot;, &quot;name&quot;: &quot;Lowes_WBL&quot;, &quot;path&quot;: &quot;/Users/max/Desktop/Airport_Mini_Lanes.geojson&quot;}, &quot;type&quot;: &quot;Feature&quot;}, {&quot;bbox&quot;: [-87.61442921965597, 33.23501513996824, -87.61425540209267, 33.235030294222746], &quot;geometry&quot;: {&quot;coordinates&quot;: [[-87.61425540209267, 33.23502745280022], [-87.61431654963937, 33.235017034250184], [-87.61434089542186, 33.23501513996824], [-87.61438052809103, 33.235015613538735], [-87.6143997782446, 33.23502129638443], [-87.61442921965597, 33.235030294222746]], &quot;type&quot;: &quot;LineString&quot;}, &quot;id&quot;: &quot;21&quot;, &quot;properties&quot;: {&quot;id&quot;: &quot;Lowes&quot;, &quot;layer&quot;: &quot;Airport_Mini_Lanes&quot;, &quot;name&quot;: &quot;Lowes_WBR&quot;, &quot;path&quot;: &quot;/Users/max/Desktop/Airport_Mini_Lanes.geojson&quot;}, &quot;type&quot;: &quot;Feature&quot;}, {&quot;bbox&quot;: [-87.61457498250387, 33.23502774595577, -87.61451363964285, 33.23519040616484], &quot;geometry&quot;: {&quot;coordinates&quot;: [[-87.61457498250387, 33.23519040616484], [-87.61451363964285, 33.23502774595577]], &quot;type&quot;: &quot;LineString&quot;}, &quot;id&quot;: &quot;22&quot;, &quot;properties&quot;: {&quot;id&quot;: null, &quot;layer&quot;: &quot;Airport_Mini_Lanes&quot;, &quot;name&quot;: &quot;Lowes_SBL&quot;, &quot;path&quot;: &quot;/Users/max/Desktop/Airport_Mini_Lanes.geojson&quot;}, &quot;type&quot;: &quot;Feature&quot;}, {&quot;bbox&quot;: [-87.6146102220198, 33.23502119587389, -87.61455083690966, 33.235180581060135], &quot;geometry&quot;: {&quot;coordinates&quot;: [[-87.6146102220198, 33.235180581060135], [-87.61455083690966, 33.23502119587389]], &quot;type&quot;: &quot;LineString&quot;}, &quot;id&quot;: &quot;23&quot;, &quot;properties&quot;: {&quot;id&quot;: null, &quot;layer&quot;: &quot;Airport_Mini_Lanes&quot;, &quot;name&quot;: &quot;Lowes_SBS&quot;, &quot;path&quot;: &quot;/Users/max/Desktop/Airport_Mini_Lanes.geojson&quot;}, &quot;type&quot;: &quot;Feature&quot;}, {&quot;bbox&quot;: [-87.61462392627598, 33.23496279095553, -87.61459978068171, 33.23509324674749], &quot;geometry&quot;: {&quot;coordinates&quot;: [[-87.61461348493795, 33.23509324674749], [-87.6146056539344, 33.235053400438375], [-87.61459978068171, 33.23502501675506], [-87.6146004332654, 33.23500482066707], [-87.61460826426891, 33.23497971201066], [-87.61462392627598, 33.23496279095553]], &quot;type&quot;: &quot;LineString&quot;}, &quot;id&quot;: &quot;24&quot;, &quot;properties&quot;: {&quot;id&quot;: null, &quot;layer&quot;: &quot;Airport_Mini_Lanes&quot;, &quot;name&quot;: &quot;Lowes_SBRT&quot;, &quot;path&quot;: &quot;/Users/max/Desktop/Airport_Mini_Lanes.geojson&quot;}, &quot;type&quot;: &quot;Feature&quot;}, {&quot;bbox&quot;: [-87.61434581581399, 33.23448604087227, -87.61430797552937, 33.234668349997655], &quot;geometry&quot;: {&quot;coordinates&quot;: [[-87.61430797552937, 33.23448604087227], [-87.61434581581399, 33.234668349997655]], &quot;type&quot;: &quot;LineString&quot;}, &quot;id&quot;: &quot;25&quot;, &quot;properties&quot;: {&quot;id&quot;: &quot;&quot;, &quot;layer&quot;: &quot;Airport_Mini_Lanes&quot;, &quot;name&quot;: &quot;Lowes_NB&quot;, &quot;path&quot;: &quot;/Users/max/Desktop/Airport_Mini_Lanes.geojson&quot;}, &quot;type&quot;: &quot;Feature&quot;}, {&quot;bbox&quot;: [-87.6122511187582, 33.2353370494441, -87.61202739738673, 33.23540686563786], &quot;geometry&quot;: {&quot;coordinates&quot;: [[-87.6122511187582, 33.2353370494441], [-87.6121415293554, 33.235359371634566], [-87.61207452650812, 33.23538264369942], [-87.61202739738673, 33.23540686563786]], &quot;type&quot;: &quot;LineString&quot;}, &quot;id&quot;: &quot;26&quot;, &quot;properties&quot;: {&quot;id&quot;: null, &quot;layer&quot;: &quot;Airport_Mini_Lanes&quot;, &quot;name&quot;: &quot;Walmart2_EBLT&quot;, &quot;path&quot;: &quot;/Users/max/Desktop/Airport_Mini_Lanes.geojson&quot;}, &quot;type&quot;: &quot;Feature&quot;}, {&quot;bbox&quot;: [-87.6119438344229, 33.235593386167, -87.61166953297378, 33.235643082682884], &quot;geometry&quot;: {&quot;coordinates&quot;: [[-87.61166953297378, 33.235643082682884], [-87.61176855876768, 33.23562071925423], [-87.61184876966075, 33.23560001237074], [-87.6119062046212, 33.235593386167], [-87.6119438344229, 33.23559752754442]], &quot;type&quot;: &quot;LineString&quot;}, &quot;id&quot;: &quot;27&quot;, &quot;properties&quot;: {&quot;id&quot;: null, &quot;layer&quot;: &quot;Airport_Mini_Lanes&quot;, &quot;name&quot;: &quot;Walmart2_WBRT&quot;, &quot;path&quot;: &quot;/Users/max/Desktop/Airport_Mini_Lanes.geojson&quot;}, &quot;type&quot;: &quot;Feature&quot;}, {&quot;bbox&quot;: [-87.610707804285, 33.235536397183964, -87.6105383714135, 33.235587189836146], &quot;geometry&quot;: {&quot;coordinates&quot;: [[-87.610707804285, 33.235587189836146], [-87.610655325077, 33.23558530862733], [-87.61061259200763, 33.235572767234196], [-87.6105721080472, 33.23555834462989], [-87.6105383714135, 33.235536397183964]], &quot;type&quot;: &quot;LineString&quot;}, &quot;id&quot;: &quot;28&quot;, &quot;properties&quot;: {&quot;id&quot;: null, &quot;layer&quot;: &quot;Airport_Mini_Lanes&quot;, &quot;name&quot;: &quot;Harper_EBR&quot;, &quot;path&quot;: &quot;/Users/max/Desktop/Airport_Mini_Lanes.geojson&quot;}, &quot;type&quot;: &quot;Feature&quot;}, {&quot;bbox&quot;: [-87.6108142621069, 33.23560035829669, -87.61059459913633, 33.23565177798086], &quot;geometry&quot;: {&quot;coordinates&quot;: [[-87.6108142621069, 33.23560035829669], [-87.61059459913633, 33.23565177798086]], &quot;type&quot;: &quot;LineString&quot;}, &quot;id&quot;: &quot;29&quot;, &quot;properties&quot;: {&quot;id&quot;: null, &quot;layer&quot;: &quot;Airport_Mini_Lanes&quot;, &quot;name&quot;: &quot;Harper_EBL1&quot;, &quot;path&quot;: &quot;/Users/max/Desktop/Airport_Mini_Lanes.geojson&quot;}, &quot;type&quot;: &quot;Feature&quot;}, {&quot;bbox&quot;: [-87.61081801062178, 33.23563484711261, -87.61060509497793, 33.23568501263869], &quot;geometry&quot;: {&quot;coordinates&quot;: [[-87.61081801062178, 33.23563484711261], [-87.61060509497793, 33.23568501263869]], &quot;type&quot;: &quot;LineString&quot;}, &quot;id&quot;: &quot;30&quot;, &quot;properties&quot;: {&quot;id&quot;: null, &quot;layer&quot;: &quot;Airport_Mini_Lanes&quot;, &quot;name&quot;: &quot;Harper_EBL2&quot;, &quot;path&quot;: &quot;/Users/max/Desktop/Airport_Mini_Lanes.geojson&quot;}, &quot;type&quot;: &quot;Feature&quot;}, {&quot;bbox&quot;: [-87.61081351240394, 33.23567121712188, -87.61056835953237, 33.23572953451899], &quot;geometry&quot;: {&quot;coordinates&quot;: [[-87.61081351240394, 33.23567121712188], [-87.6106163405225, 33.2357157390092], [-87.61056835953237, 33.23572953451899]], &quot;type&quot;: &quot;LineString&quot;}, &quot;id&quot;: &quot;31&quot;, &quot;properties&quot;: {&quot;id&quot;: null, &quot;layer&quot;: &quot;Airport_Mini_Lanes&quot;, &quot;name&quot;: &quot;Harper_EBLT&quot;, &quot;path&quot;: &quot;/Users/max/Desktop/Airport_Mini_Lanes.geojson&quot;}, &quot;type&quot;: &quot;Feature&quot;}, {&quot;bbox&quot;: [-87.61034770824833, 33.23561552693882, -87.61026225579262, 33.2357014568728], &quot;geometry&quot;: {&quot;coordinates&quot;: [[-87.61034770824833, 33.23561552693882], [-87.61032178446963, 33.23564925645568], [-87.61029586069094, 33.23567656129313], [-87.61026225579262, 33.2357014568728]], &quot;type&quot;: &quot;LineString&quot;}, &quot;id&quot;: &quot;32&quot;, &quot;properties&quot;: {&quot;id&quot;: null, &quot;layer&quot;: &quot;Airport_Mini_Lanes&quot;, &quot;name&quot;: &quot;Harper_NBRT&quot;, &quot;path&quot;: &quot;/Users/max/Desktop/Airport_Mini_Lanes.geojson&quot;}, &quot;type&quot;: &quot;Feature&quot;}, {&quot;bbox&quot;: [-87.61038995440622, 33.235587418998165, -87.61038227328658, 33.235676561293126], &quot;geometry&quot;: {&quot;coordinates&quot;: [[-87.61038227328658, 33.235587418998165], [-87.61038995440622, 33.235676561293126]], &quot;type&quot;: &quot;LineString&quot;}, &quot;id&quot;: &quot;33&quot;, &quot;properties&quot;: {&quot;id&quot;: &quot;&quot;, &quot;layer&quot;: &quot;Airport_Mini_Lanes&quot;, &quot;name&quot;: &quot;Harper_NBS&quot;, &quot;path&quot;: &quot;/Users/max/Desktop/Airport_Mini_Lanes.geojson&quot;}, &quot;type&quot;: &quot;Feature&quot;}, {&quot;bbox&quot;: [-87.61038131314662, 33.23536657057862, -87.61037075160715, 33.23557537273513], &quot;geometry&quot;: {&quot;coordinates&quot;: [[-87.61037075160715, 33.23536657057862], [-87.61038131314662, 33.23557537273513]], &quot;type&quot;: &quot;LineString&quot;}, &quot;id&quot;: &quot;34&quot;, &quot;properties&quot;: {&quot;id&quot;: null, &quot;layer&quot;: &quot;Airport_Mini_Lanes&quot;, &quot;name&quot;: &quot;Harper_NBS&quot;, &quot;path&quot;: &quot;/Users/max/Desktop/Airport_Mini_Lanes.geojson&quot;}, &quot;type&quot;: &quot;Feature&quot;}, {&quot;bbox&quot;: [-87.61042304286721, 33.235366984892075, -87.6104088408863, 33.23563228010975], &quot;geometry&quot;: {&quot;coordinates&quot;: [[-87.6104088408863, 33.235366984892075], [-87.61042304286721, 33.23563228010975]], &quot;type&quot;: &quot;LineString&quot;}, &quot;id&quot;: &quot;35&quot;, &quot;properties&quot;: {&quot;id&quot;: null, &quot;layer&quot;: &quot;Airport_Mini_Lanes&quot;, &quot;name&quot;: &quot;Harper_NBL&quot;, &quot;path&quot;: &quot;/Users/max/Desktop/Airport_Mini_Lanes.geojson&quot;}, &quot;type&quot;: &quot;Feature&quot;}, {&quot;bbox&quot;: [-87.61037177275948, 33.23595656487476, -87.61021649451078, 33.23599005146291], &quot;geometry&quot;: {&quot;coordinates&quot;: [[-87.61021649451078, 33.23596188517469], [-87.6102494209828, 33.23595844262771], [-87.61027187085008, 33.23595656487476], [-87.61029432071737, 33.2359584426277], [-87.61031639642019, 33.23596251109229], [-87.6103362271363, 33.23597002210332], [-87.61036017366139, 33.23598191453613], [-87.61037177275948, 33.23599005146291]], &quot;type&quot;: &quot;LineString&quot;}, &quot;id&quot;: &quot;36&quot;, &quot;properties&quot;: {&quot;id&quot;: null, &quot;layer&quot;: &quot;Airport_Mini_Lanes&quot;, &quot;name&quot;: &quot;Harper_WBRT&quot;, &quot;path&quot;: &quot;/Users/max/Desktop/Airport_Mini_Lanes.geojson&quot;}, &quot;type&quot;: &quot;Feature&quot;}, {&quot;bbox&quot;: [-87.61025569856507, 33.23592366988595, -87.60999718448384, 33.23598087051538], &quot;geometry&quot;: {&quot;coordinates&quot;: [[-87.60999718448384, 33.23598087051538], [-87.61025569856507, 33.23592366988595]], &quot;type&quot;: &quot;LineString&quot;}, &quot;id&quot;: &quot;37&quot;, &quot;properties&quot;: {&quot;id&quot;: null, &quot;layer&quot;: &quot;Airport_Mini_Lanes&quot;, &quot;name&quot;: &quot;Harper_WBL1&quot;, &quot;path&quot;: &quot;/Users/max/Desktop/Airport_Mini_Lanes.geojson&quot;}, &quot;type&quot;: &quot;Feature&quot;}, {&quot;bbox&quot;: [-87.6102430881221, 33.23589243264699, -87.60998651410901, 33.23595125600976], &quot;geometry&quot;: {&quot;coordinates&quot;: [[-87.60998651410901, 33.23595125600976], [-87.6102430881221, 33.23589243264699]], &quot;type&quot;: &quot;LineString&quot;}, &quot;id&quot;: &quot;38&quot;, &quot;properties&quot;: {&quot;id&quot;: null, &quot;layer&quot;: &quot;Airport_Mini_Lanes&quot;, &quot;name&quot;: &quot;Harper_WBL2&quot;, &quot;path&quot;: &quot;/Users/max/Desktop/Airport_Mini_Lanes.geojson&quot;}, &quot;type&quot;: &quot;Feature&quot;}, {&quot;bbox&quot;: [-87.61023192105489, 33.23586081105469, -87.60997520905754, 33.235922222553725], &quot;geometry&quot;: {&quot;coordinates&quot;: [[-87.60997520905754, 33.235922222553725], [-87.61023192105489, 33.23586081105469]], &quot;type&quot;: &quot;LineString&quot;}, &quot;id&quot;: &quot;39&quot;, &quot;properties&quot;: {&quot;id&quot;: null, &quot;layer&quot;: &quot;Airport_Mini_Lanes&quot;, &quot;name&quot;: &quot;Harper_WBLT&quot;, &quot;path&quot;: &quot;/Users/max/Desktop/Airport_Mini_Lanes.geojson&quot;}, &quot;type&quot;: &quot;Feature&quot;}, {&quot;bbox&quot;: [-87.61045220700926, 33.23601790591262, -87.61044435417347, 33.23617937569445], &quot;geometry&quot;: {&quot;coordinates&quot;: [[-87.61045220700926, 33.23617937569445], [-87.61044435417347, 33.23601790591262]], &quot;type&quot;: &quot;LineString&quot;}, &quot;id&quot;: &quot;40&quot;, &quot;properties&quot;: {&quot;id&quot;: null, &quot;layer&quot;: &quot;Airport_Mini_Lanes&quot;, &quot;name&quot;: &quot;Harper_SBL&quot;, &quot;path&quot;: &quot;/Users/max/Desktop/Airport_Mini_Lanes.geojson&quot;}, &quot;type&quot;: &quot;Feature&quot;}, {&quot;bbox&quot;: [-87.61048329115089, 33.2360138007448, -87.61047936473298, 33.236178007307714], &quot;geometry&quot;: {&quot;coordinates&quot;: [[-87.61048329115089, 33.236178007307714], [-87.61047936473298, 33.2360138007448]], &quot;type&quot;: &quot;LineString&quot;}, &quot;id&quot;: &quot;41&quot;, &quot;properties&quot;: {&quot;id&quot;: null, &quot;layer&quot;: &quot;Airport_Mini_Lanes&quot;, &quot;name&quot;: &quot;Harper_SBS&quot;, &quot;path&quot;: &quot;/Users/max/Desktop/Airport_Mini_Lanes.geojson&quot;}, &quot;type&quot;: &quot;Feature&quot;}, {&quot;bbox&quot;: [-87.61334430797409, 33.23527139386711, -87.6133172369645, 33.23540159059098], &quot;geometry&quot;: {&quot;coordinates&quot;: [[-87.61333415634549, 33.23540159059098], [-87.6133172369645, 33.23534026607128], [-87.61332174879938, 33.23531101897751], [-87.61334430797409, 33.23527139386711]], &quot;type&quot;: &quot;LineString&quot;}, &quot;id&quot;: &quot;42&quot;, &quot;properties&quot;: {&quot;id&quot;: null, &quot;layer&quot;: &quot;Airport_Mini_Lanes&quot;, &quot;name&quot;: &quot;Walmart_SBR&quot;, &quot;path&quot;: &quot;/Users/max/Desktop/Airport_Mini_Lanes.geojson&quot;}, &quot;type&quot;: &quot;Feature&quot;}, {&quot;bbox&quot;: [-87.61361478508621, 33.235019447124564, -87.61327156144687, 33.235133225103304], &quot;geometry&quot;: {&quot;coordinates&quot;: [[-87.61361478508621, 33.235019447124564], [-87.61333912515538, 33.23508650833524], [-87.61329948777971, 33.23511137371491], [-87.61327156144687, 33.235133225103304]], &quot;type&quot;: &quot;LineString&quot;}, &quot;id&quot;: &quot;43&quot;, &quot;properties&quot;: {&quot;id&quot;: null, &quot;layer&quot;: &quot;Airport_Mini_Lanes&quot;, &quot;name&quot;: &quot;Walmart_EBLT&quot;, &quot;path&quot;: &quot;/Users/max/Desktop/Airport_Mini_Lanes.geojson&quot;}, &quot;type&quot;: &quot;Feature&quot;}, {&quot;bbox&quot;: [-87.6131304661215, 33.23516328353193, -87.61288625247198, 33.23524396902322], &quot;geometry&quot;: {&quot;coordinates&quot;: [[-87.61288625247198, 33.23524396902322], [-87.61298760113651, 33.23522047831825], [-87.61305964416314, 33.235201072948506], [-87.61310360262006, 33.23518268891005], [-87.6131304661215, 33.23516328353193]], &quot;type&quot;: &quot;LineString&quot;}, &quot;id&quot;: &quot;44&quot;, &quot;properties&quot;: {&quot;id&quot;: null, &quot;layer&quot;: &quot;snap_lines&quot;, &quot;name&quot;: &quot;Walmart_WBL&quot;, &quot;path&quot;: &quot;/Users/max/Desktop/snap_lines.shp&quot;}, &quot;type&quot;: &quot;Feature&quot;}, {&quot;bbox&quot;: [-87.61319744171485, 33.235307461984085, -87.61296653770926, 33.23532719075261], &quot;geometry&quot;: {&quot;coordinates&quot;: [[-87.61296653770926, 33.23532719075261], [-87.61307081693761, 33.235307461984085], [-87.61314281926194, 33.235309538696775], [-87.61319744171485, 33.23532615239648]], &quot;type&quot;: &quot;LineString&quot;}, &quot;id&quot;: &quot;45&quot;, &quot;properties&quot;: {&quot;id&quot;: null, &quot;layer&quot;: &quot;snap_lines&quot;, &quot;name&quot;: &quot;Walmart_WBRT&quot;, &quot;path&quot;: &quot;/Users/max/Desktop/snap_lines.shp&quot;}, &quot;type&quot;: &quot;Feature&quot;}, {&quot;bbox&quot;: [-87.61309969440626, 33.23493747344627, -87.61307510246061, 33.23503732084639], &quot;geometry&quot;: {&quot;coordinates&quot;: [[-87.6130958765187, 33.23493747344627], [-87.61309868158503, 33.23494564430737], [-87.61309969440626, 33.23498207193288], [-87.61308956619389, 33.235010028007295], [-87.61307510246061, 33.23503732084639]], &quot;type&quot;: &quot;LineString&quot;}, &quot;id&quot;: &quot;46&quot;, &quot;properties&quot;: {&quot;id&quot;: null, &quot;layer&quot;: &quot;snap_lines&quot;, &quot;name&quot;: &quot;Walmart_NBRT&quot;, &quot;path&quot;: &quot;/Users/max/Desktop/snap_lines.shp&quot;}, &quot;type&quot;: &quot;Feature&quot;}, {&quot;bbox&quot;: [-87.61340227062459, 33.23495803740735, -87.61323138033654, 33.234981374183974], &quot;geometry&quot;: {&quot;coordinates&quot;: [[-87.61340227062459, 33.2349726228935], [-87.61333865394388, 33.23497922782746], [-87.61332554437281, 33.234981374183974], [-87.61328020613314, 33.23497553999041], [-87.61323138033654, 33.23495803740735]], &quot;type&quot;: &quot;LineString&quot;}, &quot;id&quot;: &quot;47&quot;, &quot;properties&quot;: {&quot;id&quot;: null, &quot;layer&quot;: &quot;snap_lines&quot;, &quot;name&quot;: &quot;Walmart_EBRT&quot;, &quot;path&quot;: &quot;/Users/max/Desktop/snap_lines.shp&quot;}, &quot;type&quot;: &quot;Feature&quot;}], &quot;type&quot;: &quot;FeatureCollection&quot;});\n",
       "\n",
       "        \n",
       "    \n",
       "    geo_json_52b1bb0de77f12fa4b42a773747d4dcb.bindTooltip(\n",
       "    function(layer){\n",
       "    let div = L.DomUtil.create(&#x27;div&#x27;);\n",
       "    \n",
       "    let handleObject = feature=&gt;typeof(feature)==&#x27;object&#x27; ? JSON.stringify(feature) : feature;\n",
       "    let fields = [&quot;id&quot;, &quot;name&quot;, &quot;layer&quot;, &quot;path&quot;];\n",
       "    let aliases = [&quot;id&quot;, &quot;name&quot;, &quot;layer&quot;, &quot;path&quot;];\n",
       "    let table = &#x27;&lt;table&gt;&#x27; +\n",
       "        String(\n",
       "        fields.map(\n",
       "        (v,i)=&gt;\n",
       "        `&lt;tr&gt;\n",
       "            &lt;th&gt;${aliases[i]}&lt;/th&gt;\n",
       "            \n",
       "            &lt;td&gt;${handleObject(layer.feature.properties[v])}&lt;/td&gt;\n",
       "        &lt;/tr&gt;`).join(&#x27;&#x27;))\n",
       "    +&#x27;&lt;/table&gt;&#x27;;\n",
       "    div.innerHTML=table;\n",
       "    \n",
       "    return div\n",
       "    }\n",
       "    ,{&quot;className&quot;: &quot;foliumtooltip&quot;, &quot;sticky&quot;: true});\n",
       "                     \n",
       "    \n",
       "            geo_json_52b1bb0de77f12fa4b42a773747d4dcb.addTo(map_a72aee2d0df39f5f127d71f40e5847f0);\n",
       "        \n",
       "&lt;/script&gt;\n",
       "&lt;/html&gt;\" style=\"position:absolute;width:100%;height:100%;left:0;top:0;border:none !important;\" allowfullscreen webkitallowfullscreen mozallowfullscreen></iframe></div></div>"
      ],
      "text/plain": [
       "<folium.folium.Map at 0x7fc59becb610>"
      ]
     },
     "execution_count": 6,
     "metadata": {},
     "output_type": "execute_result"
    }
   ],
   "source": [
    "net.lane_gdf.explore()"
   ]
  },
  {
   "cell_type": "code",
   "execution_count": 7,
   "metadata": {},
   "outputs": [],
   "source": [
    "from datetime import timedelta\n",
    "import polars as pl\n",
    "from src.radar import CalibratedRadar\n",
    "from src.pipelines.open_file import prep_df\n",
    "\n",
    "\n",
    "USE_FRONT = False\n",
    "\n",
    "\n",
    "radar_obj = CalibratedRadar(\n",
    "    radar_location_path=ROOT / \"configuration\" / \"march_calibrated.yaml\",\n",
    ")"
   ]
  },
  {
   "cell_type": "code",
   "execution_count": 8,
   "metadata": {},
   "outputs": [
    {
     "name": "stdout",
     "output_type": "stream",
     "text": [
      "function: create_object_id took: 0.0001308917999267578 seconds\n",
      "function: filter_short_trajectories took: 0.000392913818359375 seconds\n",
      "function: clip_trajectory_end took: 0.0002071857452392578 seconds\n",
      "function: resample took: 0.0002276897430419922 seconds\n",
      "function: fix_duplicate_positions took: 0.00013589859008789062 seconds\n",
      "function: set_timezone took: 4.38690185546875e-05 seconds\n",
      "function: add_cst_timezone took: 2.7418136596679688e-05 seconds\n",
      "function: add_heading took: 2.86102294921875e-05 seconds\n",
      "function: rotate_radars took: 0.0004978179931640625 seconds\n",
      "function: update_origin took: 0.0004878044128417969 seconds\n"
     ]
    }
   ],
   "source": [
    "import numpy as np\n",
    "\n",
    "\n",
    "radar_df = (\n",
    "    pl.scan_parquet(\n",
    "        Path(\"/home/max/Development/ua-traffic-data/tmp/all_working.parquet\")\n",
    "    )\n",
    "    .with_columns(\n",
    "        pl.col(\"epoch_time\").dt.replace_time_zone(\"UTC\").dt.round(\"100ms\"),\n",
    "    )\n",
    "    .pipe(prep_df, f=radar_obj)\n",
    "    .collect(streaming=True)\n",
    "    .pipe(\n",
    "        net.map_to_lane,\n",
    "        dist_upper_bound=(LANE_WIDTH / 2) + 0.5,  # centered on one of the lanes,\n",
    "        utm_x_col=\"utm_x\",\n",
    "        utm_y_col=\"utm_y\",\n",
    "    )\n",
    "    .rename(\n",
    "        {\n",
    "            \"name\": \"lane\",\n",
    "            \"angle\": \"heading_lane\",\n",
    "        }\n",
    "    )\n",
    "    .with_columns((pl.col(\"heading_utm\") - pl.col(\"heading_lane\")).alias(\"angle_diff\"))\n",
    "    .with_columns(\n",
    "        # find the portion of velocity that is in the direction of the lane\n",
    "        pl.arctan2(pl.col(\"angle_diff\").sin(), pl.col(\"angle_diff\").cos()).alias(\n",
    "            \"angle_diff\"\n",
    "        )\n",
    "    )\n",
    "    .with_columns(\n",
    "        pl.when(\n",
    "            pl.col(\"angle_diff\").abs() > np.deg2rad(30),\n",
    "        )\n",
    "        .then(pl.lit(None))\n",
    "        .otherwise(pl.col(\"angle_diff\"))\n",
    "        .interpolate()\n",
    "        .over([\"object_id\", \"lane\"])\n",
    "        .alias(\"angle_diff\")\n",
    "    )\n",
    "    .filter(pl.col(\"angle_diff\").is_not_null())\n",
    ")"
   ]
  },
  {
   "cell_type": "code",
   "execution_count": 9,
   "metadata": {},
   "outputs": [],
   "source": [
    "# from h3ronpy.polars.vector import coordinates_to_cells\n",
    "# from h3ronpy.arrow import cells_to_string\n",
    "\n",
    "# h3_df = (\n",
    "#     pl.scan_parquet(\n",
    "#         Path(\"/home/max/Development/ua-traffic-data/tmp/all_working.parquet\")\n",
    "#     )\n",
    "#     .with_columns(\n",
    "#         pl.col(\"epoch_time\").dt.replace_time_zone(\"UTC\").dt.round(\"100ms\"),\n",
    "#     )\n",
    "#     .pipe(prep_df, f=radar_obj)\n",
    "#     .pipe(radar_obj.add_cst_timezone)\n",
    "#     .filter(\n",
    "#         (pl.col('epoch_time_cst').dt.hour() == 7) & (pl.col('epoch_time_cst').dt.minute() < 10)\n",
    "#     )\n",
    "#     .collect()\n",
    "#     .pipe(\n",
    "#         lambda x: x.with_columns(\n",
    "#             h3=pl.Series(cells_to_string(coordinates_to_cells(x[\"lat\"], x[\"lon\"], 15)))\n",
    "#         )\n",
    "#     )\n",
    "#     # .group_by_dynamic(\"epoch_time\", every=\"1s\", by=\"h3\")\n",
    "#     # .agg(pl.col(\"object_id\").n_unique())\n",
    "# )"
   ]
  },
  {
   "cell_type": "code",
   "execution_count": 10,
   "metadata": {},
   "outputs": [],
   "source": [
    "radar_df = (\n",
    "    radar_df.filter(pl.col(\"lane\").is_not_null())\n",
    "    .sort(\"epoch_time\")\n",
    "    .with_columns(pl.col(\"s\").diff().sum().over(\"object_id\", \"lane\").alias(\"lane_dist\"))\n",
    ")"
   ]
  },
  {
   "cell_type": "code",
   "execution_count": 11,
   "metadata": {},
   "outputs": [],
   "source": [
    "# radar_df.pivot(\n",
    "#     columns=[\"lane\"], values=\"lane_dist\", index=\"object_id\", aggregate_function=\"last\"\n",
    "# ).describe()"
   ]
  },
  {
   "cell_type": "code",
   "execution_count": 12,
   "metadata": {},
   "outputs": [
    {
     "name": "stdout",
     "output_type": "stream",
     "text": [
      "function: add_cst_timezone took: 0.000263214111328125 seconds\n"
     ]
    }
   ],
   "source": [
    "filtered_radar_df = (\n",
    "    radar_df.filter(pl.col(\"lane_dist\") > 0)\n",
    "    .join(\n",
    "        pl.from_pandas(\n",
    "            net.lane_gdf.copy()\n",
    "            .assign(length=lambda x: x.geometry.length)\n",
    "            .drop([\"geometry\", \"id\"], axis=1)\n",
    "        ).rename({\"name\": \"lane\"}).with_columns(\n",
    "            pl.col('lane').str.split(\"_\").list.get(0).alias('signal')\n",
    "        ),\n",
    "        on=\"lane\",\n",
    "    )\n",
    "    .with_columns((pl.col(\"lane_dist\") / pl.col(\"length\")).alias(\"lane_coverage\"))\n",
    "    .pipe(radar_obj.add_cst_timezone)\n",
    "    .filter(pl.col(\"epoch_time_cst\").dt.day() == 13)\n",
    "    # .filter(pl.col(\"lane_coverage\") > 0.3)\n",
    ")"
   ]
  },
  {
   "cell_type": "code",
   "execution_count": 13,
   "metadata": {},
   "outputs": [],
   "source": [
    "filtered_radar_df.select(['object_id', 'epoch_time_cst', 'lane', 'lane_coverage', 'ip']).write_parquet(ROOT / \"data\" / \"detections.parquet\")"
   ]
  },
  {
   "cell_type": "code",
   "execution_count": 25,
   "metadata": {},
   "outputs": [
    {
     "name": "stdout",
     "output_type": "stream",
     "text": [
      "function: add_cst_timezone took: 6.031990051269531e-05 seconds\n"
     ]
    },
    {
     "data": {
      "text/html": [
       "<div><style>\n",
       ".dataframe > thead > tr,\n",
       ".dataframe > tbody > tr {\n",
       "  text-align: right;\n",
       "  white-space: pre-wrap;\n",
       "}\n",
       "</style>\n",
       "<small>shape: (5, 3)</small><table border=\"1\" class=\"dataframe\"><thead><tr><th>epoch_time_cst</th><th>lane</th><th>volume</th></tr><tr><td>datetime[ms, US/Central]</td><td>str</td><td>u32</td></tr></thead><tbody><tr><td>2023-03-13 00:11:00 CDT</td><td>&quot;Walmart_WBL&quot;</td><td>1</td></tr><tr><td>2023-03-13 00:12:00 CDT</td><td>&quot;Walmart_WBL&quot;</td><td>0</td></tr><tr><td>2023-03-13 00:13:00 CDT</td><td>&quot;Walmart_WBL&quot;</td><td>0</td></tr><tr><td>2023-03-13 00:14:00 CDT</td><td>&quot;Walmart_WBL&quot;</td><td>0</td></tr><tr><td>2023-03-13 00:15:00 CDT</td><td>&quot;Walmart_WBL&quot;</td><td>0</td></tr></tbody></table></div>"
      ],
      "text/plain": [
       "shape: (5, 3)\n",
       "┌──────────────────────────┬─────────────┬────────┐\n",
       "│ epoch_time_cst           ┆ lane        ┆ volume │\n",
       "│ ---                      ┆ ---         ┆ ---    │\n",
       "│ datetime[ms, US/Central] ┆ str         ┆ u32    │\n",
       "╞══════════════════════════╪═════════════╪════════╡\n",
       "│ 2023-03-13 00:11:00 CDT  ┆ Walmart_WBL ┆ 1      │\n",
       "│ 2023-03-13 00:12:00 CDT  ┆ Walmart_WBL ┆ 0      │\n",
       "│ 2023-03-13 00:13:00 CDT  ┆ Walmart_WBL ┆ 0      │\n",
       "│ 2023-03-13 00:14:00 CDT  ┆ Walmart_WBL ┆ 0      │\n",
       "│ 2023-03-13 00:15:00 CDT  ┆ Walmart_WBL ┆ 0      │\n",
       "└──────────────────────────┴─────────────┴────────┘"
      ]
     },
     "execution_count": 25,
     "metadata": {},
     "output_type": "execute_result"
    }
   ],
   "source": [
    "plot_df = (\n",
    "    filtered_radar_df\n",
    "    .lazy()\n",
    "    .group_by_dynamic(\"epoch_time\", every=\"1m\", by=[\"ip\", \"lane\", 'signal'])\n",
    "    .agg(pl.col(\"object_id\").n_unique().alias(\"volume\"))\n",
    "    .pipe(radar_obj.add_cst_timezone)\n",
    "    .filter(pl.col(\"epoch_time_cst\").dt.day() == 13)\n",
    "    .group_by(\"lane\", 'epoch_time_cst')\n",
    "    .agg(pl.col('volume').max())\n",
    "    .sort(\"epoch_time_cst\", \"lane\")\n",
    "    .collect()\n",
    "    .upsample(\n",
    "        'epoch_time_cst',\n",
    "        every='1m',\n",
    "        by=['lane']\n",
    "    )\n",
    "    \n",
    "    .with_columns(\n",
    "        # pl.col('volume').fill_null(0),\n",
    "        pl.col('lane').forward_fill(),\n",
    "        pl.col('volume').fill_null(0)\n",
    "        \n",
    "    )\n",
    "\n",
    ")\n",
    "plot_df.head()"
   ]
  },
  {
   "cell_type": "code",
   "execution_count": 27,
   "metadata": {},
   "outputs": [],
   "source": [
    "plot_df.write_parquet(ROOT / 'data' / 'radar_detections.parquet')"
   ]
  },
  {
   "cell_type": "code",
   "execution_count": null,
   "metadata": {},
   "outputs": [],
   "source": [
    "pl.DataFrame().upsample()"
   ]
  },
  {
   "cell_type": "code",
   "execution_count": 18,
   "metadata": {},
   "outputs": [
    {
     "name": "stderr",
     "output_type": "stream",
     "text": [
      "/tmp/ipykernel_922327/2053640720.py:7: DeprecationWarning:\n",
      "\n",
      "`groupby` is deprecated. It has been renamed to `group_by`.\n",
      "\n"
     ]
    },
    {
     "data": {
      "application/vnd.plotly.v1+json": {
       "config": {
        "plotlyServerURL": "https://plot.ly"
       },
       "data": [
        {
         "mode": "lines",
         "name": "Walmart2_EBLT",
         "type": "scatter",
         "x": [
          "2023-03-13 01:00:00.000",
          "2023-03-13 05:00:00.000",
          "2023-03-13 06:00:00.000",
          "2023-03-13 07:00:00.000",
          "2023-03-13 08:00:00.000",
          "2023-03-13 09:00:00.000",
          "2023-03-13 10:00:00.000",
          "2023-03-13 11:00:00.000",
          "2023-03-13 12:00:00.000",
          "2023-03-13 13:00:00.000",
          "2023-03-13 14:00:00.000",
          "2023-03-13 15:00:00.000",
          "2023-03-13 16:00:00.000",
          "2023-03-13 17:00:00.000",
          "2023-03-13 18:00:00.000",
          "2023-03-13 19:00:00.000"
         ],
         "y": [
          1,
          5,
          6,
          11,
          9,
          11,
          14,
          25,
          23,
          18,
          22,
          22,
          20,
          26,
          22,
          5
         ]
        },
        {
         "mode": "lines",
         "name": "Walmart2_WBRT",
         "type": "scatter",
         "x": [
          "2023-03-13 01:00:00.000",
          "2023-03-13 02:00:00.000",
          "2023-03-13 03:00:00.000",
          "2023-03-13 04:00:00.000",
          "2023-03-13 05:00:00.000",
          "2023-03-13 06:00:00.000",
          "2023-03-13 07:00:00.000",
          "2023-03-13 08:00:00.000",
          "2023-03-13 09:00:00.000",
          "2023-03-13 10:00:00.000",
          "2023-03-13 11:00:00.000",
          "2023-03-13 12:00:00.000",
          "2023-03-13 13:00:00.000",
          "2023-03-13 14:00:00.000",
          "2023-03-13 15:00:00.000",
          "2023-03-13 16:00:00.000",
          "2023-03-13 17:00:00.000",
          "2023-03-13 18:00:00.000",
          "2023-03-13 19:00:00.000"
         ],
         "y": [
          1,
          1,
          1,
          4,
          12,
          7,
          14,
          21,
          14,
          14,
          23,
          23,
          38,
          30,
          40,
          44,
          31,
          17,
          11
         ]
        }
       ],
       "layout": {
        "font": {
         "color": "RebeccaPurple",
         "family": "Courier New, monospace",
         "size": 18
        },
        "legend": {
         "title": {
          "text": "Detector"
         }
        },
        "template": {
         "data": {
          "bar": [
           {
            "error_x": {
             "color": "#2a3f5f"
            },
            "error_y": {
             "color": "#2a3f5f"
            },
            "marker": {
             "line": {
              "color": "#E5ECF6",
              "width": 0.5
             },
             "pattern": {
              "fillmode": "overlay",
              "size": 10,
              "solidity": 0.2
             }
            },
            "type": "bar"
           }
          ],
          "barpolar": [
           {
            "marker": {
             "line": {
              "color": "#E5ECF6",
              "width": 0.5
             },
             "pattern": {
              "fillmode": "overlay",
              "size": 10,
              "solidity": 0.2
             }
            },
            "type": "barpolar"
           }
          ],
          "carpet": [
           {
            "aaxis": {
             "endlinecolor": "#2a3f5f",
             "gridcolor": "white",
             "linecolor": "white",
             "minorgridcolor": "white",
             "startlinecolor": "#2a3f5f"
            },
            "baxis": {
             "endlinecolor": "#2a3f5f",
             "gridcolor": "white",
             "linecolor": "white",
             "minorgridcolor": "white",
             "startlinecolor": "#2a3f5f"
            },
            "type": "carpet"
           }
          ],
          "choropleth": [
           {
            "colorbar": {
             "outlinewidth": 0,
             "ticks": ""
            },
            "type": "choropleth"
           }
          ],
          "contour": [
           {
            "colorbar": {
             "outlinewidth": 0,
             "ticks": ""
            },
            "colorscale": [
             [
              0,
              "#0d0887"
             ],
             [
              0.1111111111111111,
              "#46039f"
             ],
             [
              0.2222222222222222,
              "#7201a8"
             ],
             [
              0.3333333333333333,
              "#9c179e"
             ],
             [
              0.4444444444444444,
              "#bd3786"
             ],
             [
              0.5555555555555556,
              "#d8576b"
             ],
             [
              0.6666666666666666,
              "#ed7953"
             ],
             [
              0.7777777777777778,
              "#fb9f3a"
             ],
             [
              0.8888888888888888,
              "#fdca26"
             ],
             [
              1,
              "#f0f921"
             ]
            ],
            "type": "contour"
           }
          ],
          "contourcarpet": [
           {
            "colorbar": {
             "outlinewidth": 0,
             "ticks": ""
            },
            "type": "contourcarpet"
           }
          ],
          "heatmap": [
           {
            "colorbar": {
             "outlinewidth": 0,
             "ticks": ""
            },
            "colorscale": [
             [
              0,
              "#0d0887"
             ],
             [
              0.1111111111111111,
              "#46039f"
             ],
             [
              0.2222222222222222,
              "#7201a8"
             ],
             [
              0.3333333333333333,
              "#9c179e"
             ],
             [
              0.4444444444444444,
              "#bd3786"
             ],
             [
              0.5555555555555556,
              "#d8576b"
             ],
             [
              0.6666666666666666,
              "#ed7953"
             ],
             [
              0.7777777777777778,
              "#fb9f3a"
             ],
             [
              0.8888888888888888,
              "#fdca26"
             ],
             [
              1,
              "#f0f921"
             ]
            ],
            "type": "heatmap"
           }
          ],
          "heatmapgl": [
           {
            "colorbar": {
             "outlinewidth": 0,
             "ticks": ""
            },
            "colorscale": [
             [
              0,
              "#0d0887"
             ],
             [
              0.1111111111111111,
              "#46039f"
             ],
             [
              0.2222222222222222,
              "#7201a8"
             ],
             [
              0.3333333333333333,
              "#9c179e"
             ],
             [
              0.4444444444444444,
              "#bd3786"
             ],
             [
              0.5555555555555556,
              "#d8576b"
             ],
             [
              0.6666666666666666,
              "#ed7953"
             ],
             [
              0.7777777777777778,
              "#fb9f3a"
             ],
             [
              0.8888888888888888,
              "#fdca26"
             ],
             [
              1,
              "#f0f921"
             ]
            ],
            "type": "heatmapgl"
           }
          ],
          "histogram": [
           {
            "marker": {
             "pattern": {
              "fillmode": "overlay",
              "size": 10,
              "solidity": 0.2
             }
            },
            "type": "histogram"
           }
          ],
          "histogram2d": [
           {
            "colorbar": {
             "outlinewidth": 0,
             "ticks": ""
            },
            "colorscale": [
             [
              0,
              "#0d0887"
             ],
             [
              0.1111111111111111,
              "#46039f"
             ],
             [
              0.2222222222222222,
              "#7201a8"
             ],
             [
              0.3333333333333333,
              "#9c179e"
             ],
             [
              0.4444444444444444,
              "#bd3786"
             ],
             [
              0.5555555555555556,
              "#d8576b"
             ],
             [
              0.6666666666666666,
              "#ed7953"
             ],
             [
              0.7777777777777778,
              "#fb9f3a"
             ],
             [
              0.8888888888888888,
              "#fdca26"
             ],
             [
              1,
              "#f0f921"
             ]
            ],
            "type": "histogram2d"
           }
          ],
          "histogram2dcontour": [
           {
            "colorbar": {
             "outlinewidth": 0,
             "ticks": ""
            },
            "colorscale": [
             [
              0,
              "#0d0887"
             ],
             [
              0.1111111111111111,
              "#46039f"
             ],
             [
              0.2222222222222222,
              "#7201a8"
             ],
             [
              0.3333333333333333,
              "#9c179e"
             ],
             [
              0.4444444444444444,
              "#bd3786"
             ],
             [
              0.5555555555555556,
              "#d8576b"
             ],
             [
              0.6666666666666666,
              "#ed7953"
             ],
             [
              0.7777777777777778,
              "#fb9f3a"
             ],
             [
              0.8888888888888888,
              "#fdca26"
             ],
             [
              1,
              "#f0f921"
             ]
            ],
            "type": "histogram2dcontour"
           }
          ],
          "mesh3d": [
           {
            "colorbar": {
             "outlinewidth": 0,
             "ticks": ""
            },
            "type": "mesh3d"
           }
          ],
          "parcoords": [
           {
            "line": {
             "colorbar": {
              "outlinewidth": 0,
              "ticks": ""
             }
            },
            "type": "parcoords"
           }
          ],
          "pie": [
           {
            "automargin": true,
            "type": "pie"
           }
          ],
          "scatter": [
           {
            "fillpattern": {
             "fillmode": "overlay",
             "size": 10,
             "solidity": 0.2
            },
            "type": "scatter"
           }
          ],
          "scatter3d": [
           {
            "line": {
             "colorbar": {
              "outlinewidth": 0,
              "ticks": ""
             }
            },
            "marker": {
             "colorbar": {
              "outlinewidth": 0,
              "ticks": ""
             }
            },
            "type": "scatter3d"
           }
          ],
          "scattercarpet": [
           {
            "marker": {
             "colorbar": {
              "outlinewidth": 0,
              "ticks": ""
             }
            },
            "type": "scattercarpet"
           }
          ],
          "scattergeo": [
           {
            "marker": {
             "colorbar": {
              "outlinewidth": 0,
              "ticks": ""
             }
            },
            "type": "scattergeo"
           }
          ],
          "scattergl": [
           {
            "marker": {
             "colorbar": {
              "outlinewidth": 0,
              "ticks": ""
             }
            },
            "type": "scattergl"
           }
          ],
          "scattermapbox": [
           {
            "marker": {
             "colorbar": {
              "outlinewidth": 0,
              "ticks": ""
             }
            },
            "type": "scattermapbox"
           }
          ],
          "scatterpolar": [
           {
            "marker": {
             "colorbar": {
              "outlinewidth": 0,
              "ticks": ""
             }
            },
            "type": "scatterpolar"
           }
          ],
          "scatterpolargl": [
           {
            "marker": {
             "colorbar": {
              "outlinewidth": 0,
              "ticks": ""
             }
            },
            "type": "scatterpolargl"
           }
          ],
          "scatterternary": [
           {
            "marker": {
             "colorbar": {
              "outlinewidth": 0,
              "ticks": ""
             }
            },
            "type": "scatterternary"
           }
          ],
          "surface": [
           {
            "colorbar": {
             "outlinewidth": 0,
             "ticks": ""
            },
            "colorscale": [
             [
              0,
              "#0d0887"
             ],
             [
              0.1111111111111111,
              "#46039f"
             ],
             [
              0.2222222222222222,
              "#7201a8"
             ],
             [
              0.3333333333333333,
              "#9c179e"
             ],
             [
              0.4444444444444444,
              "#bd3786"
             ],
             [
              0.5555555555555556,
              "#d8576b"
             ],
             [
              0.6666666666666666,
              "#ed7953"
             ],
             [
              0.7777777777777778,
              "#fb9f3a"
             ],
             [
              0.8888888888888888,
              "#fdca26"
             ],
             [
              1,
              "#f0f921"
             ]
            ],
            "type": "surface"
           }
          ],
          "table": [
           {
            "cells": {
             "fill": {
              "color": "#EBF0F8"
             },
             "line": {
              "color": "white"
             }
            },
            "header": {
             "fill": {
              "color": "#C8D4E3"
             },
             "line": {
              "color": "white"
             }
            },
            "type": "table"
           }
          ]
         },
         "layout": {
          "annotationdefaults": {
           "arrowcolor": "#2a3f5f",
           "arrowhead": 0,
           "arrowwidth": 1
          },
          "autotypenumbers": "strict",
          "coloraxis": {
           "colorbar": {
            "outlinewidth": 0,
            "ticks": ""
           }
          },
          "colorscale": {
           "diverging": [
            [
             0,
             "#8e0152"
            ],
            [
             0.1,
             "#c51b7d"
            ],
            [
             0.2,
             "#de77ae"
            ],
            [
             0.3,
             "#f1b6da"
            ],
            [
             0.4,
             "#fde0ef"
            ],
            [
             0.5,
             "#f7f7f7"
            ],
            [
             0.6,
             "#e6f5d0"
            ],
            [
             0.7,
             "#b8e186"
            ],
            [
             0.8,
             "#7fbc41"
            ],
            [
             0.9,
             "#4d9221"
            ],
            [
             1,
             "#276419"
            ]
           ],
           "sequential": [
            [
             0,
             "#0d0887"
            ],
            [
             0.1111111111111111,
             "#46039f"
            ],
            [
             0.2222222222222222,
             "#7201a8"
            ],
            [
             0.3333333333333333,
             "#9c179e"
            ],
            [
             0.4444444444444444,
             "#bd3786"
            ],
            [
             0.5555555555555556,
             "#d8576b"
            ],
            [
             0.6666666666666666,
             "#ed7953"
            ],
            [
             0.7777777777777778,
             "#fb9f3a"
            ],
            [
             0.8888888888888888,
             "#fdca26"
            ],
            [
             1,
             "#f0f921"
            ]
           ],
           "sequentialminus": [
            [
             0,
             "#0d0887"
            ],
            [
             0.1111111111111111,
             "#46039f"
            ],
            [
             0.2222222222222222,
             "#7201a8"
            ],
            [
             0.3333333333333333,
             "#9c179e"
            ],
            [
             0.4444444444444444,
             "#bd3786"
            ],
            [
             0.5555555555555556,
             "#d8576b"
            ],
            [
             0.6666666666666666,
             "#ed7953"
            ],
            [
             0.7777777777777778,
             "#fb9f3a"
            ],
            [
             0.8888888888888888,
             "#fdca26"
            ],
            [
             1,
             "#f0f921"
            ]
           ]
          },
          "colorway": [
           "#636efa",
           "#EF553B",
           "#00cc96",
           "#ab63fa",
           "#FFA15A",
           "#19d3f3",
           "#FF6692",
           "#B6E880",
           "#FF97FF",
           "#FECB52"
          ],
          "font": {
           "color": "#2a3f5f"
          },
          "geo": {
           "bgcolor": "white",
           "lakecolor": "white",
           "landcolor": "#E5ECF6",
           "showlakes": true,
           "showland": true,
           "subunitcolor": "white"
          },
          "hoverlabel": {
           "align": "left"
          },
          "hovermode": "closest",
          "mapbox": {
           "style": "light"
          },
          "paper_bgcolor": "white",
          "plot_bgcolor": "#E5ECF6",
          "polar": {
           "angularaxis": {
            "gridcolor": "white",
            "linecolor": "white",
            "ticks": ""
           },
           "bgcolor": "#E5ECF6",
           "radialaxis": {
            "gridcolor": "white",
            "linecolor": "white",
            "ticks": ""
           }
          },
          "scene": {
           "xaxis": {
            "backgroundcolor": "#E5ECF6",
            "gridcolor": "white",
            "gridwidth": 2,
            "linecolor": "white",
            "showbackground": true,
            "ticks": "",
            "zerolinecolor": "white"
           },
           "yaxis": {
            "backgroundcolor": "#E5ECF6",
            "gridcolor": "white",
            "gridwidth": 2,
            "linecolor": "white",
            "showbackground": true,
            "ticks": "",
            "zerolinecolor": "white"
           },
           "zaxis": {
            "backgroundcolor": "#E5ECF6",
            "gridcolor": "white",
            "gridwidth": 2,
            "linecolor": "white",
            "showbackground": true,
            "ticks": "",
            "zerolinecolor": "white"
           }
          },
          "shapedefaults": {
           "line": {
            "color": "#2a3f5f"
           }
          },
          "ternary": {
           "aaxis": {
            "gridcolor": "white",
            "linecolor": "white",
            "ticks": ""
           },
           "baxis": {
            "gridcolor": "white",
            "linecolor": "white",
            "ticks": ""
           },
           "bgcolor": "#E5ECF6",
           "caxis": {
            "gridcolor": "white",
            "linecolor": "white",
            "ticks": ""
           }
          },
          "title": {
           "x": 0.05
          },
          "xaxis": {
           "automargin": true,
           "gridcolor": "white",
           "linecolor": "white",
           "ticks": "",
           "title": {
            "standoff": 15
           },
           "zerolinecolor": "white",
           "zerolinewidth": 2
          },
          "yaxis": {
           "automargin": true,
           "gridcolor": "white",
           "linecolor": "white",
           "ticks": "",
           "title": {
            "standoff": 15
           },
           "zerolinecolor": "white",
           "zerolinewidth": 2
          }
         }
        },
        "xaxis": {
         "title": {
          "text": "Time"
         }
        },
        "yaxis": {
         "title": {
          "text": "Volume"
         }
        }
       }
      },
      "text/html": [
       "<div>                            <div id=\"712c5337-3e6a-4c23-8435-89c1f5b61272\" class=\"plotly-graph-div\" style=\"height:525px; width:100%;\"></div>            <script type=\"text/javascript\">                require([\"plotly\"], function(Plotly) {                    window.PLOTLYENV=window.PLOTLYENV || {};                                    if (document.getElementById(\"712c5337-3e6a-4c23-8435-89c1f5b61272\")) {                    Plotly.newPlot(                        \"712c5337-3e6a-4c23-8435-89c1f5b61272\",                        [{\"mode\":\"lines\",\"name\":\"Walmart2_EBLT\",\"x\":[\"2023-03-13 01:00:00.000\",\"2023-03-13 05:00:00.000\",\"2023-03-13 06:00:00.000\",\"2023-03-13 07:00:00.000\",\"2023-03-13 08:00:00.000\",\"2023-03-13 09:00:00.000\",\"2023-03-13 10:00:00.000\",\"2023-03-13 11:00:00.000\",\"2023-03-13 12:00:00.000\",\"2023-03-13 13:00:00.000\",\"2023-03-13 14:00:00.000\",\"2023-03-13 15:00:00.000\",\"2023-03-13 16:00:00.000\",\"2023-03-13 17:00:00.000\",\"2023-03-13 18:00:00.000\",\"2023-03-13 19:00:00.000\"],\"y\":[1,5,6,11,9,11,14,25,23,18,22,22,20,26,22,5],\"type\":\"scatter\"},{\"mode\":\"lines\",\"name\":\"Walmart2_WBRT\",\"x\":[\"2023-03-13 01:00:00.000\",\"2023-03-13 02:00:00.000\",\"2023-03-13 03:00:00.000\",\"2023-03-13 04:00:00.000\",\"2023-03-13 05:00:00.000\",\"2023-03-13 06:00:00.000\",\"2023-03-13 07:00:00.000\",\"2023-03-13 08:00:00.000\",\"2023-03-13 09:00:00.000\",\"2023-03-13 10:00:00.000\",\"2023-03-13 11:00:00.000\",\"2023-03-13 12:00:00.000\",\"2023-03-13 13:00:00.000\",\"2023-03-13 14:00:00.000\",\"2023-03-13 15:00:00.000\",\"2023-03-13 16:00:00.000\",\"2023-03-13 17:00:00.000\",\"2023-03-13 18:00:00.000\",\"2023-03-13 19:00:00.000\"],\"y\":[1,1,1,4,12,7,14,21,14,14,23,23,38,30,40,44,31,17,11],\"type\":\"scatter\"}],                        {\"template\":{\"data\":{\"histogram2dcontour\":[{\"type\":\"histogram2dcontour\",\"colorbar\":{\"outlinewidth\":0,\"ticks\":\"\"},\"colorscale\":[[0.0,\"#0d0887\"],[0.1111111111111111,\"#46039f\"],[0.2222222222222222,\"#7201a8\"],[0.3333333333333333,\"#9c179e\"],[0.4444444444444444,\"#bd3786\"],[0.5555555555555556,\"#d8576b\"],[0.6666666666666666,\"#ed7953\"],[0.7777777777777778,\"#fb9f3a\"],[0.8888888888888888,\"#fdca26\"],[1.0,\"#f0f921\"]]}],\"choropleth\":[{\"type\":\"choropleth\",\"colorbar\":{\"outlinewidth\":0,\"ticks\":\"\"}}],\"histogram2d\":[{\"type\":\"histogram2d\",\"colorbar\":{\"outlinewidth\":0,\"ticks\":\"\"},\"colorscale\":[[0.0,\"#0d0887\"],[0.1111111111111111,\"#46039f\"],[0.2222222222222222,\"#7201a8\"],[0.3333333333333333,\"#9c179e\"],[0.4444444444444444,\"#bd3786\"],[0.5555555555555556,\"#d8576b\"],[0.6666666666666666,\"#ed7953\"],[0.7777777777777778,\"#fb9f3a\"],[0.8888888888888888,\"#fdca26\"],[1.0,\"#f0f921\"]]}],\"heatmap\":[{\"type\":\"heatmap\",\"colorbar\":{\"outlinewidth\":0,\"ticks\":\"\"},\"colorscale\":[[0.0,\"#0d0887\"],[0.1111111111111111,\"#46039f\"],[0.2222222222222222,\"#7201a8\"],[0.3333333333333333,\"#9c179e\"],[0.4444444444444444,\"#bd3786\"],[0.5555555555555556,\"#d8576b\"],[0.6666666666666666,\"#ed7953\"],[0.7777777777777778,\"#fb9f3a\"],[0.8888888888888888,\"#fdca26\"],[1.0,\"#f0f921\"]]}],\"heatmapgl\":[{\"type\":\"heatmapgl\",\"colorbar\":{\"outlinewidth\":0,\"ticks\":\"\"},\"colorscale\":[[0.0,\"#0d0887\"],[0.1111111111111111,\"#46039f\"],[0.2222222222222222,\"#7201a8\"],[0.3333333333333333,\"#9c179e\"],[0.4444444444444444,\"#bd3786\"],[0.5555555555555556,\"#d8576b\"],[0.6666666666666666,\"#ed7953\"],[0.7777777777777778,\"#fb9f3a\"],[0.8888888888888888,\"#fdca26\"],[1.0,\"#f0f921\"]]}],\"contourcarpet\":[{\"type\":\"contourcarpet\",\"colorbar\":{\"outlinewidth\":0,\"ticks\":\"\"}}],\"contour\":[{\"type\":\"contour\",\"colorbar\":{\"outlinewidth\":0,\"ticks\":\"\"},\"colorscale\":[[0.0,\"#0d0887\"],[0.1111111111111111,\"#46039f\"],[0.2222222222222222,\"#7201a8\"],[0.3333333333333333,\"#9c179e\"],[0.4444444444444444,\"#bd3786\"],[0.5555555555555556,\"#d8576b\"],[0.6666666666666666,\"#ed7953\"],[0.7777777777777778,\"#fb9f3a\"],[0.8888888888888888,\"#fdca26\"],[1.0,\"#f0f921\"]]}],\"surface\":[{\"type\":\"surface\",\"colorbar\":{\"outlinewidth\":0,\"ticks\":\"\"},\"colorscale\":[[0.0,\"#0d0887\"],[0.1111111111111111,\"#46039f\"],[0.2222222222222222,\"#7201a8\"],[0.3333333333333333,\"#9c179e\"],[0.4444444444444444,\"#bd3786\"],[0.5555555555555556,\"#d8576b\"],[0.6666666666666666,\"#ed7953\"],[0.7777777777777778,\"#fb9f3a\"],[0.8888888888888888,\"#fdca26\"],[1.0,\"#f0f921\"]]}],\"mesh3d\":[{\"type\":\"mesh3d\",\"colorbar\":{\"outlinewidth\":0,\"ticks\":\"\"}}],\"scatter\":[{\"fillpattern\":{\"fillmode\":\"overlay\",\"size\":10,\"solidity\":0.2},\"type\":\"scatter\"}],\"parcoords\":[{\"type\":\"parcoords\",\"line\":{\"colorbar\":{\"outlinewidth\":0,\"ticks\":\"\"}}}],\"scatterpolargl\":[{\"type\":\"scatterpolargl\",\"marker\":{\"colorbar\":{\"outlinewidth\":0,\"ticks\":\"\"}}}],\"bar\":[{\"error_x\":{\"color\":\"#2a3f5f\"},\"error_y\":{\"color\":\"#2a3f5f\"},\"marker\":{\"line\":{\"color\":\"#E5ECF6\",\"width\":0.5},\"pattern\":{\"fillmode\":\"overlay\",\"size\":10,\"solidity\":0.2}},\"type\":\"bar\"}],\"scattergeo\":[{\"type\":\"scattergeo\",\"marker\":{\"colorbar\":{\"outlinewidth\":0,\"ticks\":\"\"}}}],\"scatterpolar\":[{\"type\":\"scatterpolar\",\"marker\":{\"colorbar\":{\"outlinewidth\":0,\"ticks\":\"\"}}}],\"histogram\":[{\"marker\":{\"pattern\":{\"fillmode\":\"overlay\",\"size\":10,\"solidity\":0.2}},\"type\":\"histogram\"}],\"scattergl\":[{\"type\":\"scattergl\",\"marker\":{\"colorbar\":{\"outlinewidth\":0,\"ticks\":\"\"}}}],\"scatter3d\":[{\"type\":\"scatter3d\",\"line\":{\"colorbar\":{\"outlinewidth\":0,\"ticks\":\"\"}},\"marker\":{\"colorbar\":{\"outlinewidth\":0,\"ticks\":\"\"}}}],\"scattermapbox\":[{\"type\":\"scattermapbox\",\"marker\":{\"colorbar\":{\"outlinewidth\":0,\"ticks\":\"\"}}}],\"scatterternary\":[{\"type\":\"scatterternary\",\"marker\":{\"colorbar\":{\"outlinewidth\":0,\"ticks\":\"\"}}}],\"scattercarpet\":[{\"type\":\"scattercarpet\",\"marker\":{\"colorbar\":{\"outlinewidth\":0,\"ticks\":\"\"}}}],\"carpet\":[{\"aaxis\":{\"endlinecolor\":\"#2a3f5f\",\"gridcolor\":\"white\",\"linecolor\":\"white\",\"minorgridcolor\":\"white\",\"startlinecolor\":\"#2a3f5f\"},\"baxis\":{\"endlinecolor\":\"#2a3f5f\",\"gridcolor\":\"white\",\"linecolor\":\"white\",\"minorgridcolor\":\"white\",\"startlinecolor\":\"#2a3f5f\"},\"type\":\"carpet\"}],\"table\":[{\"cells\":{\"fill\":{\"color\":\"#EBF0F8\"},\"line\":{\"color\":\"white\"}},\"header\":{\"fill\":{\"color\":\"#C8D4E3\"},\"line\":{\"color\":\"white\"}},\"type\":\"table\"}],\"barpolar\":[{\"marker\":{\"line\":{\"color\":\"#E5ECF6\",\"width\":0.5},\"pattern\":{\"fillmode\":\"overlay\",\"size\":10,\"solidity\":0.2}},\"type\":\"barpolar\"}],\"pie\":[{\"automargin\":true,\"type\":\"pie\"}]},\"layout\":{\"autotypenumbers\":\"strict\",\"colorway\":[\"#636efa\",\"#EF553B\",\"#00cc96\",\"#ab63fa\",\"#FFA15A\",\"#19d3f3\",\"#FF6692\",\"#B6E880\",\"#FF97FF\",\"#FECB52\"],\"font\":{\"color\":\"#2a3f5f\"},\"hovermode\":\"closest\",\"hoverlabel\":{\"align\":\"left\"},\"paper_bgcolor\":\"white\",\"plot_bgcolor\":\"#E5ECF6\",\"polar\":{\"bgcolor\":\"#E5ECF6\",\"angularaxis\":{\"gridcolor\":\"white\",\"linecolor\":\"white\",\"ticks\":\"\"},\"radialaxis\":{\"gridcolor\":\"white\",\"linecolor\":\"white\",\"ticks\":\"\"}},\"ternary\":{\"bgcolor\":\"#E5ECF6\",\"aaxis\":{\"gridcolor\":\"white\",\"linecolor\":\"white\",\"ticks\":\"\"},\"baxis\":{\"gridcolor\":\"white\",\"linecolor\":\"white\",\"ticks\":\"\"},\"caxis\":{\"gridcolor\":\"white\",\"linecolor\":\"white\",\"ticks\":\"\"}},\"coloraxis\":{\"colorbar\":{\"outlinewidth\":0,\"ticks\":\"\"}},\"colorscale\":{\"sequential\":[[0.0,\"#0d0887\"],[0.1111111111111111,\"#46039f\"],[0.2222222222222222,\"#7201a8\"],[0.3333333333333333,\"#9c179e\"],[0.4444444444444444,\"#bd3786\"],[0.5555555555555556,\"#d8576b\"],[0.6666666666666666,\"#ed7953\"],[0.7777777777777778,\"#fb9f3a\"],[0.8888888888888888,\"#fdca26\"],[1.0,\"#f0f921\"]],\"sequentialminus\":[[0.0,\"#0d0887\"],[0.1111111111111111,\"#46039f\"],[0.2222222222222222,\"#7201a8\"],[0.3333333333333333,\"#9c179e\"],[0.4444444444444444,\"#bd3786\"],[0.5555555555555556,\"#d8576b\"],[0.6666666666666666,\"#ed7953\"],[0.7777777777777778,\"#fb9f3a\"],[0.8888888888888888,\"#fdca26\"],[1.0,\"#f0f921\"]],\"diverging\":[[0,\"#8e0152\"],[0.1,\"#c51b7d\"],[0.2,\"#de77ae\"],[0.3,\"#f1b6da\"],[0.4,\"#fde0ef\"],[0.5,\"#f7f7f7\"],[0.6,\"#e6f5d0\"],[0.7,\"#b8e186\"],[0.8,\"#7fbc41\"],[0.9,\"#4d9221\"],[1,\"#276419\"]]},\"xaxis\":{\"gridcolor\":\"white\",\"linecolor\":\"white\",\"ticks\":\"\",\"title\":{\"standoff\":15},\"zerolinecolor\":\"white\",\"automargin\":true,\"zerolinewidth\":2},\"yaxis\":{\"gridcolor\":\"white\",\"linecolor\":\"white\",\"ticks\":\"\",\"title\":{\"standoff\":15},\"zerolinecolor\":\"white\",\"automargin\":true,\"zerolinewidth\":2},\"scene\":{\"xaxis\":{\"backgroundcolor\":\"#E5ECF6\",\"gridcolor\":\"white\",\"linecolor\":\"white\",\"showbackground\":true,\"ticks\":\"\",\"zerolinecolor\":\"white\",\"gridwidth\":2},\"yaxis\":{\"backgroundcolor\":\"#E5ECF6\",\"gridcolor\":\"white\",\"linecolor\":\"white\",\"showbackground\":true,\"ticks\":\"\",\"zerolinecolor\":\"white\",\"gridwidth\":2},\"zaxis\":{\"backgroundcolor\":\"#E5ECF6\",\"gridcolor\":\"white\",\"linecolor\":\"white\",\"showbackground\":true,\"ticks\":\"\",\"zerolinecolor\":\"white\",\"gridwidth\":2}},\"shapedefaults\":{\"line\":{\"color\":\"#2a3f5f\"}},\"annotationdefaults\":{\"arrowcolor\":\"#2a3f5f\",\"arrowhead\":0,\"arrowwidth\":1},\"geo\":{\"bgcolor\":\"white\",\"landcolor\":\"#E5ECF6\",\"subunitcolor\":\"white\",\"showland\":true,\"showlakes\":true,\"lakecolor\":\"white\"},\"title\":{\"x\":0.05},\"mapbox\":{\"style\":\"light\"}}},\"font\":{\"family\":\"Courier New, monospace\",\"size\":18,\"color\":\"RebeccaPurple\"},\"yaxis\":{\"title\":{\"text\":\"Volume\"}},\"xaxis\":{\"title\":{\"text\":\"Time\"}},\"legend\":{\"title\":{\"text\":\"Detector\"}}},                        {\"responsive\": true}                    ).then(function(){\n",
       "                            \n",
       "var gd = document.getElementById('712c5337-3e6a-4c23-8435-89c1f5b61272');\n",
       "var x = new MutationObserver(function (mutations, observer) {{\n",
       "        var display = window.getComputedStyle(gd).display;\n",
       "        if (!display || display === 'none') {{\n",
       "            console.log([gd, 'removed!']);\n",
       "            Plotly.purge(gd);\n",
       "            observer.disconnect();\n",
       "        }}\n",
       "}});\n",
       "\n",
       "// Listen for the removal of the full notebook cells\n",
       "var notebookContainer = gd.closest('#notebook-container');\n",
       "if (notebookContainer) {{\n",
       "    x.observe(notebookContainer, {childList: true});\n",
       "}}\n",
       "\n",
       "// Listen for the clearing of the current output cell\n",
       "var outputEl = gd.closest('.output');\n",
       "if (outputEl) {{\n",
       "    x.observe(outputEl, {childList: true});\n",
       "}}\n",
       "\n",
       "                        })                };                });            </script>        </div>"
      ]
     },
     "metadata": {},
     "output_type": "display_data"
    },
    {
     "data": {
      "application/vnd.plotly.v1+json": {
       "config": {
        "plotlyServerURL": "https://plot.ly"
       },
       "data": [
        {
         "mode": "lines",
         "name": "Walmart_EBRT",
         "type": "scatter",
         "x": [
          "2023-03-13 00:00:00.000",
          "2023-03-13 01:00:00.000",
          "2023-03-13 02:00:00.000",
          "2023-03-13 03:00:00.000",
          "2023-03-13 04:00:00.000",
          "2023-03-13 05:00:00.000",
          "2023-03-13 06:00:00.000",
          "2023-03-13 07:00:00.000",
          "2023-03-13 08:00:00.000",
          "2023-03-13 09:00:00.000",
          "2023-03-13 10:00:00.000",
          "2023-03-13 11:00:00.000",
          "2023-03-13 12:00:00.000",
          "2023-03-13 13:00:00.000",
          "2023-03-13 14:00:00.000",
          "2023-03-13 15:00:00.000",
          "2023-03-13 16:00:00.000",
          "2023-03-13 17:00:00.000",
          "2023-03-13 18:00:00.000",
          "2023-03-13 19:00:00.000"
         ],
         "y": [
          2,
          2,
          2,
          4,
          3,
          9,
          10,
          16,
          17,
          16,
          14,
          11,
          12,
          16,
          14,
          13,
          13,
          7,
          5,
          1
         ]
        },
        {
         "mode": "lines",
         "name": "Walmart_NBRT",
         "type": "scatter",
         "x": [
          "2023-03-13 00:00:00.000",
          "2023-03-13 01:00:00.000",
          "2023-03-13 03:00:00.000",
          "2023-03-13 04:00:00.000",
          "2023-03-13 05:00:00.000",
          "2023-03-13 06:00:00.000",
          "2023-03-13 07:00:00.000",
          "2023-03-13 08:00:00.000",
          "2023-03-13 09:00:00.000",
          "2023-03-13 10:00:00.000",
          "2023-03-13 11:00:00.000",
          "2023-03-13 12:00:00.000",
          "2023-03-13 13:00:00.000",
          "2023-03-13 14:00:00.000",
          "2023-03-13 15:00:00.000",
          "2023-03-13 16:00:00.000",
          "2023-03-13 17:00:00.000",
          "2023-03-13 18:00:00.000",
          "2023-03-13 19:00:00.000"
         ],
         "y": [
          4,
          2,
          2,
          3,
          9,
          12,
          31,
          52,
          48,
          75,
          101,
          97,
          102,
          81,
          109,
          85,
          78,
          46,
          21
         ]
        },
        {
         "mode": "lines",
         "name": "Walmart_WBL",
         "type": "scatter",
         "x": [
          "2023-03-13 00:00:00.000",
          "2023-03-13 01:00:00.000",
          "2023-03-13 03:00:00.000",
          "2023-03-13 04:00:00.000",
          "2023-03-13 05:00:00.000",
          "2023-03-13 06:00:00.000",
          "2023-03-13 07:00:00.000",
          "2023-03-13 08:00:00.000",
          "2023-03-13 09:00:00.000",
          "2023-03-13 10:00:00.000",
          "2023-03-13 11:00:00.000",
          "2023-03-13 12:00:00.000",
          "2023-03-13 13:00:00.000",
          "2023-03-13 14:00:00.000",
          "2023-03-13 15:00:00.000",
          "2023-03-13 16:00:00.000",
          "2023-03-13 17:00:00.000",
          "2023-03-13 18:00:00.000",
          "2023-03-13 19:00:00.000"
         ],
         "y": [
          2,
          1,
          3,
          18,
          20,
          31,
          68,
          58,
          93,
          109,
          139,
          136,
          119,
          104,
          112,
          92,
          84,
          53,
          16
         ]
        },
        {
         "mode": "lines",
         "name": "Walmart_WBRT",
         "type": "scatter",
         "x": [
          "2023-03-13 00:00:00.000",
          "2023-03-13 01:00:00.000",
          "2023-03-13 02:00:00.000",
          "2023-03-13 03:00:00.000",
          "2023-03-13 04:00:00.000",
          "2023-03-13 05:00:00.000",
          "2023-03-13 06:00:00.000",
          "2023-03-13 07:00:00.000",
          "2023-03-13 08:00:00.000",
          "2023-03-13 09:00:00.000",
          "2023-03-13 10:00:00.000",
          "2023-03-13 11:00:00.000",
          "2023-03-13 12:00:00.000",
          "2023-03-13 13:00:00.000",
          "2023-03-13 14:00:00.000",
          "2023-03-13 15:00:00.000",
          "2023-03-13 16:00:00.000",
          "2023-03-13 17:00:00.000",
          "2023-03-13 18:00:00.000",
          "2023-03-13 19:00:00.000"
         ],
         "y": [
          3,
          1,
          3,
          8,
          2,
          7,
          15,
          32,
          50,
          67,
          86,
          93,
          130,
          126,
          143,
          130,
          148,
          109,
          108,
          28
         ]
        },
        {
         "mode": "lines",
         "name": "Walmart_SBR",
         "type": "scatter",
         "x": [
          "2023-03-13 01:00:00.000",
          "2023-03-13 04:00:00.000",
          "2023-03-13 05:00:00.000",
          "2023-03-13 06:00:00.000",
          "2023-03-13 07:00:00.000",
          "2023-03-13 08:00:00.000",
          "2023-03-13 09:00:00.000",
          "2023-03-13 10:00:00.000",
          "2023-03-13 11:00:00.000",
          "2023-03-13 12:00:00.000",
          "2023-03-13 13:00:00.000",
          "2023-03-13 14:00:00.000",
          "2023-03-13 15:00:00.000",
          "2023-03-13 16:00:00.000",
          "2023-03-13 17:00:00.000",
          "2023-03-13 18:00:00.000",
          "2023-03-13 19:00:00.000"
         ],
         "y": [
          1,
          1,
          3,
          5,
          4,
          6,
          6,
          2,
          1,
          7,
          2,
          8,
          10,
          16,
          10,
          2,
          5
         ]
        },
        {
         "mode": "lines",
         "name": "Walmart_EBLT",
         "type": "scatter",
         "x": [
          "2023-03-13 02:00:00.000",
          "2023-03-13 03:00:00.000",
          "2023-03-13 04:00:00.000",
          "2023-03-13 05:00:00.000",
          "2023-03-13 06:00:00.000",
          "2023-03-13 07:00:00.000",
          "2023-03-13 08:00:00.000",
          "2023-03-13 09:00:00.000",
          "2023-03-13 10:00:00.000",
          "2023-03-13 11:00:00.000",
          "2023-03-13 12:00:00.000",
          "2023-03-13 13:00:00.000",
          "2023-03-13 14:00:00.000",
          "2023-03-13 15:00:00.000",
          "2023-03-13 16:00:00.000",
          "2023-03-13 17:00:00.000",
          "2023-03-13 18:00:00.000",
          "2023-03-13 19:00:00.000"
         ],
         "y": [
          1,
          2,
          3,
          10,
          11,
          13,
          14,
          14,
          16,
          17,
          17,
          12,
          17,
          13,
          10,
          12,
          13,
          4
         ]
        }
       ],
       "layout": {
        "font": {
         "color": "RebeccaPurple",
         "family": "Courier New, monospace",
         "size": 18
        },
        "legend": {
         "title": {
          "text": "Detector"
         }
        },
        "template": {
         "data": {
          "bar": [
           {
            "error_x": {
             "color": "#2a3f5f"
            },
            "error_y": {
             "color": "#2a3f5f"
            },
            "marker": {
             "line": {
              "color": "#E5ECF6",
              "width": 0.5
             },
             "pattern": {
              "fillmode": "overlay",
              "size": 10,
              "solidity": 0.2
             }
            },
            "type": "bar"
           }
          ],
          "barpolar": [
           {
            "marker": {
             "line": {
              "color": "#E5ECF6",
              "width": 0.5
             },
             "pattern": {
              "fillmode": "overlay",
              "size": 10,
              "solidity": 0.2
             }
            },
            "type": "barpolar"
           }
          ],
          "carpet": [
           {
            "aaxis": {
             "endlinecolor": "#2a3f5f",
             "gridcolor": "white",
             "linecolor": "white",
             "minorgridcolor": "white",
             "startlinecolor": "#2a3f5f"
            },
            "baxis": {
             "endlinecolor": "#2a3f5f",
             "gridcolor": "white",
             "linecolor": "white",
             "minorgridcolor": "white",
             "startlinecolor": "#2a3f5f"
            },
            "type": "carpet"
           }
          ],
          "choropleth": [
           {
            "colorbar": {
             "outlinewidth": 0,
             "ticks": ""
            },
            "type": "choropleth"
           }
          ],
          "contour": [
           {
            "colorbar": {
             "outlinewidth": 0,
             "ticks": ""
            },
            "colorscale": [
             [
              0,
              "#0d0887"
             ],
             [
              0.1111111111111111,
              "#46039f"
             ],
             [
              0.2222222222222222,
              "#7201a8"
             ],
             [
              0.3333333333333333,
              "#9c179e"
             ],
             [
              0.4444444444444444,
              "#bd3786"
             ],
             [
              0.5555555555555556,
              "#d8576b"
             ],
             [
              0.6666666666666666,
              "#ed7953"
             ],
             [
              0.7777777777777778,
              "#fb9f3a"
             ],
             [
              0.8888888888888888,
              "#fdca26"
             ],
             [
              1,
              "#f0f921"
             ]
            ],
            "type": "contour"
           }
          ],
          "contourcarpet": [
           {
            "colorbar": {
             "outlinewidth": 0,
             "ticks": ""
            },
            "type": "contourcarpet"
           }
          ],
          "heatmap": [
           {
            "colorbar": {
             "outlinewidth": 0,
             "ticks": ""
            },
            "colorscale": [
             [
              0,
              "#0d0887"
             ],
             [
              0.1111111111111111,
              "#46039f"
             ],
             [
              0.2222222222222222,
              "#7201a8"
             ],
             [
              0.3333333333333333,
              "#9c179e"
             ],
             [
              0.4444444444444444,
              "#bd3786"
             ],
             [
              0.5555555555555556,
              "#d8576b"
             ],
             [
              0.6666666666666666,
              "#ed7953"
             ],
             [
              0.7777777777777778,
              "#fb9f3a"
             ],
             [
              0.8888888888888888,
              "#fdca26"
             ],
             [
              1,
              "#f0f921"
             ]
            ],
            "type": "heatmap"
           }
          ],
          "heatmapgl": [
           {
            "colorbar": {
             "outlinewidth": 0,
             "ticks": ""
            },
            "colorscale": [
             [
              0,
              "#0d0887"
             ],
             [
              0.1111111111111111,
              "#46039f"
             ],
             [
              0.2222222222222222,
              "#7201a8"
             ],
             [
              0.3333333333333333,
              "#9c179e"
             ],
             [
              0.4444444444444444,
              "#bd3786"
             ],
             [
              0.5555555555555556,
              "#d8576b"
             ],
             [
              0.6666666666666666,
              "#ed7953"
             ],
             [
              0.7777777777777778,
              "#fb9f3a"
             ],
             [
              0.8888888888888888,
              "#fdca26"
             ],
             [
              1,
              "#f0f921"
             ]
            ],
            "type": "heatmapgl"
           }
          ],
          "histogram": [
           {
            "marker": {
             "pattern": {
              "fillmode": "overlay",
              "size": 10,
              "solidity": 0.2
             }
            },
            "type": "histogram"
           }
          ],
          "histogram2d": [
           {
            "colorbar": {
             "outlinewidth": 0,
             "ticks": ""
            },
            "colorscale": [
             [
              0,
              "#0d0887"
             ],
             [
              0.1111111111111111,
              "#46039f"
             ],
             [
              0.2222222222222222,
              "#7201a8"
             ],
             [
              0.3333333333333333,
              "#9c179e"
             ],
             [
              0.4444444444444444,
              "#bd3786"
             ],
             [
              0.5555555555555556,
              "#d8576b"
             ],
             [
              0.6666666666666666,
              "#ed7953"
             ],
             [
              0.7777777777777778,
              "#fb9f3a"
             ],
             [
              0.8888888888888888,
              "#fdca26"
             ],
             [
              1,
              "#f0f921"
             ]
            ],
            "type": "histogram2d"
           }
          ],
          "histogram2dcontour": [
           {
            "colorbar": {
             "outlinewidth": 0,
             "ticks": ""
            },
            "colorscale": [
             [
              0,
              "#0d0887"
             ],
             [
              0.1111111111111111,
              "#46039f"
             ],
             [
              0.2222222222222222,
              "#7201a8"
             ],
             [
              0.3333333333333333,
              "#9c179e"
             ],
             [
              0.4444444444444444,
              "#bd3786"
             ],
             [
              0.5555555555555556,
              "#d8576b"
             ],
             [
              0.6666666666666666,
              "#ed7953"
             ],
             [
              0.7777777777777778,
              "#fb9f3a"
             ],
             [
              0.8888888888888888,
              "#fdca26"
             ],
             [
              1,
              "#f0f921"
             ]
            ],
            "type": "histogram2dcontour"
           }
          ],
          "mesh3d": [
           {
            "colorbar": {
             "outlinewidth": 0,
             "ticks": ""
            },
            "type": "mesh3d"
           }
          ],
          "parcoords": [
           {
            "line": {
             "colorbar": {
              "outlinewidth": 0,
              "ticks": ""
             }
            },
            "type": "parcoords"
           }
          ],
          "pie": [
           {
            "automargin": true,
            "type": "pie"
           }
          ],
          "scatter": [
           {
            "fillpattern": {
             "fillmode": "overlay",
             "size": 10,
             "solidity": 0.2
            },
            "type": "scatter"
           }
          ],
          "scatter3d": [
           {
            "line": {
             "colorbar": {
              "outlinewidth": 0,
              "ticks": ""
             }
            },
            "marker": {
             "colorbar": {
              "outlinewidth": 0,
              "ticks": ""
             }
            },
            "type": "scatter3d"
           }
          ],
          "scattercarpet": [
           {
            "marker": {
             "colorbar": {
              "outlinewidth": 0,
              "ticks": ""
             }
            },
            "type": "scattercarpet"
           }
          ],
          "scattergeo": [
           {
            "marker": {
             "colorbar": {
              "outlinewidth": 0,
              "ticks": ""
             }
            },
            "type": "scattergeo"
           }
          ],
          "scattergl": [
           {
            "marker": {
             "colorbar": {
              "outlinewidth": 0,
              "ticks": ""
             }
            },
            "type": "scattergl"
           }
          ],
          "scattermapbox": [
           {
            "marker": {
             "colorbar": {
              "outlinewidth": 0,
              "ticks": ""
             }
            },
            "type": "scattermapbox"
           }
          ],
          "scatterpolar": [
           {
            "marker": {
             "colorbar": {
              "outlinewidth": 0,
              "ticks": ""
             }
            },
            "type": "scatterpolar"
           }
          ],
          "scatterpolargl": [
           {
            "marker": {
             "colorbar": {
              "outlinewidth": 0,
              "ticks": ""
             }
            },
            "type": "scatterpolargl"
           }
          ],
          "scatterternary": [
           {
            "marker": {
             "colorbar": {
              "outlinewidth": 0,
              "ticks": ""
             }
            },
            "type": "scatterternary"
           }
          ],
          "surface": [
           {
            "colorbar": {
             "outlinewidth": 0,
             "ticks": ""
            },
            "colorscale": [
             [
              0,
              "#0d0887"
             ],
             [
              0.1111111111111111,
              "#46039f"
             ],
             [
              0.2222222222222222,
              "#7201a8"
             ],
             [
              0.3333333333333333,
              "#9c179e"
             ],
             [
              0.4444444444444444,
              "#bd3786"
             ],
             [
              0.5555555555555556,
              "#d8576b"
             ],
             [
              0.6666666666666666,
              "#ed7953"
             ],
             [
              0.7777777777777778,
              "#fb9f3a"
             ],
             [
              0.8888888888888888,
              "#fdca26"
             ],
             [
              1,
              "#f0f921"
             ]
            ],
            "type": "surface"
           }
          ],
          "table": [
           {
            "cells": {
             "fill": {
              "color": "#EBF0F8"
             },
             "line": {
              "color": "white"
             }
            },
            "header": {
             "fill": {
              "color": "#C8D4E3"
             },
             "line": {
              "color": "white"
             }
            },
            "type": "table"
           }
          ]
         },
         "layout": {
          "annotationdefaults": {
           "arrowcolor": "#2a3f5f",
           "arrowhead": 0,
           "arrowwidth": 1
          },
          "autotypenumbers": "strict",
          "coloraxis": {
           "colorbar": {
            "outlinewidth": 0,
            "ticks": ""
           }
          },
          "colorscale": {
           "diverging": [
            [
             0,
             "#8e0152"
            ],
            [
             0.1,
             "#c51b7d"
            ],
            [
             0.2,
             "#de77ae"
            ],
            [
             0.3,
             "#f1b6da"
            ],
            [
             0.4,
             "#fde0ef"
            ],
            [
             0.5,
             "#f7f7f7"
            ],
            [
             0.6,
             "#e6f5d0"
            ],
            [
             0.7,
             "#b8e186"
            ],
            [
             0.8,
             "#7fbc41"
            ],
            [
             0.9,
             "#4d9221"
            ],
            [
             1,
             "#276419"
            ]
           ],
           "sequential": [
            [
             0,
             "#0d0887"
            ],
            [
             0.1111111111111111,
             "#46039f"
            ],
            [
             0.2222222222222222,
             "#7201a8"
            ],
            [
             0.3333333333333333,
             "#9c179e"
            ],
            [
             0.4444444444444444,
             "#bd3786"
            ],
            [
             0.5555555555555556,
             "#d8576b"
            ],
            [
             0.6666666666666666,
             "#ed7953"
            ],
            [
             0.7777777777777778,
             "#fb9f3a"
            ],
            [
             0.8888888888888888,
             "#fdca26"
            ],
            [
             1,
             "#f0f921"
            ]
           ],
           "sequentialminus": [
            [
             0,
             "#0d0887"
            ],
            [
             0.1111111111111111,
             "#46039f"
            ],
            [
             0.2222222222222222,
             "#7201a8"
            ],
            [
             0.3333333333333333,
             "#9c179e"
            ],
            [
             0.4444444444444444,
             "#bd3786"
            ],
            [
             0.5555555555555556,
             "#d8576b"
            ],
            [
             0.6666666666666666,
             "#ed7953"
            ],
            [
             0.7777777777777778,
             "#fb9f3a"
            ],
            [
             0.8888888888888888,
             "#fdca26"
            ],
            [
             1,
             "#f0f921"
            ]
           ]
          },
          "colorway": [
           "#636efa",
           "#EF553B",
           "#00cc96",
           "#ab63fa",
           "#FFA15A",
           "#19d3f3",
           "#FF6692",
           "#B6E880",
           "#FF97FF",
           "#FECB52"
          ],
          "font": {
           "color": "#2a3f5f"
          },
          "geo": {
           "bgcolor": "white",
           "lakecolor": "white",
           "landcolor": "#E5ECF6",
           "showlakes": true,
           "showland": true,
           "subunitcolor": "white"
          },
          "hoverlabel": {
           "align": "left"
          },
          "hovermode": "closest",
          "mapbox": {
           "style": "light"
          },
          "paper_bgcolor": "white",
          "plot_bgcolor": "#E5ECF6",
          "polar": {
           "angularaxis": {
            "gridcolor": "white",
            "linecolor": "white",
            "ticks": ""
           },
           "bgcolor": "#E5ECF6",
           "radialaxis": {
            "gridcolor": "white",
            "linecolor": "white",
            "ticks": ""
           }
          },
          "scene": {
           "xaxis": {
            "backgroundcolor": "#E5ECF6",
            "gridcolor": "white",
            "gridwidth": 2,
            "linecolor": "white",
            "showbackground": true,
            "ticks": "",
            "zerolinecolor": "white"
           },
           "yaxis": {
            "backgroundcolor": "#E5ECF6",
            "gridcolor": "white",
            "gridwidth": 2,
            "linecolor": "white",
            "showbackground": true,
            "ticks": "",
            "zerolinecolor": "white"
           },
           "zaxis": {
            "backgroundcolor": "#E5ECF6",
            "gridcolor": "white",
            "gridwidth": 2,
            "linecolor": "white",
            "showbackground": true,
            "ticks": "",
            "zerolinecolor": "white"
           }
          },
          "shapedefaults": {
           "line": {
            "color": "#2a3f5f"
           }
          },
          "ternary": {
           "aaxis": {
            "gridcolor": "white",
            "linecolor": "white",
            "ticks": ""
           },
           "baxis": {
            "gridcolor": "white",
            "linecolor": "white",
            "ticks": ""
           },
           "bgcolor": "#E5ECF6",
           "caxis": {
            "gridcolor": "white",
            "linecolor": "white",
            "ticks": ""
           }
          },
          "title": {
           "x": 0.05
          },
          "xaxis": {
           "automargin": true,
           "gridcolor": "white",
           "linecolor": "white",
           "ticks": "",
           "title": {
            "standoff": 15
           },
           "zerolinecolor": "white",
           "zerolinewidth": 2
          },
          "yaxis": {
           "automargin": true,
           "gridcolor": "white",
           "linecolor": "white",
           "ticks": "",
           "title": {
            "standoff": 15
           },
           "zerolinecolor": "white",
           "zerolinewidth": 2
          }
         }
        },
        "xaxis": {
         "title": {
          "text": "Time"
         }
        },
        "yaxis": {
         "title": {
          "text": "Volume"
         }
        }
       }
      },
      "text/html": [
       "<div>                            <div id=\"f715b059-18cb-43f4-9561-19d94d88c98a\" class=\"plotly-graph-div\" style=\"height:525px; width:100%;\"></div>            <script type=\"text/javascript\">                require([\"plotly\"], function(Plotly) {                    window.PLOTLYENV=window.PLOTLYENV || {};                                    if (document.getElementById(\"f715b059-18cb-43f4-9561-19d94d88c98a\")) {                    Plotly.newPlot(                        \"f715b059-18cb-43f4-9561-19d94d88c98a\",                        [{\"mode\":\"lines\",\"name\":\"Walmart_EBRT\",\"x\":[\"2023-03-13 00:00:00.000\",\"2023-03-13 01:00:00.000\",\"2023-03-13 02:00:00.000\",\"2023-03-13 03:00:00.000\",\"2023-03-13 04:00:00.000\",\"2023-03-13 05:00:00.000\",\"2023-03-13 06:00:00.000\",\"2023-03-13 07:00:00.000\",\"2023-03-13 08:00:00.000\",\"2023-03-13 09:00:00.000\",\"2023-03-13 10:00:00.000\",\"2023-03-13 11:00:00.000\",\"2023-03-13 12:00:00.000\",\"2023-03-13 13:00:00.000\",\"2023-03-13 14:00:00.000\",\"2023-03-13 15:00:00.000\",\"2023-03-13 16:00:00.000\",\"2023-03-13 17:00:00.000\",\"2023-03-13 18:00:00.000\",\"2023-03-13 19:00:00.000\"],\"y\":[2,2,2,4,3,9,10,16,17,16,14,11,12,16,14,13,13,7,5,1],\"type\":\"scatter\"},{\"mode\":\"lines\",\"name\":\"Walmart_NBRT\",\"x\":[\"2023-03-13 00:00:00.000\",\"2023-03-13 01:00:00.000\",\"2023-03-13 03:00:00.000\",\"2023-03-13 04:00:00.000\",\"2023-03-13 05:00:00.000\",\"2023-03-13 06:00:00.000\",\"2023-03-13 07:00:00.000\",\"2023-03-13 08:00:00.000\",\"2023-03-13 09:00:00.000\",\"2023-03-13 10:00:00.000\",\"2023-03-13 11:00:00.000\",\"2023-03-13 12:00:00.000\",\"2023-03-13 13:00:00.000\",\"2023-03-13 14:00:00.000\",\"2023-03-13 15:00:00.000\",\"2023-03-13 16:00:00.000\",\"2023-03-13 17:00:00.000\",\"2023-03-13 18:00:00.000\",\"2023-03-13 19:00:00.000\"],\"y\":[4,2,2,3,9,12,31,52,48,75,101,97,102,81,109,85,78,46,21],\"type\":\"scatter\"},{\"mode\":\"lines\",\"name\":\"Walmart_WBL\",\"x\":[\"2023-03-13 00:00:00.000\",\"2023-03-13 01:00:00.000\",\"2023-03-13 03:00:00.000\",\"2023-03-13 04:00:00.000\",\"2023-03-13 05:00:00.000\",\"2023-03-13 06:00:00.000\",\"2023-03-13 07:00:00.000\",\"2023-03-13 08:00:00.000\",\"2023-03-13 09:00:00.000\",\"2023-03-13 10:00:00.000\",\"2023-03-13 11:00:00.000\",\"2023-03-13 12:00:00.000\",\"2023-03-13 13:00:00.000\",\"2023-03-13 14:00:00.000\",\"2023-03-13 15:00:00.000\",\"2023-03-13 16:00:00.000\",\"2023-03-13 17:00:00.000\",\"2023-03-13 18:00:00.000\",\"2023-03-13 19:00:00.000\"],\"y\":[2,1,3,18,20,31,68,58,93,109,139,136,119,104,112,92,84,53,16],\"type\":\"scatter\"},{\"mode\":\"lines\",\"name\":\"Walmart_WBRT\",\"x\":[\"2023-03-13 00:00:00.000\",\"2023-03-13 01:00:00.000\",\"2023-03-13 02:00:00.000\",\"2023-03-13 03:00:00.000\",\"2023-03-13 04:00:00.000\",\"2023-03-13 05:00:00.000\",\"2023-03-13 06:00:00.000\",\"2023-03-13 07:00:00.000\",\"2023-03-13 08:00:00.000\",\"2023-03-13 09:00:00.000\",\"2023-03-13 10:00:00.000\",\"2023-03-13 11:00:00.000\",\"2023-03-13 12:00:00.000\",\"2023-03-13 13:00:00.000\",\"2023-03-13 14:00:00.000\",\"2023-03-13 15:00:00.000\",\"2023-03-13 16:00:00.000\",\"2023-03-13 17:00:00.000\",\"2023-03-13 18:00:00.000\",\"2023-03-13 19:00:00.000\"],\"y\":[3,1,3,8,2,7,15,32,50,67,86,93,130,126,143,130,148,109,108,28],\"type\":\"scatter\"},{\"mode\":\"lines\",\"name\":\"Walmart_SBR\",\"x\":[\"2023-03-13 01:00:00.000\",\"2023-03-13 04:00:00.000\",\"2023-03-13 05:00:00.000\",\"2023-03-13 06:00:00.000\",\"2023-03-13 07:00:00.000\",\"2023-03-13 08:00:00.000\",\"2023-03-13 09:00:00.000\",\"2023-03-13 10:00:00.000\",\"2023-03-13 11:00:00.000\",\"2023-03-13 12:00:00.000\",\"2023-03-13 13:00:00.000\",\"2023-03-13 14:00:00.000\",\"2023-03-13 15:00:00.000\",\"2023-03-13 16:00:00.000\",\"2023-03-13 17:00:00.000\",\"2023-03-13 18:00:00.000\",\"2023-03-13 19:00:00.000\"],\"y\":[1,1,3,5,4,6,6,2,1,7,2,8,10,16,10,2,5],\"type\":\"scatter\"},{\"mode\":\"lines\",\"name\":\"Walmart_EBLT\",\"x\":[\"2023-03-13 02:00:00.000\",\"2023-03-13 03:00:00.000\",\"2023-03-13 04:00:00.000\",\"2023-03-13 05:00:00.000\",\"2023-03-13 06:00:00.000\",\"2023-03-13 07:00:00.000\",\"2023-03-13 08:00:00.000\",\"2023-03-13 09:00:00.000\",\"2023-03-13 10:00:00.000\",\"2023-03-13 11:00:00.000\",\"2023-03-13 12:00:00.000\",\"2023-03-13 13:00:00.000\",\"2023-03-13 14:00:00.000\",\"2023-03-13 15:00:00.000\",\"2023-03-13 16:00:00.000\",\"2023-03-13 17:00:00.000\",\"2023-03-13 18:00:00.000\",\"2023-03-13 19:00:00.000\"],\"y\":[1,2,3,10,11,13,14,14,16,17,17,12,17,13,10,12,13,4],\"type\":\"scatter\"}],                        {\"template\":{\"data\":{\"histogram2dcontour\":[{\"type\":\"histogram2dcontour\",\"colorbar\":{\"outlinewidth\":0,\"ticks\":\"\"},\"colorscale\":[[0.0,\"#0d0887\"],[0.1111111111111111,\"#46039f\"],[0.2222222222222222,\"#7201a8\"],[0.3333333333333333,\"#9c179e\"],[0.4444444444444444,\"#bd3786\"],[0.5555555555555556,\"#d8576b\"],[0.6666666666666666,\"#ed7953\"],[0.7777777777777778,\"#fb9f3a\"],[0.8888888888888888,\"#fdca26\"],[1.0,\"#f0f921\"]]}],\"choropleth\":[{\"type\":\"choropleth\",\"colorbar\":{\"outlinewidth\":0,\"ticks\":\"\"}}],\"histogram2d\":[{\"type\":\"histogram2d\",\"colorbar\":{\"outlinewidth\":0,\"ticks\":\"\"},\"colorscale\":[[0.0,\"#0d0887\"],[0.1111111111111111,\"#46039f\"],[0.2222222222222222,\"#7201a8\"],[0.3333333333333333,\"#9c179e\"],[0.4444444444444444,\"#bd3786\"],[0.5555555555555556,\"#d8576b\"],[0.6666666666666666,\"#ed7953\"],[0.7777777777777778,\"#fb9f3a\"],[0.8888888888888888,\"#fdca26\"],[1.0,\"#f0f921\"]]}],\"heatmap\":[{\"type\":\"heatmap\",\"colorbar\":{\"outlinewidth\":0,\"ticks\":\"\"},\"colorscale\":[[0.0,\"#0d0887\"],[0.1111111111111111,\"#46039f\"],[0.2222222222222222,\"#7201a8\"],[0.3333333333333333,\"#9c179e\"],[0.4444444444444444,\"#bd3786\"],[0.5555555555555556,\"#d8576b\"],[0.6666666666666666,\"#ed7953\"],[0.7777777777777778,\"#fb9f3a\"],[0.8888888888888888,\"#fdca26\"],[1.0,\"#f0f921\"]]}],\"heatmapgl\":[{\"type\":\"heatmapgl\",\"colorbar\":{\"outlinewidth\":0,\"ticks\":\"\"},\"colorscale\":[[0.0,\"#0d0887\"],[0.1111111111111111,\"#46039f\"],[0.2222222222222222,\"#7201a8\"],[0.3333333333333333,\"#9c179e\"],[0.4444444444444444,\"#bd3786\"],[0.5555555555555556,\"#d8576b\"],[0.6666666666666666,\"#ed7953\"],[0.7777777777777778,\"#fb9f3a\"],[0.8888888888888888,\"#fdca26\"],[1.0,\"#f0f921\"]]}],\"contourcarpet\":[{\"type\":\"contourcarpet\",\"colorbar\":{\"outlinewidth\":0,\"ticks\":\"\"}}],\"contour\":[{\"type\":\"contour\",\"colorbar\":{\"outlinewidth\":0,\"ticks\":\"\"},\"colorscale\":[[0.0,\"#0d0887\"],[0.1111111111111111,\"#46039f\"],[0.2222222222222222,\"#7201a8\"],[0.3333333333333333,\"#9c179e\"],[0.4444444444444444,\"#bd3786\"],[0.5555555555555556,\"#d8576b\"],[0.6666666666666666,\"#ed7953\"],[0.7777777777777778,\"#fb9f3a\"],[0.8888888888888888,\"#fdca26\"],[1.0,\"#f0f921\"]]}],\"surface\":[{\"type\":\"surface\",\"colorbar\":{\"outlinewidth\":0,\"ticks\":\"\"},\"colorscale\":[[0.0,\"#0d0887\"],[0.1111111111111111,\"#46039f\"],[0.2222222222222222,\"#7201a8\"],[0.3333333333333333,\"#9c179e\"],[0.4444444444444444,\"#bd3786\"],[0.5555555555555556,\"#d8576b\"],[0.6666666666666666,\"#ed7953\"],[0.7777777777777778,\"#fb9f3a\"],[0.8888888888888888,\"#fdca26\"],[1.0,\"#f0f921\"]]}],\"mesh3d\":[{\"type\":\"mesh3d\",\"colorbar\":{\"outlinewidth\":0,\"ticks\":\"\"}}],\"scatter\":[{\"fillpattern\":{\"fillmode\":\"overlay\",\"size\":10,\"solidity\":0.2},\"type\":\"scatter\"}],\"parcoords\":[{\"type\":\"parcoords\",\"line\":{\"colorbar\":{\"outlinewidth\":0,\"ticks\":\"\"}}}],\"scatterpolargl\":[{\"type\":\"scatterpolargl\",\"marker\":{\"colorbar\":{\"outlinewidth\":0,\"ticks\":\"\"}}}],\"bar\":[{\"error_x\":{\"color\":\"#2a3f5f\"},\"error_y\":{\"color\":\"#2a3f5f\"},\"marker\":{\"line\":{\"color\":\"#E5ECF6\",\"width\":0.5},\"pattern\":{\"fillmode\":\"overlay\",\"size\":10,\"solidity\":0.2}},\"type\":\"bar\"}],\"scattergeo\":[{\"type\":\"scattergeo\",\"marker\":{\"colorbar\":{\"outlinewidth\":0,\"ticks\":\"\"}}}],\"scatterpolar\":[{\"type\":\"scatterpolar\",\"marker\":{\"colorbar\":{\"outlinewidth\":0,\"ticks\":\"\"}}}],\"histogram\":[{\"marker\":{\"pattern\":{\"fillmode\":\"overlay\",\"size\":10,\"solidity\":0.2}},\"type\":\"histogram\"}],\"scattergl\":[{\"type\":\"scattergl\",\"marker\":{\"colorbar\":{\"outlinewidth\":0,\"ticks\":\"\"}}}],\"scatter3d\":[{\"type\":\"scatter3d\",\"line\":{\"colorbar\":{\"outlinewidth\":0,\"ticks\":\"\"}},\"marker\":{\"colorbar\":{\"outlinewidth\":0,\"ticks\":\"\"}}}],\"scattermapbox\":[{\"type\":\"scattermapbox\",\"marker\":{\"colorbar\":{\"outlinewidth\":0,\"ticks\":\"\"}}}],\"scatterternary\":[{\"type\":\"scatterternary\",\"marker\":{\"colorbar\":{\"outlinewidth\":0,\"ticks\":\"\"}}}],\"scattercarpet\":[{\"type\":\"scattercarpet\",\"marker\":{\"colorbar\":{\"outlinewidth\":0,\"ticks\":\"\"}}}],\"carpet\":[{\"aaxis\":{\"endlinecolor\":\"#2a3f5f\",\"gridcolor\":\"white\",\"linecolor\":\"white\",\"minorgridcolor\":\"white\",\"startlinecolor\":\"#2a3f5f\"},\"baxis\":{\"endlinecolor\":\"#2a3f5f\",\"gridcolor\":\"white\",\"linecolor\":\"white\",\"minorgridcolor\":\"white\",\"startlinecolor\":\"#2a3f5f\"},\"type\":\"carpet\"}],\"table\":[{\"cells\":{\"fill\":{\"color\":\"#EBF0F8\"},\"line\":{\"color\":\"white\"}},\"header\":{\"fill\":{\"color\":\"#C8D4E3\"},\"line\":{\"color\":\"white\"}},\"type\":\"table\"}],\"barpolar\":[{\"marker\":{\"line\":{\"color\":\"#E5ECF6\",\"width\":0.5},\"pattern\":{\"fillmode\":\"overlay\",\"size\":10,\"solidity\":0.2}},\"type\":\"barpolar\"}],\"pie\":[{\"automargin\":true,\"type\":\"pie\"}]},\"layout\":{\"autotypenumbers\":\"strict\",\"colorway\":[\"#636efa\",\"#EF553B\",\"#00cc96\",\"#ab63fa\",\"#FFA15A\",\"#19d3f3\",\"#FF6692\",\"#B6E880\",\"#FF97FF\",\"#FECB52\"],\"font\":{\"color\":\"#2a3f5f\"},\"hovermode\":\"closest\",\"hoverlabel\":{\"align\":\"left\"},\"paper_bgcolor\":\"white\",\"plot_bgcolor\":\"#E5ECF6\",\"polar\":{\"bgcolor\":\"#E5ECF6\",\"angularaxis\":{\"gridcolor\":\"white\",\"linecolor\":\"white\",\"ticks\":\"\"},\"radialaxis\":{\"gridcolor\":\"white\",\"linecolor\":\"white\",\"ticks\":\"\"}},\"ternary\":{\"bgcolor\":\"#E5ECF6\",\"aaxis\":{\"gridcolor\":\"white\",\"linecolor\":\"white\",\"ticks\":\"\"},\"baxis\":{\"gridcolor\":\"white\",\"linecolor\":\"white\",\"ticks\":\"\"},\"caxis\":{\"gridcolor\":\"white\",\"linecolor\":\"white\",\"ticks\":\"\"}},\"coloraxis\":{\"colorbar\":{\"outlinewidth\":0,\"ticks\":\"\"}},\"colorscale\":{\"sequential\":[[0.0,\"#0d0887\"],[0.1111111111111111,\"#46039f\"],[0.2222222222222222,\"#7201a8\"],[0.3333333333333333,\"#9c179e\"],[0.4444444444444444,\"#bd3786\"],[0.5555555555555556,\"#d8576b\"],[0.6666666666666666,\"#ed7953\"],[0.7777777777777778,\"#fb9f3a\"],[0.8888888888888888,\"#fdca26\"],[1.0,\"#f0f921\"]],\"sequentialminus\":[[0.0,\"#0d0887\"],[0.1111111111111111,\"#46039f\"],[0.2222222222222222,\"#7201a8\"],[0.3333333333333333,\"#9c179e\"],[0.4444444444444444,\"#bd3786\"],[0.5555555555555556,\"#d8576b\"],[0.6666666666666666,\"#ed7953\"],[0.7777777777777778,\"#fb9f3a\"],[0.8888888888888888,\"#fdca26\"],[1.0,\"#f0f921\"]],\"diverging\":[[0,\"#8e0152\"],[0.1,\"#c51b7d\"],[0.2,\"#de77ae\"],[0.3,\"#f1b6da\"],[0.4,\"#fde0ef\"],[0.5,\"#f7f7f7\"],[0.6,\"#e6f5d0\"],[0.7,\"#b8e186\"],[0.8,\"#7fbc41\"],[0.9,\"#4d9221\"],[1,\"#276419\"]]},\"xaxis\":{\"gridcolor\":\"white\",\"linecolor\":\"white\",\"ticks\":\"\",\"title\":{\"standoff\":15},\"zerolinecolor\":\"white\",\"automargin\":true,\"zerolinewidth\":2},\"yaxis\":{\"gridcolor\":\"white\",\"linecolor\":\"white\",\"ticks\":\"\",\"title\":{\"standoff\":15},\"zerolinecolor\":\"white\",\"automargin\":true,\"zerolinewidth\":2},\"scene\":{\"xaxis\":{\"backgroundcolor\":\"#E5ECF6\",\"gridcolor\":\"white\",\"linecolor\":\"white\",\"showbackground\":true,\"ticks\":\"\",\"zerolinecolor\":\"white\",\"gridwidth\":2},\"yaxis\":{\"backgroundcolor\":\"#E5ECF6\",\"gridcolor\":\"white\",\"linecolor\":\"white\",\"showbackground\":true,\"ticks\":\"\",\"zerolinecolor\":\"white\",\"gridwidth\":2},\"zaxis\":{\"backgroundcolor\":\"#E5ECF6\",\"gridcolor\":\"white\",\"linecolor\":\"white\",\"showbackground\":true,\"ticks\":\"\",\"zerolinecolor\":\"white\",\"gridwidth\":2}},\"shapedefaults\":{\"line\":{\"color\":\"#2a3f5f\"}},\"annotationdefaults\":{\"arrowcolor\":\"#2a3f5f\",\"arrowhead\":0,\"arrowwidth\":1},\"geo\":{\"bgcolor\":\"white\",\"landcolor\":\"#E5ECF6\",\"subunitcolor\":\"white\",\"showland\":true,\"showlakes\":true,\"lakecolor\":\"white\"},\"title\":{\"x\":0.05},\"mapbox\":{\"style\":\"light\"}}},\"font\":{\"family\":\"Courier New, monospace\",\"size\":18,\"color\":\"RebeccaPurple\"},\"yaxis\":{\"title\":{\"text\":\"Volume\"}},\"xaxis\":{\"title\":{\"text\":\"Time\"}},\"legend\":{\"title\":{\"text\":\"Detector\"}}},                        {\"responsive\": true}                    ).then(function(){\n",
       "                            \n",
       "var gd = document.getElementById('f715b059-18cb-43f4-9561-19d94d88c98a');\n",
       "var x = new MutationObserver(function (mutations, observer) {{\n",
       "        var display = window.getComputedStyle(gd).display;\n",
       "        if (!display || display === 'none') {{\n",
       "            console.log([gd, 'removed!']);\n",
       "            Plotly.purge(gd);\n",
       "            observer.disconnect();\n",
       "        }}\n",
       "}});\n",
       "\n",
       "// Listen for the removal of the full notebook cells\n",
       "var notebookContainer = gd.closest('#notebook-container');\n",
       "if (notebookContainer) {{\n",
       "    x.observe(notebookContainer, {childList: true});\n",
       "}}\n",
       "\n",
       "// Listen for the clearing of the current output cell\n",
       "var outputEl = gd.closest('.output');\n",
       "if (outputEl) {{\n",
       "    x.observe(outputEl, {childList: true});\n",
       "}}\n",
       "\n",
       "                        })                };                });            </script>        </div>"
      ]
     },
     "metadata": {},
     "output_type": "display_data"
    }
   ],
   "source": [
    "import plotly.graph_objects as go\n",
    "\n",
    "\n",
    "for signal, df in plot_df.group_by('signal'):\n",
    "    fig = go.Figure()\n",
    "\n",
    "    for lane, detector_df in df.groupby(\"lane\",  maintain_order=True):\n",
    "        fig.add_trace(\n",
    "            go.Scatter(\n",
    "                x=detector_df[\"epoch_time_cst\"].cast(str),\n",
    "                y=detector_df[\"volume\"],\n",
    "                name=f\"{lane}\",\n",
    "                mode=\"lines\",\n",
    "                # line=dict(color=color_dict[detector_df[0]]),\n",
    "            )\n",
    "        )\n",
    "    \n",
    "    fig.update_layout(\n",
    "        # title=f\"Signal {tl_df[0]}\",\n",
    "        yaxis_title=\"Volume\",\n",
    "        xaxis_title=\"Time\",\n",
    "        legend_title=\"Detector\",\n",
    "        font=dict(family=\"Courier New, monospace\", size=18, color=\"RebeccaPurple\"),\n",
    "        # yaxis=dict(\n",
    "        #     # set the range of the xaxis to the range of the data\n",
    "        #     range=[0, 1000],\n",
    "        # ),\n",
    "    )\n",
    "    \n",
    "    fig.show()"
   ]
  }
 ],
 "metadata": {
  "kernelspec": {
   "display_name": "venv",
   "language": "python",
   "name": "python3"
  },
  "language_info": {
   "codemirror_mode": {
    "name": "ipython",
    "version": 3
   },
   "file_extension": ".py",
   "mimetype": "text/x-python",
   "name": "python",
   "nbconvert_exporter": "python",
   "pygments_lexer": "ipython3",
   "version": "3.11.5"
  }
 },
 "nbformat": 4,
 "nbformat_minor": 2
}
