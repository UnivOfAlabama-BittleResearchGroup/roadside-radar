{
 "cells": [
  {
   "cell_type": "markdown",
   "metadata": {},
   "source": [
    "# Images for Presentation & Papers"
   ]
  },
  {
   "cell_type": "code",
   "execution_count": null,
   "metadata": {},
   "outputs": [],
   "source": [
    "%load_ext autoreload\n",
    "%autoreload 2"
   ]
  },
  {
   "cell_type": "code",
   "execution_count": null,
   "metadata": {},
   "outputs": [],
   "source": [
    "%load_ext autoreload\n",
    "%autoreload 2\n",
    "\n",
    "# find the root of the project\n",
    "import os\n",
    "from pathlib import Path\n",
    "import polars as pl\n",
    "\n",
    "ROOT = Path(os.getcwd()).parent\n",
    "while not ROOT.joinpath(\".git\").exists():\n",
    "    ROOT = ROOT.parent\n",
    "\n",
    "# add the root to the python path\n",
    "import sys\n",
    "\n",
    "sys.path.append(str(ROOT))"
   ]
  },
  {
   "cell_type": "markdown",
   "metadata": {},
   "source": [
    "## Read in the Processed Trajectory Data"
   ]
  },
  {
   "cell_type": "code",
   "execution_count": null,
   "metadata": {},
   "outputs": [],
   "source": [
    "pl.scan_parquet(\n",
    "    ROOT / \"notebooks\" / \"clean_workflow\" / \"data\" / \"merged_trajectories.parquet\"\n",
    ").collect().write_database(\n",
    "    table_name=\"merged_trajectories\",\n",
    "    connection=\"sqlite:////home/max/Development/ua-traffic-data/trajectories.db\",\n",
    "    if_exists=\"replace\"\n",
    ")"
   ]
  },
  {
   "cell_type": "code",
   "execution_count": null,
   "metadata": {},
   "outputs": [],
   "source": [
    "pl.read_database_uri(\n",
    "    query=\"SELECT * FROM merged_trajectories; WHERE vehicle_id = 1;\",\n",
    "    uri=\"sqlite:////home/max/Development/ua-traffic-data/trajectories.db\",\n",
    ")"
   ]
  },
  {
   "cell_type": "code",
   "execution_count": null,
   "metadata": {},
   "outputs": [],
   "source": [
    "from datetime import timedelta\n",
    "\n",
    "\n",
    "trajectory_df = (\n",
    "    pl.scan_parquet(\n",
    "        ROOT / \"notebooks\" / \"clean_workflow\" / \"data\" / \"merged_trajectories.parquet\"\n",
    "    )\n",
    "    .filter(\n",
    "        pl.col(\"epoch_time\").is_between(\n",
    "            pl.col(\"epoch_time\").min() + timedelta(hours=0, minutes=0),\n",
    "            pl.col(\"epoch_time\").min() + timedelta(hours=0, minutes=45),\n",
    "        )\n",
    "    )\n",
    "    .with_columns(\n",
    "        pl.struct([\"lane\", \"lane_index\"]).hash().alias(\"lane_hash\"),\n",
    "    )\n",
    "    .collect()\n",
    ")\n",
    "\n",
    "trajectory_df.head()"
   ]
  },
  {
   "cell_type": "markdown",
   "metadata": {},
   "source": [
    "### Read in the ID Mapping"
   ]
  },
  {
   "cell_type": "code",
   "execution_count": null,
   "metadata": {},
   "outputs": [],
   "source": [
    "mapping_df = (\n",
    "    pl.scan_parquet(\n",
    "        ROOT.joinpath(\"notebooks/clean_workflow/data/vehicle_id_map.parquet\")\n",
    "    )\n",
    "    .filter(pl.col(\"vehicle_id\").is_in(trajectory_df[\"vehicle_id\"]))\n",
    "    .collect()\n",
    ")\n",
    "\n",
    "mapping_df.head()"
   ]
  },
  {
   "cell_type": "markdown",
   "metadata": {},
   "source": [
    "### Read in the Raw Trajectory Data"
   ]
  },
  {
   "cell_type": "code",
   "execution_count": null,
   "metadata": {},
   "outputs": [],
   "source": [
    "raw_df = (\n",
    "    pl.scan_parquet(\n",
    "        ROOT\n",
    "        / \"notebooks\"\n",
    "        / \"clean_workflow\"\n",
    "        / \"data\"\n",
    "        / \"all_working_processed_1Lane.parquet\"\n",
    "    )\n",
    "    .filter(pl.col(\"object_id\").is_in(mapping_df[\"object_id\"]))\n",
    "    .collect()\n",
    ")"
   ]
  },
  {
   "cell_type": "markdown",
   "metadata": {},
   "source": [
    "## Plots! "
   ]
  },
  {
   "cell_type": "code",
   "execution_count": null,
   "metadata": {},
   "outputs": [],
   "source": [
    "from src.plotting.time_space import plot_time_space\n",
    "from datetime import timedelta\n",
    "from src.radar import Filtering\n",
    "\n",
    "\n",
    "# get a 10 minute window\n",
    "plot_df = (\n",
    "    trajectory_df.filter(\n",
    "        pl.col(\"epoch_time\").is_between(\n",
    "            trajectory_df[\"epoch_time\"].min() + timedelta(hours=0, minutes=40),\n",
    "            trajectory_df[\"epoch_time\"].min() + timedelta(hours=0, minutes=45),\n",
    "        )\n",
    "        & (pl.col(\"lane\").str.contains(\"WBL1\"))\n",
    "        & (pl.col(\"lane_index\") == 1)\n",
    "    )\n",
    "    .pipe(Filtering.add_cst_timezone)\n",
    "    .sort(\"epoch_time\")\n",
    ")\n",
    "\n",
    "fig = plot_time_space(\n",
    "    plot_df,\n",
    "    hoverdata=\"vehicle_id\",\n",
    "    vehicle_col=\"vehicle_id\",\n",
    "    markers=True,\n",
    "    s_col=\"s_smooth\",\n",
    ")\n",
    "\n",
    "# make these plots look nice\n",
    "fig.update_layout(\n",
    "    title=\"Filtered + Joined Trajectories\",\n",
    "    xaxis_title=\"Time\",\n",
    "    yaxis_title=\"Space\",\n",
    "    legend_title=\"Vehicle ID\",\n",
    "    font=dict(size=18, color=\"black\", family=\"Times New Roman\"),\n",
    "    height=800,\n",
    "    width=1200,\n",
    "    # # remove the background\n",
    "    # plot_bgcolor=\"rgba(0,0,0,0)\",\n",
    "    # # remove the grid\n",
    "    # xaxis=dict(showgrid=True, ),\n",
    "    # yaxis=dict(showgrid=True),\n",
    "    # # set the grid color to grey\n",
    "    # xaxis_gridcolor=\"grey\",\n",
    "    # yaxis_gridcolor=\"grey\",\n",
    "    # # outline the axis in black\n",
    "    # xaxis_linecolor=\"black\",\n",
    "    # yaxis_linecolor=\"black\",\n",
    "    # # make minor ticks\n",
    ")\n",
    "\n",
    "\n",
    "fig.show()"
   ]
  },
  {
   "cell_type": "code",
   "execution_count": null,
   "metadata": {},
   "outputs": [],
   "source": [
    "from src.plotting.time_space import plot_time_space\n",
    "from datetime import timedelta\n",
    "from src.radar import Filtering\n",
    "\n",
    "\n",
    "# get a 10 minute window\n",
    "plot_df = (\n",
    "    raw_df.filter(\n",
    "        pl.col(\"epoch_time\").is_between(\n",
    "            raw_df[\"epoch_time\"].min() + timedelta(hours=0, minutes=40),\n",
    "            raw_df[\"epoch_time\"].min() + timedelta(hours=0, minutes=45),\n",
    "        )\n",
    "        & (\n",
    "            pl.col(\"object_id\").is_in(\n",
    "                mapping_df.filter(pl.col(\"vehicle_id\").is_in(plot_df[\"vehicle_id\"]))[\n",
    "                    \"object_id\"\n",
    "                ]\n",
    "            )\n",
    "        )\n",
    "    )\n",
    "    .pipe(Filtering.add_cst_timezone)\n",
    "    .sort(\"epoch_time\")\n",
    ")\n",
    "\n",
    "fig = plot_time_space(\n",
    "    plot_df,\n",
    "    hoverdata=\"object_id\",\n",
    "    vehicle_col=\"object_id\",\n",
    "    markers=True,\n",
    "    s_col=\"s\",\n",
    ")\n",
    "\n",
    "# make these plots look nice\n",
    "fig.update_layout(\n",
    "    title=\"Raw data\",\n",
    "    xaxis_title=\"Time\",\n",
    "    yaxis_title=\"Space\",\n",
    "    legend_title=\"Vehicle ID\",\n",
    "    font=dict(size=18, color=\"black\", family=\"Times New Roman\"),\n",
    "    height=800,\n",
    "    width=1200,\n",
    "    # # remove the background\n",
    "    # plot_bgcolor=\"rgba(0,0,0,0)\",\n",
    "    # # remove the grid\n",
    "    # xaxis=dict(showgrid=True, ),\n",
    "    # yaxis=dict(showgrid=True),\n",
    "    # # set the grid color to grey\n",
    "    # xaxis_gridcolor=\"grey\",\n",
    "    # yaxis_gridcolor=\"grey\",\n",
    "    # # outline the axis in black\n",
    "    # xaxis_linecolor=\"black\",\n",
    "    # yaxis_linecolor=\"black\",\n",
    "    # # make minor ticks\n",
    ")\n",
    "\n",
    "\n",
    "fig.show()"
   ]
  },
  {
   "cell_type": "code",
   "execution_count": null,
   "metadata": {},
   "outputs": [],
   "source": [
    "import plotly.graph_objects as go\n",
    "\n",
    "veh = 1462\n",
    "\n",
    "plot_df = trajectory_df.filter(pl.col(\"vehicle_id\") == veh)\n",
    "\n",
    "fig = go.Figure()\n",
    "\n",
    "fig.add_trace(\n",
    "    go.Scatter(\n",
    "        x=plot_df[\"epoch_time\"],\n",
    "        y=plot_df[\"s_velocity_smooth\"] * -1,\n",
    "        mode=\"markers\",\n",
    "        marker=dict(color=\"green\", size=4),\n",
    "        name=\"Joined Trajectory\",\n",
    "    )\n",
    ")\n",
    "\n",
    "\n",
    "individual_traj = raw_df.filter(\n",
    "    pl.col(\"object_id\").is_in(\n",
    "        mapping_df.filter(pl.col(\"vehicle_id\") == veh)[\"object_id\"]\n",
    "    )\n",
    ").sort(\"epoch_time\")\n",
    "\n",
    "for v, v_df in individual_traj.group_by(\"object_id\"):\n",
    "    fig.add_trace(\n",
    "        go.Scatter(\n",
    "            x=v_df[\"epoch_time\"],\n",
    "            y=v_df[\"f32_velocityInDir_mps\"],\n",
    "            mode=\"markers\",\n",
    "            marker=dict(size=4),\n",
    "            name=f\"{v}\",\n",
    "        )\n",
    "    )\n",
    "\n",
    "\n",
    "\n",
    "# make these plots look nice\n",
    "fig.update_layout(\n",
    "    title=\"Single Vehicle Trajectory\",\n",
    "    xaxis_title=\"Time\",\n",
    "    yaxis_title=\"Spped [m/s]\",\n",
    "    legend_title=\"Vehicle ID\",\n",
    "    font=dict(size=18, color=\"black\", family=\"Times New Roman\"),\n",
    "    height=800,\n",
    "    width=1200,\n",
    ")\n",
    "\n",
    "fig.show()"
   ]
  },
  {
   "cell_type": "code",
   "execution_count": null,
   "metadata": {},
   "outputs": [],
   "source": [
    "7_859"
   ]
  },
  {
   "cell_type": "code",
   "execution_count": null,
   "metadata": {},
   "outputs": [],
   "source": [
    "individual_traj"
   ]
  }
 ],
 "metadata": {
  "kernelspec": {
   "display_name": "venv",
   "language": "python",
   "name": "python3"
  },
  "language_info": {
   "codemirror_mode": {
    "name": "ipython",
    "version": 3
   },
   "file_extension": ".py",
   "mimetype": "text/x-python",
   "name": "python",
   "nbconvert_exporter": "python",
   "pygments_lexer": "ipython3",
   "version": "3.9.18"
  }
 },
 "nbformat": 4,
 "nbformat_minor": 2
}
