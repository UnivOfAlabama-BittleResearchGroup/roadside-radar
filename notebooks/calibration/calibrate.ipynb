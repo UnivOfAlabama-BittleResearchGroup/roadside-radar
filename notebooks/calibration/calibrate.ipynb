{
 "cells": [
  {
   "cell_type": "markdown",
   "metadata": {},
   "source": [
    "# Calibrating the Radar Rotation Angles"
   ]
  },
  {
   "cell_type": "code",
   "execution_count": null,
   "metadata": {},
   "outputs": [],
   "source": [
    "%load_ext autoreload\n",
    "%autoreload 2\n",
    "\n",
    "# find the root of the project\n",
    "import os\n",
    "from pathlib import Path\n",
    "\n",
    "ROOT = Path(os.getcwd()).parent\n",
    "while not ROOT.joinpath(\".git\").exists():\n",
    "    ROOT = ROOT.parent\n",
    "\n",
    "# add the root to the python path\n",
    "import sys\n",
    "\n",
    "sys.path.append(str(ROOT))\n",
    "\n",
    "import dotenv\n",
    "\n",
    "dotenv.load_dotenv(ROOT.joinpath(\".env\"))"
   ]
  },
  {
   "cell_type": "markdown",
   "metadata": {},
   "source": [
    "## Pull the Calibrate Lane Centers from Felt"
   ]
  },
  {
   "cell_type": "code",
   "execution_count": null,
   "metadata": {},
   "outputs": [],
   "source": [
    "import requests as re\n",
    "import geopandas as gpd\n",
    "\n",
    "# get teh\n",
    "\n",
    "# from https://feltmaps.notion.site/Getting-Started-With-The-Felt-API-69c8b02b7d8e436daa657a04a2dbaffa#cf165f809cbf4e2f9a4bba3bf00e29c1\n",
    "url = \"https://felt.com/api/v1/maps/DRIVER-Lane-Centers-888IuX77T6KfCbLlEraVTD/elements\"\n",
    "bearer = \"Bearer \" + os.getenv(\"FELT_API_TOKEN\")\n",
    "headers = {\"Content-Type\": \"application/json\", \"authorization\": bearer}\n",
    "\n",
    "\n",
    "vals = re.get(url, headers=headers)"
   ]
  },
  {
   "cell_type": "code",
   "execution_count": null,
   "metadata": {},
   "outputs": [],
   "source": [
    "from io import StringIO\n",
    "import pandas as pd\n",
    "\n",
    "\n",
    "lane_geometry = gpd.read_file(StringIO(vals.text)).query(\"calibrate == True\")\n",
    "\n",
    "len_before = len(lane_geometry)\n",
    "\n",
    "# split the multi-linestring into individual linestrings\n",
    "lane_geometry = lane_geometry.explode(index_parts=False).reset_index(drop=True)\n",
    "\n",
    "len_after = len(lane_geometry)\n",
    "\n",
    "assert len_before == len_after\n",
    "\n",
    "lane_geometry.explore()"
   ]
  },
  {
   "cell_type": "markdown",
   "metadata": {},
   "source": [
    "## Interpolate the Lane Centers"
   ]
  },
  {
   "cell_type": "code",
   "execution_count": null,
   "metadata": {},
   "outputs": [],
   "source": [
    "from shapely.geometry import LineString\n",
    "\n",
    "\n",
    "# interpolate the LineStrings to 1m\n",
    "# https://gis.stackexchange.com/a/367965\n",
    "def redistribute_vertices(geom, distance):\n",
    "    if geom.geom_type == \"LineString\":\n",
    "        num_vert = int(round(geom.length / distance))\n",
    "        if num_vert == 0:\n",
    "            num_vert = 1\n",
    "        return LineString(\n",
    "            [\n",
    "                geom.interpolate(float(n) / num_vert, normalized=True)\n",
    "                for n in range(num_vert + 1)\n",
    "            ]\n",
    "        )\n",
    "    elif geom.geom_type == \"MultiLineString\":\n",
    "        parts = [redistribute_vertices(part, distance) for part in geom]\n",
    "        return type(geom)([p for p in parts if not p.is_empty])\n",
    "    else:\n",
    "        raise ValueError(\"unhandled geometry %s\", (geom.geom_type,))\n",
    "\n",
    "\n",
    "old_crs = lane_geometry.crs\n",
    "lane_geometry = lane_geometry.to_crs(lane_geometry.estimate_utm_crs())\n",
    "lane_geometry = lane_geometry.set_geometry(\n",
    "    lane_geometry.geometry.apply(lambda x: redistribute_vertices(x, 1))\n",
    ")\n",
    "lane_geometry = lane_geometry.to_crs(old_crs)\n",
    "\n",
    "\n",
    "# lane_geometry = lane_geometry.loc[~lane_geometry.index.isin([2, 3,])]"
   ]
  },
  {
   "cell_type": "code",
   "execution_count": null,
   "metadata": {},
   "outputs": [],
   "source": [
    "lane_geometry.explore()"
   ]
  },
  {
   "cell_type": "code",
   "execution_count": null,
   "metadata": {},
   "outputs": [],
   "source": [
    "# fit b-spline to all the lanes & interpolate every 0.1m\n",
    "from src.frenet import SplineLane\n",
    "import numpy as np\n",
    "\n",
    "utm_crs = lane_geometry.estimate_utm_crs()\n",
    "\n",
    "splines = [\n",
    "    SplineLane(\n",
    "        name=f\"lane - {ind}\",\n",
    "        centerline=np.stack(lane[\"geometry\"].coords.xy).T,\n",
    "        crs=utm_crs,\n",
    "    )\n",
    "    .fit(\n",
    "        k=3,\n",
    "        s=None,\n",
    "    )\n",
    "    .interpolate(0.1)\n",
    "    for ind, lane in lane_geometry.to_crs(utm_crs).iterrows()\n",
    "]"
   ]
  },
  {
   "cell_type": "code",
   "execution_count": null,
   "metadata": {},
   "outputs": [],
   "source": [
    "import plotly.express as px\n",
    "\n",
    "interpolated_lane_df = pd.concat(\n",
    "    [spline.to_gdf(linestring=True).to_crs(lane_geometry.crs) for spline in splines],\n",
    ")\n",
    "\n",
    "interpolated_lane_df.explore(\n",
    "    max_zoom=20,\n",
    ")"
   ]
  },
  {
   "cell_type": "markdown",
   "metadata": {},
   "source": [
    "## Use the Lanes to Calibrate the Radar Data"
   ]
  },
  {
   "cell_type": "code",
   "execution_count": null,
   "metadata": {},
   "outputs": [],
   "source": [
    "from src.radar import Filtering\n",
    "\n",
    "\n",
    "f = Filtering(\n",
    "    ROOT / \"geo_data\" / \"surveyed_origins.json\",\n",
    "    ROOT / \"geo_data\" / \"network_outline.geojson\",\n",
    ")\n",
    "\n",
    "f_calibrated = Filtering(\n",
    "    ROOT / \"geo_data\" / \"calibrated_origins.json\",\n",
    "    ROOT / \"geo_data\" / \"network_outline.geojson\",\n",
    ")"
   ]
  },
  {
   "cell_type": "markdown",
   "metadata": {},
   "source": [
    "### Load Radar Data"
   ]
  },
  {
   "cell_type": "code",
   "execution_count": null,
   "metadata": {},
   "outputs": [],
   "source": [
    "import polars as pl"
   ]
  },
  {
   "cell_type": "code",
   "execution_count": null,
   "metadata": {},
   "outputs": [],
   "source": [
    "RADAR_DIR = Path(\"/DOECV2X/Radar\") / \"all_working\"\n",
    "print(RADAR_DIR)\n",
    "\n",
    "# map to a file for speed\n",
    "tmp_file = ROOT / \"tmp\" / f\"{RADAR_DIR.stem}.parquet\"\n",
    "tmp_file.parent.mkdir(exist_ok=True, parents=True)\n",
    "\n",
    "radar_df = pl.scan_parquet(tmp_file)"
   ]
  },
  {
   "cell_type": "code",
   "execution_count": null,
   "metadata": {},
   "outputs": [],
   "source": [
    "radar_df = (\n",
    "    radar_df.pipe(f.create_object_id)\n",
    "    .pipe(f.filter_network_boundaries)\n",
    "    .sort(by=[\"object_id\", \"epoch_time\"])\n",
    "    .set_sorted([\"object_id\", \"epoch_time\"])\n",
    "    .collect()\n",
    ")"
   ]
  },
  {
   "cell_type": "code",
   "execution_count": null,
   "metadata": {},
   "outputs": [],
   "source": [
    "radar_df.shape"
   ]
  },
  {
   "cell_type": "markdown",
   "metadata": {},
   "source": [
    "### Calibrate the Radar Data"
   ]
  },
  {
   "cell_type": "code",
   "execution_count": null,
   "metadata": {},
   "outputs": [],
   "source": [
    "line_point_df = pd.concat(\n",
    "    [spline.to_gdf().to_crs(lane_geometry.crs) for spline in splines],\n",
    ")"
   ]
  },
  {
   "cell_type": "code",
   "execution_count": null,
   "metadata": {},
   "outputs": [],
   "source": [
    "line_point_df"
   ]
  },
  {
   "cell_type": "code",
   "execution_count": null,
   "metadata": {},
   "outputs": [],
   "source": [
    "from shapely.geometry import Point\n",
    "from scipy.spatial import KDTree"
   ]
  },
  {
   "cell_type": "markdown",
   "metadata": {},
   "source": [
    "### Radar 1"
   ]
  },
  {
   "cell_type": "code",
   "execution_count": null,
   "metadata": {},
   "outputs": [],
   "source": [
    "from typing import List\n",
    "\n",
    "\n",
    "def rotate_array(arr: np.ndarray, angle: float) -> np.ndarray:\n",
    "    \"\"\"Rotate a 2d array by a given angle in radians\"\"\"\n",
    "    rot_matrix = np.array(\n",
    "        [[np.cos(angle), -np.sin(angle)], [np.sin(angle), np.cos(angle)]]\n",
    "    ).squeeze()\n",
    "    return (rot_matrix @ arr.T).T\n",
    "\n",
    "\n",
    "def move_origin(\n",
    "    arr: np.ndarray, x_correction: float, y_correction: float, origins: np.ndarray\n",
    ") -> np.ndarray:\n",
    "    \"\"\"Move the origin of a 2d array\"\"\"\n",
    "    return arr + (np.array([x_correction, y_correction]) + origins)\n",
    "\n",
    "\n",
    "def calculate_loss(\n",
    "    sol, arr: np.ndarray, utm_origin: np.ndarray, tree: KDTree, scores: List = None, angle: float = None\n",
    ") -> float:\n",
    "    \"\"\"Calculate the loss for a given angle\"\"\"\n",
    "    if scores is None:\n",
    "        scores = []\n",
    "    # angle, x_corr, y_corr = sol\n",
    "    x_corr, y_corr = sol\n",
    "    rotated_arr = rotate_array(arr, angle)\n",
    "    rotated_arr = move_origin(rotated_arr, x_corr, y_corr, utm_origin)\n",
    "\n",
    "    distances = np.zeros(len(rotated_arr)) + np.inf\n",
    "\n",
    "    # for lane in splines:\n",
    "\n",
    "    #     _, d = lane.snap_points(\n",
    "    #         rotated_arr,\n",
    "    #         return_all=False,\n",
    "    #         max_dist=2,\n",
    "    #     )\n",
    "\n",
    "    #     distances = np.where(np.abs(d) < distances, d, distances)\n",
    "\n",
    "    #     # distances = np.min(distances, np.abs(d)) * np.where(d < 0, -1, 1)\n",
    "\n",
    "    distances = tree.query(rotated_arr, workers=-1, distance_upper_bound=8)[0]\n",
    "\n",
    "    distances = distances[distances != np.inf]  # remove inf values\n",
    "    mean_distance_penalty = np.quantile(distances, 0.10)\n",
    "    # add matched point penalty\n",
    "    matched_points = (len(arr) - len(distances)) / len(arr)\n",
    "    # score = matched_points + mean_distance_penalty\n",
    "    score = mean_distance_penalty\n",
    "    # score = \n",
    "    scores.append((score, angle, x_corr, y_corr))\n",
    "    return score"
   ]
  },
  {
   "cell_type": "code",
   "execution_count": null,
   "metadata": {},
   "outputs": [],
   "source": [
    "from scipy.optimize import minimize\n",
    "\n",
    "\n",
    "radar_df = (\n",
    "    radar_df.with_columns((1 / pl.count()).over(\"h3\").alias(\"weight\"))\n",
    "    .with_columns(\n",
    "        (\n",
    "            (pl.col(\"f32_positionX_m\") ** 2 + pl.col(\"f32_positionY_m\") ** 2) ** 0.5\n",
    "        ).alias(\"distance\")\n",
    "    )\n",
    "    .filter(pl.col(\"distance\").is_between(50, 300))\n",
    "    .filter(pl.col('f32_velocityInDir_mps') > 2)\n",
    ")\n",
    "\n",
    "\n",
    "overriden_start_points = {\"10.160.7.141\": (0, 0), \"10.160.7.146\": (0, 0)}\n",
    "\n",
    "\n",
    "def optimize(radar: str):\n",
    "    tl_df = (\n",
    "        radar_df.filter(pl.col(\"ip\").str.contains(radar))\n",
    "        # .sample(\n",
    "        #     1_000_000\n",
    "        # )\n",
    "        # .to_pandas()\n",
    "    )\n",
    "    # tl_df = tl_df.sample(\n",
    "    #     frac=0.9,\n",
    "    #     weights=\"weight\",\n",
    "    # )\n",
    "\n",
    "    data_array = tl_df[[\"f32_positionX_m\", \"f32_positionY_m\"]].to_numpy()\n",
    "\n",
    "    # create a circle with radius 400m around the origin\n",
    "    utm_c = f_calibrated.radar_locations[radar]\n",
    "\n",
    "    origin = Point(utm_c[0], utm_c[1])\n",
    "    origin = origin.buffer(300)\n",
    "\n",
    "    tl_geometry = line_point_df.to_crs(utm_crs).clip(origin).drop(columns=[\"geometry\"])\n",
    "    true_x = tl_geometry[\"x\"]  # - utm_c[0]\n",
    "    true_y = tl_geometry[\"y\"]  # - utm_c[1]\n",
    "\n",
    "    # build a KDTree for the lane points\n",
    "    tree = KDTree(np.stack([true_x, true_y]).T)\n",
    "    # tree = None\n",
    "\n",
    "    scores = []\n",
    "\n",
    "    if radar in overriden_start_points:\n",
    "        x, y = overriden_start_points[radar]\n",
    "    else:\n",
    "        x, y = 0, 0\n",
    "\n",
    "    res = minimize(\n",
    "        calculate_loss,\n",
    "        # x0=[f.rotations[radar], x, y],\n",
    "        x0=[x, y],\n",
    "        # x0=[f.rotations[radar]],\n",
    "        args=(data_array, np.array([utm_c[0], utm_c[1]]), tree, scores, f_calibrated.rotations[radar]),\n",
    "        bounds=[\n",
    "            # (f_calibrated.rotations[radar] - (np.pi / 4), f_calibrated.rotations[radar] + (np.pi / 4)),\n",
    "            (-4, 4),\n",
    "            (-4, 4),\n",
    "        ],\n",
    "        tol=1e-9\n",
    "        # method=\"Nelder-Mead\",\n",
    "    )\n",
    "\n",
    "    return {\n",
    "        # \"angle\": res.x[0],\n",
    "        \"x_correction\": res.x[0],\n",
    "        \"y_correction\": res.x[1],\n",
    "        \"scores\": scores,\n",
    "    }\n",
    "\n",
    "\n",
    "results = {radar: optimize(radar) for radar in f.radar_locations.keys()}\n",
    "# results = {radar: optimize(radar) for radar in ['10.160.7.146']}"
   ]
  },
  {
   "cell_type": "markdown",
   "metadata": {},
   "source": [
    "#### Rotated v. Original Radar Data"
   ]
  },
  {
   "cell_type": "code",
   "execution_count": null,
   "metadata": {},
   "outputs": [],
   "source": [
    "for radar, res in results.items():\n",
    "    print(f\"{radar}: {res['x_correction']}, {res['y_correction']}\")"
   ]
  },
  {
   "cell_type": "code",
   "execution_count": null,
   "metadata": {},
   "outputs": [],
   "source": [
    "plot_radar = \"10.160.7.141\"\n",
    "\n",
    "plot_df = (\n",
    "    radar_df.filter(pl.col(\"ip\").str.contains(plot_radar))\n",
    "    # .to_pandas()\n",
    "    .sample(10_000, )\n",
    ")\n",
    "\n",
    "optimal_df = plot_df.pipe(\n",
    "    f.rotate_radars,\n",
    "    # rotations={plot_radar: results[plot_radar][\"angle\"]},\n",
    ").pipe(\n",
    "    f.update_origin,\n",
    "    locations={\n",
    "        plot_radar: (\n",
    "            f_calibrated.radar_locations[plot_radar][0] + results[plot_radar][\"x_correction\"],\n",
    "            f_calibrated.radar_locations[plot_radar][1] + results[plot_radar][\"y_correction\"],\n",
    "        )\n",
    "    },\n",
    ")\n",
    "\n",
    "before_df = plot_df.pipe(\n",
    "    f_calibrated.rotate_radars,\n",
    ").pipe(\n",
    "    f_calibrated.update_origin,\n",
    ")\n",
    "\n",
    "\n",
    "optimal_df = gpd.GeoDataFrame(\n",
    "    geometry=gpd.points_from_xy(\n",
    "        optimal_df[\"utm_x\"],\n",
    "        optimal_df[\"utm_y\"],\n",
    "    ),\n",
    "    crs=utm_crs,\n",
    ")\n",
    "\n",
    "before_df = gpd.GeoDataFrame(\n",
    "    geometry=gpd.points_from_xy(\n",
    "        before_df[\"utm_x\"],\n",
    "        before_df[\"utm_y\"],\n",
    "    ),\n",
    "    crs=utm_crs,\n",
    ")\n",
    "\n",
    "\n",
    "m = lane_geometry.explore(\n",
    "    max_zoom=26,\n",
    ")\n",
    "\n",
    "optimal_df.explore(\n",
    "    m=m,\n",
    "    color=\"red\",\n",
    ")\n",
    "\n",
    "before_df.explore(\n",
    "    m=m,\n",
    "    color=\"purple\",\n",
    ")"
   ]
  },
  {
   "cell_type": "markdown",
   "metadata": {},
   "source": [
    "## Save the Calibrated Radar Data"
   ]
  },
  {
   "cell_type": "code",
   "execution_count": null,
   "metadata": {},
   "outputs": [],
   "source": [
    "import utm\n",
    "\n",
    "results_origin = {\n",
    "    radar: {\n",
    "        \"origin\": utm.to_latlon(\n",
    "            f.radar_locations[radar][0] + results[radar][\"x_correction\"],\n",
    "            f.radar_locations[radar][1] + results[radar][\"y_correction\"],\n",
    "            *f.radar_locations[radar][2:]\n",
    "        )[::-1],\n",
    "        \"angle\": np.rad2deg(results[radar][\"angle\"]),\n",
    "    }\n",
    "    for radar, _ in results.items()\n",
    "}"
   ]
  },
  {
   "cell_type": "code",
   "execution_count": null,
   "metadata": {},
   "outputs": [],
   "source": [
    "import json\n",
    "\n",
    "with open(ROOT / \"geo_data\" / \"calibrated_origins_10_31.json\", \"w\") as f_:\n",
    "    json.dump(results_origin, f_, indent=4)"
   ]
  },
  {
   "cell_type": "markdown",
   "metadata": {},
   "source": [
    "### Save Some of the Data for Testing"
   ]
  },
  {
   "cell_type": "code",
   "execution_count": null,
   "metadata": {},
   "outputs": [],
   "source": [
    "f_calibrated = Filtering(\n",
    "    ROOT / \"geo_data\" / \"calibrated_origins_10_31.json\",\n",
    "    ROOT / \"geo_data\" / \"network_outline.geojson\",\n",
    ")"
   ]
  },
  {
   "cell_type": "code",
   "execution_count": null,
   "metadata": {},
   "outputs": [],
   "source": [
    "radar_df.sample(100_000).pipe(\n",
    "    f_calibrated.rotate_radars,\n",
    ").pipe(\n",
    "    f_calibrated.update_origin,\n",
    ").pipe(f.radar_to_latlon).select(\n",
    "    [\n",
    "        \"ip\",\n",
    "        \"lat\",\n",
    "        \"lon\",\n",
    "    ]\n",
    ").write_csv(\n",
    "    \"tmp.csv\"\n",
    ")"
   ]
  }
 ],
 "metadata": {
  "kernelspec": {
   "display_name": "venv",
   "language": "python",
   "name": "python3"
  },
  "language_info": {
   "codemirror_mode": {
    "name": "ipython",
    "version": 3
   },
   "file_extension": ".py",
   "mimetype": "text/x-python",
   "name": "python",
   "nbconvert_exporter": "python",
   "pygments_lexer": "ipython3",
   "version": "3.9.18"
  }
 },
 "nbformat": 4,
 "nbformat_minor": 2
}
