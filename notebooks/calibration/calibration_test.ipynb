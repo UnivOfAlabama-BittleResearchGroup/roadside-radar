{
 "cells": [
  {
   "cell_type": "markdown",
   "metadata": {},
   "source": [
    "# Testing Calibrated Angles\n"
   ]
  },
  {
   "cell_type": "code",
   "execution_count": 9,
   "metadata": {},
   "outputs": [
    {
     "name": "stdout",
     "output_type": "stream",
     "text": [
      "The autoreload extension is already loaded. To reload it, use:\n",
      "  %reload_ext autoreload\n"
     ]
    }
   ],
   "source": [
    "# ruff: noqa: E402\n",
    "\n",
    "%load_ext autoreload\n",
    "%autoreload 2\n",
    "\n",
    "# find the root of the project\n",
    "import os\n",
    "from pathlib import Path\n",
    "import sys\n",
    "import polars as pl\n",
    "\n",
    "ROOT = Path(os.getcwd()).parent\n",
    "while not ROOT.joinpath(\".git\").exists():\n",
    "    ROOT = ROOT.parent\n",
    "\n",
    "# add the root to the python path\n",
    "sys.path.append(str(ROOT))"
   ]
  },
  {
   "cell_type": "markdown",
   "metadata": {},
   "source": [
    "## October Data\n"
   ]
  },
  {
   "cell_type": "code",
   "execution_count": 10,
   "metadata": {},
   "outputs": [
    {
     "name": "stdout",
     "output_type": "stream",
     "text": [
      "function: create_object_id took: 0.0009028911590576172 seconds\n",
      "function: filter_short_trajectories took: 0.004970073699951172 seconds\n",
      "function: clip_trajectory_end took: 0.0018279552459716797 seconds\n",
      "function: resample took: 0.0010366439819335938 seconds\n",
      "function: fix_duplicate_positions took: 0.000270843505859375 seconds\n",
      "function: set_timezone took: 2.7179718017578125e-05 seconds\n",
      "function: add_cst_timezone took: 2.9087066650390625e-05 seconds\n",
      "function: add_heading took: 0.00018906593322753906 seconds\n",
      "function: rotate_radars took: 0.0009639263153076172 seconds\n",
      "function: update_origin took: 0.0002968311309814453 seconds\n",
      "function: radar_to_latlon took: 1.4612438678741455 seconds\n"
     ]
    }
   ],
   "source": [
    "from src.pipelines.open_file import prep_df\n",
    "from src.radar import CalibratedRadar\n",
    "\n",
    "\n",
    "radar_obj = CalibratedRadar(\n",
    "    radar_location_path=ROOT / \"configuration\" / \"october_calibrated.yaml\",\n",
    ")\n",
    "\n",
    "radar_df = (\n",
    "    pl.scan_parquet(\n",
    "        ROOT.joinpath(\"data\", \"raw\", \"*.parquet\"),\n",
    "    )\n",
    "    .with_columns(\n",
    "        pl.col(\"epoch_time\").dt.replace_time_zone(\"UTC\"),\n",
    "    )\n",
    "    .filter(pl.col(\"epoch_time\").dt.month() == 10)\n",
    "    .pipe(prep_df, f=radar_obj)\n",
    "    .pipe(radar_obj.radar_to_latlon)\n",
    ")"
   ]
  },
  {
   "cell_type": "code",
   "execution_count": 11,
   "metadata": {},
   "outputs": [],
   "source": [
    "all_dfs = []\n",
    "for df in radar_df.select([\"ip\", \"lat\", \"lon\"]).partition_by(\"ip\"):\n",
    "    all_dfs.append(df.sample(10_000))\n",
    "\n",
    "df = pl.concat(all_dfs)\n",
    "df.write_csv(\"october.csv\")"
   ]
  },
  {
   "cell_type": "markdown",
   "metadata": {},
   "source": [
    "## March Data\n"
   ]
  },
  {
   "cell_type": "code",
   "execution_count": 6,
   "metadata": {},
   "outputs": [
    {
     "name": "stdout",
     "output_type": "stream",
     "text": [
      "function: create_object_id took: 0.15714097023010254 seconds\n",
      "function: filter_short_trajectories took: 0.16297006607055664 seconds\n",
      "function: clip_trajectory_end took: 0.002424001693725586 seconds\n",
      "function: resample took: 0.02349686622619629 seconds\n",
      "function: fix_duplicate_positions took: 0.000164031982421875 seconds\n",
      "function: set_timezone took: 0.002084016799926758 seconds\n",
      "function: add_cst_timezone took: 7.009506225585938e-05 seconds\n",
      "function: add_heading took: 6.198883056640625e-05 seconds\n",
      "function: rotate_radars took: 0.0010559558868408203 seconds\n",
      "function: update_origin took: 0.0013167858123779297 seconds\n",
      "function: radar_to_latlon took: 0.7451262474060059 seconds\n"
     ]
    }
   ],
   "source": [
    "from src.pipelines.open_file import prep_df\n",
    "from src.radar import CalibratedRadar\n",
    "\n",
    "\n",
    "radar_obj = CalibratedRadar(\n",
    "    radar_location_path=ROOT / \"configuration\" / \"march_calibrated.yaml\",\n",
    ")\n",
    "\n",
    "radar_df = (\n",
    "    pl.scan_parquet(\n",
    "        ROOT.joinpath(\"data\", \"raw\", \"*.parquet\"),\n",
    "    )\n",
    "    .with_columns(\n",
    "        pl.col(\"epoch_time\").dt.replace_time_zone(\"UTC\"),\n",
    "    )\n",
    "    .filter(pl.col(\"epoch_time\").dt.month() == 3)\n",
    "    .collect()\n",
    "    .lazy()\n",
    "    .pipe(prep_df, f=radar_obj)\n",
    "    .pipe(radar_obj.radar_to_latlon)\n",
    ")"
   ]
  },
  {
   "cell_type": "code",
   "execution_count": 8,
   "metadata": {},
   "outputs": [],
   "source": [
    "all_dfs = []\n",
    "for df in radar_df.select([\"ip\", \"lat\", \"lon\"]).partition_by(\"ip\"):\n",
    "    all_dfs.append(df.sample(10_000))\n",
    "\n",
    "df = pl.concat(all_dfs)\n",
    "df.write_csv(\"march.csv\")"
   ]
  }
 ],
 "metadata": {
  "kernelspec": {
   "display_name": "radar-trajectories",
   "language": "python",
   "name": "python3"
  },
  "language_info": {
   "codemirror_mode": {
    "name": "ipython",
    "version": 3
   },
   "file_extension": ".py",
   "mimetype": "text/x-python",
   "name": "python",
   "nbconvert_exporter": "python",
   "pygments_lexer": "ipython3",
   "version": "3.9.10"
  }
 },
 "nbformat": 4,
 "nbformat_minor": 2
}
