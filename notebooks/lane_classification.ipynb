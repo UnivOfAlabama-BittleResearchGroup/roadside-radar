{
 "cells": [
  {
   "cell_type": "markdown",
   "metadata": {},
   "source": [
    "# Lane Classification Step\n",
    "\n",
    "\n",
    "This relies on the output of [./vectorized_filter.ipynb](./vectorized_filter.ipynb)"
   ]
  },
  {
   "cell_type": "code",
   "execution_count": null,
   "metadata": {},
   "outputs": [],
   "source": [
    "%load_ext autoreload\n",
    "%autoreload 2"
   ]
  },
  {
   "cell_type": "code",
   "execution_count": null,
   "metadata": {},
   "outputs": [],
   "source": [
    "%load_ext autoreload\n",
    "%autoreload 2\n",
    "\n",
    "# find the root of the project\n",
    "import os\n",
    "from pathlib import Path\n",
    "\n",
    "ROOT = Path(os.getcwd()).parent\n",
    "while not ROOT.joinpath(\".git\").exists():\n",
    "    ROOT = ROOT.parent\n",
    "\n",
    "# add the root to the python path\n",
    "import sys\n",
    "\n",
    "sys.path.append(str(ROOT))"
   ]
  },
  {
   "cell_type": "code",
   "execution_count": null,
   "metadata": {},
   "outputs": [],
   "source": [
    "import dotenv\n",
    "import polars as pl\n",
    "from pomegranate.distributions import Normal\n",
    "from pomegranate.gmm import GeneralMixtureModel\n",
    "\n",
    "\n",
    "# load the environment variables\n",
    "dotenv.load_dotenv(ROOT.joinpath(\".env\"))"
   ]
  },
  {
   "cell_type": "markdown",
   "metadata": {},
   "source": [
    "## Read in the Dataset"
   ]
  },
  {
   "cell_type": "code",
   "execution_count": null,
   "metadata": {},
   "outputs": [],
   "source": [
    "radar_df = pl.read_parquet(\n",
    "    ROOT.joinpath(\"notebooks/clean_workflow/data/imm_filtered.parquet\"),\n",
    "    use_pyarrow=False,\n",
    ")"
   ]
  },
  {
   "cell_type": "code",
   "execution_count": null,
   "metadata": {},
   "outputs": [],
   "source": [
    "radar_df.head(1)"
   ]
  },
  {
   "cell_type": "markdown",
   "metadata": {},
   "source": [
    "## Mixture Model Lanes"
   ]
  },
  {
   "cell_type": "code",
   "execution_count": null,
   "metadata": {},
   "outputs": [],
   "source": [
    "# radar_df.filter(\n",
    "#     pl.col('d_filt') <= radar_df[\"d_filt\"].min()\n",
    "# )"
   ]
  },
  {
   "cell_type": "code",
   "execution_count": null,
   "metadata": {},
   "outputs": [],
   "source": [
    "# radar_df['d_filt'].to_pandas().plot.hist(bins=100)\n",
    "\n",
    "# plot [d] over top of [d_filt] (make the bins the same size)\n",
    "import matplotlib.pyplot as plt\n",
    "\n",
    "fig, ax = plt.subplots(figsize=(10, 5))\n",
    "\n",
    "radar_df.filter(pl.col('lane').str.contains('E'))[[\"d_filt\", \"d\"]].sample(100_000).to_pandas().plot.hist(\n",
    "    bins=100, ax=ax, alpha=0.5\n",
    ")\n",
    "\n",
    "# set the range of the x-axis to be the same\n",
    "ax.set_xlim(-6, 10)\n",
    "# radar_df[\"d\"].to_pandas().plot.hist(bins=100, ax=ax, alpha=0.5)"
   ]
  },
  {
   "cell_type": "code",
   "execution_count": null,
   "metadata": {},
   "outputs": [],
   "source": [
    "import matplotlib.pyplot as plt\n",
    "\n",
    "fig, ax = plt.subplots(figsize=(10, 5))\n",
    "\n",
    "radar_df.filter(pl.col('lane').str.contains('W'))[[\"d_filt\", \"d\"]].sample(100_000).to_pandas().plot.hist(\n",
    "    bins=100, ax=ax, alpha=0.5\n",
    ")\n",
    "\n",
    "ax.set_xlim(-6, 10)"
   ]
  },
  {
   "cell_type": "code",
   "execution_count": null,
   "metadata": {},
   "outputs": [],
   "source": [
    "import matplotlib.pyplot as plt\n",
    "\n",
    "fig, ax = plt.subplots(figsize=(10, 5))\n",
    "\n",
    "radar_df.filter(pl.col('lane').str.contains('W') & (pl.col('mu_CALC') < 0.2))[[\"d_filt\", \"d\"]].sample(100_000).to_pandas().plot.hist(\n",
    "    bins=100, ax=ax, alpha=0.5\n",
    ")\n",
    "\n",
    "ax.set_xlim(-6, 10)"
   ]
  },
  {
   "cell_type": "code",
   "execution_count": null,
   "metadata": {},
   "outputs": [],
   "source": []
  },
  {
   "cell_type": "code",
   "execution_count": null,
   "metadata": {},
   "outputs": [],
   "source": [
    "radar_df.filter(pl.col(\"mu_CALC\") > 0.5)[[\"d_filt\"]].sample(\n",
    "    100_000\n",
    ").to_pandas().plot.hist(bins=100, ax=ax, alpha=0.5)\n",
    "\n",
    "fig"
   ]
  },
  {
   "cell_type": "code",
   "execution_count": null,
   "metadata": {},
   "outputs": [],
   "source": [
    "# radar_df[[\"d_filt\",]].to_pandas().plot.hist(bins=100, alpha=0.5)"
   ]
  },
  {
   "cell_type": "code",
   "execution_count": null,
   "metadata": {},
   "outputs": [],
   "source": [
    "radar_df = radar_df.filter(~pl.col(\"d_filt\").is_nan())"
   ]
  },
  {
   "cell_type": "markdown",
   "metadata": {},
   "source": [
    "### Fit a GMM to the data"
   ]
  },
  {
   "cell_type": "code",
   "execution_count": null,
   "metadata": {},
   "outputs": [],
   "source": [
    "radar_df.shape"
   ]
  },
  {
   "cell_type": "code",
   "execution_count": null,
   "metadata": {},
   "outputs": [],
   "source": [
    "import torch\n",
    "\n",
    "def process_lane(radar_df, lane, cuda):\n",
    "    X = (\n",
    "        radar_df.filter(\n",
    "            pl.col(\"d_filt\").is_between(-20, 20) \n",
    "            & pl.col(\"lane\").str.contains(lane)\n",
    "            # & (pl.col(\"mu_CALC\") < 0.5)\n",
    "        )[\"d_filt\"]\n",
    "        .sample(fraction=0.5)\n",
    "        .to_numpy()\n",
    "        .copy()\n",
    "        .reshape(-1, 1)\n",
    "    )\n",
    "    X = torch.from_numpy(X).float().to(cuda)\n",
    "\n",
    "    d1 = Normal(\n",
    "        means=[\n",
    "            -3.75,\n",
    "        ],\n",
    "        covs=[\n",
    "            1,\n",
    "        ],\n",
    "        covariance_type=\"diag\",\n",
    "    ).cuda()\n",
    "\n",
    "    d2 = Normal(\n",
    "        means=[\n",
    "            0.0,\n",
    "        ],\n",
    "        covs=[\n",
    "            1.0,\n",
    "        ],\n",
    "        covariance_type=\"diag\",\n",
    "    ).cuda()\n",
    "\n",
    "    d3 = Normal(\n",
    "        means=[\n",
    "            3.75,\n",
    "        ],\n",
    "        covs=[\n",
    "            1.0,\n",
    "        ],\n",
    "        covariance_type=\"diag\",\n",
    "    ).cuda()\n",
    "\n",
    "    d5 = Normal(\n",
    "        means=[\n",
    "            7.25,\n",
    "        ],\n",
    "        covs=[\n",
    "            1,\n",
    "        ],\n",
    "        covariance_type=\"diag\",\n",
    "    ).cuda()\n",
    "\n",
    "    mm = GeneralMixtureModel(\n",
    "        [d1, d2, d3, d5],\n",
    "        verbose=True,\n",
    "        tol=1e-6,\n",
    "        priors=[0.05, 0.85 * 6/10, 0.85 * 4/10, 0.10],\n",
    "    ).cuda()\n",
    "\n",
    "    mm.fit(X)\n",
    "\n",
    "    return mm\n",
    "\n",
    "\n",
    "models = {\n",
    "    l: process_lane(radar_df, l, cuda=torch.device(\"cuda:0\")) for l in [\"EBL1\", \"WBL1\"]\n",
    "}"
   ]
  },
  {
   "cell_type": "markdown",
   "metadata": {},
   "source": [
    "### Plot the Fitted GMM"
   ]
  },
  {
   "cell_type": "code",
   "execution_count": null,
   "metadata": {},
   "outputs": [],
   "source": [
    "import matplotlib.pyplot as plt\n",
    "import numpy as np\n",
    "import scienceplots\n",
    "\n",
    "def plot_model(model, ax):\n",
    "    x = np.linspace(-6, 10, 1000).reshape(-1, 1)\n",
    "    y = model.probability(torch.from_numpy(x).float().to(\"cuda\")).cpu().numpy()\n",
    "    ax.plot(x, y, color=\"red\")\n",
    "\n",
    "    y = model.predict_proba(torch.from_numpy(x).float().to(\"cuda\")).cpu().numpy()\n",
    "    ax.plot(x, y[:, 0])\n",
    "    ax.plot(x, y[:, 1])\n",
    "    ax.plot(x, y[:, 2])\n",
    "    ax.plot(x, y[:, 3])\n",
    "\n",
    "    for d in model.distributions:\n",
    "        ax.axvline(d.means[0].cpu(), color=\"black\", linestyle=\"--\")\n",
    "\n",
    "    ax.set_xlim(-4, 8)\n",
    "    # make the legend have a white background\n",
    "    ax.legend([\"Observed $d$\", \"Right Turn\", \"Mainline Right\", \"Mainline Left\", \"Left Turn\"],  bbox_to_anchor=(1.05, 1), loc='upper left', borderaxespad=0.)\n",
    "    ax.set_xlabel(\"$d$ [m]\")\n",
    "    ax.set_ylabel(\"Probability Density\")\n",
    "\n",
    "plt.style.use([\"science\", \"ieee\"])\n",
    "\n",
    "for lane, model in models.items():\n",
    "    \n",
    "    fig, ax = plt.subplots()\n",
    "    radar_df.filter(pl.col(\"d_filt\").is_between(-4, 8) & pl.col(\"lane\").str.contains(lane))[\n",
    "        [\n",
    "            \"d_filt\",\n",
    "        ]\n",
    "    ].to_pandas().plot.hist(bins=100, alpha=0.5, ax=ax, density=True)\n",
    "    \n",
    "    plot_model(model, ax)\n",
    "    print(lane)\n",
    "    plt.show()\n",
    "\n",
    "\n",
    "# for ax, (lane, model) in zip(axs, models.items()):\n",
    "#     radar_df.filter(pl.col(\"d_filt\").is_between(-6, 10) & pl.col(\"lane\").str.contains(lane))[\n",
    "#         [\n",
    "#             \"d_filt\",\n",
    "#         ]\n",
    "#     ].to_pandas().plot.hist(bins=100, alpha=0.5, ax=ax, density=True)\n",
    "#     plot_model(model, ax)"
   ]
  },
  {
   "cell_type": "markdown",
   "metadata": {},
   "source": [
    "### Split the Vehicle Into Lanes 1 & 2"
   ]
  },
  {
   "cell_type": "code",
   "execution_count": null,
   "metadata": {},
   "outputs": [],
   "source": [
    "# this is distribution 1 (right lane) and distribution 2 (left lane)\n",
    "dfs = []\n",
    "for lane, df in radar_df.partition_by('lane', as_dict=True).items():\n",
    "\n",
    "    all_data = torch.from_numpy(df[\"d_filt\"].to_numpy().copy().reshape(-1, 1)).to(\n",
    "        device=\"cuda\"\n",
    "    )\n",
    "\n",
    "    probs = models[lane].predict_proba(all_data).cpu().numpy()\n",
    "    \n",
    "    df = df.with_columns(\n",
    "        [\n",
    "            pl.Series(\"prob_lane_1\", probs[:, 1]),\n",
    "            pl.Series(\"prob_lane_2\", probs[:, 2]),\n",
    "            pl.Series(\"lane_index\", probs.argmax(axis=1)),\n",
    "        ]\n",
    "    )\n",
    "\n",
    "    dfs.append(df)\n",
    "\n",
    "radar_df = pl.concat(dfs)\n"
   ]
  },
  {
   "cell_type": "markdown",
   "metadata": {},
   "source": [
    "## Plot a Vehicle with Lane Change"
   ]
  },
  {
   "cell_type": "code",
   "execution_count": null,
   "metadata": {},
   "outputs": [],
   "source": [
    "change_vehicles = radar_df.filter(\n",
    "    ((pl.col('lane_index') == 1).any() & (pl.col('lane_index') == 2).any()).over('object_id')\n",
    ")"
   ]
  },
  {
   "cell_type": "code",
   "execution_count": null,
   "metadata": {},
   "outputs": [],
   "source": [
    "import plotly.graph_objects as go\n",
    "from plotly.subplots import make_subplots\n",
    "\n",
    "veh_id = change_vehicles.filter(pl.col(\"lane\") == \"EBL1\")[\"object_id\"].sample(1)[0]\n",
    "veh_df = change_vehicles.filter(pl.col(\"object_id\") == veh_id).sort(\"epoch_time\")\n",
    "\n",
    "fig = make_subplots(\n",
    "    rows=3,\n",
    "    cols=1,\n",
    "    shared_xaxes=True,\n",
    "    vertical_spacing=0.02,\n",
    "    subplot_titles=(\n",
    "        f\"Vehicle {veh_id} S\",\n",
    "        f\"Vehicle {veh_id} D\",\n",
    "    ),\n",
    "    # add a secondary y axis to the velocity plots\n",
    "    specs=[\n",
    "        [{\"secondary_y\": True}],\n",
    "        [{\"secondary_y\": True}],\n",
    "        [{\"secondary_y\": False}],\n",
    "    ],\n",
    ")\n",
    "\n",
    "\n",
    "colors = {\n",
    "    \"\": \"blue\",\n",
    "    \"_filt\": \"red\",\n",
    "}\n",
    "\n",
    "\n",
    "for df, ext in [(veh_df, \"\"), (veh_df, \"_filt\")]:\n",
    "    fig.add_trace(\n",
    "        go.Scatter(\n",
    "            x=veh_df[\"epoch_time\"],\n",
    "            y=df[f\"s{ext}\"],\n",
    "            mode=\"markers+lines\",\n",
    "            name=f\"S{ext}\",\n",
    "            marker_color=colors[ext],\n",
    "        ),\n",
    "        row=1,\n",
    "        col=1,\n",
    "    )\n",
    "\n",
    "    fig.add_trace(\n",
    "        go.Scatter(\n",
    "            x=veh_df[\"epoch_time\"],\n",
    "            y=df[f\"s_velocity{ext}\"] * -1,\n",
    "            mode=\"markers+lines\",\n",
    "            name=f\"S Velocity{ext}\",\n",
    "            marker_color=colors[ext],\n",
    "        ),\n",
    "        row=1,\n",
    "        col=1,\n",
    "        secondary_y=True,\n",
    "    )\n",
    "\n",
    "    # add the D dimension\n",
    "    fig.add_trace(\n",
    "        go.Scatter(\n",
    "            x=veh_df[\"epoch_time\"],\n",
    "            y=df[f\"d{ext}\"],\n",
    "            mode=\"markers+lines\",\n",
    "            name=f\"D{ext}\",\n",
    "            marker_color=colors[ext],\n",
    "        ),\n",
    "        row=2,\n",
    "        col=1,\n",
    "    )\n",
    "\n",
    "    # fig.add_trace(\n",
    "    #     go.Scatter(\n",
    "    #         x=veh_df[\"epoch_time\"],\n",
    "    #         y=df[f\"d_velocity{ext}\"],\n",
    "    #         mode=\"markers+lines\",\n",
    "    #         name=f\"D Velocity{ext}\",\n",
    "    #         marker_color=colors[ext],\n",
    "    #     ),\n",
    "    #     row=2,\n",
    "    #     col=1,\n",
    "    #     secondary_y=True,\n",
    "    # )\n",
    "\n",
    "\n",
    "for p in [\"mu_CALC\", \"prob_lane_1\", \"prob_lane_2\"]:\n",
    "    # plot the probabilities\n",
    "    fig.add_trace(\n",
    "        go.Scatter(\n",
    "            x=veh_df[\"epoch_time\"],\n",
    "            y=veh_df[p],\n",
    "            mode=\"markers+lines\",\n",
    "            name=p,\n",
    "            # marker_color=\"green\",\n",
    "        ),\n",
    "        row=3,\n",
    "        col=1,\n",
    "    )\n",
    "\n",
    "\n",
    "\n",
    "\n",
    "for p in [\"prob_lane_1\", \"prob_lane_2\"]:\n",
    "    # plot the probabilities\n",
    "    fig.add_trace(\n",
    "        go.Scatter(\n",
    "            x=veh_df[\"epoch_time\"],\n",
    "            y=veh_df[p] * (1- veh_df[\"mu_CALC\"]),\n",
    "            mode=\"markers+lines\",\n",
    "            name=p + \" * mu_CALC\",\n",
    "        ),\n",
    "        row=3,\n",
    "        col=1,\n",
    "    )\n",
    "\n",
    "\n",
    "fig.update_layout(\n",
    "    height=800,\n",
    "    width=1200,\n",
    ")"
   ]
  },
  {
   "cell_type": "markdown",
   "metadata": {},
   "source": [
    "## Filter the DataFrame for Vehicles that are in Lane 1 | 2"
   ]
  },
  {
   "cell_type": "code",
   "execution_count": null,
   "metadata": {},
   "outputs": [],
   "source": [
    "radar_df = radar_df.filter(pl.col(\"lane_index\").is_in([1, 2]))"
   ]
  },
  {
   "cell_type": "markdown",
   "metadata": {},
   "source": [
    "## Save the DataFrame"
   ]
  },
  {
   "cell_type": "code",
   "execution_count": null,
   "metadata": {},
   "outputs": [],
   "source": [
    "radar_df[\"epoch_time\"].min(), radar_df[\"epoch_time\"].max()"
   ]
  },
  {
   "cell_type": "code",
   "execution_count": null,
   "metadata": {},
   "outputs": [],
   "source": [
    "radar_df.write_parquet(\n",
    "    ROOT.joinpath(\"notebooks/clean_workflow/data/imm_filtered_lanes.parquet\"),\n",
    "    use_pyarrow=True,\n",
    ")"
   ]
  }
 ],
 "metadata": {
  "kernelspec": {
   "display_name": "venv",
   "language": "python",
   "name": "python3"
  },
  "language_info": {
   "codemirror_mode": {
    "name": "ipython",
    "version": 3
   },
   "file_extension": ".py",
   "mimetype": "text/x-python",
   "name": "python",
   "nbconvert_exporter": "python",
   "pygments_lexer": "ipython3",
   "version": "3.9.18"
  }
 },
 "nbformat": 4,
 "nbformat_minor": 2
}
