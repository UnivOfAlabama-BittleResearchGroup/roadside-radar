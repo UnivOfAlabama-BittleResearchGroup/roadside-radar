{
 "cells": [
  {
   "cell_type": "markdown",
   "metadata": {},
   "source": [
    "# Dataset Summary Statistics"
   ]
  },
  {
   "cell_type": "code",
   "execution_count": 1,
   "metadata": {},
   "outputs": [
    {
     "name": "stdout",
     "output_type": "stream",
     "text": [
      "GPU available: True\n"
     ]
    }
   ],
   "source": [
    "# ruff: noqa: E402\n",
    "\n",
    "%load_ext autoreload\n",
    "%autoreload 2\n",
    "\n",
    "# find the root of the project\n",
    "import os\n",
    "from pathlib import Path\n",
    "import sys\n",
    "import polars as pl\n",
    "import dotenv\n",
    "\n",
    "\n",
    "ROOT = Path(os.getcwd()).parent\n",
    "while not ROOT.joinpath(\".git\").exists():\n",
    "    ROOT = ROOT.parent\n",
    "\n",
    "# add the root to the python path\n",
    "sys.path.append(str(ROOT))\n",
    "\n",
    "\n",
    "dotenv.load_dotenv(ROOT.joinpath(\".env\"))\n",
    "\n",
    "from src.utils import check_gpu_available\n",
    "\n",
    "GPU = check_gpu_available()\n",
    "print(f\"GPU available: {GPU}\")"
   ]
  },
  {
   "cell_type": "markdown",
   "metadata": {},
   "source": [
    "## Read in the Trajectories\n"
   ]
  },
  {
   "cell_type": "code",
   "execution_count": 2,
   "metadata": {},
   "outputs": [],
   "source": [
    "processed_traj_df = pl.scan_parquet(\n",
    "    # Path(os.environ.get(\"RAW_DATA_DIR\")).joinpath(\"*.parquet\")\n",
    "    ROOT\n",
    "    / \"data/merged_march.parquet\"\n",
    ").select(\n",
    "    [\n",
    "        \"epoch_time\",\n",
    "        \"lane\",\n",
    "        \"lane_index\",\n",
    "        \"s_velocity_smooth\",\n",
    "        \"vehicle_id\",\n",
    "        \"front_s_smooth\",\n",
    "        \"association_distance\",\n",
    "        \"length_s\",\n",
    "    ]\n",
    ")"
   ]
  },
  {
   "cell_type": "code",
   "execution_count": 3,
   "metadata": {},
   "outputs": [
    {
     "data": {
      "text/html": [
       "<div><style>\n",
       ".dataframe > thead > tr,\n",
       ".dataframe > tbody > tr {\n",
       "  text-align: right;\n",
       "  white-space: pre-wrap;\n",
       "}\n",
       "</style>\n",
       "<small>shape: (1, 1)</small><table border=\"1\" class=\"dataframe\"><thead><tr><th>epoch_time</th></tr><tr><td>f64</td></tr></thead><tbody><tr><td>26.743333</td></tr></tbody></table></div>"
      ],
      "text/plain": [
       "shape: (1, 1)\n",
       "┌────────────┐\n",
       "│ epoch_time │\n",
       "│ ---        │\n",
       "│ f64        │\n",
       "╞════════════╡\n",
       "│ 26.743333  │\n",
       "└────────────┘"
      ]
     },
     "execution_count": 3,
     "metadata": {},
     "output_type": "execute_result"
    }
   ],
   "source": [
    "processed_traj_df.select(\n",
    "    (pl.col(\"epoch_time\").max() - pl.col(\"epoch_time\").min()).dt.total_seconds() / 3600\n",
    ").collect()"
   ]
  },
  {
   "cell_type": "code",
   "execution_count": 4,
   "metadata": {},
   "outputs": [
    {
     "data": {
      "text/html": [
       "<div><style>\n",
       ".dataframe > thead > tr,\n",
       ".dataframe > tbody > tr {\n",
       "  text-align: right;\n",
       "  white-space: pre-wrap;\n",
       "}\n",
       "</style>\n",
       "<small>shape: (1, 1)</small><table border=\"1\" class=\"dataframe\"><thead><tr><th>distance</th></tr><tr><td>f64</td></tr></thead><tbody><tr><td>672.288466</td></tr></tbody></table></div>"
      ],
      "text/plain": [
       "shape: (1, 1)\n",
       "┌────────────┐\n",
       "│ distance   │\n",
       "│ ---        │\n",
       "│ f64        │\n",
       "╞════════════╡\n",
       "│ 672.288466 │\n",
       "└────────────┘"
      ]
     },
     "execution_count": 4,
     "metadata": {},
     "output_type": "execute_result"
    }
   ],
   "source": [
    "res = (\n",
    "    pl.scan_parquet(ROOT / \"data/merged_march.parquet\")\n",
    "    .filter((pl.col(\"object_id\").list.len() > 1).any().over(\"vehicle_id\"))\n",
    "    .sort(pl.col(\"epoch_time\"))\n",
    "    .group_by(\"vehicle_id\")\n",
    "    .agg(\n",
    "        (\n",
    "            pl.col(\"centroid_x_smooth\").diff() ** 2\n",
    "            + pl.col(\"centroid_y_smooth\").diff() ** 2\n",
    "        )\n",
    "        .sqrt()\n",
    "        .sum()\n",
    "        .alias(\"distance\")\n",
    "    )\n",
    "    .select(pl.col(\"distance\").mean())\n",
    "    .collect(streaming=True, )\n",
    ")\n",
    "\n",
    "res"
   ]
  },
  {
   "cell_type": "code",
   "execution_count": 5,
   "metadata": {},
   "outputs": [
    {
     "data": {
      "text/html": [
       "<div><style>\n",
       ".dataframe > thead > tr,\n",
       ".dataframe > tbody > tr {\n",
       "  text-align: right;\n",
       "  white-space: pre-wrap;\n",
       "}\n",
       "</style>\n",
       "<small>shape: (1, 1)</small><table border=\"1\" class=\"dataframe\"><thead><tr><th>distance</th></tr><tr><td>f64</td></tr></thead><tbody><tr><td>170.78881</td></tr></tbody></table></div>"
      ],
      "text/plain": [
       "shape: (1, 1)\n",
       "┌───────────┐\n",
       "│ distance  │\n",
       "│ ---       │\n",
       "│ f64       │\n",
       "╞═══════════╡\n",
       "│ 170.78881 │\n",
       "└───────────┘"
      ]
     },
     "execution_count": 5,
     "metadata": {},
     "output_type": "execute_result"
    }
   ],
   "source": [
    "res = (\n",
    "    pl.scan_parquet(ROOT / \"data/merged_march.parquet\")\n",
    "    .filter((pl.col(\"object_id\").list.len() == 1).all().over(\"vehicle_id\"))\n",
    "    .sort(pl.col(\"epoch_time\"))\n",
    "    .group_by(\"vehicle_id\")\n",
    "    .agg(\n",
    "        (\n",
    "            pl.col(\"centroid_x_smooth\").diff() ** 2\n",
    "            + pl.col(\"centroid_y_smooth\").diff() ** 2\n",
    "        )\n",
    "        .sqrt()\n",
    "        .sum()\n",
    "        .alias(\"distance\")\n",
    "    )\n",
    "    .select(pl.col(\"distance\").mean())\n",
    "    .collect(streaming=True, )\n",
    ")\n",
    "\n",
    "res"
   ]
  },
  {
   "cell_type": "code",
   "execution_count": 6,
   "metadata": {},
   "outputs": [],
   "source": [
    "res = (\n",
    "    pl.scan_parquet(ROOT / \"data/merged_march.parquet\")\n",
    "    .filter((pl.col(\"object_id\").list.len() > 1).any().over(\"vehicle_id\"))\n",
    "    .sort(pl.col(\"epoch_time\"))\n",
    "    .group_by(\"vehicle_id\")\n",
    "    .agg(\n",
    "        (\n",
    "            pl.col(\"centroid_x_smooth\").diff() ** 2\n",
    "            + pl.col(\"centroid_y_smooth\").diff() ** 2\n",
    "        )\n",
    "        .sqrt()\n",
    "        .sum()\n",
    "        .alias(\"distance\")\n",
    "    )\n",
    "    .select(pl.col(\"distance\"))\n",
    "    .collect(streaming=True, background=True)\n",
    ")"
   ]
  },
  {
   "cell_type": "code",
   "execution_count": 7,
   "metadata": {},
   "outputs": [],
   "source": [
    "res = (\n",
    "    pl.scan_parquet(ROOT / \"data/merged_march.parquet\")\n",
    "    # .filter((pl.col(\"object_id\").list.len() > 1).any().over(\"vehicle_id\"))\n",
    "    .sort(pl.col(\"epoch_time\"))\n",
    "    .group_by(\"vehicle_id\")\n",
    "    .agg(\n",
    "        (\n",
    "            pl.col(\"centroid_x_smooth\").diff() ** 2\n",
    "            + pl.col(\"centroid_y_smooth\").diff() ** 2\n",
    "        )\n",
    "        .sqrt()\n",
    "        .sum()\n",
    "        .alias(\"distance\"),\n",
    "        (pl.col(\"epoch_time\").max() - pl.col(\"epoch_time\").min())\n",
    "        .dt.total_seconds()\n",
    "        .alias(\"duration\"),\n",
    "        (pl.col(\"front_s_smooth\") - pl.col(\"back_s_smooth\")).max().alias(\"length\"),\n",
    "        pl.col(\"s_velocity_smooth\").min().alias(\"min_vel\"),\n",
    "        pl.col(\"s_velocity_smooth\").max().alias(\"max_vel\"),\n",
    "        pl.col(\"association_distance\")\n",
    "        .mean()\n",
    "        .fill_null(0)\n",
    "        .alias(\"association_distance\"),\n",
    "    )\n",
    "    .filter(\n",
    "        (pl.col(\"distance\") < 1600)\n",
    "        & (pl.col(\"min_vel\") > -5)\n",
    "        & (pl.col(\"max_vel\") < 40)\n",
    "    )\n",
    "    # .select(pl.col(\"distance\"))\n",
    "    .collect(\n",
    "        streaming=True,\n",
    "    )\n",
    ")"
   ]
  },
  {
   "cell_type": "code",
   "execution_count": 8,
   "metadata": {},
   "outputs": [],
   "source": [
    "# from scipy.stats import chi2\n",
    "\n",
    "# res.select(\n",
    "#     ((pl.col(\"association_distance\") <= chi2.ppf(0.99, 4)).sum() / pl.count()).alias(\n",
    "#         \"clean_association\"\n",
    "#     ),\n",
    "#     ((pl.col(\"association_distance\") > chi2.ppf(0.99, 4)).sum() / pl.count()).alias(\n",
    "#         \"bad_association\"\n",
    "#     ),\n",
    "# )"
   ]
  },
  {
   "cell_type": "code",
   "execution_count": 9,
   "metadata": {},
   "outputs": [
    {
     "data": {
      "text/html": [
       "<div><style>\n",
       ".dataframe > thead > tr,\n",
       ".dataframe > tbody > tr {\n",
       "  text-align: right;\n",
       "  white-space: pre-wrap;\n",
       "}\n",
       "</style>\n",
       "<small>shape: (13, 8)</small><table border=\"1\" class=\"dataframe\"><thead><tr><th>describe</th><th>vehicle_id</th><th>distance</th><th>duration</th><th>length</th><th>min_vel</th><th>max_vel</th><th>association_distance</th></tr><tr><td>str</td><td>f64</td><td>f64</td><td>f64</td><td>f64</td><td>f64</td><td>f64</td><td>f64</td></tr></thead><tbody><tr><td>&quot;count&quot;</td><td>79204.0</td><td>79204.0</td><td>79204.0</td><td>79204.0</td><td>79204.0</td><td>79204.0</td><td>79204.0</td></tr><tr><td>&quot;null_count&quot;</td><td>0.0</td><td>0.0</td><td>0.0</td><td>0.0</td><td>0.0</td><td>0.0</td><td>0.0</td></tr><tr><td>&quot;mean&quot;</td><td>39976.908035</td><td>412.561129</td><td>174.071726</td><td>5.616789</td><td>9.363161</td><td>20.484005</td><td>NaN</td></tr><tr><td>&quot;std&quot;</td><td>23123.603091</td><td>361.368795</td><td>2683.007568</td><td>3.122576</td><td>7.34748</td><td>5.367138</td><td>NaN</td></tr><tr><td>&quot;min&quot;</td><td>0.0</td><td>0.0</td><td>0.0</td><td>0.0</td><td>-4.863656</td><td>0.946723</td><td>0.0</td></tr><tr><td>&quot;5%&quot;</td><td>3989.0</td><td>34.52441</td><td>3.0</td><td>1.73368</td><td>-0.369933</td><td>9.953668</td><td>0.0</td></tr><tr><td>&quot;25%&quot;</td><td>19970.0</td><td>132.719084</td><td>9.0</td><td>4.131753</td><td>3.123658</td><td>17.494608</td><td>0.0</td></tr><tr><td>&quot;50%&quot;</td><td>39905.0</td><td>275.27994</td><td>18.0</td><td>5.122049</td><td>7.792594</td><td>21.324322</td><td>0.0</td></tr><tr><td>&quot;75%&quot;</td><td>59977.0</td><td>608.276493</td><td>38.0</td><td>6.266292</td><td>15.458559</td><td>24.297579</td><td>2.955949</td></tr><tr><td>&quot;90%&quot;</td><td>72096.0</td><td>1047.67536</td><td>59.0</td><td>8.519613</td><td>20.342579</td><td>26.492929</td><td>4.954889</td></tr><tr><td>&quot;95%&quot;</td><td>76132.0</td><td>1181.456239</td><td>74.0</td><td>11.370729</td><td>22.254219</td><td>27.729158</td><td>8.251908</td></tr><tr><td>&quot;99%&quot;</td><td>79379.0</td><td>1290.768041</td><td>112.0</td><td>19.863092</td><td>25.117247</td><td>30.246841</td><td>34.429077</td></tr><tr><td>&quot;max&quot;</td><td>80184.0</td><td>1599.572936</td><td>93379.0</td><td>40.83592</td><td>35.55162</td><td>39.560822</td><td>11259.158203</td></tr></tbody></table></div>"
      ],
      "text/plain": [
       "shape: (13, 8)\n",
       "┌────────────┬────────────┬────────────┬───────────┬───────────┬───────────┬───────────┬───────────┐\n",
       "│ describe   ┆ vehicle_id ┆ distance   ┆ duration  ┆ length    ┆ min_vel   ┆ max_vel   ┆ associati │\n",
       "│ ---        ┆ ---        ┆ ---        ┆ ---       ┆ ---       ┆ ---       ┆ ---       ┆ on_distan │\n",
       "│ str        ┆ f64        ┆ f64        ┆ f64       ┆ f64       ┆ f64       ┆ f64       ┆ ce        │\n",
       "│            ┆            ┆            ┆           ┆           ┆           ┆           ┆ ---       │\n",
       "│            ┆            ┆            ┆           ┆           ┆           ┆           ┆ f64       │\n",
       "╞════════════╪════════════╪════════════╪═══════════╪═══════════╪═══════════╪═══════════╪═══════════╡\n",
       "│ count      ┆ 79204.0    ┆ 79204.0    ┆ 79204.0   ┆ 79204.0   ┆ 79204.0   ┆ 79204.0   ┆ 79204.0   │\n",
       "│ null_count ┆ 0.0        ┆ 0.0        ┆ 0.0       ┆ 0.0       ┆ 0.0       ┆ 0.0       ┆ 0.0       │\n",
       "│ mean       ┆ 39976.9080 ┆ 412.561129 ┆ 174.07172 ┆ 5.616789  ┆ 9.363161  ┆ 20.484005 ┆ NaN       │\n",
       "│            ┆ 35         ┆            ┆ 6         ┆           ┆           ┆           ┆           │\n",
       "│ std        ┆ 23123.6030 ┆ 361.368795 ┆ 2683.0075 ┆ 3.122576  ┆ 7.34748   ┆ 5.367138  ┆ NaN       │\n",
       "│            ┆ 91         ┆            ┆ 68        ┆           ┆           ┆           ┆           │\n",
       "│ …          ┆ …          ┆ …          ┆ …         ┆ …         ┆ …         ┆ …         ┆ …         │\n",
       "│ 90%        ┆ 72096.0    ┆ 1047.67536 ┆ 59.0      ┆ 8.519613  ┆ 20.342579 ┆ 26.492929 ┆ 4.954889  │\n",
       "│ 95%        ┆ 76132.0    ┆ 1181.45623 ┆ 74.0      ┆ 11.370729 ┆ 22.254219 ┆ 27.729158 ┆ 8.251908  │\n",
       "│            ┆            ┆ 9          ┆           ┆           ┆           ┆           ┆           │\n",
       "│ 99%        ┆ 79379.0    ┆ 1290.76804 ┆ 112.0     ┆ 19.863092 ┆ 25.117247 ┆ 30.246841 ┆ 34.429077 │\n",
       "│            ┆            ┆ 1          ┆           ┆           ┆           ┆           ┆           │\n",
       "│ max        ┆ 80184.0    ┆ 1599.57293 ┆ 93379.0   ┆ 40.83592  ┆ 35.55162  ┆ 39.560822 ┆ 11259.158 │\n",
       "│            ┆            ┆ 6          ┆           ┆           ┆           ┆           ┆ 203       │\n",
       "└────────────┴────────────┴────────────┴───────────┴───────────┴───────────┴───────────┴───────────┘"
      ]
     },
     "execution_count": 9,
     "metadata": {},
     "output_type": "execute_result"
    }
   ],
   "source": [
    "res.describe(percentiles=[0.05, 0.25, 0.5, 0.75, 0.9, 0.95, 0.99])"
   ]
  },
  {
   "cell_type": "code",
   "execution_count": 10,
   "metadata": {},
   "outputs": [
    {
     "data": {
      "text/html": [
       "<div><style>\n",
       ".dataframe > thead > tr,\n",
       ".dataframe > tbody > tr {\n",
       "  text-align: right;\n",
       "  white-space: pre-wrap;\n",
       "}\n",
       "</style>\n",
       "<small>shape: (1, 1)</small><table border=\"1\" class=\"dataframe\"><thead><tr><th>min_vel</th></tr><tr><td>f64</td></tr></thead><tbody><tr><td>0.114969</td></tr></tbody></table></div>"
      ],
      "text/plain": [
       "shape: (1, 1)\n",
       "┌──────────┐\n",
       "│ min_vel  │\n",
       "│ ---      │\n",
       "│ f64      │\n",
       "╞══════════╡\n",
       "│ 0.114969 │\n",
       "└──────────┘"
      ]
     },
     "execution_count": 10,
     "metadata": {},
     "output_type": "execute_result"
    }
   ],
   "source": [
    "res.select((pl.col(\"min_vel\") < 0.5).sum() / pl.count())"
   ]
  },
  {
   "cell_type": "code",
   "execution_count": 11,
   "metadata": {},
   "outputs": [
    {
     "data": {
      "text/html": [
       "<div><style>\n",
       ".dataframe > thead > tr,\n",
       ".dataframe > tbody > tr {\n",
       "  text-align: right;\n",
       "  white-space: pre-wrap;\n",
       "}\n",
       "</style>\n",
       "<small>shape: (6_641, 7)</small><table border=\"1\" class=\"dataframe\"><thead><tr><th>vehicle_id</th><th>distance</th><th>duration</th><th>length</th><th>min_vel</th><th>max_vel</th><th>association_distance</th></tr><tr><td>u64</td><td>f64</td><td>i64</td><td>f64</td><td>f32</td><td>f32</td><td>f32</td></tr></thead><tbody><tr><td>10099</td><td>727.548825</td><td>61</td><td>6.806669</td><td>-0.251334</td><td>26.739601</td><td>2.897162</td></tr><tr><td>39193</td><td>924.753243</td><td>86</td><td>5.084647</td><td>-0.330173</td><td>22.026722</td><td>3.350018</td></tr><tr><td>35001</td><td>955.523061</td><td>94</td><td>5.771488</td><td>-0.373887</td><td>22.445753</td><td>275.133362</td></tr><tr><td>32640</td><td>608.259909</td><td>78</td><td>5.427303</td><td>-0.66965</td><td>23.610588</td><td>2.102478</td></tr><tr><td>12061</td><td>739.528323</td><td>72</td><td>8.186692</td><td>-0.747412</td><td>22.486504</td><td>3.528691</td></tr><tr><td>27793</td><td>601.429025</td><td>62</td><td>6.36541</td><td>-0.547155</td><td>23.361601</td><td>2.857253</td></tr><tr><td>27528</td><td>556.063843</td><td>80</td><td>5.31412</td><td>-0.326002</td><td>23.877031</td><td>3.11438</td></tr><tr><td>16128</td><td>541.3971</td><td>78</td><td>10.172734</td><td>-0.679661</td><td>25.045385</td><td>4.985929</td></tr><tr><td>45487</td><td>502.376939</td><td>100</td><td>11.123776</td><td>-0.729449</td><td>20.435953</td><td>9.966311</td></tr><tr><td>19138</td><td>592.786444</td><td>62</td><td>12.526717</td><td>-1.847045</td><td>28.760643</td><td>18.465469</td></tr><tr><td>7473</td><td>1190.116238</td><td>93</td><td>5.697321</td><td>-0.025637</td><td>22.227617</td><td>3.375776</td></tr><tr><td>31461</td><td>325.534444</td><td>32</td><td>6.680038</td><td>-0.071439</td><td>15.640282</td><td>3.651999</td></tr><tr><td>&hellip;</td><td>&hellip;</td><td>&hellip;</td><td>&hellip;</td><td>&hellip;</td><td>&hellip;</td><td>&hellip;</td></tr><tr><td>49152</td><td>349.984324</td><td>51</td><td>5.899353</td><td>-0.351075</td><td>20.377199</td><td>2.084325</td></tr><tr><td>17956</td><td>573.96706</td><td>71</td><td>5.483495</td><td>-2.425368</td><td>21.789972</td><td>4.685262</td></tr><tr><td>25295</td><td>465.165209</td><td>42</td><td>6.684448</td><td>-0.77304</td><td>20.58507</td><td>4.452483</td></tr><tr><td>2489</td><td>715.489249</td><td>70</td><td>5.795099</td><td>-0.268996</td><td>24.710537</td><td>3.154648</td></tr><tr><td>9828</td><td>899.069993</td><td>66</td><td>7.099786</td><td>-0.770689</td><td>26.944269</td><td>2.635569</td></tr><tr><td>32768</td><td>1112.560919</td><td>113</td><td>6.586524</td><td>-0.485408</td><td>25.371965</td><td>2.916291</td></tr><tr><td>14544</td><td>38.7211</td><td>32</td><td>1.935982</td><td>-0.683232</td><td>6.633436</td><td>0.0</td></tr><tr><td>15336</td><td>230.74068</td><td>19</td><td>6.961859</td><td>-0.482122</td><td>19.471851</td><td>0.0</td></tr><tr><td>47580</td><td>1231.636528</td><td>83</td><td>5.444206</td><td>-0.819178</td><td>28.498842</td><td>331.342804</td></tr><tr><td>37746</td><td>133.426409</td><td>17</td><td>5.698033</td><td>-0.188365</td><td>18.408775</td><td>3.662607</td></tr><tr><td>11141</td><td>525.672489</td><td>67</td><td>5.62963</td><td>-1.526145</td><td>19.020493</td><td>2.489515</td></tr><tr><td>17167</td><td>1029.343833</td><td>87</td><td>5.489826</td><td>-0.081453</td><td>26.02405</td><td>2.127912</td></tr></tbody></table></div>"
      ],
      "text/plain": [
       "shape: (6_641, 7)\n",
       "┌────────────┬─────────────┬──────────┬──────────┬───────────┬───────────┬──────────────────────┐\n",
       "│ vehicle_id ┆ distance    ┆ duration ┆ length   ┆ min_vel   ┆ max_vel   ┆ association_distance │\n",
       "│ ---        ┆ ---         ┆ ---      ┆ ---      ┆ ---       ┆ ---       ┆ ---                  │\n",
       "│ u64        ┆ f64         ┆ i64      ┆ f64      ┆ f32       ┆ f32       ┆ f32                  │\n",
       "╞════════════╪═════════════╪══════════╪══════════╪═══════════╪═══════════╪══════════════════════╡\n",
       "│ 10099      ┆ 727.548825  ┆ 61       ┆ 6.806669 ┆ -0.251334 ┆ 26.739601 ┆ 2.897162             │\n",
       "│ 39193      ┆ 924.753243  ┆ 86       ┆ 5.084647 ┆ -0.330173 ┆ 22.026722 ┆ 3.350018             │\n",
       "│ 35001      ┆ 955.523061  ┆ 94       ┆ 5.771488 ┆ -0.373887 ┆ 22.445753 ┆ 275.133362           │\n",
       "│ 32640      ┆ 608.259909  ┆ 78       ┆ 5.427303 ┆ -0.66965  ┆ 23.610588 ┆ 2.102478             │\n",
       "│ …          ┆ …           ┆ …        ┆ …        ┆ …         ┆ …         ┆ …                    │\n",
       "│ 47580      ┆ 1231.636528 ┆ 83       ┆ 5.444206 ┆ -0.819178 ┆ 28.498842 ┆ 331.342804           │\n",
       "│ 37746      ┆ 133.426409  ┆ 17       ┆ 5.698033 ┆ -0.188365 ┆ 18.408775 ┆ 3.662607             │\n",
       "│ 11141      ┆ 525.672489  ┆ 67       ┆ 5.62963  ┆ -1.526145 ┆ 19.020493 ┆ 2.489515             │\n",
       "│ 17167      ┆ 1029.343833 ┆ 87       ┆ 5.489826 ┆ -0.081453 ┆ 26.02405  ┆ 2.127912             │\n",
       "└────────────┴─────────────┴──────────┴──────────┴───────────┴───────────┴──────────────────────┘"
      ]
     },
     "execution_count": 11,
     "metadata": {},
     "output_type": "execute_result"
    }
   ],
   "source": [
    "res.filter(pl.col(\"min_vel\") < 0)"
   ]
  },
  {
   "cell_type": "code",
   "execution_count": 12,
   "metadata": {},
   "outputs": [],
   "source": [
    "# res."
   ]
  },
  {
   "cell_type": "code",
   "execution_count": 13,
   "metadata": {},
   "outputs": [
    {
     "data": {
      "text/html": [
       "<div><style>\n",
       ".dataframe > thead > tr,\n",
       ".dataframe > tbody > tr {\n",
       "  text-align: right;\n",
       "  white-space: pre-wrap;\n",
       "}\n",
       "</style>\n",
       "<small>shape: (1, 2)</small><table border=\"1\" class=\"dataframe\"><thead><tr><th>length</th><th>percent_car</th></tr><tr><td>f64</td><td>f64</td></tr></thead><tbody><tr><td>0.119754</td><td>0.880246</td></tr></tbody></table></div>"
      ],
      "text/plain": [
       "shape: (1, 2)\n",
       "┌──────────┬─────────────┐\n",
       "│ length   ┆ percent_car │\n",
       "│ ---      ┆ ---         │\n",
       "│ f64      ┆ f64         │\n",
       "╞══════════╪═════════════╡\n",
       "│ 0.119754 ┆ 0.880246    │\n",
       "└──────────┴─────────────┘"
      ]
     },
     "execution_count": 13,
     "metadata": {},
     "output_type": "execute_result"
    }
   ],
   "source": [
    "res.select(\n",
    "    (pl.col(\"length\") >= 8).sum() / pl.col(\"length\").count().alias(\"percent_truck\"),\n",
    "    ((pl.col(\"length\") < 8).sum() / pl.col(\"length\").count()).alias(\"percent_car\"),\n",
    ")"
   ]
  },
  {
   "cell_type": "code",
   "execution_count": 14,
   "metadata": {},
   "outputs": [
    {
     "data": {
      "text/html": [
       "<div><style>\n",
       ".dataframe > thead > tr,\n",
       ".dataframe > tbody > tr {\n",
       "  text-align: right;\n",
       "  white-space: pre-wrap;\n",
       "}\n",
       "</style>\n",
       "<small>shape: (1, 2)</small><table border=\"1\" class=\"dataframe\"><thead><tr><th>percent_truck</th><th>percent_car</th></tr><tr><td>u32</td><td>u32</td></tr></thead><tbody><tr><td>9485</td><td>69719</td></tr></tbody></table></div>"
      ],
      "text/plain": [
       "shape: (1, 2)\n",
       "┌───────────────┬─────────────┐\n",
       "│ percent_truck ┆ percent_car │\n",
       "│ ---           ┆ ---         │\n",
       "│ u32           ┆ u32         │\n",
       "╞═══════════════╪═════════════╡\n",
       "│ 9485          ┆ 69719       │\n",
       "└───────────────┴─────────────┘"
      ]
     },
     "execution_count": 14,
     "metadata": {},
     "output_type": "execute_result"
    }
   ],
   "source": [
    "res.select(\n",
    "    (pl.col(\"length\") >= 8).sum().alias(\"percent_truck\"),\n",
    "    (pl.col(\"length\") < 8).sum().alias(\"percent_car\"),\n",
    ")"
   ]
  },
  {
   "cell_type": "code",
   "execution_count": 15,
   "metadata": {},
   "outputs": [
    {
     "data": {
      "text/html": [
       "<div><style>\n",
       ".dataframe > thead > tr,\n",
       ".dataframe > tbody > tr {\n",
       "  text-align: right;\n",
       "  white-space: pre-wrap;\n",
       "}\n",
       "</style>\n",
       "<small>shape: (1, 2)</small><table border=\"1\" class=\"dataframe\"><thead><tr><th>duration</th><th>distance</th></tr><tr><td>f64</td><td>f64</td></tr></thead><tbody><tr><td>3829.771389</td><td>32676.491645</td></tr></tbody></table></div>"
      ],
      "text/plain": [
       "shape: (1, 2)\n",
       "┌─────────────┬──────────────┐\n",
       "│ duration    ┆ distance     │\n",
       "│ ---         ┆ ---          │\n",
       "│ f64         ┆ f64          │\n",
       "╞═════════════╪══════════════╡\n",
       "│ 3829.771389 ┆ 32676.491645 │\n",
       "└─────────────┴──────────────┘"
      ]
     },
     "execution_count": 15,
     "metadata": {},
     "output_type": "execute_result"
    }
   ],
   "source": [
    "res.select(\n",
    "    (pl.col(\"duration\").sum() / 3600),\n",
    "    (pl.col(\"distance\").sum() / 1000),\n",
    ")"
   ]
  },
  {
   "cell_type": "code",
   "execution_count": 16,
   "metadata": {},
   "outputs": [
    {
     "data": {
      "text/plain": [
       "32676.491644544167"
      ]
     },
     "execution_count": 16,
     "metadata": {},
     "output_type": "execute_result"
    }
   ],
   "source": [
    "res[\"distance\"].sum() / 1e3"
   ]
  },
  {
   "cell_type": "code",
   "execution_count": 17,
   "metadata": {},
   "outputs": [
    {
     "data": {
      "text/html": [
       "<div><style>\n",
       ".dataframe > thead > tr,\n",
       ".dataframe > tbody > tr {\n",
       "  text-align: right;\n",
       "  white-space: pre-wrap;\n",
       "}\n",
       "</style>\n",
       "<small>shape: (2, 1)</small><table border=\"1\" class=\"dataframe\"><thead><tr><th>column_0</th></tr><tr><td>datetime[ms, US/Central]</td></tr></thead><tbody><tr><td>2023-03-12 16:41:27.300 CDT</td></tr><tr><td>2023-03-13 19:26:04.200 CDT</td></tr></tbody></table></div>"
      ],
      "text/plain": [
       "shape: (2, 1)\n",
       "┌─────────────────────────────┐\n",
       "│ column_0                    │\n",
       "│ ---                         │\n",
       "│ datetime[ms, US/Central]    │\n",
       "╞═════════════════════════════╡\n",
       "│ 2023-03-12 16:41:27.300 CDT │\n",
       "│ 2023-03-13 19:26:04.200 CDT │\n",
       "└─────────────────────────────┘"
      ]
     },
     "execution_count": 17,
     "metadata": {},
     "output_type": "execute_result"
    }
   ],
   "source": [
    "processed_traj_df.select(\n",
    "    pl.col(\"epoch_time\")\n",
    "    .min()\n",
    "    .dt.convert_time_zone(time_zone=\"US/Central\")\n",
    "    .alias(\"min_epoch_time\"),\n",
    "    pl.col(\"epoch_time\")\n",
    "    .max()\n",
    "    .dt.convert_time_zone(time_zone=\"US/Central\")\n",
    "    .alias(\"max_epoch_time\"),\n",
    ").collect().transpose()"
   ]
  },
  {
   "cell_type": "code",
   "execution_count": 18,
   "metadata": {},
   "outputs": [
    {
     "data": {
      "text/html": [
       "<div><style>\n",
       ".dataframe > thead > tr,\n",
       ".dataframe > tbody > tr {\n",
       "  text-align: right;\n",
       "  white-space: pre-wrap;\n",
       "}\n",
       "</style>\n",
       "<small>shape: (1, 1)</small><table border=\"1\" class=\"dataframe\"><thead><tr><th>vehicle_id</th></tr><tr><td>u32</td></tr></thead><tbody><tr><td>80185</td></tr></tbody></table></div>"
      ],
      "text/plain": [
       "shape: (1, 1)\n",
       "┌────────────┐\n",
       "│ vehicle_id │\n",
       "│ ---        │\n",
       "│ u32        │\n",
       "╞════════════╡\n",
       "│ 80185      │\n",
       "└────────────┘"
      ]
     },
     "execution_count": 18,
     "metadata": {},
     "output_type": "execute_result"
    }
   ],
   "source": [
    "processed_traj_df.select(pl.col(\"vehicle_id\").n_unique()).collect()"
   ]
  },
  {
   "cell_type": "code",
   "execution_count": 19,
   "metadata": {},
   "outputs": [],
   "source": [
    "# pl.scan_parquet(ROOT / \"data/merged_ma/rch.parquet\").columns"
   ]
  },
  {
   "cell_type": "code",
   "execution_count": 20,
   "metadata": {},
   "outputs": [
    {
     "data": {
      "text/html": [
       "<div><style>\n",
       ".dataframe > thead > tr,\n",
       ".dataframe > tbody > tr {\n",
       "  text-align: right;\n",
       "  white-space: pre-wrap;\n",
       "}\n",
       "</style>\n",
       "<small>shape: (1, 1)</small><table border=\"1\" class=\"dataframe\"><thead><tr><th>object_id</th></tr><tr><td>u32</td></tr></thead><tbody><tr><td>211106</td></tr></tbody></table></div>"
      ],
      "text/plain": [
       "shape: (1, 1)\n",
       "┌───────────┐\n",
       "│ object_id │\n",
       "│ ---       │\n",
       "│ u32       │\n",
       "╞═══════════╡\n",
       "│ 211106    │\n",
       "└───────────┘"
      ]
     },
     "execution_count": 20,
     "metadata": {},
     "output_type": "execute_result"
    }
   ],
   "source": [
    "pl.scan_parquet(ROOT / \"data/merged_march.parquet\").select(pl.col(\"object_id\")).explode(\n",
    "    \"object_id\"\n",
    ").approx_n_unique().collect()"
   ]
  },
  {
   "cell_type": "code",
   "execution_count": 21,
   "metadata": {},
   "outputs": [
    {
     "data": {
      "text/plain": [
       "2.6321880650994576"
      ]
     },
     "execution_count": 21,
     "metadata": {},
     "output_type": "execute_result"
    }
   ],
   "source": [
    "211062 / 80185"
   ]
  },
  {
   "cell_type": "code",
   "execution_count": 22,
   "metadata": {},
   "outputs": [],
   "source": [
    "# pl.scan_parquet(\n",
    "#     # Path(os.environ.get(\"RAW_DATA_DIR\")).joinpath(\"*.parquet\")\n",
    "#     ROOT / \"data/merged_march.parquet\"\n",
    "# ).columns"
   ]
  },
  {
   "cell_type": "code",
   "execution_count": 3,
   "metadata": {},
   "outputs": [],
   "source": [
    "lf_df = (\n",
    "    processed_traj_df.lazy()\n",
    "    .select(\n",
    "        [\n",
    "            \"epoch_time\",\n",
    "            \"lane\",\n",
    "            \"lane_index\",\n",
    "            \"front_s_smooth\",\n",
    "            \"vehicle_id\",\n",
    "            \"s_velocity_smooth\",\n",
    "            \"length_s\",\n",
    "        ]\n",
    "    )\n",
    "    .with_row_count(name=\"row_count\")\n",
    "    .sort([\"epoch_time\", \"front_s_smooth\"])\n",
    "    .with_columns(\n",
    "        pl.col([\"vehicle_id\", \"front_s_smooth\", \"length_s\"])\n",
    "        .shift(-1)\n",
    "        .over([\"epoch_time\", \"lane\", \"lane_index\"])\n",
    "        .name.map(lambda x: f\"{x}_leader\")\n",
    "    )\n",
    "    .filter(pl.col(\"vehicle_id_leader\").is_not_null())\n",
    "    .with_columns(\n",
    "        ((pl.col(\"epoch_time\").diff().dt.total_milliseconds() / 1000) > 0.1)\n",
    "        .cum_sum()\n",
    "        .over([\"vehicle_id\", \"vehicle_id_leader\", \"lane\", \"lane_index\"])\n",
    "        .alias(\"other_leader\"),\n",
    "        pl.col(\"s_velocity_smooth\")\n",
    "        .rolling_mean(\n",
    "            window_size=int(3 / 0.1),\n",
    "            center=True,\n",
    "            min_periods=1,\n",
    "        )\n",
    "        .over(\n",
    "            [\n",
    "                \"vehicle_id\",\n",
    "                \"lane\",\n",
    "            ]\n",
    "        )\n",
    "        .alias(\"s_velocity_smooth_rolling\"),\n",
    "        (\n",
    "            pl.col(\"front_s_smooth_leader\")\n",
    "            - pl.col(\"length_s_leader\")\n",
    "            - pl.col(\"front_s_smooth\")\n",
    "        ).alias(\"dist_diff\"),\n",
    "        (\n",
    "            (pl.col(\"front_s_smooth_leader\") - pl.col(\"front_s_smooth\"))\n",
    "            / pl.col(\"s_velocity_smooth\")\n",
    "        ).alias(\"time_headway\"),\n",
    "        (pl.col(\"epoch_time\").diff().dt.total_milliseconds() / 1000)\n",
    "        .over([\"vehicle_id\", \"lane\"])\n",
    "        .alias(\"time_diff\"),\n",
    "    )\n",
    "    .with_columns(\n",
    "        (pl.col(\"s_velocity_smooth_rolling\").diff() / pl.col(\"time_diff\"))\n",
    "        .over([\"vehicle_id\", \"lane\"])\n",
    "        .alias(\"acceleration\")\n",
    "    )\n",
    "    .group_by([\"lane\", \"lane_index\", \"vehicle_id\", \"vehicle_id_leader\", \"other_leader\"])\n",
    "    .agg(\n",
    "        (pl.col(\"epoch_time\").diff().dt.total_milliseconds() / 1000)\n",
    "        .sum()\n",
    "        .alias(\"time_diff\"),\n",
    "        pl.col(\"dist_diff\").mean().alias(\"dist_diff\"),\n",
    "        pl.col(\"dist_diff\").min().alias(\"dist_diff_min\"),\n",
    "        pl.col(\"dist_diff\").max().alias(\"dist_diff_max\"),\n",
    "        pl.col(\"time_headway\").mean().alias(\"time_headway\"),\n",
    "        pl.col(\"time_headway\").min().alias(\"time_headway_min\"),\n",
    "        pl.col(\"time_headway\").max().alias(\"time_headway_max\"),\n",
    "        pl.col(\"row_count\").min().alias(\"start_index\"),\n",
    "        pl.col(\"row_count\").max().alias(\"end_index\"),\n",
    "        pl.col(\"acceleration\").min().alias(\"min_acceleration\"),\n",
    "        pl.col(\"acceleration\").max().alias(\"max_acceleration\"),\n",
    "        pl.col(\"s_velocity_smooth\").min().alias(\"min_velocity\"),\n",
    "        pl.col(\"s_velocity_smooth\").max().alias(\"max_velocity\"),\n",
    "        pl.col(\"epoch_time\").min().alias(\"epoch_time_min\"),\n",
    "        pl.col(\"epoch_time\").max().alias(\"epoch_time_max\"),\n",
    "        pl.col(\"acceleration\")\n",
    "        .filter(pl.col(\"time_headway\") > 5)\n",
    "        .max()\n",
    "        .alias(\"free_accel\"),\n",
    "        (\n",
    "            ((pl.col(\"time_headway\") > 5) & (pl.col(\"s_velocity_smooth\") > 20)).sum()\n",
    "            / 10\n",
    "        ).alias(\"cruising\"),\n",
    "    )\n",
    "    .filter(\n",
    "        pl.col(\"vehicle_id_leader\").is_not_null()\n",
    "        & (pl.col(\"dist_diff_min\") > 3)\n",
    "        & pl.col(\"other_leader\").is_not_null()\n",
    "        & (pl.col(\"time_headway_min\") > 0.3)\n",
    "    )\n",
    "    .collect()\n",
    ")"
   ]
  },
  {
   "cell_type": "code",
   "execution_count": 4,
   "metadata": {},
   "outputs": [
    {
     "data": {
      "text/plain": [
       "(193473, 22)"
      ]
     },
     "execution_count": 4,
     "metadata": {},
     "output_type": "execute_result"
    }
   ],
   "source": [
    "lf_df.shape"
   ]
  },
  {
   "cell_type": "markdown",
   "metadata": {},
   "source": [
    "### Create a DataFrame of Association Likelihood Scores"
   ]
  },
  {
   "cell_type": "code",
   "execution_count": 5,
   "metadata": {},
   "outputs": [
    {
     "data": {
      "text/html": [
       "<div><style>\n",
       ".dataframe > thead > tr,\n",
       ".dataframe > tbody > tr {\n",
       "  text-align: right;\n",
       "  white-space: pre-wrap;\n",
       "}\n",
       "</style>\n",
       "<small>shape: (5, 2)</small><table border=\"1\" class=\"dataframe\"><thead><tr><th>vehicle_id</th><th>association_distance</th></tr><tr><td>u64</td><td>f32</td></tr></thead><tbody><tr><td>15866</td><td>0.0</td></tr><tr><td>34477</td><td>0.0</td></tr><tr><td>57021</td><td>0.0</td></tr><tr><td>61874</td><td>0.0</td></tr><tr><td>60430</td><td>0.0</td></tr></tbody></table></div>"
      ],
      "text/plain": [
       "shape: (5, 2)\n",
       "┌────────────┬──────────────────────┐\n",
       "│ vehicle_id ┆ association_distance │\n",
       "│ ---        ┆ ---                  │\n",
       "│ u64        ┆ f32                  │\n",
       "╞════════════╪══════════════════════╡\n",
       "│ 15866      ┆ 0.0                  │\n",
       "│ 34477      ┆ 0.0                  │\n",
       "│ 57021      ┆ 0.0                  │\n",
       "│ 61874      ┆ 0.0                  │\n",
       "│ 60430      ┆ 0.0                  │\n",
       "└────────────┴──────────────────────┘"
      ]
     },
     "execution_count": 5,
     "metadata": {},
     "output_type": "execute_result"
    }
   ],
   "source": [
    "assoc_df = (\n",
    "    processed_traj_df.lazy()\n",
    "    .group_by([\"vehicle_id\"])\n",
    "    .agg(\n",
    "        pl.col(\"association_distance\").mean().fill_null(0).alias(\"association_distance\")\n",
    "    )\n",
    "    .collect(streaming=True)\n",
    ")\n",
    "\n",
    "assoc_df.head()"
   ]
  },
  {
   "cell_type": "markdown",
   "metadata": {},
   "source": [
    "### Identify Good Tra "
   ]
  },
  {
   "cell_type": "code",
   "execution_count": 6,
   "metadata": {},
   "outputs": [],
   "source": [
    "lf_df = lf_df.join(assoc_df, on=\"vehicle_id\", how=\"left\").join(\n",
    "    assoc_df.rename({\"vehicle_id\": \"vehicle_id_leader\"}),\n",
    "    on=\"vehicle_id_leader\",\n",
    "    how=\"left\",\n",
    "    suffix=\"_leader\",\n",
    ")"
   ]
  },
  {
   "cell_type": "code",
   "execution_count": 7,
   "metadata": {},
   "outputs": [
    {
     "data": {
      "text/plain": [
       "(193473, 24)"
      ]
     },
     "execution_count": 7,
     "metadata": {},
     "output_type": "execute_result"
    }
   ],
   "source": [
    "lf_df.shape"
   ]
  },
  {
   "cell_type": "markdown",
   "metadata": {},
   "source": [
    "### Number of Leader-Follower Pairs in Image"
   ]
  },
  {
   "cell_type": "code",
   "execution_count": 10,
   "metadata": {},
   "outputs": [
    {
     "data": {
      "text/html": [
       "<div><style>\n",
       ".dataframe > thead > tr,\n",
       ".dataframe > tbody > tr {\n",
       "  text-align: right;\n",
       "  white-space: pre-wrap;\n",
       "}\n",
       "</style>\n",
       "<small>shape: (72, 24)</small><table border=\"1\" class=\"dataframe\"><thead><tr><th>lane</th><th>lane_index</th><th>vehicle_id</th><th>vehicle_id_leader</th><th>other_leader</th><th>time_diff</th><th>dist_diff</th><th>dist_diff_min</th><th>dist_diff_max</th><th>time_headway</th><th>time_headway_min</th><th>time_headway_max</th><th>start_index</th><th>end_index</th><th>min_acceleration</th><th>max_acceleration</th><th>min_velocity</th><th>max_velocity</th><th>epoch_time_min</th><th>epoch_time_max</th><th>free_accel</th><th>cruising</th><th>association_distance</th><th>association_distance_leader</th></tr><tr><td>str</td><td>u16</td><td>u64</td><td>u64</td><td>u32</td><td>f64</td><td>f64</td><td>f64</td><td>f64</td><td>f64</td><td>f64</td><td>f64</td><td>u32</td><td>u32</td><td>f64</td><td>f64</td><td>f32</td><td>f32</td><td>datetime[ms, UTC]</td><td>datetime[ms, UTC]</td><td>f64</td><td>f64</td><td>f32</td><td>f32</td></tr></thead><tbody><tr><td>&quot;EBL1&quot;</td><td>0</td><td>13576</td><td>13572</td><td>0</td><td>53.1</td><td>56.697943</td><td>41.005933</td><td>69.921246</td><td>2.934773</td><td>2.12695</td><td>3.619201</td><td>188170</td><td>20405986</td><td>-1.639919</td><td>1.09293</td><td>18.486311</td><td>24.159533</td><td>2023-03-13 11:59:48.400 UTC</td><td>2023-03-13 12:00:41.500 UTC</td><td>null</td><td>0.0</td><td>2.472676</td><td>3.24241</td></tr><tr><td>&quot;EBL1&quot;</td><td>0</td><td>13531</td><td>13535</td><td>0</td><td>13.2</td><td>82.693118</td><td>67.46608</td><td>93.426004</td><td>3.882856</td><td>3.211779</td><td>4.473044</td><td>3561851</td><td>8172176</td><td>-0.34996</td><td>0.153828</td><td>21.891325</td><td>22.916315</td><td>2023-03-13 11:58:35.500 UTC</td><td>2023-03-13 11:58:48.700 UTC</td><td>null</td><td>0.0</td><td>2.226898</td><td>1.946663</td></tr><tr><td>&quot;EBL1&quot;</td><td>0</td><td>13326</td><td>13318</td><td>0</td><td>32.7</td><td>104.217446</td><td>81.901858</td><td>177.342597</td><td>5.328666</td><td>4.048843</td><td>7.17582</td><td>183946</td><td>12248529</td><td>-0.981026</td><td>0.803146</td><td>16.581247</td><td>25.47538</td><td>2023-03-13 11:52:06.800 UTC</td><td>2023-03-13 11:52:39.500 UTC</td><td>0.803146</td><td>7.1</td><td>3.494298</td><td>2.722257</td></tr><tr><td>&quot;EBL1&quot;</td><td>0</td><td>13302</td><td>13330</td><td>0</td><td>21.1</td><td>69.498395</td><td>55.54223</td><td>113.749581</td><td>3.794207</td><td>3.161084</td><td>5.120674</td><td>8360422</td><td>15995244</td><td>-1.439781</td><td>1.055908</td><td>16.618658</td><td>23.277256</td><td>2023-03-13 11:52:12.200 UTC</td><td>2023-03-13 11:52:33.300 UTC</td><td>0.010891</td><td>0.2</td><td>3.981827</td><td>2.625889</td></tr><tr><td>&quot;EBL1&quot;</td><td>0</td><td>13430</td><td>13440</td><td>0</td><td>12.8</td><td>74.750419</td><td>27.329483</td><td>117.582658</td><td>5.239998</td><td>4.82253</td><td>5.655293</td><td>13060558</td><td>16372240</td><td>-1.699142</td><td>0.103855</td><td>6.960227</td><td>22.058346</td><td>2023-03-13 11:56:26.100 UTC</td><td>2023-03-13 11:56:38.900 UTC</td><td>0.103855</td><td>3.7</td><td>2.409041</td><td>2.257096</td></tr><tr><td>&quot;EBL1&quot;</td><td>0</td><td>13446</td><td>13430</td><td>1</td><td>14.7</td><td>20.151891</td><td>5.592392</td><td>63.148547</td><td>4.605849</td><td>1.983233</td><td>6.905156</td><td>15410183</td><td>17372670</td><td>-1.457796</td><td>1.610265</td><td>1.780016</td><td>12.075953</td><td>2023-03-13 11:56:45.700 UTC</td><td>2023-03-13 11:57:00.400 UTC</td><td>0.565295</td><td>0.0</td><td>2.425365</td><td>2.409041</td></tr><tr><td>&quot;EBL1&quot;</td><td>0</td><td>13535</td><td>13528</td><td>0</td><td>13.2</td><td>25.017902</td><td>17.735633</td><td>34.929658</td><td>1.160927</td><td>0.812848</td><td>1.61968</td><td>4682121</td><td>11040381</td><td>-0.5616</td><td>0.532246</td><td>22.299212</td><td>26.039637</td><td>2023-03-13 11:58:35.500 UTC</td><td>2023-03-13 11:58:48.700 UTC</td><td>null</td><td>0.0</td><td>1.946663</td><td>4.312599</td></tr><tr><td>&quot;EBL1&quot;</td><td>0</td><td>13378</td><td>13376</td><td>0</td><td>68.0</td><td>50.232137</td><td>9.190963</td><td>103.989548</td><td>30.036087</td><td>4.379134</td><td>297.835491</td><td>4540617</td><td>15622463</td><td>-1.835413</td><td>2.066784</td><td>0.055265</td><td>20.880713</td><td>2023-03-13 11:53:45.300 UTC</td><td>2023-03-13 11:54:53.300 UTC</td><td>2.066784</td><td>7.2</td><td>4.241367</td><td>2.859252</td></tr><tr><td>&quot;EBL1&quot;</td><td>0</td><td>13452</td><td>13446</td><td>0</td><td>39.3</td><td>64.100546</td><td>20.51271</td><td>136.166089</td><td>4.996953</td><td>1.608105</td><td>13.026326</td><td>11543895</td><td>20502988</td><td>-0.996552</td><td>1.741066</td><td>7.811153</td><td>18.780396</td><td>2023-03-13 11:56:37.200 UTC</td><td>2023-03-13 11:57:16.500 UTC</td><td>1.741066</td><td>0.0</td><td>2.192642</td><td>2.425365</td></tr><tr><td>&quot;EBL1&quot;</td><td>0</td><td>13396</td><td>13384</td><td>0</td><td>36.5</td><td>27.816594</td><td>18.440071</td><td>49.304898</td><td>1.713497</td><td>1.207302</td><td>3.558036</td><td>4887589</td><td>17841606</td><td>-1.108074</td><td>1.003361</td><td>15.015748</td><td>20.872761</td><td>2023-03-13 11:54:34.700 UTC</td><td>2023-03-13 11:55:11.200 UTC</td><td>null</td><td>0.0</td><td>2.350451</td><td>3.364394</td></tr><tr><td>&quot;EBL1&quot;</td><td>0</td><td>13362</td><td>59313</td><td>0</td><td>13.0</td><td>35.950492</td><td>31.078092</td><td>39.382834</td><td>2.122415</td><td>1.712531</td><td>2.61045</td><td>32000</td><td>2795149</td><td>-0.777531</td><td>0.046005</td><td>19.269402</td><td>23.12624</td><td>2023-03-13 11:53:19.300 UTC</td><td>2023-03-13 11:53:32.300 UTC</td><td>null</td><td>0.0</td><td>18.16333</td><td>0.0</td></tr><tr><td>&quot;EBL1&quot;</td><td>0</td><td>13381</td><td>13371</td><td>0</td><td>18.9</td><td>10.751897</td><td>3.988513</td><td>14.896316</td><td>7.995498</td><td>1.462225</td><td>208.708395</td><td>14595621</td><td>16117196</td><td>-1.341815</td><td>0.059032</td><td>0.059555</td><td>12.189963</td><td>2023-03-13 11:54:03 UTC</td><td>2023-03-13 11:54:21.900 UTC</td><td>0.059032</td><td>0.0</td><td>7.880073</td><td>3.536258</td></tr><tr><td>&hellip;</td><td>&hellip;</td><td>&hellip;</td><td>&hellip;</td><td>&hellip;</td><td>&hellip;</td><td>&hellip;</td><td>&hellip;</td><td>&hellip;</td><td>&hellip;</td><td>&hellip;</td><td>&hellip;</td><td>&hellip;</td><td>&hellip;</td><td>&hellip;</td><td>&hellip;</td><td>&hellip;</td><td>&hellip;</td><td>&hellip;</td><td>&hellip;</td><td>&hellip;</td><td>&hellip;</td><td>&hellip;</td><td>&hellip;</td></tr><tr><td>&quot;EBL1&quot;</td><td>0</td><td>13319</td><td>13302</td><td>0</td><td>15.4</td><td>48.160233</td><td>42.653323</td><td>64.646609</td><td>2.796843</td><td>2.464206</td><td>3.179256</td><td>12755543</td><td>18199432</td><td>-1.018391</td><td>1.018181</td><td>17.002804</td><td>22.795511</td><td>2023-03-13 11:52:25.700 UTC</td><td>2023-03-13 11:52:41.100 UTC</td><td>null</td><td>0.0</td><td>2.035442</td><td>3.981827</td></tr><tr><td>&quot;EBL1&quot;</td><td>0</td><td>13528</td><td>13529</td><td>0</td><td>14.8</td><td>55.828475</td><td>5.005569</td><td>88.760898</td><td>3.343409</td><td>0.768842</td><td>4.028185</td><td>12459539</td><td>16645948</td><td>-1.817169</td><td>0.497761</td><td>10.708114</td><td>24.016045</td><td>2023-03-13 11:58:51 UTC</td><td>2023-03-13 11:59:05.800 UTC</td><td>null</td><td>0.0</td><td>4.312599</td><td>3.753461</td></tr><tr><td>&quot;EBL1&quot;</td><td>0</td><td>13496</td><td>13502</td><td>0</td><td>14.9</td><td>96.742436</td><td>36.525067</td><td>144.336887</td><td>5.947024</td><td>2.856204</td><td>7.994412</td><td>13224357</td><td>17930936</td><td>-0.213585</td><td>1.053219</td><td>14.503016</td><td>18.758154</td><td>2023-03-13 11:57:43.400 UTC</td><td>2023-03-13 11:57:58.300 UTC</td><td>1.053219</td><td>0.0</td><td>6.479407</td><td>3.718735</td></tr><tr><td>&quot;EBL1&quot;</td><td>0</td><td>13510</td><td>13508</td><td>0</td><td>42.6</td><td>75.521021</td><td>54.530283</td><td>110.817261</td><td>3.518314</td><td>2.63274</td><td>4.533798</td><td>2064908</td><td>19923671</td><td>-0.64167</td><td>0.46402</td><td>21.421438</td><td>25.754595</td><td>2023-03-13 11:57:43 UTC</td><td>2023-03-13 11:58:25.600 UTC</td><td>null</td><td>0.0</td><td>2.058831</td><td>5.544505</td></tr><tr><td>&quot;EBL1&quot;</td><td>0</td><td>13246</td><td>13260</td><td>0</td><td>18.1</td><td>46.449328</td><td>33.898248</td><td>63.573219</td><td>2.109831</td><td>1.703682</td><td>2.88157</td><td>12185590</td><td>19627532</td><td>-0.784225</td><td>0.75985</td><td>20.932253</td><td>26.547543</td><td>2023-03-13 11:50:20.600 UTC</td><td>2023-03-13 11:50:38.700 UTC</td><td>null</td><td>0.0</td><td>4.702458</td><td>2.131545</td></tr><tr><td>&quot;EBL1&quot;</td><td>0</td><td>13318</td><td>13313</td><td>0</td><td>40.6</td><td>101.748793</td><td>42.237335</td><td>124.059027</td><td>6.256885</td><td>3.760786</td><td>8.581026</td><td>1936772</td><td>14798057</td><td>-1.924553</td><td>1.624689</td><td>7.592685</td><td>23.209703</td><td>2023-03-13 11:52:01.800 UTC</td><td>2023-03-13 11:52:42.400 UTC</td><td>1.624689</td><td>16.0</td><td>2.722257</td><td>1.778</td></tr><tr><td>&quot;EBL1&quot;</td><td>0</td><td>13376</td><td>13403</td><td>0</td><td>10.7</td><td>38.697981</td><td>8.418284</td><td>97.809323</td><td>2.940095</td><td>1.538126</td><td>5.899623</td><td>13985402</td><td>16280215</td><td>-1.5415</td><td>-0.247555</td><td>7.155519</td><td>16.930061</td><td>2023-03-13 11:54:39.700 UTC</td><td>2023-03-13 11:54:50.400 UTC</td><td>-0.307655</td><td>0.0</td><td>2.859252</td><td>0.0</td></tr><tr><td>&quot;EBL1&quot;</td><td>0</td><td>13561</td><td>13558</td><td>0</td><td>14.7</td><td>27.953867</td><td>15.404116</td><td>33.444792</td><td>2.789244</td><td>2.075955</td><td>5.951413</td><td>16436603</td><td>19916924</td><td>0.294113</td><td>1.996851</td><td>3.444225</td><td>18.238592</td><td>2023-03-13 11:59:34 UTC</td><td>2023-03-13 11:59:48.700 UTC</td><td>1.153884</td><td>0.0</td><td>4.150959</td><td>0.0</td></tr><tr><td>&quot;EBL1&quot;</td><td>0</td><td>13453</td><td>13451</td><td>0</td><td>11.7</td><td>49.139776</td><td>20.743182</td><td>65.643774</td><td>4.055386</td><td>3.382439</td><td>4.520416</td><td>178974</td><td>2380878</td><td>-1.742997</td><td>-0.615025</td><td>6.922344</td><td>20.168022</td><td>2023-03-13 11:56:21.200 UTC</td><td>2023-03-13 11:56:32.900 UTC</td><td>null</td><td>0.0</td><td>4.417765</td><td>3.181359</td></tr><tr><td>&quot;EBL1&quot;</td><td>0</td><td>13523</td><td>13521</td><td>0</td><td>35.4</td><td>70.897143</td><td>47.801326</td><td>104.578774</td><td>3.51108</td><td>2.44204</td><td>5.513325</td><td>2099140</td><td>16146914</td><td>-1.14975</td><td>1.287441</td><td>14.263256</td><td>24.299292</td><td>2023-03-13 11:58:07.500 UTC</td><td>2023-03-13 11:58:42.900 UTC</td><td>1.287441</td><td>0.9</td><td>2.524341</td><td>2.366982</td></tr><tr><td>&quot;EBL1&quot;</td><td>0</td><td>13322</td><td>13321</td><td>0</td><td>11.3</td><td>19.081153</td><td>3.662689</td><td>29.045014</td><td>2.041946</td><td>1.272626</td><td>3.210436</td><td>16509993</td><td>19268760</td><td>0.14781</td><td>2.740316</td><td>4.854467</td><td>20.100491</td><td>2023-03-13 11:52:11.200 UTC</td><td>2023-03-13 11:52:22.500 UTC</td><td>null</td><td>0.0</td><td>4.3167</td><td>0.0</td></tr><tr><td>&quot;EBL1&quot;</td><td>0</td><td>61657</td><td>13378</td><td>0</td><td>11.7</td><td>21.077844</td><td>16.476584</td><td>28.177009</td><td>1.854854</td><td>1.265327</td><td>4.540698</td><td>18052615</td><td>20568465</td><td>-0.526218</td><td>3.371944</td><td>5.130707</td><td>18.192913</td><td>2023-03-13 11:55:03.700 UTC</td><td>2023-03-13 11:55:15.400 UTC</td><td>null</td><td>0.0</td><td>0.0</td><td>4.241367</td></tr></tbody></table></div>"
      ],
      "text/plain": [
       "shape: (72, 24)\n",
       "┌──────┬────────────┬────────────┬────────────┬───┬────────────┬──────────┬────────────┬───────────┐\n",
       "│ lane ┆ lane_index ┆ vehicle_id ┆ vehicle_id ┆ … ┆ free_accel ┆ cruising ┆ associatio ┆ associati │\n",
       "│ ---  ┆ ---        ┆ ---        ┆ _leader    ┆   ┆ ---        ┆ ---      ┆ n_distance ┆ on_distan │\n",
       "│ str  ┆ u16        ┆ u64        ┆ ---        ┆   ┆ f64        ┆ f64      ┆ ---        ┆ ce_leader │\n",
       "│      ┆            ┆            ┆ u64        ┆   ┆            ┆          ┆ f32        ┆ ---       │\n",
       "│      ┆            ┆            ┆            ┆   ┆            ┆          ┆            ┆ f32       │\n",
       "╞══════╪════════════╪════════════╪════════════╪═══╪════════════╪══════════╪════════════╪═══════════╡\n",
       "│ EBL1 ┆ 0          ┆ 13576      ┆ 13572      ┆ … ┆ null       ┆ 0.0      ┆ 2.472676   ┆ 3.24241   │\n",
       "│ EBL1 ┆ 0          ┆ 13531      ┆ 13535      ┆ … ┆ null       ┆ 0.0      ┆ 2.226898   ┆ 1.946663  │\n",
       "│ EBL1 ┆ 0          ┆ 13326      ┆ 13318      ┆ … ┆ 0.803146   ┆ 7.1      ┆ 3.494298   ┆ 2.722257  │\n",
       "│ EBL1 ┆ 0          ┆ 13302      ┆ 13330      ┆ … ┆ 0.010891   ┆ 0.2      ┆ 3.981827   ┆ 2.625889  │\n",
       "│ …    ┆ …          ┆ …          ┆ …          ┆ … ┆ …          ┆ …        ┆ …          ┆ …         │\n",
       "│ EBL1 ┆ 0          ┆ 13453      ┆ 13451      ┆ … ┆ null       ┆ 0.0      ┆ 4.417765   ┆ 3.181359  │\n",
       "│ EBL1 ┆ 0          ┆ 13523      ┆ 13521      ┆ … ┆ 1.287441   ┆ 0.9      ┆ 2.524341   ┆ 2.366982  │\n",
       "│ EBL1 ┆ 0          ┆ 13322      ┆ 13321      ┆ … ┆ null       ┆ 0.0      ┆ 4.3167     ┆ 0.0       │\n",
       "│ EBL1 ┆ 0          ┆ 61657      ┆ 13378      ┆ … ┆ null       ┆ 0.0      ┆ 0.0        ┆ 4.241367  │\n",
       "└──────┴────────────┴────────────┴────────────┴───┴────────────┴──────────┴────────────┴───────────┘"
      ]
     },
     "execution_count": 10,
     "metadata": {},
     "output_type": "execute_result"
    }
   ],
   "source": [
    "tl = (\n",
    "    pl.lit(\"2023-03-13 06:50:00\")\n",
    "    .str.strptime(\n",
    "        pl.Datetime(time_unit=\"ns\", time_zone=\"US/Central\"),\n",
    "    )\n",
    "    .dt.convert_time_zone(\"UTC\")\n",
    ")\n",
    "th = (\n",
    "    pl.lit(\"2023-03-13 07:00:00\")\n",
    "    .str.strptime(\n",
    "        pl.Datetime(time_unit=\"ns\", time_zone=\"US/Central\"),\n",
    "    )\n",
    "    .dt.convert_time_zone(\"UTC\")\n",
    ")\n",
    "\n",
    "\n",
    "lf_df.filter(\n",
    "    (pl.col(\"lane\") == \"EBL1\")\n",
    "    & (pl.col(\"lane_index\") == 0)\n",
    "    & pl.col(\"epoch_time_min\").is_between(tl, th)\n",
    "    & (pl.col(\"time_diff\") > 10)\n",
    "    & pl.col(\"time_headway_min\").is_between(0.5, 5)\n",
    ")"
   ]
  },
  {
   "cell_type": "markdown",
   "metadata": {},
   "source": [
    "### All Calibrateable Trajectories"
   ]
  },
  {
   "cell_type": "code",
   "execution_count": 11,
   "metadata": {},
   "outputs": [
    {
     "data": {
      "text/html": [
       "<div><style>\n",
       ".dataframe > thead > tr,\n",
       ".dataframe > tbody > tr {\n",
       "  text-align: right;\n",
       "  white-space: pre-wrap;\n",
       "}\n",
       "</style>\n",
       "<small>shape: (3_217, 24)</small><table border=\"1\" class=\"dataframe\"><thead><tr><th>lane</th><th>lane_index</th><th>vehicle_id</th><th>vehicle_id_leader</th><th>other_leader</th><th>time_diff</th><th>dist_diff</th><th>dist_diff_min</th><th>dist_diff_max</th><th>time_headway</th><th>time_headway_min</th><th>time_headway_max</th><th>start_index</th><th>end_index</th><th>min_acceleration</th><th>max_acceleration</th><th>min_velocity</th><th>max_velocity</th><th>epoch_time_min</th><th>epoch_time_max</th><th>free_accel</th><th>cruising</th><th>association_distance</th><th>association_distance_leader</th></tr><tr><td>str</td><td>u16</td><td>u64</td><td>u64</td><td>u32</td><td>f64</td><td>f64</td><td>f64</td><td>f64</td><td>f64</td><td>f64</td><td>f64</td><td>u32</td><td>u32</td><td>f64</td><td>f64</td><td>f32</td><td>f32</td><td>datetime[ms, UTC]</td><td>datetime[ms, UTC]</td><td>f64</td><td>f64</td><td>f32</td><td>f32</td></tr></thead><tbody><tr><td>&quot;WBL1&quot;</td><td>0</td><td>1134</td><td>1080</td><td>1</td><td>23.0</td><td>100.235391</td><td>29.81752</td><td>161.419947</td><td>5.103114</td><td>2.250453</td><td>7.481436</td><td>12379694</td><td>20192263</td><td>-0.336761</td><td>1.280899</td><td>15.281343</td><td>22.683762</td><td>2023-03-12 22:10:11.600 UTC</td><td>2023-03-12 22:10:34.600 UTC</td><td>0.427532</td><td>12.3</td><td>4.604354</td><td>3.764969</td></tr><tr><td>&quot;WBL1&quot;</td><td>1</td><td>1380</td><td>1370</td><td>0</td><td>24.9</td><td>102.75825</td><td>93.205347</td><td>114.349957</td><td>4.583499</td><td>3.918141</td><td>6.052227</td><td>7652660</td><td>18864488</td><td>-1.46122</td><td>1.408024</td><td>19.148617</td><td>25.709221</td><td>2023-03-12 22:17:45.600 UTC</td><td>2023-03-12 22:18:10.500 UTC</td><td>1.408024</td><td>5.1</td><td>2.220452</td><td>3.229852</td></tr><tr><td>&quot;WBL1&quot;</td><td>0</td><td>1731</td><td>1724</td><td>0</td><td>30.0</td><td>76.317456</td><td>13.858784</td><td>105.410816</td><td>5.326592</td><td>4.543598</td><td>6.584079</td><td>776338</td><td>8809815</td><td>-1.68417</td><td>0.277214</td><td>2.986057</td><td>21.706232</td><td>2023-03-12 22:26:48.400 UTC</td><td>2023-03-12 22:27:18.400 UTC</td><td>0.277214</td><td>2.3</td><td>3.029629</td><td>2.162552</td></tr><tr><td>&quot;EBL1&quot;</td><td>1</td><td>2421</td><td>2433</td><td>0</td><td>7.5</td><td>98.22375</td><td>68.925808</td><td>139.789953</td><td>5.305919</td><td>4.559159</td><td>7.337386</td><td>11170713</td><td>13373810</td><td>-1.516418</td><td>0.47802</td><td>15.7387</td><td>22.513</td><td>2023-03-12 22:45:34.200 UTC</td><td>2023-03-12 22:45:41.700 UTC</td><td>0.47802</td><td>2.2</td><td>2.147361</td><td>3.695714</td></tr><tr><td>&quot;WBL1&quot;</td><td>0</td><td>3302</td><td>3257</td><td>0</td><td>14.4</td><td>129.377491</td><td>108.311167</td><td>144.875037</td><td>5.86583</td><td>4.372897</td><td>13.254208</td><td>11391831</td><td>17660288</td><td>-0.716629</td><td>4.029102</td><td>10.153414</td><td>28.410604</td><td>2023-03-12 23:10:27.800 UTC</td><td>2023-03-12 23:10:42.200 UTC</td><td>4.029102</td><td>6.8</td><td>2.315214</td><td>3.813095</td></tr><tr><td>&quot;EBL1&quot;</td><td>1</td><td>3900</td><td>3891</td><td>0</td><td>29.6</td><td>78.556324</td><td>7.055241</td><td>282.531508</td><td>7.763328</td><td>3.427567</td><td>16.841736</td><td>4822131</td><td>10977993</td><td>-1.700783</td><td>1.798172</td><td>0.812778</td><td>23.923952</td><td>2023-03-12 23:29:07.700 UTC</td><td>2023-03-12 23:29:37.300 UTC</td><td>1.416731</td><td>6.0</td><td>2.958744</td><td>3.16544</td></tr><tr><td>&quot;WBL1&quot;</td><td>0</td><td>6241</td><td>6236</td><td>1</td><td>11.7</td><td>105.693242</td><td>44.238776</td><td>149.305911</td><td>5.76559</td><td>3.963256</td><td>8.027363</td><td>4815619</td><td>8237409</td><td>-1.996469</td><td>0.885067</td><td>12.423812</td><td>21.404545</td><td>2023-03-13 00:52:01.300 UTC</td><td>2023-03-13 00:52:13 UTC</td><td>0.885067</td><td>4.0</td><td>2.654603</td><td>2.213043</td></tr><tr><td>&quot;EBL1&quot;</td><td>1</td><td>6312</td><td>6326</td><td>0</td><td>17.1</td><td>81.125043</td><td>31.315604</td><td>161.426472</td><td>4.082997</td><td>2.140515</td><td>6.972827</td><td>11930138</td><td>17980301</td><td>-0.927067</td><td>1.574287</td><td>16.425121</td><td>24.251059</td><td>2023-03-13 00:55:07.100 UTC</td><td>2023-03-13 00:55:24.200 UTC</td><td>1.574287</td><td>4.6</td><td>1.884732</td><td>2.520603</td></tr><tr><td>&quot;WBL1&quot;</td><td>0</td><td>8704</td><td>8701</td><td>0</td><td>43.2</td><td>114.501748</td><td>48.077526</td><td>191.130835</td><td>4.852655</td><td>2.05213</td><td>8.480266</td><td>282037</td><td>19854033</td><td>-1.986713</td><td>2.162971</td><td>21.790676</td><td>30.516462</td><td>2023-03-13 03:47:14.200 UTC</td><td>2023-03-13 03:47:57.400 UTC</td><td>0.665646</td><td>22.9</td><td>2.314481</td><td>3.057546</td></tr><tr><td>&quot;EBL1&quot;</td><td>0</td><td>10073</td><td>10075</td><td>0</td><td>38.5</td><td>223.052189</td><td>15.323687</td><td>353.057115</td><td>12.306968</td><td>2.005872</td><td>33.387642</td><td>3932907</td><td>16754602</td><td>-1.593018</td><td>1.775331</td><td>10.307685</td><td>22.797905</td><td>2023-03-13 09:37:22.500 UTC</td><td>2023-03-13 09:38:01 UTC</td><td>1.775331</td><td>21.4</td><td>2.521836</td><td>2.137369</td></tr><tr><td>&quot;EBL1&quot;</td><td>1</td><td>10496</td><td>10497</td><td>0</td><td>31.7</td><td>310.291101</td><td>68.953612</td><td>419.319978</td><td>15.451103</td><td>3.638384</td><td>43.951536</td><td>3856447</td><td>15950840</td><td>-0.721455</td><td>2.68137</td><td>9.380911</td><td>24.909172</td><td>2023-03-13 10:05:58.700 UTC</td><td>2023-03-13 10:06:30.400 UTC</td><td>2.68137</td><td>23.2</td><td>2.333438</td><td>2.355552</td></tr><tr><td>&quot;WBL1&quot;</td><td>1</td><td>11831</td><td>11828</td><td>0</td><td>36.9</td><td>102.069835</td><td>86.502754</td><td>129.764743</td><td>4.640647</td><td>3.776792</td><td>6.11203</td><td>209178</td><td>14923570</td><td>-1.604099</td><td>1.493893</td><td>18.698053</td><td>24.09313</td><td>2023-03-13 11:07:30 UTC</td><td>2023-03-13 11:08:06.900 UTC</td><td>0.829716</td><td>7.9</td><td>5.264047</td><td>2.549067</td></tr><tr><td>&hellip;</td><td>&hellip;</td><td>&hellip;</td><td>&hellip;</td><td>&hellip;</td><td>&hellip;</td><td>&hellip;</td><td>&hellip;</td><td>&hellip;</td><td>&hellip;</td><td>&hellip;</td><td>&hellip;</td><td>&hellip;</td><td>&hellip;</td><td>&hellip;</td><td>&hellip;</td><td>&hellip;</td><td>&hellip;</td><td>&hellip;</td><td>&hellip;</td><td>&hellip;</td><td>&hellip;</td><td>&hellip;</td><td>&hellip;</td></tr><tr><td>&quot;EBL1&quot;</td><td>1</td><td>34834</td><td>34809</td><td>0</td><td>17.9</td><td>113.941372</td><td>97.563398</td><td>138.701582</td><td>5.353799</td><td>4.338255</td><td>7.796885</td><td>11642498</td><td>18624310</td><td>-1.776447</td><td>1.175652</td><td>17.871206</td><td>25.065495</td><td>2023-03-13 19:16:42.800 UTC</td><td>2023-03-13 19:17:00.700 UTC</td><td>1.169891</td><td>9.6</td><td>9.371424</td><td>2.339952</td></tr><tr><td>&quot;EBL1&quot;</td><td>0</td><td>37135</td><td>37128</td><td>0</td><td>25.6</td><td>167.561254</td><td>28.465785</td><td>294.786077</td><td>7.358835</td><td>1.444608</td><td>14.403891</td><td>5806623</td><td>16659967</td><td>-1.596642</td><td>1.235771</td><td>20.714146</td><td>27.531408</td><td>2023-03-13 19:55:46.400 UTC</td><td>2023-03-13 19:56:12 UTC</td><td>1.235771</td><td>18.1</td><td>0.0</td><td>3.603296</td></tr><tr><td>&quot;EBL1&quot;</td><td>0</td><td>37299</td><td>37315</td><td>0</td><td>27.1</td><td>47.345831</td><td>17.434048</td><td>144.962268</td><td>2.635989</td><td>1.223529</td><td>7.495313</td><td>10867059</td><td>19777165</td><td>-1.048489</td><td>0.758915</td><td>16.66987</td><td>23.058582</td><td>2023-03-13 19:58:47.500 UTC</td><td>2023-03-13 19:59:14.600 UTC</td><td>0.758915</td><td>2.4</td><td>1.952232</td><td>7.044244</td></tr><tr><td>&quot;WBL1&quot;</td><td>0</td><td>37705</td><td>37723</td><td>0</td><td>40.0</td><td>82.356228</td><td>16.673451</td><td>122.38729</td><td>4.86696</td><td>0.970917</td><td>6.941497</td><td>5976451</td><td>19101382</td><td>-1.112328</td><td>1.542702</td><td>13.185873</td><td>22.424032</td><td>2023-03-13 20:06:36 UTC</td><td>2023-03-13 20:07:16 UTC</td><td>0.673866</td><td>4.1</td><td>2.100266</td><td>3.993643</td></tr><tr><td>&quot;EBL1&quot;</td><td>1</td><td>38847</td><td>38833</td><td>1</td><td>22.0</td><td>180.023482</td><td>40.366719</td><td>273.669456</td><td>8.521563</td><td>4.001652</td><td>11.730694</td><td>559203</td><td>8539702</td><td>-1.989994</td><td>0.495701</td><td>11.124186</td><td>23.692999</td><td>2023-03-13 20:25:26.600 UTC</td><td>2023-03-13 20:25:48.600 UTC</td><td>0.495701</td><td>16.5</td><td>2.289784</td><td>4.780138</td></tr><tr><td>&quot;EBL1&quot;</td><td>1</td><td>39829</td><td>39844</td><td>0</td><td>10.0</td><td>130.236764</td><td>110.635769</td><td>145.931118</td><td>5.6867</td><td>4.858135</td><td>6.393929</td><td>12988030</td><td>17240983</td><td>-0.360069</td><td>0.443497</td><td>22.880186</td><td>24.215307</td><td>2023-03-13 20:42:29.200 UTC</td><td>2023-03-13 20:42:39.200 UTC</td><td>0.443497</td><td>9.6</td><td>2.531428</td><td>4.036089</td></tr><tr><td>&quot;WBL1&quot;</td><td>1</td><td>41531</td><td>41511</td><td>1</td><td>23.2</td><td>89.422213</td><td>16.996368</td><td>130.145362</td><td>5.372453</td><td>3.069245</td><td>6.762355</td><td>7823603</td><td>15068146</td><td>-2.029095</td><td>1.07008</td><td>6.695792</td><td>22.671488</td><td>2023-03-13 21:12:29.400 UTC</td><td>2023-03-13 21:12:52.600 UTC</td><td>1.07008</td><td>4.8</td><td>2.628651</td><td>5.976413</td></tr><tr><td>&quot;EBL1&quot;</td><td>1</td><td>43635</td><td>43626</td><td>0</td><td>26.1</td><td>154.814782</td><td>76.710903</td><td>181.866666</td><td>7.284856</td><td>4.158169</td><td>10.829723</td><td>4892582</td><td>15134754</td><td>-1.075649</td><td>1.518345</td><td>15.3556</td><td>25.365517</td><td>2023-03-13 21:48:44 UTC</td><td>2023-03-13 21:49:10.100 UTC</td><td>1.518345</td><td>17.9</td><td>7.228206</td><td>3.314685</td></tr><tr><td>&quot;WBL1&quot;</td><td>0</td><td>44115</td><td>44135</td><td>0</td><td>17.4</td><td>119.53752</td><td>111.789082</td><td>124.049332</td><td>5.357323</td><td>4.505173</td><td>6.24679</td><td>9915983</td><td>17645471</td><td>-0.3508</td><td>0.598545</td><td>19.591482</td><td>26.050156</td><td>2023-03-13 21:56:45.100 UTC</td><td>2023-03-13 21:57:02.500 UTC</td><td>0.598545</td><td>11.6</td><td>7.795315</td><td>5.058268</td></tr><tr><td>&quot;WBL1&quot;</td><td>0</td><td>48047</td><td>48068</td><td>0</td><td>31.4</td><td>61.133386</td><td>17.32095</td><td>173.282491</td><td>2.884557</td><td>1.127525</td><td>7.807671</td><td>7375779</td><td>20242415</td><td>-0.619946</td><td>0.512505</td><td>19.665892</td><td>24.359283</td><td>2023-03-13 23:08:35.200 UTC</td><td>2023-03-13 23:09:06.600 UTC</td><td>0.323868</td><td>5.1</td><td>2.258941</td><td>2.079385</td></tr><tr><td>&quot;EBL1&quot;</td><td>0</td><td>48752</td><td>48766</td><td>0</td><td>9.5</td><td>126.714716</td><td>106.034021</td><td>162.734652</td><td>6.235859</td><td>4.829972</td><td>8.161508</td><td>7540353</td><td>11926579</td><td>-0.417805</td><td>0.858021</td><td>19.81547</td><td>22.522997</td><td>2023-03-13 23:24:04.400 UTC</td><td>2023-03-13 23:24:13.900 UTC</td><td>0.826759</td><td>7.8</td><td>2.873304</td><td>2.103017</td></tr><tr><td>&quot;WBL1&quot;</td><td>0</td><td>49264</td><td>49249</td><td>0</td><td>30.3</td><td>113.828061</td><td>45.695965</td><td>128.18989</td><td>5.385563</td><td>4.529607</td><td>6.405863</td><td>8125018</td><td>20465089</td><td>-2.147789</td><td>2.06192</td><td>7.983381</td><td>28.08132</td><td>2023-03-13 23:35:54.600 UTC</td><td>2023-03-13 23:36:24.900 UTC</td><td>2.06192</td><td>13.5</td><td>5.359452</td><td>2.44605</td></tr></tbody></table></div>"
      ],
      "text/plain": [
       "shape: (3_217, 24)\n",
       "┌──────┬────────────┬────────────┬────────────┬───┬────────────┬──────────┬────────────┬───────────┐\n",
       "│ lane ┆ lane_index ┆ vehicle_id ┆ vehicle_id ┆ … ┆ free_accel ┆ cruising ┆ associatio ┆ associati │\n",
       "│ ---  ┆ ---        ┆ ---        ┆ _leader    ┆   ┆ ---        ┆ ---      ┆ n_distance ┆ on_distan │\n",
       "│ str  ┆ u16        ┆ u64        ┆ ---        ┆   ┆ f64        ┆ f64      ┆ ---        ┆ ce_leader │\n",
       "│      ┆            ┆            ┆ u64        ┆   ┆            ┆          ┆ f32        ┆ ---       │\n",
       "│      ┆            ┆            ┆            ┆   ┆            ┆          ┆            ┆ f32       │\n",
       "╞══════╪════════════╪════════════╪════════════╪═══╪════════════╪══════════╪════════════╪═══════════╡\n",
       "│ WBL1 ┆ 0          ┆ 1134       ┆ 1080       ┆ … ┆ 0.427532   ┆ 12.3     ┆ 4.604354   ┆ 3.764969  │\n",
       "│ WBL1 ┆ 1          ┆ 1380       ┆ 1370       ┆ … ┆ 1.408024   ┆ 5.1      ┆ 2.220452   ┆ 3.229852  │\n",
       "│ WBL1 ┆ 0          ┆ 1731       ┆ 1724       ┆ … ┆ 0.277214   ┆ 2.3      ┆ 3.029629   ┆ 2.162552  │\n",
       "│ EBL1 ┆ 1          ┆ 2421       ┆ 2433       ┆ … ┆ 0.47802    ┆ 2.2      ┆ 2.147361   ┆ 3.695714  │\n",
       "│ …    ┆ …          ┆ …          ┆ …          ┆ … ┆ …          ┆ …        ┆ …          ┆ …         │\n",
       "│ WBL1 ┆ 0          ┆ 44115      ┆ 44135      ┆ … ┆ 0.598545   ┆ 11.6     ┆ 7.795315   ┆ 5.058268  │\n",
       "│ WBL1 ┆ 0          ┆ 48047      ┆ 48068      ┆ … ┆ 0.323868   ┆ 5.1      ┆ 2.258941   ┆ 2.079385  │\n",
       "│ EBL1 ┆ 0          ┆ 48752      ┆ 48766      ┆ … ┆ 0.826759   ┆ 7.8      ┆ 2.873304   ┆ 2.103017  │\n",
       "│ WBL1 ┆ 0          ┆ 49264      ┆ 49249      ┆ … ┆ 2.06192    ┆ 13.5     ┆ 5.359452   ┆ 2.44605   │\n",
       "└──────┴────────────┴────────────┴────────────┴───┴────────────┴──────────┴────────────┴───────────┘"
      ]
     },
     "execution_count": 11,
     "metadata": {},
     "output_type": "execute_result"
    }
   ],
   "source": [
    "from scipy.stats import chi2\n",
    "\n",
    "lf_df.filter(\n",
    "    # (pl.col(\"time_diff\") > 10)\n",
    "    # & (pl.col(\"time_headway\") < 15)\n",
    "    (\n",
    "        pl.col(\"time_headway_min\").is_between(0.5, 5)\n",
    "    )\n",
    "    & (pl.col(\"association_distance\") < chi2.ppf(0.999, 4))\n",
    "    & (pl.col(\"association_distance_leader\") < chi2.ppf(0.999, 4))\n",
    "    & (pl.col(\"min_acceleration\") < -0.2)\n",
    "    & (pl.col(\"max_acceleration\") > 0.2)\n",
    "    & (pl.col(\"free_accel\") > 0.2)\n",
    "    & (pl.col('cruising') > 2)\n",
    "    # cruising\n",
    "    # & (pl.col(\"min_velocity\") < 5)\n",
    "    # & (pl.col(\"max_velocity\") > 15)\n",
    ")"
   ]
  }
 ],
 "metadata": {
  "kernelspec": {
   "display_name": "venv",
   "language": "python",
   "name": "python3"
  },
  "language_info": {
   "codemirror_mode": {
    "name": "ipython",
    "version": 3
   },
   "file_extension": ".py",
   "mimetype": "text/x-python",
   "name": "python",
   "nbconvert_exporter": "python",
   "pygments_lexer": "ipython3",
   "version": "3.11.5"
  }
 },
 "nbformat": 4,
 "nbformat_minor": 2
}
