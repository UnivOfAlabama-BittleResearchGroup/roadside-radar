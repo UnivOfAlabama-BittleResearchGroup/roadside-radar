{
 "cells": [
  {
   "cell_type": "code",
   "execution_count": 1,
   "metadata": {},
   "outputs": [
    {
     "name": "stdout",
     "output_type": "stream",
     "text": [
      "GPU available: True\n"
     ]
    }
   ],
   "source": [
    "# ruff: noqa: E402\n",
    "\n",
    "%load_ext autoreload\n",
    "%autoreload 2\n",
    "\n",
    "# find the root of the project\n",
    "import os\n",
    "from pathlib import Path\n",
    "import sys\n",
    "import polars as pl\n",
    "import dotenv\n",
    "\n",
    "\n",
    "ROOT = Path(os.getcwd()).parent\n",
    "while not ROOT.joinpath(\".git\").exists():\n",
    "    ROOT = ROOT.parent\n",
    "\n",
    "# add the root to the python path\n",
    "sys.path.append(str(ROOT))\n",
    "\n",
    "\n",
    "dotenv.load_dotenv(ROOT.joinpath(\".env\"))\n",
    "\n",
    "from src.utils import check_gpu_available\n",
    "\n",
    "GPU = check_gpu_available()\n",
    "print(f\"GPU available: {GPU}\")"
   ]
  },
  {
   "cell_type": "markdown",
   "metadata": {},
   "source": [
    "## Read in the Trajectories\n"
   ]
  },
  {
   "cell_type": "code",
   "execution_count": 2,
   "metadata": {},
   "outputs": [],
   "source": [
    "processed_traj_df = pl.scan_parquet(\n",
    "    # Path(os.environ.get(\"RAW_DATA_DIR\")).joinpath(\"*.parquet\")\n",
    "    ROOT\n",
    "    / \"data/merged_march.parquet\"\n",
    ").select(\n",
    "    [\n",
    "        \"epoch_time\",\n",
    "        \"lane\",\n",
    "        \"lane_index\",\n",
    "        \"s_velocity_smooth\",\n",
    "        \"vehicle_id\",\n",
    "        \"front_s_smooth\",\n",
    "        \"association_distance\",\n",
    "        \"length_s\",\n",
    "    ]\n",
    ")"
   ]
  },
  {
   "cell_type": "code",
   "execution_count": 3,
   "metadata": {},
   "outputs": [
    {
     "data": {
      "text/html": [
       "<div><style>\n",
       ".dataframe > thead > tr,\n",
       ".dataframe > tbody > tr {\n",
       "  text-align: right;\n",
       "  white-space: pre-wrap;\n",
       "}\n",
       "</style>\n",
       "<small>shape: (1, 1)</small><table border=\"1\" class=\"dataframe\"><thead><tr><th>distance</th></tr><tr><td>f64</td></tr></thead><tbody><tr><td>626.112695</td></tr></tbody></table></div>"
      ],
      "text/plain": [
       "shape: (1, 1)\n",
       "┌────────────┐\n",
       "│ distance   │\n",
       "│ ---        │\n",
       "│ f64        │\n",
       "╞════════════╡\n",
       "│ 626.112695 │\n",
       "└────────────┘"
      ]
     },
     "execution_count": 3,
     "metadata": {},
     "output_type": "execute_result"
    }
   ],
   "source": [
    "res = (\n",
    "    pl.scan_parquet(ROOT / \"data/merged_march.parquet\")\n",
    "    .filter((pl.col(\"object_id\").list.len() > 1).any().over(\"vehicle_id\"))\n",
    "    .sort(pl.col(\"epoch_time\"))\n",
    "    .group_by(\"vehicle_id\")\n",
    "    .agg(\n",
    "        (\n",
    "            pl.col(\"centroid_x_smooth\").diff() ** 2\n",
    "            + pl.col(\"centroid_y_smooth\").diff() ** 2\n",
    "        )\n",
    "        .sqrt()\n",
    "        .sum()\n",
    "        .alias(\"distance\")\n",
    "    )\n",
    "    .select(pl.col(\"distance\").mean())\n",
    "    .collect(streaming=True, background=True)\n",
    ")\n",
    "\n",
    "res.fetch_blocking()"
   ]
  },
  {
   "cell_type": "code",
   "execution_count": 4,
   "metadata": {},
   "outputs": [
    {
     "data": {
      "text/html": [
       "<div><style>\n",
       ".dataframe > thead > tr,\n",
       ".dataframe > tbody > tr {\n",
       "  text-align: right;\n",
       "  white-space: pre-wrap;\n",
       "}\n",
       "</style>\n",
       "<small>shape: (1, 1)</small><table border=\"1\" class=\"dataframe\"><thead><tr><th>distance</th></tr><tr><td>f64</td></tr></thead><tbody><tr><td>156.949462</td></tr></tbody></table></div>"
      ],
      "text/plain": [
       "shape: (1, 1)\n",
       "┌────────────┐\n",
       "│ distance   │\n",
       "│ ---        │\n",
       "│ f64        │\n",
       "╞════════════╡\n",
       "│ 156.949462 │\n",
       "└────────────┘"
      ]
     },
     "execution_count": 4,
     "metadata": {},
     "output_type": "execute_result"
    }
   ],
   "source": [
    "res = (\n",
    "    pl.scan_parquet(ROOT / \"data/merged_march.parquet\")\n",
    "    .filter((pl.col(\"object_id\").list.len() == 1).all().over(\"vehicle_id\"))\n",
    "    .sort(pl.col(\"epoch_time\"))\n",
    "    .group_by(\"vehicle_id\")\n",
    "    .agg(\n",
    "        (\n",
    "            pl.col(\"centroid_x_smooth\").diff() ** 2\n",
    "            + pl.col(\"centroid_y_smooth\").diff() ** 2\n",
    "        )\n",
    "        .sqrt()\n",
    "        .sum()\n",
    "        .alias(\"distance\")\n",
    "    )\n",
    "    .select(pl.col(\"distance\").mean())\n",
    "    .collect(streaming=True, background=True)\n",
    ")\n",
    "\n",
    "res.fetch_blocking() "
   ]
  },
  {
   "cell_type": "code",
   "execution_count": 5,
   "metadata": {},
   "outputs": [
    {
     "data": {
      "text/html": [
       "<div><style>\n",
       ".dataframe > thead > tr,\n",
       ".dataframe > tbody > tr {\n",
       "  text-align: right;\n",
       "  white-space: pre-wrap;\n",
       "}\n",
       "</style>\n",
       "<small>shape: (2, 1)</small><table border=\"1\" class=\"dataframe\"><thead><tr><th>column_0</th></tr><tr><td>datetime[ms, US/Central]</td></tr></thead><tbody><tr><td>2023-03-12 16:41:27.300 CDT</td></tr><tr><td>2023-03-13 19:26:04.200 CDT</td></tr></tbody></table></div>"
      ],
      "text/plain": [
       "shape: (2, 1)\n",
       "┌─────────────────────────────┐\n",
       "│ column_0                    │\n",
       "│ ---                         │\n",
       "│ datetime[ms, US/Central]    │\n",
       "╞═════════════════════════════╡\n",
       "│ 2023-03-12 16:41:27.300 CDT │\n",
       "│ 2023-03-13 19:26:04.200 CDT │\n",
       "└─────────────────────────────┘"
      ]
     },
     "execution_count": 5,
     "metadata": {},
     "output_type": "execute_result"
    }
   ],
   "source": [
    "processed_traj_df.select(\n",
    "    pl.col(\"epoch_time\")\n",
    "    .min()\n",
    "    .dt.convert_time_zone(time_zone=\"US/Central\")\n",
    "    .alias(\"min_epoch_time\"),\n",
    "    pl.col(\"epoch_time\")\n",
    "    .max()\n",
    "    .dt.convert_time_zone(time_zone=\"US/Central\")\n",
    "    .alias(\"max_epoch_time\"),\n",
    ").collect().transpose()"
   ]
  },
  {
   "cell_type": "code",
   "execution_count": 6,
   "metadata": {},
   "outputs": [
    {
     "data": {
      "text/html": [
       "<div><style>\n",
       ".dataframe > thead > tr,\n",
       ".dataframe > tbody > tr {\n",
       "  text-align: right;\n",
       "  white-space: pre-wrap;\n",
       "}\n",
       "</style>\n",
       "<small>shape: (1, 1)</small><table border=\"1\" class=\"dataframe\"><thead><tr><th>vehicle_id</th></tr><tr><td>u32</td></tr></thead><tbody><tr><td>82725</td></tr></tbody></table></div>"
      ],
      "text/plain": [
       "shape: (1, 1)\n",
       "┌────────────┐\n",
       "│ vehicle_id │\n",
       "│ ---        │\n",
       "│ u32        │\n",
       "╞════════════╡\n",
       "│ 82725      │\n",
       "└────────────┘"
      ]
     },
     "execution_count": 6,
     "metadata": {},
     "output_type": "execute_result"
    }
   ],
   "source": [
    "processed_traj_df.select(pl.col(\"vehicle_id\").n_unique()).collect()"
   ]
  },
  {
   "cell_type": "code",
   "execution_count": 7,
   "metadata": {},
   "outputs": [
    {
     "data": {
      "text/plain": [
       "['epoch_time',\n",
       " 'lane',\n",
       " 'lane_index',\n",
       " 's_velocity_smooth',\n",
       " 'vehicle_id',\n",
       " 'front_s_smooth',\n",
       " 'association_distance',\n",
       " 'length_s']"
      ]
     },
     "execution_count": 7,
     "metadata": {},
     "output_type": "execute_result"
    }
   ],
   "source": [
    "processed_traj_df.columns"
   ]
  },
  {
   "cell_type": "code",
   "execution_count": 8,
   "metadata": {},
   "outputs": [
    {
     "data": {
      "text/html": [
       "<div><style>\n",
       ".dataframe > thead > tr,\n",
       ".dataframe > tbody > tr {\n",
       "  text-align: right;\n",
       "  white-space: pre-wrap;\n",
       "}\n",
       "</style>\n",
       "<small>shape: (1, 1)</small><table border=\"1\" class=\"dataframe\"><thead><tr><th>object_id</th></tr><tr><td>u32</td></tr></thead><tbody><tr><td>211062</td></tr></tbody></table></div>"
      ],
      "text/plain": [
       "shape: (1, 1)\n",
       "┌───────────┐\n",
       "│ object_id │\n",
       "│ ---       │\n",
       "│ u32       │\n",
       "╞═══════════╡\n",
       "│ 211062    │\n",
       "└───────────┘"
      ]
     },
     "execution_count": 8,
     "metadata": {},
     "output_type": "execute_result"
    }
   ],
   "source": [
    "pl.scan_parquet(ROOT / \"data/merged_march.parquet\").select(\n",
    "    pl.col('object_id')\n",
    ").explode('object_id').approx_n_unique().collect()"
   ]
  },
  {
   "cell_type": "code",
   "execution_count": 9,
   "metadata": {},
   "outputs": [
    {
     "data": {
      "text/plain": [
       "2.551368993653672"
      ]
     },
     "execution_count": 9,
     "metadata": {},
     "output_type": "execute_result"
    }
   ],
   "source": [
    "211062 / 82725"
   ]
  },
  {
   "cell_type": "code",
   "execution_count": 10,
   "metadata": {},
   "outputs": [],
   "source": [
    "# pl.scan_parquet(\n",
    "#     # Path(os.environ.get(\"RAW_DATA_DIR\")).joinpath(\"*.parquet\")\n",
    "#     ROOT / \"data/merged_march.parquet\"\n",
    "# ).columns"
   ]
  },
  {
   "cell_type": "code",
   "execution_count": 18,
   "metadata": {},
   "outputs": [],
   "source": [
    "lf_df = (\n",
    "    processed_traj_df.lazy()\n",
    "    .select(\n",
    "        [\n",
    "            \"epoch_time\",\n",
    "            \"lane\",\n",
    "            \"lane_index\",\n",
    "            \"front_s_smooth\",\n",
    "            \"vehicle_id\",\n",
    "            \"s_velocity_smooth\",\n",
    "            \"length_s\",\n",
    "        ]\n",
    "    )\n",
    "    .with_row_count(name=\"row_count\")\n",
    "    .sort([\"epoch_time\", \"front_s_smooth\"])\n",
    "    .with_columns(\n",
    "        pl.col([\"vehicle_id\", \"front_s_smooth\", \"length_s\"])\n",
    "        .shift(-1)\n",
    "        .over([\"epoch_time\", \"lane\", \"lane_index\"])\n",
    "        .name.map(lambda x: f\"{x}_leader\")\n",
    "    )\n",
    "    .filter(pl.col(\"vehicle_id_leader\").is_not_null())\n",
    "    .with_columns(\n",
    "        ((pl.col(\"epoch_time\").diff().dt.total_milliseconds() / 1000) > 0.1)\n",
    "        .cum_sum()\n",
    "        .over([\"vehicle_id\", \"vehicle_id_leader\", \"lane\", \"lane_index\"])\n",
    "        .alias(\"other_leader\"),\n",
    "        pl.col(\"s_velocity_smooth\")\n",
    "        .rolling_mean(\n",
    "            window_size=int(5 / 0.1),\n",
    "            center=True,\n",
    "            min_periods=1,\n",
    "        )\n",
    "        .over(\n",
    "            [\n",
    "                \"vehicle_id\",\n",
    "                \"lane\",\n",
    "            ]\n",
    "        )\n",
    "        .alias(\"s_velocity_smooth_rolling\"),\n",
    "        (\n",
    "            pl.col(\"front_s_smooth_leader\")\n",
    "            - pl.col(\"length_s_leader\")\n",
    "            - pl.col(\"front_s_smooth\")\n",
    "        ).alias(\"dist_diff\"),\n",
    "        (\n",
    "            (pl.col(\"front_s_smooth_leader\") - pl.col(\"front_s_smooth\"))\n",
    "            / pl.col(\"s_velocity_smooth\")\n",
    "        ).alias(\"time_headway\"),\n",
    "        (pl.col(\"epoch_time\").diff().dt.total_milliseconds() / 1000)\n",
    "        .over([\"vehicle_id\", \"lane\"])\n",
    "        .alias(\"time_diff\"),\n",
    "    )\n",
    "    .with_columns(\n",
    "        (pl.col(\"s_velocity_smooth_rolling\").diff() / pl.col(\"time_diff\"))\n",
    "        .over([\"vehicle_id\", \"lane\"])\n",
    "        .alias(\"acceleration\")\n",
    "    )\n",
    "    .group_by([\"lane\", \"lane_index\", \"vehicle_id\", \"vehicle_id_leader\", \"other_leader\"])\n",
    "    .agg(\n",
    "        (pl.col(\"epoch_time\").diff().dt.total_milliseconds() / 1000)\n",
    "        .sum()\n",
    "        .alias(\"time_diff\"),\n",
    "        pl.col(\"dist_diff\").mean().alias(\"dist_diff\"),\n",
    "        pl.col(\"dist_diff\").min().alias(\"dist_diff_min\"),\n",
    "        pl.col(\"dist_diff\").max().alias(\"dist_diff_max\"),\n",
    "        pl.col(\"time_headway\").mean().alias(\"time_headway\"),\n",
    "        pl.col(\"time_headway\").min().alias(\"time_headway_min\"),\n",
    "        pl.col(\"time_headway\").max().alias(\"time_headway_max\"),\n",
    "        pl.col(\"row_count\").min().alias(\"start_index\"),\n",
    "        pl.col(\"row_count\").max().alias(\"end_index\"),\n",
    "        pl.col(\"acceleration\").min().alias(\"min_acceleration\"),\n",
    "        pl.col(\"acceleration\").max().alias(\"max_acceleration\"),\n",
    "        pl.col(\"s_velocity_smooth\").min().alias(\"min_velocity\"),\n",
    "        pl.col(\"s_velocity_smooth\").max().alias(\"max_velocity\"),\n",
    "        pl.col('epoch_time').min().alias('epoch_time_min'),\n",
    "        pl.col('epoch_time').max().alias('epoch_time_max'),\n",
    "    )\n",
    "    .filter(\n",
    "        pl.col(\"vehicle_id_leader\").is_not_null()\n",
    "        & (pl.col(\"dist_diff_min\") > 5)\n",
    "        & pl.col(\"other_leader\").is_not_null()\n",
    "        & (pl.col('time_headway_min') > 0.3)\n",
    "    )\n",
    "    .collect(streaming=True)\n",
    ")"
   ]
  },
  {
   "cell_type": "code",
   "execution_count": 12,
   "metadata": {},
   "outputs": [
    {
     "data": {
      "text/plain": [
       "(203886, 18)"
      ]
     },
     "execution_count": 12,
     "metadata": {},
     "output_type": "execute_result"
    }
   ],
   "source": [
    "lf_df.shape"
   ]
  },
  {
   "cell_type": "markdown",
   "metadata": {},
   "source": [
    "### Create a DataFrame of Association Likelihood Scores"
   ]
  },
  {
   "cell_type": "code",
   "execution_count": 13,
   "metadata": {},
   "outputs": [
    {
     "data": {
      "text/html": [
       "<div><style>\n",
       ".dataframe > thead > tr,\n",
       ".dataframe > tbody > tr {\n",
       "  text-align: right;\n",
       "  white-space: pre-wrap;\n",
       "}\n",
       "</style>\n",
       "<small>shape: (5, 2)</small><table border=\"1\" class=\"dataframe\"><thead><tr><th>vehicle_id</th><th>association_distance</th></tr><tr><td>u64</td><td>f32</td></tr></thead><tbody><tr><td>34742</td><td>2.966619</td></tr><tr><td>67376</td><td>0.0</td></tr><tr><td>3016</td><td>0.0</td></tr><tr><td>62788</td><td>0.0</td></tr><tr><td>52433</td><td>6.847196</td></tr></tbody></table></div>"
      ],
      "text/plain": [
       "shape: (5, 2)\n",
       "┌────────────┬──────────────────────┐\n",
       "│ vehicle_id ┆ association_distance │\n",
       "│ ---        ┆ ---                  │\n",
       "│ u64        ┆ f32                  │\n",
       "╞════════════╪══════════════════════╡\n",
       "│ 34742      ┆ 2.966619             │\n",
       "│ 67376      ┆ 0.0                  │\n",
       "│ 3016       ┆ 0.0                  │\n",
       "│ 62788      ┆ 0.0                  │\n",
       "│ 52433      ┆ 6.847196             │\n",
       "└────────────┴──────────────────────┘"
      ]
     },
     "execution_count": 13,
     "metadata": {},
     "output_type": "execute_result"
    }
   ],
   "source": [
    "assoc_df = (\n",
    "    processed_traj_df.lazy()\n",
    "    .group_by([\"vehicle_id\"])\n",
    "    .agg(\n",
    "        pl.col(\"association_distance\").mean().fill_null(0).alias(\"association_distance\")\n",
    "    )\n",
    "    .collect(streaming=True)\n",
    ")\n",
    "\n",
    "assoc_df.head()"
   ]
  },
  {
   "cell_type": "markdown",
   "metadata": {},
   "source": [
    "### Identify Good Tra "
   ]
  },
  {
   "cell_type": "code",
   "execution_count": 14,
   "metadata": {},
   "outputs": [],
   "source": [
    "lf_df = lf_df.join(assoc_df, on=\"vehicle_id\", how=\"left\").join(\n",
    "    assoc_df.rename({\"vehicle_id\": \"vehicle_id_leader\"}),\n",
    "    on=\"vehicle_id_leader\",\n",
    "    how=\"left\",\n",
    "    suffix=\"_leader\",\n",
    ")"
   ]
  },
  {
   "cell_type": "code",
   "execution_count": 15,
   "metadata": {},
   "outputs": [
    {
     "data": {
      "text/plain": [
       "(203886, 20)"
      ]
     },
     "execution_count": 15,
     "metadata": {},
     "output_type": "execute_result"
    }
   ],
   "source": [
    "lf_df.shape"
   ]
  },
  {
   "cell_type": "markdown",
   "metadata": {},
   "source": [
    "### Number of Leader-Follower Pairs in Image"
   ]
  },
  {
   "cell_type": "code",
   "execution_count": 21,
   "metadata": {},
   "outputs": [
    {
     "data": {
      "text/html": [
       "<div><style>\n",
       ".dataframe > thead > tr,\n",
       ".dataframe > tbody > tr {\n",
       "  text-align: right;\n",
       "  white-space: pre-wrap;\n",
       "}\n",
       "</style>\n",
       "<small>shape: (67, 20)</small><table border=\"1\" class=\"dataframe\"><thead><tr><th>lane</th><th>lane_index</th><th>vehicle_id</th><th>vehicle_id_leader</th><th>other_leader</th><th>time_diff</th><th>dist_diff</th><th>dist_diff_min</th><th>dist_diff_max</th><th>time_headway</th><th>time_headway_min</th><th>time_headway_max</th><th>start_index</th><th>end_index</th><th>min_acceleration</th><th>max_acceleration</th><th>min_velocity</th><th>max_velocity</th><th>epoch_time_min</th><th>epoch_time_max</th></tr><tr><td>str</td><td>u16</td><td>u64</td><td>u64</td><td>u32</td><td>f64</td><td>f64</td><td>f64</td><td>f64</td><td>f64</td><td>f64</td><td>f64</td><td>u32</td><td>u32</td><td>f64</td><td>f64</td><td>f32</td><td>f32</td><td>datetime[ms, UTC]</td><td>datetime[ms, UTC]</td></tr></thead><tbody><tr><td>&quot;EBL1&quot;</td><td>0</td><td>15232</td><td>15246</td><td>0</td><td>17.1</td><td>61.595212</td><td>29.484831</td><td>132.686659</td><td>3.289776</td><td>2.02894</td><td>6.022152</td><td>11199124</td><td>16313594</td><td>-1.122456</td><td>0.101242</td><td>13.084476</td><td>22.393555</td><td>2023-03-13 11:55:25.900 UTC</td><td>2023-03-13 11:55:43 UTC</td></tr><tr><td>&quot;EBL1&quot;</td><td>0</td><td>15138</td><td>15128</td><td>0</td><td>53.2</td><td>109.378927</td><td>82.1475</td><td>177.173132</td><td>5.739074</td><td>3.863377</td><td>7.547487</td><td>183339</td><td>19084528</td><td>-0.806789</td><td>0.890732</td><td>15.282641</td><td>25.58284</td><td>2023-03-13 11:52:06.800 UTC</td><td>2023-03-13 11:53:00 UTC</td></tr><tr><td>&quot;EBL1&quot;</td><td>0</td><td>15420</td><td>15416</td><td>0</td><td>53.1</td><td>57.413766</td><td>45.275952</td><td>70.104978</td><td>2.959576</td><td>2.341868</td><td>3.619779</td><td>186276</td><td>20420710</td><td>-0.788918</td><td>0.642853</td><td>18.387064</td><td>24.716419</td><td>2023-03-13 11:59:48.400 UTC</td><td>2023-03-13 12:00:41.500 UTC</td></tr><tr><td>&quot;EBL1&quot;</td><td>0</td><td>15178</td><td>15187</td><td>0</td><td>13.0</td><td>37.121525</td><td>31.741635</td><td>40.064406</td><td>2.15896</td><td>1.677611</td><td>2.579108</td><td>31514</td><td>2845155</td><td>-0.911999</td><td>0.32093</td><td>19.496853</td><td>24.0644</td><td>2023-03-13 11:53:19.300 UTC</td><td>2023-03-13 11:53:32.300 UTC</td></tr><tr><td>&quot;EBL1&quot;</td><td>0</td><td>15199</td><td>15227</td><td>0</td><td>13.6</td><td>33.366658</td><td>8.605306</td><td>99.298825</td><td>2.731712</td><td>1.554732</td><td>6.032595</td><td>14006828</td><td>16749634</td><td>-1.518183</td><td>0.082169</td><td>6.824132</td><td>16.803793</td><td>2023-03-13 11:54:39.700 UTC</td><td>2023-03-13 11:54:53.300 UTC</td></tr><tr><td>&quot;EBL1&quot;</td><td>0</td><td>15215</td><td>15218</td><td>0</td><td>13.2</td><td>22.593125</td><td>15.609777</td><td>36.187603</td><td>2.054622</td><td>1.606559</td><td>2.757128</td><td>17238797</td><td>20166192</td><td>0.080566</td><td>1.796026</td><td>6.762259</td><td>16.475994</td><td>2023-03-13 11:54:38.600 UTC</td><td>2023-03-13 11:54:51.800 UTC</td></tr><tr><td>&quot;EBL1&quot;</td><td>0</td><td>15280</td><td>15273</td><td>0</td><td>26.0</td><td>84.318722</td><td>19.595995</td><td>136.14923</td><td>6.548182</td><td>2.523157</td><td>14.068292</td><td>11523400</td><td>17289463</td><td>-0.981827</td><td>1.453094</td><td>7.420079</td><td>16.582457</td><td>2023-03-13 11:56:37 UTC</td><td>2023-03-13 11:57:03 UTC</td></tr><tr><td>&quot;EBL1&quot;</td><td>0</td><td>57872</td><td>78938</td><td>1</td><td>13.8</td><td>42.956786</td><td>23.957619</td><td>59.81746</td><td>2.993469</td><td>2.759195</td><td>3.271158</td><td>18359323</td><td>20921916</td><td>0.026531</td><td>1.540308</td><td>8.728446</td><td>19.929274</td><td>2023-03-13 11:51:37.500 UTC</td><td>2023-03-13 11:51:51.300 UTC</td></tr><tr><td>&quot;EBL1&quot;</td><td>0</td><td>15170</td><td>15179</td><td>0</td><td>15.4</td><td>125.88519</td><td>60.150585</td><td>195.540517</td><td>5.8524</td><td>2.793365</td><td>8.647518</td><td>9063789</td><td>15375274</td><td>-0.316544</td><td>0.331039</td><td>21.263809</td><td>23.349247</td><td>2023-03-13 11:53:21.100 UTC</td><td>2023-03-13 11:53:36.500 UTC</td></tr><tr><td>&quot;EBL1&quot;</td><td>0</td><td>15213</td><td>15219</td><td>0</td><td>36.5</td><td>53.02888</td><td>32.183113</td><td>60.393001</td><td>2.978042</td><td>2.161918</td><td>3.365443</td><td>4286186</td><td>16647422</td><td>-0.575314</td><td>1.074314</td><td>12.886529</td><td>23.048544</td><td>2023-03-13 11:54:34.700 UTC</td><td>2023-03-13 11:55:11.200 UTC</td></tr><tr><td>&quot;EBL1&quot;</td><td>0</td><td>15093</td><td>15089</td><td>0</td><td>29.7</td><td>156.056714</td><td>123.015716</td><td>249.186009</td><td>13.200245</td><td>4.737627</td><td>130.966916</td><td>77798</td><td>10892524</td><td>-3.496275</td><td>0.194798</td><td>1.926796</td><td>26.546089</td><td>2023-03-13 11:50:59 UTC</td><td>2023-03-13 11:51:28.700 UTC</td></tr><tr><td>&quot;EBL1&quot;</td><td>0</td><td>15228</td><td>15226</td><td>0</td><td>25.1</td><td>43.621678</td><td>36.127717</td><td>49.770165</td><td>2.110666</td><td>1.710332</td><td>2.278169</td><td>96472</td><td>9462525</td><td>-0.936737</td><td>0.858803</td><td>20.949461</td><td>27.643616</td><td>2023-03-13 11:54:42.900 UTC</td><td>2023-03-13 11:55:08 UTC</td></tr><tr><td>&hellip;</td><td>&hellip;</td><td>&hellip;</td><td>&hellip;</td><td>&hellip;</td><td>&hellip;</td><td>&hellip;</td><td>&hellip;</td><td>&hellip;</td><td>&hellip;</td><td>&hellip;</td><td>&hellip;</td><td>&hellip;</td><td>&hellip;</td><td>&hellip;</td><td>&hellip;</td><td>&hellip;</td><td>&hellip;</td><td>&hellip;</td><td>&hellip;</td></tr><tr><td>&quot;EBL1&quot;</td><td>0</td><td>15141</td><td>15136</td><td>0</td><td>10.8</td><td>39.49614</td><td>30.176364</td><td>65.790071</td><td>2.576221</td><td>1.973261</td><td>4.41365</td><td>12209944</td><td>14999239</td><td>-0.532551</td><td>1.067934</td><td>15.754091</td><td>19.18128</td><td>2023-03-13 11:52:15.800 UTC</td><td>2023-03-13 11:52:26.600 UTC</td></tr><tr><td>&quot;EBL1&quot;</td><td>0</td><td>15157</td><td>15151</td><td>0</td><td>10.9</td><td>43.348677</td><td>31.21819</td><td>49.260118</td><td>2.494273</td><td>1.903341</td><td>2.853424</td><td>5234858</td><td>8572275</td><td>0.146637</td><td>3.047018</td><td>14.209435</td><td>22.704672</td><td>2023-03-13 11:52:40.300 UTC</td><td>2023-03-13 11:52:51.200 UTC</td></tr><tr><td>&quot;EBL1&quot;</td><td>0</td><td>15288</td><td>15282</td><td>0</td><td>18.4</td><td>34.995009</td><td>14.959795</td><td>69.317969</td><td>4.424232</td><td>3.458567</td><td>7.232428</td><td>262888</td><td>3652839</td><td>-1.551256</td><td>1.573486</td><td>3.86025</td><td>18.954971</td><td>2023-03-13 11:56:26.200 UTC</td><td>2023-03-13 11:56:44.600 UTC</td></tr><tr><td>&quot;EBL1&quot;</td><td>0</td><td>15183</td><td>15185</td><td>0</td><td>10.9</td><td>44.394117</td><td>22.8285</td><td>60.898416</td><td>2.483019</td><td>1.303213</td><td>3.539671</td><td>7947167</td><td>12651225</td><td>-0.708199</td><td>0.575218</td><td>17.603115</td><td>21.560488</td><td>2023-03-13 11:53:43.600 UTC</td><td>2023-03-13 11:53:54.500 UTC</td></tr><tr><td>&quot;EBL1&quot;</td><td>0</td><td>15367</td><td>15372</td><td>0</td><td>13.2</td><td>84.341864</td><td>66.244034</td><td>97.209825</td><td>3.988736</td><td>3.016534</td><td>4.593754</td><td>3563804</td><td>8176078</td><td>-0.405598</td><td>0.363102</td><td>20.786795</td><td>23.632872</td><td>2023-03-13 11:58:35.500 UTC</td><td>2023-03-13 11:58:48.700 UTC</td></tr><tr><td>&quot;EBL1&quot;</td><td>0</td><td>15235</td><td>15231</td><td>0</td><td>23.1</td><td>62.301307</td><td>30.906074</td><td>83.936052</td><td>2.612155</td><td>1.417649</td><td>3.602119</td><td>167969</td><td>11072771</td><td>-0.423298</td><td>0.652447</td><td>23.857832</td><td>27.768906</td><td>2023-03-13 11:54:51.300 UTC</td><td>2023-03-13 11:55:14.400 UTC</td></tr><tr><td>&quot;EBL1&quot;</td><td>0</td><td>15219</td><td>15194</td><td>0</td><td>36.5</td><td>28.302611</td><td>20.314369</td><td>46.308193</td><td>1.72515</td><td>1.247972</td><td>3.375495</td><td>4875900</td><td>17864076</td><td>-0.888824</td><td>1.09354</td><td>14.980399</td><td>22.326954</td><td>2023-03-13 11:54:34.700 UTC</td><td>2023-03-13 11:55:11.200 UTC</td></tr><tr><td>&quot;EBL1&quot;</td><td>0</td><td>15330</td><td>15334</td><td>0</td><td>14.5</td><td>98.563028</td><td>40.917329</td><td>144.327121</td><td>6.024474</td><td>3.083736</td><td>7.98537</td><td>13350598</td><td>17947523</td><td>-0.148306</td><td>0.829973</td><td>14.419641</td><td>18.830034</td><td>2023-03-13 11:57:43.800 UTC</td><td>2023-03-13 11:57:58.300 UTC</td></tr><tr><td>&quot;EBL1&quot;</td><td>0</td><td>15368</td><td>15383</td><td>0</td><td>27.3</td><td>30.993556</td><td>6.050036</td><td>41.663133</td><td>2.935381</td><td>1.605361</td><td>4.35849</td><td>9570325</td><td>16282975</td><td>-1.076055</td><td>0.0914</td><td>3.223256</td><td>21.493013</td><td>2023-03-13 11:58:53.600 UTC</td><td>2023-03-13 11:59:20.900 UTC</td></tr><tr><td>&quot;EBL1&quot;</td><td>0</td><td>15123</td><td>15122</td><td>0</td><td>40.6</td><td>34.286514</td><td>9.27964</td><td>48.788789</td><td>2.034919</td><td>1.350283</td><td>3.904228</td><td>2746589</td><td>16451946</td><td>-1.391277</td><td>1.664968</td><td>7.95367</td><td>22.437994</td><td>2023-03-13 11:52:00.700 UTC</td><td>2023-03-13 11:52:41.300 UTC</td></tr><tr><td>&quot;EBL1&quot;</td><td>0</td><td>15256</td><td>15254</td><td>0</td><td>25.2</td><td>64.659652</td><td>47.936224</td><td>116.67822</td><td>2.903158</td><td>2.352726</td><td>4.557353</td><td>3371484</td><td>13867797</td><td>-0.591869</td><td>0.277824</td><td>20.975973</td><td>26.956522</td><td>2023-03-13 11:56:03.200 UTC</td><td>2023-03-13 11:56:28.400 UTC</td></tr><tr><td>&quot;EBL1&quot;</td><td>0</td><td>15202</td><td>15206</td><td>0</td><td>12.8</td><td>23.37767</td><td>8.236244</td><td>33.337486</td><td>3.415103</td><td>2.05144</td><td>4.90572</td><td>14107362</td><td>15731921</td><td>-1.553001</td><td>0.430632</td><td>4.06284</td><td>14.032947</td><td>2023-03-13 11:54:03.100 UTC</td><td>2023-03-13 11:54:15.900 UTC</td></tr></tbody></table></div>"
      ],
      "text/plain": [
       "shape: (67, 20)\n",
       "┌──────┬────────────┬────────────┬────────────┬───┬────────────┬───────────┬───────────┬───────────┐\n",
       "│ lane ┆ lane_index ┆ vehicle_id ┆ vehicle_id ┆ … ┆ min_veloci ┆ max_veloc ┆ epoch_tim ┆ epoch_tim │\n",
       "│ ---  ┆ ---        ┆ ---        ┆ _leader    ┆   ┆ ty         ┆ ity       ┆ e_min     ┆ e_max     │\n",
       "│ str  ┆ u16        ┆ u64        ┆ ---        ┆   ┆ ---        ┆ ---       ┆ ---       ┆ ---       │\n",
       "│      ┆            ┆            ┆ u64        ┆   ┆ f32        ┆ f32       ┆ datetime[ ┆ datetime[ │\n",
       "│      ┆            ┆            ┆            ┆   ┆            ┆           ┆ ms, UTC]  ┆ ms, UTC]  │\n",
       "╞══════╪════════════╪════════════╪════════════╪═══╪════════════╪═══════════╪═══════════╪═══════════╡\n",
       "│ EBL1 ┆ 0          ┆ 15232      ┆ 15246      ┆ … ┆ 13.084476  ┆ 22.393555 ┆ 2023-03-1 ┆ 2023-03-1 │\n",
       "│      ┆            ┆            ┆            ┆   ┆            ┆           ┆ 3 11:55:2 ┆ 3         │\n",
       "│      ┆            ┆            ┆            ┆   ┆            ┆           ┆ 5.900 UTC ┆ 11:55:43  │\n",
       "│      ┆            ┆            ┆            ┆   ┆            ┆           ┆           ┆ UTC       │\n",
       "│ EBL1 ┆ 0          ┆ 15138      ┆ 15128      ┆ … ┆ 15.282641  ┆ 25.58284  ┆ 2023-03-1 ┆ 2023-03-1 │\n",
       "│      ┆            ┆            ┆            ┆   ┆            ┆           ┆ 3 11:52:0 ┆ 3         │\n",
       "│      ┆            ┆            ┆            ┆   ┆            ┆           ┆ 6.800 UTC ┆ 11:53:00  │\n",
       "│      ┆            ┆            ┆            ┆   ┆            ┆           ┆           ┆ UTC       │\n",
       "│ EBL1 ┆ 0          ┆ 15420      ┆ 15416      ┆ … ┆ 18.387064  ┆ 24.716419 ┆ 2023-03-1 ┆ 2023-03-1 │\n",
       "│      ┆            ┆            ┆            ┆   ┆            ┆           ┆ 3 11:59:4 ┆ 3 12:00:4 │\n",
       "│      ┆            ┆            ┆            ┆   ┆            ┆           ┆ 8.400 UTC ┆ 1.500 UTC │\n",
       "│ EBL1 ┆ 0          ┆ 15178      ┆ 15187      ┆ … ┆ 19.496853  ┆ 24.0644   ┆ 2023-03-1 ┆ 2023-03-1 │\n",
       "│      ┆            ┆            ┆            ┆   ┆            ┆           ┆ 3 11:53:1 ┆ 3 11:53:3 │\n",
       "│      ┆            ┆            ┆            ┆   ┆            ┆           ┆ 9.300 UTC ┆ 2.300 UTC │\n",
       "│ …    ┆ …          ┆ …          ┆ …          ┆ … ┆ …          ┆ …         ┆ …         ┆ …         │\n",
       "│ EBL1 ┆ 0          ┆ 15368      ┆ 15383      ┆ … ┆ 3.223256   ┆ 21.493013 ┆ 2023-03-1 ┆ 2023-03-1 │\n",
       "│      ┆            ┆            ┆            ┆   ┆            ┆           ┆ 3 11:58:5 ┆ 3 11:59:2 │\n",
       "│      ┆            ┆            ┆            ┆   ┆            ┆           ┆ 3.600 UTC ┆ 0.900 UTC │\n",
       "│ EBL1 ┆ 0          ┆ 15123      ┆ 15122      ┆ … ┆ 7.95367    ┆ 22.437994 ┆ 2023-03-1 ┆ 2023-03-1 │\n",
       "│      ┆            ┆            ┆            ┆   ┆            ┆           ┆ 3 11:52:0 ┆ 3 11:52:4 │\n",
       "│      ┆            ┆            ┆            ┆   ┆            ┆           ┆ 0.700 UTC ┆ 1.300 UTC │\n",
       "│ EBL1 ┆ 0          ┆ 15256      ┆ 15254      ┆ … ┆ 20.975973  ┆ 26.956522 ┆ 2023-03-1 ┆ 2023-03-1 │\n",
       "│      ┆            ┆            ┆            ┆   ┆            ┆           ┆ 3 11:56:0 ┆ 3 11:56:2 │\n",
       "│      ┆            ┆            ┆            ┆   ┆            ┆           ┆ 3.200 UTC ┆ 8.400 UTC │\n",
       "│ EBL1 ┆ 0          ┆ 15202      ┆ 15206      ┆ … ┆ 4.06284    ┆ 14.032947 ┆ 2023-03-1 ┆ 2023-03-1 │\n",
       "│      ┆            ┆            ┆            ┆   ┆            ┆           ┆ 3 11:54:0 ┆ 3 11:54:1 │\n",
       "│      ┆            ┆            ┆            ┆   ┆            ┆           ┆ 3.100 UTC ┆ 5.900 UTC │\n",
       "└──────┴────────────┴────────────┴────────────┴───┴────────────┴───────────┴───────────┴───────────┘"
      ]
     },
     "execution_count": 21,
     "metadata": {},
     "output_type": "execute_result"
    }
   ],
   "source": [
    "tl = pl.lit(\"2023-03-13 06:50:00\").str.strptime(\n",
    "    pl.Datetime(time_unit=\"ns\", time_zone=\"US/Central\"),\n",
    ").dt.convert_time_zone(\"UTC\")\n",
    "th = pl.lit(\"2023-03-13 07:00:00\").str.strptime(\n",
    "    pl.Datetime(time_unit=\"ns\", time_zone=\"US/Central\"),\n",
    ").dt.convert_time_zone(\"UTC\")\n",
    "\n",
    "\n",
    "lf_df.filter(\n",
    "    (pl.col('lane') == \"EBL1\") \n",
    "    & (pl.col('lane_index') == 0)\n",
    "    & pl.col(\n",
    "        'epoch_time_min'\n",
    "    ).is_between(tl, th)\n",
    "    & (pl.col(\"time_diff\") > 10)\n",
    "    & pl.col(\"time_headway_min\").is_between(0.5, 5)\n",
    ")"
   ]
  },
  {
   "cell_type": "markdown",
   "metadata": {},
   "source": [
    "### All Calibrateable Trajectories"
   ]
  },
  {
   "cell_type": "code",
   "execution_count": 16,
   "metadata": {},
   "outputs": [
    {
     "data": {
      "text/plain": [
       "(28906, 20)"
      ]
     },
     "execution_count": 16,
     "metadata": {},
     "output_type": "execute_result"
    }
   ],
   "source": [
    "from scipy.stats import chi2\n",
    "\n",
    "lf_df.filter(\n",
    "    (pl.col(\"time_diff\") > 10)\n",
    "    # & (pl.col(\"time_headway\") < 15)\n",
    "    & (\n",
    "        pl.col(\"time_headway_min\").is_between(0.5, 5)\n",
    "        # | pl.col(\"dist_diff_min\").is_between(1, 10)\n",
    "    )\n",
    "    & (pl.col(\"association_distance\") < chi2.ppf(0.95, 4))\n",
    "    & (pl.col(\"association_distance_leader\") < chi2.ppf(0.95, 4))\n",
    "    # & (pl.col(\"min_acceleration\") < -0.5)\n",
    "    # & (pl.col(\"max_acceleration\") > 0.5)\n",
    "    # & (pl.col(\"min_velocity\") < 5)\n",
    "    # & (pl.col(\"max_velocity\") > 15)\n",
    ").shape"
   ]
  }
 ],
 "metadata": {
  "kernelspec": {
   "display_name": "venv",
   "language": "python",
   "name": "python3"
  },
  "language_info": {
   "codemirror_mode": {
    "name": "ipython",
    "version": 3
   },
   "file_extension": ".py",
   "mimetype": "text/x-python",
   "name": "python",
   "nbconvert_exporter": "python",
   "pygments_lexer": "ipython3",
   "version": "3.11.5"
  }
 },
 "nbformat": 4,
 "nbformat_minor": 2
}
