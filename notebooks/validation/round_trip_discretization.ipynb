{
 "cells": [
  {
   "cell_type": "markdown",
   "metadata": {},
   "source": [
    "# Analyzing the Error in Numerical Discretization of the Frenet Frame"
   ]
  },
  {
   "cell_type": "code",
   "execution_count": 1,
   "metadata": {},
   "outputs": [],
   "source": [
    "# ruff: noqa: E402\n",
    "\n",
    "%load_ext autoreload\n",
    "%autoreload 2\n",
    "\n",
    "# find the root of the project\n",
    "import os\n",
    "from pathlib import Path\n",
    "import sys\n",
    "import polars as pl\n",
    "import dotenv\n",
    "\n",
    "\n",
    "ROOT = Path(os.getcwd()).parent\n",
    "while not ROOT.joinpath(\".git\").exists():\n",
    "    ROOT = ROOT.parent\n",
    "\n",
    "# add the root to the python path\n",
    "sys.path.append(str(ROOT))"
   ]
  },
  {
   "cell_type": "markdown",
   "metadata": {},
   "source": [
    "## Load the Network\n"
   ]
  },
  {
   "cell_type": "code",
   "execution_count": 2,
   "metadata": {},
   "outputs": [],
   "source": [
    "import geopandas as gpd\n",
    "from src.geometry import RoadNetwork\n",
    "\n",
    "\n",
    "mainline_net = RoadNetwork(\n",
    "    lane_gdf=gpd.read_file(ROOT / \"data/mainline_lanes.geojson\"),\n",
    "    keep_lanes=[\"EBL1\", \"WBL1\"],\n",
    "    step_size=0.01,\n",
    ")\n",
    "\n",
    "full_net = RoadNetwork(\n",
    "    lane_gdf=gpd.read_file(ROOT / \"data/mainline_lanes.geojson\"),\n",
    "    keep_lanes=None,\n",
    "    step_size=0.01\n",
    ")\n",
    "\n",
    "LANE_WIDTH = 3.55\n",
    "LANE_NUM = 2"
   ]
  },
  {
   "cell_type": "markdown",
   "metadata": {},
   "source": [
    "## Read in the Trajectories\n"
   ]
  },
  {
   "cell_type": "code",
   "execution_count": 3,
   "metadata": {},
   "outputs": [
    {
     "name": "stdout",
     "output_type": "stream",
     "text": [
      "function: create_object_id took: 0.00029015541076660156 seconds\n",
      "function: filter_short_trajectories took: 0.0004298686981201172 seconds\n",
      "function: clip_trajectory_end took: 0.0002071857452392578 seconds\n",
      "function: resample took: 0.0002281665802001953 seconds\n",
      "function: fix_duplicate_positions took: 0.00013971328735351562 seconds\n",
      "function: set_timezone took: 5.0067901611328125e-05 seconds\n",
      "function: add_cst_timezone took: 3.409385681152344e-05 seconds\n",
      "function: add_heading took: 3.075599670410156e-05 seconds\n",
      "function: rotate_radars took: 0.00048613548278808594 seconds\n",
      "function: update_origin took: 0.0004885196685791016 seconds\n"
     ]
    }
   ],
   "source": [
    "from datetime import timedelta\n",
    "import polars as pl\n",
    "from src.radar import CalibratedRadar\n",
    "from src.pipelines.open_file import prep_df\n",
    "\n",
    "\n",
    "sample_fraction = 0.2\n",
    "\n",
    "\n",
    "radar_obj = CalibratedRadar(\n",
    "    radar_location_path=ROOT / \"configuration\" / \"march_calibrated.yaml\",\n",
    ")\n",
    "\n",
    "\n",
    "radar_df = (\n",
    "    pl.scan_parquet(\n",
    "        Path(os.environ.get(\"RAW_DATA_DIR\")).joinpath(\"*.parquet\"),\n",
    "    )\n",
    "    .with_columns(\n",
    "        pl.col(\"epoch_time\").dt.replace_time_zone(\"UTC\"),\n",
    "    )\n",
    "    .filter(pl.col(\"epoch_time\").dt.month() == 3)\n",
    "    .collect()\n",
    "    .sample(fraction=sample_fraction, seed=42)\n",
    "    .lazy()\n",
    "    .pipe(prep_df, f=radar_obj)\n",
    "    .pipe(\n",
    "        mainline_net.map_to_lane,\n",
    "        dist_upper_bound=LANE_WIDTH * LANE_NUM\n",
    "        - (LANE_WIDTH / 2)\n",
    "        + 0.5,  # centered on one of the lanes,\n",
    "        utm_x_col=\"utm_x\",\n",
    "        utm_y_col=\"utm_y\",\n",
    "    )\n",
    "    .filter(pl.col(\"name\").is_not_null())\n",
    "    .rename({\"name\": \"lane\"})\n",
    ")"
   ]
  },
  {
   "cell_type": "markdown",
   "metadata": {},
   "source": [
    "## Find the Round Trip Error"
   ]
  },
  {
   "cell_type": "code",
   "execution_count": 4,
   "metadata": {},
   "outputs": [],
   "source": [
    "error_df = mainline_net.frenet2xy(\n",
    "    radar_df.drop(['x_lane', 'y_lane']).rename({'utm_x': 'x', 'utm_y': 'y'}),\n",
    "    lane_col='lane',\n",
    "    s_col='s',\n",
    "    d_col='d',\n",
    ").with_columns(\n",
    "    (pl.col('x') - pl.col('x_lane')).alias('dx'),\n",
    "    (pl.col('y') - pl.col('y_lane')).alias('dy'),\n",
    ").with_columns(\n",
    "    (pl.col('dx') ** 2 + pl.col('dy') ** 2).sqrt().alias('dist_error'),\n",
    ").filter(\n",
    "    (pl.col('s') > 1) & (pl.col('s') < (pl.col('s').max() - 10))\n",
    ")"
   ]
  },
  {
   "cell_type": "code",
   "execution_count": 5,
   "metadata": {},
   "outputs": [
    {
     "data": {
      "text/html": [
       "<div><style>\n",
       ".dataframe > thead > tr,\n",
       ".dataframe > tbody > tr {\n",
       "  text-align: right;\n",
       "  white-space: pre-wrap;\n",
       "}\n",
       "</style>\n",
       "<small>shape: (9, 2)</small><table border=\"1\" class=\"dataframe\"><thead><tr><th>statistic</th><th>value</th></tr><tr><td>str</td><td>f64</td></tr></thead><tbody><tr><td>&quot;count&quot;</td><td>3.857551e6</td></tr><tr><td>&quot;null_count&quot;</td><td>0.0</td></tr><tr><td>&quot;mean&quot;</td><td>0.002499</td></tr><tr><td>&quot;std&quot;</td><td>0.001446</td></tr><tr><td>&quot;min&quot;</td><td>6.9849e-10</td></tr><tr><td>&quot;25%&quot;</td><td>0.001246</td></tr><tr><td>&quot;50%&quot;</td><td>0.002497</td></tr><tr><td>&quot;75%&quot;</td><td>0.00375</td></tr><tr><td>&quot;max&quot;</td><td>0.007396</td></tr></tbody></table></div>"
      ],
      "text/plain": [
       "shape: (9, 2)\n",
       "┌────────────┬────────────┐\n",
       "│ statistic  ┆ value      │\n",
       "│ ---        ┆ ---        │\n",
       "│ str        ┆ f64        │\n",
       "╞════════════╪════════════╡\n",
       "│ count      ┆ 3.857551e6 │\n",
       "│ null_count ┆ 0.0        │\n",
       "│ mean       ┆ 0.002499   │\n",
       "│ std        ┆ 0.001446   │\n",
       "│ min        ┆ 6.9849e-10 │\n",
       "│ 25%        ┆ 0.001246   │\n",
       "│ 50%        ┆ 0.002497   │\n",
       "│ 75%        ┆ 0.00375    │\n",
       "│ max        ┆ 0.007396   │\n",
       "└────────────┴────────────┘"
      ]
     },
     "execution_count": 5,
     "metadata": {},
     "output_type": "execute_result"
    }
   ],
   "source": [
    "error_df['dist_error'].describe()"
   ]
  },
  {
   "cell_type": "code",
   "execution_count": 6,
   "metadata": {},
   "outputs": [
    {
     "data": {
      "text/plain": [
       "<Axes: xlabel='d', ylabel='dy'>"
      ]
     },
     "execution_count": 6,
     "metadata": {},
     "output_type": "execute_result"
    },
    {
     "data": {
      "image/png": "[encoded data removed]",
      "text/plain": [
       "<Figure size 640x480 with 1 Axes>"
      ]
     },
     "metadata": {},
     "output_type": "display_data"
    }
   ],
   "source": [
    "error_df.filter(\n",
    "    pl.col('lane').str.contains('EBL1')\n",
    ")[['d', 'dy']].to_pandas().plot.scatter('d', 'dy', alpha=0.1)"
   ]
  }
 ],
 "metadata": {
  "kernelspec": {
   "display_name": "venv",
   "language": "python",
   "name": "python3"
  },
  "language_info": {
   "codemirror_mode": {
    "name": "ipython",
    "version": 3
   },
   "file_extension": ".py",
   "mimetype": "text/x-python",
   "name": "python",
   "nbconvert_exporter": "python",
   "pygments_lexer": "ipython3",
   "version": "3.11.5"
  }
 },
 "nbformat": 4,
 "nbformat_minor": 2
}
