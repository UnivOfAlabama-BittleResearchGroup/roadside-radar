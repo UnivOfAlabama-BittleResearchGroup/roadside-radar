{
 "cells": [
  {
   "cell_type": "markdown",
   "metadata": {},
   "source": [
    "# Volume Based-Validation.\n",
    "\n",
    "Also include several other metrics:\n",
    "\n",
    "-  Quantify the number of erroneous matches used the association distance.\n",
    "-  Quantify the average distance of track vs. distance un associated.\n",
    "-  Overall number of good tracks\n",
    "   - Number of trajectories useful for car-following model calibration (pairs with t_headway < 5s for x time)\n",
    "- "
   ]
  }
 ],
 "metadata": {
  "language_info": {
   "name": "python"
  }
 },
 "nbformat": 4,
 "nbformat_minor": 2
}
