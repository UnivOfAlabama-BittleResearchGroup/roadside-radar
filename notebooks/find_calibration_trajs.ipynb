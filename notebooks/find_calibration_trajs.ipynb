{
 "cells": [
  {
   "cell_type": "code",
   "execution_count": 1,
   "metadata": {},
   "outputs": [
    {
     "name": "stderr",
     "output_type": "stream",
     "text": [
      "/home/max/Development/roadside-radar/venv/lib/python3.11/site-packages/tqdm/auto.py:21: TqdmWarning: IProgress not found. Please update jupyter and ipywidgets. See https://ipywidgets.readthedocs.io/en/stable/user_install.html\n",
      "  from .autonotebook import tqdm as notebook_tqdm\n"
     ]
    },
    {
     "name": "stdout",
     "output_type": "stream",
     "text": [
      "GPU available: True\n"
     ]
    }
   ],
   "source": [
    "# ruff: noqa: E402\n",
    "\n",
    "%load_ext autoreload\n",
    "%autoreload 2\n",
    "\n",
    "# find the root of the project\n",
    "import os\n",
    "from pathlib import Path\n",
    "import sys\n",
    "import polars as pl\n",
    "import dotenv\n",
    "\n",
    "\n",
    "ROOT = Path(os.getcwd()).parent\n",
    "while not ROOT.joinpath(\".git\").exists():\n",
    "    ROOT = ROOT.parent\n",
    "\n",
    "# add the root to the python path\n",
    "sys.path.append(str(ROOT))\n",
    "\n",
    "\n",
    "dotenv.load_dotenv(ROOT.joinpath(\".env\"))\n",
    "\n",
    "from src.utils import check_gpu_available\n",
    "\n",
    "GPU = check_gpu_available()\n",
    "print(f\"GPU available: {GPU}\")"
   ]
  },
  {
   "cell_type": "markdown",
   "metadata": {},
   "source": [
    "## Read in the Trajectories\n"
   ]
  },
  {
   "cell_type": "code",
   "execution_count": 2,
   "metadata": {},
   "outputs": [],
   "source": [
    "processed_traj_df = pl.scan_parquet(\n",
    "    # Path(os.environ.get(\"RAW_DATA_DIR\")).joinpath(\"*.parquet\")\n",
    "    ROOT\n",
    "    / \"data/merged_march.parquet\"\n",
    ").select(\n",
    "    [\n",
    "        \"epoch_time\",\n",
    "        \"lane\",\n",
    "        \"lane_index\",\n",
    "        \"s_velocity_smooth\",\n",
    "        \"vehicle_id\",\n",
    "        \"front_s_smooth\",\n",
    "        \"association_distance\",\n",
    "        \"length_s\",\n",
    "    ]\n",
    ")"
   ]
  },
  {
   "cell_type": "code",
   "execution_count": 3,
   "metadata": {},
   "outputs": [],
   "source": [
    "# processed_traj_df.head()"
   ]
  },
  {
   "cell_type": "code",
   "execution_count": 4,
   "metadata": {},
   "outputs": [],
   "source": [
    "lf_df = (\n",
    "    processed_traj_df.lazy()\n",
    "    .select(\n",
    "        [\n",
    "            \"epoch_time\",\n",
    "            \"lane\",\n",
    "            \"lane_index\",\n",
    "            \"front_s_smooth\",\n",
    "            \"vehicle_id\",\n",
    "            \"s_velocity_smooth\",\n",
    "        ]\n",
    "    )\n",
    "    .with_row_count(name=\"row_count\")\n",
    "    .sort([\"epoch_time\", \"front_s_smooth\"])\n",
    "    .with_columns(\n",
    "        pl.col([\"vehicle_id\", \"front_s_smooth\"])\n",
    "        .shift(-1)\n",
    "        .over([\"epoch_time\", \"lane\", \"lane_index\"])\n",
    "        .name.map(lambda x: f\"{x}_leader\")\n",
    "    )\n",
    "    .filter(pl.col(\"vehicle_id_leader\").is_not_null())\n",
    "    .with_columns(\n",
    "        ((pl.col(\"epoch_time\").diff().dt.total_milliseconds() / 1000) > 0.1)\n",
    "        .cum_sum()\n",
    "        .over([\"vehicle_id\", \"vehicle_id_leader\", \"lane\", \"lane_index\"])\n",
    "        .alias(\"other_leader\"),\n",
    "        pl.col(\"s_velocity_smooth\")\n",
    "        .rolling_mean(\n",
    "            window_size=int(5 / 0.1),\n",
    "            center=True,\n",
    "            min_periods=1,\n",
    "        )\n",
    "        .over(\n",
    "            [\n",
    "                \"vehicle_id\",\n",
    "                \"lane\",\n",
    "            ]\n",
    "        )\n",
    "        .alias(\"s_velocity_smooth_rolling\"),\n",
    "        (pl.col(\"front_s_smooth_leader\") - pl.col(\"front_s_smooth\")).alias(\"dist_diff\"),\n",
    "        (\n",
    "            (pl.col(\"front_s_smooth_leader\") - pl.col(\"front_s_smooth\"))\n",
    "            / pl.col(\"s_velocity_smooth\")\n",
    "        ).alias(\"time_headway\"),\n",
    "        (pl.col(\"epoch_time\").diff().dt.total_milliseconds() / 1000)\n",
    "        .over([\"vehicle_id\", \"lane\"])\n",
    "        .alias(\"time_diff\"),\n",
    "    )\n",
    "    .with_columns(\n",
    "        (pl.col(\"s_velocity_smooth_rolling\").diff() / pl.col(\"time_diff\"))\n",
    "        .over([\"vehicle_id\", \"lane\"])\n",
    "        .alias(\"acceleration\")\n",
    "    )\n",
    "    .group_by([\"lane\", \"lane_index\", \"vehicle_id\", \"vehicle_id_leader\", \"other_leader\"])\n",
    "    .agg(\n",
    "        (pl.col(\"epoch_time\").diff().dt.total_milliseconds() / 1000)\n",
    "        .sum()\n",
    "        .alias(\"time_diff\"),\n",
    "        pl.col(\"dist_diff\").mean().alias(\"dist_diff\"),\n",
    "        pl.col(\"dist_diff\").min().alias(\"dist_diff_min\"),\n",
    "        pl.col(\"dist_diff\").max().alias(\"dist_diff_max\"),\n",
    "        pl.col(\"time_headway\").mean().alias(\"time_headway\"),\n",
    "        pl.col(\"time_headway\").min().alias(\"time_headway_min\"),\n",
    "        pl.col(\"time_headway\").max().alias(\"time_headway_max\"),\n",
    "        pl.col(\"row_count\").min().alias(\"start_index\"),\n",
    "        pl.col(\"row_count\").max().alias(\"end_index\"),\n",
    "        pl.col(\"acceleration\").min().alias(\"min_acceleration\"),\n",
    "        pl.col(\"acceleration\").max().alias(\"max_acceleration\"),\n",
    "        # pl.col('s_velocity_smooth_rolling').filter(\n",
    "        #     pl.col('s_velocity_smooth_rolling').peak_min()\n",
    "        # ).max().alias('mins'),\n",
    "        # pl.col('s_velocity_smooth_rolling').filter(\n",
    "        #     pl.col('s_velocity_smooth_rolling').peak_max()\n",
    "        # ).mean().alias('maxs'),\n",
    "        # pl.col('s_velocity_smooth_rolling').peak_max().sum().alias('v_maxs'),\n",
    "        # pl.col(),\n",
    "    )\n",
    "    .filter(\n",
    "        pl.col(\"vehicle_id_leader\").is_not_null()\n",
    "        & (pl.col(\"dist_diff_min\") > 5)\n",
    "        & pl.col(\"other_leader\").is_not_null()\n",
    "    )\n",
    "    # .filter(\n",
    "    #     pl.col(\"time_headway_min\").is_between(0, 10)\n",
    "    #     & pl.col(\"time_headway\").is_between(0, 10)\n",
    "    #     & (pl.col(\"time_diff\") > 10)\n",
    "    #     # &\n",
    "    # )\n",
    "    .collect(streaming=True)\n",
    ")"
   ]
  },
  {
   "cell_type": "code",
   "execution_count": 5,
   "metadata": {},
   "outputs": [
    {
     "data": {
      "text/plain": [
       "(267923, 16)"
      ]
     },
     "execution_count": 5,
     "metadata": {},
     "output_type": "execute_result"
    }
   ],
   "source": [
    "lf_df.shape"
   ]
  },
  {
   "cell_type": "markdown",
   "metadata": {},
   "source": [
    "### Create a DataFrame of Association Likelihood Scores"
   ]
  },
  {
   "cell_type": "code",
   "execution_count": 6,
   "metadata": {},
   "outputs": [
    {
     "data": {
      "text/html": [
       "<div><style>\n",
       ".dataframe > thead > tr,\n",
       ".dataframe > tbody > tr {\n",
       "  text-align: right;\n",
       "  white-space: pre-wrap;\n",
       "}\n",
       "</style>\n",
       "<small>shape: (5, 2)</small><table border=\"1\" class=\"dataframe\"><thead><tr><th>vehicle_id</th><th>association_distance</th></tr><tr><td>u64</td><td>f32</td></tr></thead><tbody><tr><td>3802</td><td>3.632444</td></tr><tr><td>29365</td><td>13.598371</td></tr><tr><td>54270</td><td>0.0</td></tr><tr><td>9837</td><td>2.879454</td></tr><tr><td>8390</td><td>6.589679</td></tr></tbody></table></div>"
      ],
      "text/plain": [
       "shape: (5, 2)\n",
       "┌────────────┬──────────────────────┐\n",
       "│ vehicle_id ┆ association_distance │\n",
       "│ ---        ┆ ---                  │\n",
       "│ u64        ┆ f32                  │\n",
       "╞════════════╪══════════════════════╡\n",
       "│ 3802       ┆ 3.632444             │\n",
       "│ 29365      ┆ 13.598371            │\n",
       "│ 54270      ┆ 0.0                  │\n",
       "│ 9837       ┆ 2.879454             │\n",
       "│ 8390       ┆ 6.589679             │\n",
       "└────────────┴──────────────────────┘"
      ]
     },
     "execution_count": 6,
     "metadata": {},
     "output_type": "execute_result"
    }
   ],
   "source": [
    "assoc_df = (\n",
    "    processed_traj_df.lazy()\n",
    "    .group_by([\"vehicle_id\"])\n",
    "    .agg(\n",
    "        pl.col(\"association_distance\").mean().fill_null(0).alias(\"association_distance\")\n",
    "    )\n",
    "    .collect(streaming=True)\n",
    ")\n",
    "\n",
    "assoc_df.head()"
   ]
  },
  {
   "cell_type": "markdown",
   "metadata": {},
   "source": [
    "## Join the Two DataFrames"
   ]
  },
  {
   "cell_type": "code",
   "execution_count": 7,
   "metadata": {},
   "outputs": [],
   "source": [
    "lf_df = lf_df.join(assoc_df, on=\"vehicle_id\", how=\"left\").join(\n",
    "    assoc_df.rename({\"vehicle_id\": \"vehicle_id_leader\"}),\n",
    "    on=\"vehicle_id_leader\",\n",
    "    how=\"left\",\n",
    "    suffix=\"_leader\",\n",
    ")"
   ]
  },
  {
   "cell_type": "code",
   "execution_count": 8,
   "metadata": {},
   "outputs": [
    {
     "data": {
      "text/html": [
       "<div><style>\n",
       ".dataframe > thead > tr,\n",
       ".dataframe > tbody > tr {\n",
       "  text-align: right;\n",
       "  white-space: pre-wrap;\n",
       "}\n",
       "</style>\n",
       "<small>shape: (267_923, 18)</small><table border=\"1\" class=\"dataframe\"><thead><tr><th>lane</th><th>lane_index</th><th>vehicle_id</th><th>vehicle_id_leader</th><th>other_leader</th><th>time_diff</th><th>dist_diff</th><th>dist_diff_min</th><th>dist_diff_max</th><th>time_headway</th><th>time_headway_min</th><th>time_headway_max</th><th>start_index</th><th>end_index</th><th>min_acceleration</th><th>max_acceleration</th><th>association_distance</th><th>association_distance_leader</th></tr><tr><td>str</td><td>u16</td><td>u64</td><td>u64</td><td>u32</td><td>f64</td><td>f64</td><td>f64</td><td>f64</td><td>f64</td><td>f64</td><td>f64</td><td>u32</td><td>u32</td><td>f64</td><td>f64</td><td>f32</td><td>f32</td></tr></thead><tbody><tr><td>&quot;WBL1&quot;</td><td>2</td><td>72713</td><td>23</td><td>0</td><td>1.0</td><td>470.074148</td><td>469.128499</td><td>472.266281</td><td>46.906404</td><td>45.853451</td><td>49.536788</td><td>2315619</td><td>2645499</td><td>-1.21912</td><td>-0.942488</td><td>0.0</td><td>1.710295</td></tr><tr><td>&quot;EBL1&quot;</td><td>1</td><td>25</td><td>11</td><td>2</td><td>0.0</td><td>231.897373</td><td>231.897373</td><td>231.897373</td><td>9.702321</td><td>9.702321</td><td>9.702321</td><td>5647559</td><td>5647559</td><td>-0.176983</td><td>-0.176983</td><td>1.950241</td><td>2.253739</td></tr><tr><td>&quot;EBL1&quot;</td><td>0</td><td>48617</td><td>27</td><td>0</td><td>3.8</td><td>172.890973</td><td>157.575967</td><td>193.268979</td><td>4.5284e6</td><td>-8.7638e6</td><td>1.7769e7</td><td>10067519</td><td>10067892</td><td>-0.001221</td><td>0.000282</td><td>0.0</td><td>2.767724</td></tr><tr><td>&quot;WBL1&quot;</td><td>0</td><td>51088</td><td>69</td><td>0</td><td>1.3</td><td>105.203579</td><td>103.526843</td><td>106.858629</td><td>4.665719</td><td>4.572247</td><td>4.817242</td><td>13678929</td><td>14105862</td><td>-0.148945</td><td>0.0</td><td>0.0</td><td>2.8986</td></tr><tr><td>&quot;WBL1&quot;</td><td>1</td><td>87</td><td>64</td><td>0</td><td>6.0</td><td>868.435473</td><td>863.829344</td><td>873.394782</td><td>34.248425</td><td>33.378807</td><td>35.017312</td><td>316964</td><td>2944862</td><td>-0.295067</td><td>-0.071011</td><td>2.499125</td><td>1.180826</td></tr><tr><td>&quot;WBL1&quot;</td><td>1</td><td>49582</td><td>87</td><td>0</td><td>19.4</td><td>328.828203</td><td>179.136467</td><td>559.277266</td><td>-86866.093688</td><td>-1.6888e6</td><td>1216.282851</td><td>690396</td><td>2913739</td><td>-2.884083</td><td>0.288313</td><td>0.0</td><td>2.499125</td></tr><tr><td>&quot;WBL1&quot;</td><td>0</td><td>127</td><td>115</td><td>0</td><td>0.0</td><td>281.174667</td><td>281.174667</td><td>281.174667</td><td>48.998576</td><td>48.998576</td><td>48.998576</td><td>10712212</td><td>10712212</td><td>1.271305</td><td>1.271305</td><td>1.907832</td><td>26.025091</td></tr><tr><td>&quot;EBL1&quot;</td><td>1</td><td>118</td><td>104</td><td>1</td><td>2.3</td><td>63.117812</td><td>55.186619</td><td>71.551496</td><td>9.25382</td><td>8.031688</td><td>10.945304</td><td>8233502</td><td>8500157</td><td>-1.488419</td><td>-1.156983</td><td>2.151716</td><td>1.459651</td></tr><tr><td>&quot;EBL1&quot;</td><td>1</td><td>118</td><td>111</td><td>1</td><td>0.9</td><td>26.397595</td><td>24.880466</td><td>28.629044</td><td>4.703296</td><td>4.341807</td><td>5.389536</td><td>8514018</td><td>8618976</td><td>-1.10189</td><td>-0.709662</td><td>2.151716</td><td>1.753553</td></tr><tr><td>&quot;WBL1&quot;</td><td>2</td><td>55184</td><td>124</td><td>0</td><td>0.6</td><td>286.771659</td><td>285.628453</td><td>287.976949</td><td>27.168395</td><td>26.128382</td><td>28.09164</td><td>2372112</td><td>2611785</td><td>0.0</td><td>0.0</td><td>0.0</td><td>0.0</td></tr><tr><td>&quot;EBL1&quot;</td><td>0</td><td>144</td><td>139</td><td>0</td><td>57.3</td><td>33.160529</td><td>21.742096</td><td>49.428357</td><td>1.740817</td><td>1.192503</td><td>2.710754</td><td>341928</td><td>18900487</td><td>-0.787258</td><td>1.127892</td><td>2.239784</td><td>2.00647</td></tr><tr><td>&quot;WBL1&quot;</td><td>1</td><td>137</td><td>129</td><td>0</td><td>1.1</td><td>46.621635</td><td>45.869636</td><td>46.965338</td><td>5.468691</td><td>4.60582</td><td>5.817385</td><td>6838456</td><td>6976774</td><td>0.397081</td><td>0.527782</td><td>2.745465</td><td>2.877004</td></tr><tr><td>&hellip;</td><td>&hellip;</td><td>&hellip;</td><td>&hellip;</td><td>&hellip;</td><td>&hellip;</td><td>&hellip;</td><td>&hellip;</td><td>&hellip;</td><td>&hellip;</td><td>&hellip;</td><td>&hellip;</td><td>&hellip;</td><td>&hellip;</td><td>&hellip;</td><td>&hellip;</td><td>&hellip;</td><td>&hellip;</td></tr><tr><td>&quot;WBL1&quot;</td><td>1</td><td>45026</td><td>46139</td><td>0</td><td>2.5</td><td>481.529858</td><td>462.724949</td><td>502.011535</td><td>-1769.226217</td><td>-15769.535712</td><td>7811.018759</td><td>9405591</td><td>9469158</td><td>-1.258881</td><td>-0.278185</td><td>5.70767</td><td>0.0</td></tr><tr><td>&quot;WBL1&quot;</td><td>0</td><td>45076</td><td>45077</td><td>0</td><td>1.3</td><td>218.069876</td><td>216.688553</td><td>220.446</td><td>16.823546</td><td>16.131338</td><td>17.232935</td><td>6679209</td><td>6934259</td><td>0.877829</td><td>0.967407</td><td>2.330508</td><td>2.165266</td></tr><tr><td>&quot;WBL1&quot;</td><td>0</td><td>64291</td><td>45106</td><td>0</td><td>2.8</td><td>60.492121</td><td>59.141395</td><td>64.070428</td><td>35.679308</td><td>17.728946</td><td>62.406332</td><td>1342473</td><td>1415750</td><td>-0.88691</td><td>-0.391097</td><td>0.0</td><td>2.406443</td></tr><tr><td>&quot;WBL1&quot;</td><td>0</td><td>45125</td><td>45126</td><td>1</td><td>13.0</td><td>29.399075</td><td>19.638355</td><td>38.122364</td><td>2.319856</td><td>1.772441</td><td>3.352595</td><td>1994502</td><td>5233696</td><td>-0.576143</td><td>1.329556</td><td>0.0</td><td>2.441064</td></tr><tr><td>&quot;EBL1&quot;</td><td>1</td><td>45140</td><td>45139</td><td>0</td><td>10.1</td><td>37.001645</td><td>31.369285</td><td>50.429449</td><td>8.593069</td><td>6.252972</td><td>11.241902</td><td>8538034</td><td>9726170</td><td>-1.264405</td><td>0.988855</td><td>2.513644</td><td>2.118512</td></tr><tr><td>&quot;WBL1&quot;</td><td>2</td><td>45154</td><td>45135</td><td>0</td><td>0.5</td><td>644.814489</td><td>639.737372</td><td>649.648933</td><td>187.914475</td><td>162.531391</td><td>213.901234</td><td>5913347</td><td>5936653</td><td>0.849833</td><td>0.99246</td><td>2.018147</td><td>2.348995</td></tr><tr><td>&quot;EBL1&quot;</td><td>1</td><td>45151</td><td>48927</td><td>0</td><td>0.7</td><td>168.219229</td><td>164.718631</td><td>171.501999</td><td>10.948202</td><td>10.900262</td><td>11.003601</td><td>15165205</td><td>15360059</td><td>-0.493965</td><td>-0.386829</td><td>0.0</td><td>0.0</td></tr><tr><td>&quot;EBL1&quot;</td><td>2</td><td>45153</td><td>45163</td><td>0</td><td>1.6</td><td>283.199085</td><td>280.218945</td><td>286.292709</td><td>40.508382</td><td>35.94964</td><td>47.815006</td><td>7104388</td><td>7284803</td><td>-1.351776</td><td>-0.608397</td><td>2.244851</td><td>2.06949</td></tr><tr><td>&quot;WBL1&quot;</td><td>0</td><td>45170</td><td>45165</td><td>1</td><td>1.0</td><td>140.187238</td><td>139.445767</td><td>140.782962</td><td>5.900845</td><td>5.795302</td><td>6.008844</td><td>5156297</td><td>5499281</td><td>-0.26228</td><td>0.265808</td><td>2.679877</td><td>2.873524</td></tr><tr><td>&quot;EBL1&quot;</td><td>2</td><td>73630</td><td>45163</td><td>0</td><td>0.3</td><td>506.434711</td><td>504.460916</td><td>508.556724</td><td>60.536096</td><td>60.363997</td><td>60.673425</td><td>8489114</td><td>8535987</td><td>0.127134</td><td>0.200033</td><td>0.0</td><td>2.06949</td></tr><tr><td>&quot;WBL1&quot;</td><td>1</td><td>45171</td><td>47582</td><td>0</td><td>6.5</td><td>168.178266</td><td>152.355077</td><td>183.191715</td><td>7.390747</td><td>6.718335</td><td>7.970721</td><td>11088940</td><td>13259044</td><td>-0.126781</td><td>0.396175</td><td>2.426059</td><td>0.0</td></tr><tr><td>&quot;WBL1&quot;</td><td>0</td><td>67080</td><td>45174</td><td>0</td><td>0.5</td><td>568.086426</td><td>563.662806</td><td>572.611003</td><td>422.93577</td><td>388.521297</td><td>481.356422</td><td>2190550</td><td>2193634</td><td>-0.255513</td><td>0.146077</td><td>0.0</td><td>2.508797</td></tr></tbody></table></div>"
      ],
      "text/plain": [
       "shape: (267_923, 18)\n",
       "┌──────┬────────────┬────────────┬────────────┬───┬────────────┬───────────┬───────────┬───────────┐\n",
       "│ lane ┆ lane_index ┆ vehicle_id ┆ vehicle_id ┆ … ┆ min_accele ┆ max_accel ┆ associati ┆ associati │\n",
       "│ ---  ┆ ---        ┆ ---        ┆ _leader    ┆   ┆ ration     ┆ eration   ┆ on_distan ┆ on_distan │\n",
       "│ str  ┆ u16        ┆ u64        ┆ ---        ┆   ┆ ---        ┆ ---       ┆ ce        ┆ ce_leader │\n",
       "│      ┆            ┆            ┆ u64        ┆   ┆ f64        ┆ f64       ┆ ---       ┆ ---       │\n",
       "│      ┆            ┆            ┆            ┆   ┆            ┆           ┆ f32       ┆ f32       │\n",
       "╞══════╪════════════╪════════════╪════════════╪═══╪════════════╪═══════════╪═══════════╪═══════════╡\n",
       "│ WBL1 ┆ 2          ┆ 72713      ┆ 23         ┆ … ┆ -1.21912   ┆ -0.942488 ┆ 0.0       ┆ 1.710295  │\n",
       "│ EBL1 ┆ 1          ┆ 25         ┆ 11         ┆ … ┆ -0.176983  ┆ -0.176983 ┆ 1.950241  ┆ 2.253739  │\n",
       "│ EBL1 ┆ 0          ┆ 48617      ┆ 27         ┆ … ┆ -0.001221  ┆ 0.000282  ┆ 0.0       ┆ 2.767724  │\n",
       "│ WBL1 ┆ 0          ┆ 51088      ┆ 69         ┆ … ┆ -0.148945  ┆ 0.0       ┆ 0.0       ┆ 2.8986    │\n",
       "│ …    ┆ …          ┆ …          ┆ …          ┆ … ┆ …          ┆ …         ┆ …         ┆ …         │\n",
       "│ WBL1 ┆ 0          ┆ 45170      ┆ 45165      ┆ … ┆ -0.26228   ┆ 0.265808  ┆ 2.679877  ┆ 2.873524  │\n",
       "│ EBL1 ┆ 2          ┆ 73630      ┆ 45163      ┆ … ┆ 0.127134   ┆ 0.200033  ┆ 0.0       ┆ 2.06949   │\n",
       "│ WBL1 ┆ 1          ┆ 45171      ┆ 47582      ┆ … ┆ -0.126781  ┆ 0.396175  ┆ 2.426059  ┆ 0.0       │\n",
       "│ WBL1 ┆ 0          ┆ 67080      ┆ 45174      ┆ … ┆ -0.255513  ┆ 0.146077  ┆ 0.0       ┆ 2.508797  │\n",
       "└──────┴────────────┴────────────┴────────────┴───┴────────────┴───────────┴───────────┴───────────┘"
      ]
     },
     "execution_count": 8,
     "metadata": {},
     "output_type": "execute_result"
    }
   ],
   "source": [
    "lf_df"
   ]
  },
  {
   "cell_type": "code",
   "execution_count": 9,
   "metadata": {},
   "outputs": [],
   "source": [
    "save_df = lf_df.filter(\n",
    "    (pl.col(\"time_diff\") > 10) &\n",
    "    (pl.col(\"time_headway\") < 10)\n",
    "    & (pl.col(\"time_headway_min\") > 0.5)\n",
    "    & (pl.col(\"association_distance\") < 5)\n",
    "    & (pl.col(\"association_distance_leader\") < 5)\n",
    "    & (pl.col('min_acceleration') < -0.5)\n",
    "    & (pl.col('max_acceleration') > 0.5)\n",
    ")"
   ]
  },
  {
   "cell_type": "code",
   "execution_count": 10,
   "metadata": {},
   "outputs": [
    {
     "data": {
      "text/plain": [
       "(11564, 18)"
      ]
     },
     "execution_count": 10,
     "metadata": {},
     "output_type": "execute_result"
    }
   ],
   "source": [
    "save_df.shape"
   ]
  },
  {
   "cell_type": "code",
   "execution_count": 11,
   "metadata": {},
   "outputs": [
    {
     "data": {
      "text/plain": [
       "array([[<Axes: title={'center': 'time_diff'}>]], dtype=object)"
      ]
     },
     "execution_count": 11,
     "metadata": {},
     "output_type": "execute_result"
    },
    {
     "data": {
      "image/png": "[encoded data removed]",
      "text/plain": [
       "<Figure size 640x480 with 1 Axes>"
      ]
     },
     "metadata": {},
     "output_type": "display_data"
    }
   ],
   "source": [
    "save_df[['time_diff']].to_pandas().hist(bins=100)"
   ]
  },
  {
   "cell_type": "code",
   "execution_count": 12,
   "metadata": {},
   "outputs": [
    {
     "data": {
      "text/html": [
       "<div><style>\n",
       ".dataframe > thead > tr,\n",
       ".dataframe > tbody > tr {\n",
       "  text-align: right;\n",
       "  white-space: pre-wrap;\n",
       "}\n",
       "</style>\n",
       "<small>shape: (5, 18)</small><table border=\"1\" class=\"dataframe\"><thead><tr><th>lane</th><th>lane_index</th><th>vehicle_id</th><th>vehicle_id_leader</th><th>other_leader</th><th>time_diff</th><th>dist_diff</th><th>dist_diff_min</th><th>dist_diff_max</th><th>time_headway</th><th>time_headway_min</th><th>time_headway_max</th><th>start_index</th><th>end_index</th><th>min_acceleration</th><th>max_acceleration</th><th>association_distance</th><th>association_distance_leader</th></tr><tr><td>str</td><td>u16</td><td>u64</td><td>u64</td><td>u32</td><td>f64</td><td>f64</td><td>f64</td><td>f64</td><td>f64</td><td>f64</td><td>f64</td><td>u32</td><td>u32</td><td>f64</td><td>f64</td><td>f32</td><td>f32</td></tr></thead><tbody><tr><td>&quot;EBL1&quot;</td><td>0</td><td>144</td><td>139</td><td>0</td><td>57.3</td><td>33.160529</td><td>21.742096</td><td>49.428357</td><td>1.740817</td><td>1.192503</td><td>2.710754</td><td>341928</td><td>18900487</td><td>-0.787258</td><td>1.127892</td><td>2.239784</td><td>2.00647</td></tr><tr><td>&quot;EBL1&quot;</td><td>0</td><td>139</td><td>151</td><td>0</td><td>34.4</td><td>76.96182</td><td>46.023159</td><td>108.750468</td><td>3.733635</td><td>2.372384</td><td>5.229238</td><td>5272315</td><td>17640962</td><td>-0.603123</td><td>0.792332</td><td>2.00647</td><td>2.100553</td></tr><tr><td>&quot;WBL1&quot;</td><td>0</td><td>357</td><td>348</td><td>0</td><td>43.4</td><td>118.510082</td><td>102.340347</td><td>131.089884</td><td>5.763535</td><td>5.03</td><td>6.440472</td><td>291318</td><td>15383450</td><td>-1.055965</td><td>0.910664</td><td>2.266083</td><td>2.383987</td></tr><tr><td>&quot;WBL1&quot;</td><td>0</td><td>321</td><td>317</td><td>0</td><td>13.8</td><td>171.35225</td><td>167.735925</td><td>181.654725</td><td>7.411262</td><td>7.025786</td><td>8.901469</td><td>12364953</td><td>17991403</td><td>-0.811996</td><td>1.044483</td><td>2.359867</td><td>2.335791</td></tr><tr><td>&quot;WBL1&quot;</td><td>0</td><td>331</td><td>344</td><td>1</td><td>24.5</td><td>102.954687</td><td>93.253229</td><td>115.523961</td><td>4.52974</td><td>3.720745</td><td>5.666955</td><td>8377156</td><td>18467913</td><td>-0.700989</td><td>0.962563</td><td>2.291537</td><td>2.750962</td></tr></tbody></table></div>"
      ],
      "text/plain": [
       "shape: (5, 18)\n",
       "┌──────┬────────────┬────────────┬────────────┬───┬────────────┬───────────┬───────────┬───────────┐\n",
       "│ lane ┆ lane_index ┆ vehicle_id ┆ vehicle_id ┆ … ┆ min_accele ┆ max_accel ┆ associati ┆ associati │\n",
       "│ ---  ┆ ---        ┆ ---        ┆ _leader    ┆   ┆ ration     ┆ eration   ┆ on_distan ┆ on_distan │\n",
       "│ str  ┆ u16        ┆ u64        ┆ ---        ┆   ┆ ---        ┆ ---       ┆ ce        ┆ ce_leader │\n",
       "│      ┆            ┆            ┆ u64        ┆   ┆ f64        ┆ f64       ┆ ---       ┆ ---       │\n",
       "│      ┆            ┆            ┆            ┆   ┆            ┆           ┆ f32       ┆ f32       │\n",
       "╞══════╪════════════╪════════════╪════════════╪═══╪════════════╪═══════════╪═══════════╪═══════════╡\n",
       "│ EBL1 ┆ 0          ┆ 144        ┆ 139        ┆ … ┆ -0.787258  ┆ 1.127892  ┆ 2.239784  ┆ 2.00647   │\n",
       "│ EBL1 ┆ 0          ┆ 139        ┆ 151        ┆ … ┆ -0.603123  ┆ 0.792332  ┆ 2.00647   ┆ 2.100553  │\n",
       "│ WBL1 ┆ 0          ┆ 357        ┆ 348        ┆ … ┆ -1.055965  ┆ 0.910664  ┆ 2.266083  ┆ 2.383987  │\n",
       "│ WBL1 ┆ 0          ┆ 321        ┆ 317        ┆ … ┆ -0.811996  ┆ 1.044483  ┆ 2.359867  ┆ 2.335791  │\n",
       "│ WBL1 ┆ 0          ┆ 331        ┆ 344        ┆ … ┆ -0.700989  ┆ 0.962563  ┆ 2.291537  ┆ 2.750962  │\n",
       "└──────┴────────────┴────────────┴────────────┴───┴────────────┴───────────┴───────────┴───────────┘"
      ]
     },
     "execution_count": 12,
     "metadata": {},
     "output_type": "execute_result"
    }
   ],
   "source": [
    "save_df.head()"
   ]
  },
  {
   "cell_type": "code",
   "execution_count": 13,
   "metadata": {},
   "outputs": [],
   "source": [
    "# lf_df.select([\"vehicle_id_leader\", \"vehicle_id\", \"association_distance\", \"association_distance_leader\"]).filter(\n",
    "#     (pl.col(\"association_distance\") < 5)\n",
    "#      & (pl.col(\"association_distance_leader\") < 5)\n",
    "# ).write_parquet(\n",
    "#     \"/Bit\"   \n",
    "# )"
   ]
  },
  {
   "cell_type": "code",
   "execution_count": 46,
   "metadata": {},
   "outputs": [
    {
     "name": "stderr",
     "output_type": "stream",
     "text": [
      "/tmp/ipykernel_3654349/3328002589.py:76: DeprecationWarning:\n",
      "\n",
      "`milliseconds` is deprecated. It has been renamed to `total_milliseconds`.\n",
      "\n"
     ]
    }
   ],
   "source": [
    "from statsmodels.nonparametric.smoothers_lowess import lowess\n",
    "\n",
    "def add_lowes(df: pl.DataFrame, col: str, time_col: str) -> pl.DataFrame:\n",
    "    return df.with_columns(\n",
    "        pl.struct([f\"{col}\", time_col])\n",
    "        .map_elements(\n",
    "            lambda x: pl.Series(\n",
    "                values=lowess(\n",
    "                    x.struct[f\"{col}\"],\n",
    "                    x.struct[time_col],\n",
    "                    frac=1 / 3,\n",
    "                    it=2,\n",
    "                    is_sorted=True,\n",
    "                )[:, 1]\n",
    "            ),\n",
    "            # strategy=\"threading\"\n",
    "        )\n",
    "        .over(\"vehicle_id\")\n",
    "        .alias(f\"{col}_lowes\")\n",
    "    )\n",
    "\n",
    "\n",
    "vehicle_id = 16\n",
    "follower_id = vehicle_id\n",
    "\n",
    "traj_df = processed_traj_df.sort([\"epoch_time\", \"front_s_smooth\"])\n",
    "\n",
    "plot_df = (\n",
    "    traj_df\n",
    "    .filter((pl.col(\"vehicle_id\") == follower_id))\n",
    "    .join_asof(\n",
    "        traj_df.with_context(\n",
    "            lf_df.select([\"vehicle_id_leader\", \"vehicle_id\", \"association_distance\", \"association_distance_leader\"])\n",
    "            .lazy()\n",
    "            .filter(\n",
    "                (pl.col(\"vehicle_id\") == follower_id)\n",
    "                & (pl.col(\"association_distance\") < 5)\n",
    "                & (pl.col(\"association_distance_leader\") < 5)\n",
    "            )\n",
    "        )\n",
    "        .filter(\n",
    "            (pl.col(\"vehicle_id\").is_in(pl.col(\"vehicle_id_leader\")))\n",
    "            & (pl.col(\"vehicle_id\") != follower_id)\n",
    "        )\n",
    "        .select(\n",
    "            [\n",
    "                \"front_s_smooth\",\n",
    "                pl.col(\"front_s_smooth\").alias(\"front_s_smooth_leader\"),\n",
    "                \"epoch_time\",\n",
    "                \"lane\",\n",
    "                \"lane_index\",\n",
    "                \"s_velocity_smooth\",\n",
    "                pl.col(\"vehicle_id\").alias(\"vehicle_id_leader\"),\n",
    "            ]\n",
    "        ),\n",
    "        on=\"front_s_smooth\",\n",
    "        by=[\"epoch_time\", \"lane\", \"lane_index\"],\n",
    "        strategy=\"forward\",\n",
    "        suffix=\"_leader\",\n",
    "    )\n",
    "    .filter(\n",
    "        pl.col(\"epoch_time\").is_between(\n",
    "            pl.col(\"epoch_time\")\n",
    "            .filter(pl.col(\"vehicle_id_leader\").is_not_null())\n",
    "            .first(),\n",
    "            pl.col(\"epoch_time\")\n",
    "            .filter(pl.col(\"vehicle_id_leader\").is_not_null())\n",
    "            .last(),\n",
    "        )\n",
    "    )\n",
    "    # .with_columns(pl.col(\"vehicle_id_leader\").cast(str).unique().str.concat(\"_\"))\n",
    "    .with_columns(\n",
    "        # pl.col(\"vehicle_id_leader\").cast(str).unique().str.concat(\"_\"),\n",
    "        # (pl.col(\"ci_front_s\").max() - pl.col(\"ci_front_s\")),\n",
    "        (\n",
    "            (pl.col(\"epoch_time\") - pl.col(\"epoch_time\").first()).dt.milliseconds()\n",
    "            / 1000\n",
    "        ).alias(\"sim_time\"),\n",
    "        # pl.col([\"front_s_smooth\", \"front_s_smooth_leader\"]).map_batches(\n",
    "        #     lambda col: col.shift_and_fill(\n",
    "        #         pl.col(col.name).first() - pl.col(\"s_velocity_smooth\").first() * 0.1\n",
    "        #     ).over(\"vehicle_id\")\n",
    "        # ),\n",
    "        # *(\n",
    "        #     pl.col(f\"front_s_smooth{ext}\")\n",
    "        #     .shift_and_fill(\n",
    "        #         pl.col(f\"front_s_smooth{ext}\").first()\n",
    "        #         - pl.col(f\"s_velocity_smooth{ext}\").first() * 0.1\n",
    "        #     )\n",
    "        #     .over(f\"vehicle_id{ext}\")\n",
    "        #     for ext in [\"\", \"_leader\"]\n",
    "        # ),\n",
    "    )\n",
    "    .pipe(add_lowes, \"front_s_smooth\", \"sim_time\")\n",
    "    .pipe(add_lowes, \"s_velocity_smooth\", \"sim_time\")\n",
    "    .pipe(add_lowes, \"front_s_smooth_leader\", \"sim_time\")\n",
    "    .pipe(add_lowes, \"s_velocity_smooth_leader\", \"sim_time\")\n",
    "    .collect()\n",
    "\n",
    "    .sort(\"epoch_time\")\n",
    "    # .collect()\n",
    ")\n",
    "\n",
    "\n",
    "# plot_df = (\n",
    "#     processed_traj_df.filter(pl.col(\"vehicle_id\").is_in([vehicle_id]))\n",
    "#     .join_asof(\n",
    "#         processed_traj_df.with_context(\n",
    "#             bad_leaders.lazy().filter(pl.col(\"vehicle_id\") == vehicle_id).select(\n",
    "#                 pl.all().name.suffix(\"_bad\")\n",
    "#             )\n",
    "#         )\n",
    "#         .filter(\n",
    "#             (\n",
    "#                 (pl.col('vehicle_id') != vehicle_id)\n",
    "#                 & (~pl.col(\"vehicle_id\").is_in(pl.col(\"vehicle_id_leader_bad\")))\n",
    "#             )\n",
    "#         )\n",
    "#         # .sort([\"epoch_time\", \"front_s_smooth\"])\n",
    "#         .select([\"vehicle_id\", \"front_s_smooth\", \"merge_hash\"])\n",
    "#         .with_columns(pl.col(\"front_s_smooth\").alias(\"front_s_smooth_leader\")),\n",
    "#         on=\"front_s_smooth\",\n",
    "#         by=[\"merge_hash\"],\n",
    "#         strategy=\"forward\",\n",
    "#         allow_parallel=False\n",
    "#     )\n",
    "#     .collect()\n",
    "# )"
   ]
  },
  {
   "cell_type": "code",
   "execution_count": 47,
   "metadata": {},
   "outputs": [
    {
     "data": {
      "text/html": [
       "<div><style>\n",
       ".dataframe > thead > tr,\n",
       ".dataframe > tbody > tr {\n",
       "  text-align: right;\n",
       "  white-space: pre-wrap;\n",
       "}\n",
       "</style>\n",
       "<small>shape: (293, 16)</small><table border=\"1\" class=\"dataframe\"><thead><tr><th>epoch_time</th><th>lane</th><th>lane_index</th><th>s_velocity_smooth</th><th>vehicle_id</th><th>front_s_smooth</th><th>association_distance</th><th>length_s</th><th>front_s_smooth_leader</th><th>s_velocity_smooth_leader</th><th>vehicle_id_leader</th><th>sim_time</th><th>front_s_smooth_lowes</th><th>s_velocity_smooth_lowes</th><th>front_s_smooth_leader_lowes</th><th>s_velocity_smooth_leader_lowes</th></tr><tr><td>datetime[ms, UTC]</td><td>str</td><td>u16</td><td>f32</td><td>u64</td><td>f64</td><td>f32</td><td>f64</td><td>f64</td><td>f32</td><td>u64</td><td>f64</td><td>f64</td><td>f64</td><td>f64</td><td>f64</td></tr></thead><tbody><tr><td>2023-03-12 21:41:27.400 UTC</td><td>&quot;EBL1&quot;</td><td>0</td><td>4.081182</td><td>16</td><td>1152.681053</td><td>null</td><td>4.051945</td><td>1194.334744</td><td>2.709592</td><td>51482</td><td>0.0</td><td>1151.697595</td><td>0.50002</td><td>1194.881865</td><td>3.1493</td></tr><tr><td>2023-03-12 21:41:27.500 UTC</td><td>&quot;EBL1&quot;</td><td>0</td><td>4.019397</td><td>16</td><td>1153.086082</td><td>null</td><td>4.051945</td><td>1194.504115</td><td>2.839556</td><td>51482</td><td>0.1</td><td>1152.070438</td><td>0.580365</td><td>1194.841975</td><td>3.212108</td></tr><tr><td>2023-03-12 21:41:27.600 UTC</td><td>&quot;EBL1&quot;</td><td>0</td><td>3.893015</td><td>16</td><td>1153.439438</td><td>null</td><td>4.047107</td><td>1194.748393</td><td>2.981212</td><td>51482</td><td>0.2</td><td>1152.443811</td><td>0.660769</td><td>1194.802959</td><td>3.275003</td></tr><tr><td>2023-03-12 21:41:27.700 UTC</td><td>&quot;EBL1&quot;</td><td>0</td><td>3.712986</td><td>16</td><td>1153.871782</td><td>null</td><td>4.041534</td><td>1195.072366</td><td>3.128945</td><td>51482</td><td>0.3</td><td>1152.817729</td><td>0.74123</td><td>1194.764881</td><td>3.337994</td></tr><tr><td>2023-03-12 21:41:27.800 UTC</td><td>&quot;EBL1&quot;</td><td>0</td><td>3.492059</td><td>16</td><td>1154.305087</td><td>null</td><td>4.04505</td><td>1195.478089</td><td>3.282834</td><td>51482</td><td>0.4</td><td>1153.192208</td><td>0.82175</td><td>1194.727804</td><td>3.401088</td></tr><tr><td>2023-03-12 21:41:27.900 UTC</td><td>&quot;EBL1&quot;</td><td>0</td><td>3.240832</td><td>16</td><td>1154.513227</td><td>null</td><td>4.04029</td><td>1195.825096</td><td>3.435801</td><td>51482</td><td>0.5</td><td>1153.56726</td><td>0.902326</td><td>1194.691798</td><td>3.464295</td></tr><tr><td>2023-03-12 21:41:28 UTC</td><td>&quot;EBL1&quot;</td><td>0</td><td>2.973034</td><td>16</td><td>1154.840586</td><td>null</td><td>4.048717</td><td>1196.116693</td><td>3.586535</td><td>51482</td><td>0.6</td><td>1153.942897</td><td>0.98296</td><td>1194.656928</td><td>3.527625</td></tr><tr><td>2023-03-12 21:41:28.100 UTC</td><td>&quot;EBL1&quot;</td><td>0</td><td>2.70252</td><td>16</td><td>1155.159684</td><td>null</td><td>4.049711</td><td>1196.515389</td><td>3.731513</td><td>51482</td><td>0.7</td><td>1154.319129</td><td>1.06365</td><td>1194.623262</td><td>3.591089</td></tr><tr><td>2023-03-12 21:41:28.200 UTC</td><td>&quot;EBL1&quot;</td><td>0</td><td>2.443104</td><td>16</td><td>1155.331293</td><td>null</td><td>4.046856</td><td>1196.984142</td><td>3.865318</td><td>51482</td><td>0.8</td><td>1154.695965</td><td>1.144396</td><td>1194.59086</td><td>3.654696</td></tr><tr><td>2023-03-12 21:41:28.300 UTC</td><td>&quot;EBL1&quot;</td><td>0</td><td>2.2071</td><td>16</td><td>1155.51036</td><td>null</td><td>4.049759</td><td>1197.458683</td><td>3.984882</td><td>51482</td><td>0.9</td><td>1155.07341</td><td>1.225195</td><td>1194.559779</td><td>3.718458</td></tr><tr><td>2023-03-12 21:41:28.400 UTC</td><td>&quot;EBL1&quot;</td><td>0</td><td>2.002112</td><td>16</td><td>1155.708484</td><td>null</td><td>4.049759</td><td>1197.818961</td><td>4.091638</td><td>51482</td><td>1.0</td><td>1155.451471</td><td>1.306046</td><td>1194.530068</td><td>3.782385</td></tr><tr><td>2023-03-12 21:41:28.500 UTC</td><td>&quot;EBL1&quot;</td><td>0</td><td>1.832451</td><td>16</td><td>1155.98806</td><td>null</td><td>4.049759</td><td>1198.424545</td><td>4.187689</td><td>51482</td><td>1.1</td><td>1155.830153</td><td>1.386941</td><td>1194.501768</td><td>3.846486</td></tr><tr><td>&hellip;</td><td>&hellip;</td><td>&hellip;</td><td>&hellip;</td><td>&hellip;</td><td>&hellip;</td><td>&hellip;</td><td>&hellip;</td><td>&hellip;</td><td>&hellip;</td><td>&hellip;</td><td>&hellip;</td><td>&hellip;</td><td>&hellip;</td><td>&hellip;</td><td>&hellip;</td></tr><tr><td>2023-03-12 21:41:55.500 UTC</td><td>&quot;EBL1&quot;</td><td>0</td><td>13.605354</td><td>16</td><td>1407.433481</td><td>null</td><td>5.941708</td><td>1454.327628</td><td>11.791181</td><td>50353</td><td>28.1</td><td>1406.936515</td><td>13.312517</td><td>1445.109425</td><td>11.940139</td></tr><tr><td>2023-03-12 21:41:55.600 UTC</td><td>&quot;EBL1&quot;</td><td>0</td><td>13.640247</td><td>16</td><td>1408.795785</td><td>null</td><td>5.941708</td><td>1455.508292</td><td>11.820671</td><td>50353</td><td>28.2</td><td>1408.187397</td><td>13.333807</td><td>1446.216246</td><td>11.993878</td></tr><tr><td>2023-03-12 21:41:55.700 UTC</td><td>&quot;EBL1&quot;</td><td>0</td><td>13.669449</td><td>16</td><td>1410.161107</td><td>null</td><td>5.940411</td><td>1456.692008</td><td>11.853529</td><td>50353</td><td>28.3</td><td>1409.438676</td><td>13.355261</td><td>1447.325287</td><td>12.047546</td></tr><tr><td>2023-03-12 21:41:55.800 UTC</td><td>&quot;EBL1&quot;</td><td>0</td><td>13.691819</td><td>16</td><td>1411.499255</td><td>null</td><td>5.942206</td><td>1457.878986</td><td>11.882154</td><td>50353</td><td>28.4</td><td>1410.690368</td><td>13.37688</td><td>1448.436581</td><td>12.101134</td></tr><tr><td>2023-03-12 21:41:55.900 UTC</td><td>&quot;EBL1&quot;</td><td>0</td><td>13.706157</td><td>16</td><td>1412.869241</td><td>null</td><td>5.94319</td><td>1459.08427</td><td>11.898044</td><td>50353</td><td>28.5</td><td>1411.942487</td><td>13.398666</td><td>1449.550149</td><td>12.154632</td></tr><tr><td>2023-03-12 21:41:56 UTC</td><td>&quot;EBL1&quot;</td><td>0</td><td>13.713993</td><td>16</td><td>1414.240213</td><td>null</td><td>5.943188</td><td>1460.274212</td><td>11.901223</td><td>50353</td><td>28.6</td><td>1413.195043</td><td>13.420618</td><td>1450.666004</td><td>12.208032</td></tr><tr><td>2023-03-12 21:41:56.100 UTC</td><td>&quot;EBL1&quot;</td><td>0</td><td>13.718379</td><td>16</td><td>1415.611795</td><td>null</td><td>5.943188</td><td>1461.464397</td><td>11.902615</td><td>50353</td><td>28.7</td><td>1414.448046</td><td>13.442735</td><td>1451.78415</td><td>12.261327</td></tr><tr><td>2023-03-12 21:41:56.200 UTC</td><td>&quot;EBL1&quot;</td><td>0</td><td>13.722557</td><td>16</td><td>1416.983743</td><td>null</td><td>5.943188</td><td>1462.654951</td><td>11.906457</td><td>50353</td><td>28.8</td><td>1415.701502</td><td>13.465014</td><td>1452.90458</td><td>12.314511</td></tr><tr><td>2023-03-12 21:41:56.300 UTC</td><td>&quot;EBL1&quot;</td><td>0</td><td>13.728413</td><td>16</td><td>1418.356302</td><td>null</td><td>5.943188</td><td>1463.845869</td><td>11.91069</td><td>50353</td><td>28.9</td><td>1416.955415</td><td>13.487455</td><td>1454.027279</td><td>12.367579</td></tr><tr><td>2023-03-12 21:41:56.400 UTC</td><td>&quot;EBL1&quot;</td><td>0</td><td>13.73562</td><td>16</td><td>1419.72962</td><td>null</td><td>5.944476</td><td>1465.036909</td><td>11.910309</td><td>50353</td><td>29.0</td><td>1418.209784</td><td>13.510053</td><td>1455.15222</td><td>12.420527</td></tr><tr><td>2023-03-12 21:41:56.500 UTC</td><td>&quot;EBL1&quot;</td><td>0</td><td>13.741848</td><td>16</td><td>1421.079245</td><td>null</td><td>5.940849</td><td>1466.227341</td><td>11.900271</td><td>50353</td><td>29.1</td><td>1419.464608</td><td>13.532806</td><td>1456.279371</td><td>12.473352</td></tr><tr><td>2023-03-12 21:41:56.600 UTC</td><td>&quot;EBL1&quot;</td><td>0</td><td>13.745395</td><td>16</td><td>1422.453512</td><td>null</td><td>5.940849</td><td>1467.416306</td><td>11.876896</td><td>50353</td><td>29.2</td><td>1420.719882</td><td>13.555709</td><td>1457.408688</td><td>12.526054</td></tr></tbody></table></div>"
      ],
      "text/plain": [
       "shape: (293, 16)\n",
       "┌────────────┬──────┬────────────┬────────────┬───┬────────────┬───────────┬───────────┬───────────┐\n",
       "│ epoch_time ┆ lane ┆ lane_index ┆ s_velocity ┆ … ┆ front_s_sm ┆ s_velocit ┆ front_s_s ┆ s_velocit │\n",
       "│ ---        ┆ ---  ┆ ---        ┆ _smooth    ┆   ┆ ooth_lowes ┆ y_smooth_ ┆ mooth_lea ┆ y_smooth_ │\n",
       "│ datetime[m ┆ str  ┆ u16        ┆ ---        ┆   ┆ ---        ┆ lowes     ┆ der_lowes ┆ leader_lo │\n",
       "│ s, UTC]    ┆      ┆            ┆ f32        ┆   ┆ f64        ┆ ---       ┆ ---       ┆ wes       │\n",
       "│            ┆      ┆            ┆            ┆   ┆            ┆ f64       ┆ f64       ┆ ---       │\n",
       "│            ┆      ┆            ┆            ┆   ┆            ┆           ┆           ┆ f64       │\n",
       "╞════════════╪══════╪════════════╪════════════╪═══╪════════════╪═══════════╪═══════════╪═══════════╡\n",
       "│ 2023-03-12 ┆ EBL1 ┆ 0          ┆ 4.081182   ┆ … ┆ 1151.69759 ┆ 0.50002   ┆ 1194.8818 ┆ 3.1493    │\n",
       "│ 21:41:27.4 ┆      ┆            ┆            ┆   ┆ 5          ┆           ┆ 65        ┆           │\n",
       "│ 00 UTC     ┆      ┆            ┆            ┆   ┆            ┆           ┆           ┆           │\n",
       "│ 2023-03-12 ┆ EBL1 ┆ 0          ┆ 4.019397   ┆ … ┆ 1152.07043 ┆ 0.580365  ┆ 1194.8419 ┆ 3.212108  │\n",
       "│ 21:41:27.5 ┆      ┆            ┆            ┆   ┆ 8          ┆           ┆ 75        ┆           │\n",
       "│ 00 UTC     ┆      ┆            ┆            ┆   ┆            ┆           ┆           ┆           │\n",
       "│ 2023-03-12 ┆ EBL1 ┆ 0          ┆ 3.893015   ┆ … ┆ 1152.44381 ┆ 0.660769  ┆ 1194.8029 ┆ 3.275003  │\n",
       "│ 21:41:27.6 ┆      ┆            ┆            ┆   ┆ 1          ┆           ┆ 59        ┆           │\n",
       "│ 00 UTC     ┆      ┆            ┆            ┆   ┆            ┆           ┆           ┆           │\n",
       "│ 2023-03-12 ┆ EBL1 ┆ 0          ┆ 3.712986   ┆ … ┆ 1152.81772 ┆ 0.74123   ┆ 1194.7648 ┆ 3.337994  │\n",
       "│ 21:41:27.7 ┆      ┆            ┆            ┆   ┆ 9          ┆           ┆ 81        ┆           │\n",
       "│ 00 UTC     ┆      ┆            ┆            ┆   ┆            ┆           ┆           ┆           │\n",
       "│ …          ┆ …    ┆ …          ┆ …          ┆ … ┆ …          ┆ …         ┆ …         ┆ …         │\n",
       "│ 2023-03-12 ┆ EBL1 ┆ 0          ┆ 13.728413  ┆ … ┆ 1416.95541 ┆ 13.487455 ┆ 1454.0272 ┆ 12.367579 │\n",
       "│ 21:41:56.3 ┆      ┆            ┆            ┆   ┆ 5          ┆           ┆ 79        ┆           │\n",
       "│ 00 UTC     ┆      ┆            ┆            ┆   ┆            ┆           ┆           ┆           │\n",
       "│ 2023-03-12 ┆ EBL1 ┆ 0          ┆ 13.73562   ┆ … ┆ 1418.20978 ┆ 13.510053 ┆ 1455.1522 ┆ 12.420527 │\n",
       "│ 21:41:56.4 ┆      ┆            ┆            ┆   ┆ 4          ┆           ┆ 2         ┆           │\n",
       "│ 00 UTC     ┆      ┆            ┆            ┆   ┆            ┆           ┆           ┆           │\n",
       "│ 2023-03-12 ┆ EBL1 ┆ 0          ┆ 13.741848  ┆ … ┆ 1419.46460 ┆ 13.532806 ┆ 1456.2793 ┆ 12.473352 │\n",
       "│ 21:41:56.5 ┆      ┆            ┆            ┆   ┆ 8          ┆           ┆ 71        ┆           │\n",
       "│ 00 UTC     ┆      ┆            ┆            ┆   ┆            ┆           ┆           ┆           │\n",
       "│ 2023-03-12 ┆ EBL1 ┆ 0          ┆ 13.745395  ┆ … ┆ 1420.71988 ┆ 13.555709 ┆ 1457.4086 ┆ 12.526054 │\n",
       "│ 21:41:56.6 ┆      ┆            ┆            ┆   ┆ 2          ┆           ┆ 88        ┆           │\n",
       "│ 00 UTC     ┆      ┆            ┆            ┆   ┆            ┆           ┆           ┆           │\n",
       "└────────────┴──────┴────────────┴────────────┴───┴────────────┴───────────┴───────────┴───────────┘"
      ]
     },
     "execution_count": 47,
     "metadata": {},
     "output_type": "execute_result"
    }
   ],
   "source": [
    "plot_df"
   ]
  },
  {
   "cell_type": "markdown",
   "metadata": {},
   "source": [
    "## Plot some of the Vehicle Trajectories"
   ]
  },
  {
   "cell_type": "code",
   "execution_count": 49,
   "metadata": {},
   "outputs": [
    {
     "data": {
      "application/vnd.plotly.v1+json": {
       "config": {
        "plotlyServerURL": "https://plot.ly"
       },
       "data": [
        {
         "mode": "lines",
         "name": "vehicle_id: 16",
         "type": "scatter",
         "x": [
          0,
          0.1,
          0.2,
          0.3,
          0.4,
          0.5,
          0.6,
          0.7,
          0.8,
          0.9,
          1,
          1.1,
          1.2,
          1.3,
          1.4,
          1.5,
          1.6,
          1.7,
          1.8,
          1.9,
          2,
          2.1,
          2.2,
          2.3,
          2.4,
          2.5,
          2.6,
          2.7,
          2.8,
          2.9,
          3,
          3.1,
          3.2,
          3.3,
          3.4,
          3.5,
          3.6,
          3.7,
          3.8,
          3.9,
          4,
          4.1,
          4.2,
          4.3,
          4.4,
          4.5,
          4.6,
          4.7,
          4.8,
          4.9,
          5,
          5.1,
          5.2,
          5.3,
          5.4,
          5.5,
          5.6,
          5.7,
          5.8,
          5.9,
          6,
          6.1,
          6.2,
          6.3,
          6.4,
          6.5,
          6.6,
          6.7,
          6.8,
          6.9,
          7,
          7.1,
          7.2,
          7.3,
          7.4,
          7.5,
          7.6,
          7.7,
          7.8,
          7.9,
          8,
          8.1,
          8.2,
          8.3,
          8.4,
          8.5,
          8.6,
          8.7,
          8.8,
          8.9,
          9,
          9.1,
          9.2,
          9.3,
          9.4,
          9.5,
          9.6,
          9.7,
          9.8,
          9.9,
          10,
          10.1,
          10.2,
          10.3,
          10.4,
          10.5,
          10.6,
          10.7,
          10.8,
          10.9,
          11,
          11.1,
          11.2,
          11.3,
          11.4,
          11.5,
          11.6,
          11.7,
          11.8,
          11.9,
          12,
          12.1,
          12.2,
          12.3,
          12.4,
          12.5,
          12.6,
          12.7,
          12.8,
          12.9,
          13,
          13.1,
          13.2,
          13.3,
          13.4,
          13.5,
          13.6,
          13.7,
          13.8,
          13.9,
          14,
          14.1,
          14.2,
          14.3,
          14.4,
          14.5,
          14.6,
          14.7,
          14.8,
          14.9,
          15,
          15.1,
          15.2,
          15.3,
          15.4,
          15.5,
          15.6,
          15.7,
          15.8,
          15.9,
          16,
          16.1,
          16.2,
          16.3,
          16.4,
          16.5,
          16.6,
          16.7,
          16.8,
          16.9,
          17,
          17.1,
          17.2,
          17.3,
          17.4,
          17.5,
          17.6,
          17.7,
          17.8,
          17.9,
          18,
          18.1,
          18.2,
          18.3,
          18.4,
          18.5,
          18.6,
          18.7,
          18.8,
          18.9,
          19,
          19.1,
          19.2,
          19.3,
          19.4,
          19.5,
          19.6,
          19.7,
          19.8,
          19.9,
          20,
          20.1,
          20.2,
          20.3,
          20.4,
          20.5,
          20.6,
          20.7,
          20.8,
          20.9,
          21,
          21.1,
          21.2,
          21.3,
          21.4,
          21.5,
          21.6,
          21.7,
          21.8,
          21.9,
          22,
          22.1,
          22.2,
          22.3,
          22.4,
          22.5,
          22.6,
          22.7,
          22.8,
          22.9,
          23,
          23.1,
          23.2,
          23.3,
          23.4,
          23.5,
          23.6,
          23.7,
          23.8,
          23.9,
          24,
          24.1,
          24.2,
          24.3,
          24.4,
          24.5,
          24.6,
          24.7,
          24.8,
          24.9,
          25,
          25.1,
          25.2,
          25.3,
          25.4,
          25.5,
          25.6,
          25.7,
          25.8,
          25.9,
          26,
          26.1,
          26.2,
          26.3,
          26.4,
          26.5,
          26.6,
          26.7,
          26.8,
          26.9,
          27,
          27.1,
          27.2,
          27.3,
          27.4,
          27.5,
          27.6,
          27.7,
          27.8,
          27.9,
          28,
          28.1,
          28.2,
          28.3,
          28.4,
          28.5,
          28.6,
          28.7,
          28.8,
          28.9,
          29,
          29.1,
          29.2
         ],
         "y": [
          1151.6975948115848,
          1152.0704382107492,
          1152.443810881451,
          1152.8177291540364,
          1153.1922078281557,
          1153.5672600595938,
          1153.9428972864002,
          1154.3191293594427,
          1154.695964610093,
          1155.073409942187,
          1155.451471113387,
          1155.8301530700892,
          1156.2094602456332,
          1156.5893967458292,
          1156.9699665094627,
          1157.3511734955493,
          1157.7330217696447,
          1158.1155154444614,
          1158.49865866112,
          1158.882455655321,
          1159.2669105084444,
          1159.6520267392875,
          1160.0378070605493,
          1160.4242532716653,
          1160.811366100822,
          1161.1991452333996,
          1161.5875894231062,
          1161.9766963357933,
          1162.366462275435,
          1162.7568819698452,
          1163.1479483981004,
          1163.5396526857783,
          1163.931984101447,
          1164.32492992062,
          1164.7184750966157,
          1165.1126019603025,
          1165.5072901422968,
          1165.9025167638204,
          1166.2982572433511,
          1166.6944872365207,
          1167.0911867743728,
          1167.48834838307,
          1167.8859914500656,
          1168.2841866441906,
          1168.6830941267026,
          1169.0830163882306,
          1169.4844537630527,
          1169.8881155310803,
          1170.2947604996518,
          1170.7475074826914,
          1171.205358118492,
          1171.6683739856724,
          1172.1366055311194,
          1172.6100936589382,
          1173.0888728925927,
          1173.5729761431116,
          1174.062444515832,
          1174.5573336526438,
          1175.0577172294725,
          1175.5636838928629,
          1176.0753282882965,
          1176.5927420102037,
          1177.116007447561,
          1177.6451887263604,
          1178.1803291688104,
          1178.7214507256306,
          1179.2685515236983,
          1179.821605064362,
          1180.380571775948,
          1180.9454112674234,
          1181.5160907253942,
          1182.092593281754,
          1182.6749298059947,
          1183.2631487295157,
          1183.8573352425485,
          1184.457607076505,
          1185.0641189765045,
          1185.677066721886,
          1186.296684638936,
          1186.9232380304468,
          1187.5570154683742,
          1188.1983177949649,
          1188.8474505515194,
          1189.5047176887485,
          1190.1704120034483,
          1190.8448073138984,
          1191.5281464904074,
          1192.2206273041536,
          1192.9223722238905,
          1193.6333730789995,
          1194.353551833074,
          1195.082775688798,
          1195.8208554836472,
          1196.5675402517716,
          1197.3225166749837,
          1198.0854002520189,
          1198.85572239157,
          1199.632977649986,
          1200.4167506171868,
          1201.2067238638876,
          1202.0026485841158,
          1202.8043137704562,
          1203.6115395493048,
          1204.4241811622792,
          1205.2421316205593,
          1206.0653160916631,
          1206.8936860320748,
          1207.7272176007384,
          1208.565908459819,
          1209.4097790981095,
          1210.2588580751826,
          1211.1131729454896,
          1211.9727545958594,
          1212.8376317651007,
          1213.7078325674795,
          1214.583384184573,
          1215.464304894916,
          1216.3506029589596,
          1217.2422843469085,
          1218.1393564530424,
          1219.0418279128667,
          1219.949705974251,
          1220.8629962948567,
          1221.7817089105297,
          1222.7058608675325,
          1223.635483644809,
          1224.5706270872013,
          1225.5113735342873,
          1226.457843540521,
          1227.4101883786277,
          1228.3685816376951,
          1229.3332179103363,
          1230.3042920570983,
          1231.2819732907483,
          1232.2663931025972,
          1233.257639517894,
          1234.2557541913231,
          1235.2607312591301,
          1236.2725148280854,
          1237.2909903199484,
          1238.3159877930696,
          1239.3472913951543,
          1240.3846577881195,
          1241.4278265880703,
          1242.476539236152,
          1243.5305500275372,
          1244.5896296980118,
          1245.6535673772619,
          1246.7221707510726,
          1247.7952604297022,
          1248.8726661364014,
          1249.9542231020382,
          1251.039775955829,
          1252.1291848727176,
          1253.2223335508586,
          1254.3191332476142,
          1255.4195198094826,
          1256.5234469144548,
          1257.6308853222226,
          1258.7418252092307,
          1259.8562772764578,
          1260.9742773913135,
          1262.0958770516681,
          1263.221130791035,
          1264.3500931344324,
          1265.4828023295577,
          1266.6192643237266,
          1267.7594594097275,
          1268.903361696725,
          1270.0509454278804,
          1271.202194820858,
          1272.3570975183675,
          1273.5156346210272,
          1274.6777748121935,
          1275.8434738440883,
          1277.0126641630304,
          1278.1852612894377,
          1279.3611689572358,
          1280.540275435887,
          1281.722445127957,
          1282.9075265992988,
          1284.0953594477996,
          1285.2857834280912,
          1286.4786455212559,
          1287.6738027645815,
          1288.8710917758058,
          1290.0703600409222,
          1291.2714857251685,
          1292.474387391528,
          1293.6790278685073,
          1294.8854077425242,
          1296.0935452444319,
          1297.3034417303827,
          1298.5150629663704,
          1299.7283700398527,
          1300.9433279954371,
          1302.1598963215888,
          1303.378015670659,
          1304.5976051483722,
          1305.8185638199627,
          1307.0407784350455,
          1308.2641248544044,
          1309.488467147812,
          1310.7136611997955,
          1311.939562984232,
          1313.1660400711944,
          1314.392970682031,
          1315.6202404398996,
          1316.847746150857,
          1318.0753912884943,
          1319.3030860430688,
          1320.5307483742472,
          1321.7582981467417,
          1322.9856547696997,
          1324.2127361524454,
          1325.4394599174698,
          1326.6657434905185,
          1327.8915060082322,
          1329.1166677709364,
          1330.3411560636696,
          1331.5649064678862,
          1332.7878648162994,
          1334.0099864720303,
          1335.2312430839056,
          1336.4516247704848,
          1337.6711365937654,
          1338.889800435761,
          1340.1076639767236,
          1341.3247989556833,
          1342.5412914412202,
          1343.7572374597808,
          1344.9727422382625,
          1346.1879225354307,
          1347.4029132909995,
          1348.617869382273,
          1349.832960795241,
          1351.0483674438242,
          1352.2642681939808,
          1353.4808365248857,
          1354.6982369251052,
          1355.9166247427768,
          1357.1361458252882,
          1358.3569363132483,
          1359.579124779804,
          1360.8028322907046,
          1362.0358151573485,
          1363.2729054310723,
          1364.5132698864488,
          1365.7560342437005,
          1367.0004766744953,
          1368.2460619213832,
          1369.4924139363861,
          1370.7392752508156,
          1371.9864711459618,
          1373.2338828790043,
          1374.481429282187,
          1375.7290548561302,
          1376.9767216858122,
          1378.224404171893,
          1379.4720856375368,
          1380.7197561124065,
          1381.9674109685618,
          1383.2150503101982,
          1384.4626782510488,
          1385.7103022848403,
          1386.957932804067,
          1388.205582719197,
          1389.4532671851612,
          1390.7010034820978,
          1391.9488108043124,
          1393.1967100234467,
          1394.4447233883755,
          1395.6928741966772,
          1396.941186605337,
          1398.1896854810257,
          1399.438396186724,
          1400.6873441775788,
          1401.9365547893115,
          1403.1860530835056,
          1404.4358636372713,
          1405.6860100861938,
          1406.936514510768,
          1408.1873971742164,
          1409.4386763580862,
          1410.690368198808,
          1411.9424865380013,
          1413.195042807031,
          1414.4480458924636,
          1415.7015020063338,
          1416.955414573165,
          1418.2097841354268,
          1419.464608278318,
          1420.7198815774882
         ]
        },
        {
         "mode": "lines",
         "name": "vehicle_id_leader: 10",
         "type": "scatter",
         "x": [
          14.3,
          14.4,
          14.5,
          14.6,
          14.7,
          14.8,
          14.9,
          15,
          15.5,
          15.6,
          15.7,
          15.8,
          15.9,
          16,
          16.1,
          16.2,
          16.3,
          16.4,
          16.5,
          16.6,
          16.7,
          16.8,
          16.9,
          17,
          17.1,
          17.2,
          17.3,
          17.4,
          17.5,
          17.6,
          17.7,
          17.8,
          17.9,
          18,
          18.1,
          18.2,
          18.3,
          18.4,
          18.5,
          18.6,
          18.7,
          18.8,
          18.9,
          19,
          19.1,
          19.2,
          19.3,
          19.4,
          19.5,
          19.6,
          19.7,
          19.8,
          19.9,
          20,
          20.1,
          20.2,
          20.3,
          20.4,
          20.5,
          20.6,
          20.7,
          20.8,
          20.9,
          21,
          21.1,
          21.2,
          21.3,
          21.4,
          21.5,
          21.6,
          21.7,
          21.8,
          21.9,
          22,
          22.1,
          22.2,
          22.3,
          22.4,
          22.5,
          22.6,
          22.7,
          22.8,
          22.9,
          23,
          23.1,
          23.2,
          23.3,
          23.4,
          23.5,
          23.6,
          23.7,
          23.8,
          23.9,
          24,
          24.1,
          24.2,
          24.3,
          24.4,
          24.5,
          24.6,
          24.7,
          24.8,
          24.9,
          25,
          25.1,
          25.2,
          25.3,
          25.4
         ],
         "y": [
          1285.7767266446506,
          1287.315177444546,
          1288.840007489695,
          1290.3567278220792,
          1291.8703177748434,
          1293.385555087079,
          1294.9073259532527,
          1296.4409377471377,
          1304.5448755832929,
          1306.328562627421,
          1308.2027701372365,
          1310.187666148081,
          1312.3032687160794,
          1314.5648790153564,
          1316.975190609914,
          1319.5132712294153,
          1322.123974105001,
          1324.7157002674983,
          1327.1750062696215,
          1329.3979399802759,
          1331.3232293737549,
          1332.9473889400585,
          1334.314630219041,
          1335.4923355388885,
          1336.5476727623513,
          1337.5339606800896,
          1338.4868499448025,
          1339.4266378407797,
          1340.3627839506034,
          1341.2985000950453,
          1342.234303522252,
          1343.1699391859752,
          1344.1051159907508,
          1345.0396088763894,
          1345.9732478235396,
          1346.9059084364867,
          1347.8375039754117,
          1348.7679779984505,
          1349.697300507219,
          1350.6254722700812,
          1351.5525309327772,
          1352.47855390891,
          1353.4036627336836,
          1354.3280198805862,
          1355.25182081746,
          1356.1752792196562,
          1357.0986128789777,
          1358.0220326640795,
          1358.9457352383463,
          1359.869897931197,
          1360.79467643097,
          1361.720202009035,
          1362.6465803495068,
          1363.573892429803,
          1364.502196217892,
          1365.4315282004372,
          1366.361905838424,
          1367.2933313949416,
          1368.2257947033377,
          1369.1592754624198,
          1370.0937450991385,
          1371.0291634658745,
          1371.9654655018157,
          1372.902566054567,
          1373.840368022231,
          1374.7787685736498,
          1375.7176639164006,
          1376.6569528577238,
          1377.5965391039247,
          1378.536335767447,
          1379.4762725974194,
          1380.4162997603842,
          1381.3563912288068,
          1382.2965471766306,
          1383.2367966270463,
          1384.177189683407,
          1385.11778749864,
          1386.058661264021,
          1386.999885718052,
          1387.9415322309967,
          1388.8836638149407,
          1389.8263458456952,
          1390.769659810161,
          1391.7137237786137,
          1392.6587364151164,
          1393.6049766391816,
          1394.5527907210635,
          1395.5025857058743,
          1396.454823637732,
          1397.4100082485986,
          1398.3686707334978,
          1399.3313552398586,
          1400.298600311422,
          1401.270928503282,
          1402.248843976058,
          1403.2328361904747,
          1404.2233937537521,
          1405.2210241051032,
          1406.235341800002,
          1407.2608696376237,
          1408.2971662615112,
          1409.3431366388859,
          1410.3973854418819,
          1411.4584533881361,
          1412.5249610852577,
          1413.5956859423125,
          1414.6695944495825,
          1415.745847055324
         ]
        },
        {
         "mode": "lines",
         "name": "vehicle_id: 10 raw",
         "type": "scatter",
         "x": [],
         "y": []
        },
        {
         "mode": "lines",
         "name": "vehicle_id_leader: 14",
         "type": "scatter",
         "x": [
          2.4,
          2.5,
          2.6,
          2.7,
          2.8,
          2.9,
          3,
          3.1,
          3.2,
          3.3,
          3.4,
          3.5,
          3.6,
          3.7,
          3.8,
          3.9,
          4,
          4.1,
          4.2,
          4.3,
          4.4,
          4.5,
          4.6,
          4.7,
          4.8,
          4.9,
          5,
          5.1,
          5.2,
          5.3,
          5.4,
          5.5,
          5.6,
          5.7,
          5.8,
          5.9,
          6,
          6.1,
          6.2,
          6.3,
          6.4,
          6.5,
          6.6,
          6.7,
          6.8,
          6.9,
          7,
          7.1,
          7.2,
          7.3,
          7.4,
          7.5,
          7.6,
          7.7,
          7.8,
          7.9,
          8,
          8.1,
          8.2,
          8.3,
          8.4,
          8.5,
          8.6,
          8.7,
          8.8,
          8.9,
          9,
          9.1,
          9.2,
          9.3,
          9.4,
          9.5,
          9.6,
          9.7,
          9.8,
          9.9,
          10,
          10.1,
          10.2,
          10.3,
          10.4,
          10.5,
          10.6,
          10.7,
          10.8,
          10.9,
          11,
          11.1,
          11.2,
          11.3,
          11.4,
          11.5,
          11.6,
          11.7,
          11.8,
          11.9,
          12,
          12.1,
          12.2,
          12.3,
          12.4,
          12.5,
          12.6,
          12.7,
          12.8,
          12.9,
          13,
          13.1,
          13.2,
          13.3,
          13.4,
          13.5,
          13.6,
          13.7,
          13.8,
          13.9,
          14,
          14.1,
          14.2,
          15.1,
          15.2,
          15.3,
          15.4
         ],
         "y": [
          1194.262833988585,
          1194.2526988276554,
          1194.2431002233195,
          1194.2337609225096,
          1194.2243324903598,
          1194.2143755789373,
          1194.2033335815008,
          1194.1904970677,
          1194.174955210834,
          1194.1555286234372,
          1194.1306752640946,
          1194.0983568078216,
          1194.055846190058,
          1193.999446532557,
          1193.9240752232054,
          1193.8226417411006,
          1193.6851114955057,
          1193.4971038293563,
          1193.2378493411495,
          1192.8774500892268,
          1192.3740535096808,
          1191.673929010465,
          1190.7238499357106,
          1189.5149984713196,
          1188.1612355915713,
          1187.5769713195282,
          1187.1638511518802,
          1186.9640545690354,
          1186.9896349300216,
          1187.2248266443767,
          1187.6356430308501,
          1188.1812372242712,
          1188.8228079254318,
          1189.528412268637,
          1190.2743204344272,
          1191.0443634349413,
          1191.8284780439117,
          1192.6209126576186,
          1193.4187457433632,
          1194.220746358223,
          1195.0265546672729,
          1195.8361374380477,
          1196.6495216666544,
          1197.4667222096098,
          1198.2877166199603,
          1199.1124347722148,
          1199.9407584411254,
          1200.7725335009186,
          1201.6075834590622,
          1202.4457218112673,
          1203.2867671108029,
          1204.130555306851,
          1204.9769448094632,
          1205.825811564083,
          1206.6770376906632,
          1207.530502710255,
          1208.3860790842825,
          1209.2436338794673,
          1210.1030361824737,
          1210.9641664071623,
          1211.826924862763,
          1212.6912383007254,
          1213.557063913303,
          1214.4243904733485,
          1215.2932374348302,
          1216.1636516109743,
          1217.0357018845182,
          1217.909472232493,
          1218.7850536388125,
          1219.6625343810329,
          1220.5419892233756,
          1221.4234697165043,
          1222.3070001231383,
          1223.1925793942805,
          1224.0801860701406,
          1224.9697813094283,
          1225.8613126075816,
          1226.7547177989227,
          1227.6499284486536,
          1228.5468727939983,
          1229.4454787005232,
          1230.345674416844,
          1231.2473895899502,
          1232.1505561986455,
          1233.0551063536802,
          1233.9609658626057,
          1234.868047235509,
          1235.7762436175947,
          1236.685420798321,
          1237.5954103123024,
          1238.5060097558082,
          1239.4169909061736,
          1240.3281053732471,
          1241.2390934270688,
          1242.1496979411606,
          1243.0598607232014,
          1243.9708146392172,
          1244.8881039682562,
          1245.827087390049,
          1246.8177292977905,
          1247.9079246204383,
          1249.1625451904274,
          1250.654430211004,
          1252.4442208446903,
          1254.5535397160174,
          1256.945159874365,
          1259.5263421336713,
          1262.177373929051,
          1264.78878170685,
          1267.2854106656846,
          1269.630909689314,
          1271.8193105510468,
          1273.8629651888702,
          1275.782409905881,
          1277.59988561945,
          1279.336020328461,
          1281.008533682517,
          1282.6320146387259,
          1284.2182464224627,
          1297.9924506585965,
          1299.5690067754113,
          1301.1792134686023,
          1302.8335696380304
         ]
        },
        {
         "mode": "lines",
         "name": "vehicle_id: 14 raw",
         "type": "scatter",
         "x": [],
         "y": []
        },
        {
         "mode": "lines",
         "name": "vehicle_id_leader: 50353",
         "type": "scatter",
         "x": [
          27.7,
          27.8,
          27.9,
          28,
          28.1,
          28.2,
          28.3,
          28.4,
          28.5,
          28.6,
          28.7,
          28.8,
          28.9,
          29,
          29.1,
          29.2
         ],
         "y": [
          1440.7033190954428,
          1441.8017973146887,
          1442.9022594141004,
          1444.0047806910093,
          1445.1094251839213,
          1446.2162463739874,
          1447.3252872818728,
          1448.4365805907169,
          1449.5501487963957,
          1450.6660044354526,
          1451.7841504699657,
          1452.9045804857785,
          1454.0272787948318,
          1455.152220490132,
          1456.2793714448346,
          1457.4086882469496
         ]
        },
        {
         "mode": "lines",
         "name": "vehicle_id: 50353 raw",
         "type": "scatter",
         "x": [],
         "y": []
        },
        {
         "mode": "lines",
         "name": "vehicle_id_leader: 51482",
         "type": "scatter",
         "x": [
          0,
          0.1,
          0.2,
          0.3,
          0.4,
          0.5,
          0.6,
          0.7,
          0.8,
          0.9,
          1,
          1.1,
          1.2,
          1.3,
          1.4,
          1.5,
          1.6,
          1.7,
          1.8,
          1.9,
          2,
          2.1,
          2.2,
          2.3
         ],
         "y": [
          1194.8818650000705,
          1194.8419745167173,
          1194.8029592550306,
          1194.7648807237986,
          1194.7278043682784,
          1194.6917977242438,
          1194.656928304487,
          1194.623261664009,
          1194.590859662965,
          1194.5597786730273,
          1194.530067910888,
          1194.5017681303298,
          1194.4749107325858,
          1194.4495173571322,
          1194.4255998226067,
          1194.4031603171877,
          1194.3821916339916,
          1194.3626772933255,
          1194.344590996832,
          1194.3278950832628,
          1194.312538359284,
          1194.2984533930658,
          1194.285553140394,
          1194.2737267074197
         ]
        },
        {
         "mode": "lines",
         "name": "vehicle_id: 51482 raw",
         "type": "scatter",
         "x": [],
         "y": []
        },
        {
         "mode": "lines",
         "name": "vehicle_id_leader: 67051",
         "type": "scatter",
         "x": [
          25.5,
          25.6,
          25.7,
          25.8,
          25.9,
          26,
          26.1,
          26.2,
          26.3,
          26.4,
          26.5,
          26.6,
          26.7,
          26.8,
          26.9,
          27,
          27.1,
          27.2,
          27.3,
          27.4,
          27.5,
          27.6
         ],
         "y": [
          1416.8237878129644,
          1417.9029240797472,
          1418.982894755662,
          1420.063445144421,
          1421.1444066685845,
          1422.2256795881308,
          1423.3072186320894,
          1424.3890212465378,
          1425.4711180899164,
          1426.5535654054597,
          1427.636438931923,
          1428.7198290602616,
          1429.803836990172,
          1430.8885716850934,
          1431.974147462362,
          1433.0606820872572,
          1434.1482952663546,
          1435.237107457614,
          1436.3272389308631,
          1437.4188090265557,
          1438.5119355719555,
          1439.606734421459
         ]
        },
        {
         "mode": "lines",
         "name": "vehicle_id: 67051 raw",
         "type": "scatter",
         "x": [],
         "y": []
        }
       ],
       "layout": {
        "template": {
         "data": {
          "bar": [
           {
            "error_x": {
             "color": "#2a3f5f"
            },
            "error_y": {
             "color": "#2a3f5f"
            },
            "marker": {
             "line": {
              "color": "#E5ECF6",
              "width": 0.5
             },
             "pattern": {
              "fillmode": "overlay",
              "size": 10,
              "solidity": 0.2
             }
            },
            "type": "bar"
           }
          ],
          "barpolar": [
           {
            "marker": {
             "line": {
              "color": "#E5ECF6",
              "width": 0.5
             },
             "pattern": {
              "fillmode": "overlay",
              "size": 10,
              "solidity": 0.2
             }
            },
            "type": "barpolar"
           }
          ],
          "carpet": [
           {
            "aaxis": {
             "endlinecolor": "#2a3f5f",
             "gridcolor": "white",
             "linecolor": "white",
             "minorgridcolor": "white",
             "startlinecolor": "#2a3f5f"
            },
            "baxis": {
             "endlinecolor": "#2a3f5f",
             "gridcolor": "white",
             "linecolor": "white",
             "minorgridcolor": "white",
             "startlinecolor": "#2a3f5f"
            },
            "type": "carpet"
           }
          ],
          "choropleth": [
           {
            "colorbar": {
             "outlinewidth": 0,
             "ticks": ""
            },
            "type": "choropleth"
           }
          ],
          "contour": [
           {
            "colorbar": {
             "outlinewidth": 0,
             "ticks": ""
            },
            "colorscale": [
             [
              0,
              "#0d0887"
             ],
             [
              0.1111111111111111,
              "#46039f"
             ],
             [
              0.2222222222222222,
              "#7201a8"
             ],
             [
              0.3333333333333333,
              "#9c179e"
             ],
             [
              0.4444444444444444,
              "#bd3786"
             ],
             [
              0.5555555555555556,
              "#d8576b"
             ],
             [
              0.6666666666666666,
              "#ed7953"
             ],
             [
              0.7777777777777778,
              "#fb9f3a"
             ],
             [
              0.8888888888888888,
              "#fdca26"
             ],
             [
              1,
              "#f0f921"
             ]
            ],
            "type": "contour"
           }
          ],
          "contourcarpet": [
           {
            "colorbar": {
             "outlinewidth": 0,
             "ticks": ""
            },
            "type": "contourcarpet"
           }
          ],
          "heatmap": [
           {
            "colorbar": {
             "outlinewidth": 0,
             "ticks": ""
            },
            "colorscale": [
             [
              0,
              "#0d0887"
             ],
             [
              0.1111111111111111,
              "#46039f"
             ],
             [
              0.2222222222222222,
              "#7201a8"
             ],
             [
              0.3333333333333333,
              "#9c179e"
             ],
             [
              0.4444444444444444,
              "#bd3786"
             ],
             [
              0.5555555555555556,
              "#d8576b"
             ],
             [
              0.6666666666666666,
              "#ed7953"
             ],
             [
              0.7777777777777778,
              "#fb9f3a"
             ],
             [
              0.8888888888888888,
              "#fdca26"
             ],
             [
              1,
              "#f0f921"
             ]
            ],
            "type": "heatmap"
           }
          ],
          "heatmapgl": [
           {
            "colorbar": {
             "outlinewidth": 0,
             "ticks": ""
            },
            "colorscale": [
             [
              0,
              "#0d0887"
             ],
             [
              0.1111111111111111,
              "#46039f"
             ],
             [
              0.2222222222222222,
              "#7201a8"
             ],
             [
              0.3333333333333333,
              "#9c179e"
             ],
             [
              0.4444444444444444,
              "#bd3786"
             ],
             [
              0.5555555555555556,
              "#d8576b"
             ],
             [
              0.6666666666666666,
              "#ed7953"
             ],
             [
              0.7777777777777778,
              "#fb9f3a"
             ],
             [
              0.8888888888888888,
              "#fdca26"
             ],
             [
              1,
              "#f0f921"
             ]
            ],
            "type": "heatmapgl"
           }
          ],
          "histogram": [
           {
            "marker": {
             "pattern": {
              "fillmode": "overlay",
              "size": 10,
              "solidity": 0.2
             }
            },
            "type": "histogram"
           }
          ],
          "histogram2d": [
           {
            "colorbar": {
             "outlinewidth": 0,
             "ticks": ""
            },
            "colorscale": [
             [
              0,
              "#0d0887"
             ],
             [
              0.1111111111111111,
              "#46039f"
             ],
             [
              0.2222222222222222,
              "#7201a8"
             ],
             [
              0.3333333333333333,
              "#9c179e"
             ],
             [
              0.4444444444444444,
              "#bd3786"
             ],
             [
              0.5555555555555556,
              "#d8576b"
             ],
             [
              0.6666666666666666,
              "#ed7953"
             ],
             [
              0.7777777777777778,
              "#fb9f3a"
             ],
             [
              0.8888888888888888,
              "#fdca26"
             ],
             [
              1,
              "#f0f921"
             ]
            ],
            "type": "histogram2d"
           }
          ],
          "histogram2dcontour": [
           {
            "colorbar": {
             "outlinewidth": 0,
             "ticks": ""
            },
            "colorscale": [
             [
              0,
              "#0d0887"
             ],
             [
              0.1111111111111111,
              "#46039f"
             ],
             [
              0.2222222222222222,
              "#7201a8"
             ],
             [
              0.3333333333333333,
              "#9c179e"
             ],
             [
              0.4444444444444444,
              "#bd3786"
             ],
             [
              0.5555555555555556,
              "#d8576b"
             ],
             [
              0.6666666666666666,
              "#ed7953"
             ],
             [
              0.7777777777777778,
              "#fb9f3a"
             ],
             [
              0.8888888888888888,
              "#fdca26"
             ],
             [
              1,
              "#f0f921"
             ]
            ],
            "type": "histogram2dcontour"
           }
          ],
          "mesh3d": [
           {
            "colorbar": {
             "outlinewidth": 0,
             "ticks": ""
            },
            "type": "mesh3d"
           }
          ],
          "parcoords": [
           {
            "line": {
             "colorbar": {
              "outlinewidth": 0,
              "ticks": ""
             }
            },
            "type": "parcoords"
           }
          ],
          "pie": [
           {
            "automargin": true,
            "type": "pie"
           }
          ],
          "scatter": [
           {
            "fillpattern": {
             "fillmode": "overlay",
             "size": 10,
             "solidity": 0.2
            },
            "type": "scatter"
           }
          ],
          "scatter3d": [
           {
            "line": {
             "colorbar": {
              "outlinewidth": 0,
              "ticks": ""
             }
            },
            "marker": {
             "colorbar": {
              "outlinewidth": 0,
              "ticks": ""
             }
            },
            "type": "scatter3d"
           }
          ],
          "scattercarpet": [
           {
            "marker": {
             "colorbar": {
              "outlinewidth": 0,
              "ticks": ""
             }
            },
            "type": "scattercarpet"
           }
          ],
          "scattergeo": [
           {
            "marker": {
             "colorbar": {
              "outlinewidth": 0,
              "ticks": ""
             }
            },
            "type": "scattergeo"
           }
          ],
          "scattergl": [
           {
            "marker": {
             "colorbar": {
              "outlinewidth": 0,
              "ticks": ""
             }
            },
            "type": "scattergl"
           }
          ],
          "scattermapbox": [
           {
            "marker": {
             "colorbar": {
              "outlinewidth": 0,
              "ticks": ""
             }
            },
            "type": "scattermapbox"
           }
          ],
          "scatterpolar": [
           {
            "marker": {
             "colorbar": {
              "outlinewidth": 0,
              "ticks": ""
             }
            },
            "type": "scatterpolar"
           }
          ],
          "scatterpolargl": [
           {
            "marker": {
             "colorbar": {
              "outlinewidth": 0,
              "ticks": ""
             }
            },
            "type": "scatterpolargl"
           }
          ],
          "scatterternary": [
           {
            "marker": {
             "colorbar": {
              "outlinewidth": 0,
              "ticks": ""
             }
            },
            "type": "scatterternary"
           }
          ],
          "surface": [
           {
            "colorbar": {
             "outlinewidth": 0,
             "ticks": ""
            },
            "colorscale": [
             [
              0,
              "#0d0887"
             ],
             [
              0.1111111111111111,
              "#46039f"
             ],
             [
              0.2222222222222222,
              "#7201a8"
             ],
             [
              0.3333333333333333,
              "#9c179e"
             ],
             [
              0.4444444444444444,
              "#bd3786"
             ],
             [
              0.5555555555555556,
              "#d8576b"
             ],
             [
              0.6666666666666666,
              "#ed7953"
             ],
             [
              0.7777777777777778,
              "#fb9f3a"
             ],
             [
              0.8888888888888888,
              "#fdca26"
             ],
             [
              1,
              "#f0f921"
             ]
            ],
            "type": "surface"
           }
          ],
          "table": [
           {
            "cells": {
             "fill": {
              "color": "#EBF0F8"
             },
             "line": {
              "color": "white"
             }
            },
            "header": {
             "fill": {
              "color": "#C8D4E3"
             },
             "line": {
              "color": "white"
             }
            },
            "type": "table"
           }
          ]
         },
         "layout": {
          "annotationdefaults": {
           "arrowcolor": "#2a3f5f",
           "arrowhead": 0,
           "arrowwidth": 1
          },
          "autotypenumbers": "strict",
          "coloraxis": {
           "colorbar": {
            "outlinewidth": 0,
            "ticks": ""
           }
          },
          "colorscale": {
           "diverging": [
            [
             0,
             "#8e0152"
            ],
            [
             0.1,
             "#c51b7d"
            ],
            [
             0.2,
             "#de77ae"
            ],
            [
             0.3,
             "#f1b6da"
            ],
            [
             0.4,
             "#fde0ef"
            ],
            [
             0.5,
             "#f7f7f7"
            ],
            [
             0.6,
             "#e6f5d0"
            ],
            [
             0.7,
             "#b8e186"
            ],
            [
             0.8,
             "#7fbc41"
            ],
            [
             0.9,
             "#4d9221"
            ],
            [
             1,
             "#276419"
            ]
           ],
           "sequential": [
            [
             0,
             "#0d0887"
            ],
            [
             0.1111111111111111,
             "#46039f"
            ],
            [
             0.2222222222222222,
             "#7201a8"
            ],
            [
             0.3333333333333333,
             "#9c179e"
            ],
            [
             0.4444444444444444,
             "#bd3786"
            ],
            [
             0.5555555555555556,
             "#d8576b"
            ],
            [
             0.6666666666666666,
             "#ed7953"
            ],
            [
             0.7777777777777778,
             "#fb9f3a"
            ],
            [
             0.8888888888888888,
             "#fdca26"
            ],
            [
             1,
             "#f0f921"
            ]
           ],
           "sequentialminus": [
            [
             0,
             "#0d0887"
            ],
            [
             0.1111111111111111,
             "#46039f"
            ],
            [
             0.2222222222222222,
             "#7201a8"
            ],
            [
             0.3333333333333333,
             "#9c179e"
            ],
            [
             0.4444444444444444,
             "#bd3786"
            ],
            [
             0.5555555555555556,
             "#d8576b"
            ],
            [
             0.6666666666666666,
             "#ed7953"
            ],
            [
             0.7777777777777778,
             "#fb9f3a"
            ],
            [
             0.8888888888888888,
             "#fdca26"
            ],
            [
             1,
             "#f0f921"
            ]
           ]
          },
          "colorway": [
           "#636efa",
           "#EF553B",
           "#00cc96",
           "#ab63fa",
           "#FFA15A",
           "#19d3f3",
           "#FF6692",
           "#B6E880",
           "#FF97FF",
           "#FECB52"
          ],
          "font": {
           "color": "#2a3f5f"
          },
          "geo": {
           "bgcolor": "white",
           "lakecolor": "white",
           "landcolor": "#E5ECF6",
           "showlakes": true,
           "showland": true,
           "subunitcolor": "white"
          },
          "hoverlabel": {
           "align": "left"
          },
          "hovermode": "closest",
          "mapbox": {
           "style": "light"
          },
          "paper_bgcolor": "white",
          "plot_bgcolor": "#E5ECF6",
          "polar": {
           "angularaxis": {
            "gridcolor": "white",
            "linecolor": "white",
            "ticks": ""
           },
           "bgcolor": "#E5ECF6",
           "radialaxis": {
            "gridcolor": "white",
            "linecolor": "white",
            "ticks": ""
           }
          },
          "scene": {
           "xaxis": {
            "backgroundcolor": "#E5ECF6",
            "gridcolor": "white",
            "gridwidth": 2,
            "linecolor": "white",
            "showbackground": true,
            "ticks": "",
            "zerolinecolor": "white"
           },
           "yaxis": {
            "backgroundcolor": "#E5ECF6",
            "gridcolor": "white",
            "gridwidth": 2,
            "linecolor": "white",
            "showbackground": true,
            "ticks": "",
            "zerolinecolor": "white"
           },
           "zaxis": {
            "backgroundcolor": "#E5ECF6",
            "gridcolor": "white",
            "gridwidth": 2,
            "linecolor": "white",
            "showbackground": true,
            "ticks": "",
            "zerolinecolor": "white"
           }
          },
          "shapedefaults": {
           "line": {
            "color": "#2a3f5f"
           }
          },
          "ternary": {
           "aaxis": {
            "gridcolor": "white",
            "linecolor": "white",
            "ticks": ""
           },
           "baxis": {
            "gridcolor": "white",
            "linecolor": "white",
            "ticks": ""
           },
           "bgcolor": "#E5ECF6",
           "caxis": {
            "gridcolor": "white",
            "linecolor": "white",
            "ticks": ""
           }
          },
          "title": {
           "x": 0.05
          },
          "xaxis": {
           "automargin": true,
           "gridcolor": "white",
           "linecolor": "white",
           "ticks": "",
           "title": {
            "standoff": 15
           },
           "zerolinecolor": "white",
           "zerolinewidth": 2
          },
          "yaxis": {
           "automargin": true,
           "gridcolor": "white",
           "linecolor": "white",
           "ticks": "",
           "title": {
            "standoff": 15
           },
           "zerolinecolor": "white",
           "zerolinewidth": 2
          }
         }
        }
       }
      },
      "text/html": [
       "<div>                            <div id=\"a9427bd3-7cb7-46b0-a2e7-4a72d02e73aa\" class=\"plotly-graph-div\" style=\"height:525px; width:100%;\"></div>            <script type=\"text/javascript\">                require([\"plotly\"], function(Plotly) {                    window.PLOTLYENV=window.PLOTLYENV || {};                                    if (document.getElementById(\"a9427bd3-7cb7-46b0-a2e7-4a72d02e73aa\")) {                    Plotly.newPlot(                        \"a9427bd3-7cb7-46b0-a2e7-4a72d02e73aa\",                        [{\"mode\":\"lines\",\"name\":\"vehicle_id: 16\",\"x\":[0.0,0.1,0.2,0.3,0.4,0.5,0.6,0.7,0.8,0.9,1.0,1.1,1.2,1.3,1.4,1.5,1.6,1.7,1.8,1.9,2.0,2.1,2.2,2.3,2.4,2.5,2.6,2.7,2.8,2.9,3.0,3.1,3.2,3.3,3.4,3.5,3.6,3.7,3.8,3.9,4.0,4.1,4.2,4.3,4.4,4.5,4.6,4.7,4.8,4.9,5.0,5.1,5.2,5.3,5.4,5.5,5.6,5.7,5.8,5.9,6.0,6.1,6.2,6.3,6.4,6.5,6.6,6.7,6.8,6.9,7.0,7.1,7.2,7.3,7.4,7.5,7.6,7.7,7.8,7.9,8.0,8.1,8.2,8.3,8.4,8.5,8.6,8.7,8.8,8.9,9.0,9.1,9.2,9.3,9.4,9.5,9.6,9.7,9.8,9.9,10.0,10.1,10.2,10.3,10.4,10.5,10.6,10.7,10.8,10.9,11.0,11.1,11.2,11.3,11.4,11.5,11.6,11.7,11.8,11.9,12.0,12.1,12.2,12.3,12.4,12.5,12.6,12.7,12.8,12.9,13.0,13.1,13.2,13.3,13.4,13.5,13.6,13.7,13.8,13.9,14.0,14.1,14.2,14.3,14.4,14.5,14.6,14.7,14.8,14.9,15.0,15.1,15.2,15.3,15.4,15.5,15.6,15.7,15.8,15.9,16.0,16.1,16.2,16.3,16.4,16.5,16.6,16.7,16.8,16.9,17.0,17.1,17.2,17.3,17.4,17.5,17.6,17.7,17.8,17.9,18.0,18.1,18.2,18.3,18.4,18.5,18.6,18.7,18.8,18.9,19.0,19.1,19.2,19.3,19.4,19.5,19.6,19.7,19.8,19.9,20.0,20.1,20.2,20.3,20.4,20.5,20.6,20.7,20.8,20.9,21.0,21.1,21.2,21.3,21.4,21.5,21.6,21.7,21.8,21.9,22.0,22.1,22.2,22.3,22.4,22.5,22.6,22.7,22.8,22.9,23.0,23.1,23.2,23.3,23.4,23.5,23.6,23.7,23.8,23.9,24.0,24.1,24.2,24.3,24.4,24.5,24.6,24.7,24.8,24.9,25.0,25.1,25.2,25.3,25.4,25.5,25.6,25.7,25.8,25.9,26.0,26.1,26.2,26.3,26.4,26.5,26.6,26.7,26.8,26.9,27.0,27.1,27.2,27.3,27.4,27.5,27.6,27.7,27.8,27.9,28.0,28.1,28.2,28.3,28.4,28.5,28.6,28.7,28.8,28.9,29.0,29.1,29.2],\"y\":[1151.6975948115848,1152.0704382107492,1152.443810881451,1152.8177291540364,1153.1922078281557,1153.5672600595938,1153.9428972864002,1154.3191293594427,1154.695964610093,1155.073409942187,1155.451471113387,1155.8301530700892,1156.2094602456332,1156.5893967458292,1156.9699665094627,1157.3511734955493,1157.7330217696447,1158.1155154444614,1158.49865866112,1158.882455655321,1159.2669105084444,1159.6520267392875,1160.0378070605493,1160.4242532716653,1160.811366100822,1161.1991452333996,1161.5875894231062,1161.9766963357933,1162.366462275435,1162.7568819698452,1163.1479483981004,1163.5396526857783,1163.931984101447,1164.32492992062,1164.7184750966157,1165.1126019603025,1165.5072901422968,1165.9025167638204,1166.2982572433511,1166.6944872365207,1167.0911867743728,1167.48834838307,1167.8859914500656,1168.2841866441906,1168.6830941267026,1169.0830163882306,1169.4844537630527,1169.8881155310803,1170.2947604996518,1170.7475074826914,1171.205358118492,1171.6683739856724,1172.1366055311194,1172.6100936589382,1173.0888728925927,1173.5729761431116,1174.062444515832,1174.5573336526438,1175.0577172294725,1175.5636838928629,1176.0753282882965,1176.5927420102037,1177.116007447561,1177.6451887263604,1178.1803291688104,1178.7214507256306,1179.2685515236983,1179.821605064362,1180.380571775948,1180.9454112674234,1181.5160907253942,1182.092593281754,1182.6749298059947,1183.2631487295157,1183.8573352425485,1184.457607076505,1185.0641189765045,1185.677066721886,1186.296684638936,1186.9232380304468,1187.5570154683742,1188.1983177949649,1188.8474505515194,1189.5047176887485,1190.1704120034483,1190.8448073138984,1191.5281464904074,1192.2206273041536,1192.9223722238905,1193.6333730789995,1194.353551833074,1195.082775688798,1195.8208554836472,1196.5675402517716,1197.3225166749837,1198.0854002520189,1198.85572239157,1199.632977649986,1200.4167506171868,1201.2067238638876,1202.0026485841158,1202.8043137704562,1203.6115395493048,1204.4241811622792,1205.2421316205593,1206.0653160916631,1206.8936860320748,1207.7272176007384,1208.565908459819,1209.4097790981095,1210.2588580751826,1211.1131729454896,1211.9727545958594,1212.8376317651007,1213.7078325674795,1214.583384184573,1215.464304894916,1216.3506029589596,1217.2422843469085,1218.1393564530424,1219.0418279128667,1219.949705974251,1220.8629962948567,1221.7817089105297,1222.7058608675325,1223.635483644809,1224.5706270872013,1225.5113735342873,1226.457843540521,1227.4101883786277,1228.3685816376951,1229.3332179103363,1230.3042920570983,1231.2819732907483,1232.2663931025972,1233.257639517894,1234.2557541913231,1235.2607312591301,1236.2725148280854,1237.2909903199484,1238.3159877930696,1239.3472913951543,1240.3846577881195,1241.4278265880703,1242.476539236152,1243.5305500275372,1244.5896296980118,1245.6535673772619,1246.7221707510726,1247.7952604297022,1248.8726661364014,1249.9542231020382,1251.039775955829,1252.1291848727176,1253.2223335508586,1254.3191332476142,1255.4195198094826,1256.5234469144548,1257.6308853222226,1258.7418252092307,1259.8562772764578,1260.9742773913135,1262.0958770516681,1263.221130791035,1264.3500931344324,1265.4828023295577,1266.6192643237266,1267.7594594097275,1268.903361696725,1270.0509454278804,1271.202194820858,1272.3570975183675,1273.5156346210272,1274.6777748121935,1275.8434738440883,1277.0126641630304,1278.1852612894377,1279.3611689572358,1280.540275435887,1281.722445127957,1282.9075265992988,1284.0953594477996,1285.2857834280912,1286.4786455212559,1287.6738027645815,1288.8710917758058,1290.0703600409222,1291.2714857251685,1292.474387391528,1293.6790278685073,1294.8854077425242,1296.0935452444319,1297.3034417303827,1298.5150629663704,1299.7283700398527,1300.9433279954371,1302.1598963215888,1303.378015670659,1304.5976051483722,1305.8185638199627,1307.0407784350455,1308.2641248544044,1309.488467147812,1310.7136611997955,1311.939562984232,1313.1660400711944,1314.392970682031,1315.6202404398996,1316.847746150857,1318.0753912884943,1319.3030860430688,1320.5307483742472,1321.7582981467417,1322.9856547696997,1324.2127361524454,1325.4394599174698,1326.6657434905185,1327.8915060082322,1329.1166677709364,1330.3411560636696,1331.5649064678862,1332.7878648162994,1334.0099864720303,1335.2312430839056,1336.4516247704848,1337.6711365937654,1338.889800435761,1340.1076639767236,1341.3247989556833,1342.5412914412202,1343.7572374597808,1344.9727422382625,1346.1879225354307,1347.4029132909995,1348.617869382273,1349.832960795241,1351.0483674438242,1352.2642681939808,1353.4808365248857,1354.6982369251052,1355.9166247427768,1357.1361458252882,1358.3569363132483,1359.579124779804,1360.8028322907046,1362.0358151573485,1363.2729054310723,1364.5132698864488,1365.7560342437005,1367.0004766744953,1368.2460619213832,1369.4924139363861,1370.7392752508156,1371.9864711459618,1373.2338828790043,1374.481429282187,1375.7290548561302,1376.9767216858122,1378.224404171893,1379.4720856375368,1380.7197561124065,1381.9674109685618,1383.2150503101982,1384.4626782510488,1385.7103022848403,1386.957932804067,1388.205582719197,1389.4532671851612,1390.7010034820978,1391.9488108043124,1393.1967100234467,1394.4447233883755,1395.6928741966772,1396.941186605337,1398.1896854810257,1399.438396186724,1400.6873441775788,1401.9365547893115,1403.1860530835056,1404.4358636372713,1405.6860100861938,1406.936514510768,1408.1873971742164,1409.4386763580862,1410.690368198808,1411.9424865380013,1413.195042807031,1414.4480458924636,1415.7015020063338,1416.955414573165,1418.2097841354268,1419.464608278318,1420.7198815774882],\"type\":\"scatter\"},{\"mode\":\"lines\",\"name\":\"vehicle_id_leader: 10\",\"x\":[14.3,14.4,14.5,14.6,14.7,14.8,14.9,15.0,15.5,15.6,15.7,15.8,15.9,16.0,16.1,16.2,16.3,16.4,16.5,16.6,16.7,16.8,16.9,17.0,17.1,17.2,17.3,17.4,17.5,17.6,17.7,17.8,17.9,18.0,18.1,18.2,18.3,18.4,18.5,18.6,18.7,18.8,18.9,19.0,19.1,19.2,19.3,19.4,19.5,19.6,19.7,19.8,19.9,20.0,20.1,20.2,20.3,20.4,20.5,20.6,20.7,20.8,20.9,21.0,21.1,21.2,21.3,21.4,21.5,21.6,21.7,21.8,21.9,22.0,22.1,22.2,22.3,22.4,22.5,22.6,22.7,22.8,22.9,23.0,23.1,23.2,23.3,23.4,23.5,23.6,23.7,23.8,23.9,24.0,24.1,24.2,24.3,24.4,24.5,24.6,24.7,24.8,24.9,25.0,25.1,25.2,25.3,25.4],\"y\":[1285.7767266446506,1287.315177444546,1288.840007489695,1290.3567278220792,1291.8703177748434,1293.385555087079,1294.9073259532527,1296.4409377471377,1304.5448755832929,1306.328562627421,1308.2027701372365,1310.187666148081,1312.3032687160794,1314.5648790153564,1316.975190609914,1319.5132712294153,1322.123974105001,1324.7157002674983,1327.1750062696215,1329.3979399802759,1331.3232293737549,1332.9473889400585,1334.314630219041,1335.4923355388885,1336.5476727623513,1337.5339606800896,1338.4868499448025,1339.4266378407797,1340.3627839506034,1341.2985000950453,1342.234303522252,1343.1699391859752,1344.1051159907508,1345.0396088763894,1345.9732478235396,1346.9059084364867,1347.8375039754117,1348.7679779984505,1349.697300507219,1350.6254722700812,1351.5525309327772,1352.47855390891,1353.4036627336836,1354.3280198805862,1355.25182081746,1356.1752792196562,1357.0986128789777,1358.0220326640795,1358.9457352383463,1359.869897931197,1360.79467643097,1361.720202009035,1362.6465803495068,1363.573892429803,1364.502196217892,1365.4315282004372,1366.361905838424,1367.2933313949416,1368.2257947033377,1369.1592754624198,1370.0937450991385,1371.0291634658745,1371.9654655018157,1372.902566054567,1373.840368022231,1374.7787685736498,1375.7176639164006,1376.6569528577238,1377.5965391039247,1378.536335767447,1379.4762725974194,1380.4162997603842,1381.3563912288068,1382.2965471766306,1383.2367966270463,1384.177189683407,1385.11778749864,1386.058661264021,1386.999885718052,1387.9415322309967,1388.8836638149407,1389.8263458456952,1390.769659810161,1391.7137237786137,1392.6587364151164,1393.6049766391816,1394.5527907210635,1395.5025857058743,1396.454823637732,1397.4100082485986,1398.3686707334978,1399.3313552398586,1400.298600311422,1401.270928503282,1402.248843976058,1403.2328361904747,1404.2233937537521,1405.2210241051032,1406.235341800002,1407.2608696376237,1408.2971662615112,1409.3431366388859,1410.3973854418819,1411.4584533881361,1412.5249610852577,1413.5956859423125,1414.6695944495825,1415.745847055324],\"type\":\"scatter\"},{\"mode\":\"lines\",\"name\":\"vehicle_id: 10 raw\",\"x\":[],\"y\":[],\"type\":\"scatter\"},{\"mode\":\"lines\",\"name\":\"vehicle_id_leader: 14\",\"x\":[2.4,2.5,2.6,2.7,2.8,2.9,3.0,3.1,3.2,3.3,3.4,3.5,3.6,3.7,3.8,3.9,4.0,4.1,4.2,4.3,4.4,4.5,4.6,4.7,4.8,4.9,5.0,5.1,5.2,5.3,5.4,5.5,5.6,5.7,5.8,5.9,6.0,6.1,6.2,6.3,6.4,6.5,6.6,6.7,6.8,6.9,7.0,7.1,7.2,7.3,7.4,7.5,7.6,7.7,7.8,7.9,8.0,8.1,8.2,8.3,8.4,8.5,8.6,8.7,8.8,8.9,9.0,9.1,9.2,9.3,9.4,9.5,9.6,9.7,9.8,9.9,10.0,10.1,10.2,10.3,10.4,10.5,10.6,10.7,10.8,10.9,11.0,11.1,11.2,11.3,11.4,11.5,11.6,11.7,11.8,11.9,12.0,12.1,12.2,12.3,12.4,12.5,12.6,12.7,12.8,12.9,13.0,13.1,13.2,13.3,13.4,13.5,13.6,13.7,13.8,13.9,14.0,14.1,14.2,15.1,15.2,15.3,15.4],\"y\":[1194.262833988585,1194.2526988276554,1194.2431002233195,1194.2337609225096,1194.2243324903598,1194.2143755789373,1194.2033335815008,1194.1904970677,1194.174955210834,1194.1555286234372,1194.1306752640946,1194.0983568078216,1194.055846190058,1193.999446532557,1193.9240752232054,1193.8226417411006,1193.6851114955057,1193.4971038293563,1193.2378493411495,1192.8774500892268,1192.3740535096808,1191.673929010465,1190.7238499357106,1189.5149984713196,1188.1612355915713,1187.5769713195282,1187.1638511518802,1186.9640545690354,1186.9896349300216,1187.2248266443767,1187.6356430308501,1188.1812372242712,1188.8228079254318,1189.528412268637,1190.2743204344272,1191.0443634349413,1191.8284780439117,1192.6209126576186,1193.4187457433632,1194.220746358223,1195.0265546672729,1195.8361374380477,1196.6495216666544,1197.4667222096098,1198.2877166199603,1199.1124347722148,1199.9407584411254,1200.7725335009186,1201.6075834590622,1202.4457218112673,1203.2867671108029,1204.130555306851,1204.9769448094632,1205.825811564083,1206.6770376906632,1207.530502710255,1208.3860790842825,1209.2436338794673,1210.1030361824737,1210.9641664071623,1211.826924862763,1212.6912383007254,1213.557063913303,1214.4243904733485,1215.2932374348302,1216.1636516109743,1217.0357018845182,1217.909472232493,1218.7850536388125,1219.6625343810329,1220.5419892233756,1221.4234697165043,1222.3070001231383,1223.1925793942805,1224.0801860701406,1224.9697813094283,1225.8613126075816,1226.7547177989227,1227.6499284486536,1228.5468727939983,1229.4454787005232,1230.345674416844,1231.2473895899502,1232.1505561986455,1233.0551063536802,1233.9609658626057,1234.868047235509,1235.7762436175947,1236.685420798321,1237.5954103123024,1238.5060097558082,1239.4169909061736,1240.3281053732471,1241.2390934270688,1242.1496979411606,1243.0598607232014,1243.9708146392172,1244.8881039682562,1245.827087390049,1246.8177292977905,1247.9079246204383,1249.1625451904274,1250.654430211004,1252.4442208446903,1254.5535397160174,1256.945159874365,1259.5263421336713,1262.177373929051,1264.78878170685,1267.2854106656846,1269.630909689314,1271.8193105510468,1273.8629651888702,1275.782409905881,1277.59988561945,1279.336020328461,1281.008533682517,1282.6320146387259,1284.2182464224627,1297.9924506585965,1299.5690067754113,1301.1792134686023,1302.8335696380304],\"type\":\"scatter\"},{\"mode\":\"lines\",\"name\":\"vehicle_id: 14 raw\",\"x\":[],\"y\":[],\"type\":\"scatter\"},{\"mode\":\"lines\",\"name\":\"vehicle_id_leader: 50353\",\"x\":[27.7,27.8,27.9,28.0,28.1,28.2,28.3,28.4,28.5,28.6,28.7,28.8,28.9,29.0,29.1,29.2],\"y\":[1440.7033190954428,1441.8017973146887,1442.9022594141004,1444.0047806910093,1445.1094251839213,1446.2162463739874,1447.3252872818728,1448.4365805907169,1449.5501487963957,1450.6660044354526,1451.7841504699657,1452.9045804857785,1454.0272787948318,1455.152220490132,1456.2793714448346,1457.4086882469496],\"type\":\"scatter\"},{\"mode\":\"lines\",\"name\":\"vehicle_id: 50353 raw\",\"x\":[],\"y\":[],\"type\":\"scatter\"},{\"mode\":\"lines\",\"name\":\"vehicle_id_leader: 51482\",\"x\":[0.0,0.1,0.2,0.3,0.4,0.5,0.6,0.7,0.8,0.9,1.0,1.1,1.2,1.3,1.4,1.5,1.6,1.7,1.8,1.9,2.0,2.1,2.2,2.3],\"y\":[1194.8818650000705,1194.8419745167173,1194.8029592550306,1194.7648807237986,1194.7278043682784,1194.6917977242438,1194.656928304487,1194.623261664009,1194.590859662965,1194.5597786730273,1194.530067910888,1194.5017681303298,1194.4749107325858,1194.4495173571322,1194.4255998226067,1194.4031603171877,1194.3821916339916,1194.3626772933255,1194.344590996832,1194.3278950832628,1194.312538359284,1194.2984533930658,1194.285553140394,1194.2737267074197],\"type\":\"scatter\"},{\"mode\":\"lines\",\"name\":\"vehicle_id: 51482 raw\",\"x\":[],\"y\":[],\"type\":\"scatter\"},{\"mode\":\"lines\",\"name\":\"vehicle_id_leader: 67051\",\"x\":[25.5,25.6,25.7,25.8,25.9,26.0,26.1,26.2,26.3,26.4,26.5,26.6,26.7,26.8,26.9,27.0,27.1,27.2,27.3,27.4,27.5,27.6],\"y\":[1416.8237878129644,1417.9029240797472,1418.982894755662,1420.063445144421,1421.1444066685845,1422.2256795881308,1423.3072186320894,1424.3890212465378,1425.4711180899164,1426.5535654054597,1427.636438931923,1428.7198290602616,1429.803836990172,1430.8885716850934,1431.974147462362,1433.0606820872572,1434.1482952663546,1435.237107457614,1436.3272389308631,1437.4188090265557,1438.5119355719555,1439.606734421459],\"type\":\"scatter\"},{\"mode\":\"lines\",\"name\":\"vehicle_id: 67051 raw\",\"x\":[],\"y\":[],\"type\":\"scatter\"}],                        {\"template\":{\"data\":{\"histogram2dcontour\":[{\"type\":\"histogram2dcontour\",\"colorbar\":{\"outlinewidth\":0,\"ticks\":\"\"},\"colorscale\":[[0.0,\"#0d0887\"],[0.1111111111111111,\"#46039f\"],[0.2222222222222222,\"#7201a8\"],[0.3333333333333333,\"#9c179e\"],[0.4444444444444444,\"#bd3786\"],[0.5555555555555556,\"#d8576b\"],[0.6666666666666666,\"#ed7953\"],[0.7777777777777778,\"#fb9f3a\"],[0.8888888888888888,\"#fdca26\"],[1.0,\"#f0f921\"]]}],\"choropleth\":[{\"type\":\"choropleth\",\"colorbar\":{\"outlinewidth\":0,\"ticks\":\"\"}}],\"histogram2d\":[{\"type\":\"histogram2d\",\"colorbar\":{\"outlinewidth\":0,\"ticks\":\"\"},\"colorscale\":[[0.0,\"#0d0887\"],[0.1111111111111111,\"#46039f\"],[0.2222222222222222,\"#7201a8\"],[0.3333333333333333,\"#9c179e\"],[0.4444444444444444,\"#bd3786\"],[0.5555555555555556,\"#d8576b\"],[0.6666666666666666,\"#ed7953\"],[0.7777777777777778,\"#fb9f3a\"],[0.8888888888888888,\"#fdca26\"],[1.0,\"#f0f921\"]]}],\"heatmap\":[{\"type\":\"heatmap\",\"colorbar\":{\"outlinewidth\":0,\"ticks\":\"\"},\"colorscale\":[[0.0,\"#0d0887\"],[0.1111111111111111,\"#46039f\"],[0.2222222222222222,\"#7201a8\"],[0.3333333333333333,\"#9c179e\"],[0.4444444444444444,\"#bd3786\"],[0.5555555555555556,\"#d8576b\"],[0.6666666666666666,\"#ed7953\"],[0.7777777777777778,\"#fb9f3a\"],[0.8888888888888888,\"#fdca26\"],[1.0,\"#f0f921\"]]}],\"heatmapgl\":[{\"type\":\"heatmapgl\",\"colorbar\":{\"outlinewidth\":0,\"ticks\":\"\"},\"colorscale\":[[0.0,\"#0d0887\"],[0.1111111111111111,\"#46039f\"],[0.2222222222222222,\"#7201a8\"],[0.3333333333333333,\"#9c179e\"],[0.4444444444444444,\"#bd3786\"],[0.5555555555555556,\"#d8576b\"],[0.6666666666666666,\"#ed7953\"],[0.7777777777777778,\"#fb9f3a\"],[0.8888888888888888,\"#fdca26\"],[1.0,\"#f0f921\"]]}],\"contourcarpet\":[{\"type\":\"contourcarpet\",\"colorbar\":{\"outlinewidth\":0,\"ticks\":\"\"}}],\"contour\":[{\"type\":\"contour\",\"colorbar\":{\"outlinewidth\":0,\"ticks\":\"\"},\"colorscale\":[[0.0,\"#0d0887\"],[0.1111111111111111,\"#46039f\"],[0.2222222222222222,\"#7201a8\"],[0.3333333333333333,\"#9c179e\"],[0.4444444444444444,\"#bd3786\"],[0.5555555555555556,\"#d8576b\"],[0.6666666666666666,\"#ed7953\"],[0.7777777777777778,\"#fb9f3a\"],[0.8888888888888888,\"#fdca26\"],[1.0,\"#f0f921\"]]}],\"surface\":[{\"type\":\"surface\",\"colorbar\":{\"outlinewidth\":0,\"ticks\":\"\"},\"colorscale\":[[0.0,\"#0d0887\"],[0.1111111111111111,\"#46039f\"],[0.2222222222222222,\"#7201a8\"],[0.3333333333333333,\"#9c179e\"],[0.4444444444444444,\"#bd3786\"],[0.5555555555555556,\"#d8576b\"],[0.6666666666666666,\"#ed7953\"],[0.7777777777777778,\"#fb9f3a\"],[0.8888888888888888,\"#fdca26\"],[1.0,\"#f0f921\"]]}],\"mesh3d\":[{\"type\":\"mesh3d\",\"colorbar\":{\"outlinewidth\":0,\"ticks\":\"\"}}],\"scatter\":[{\"fillpattern\":{\"fillmode\":\"overlay\",\"size\":10,\"solidity\":0.2},\"type\":\"scatter\"}],\"parcoords\":[{\"type\":\"parcoords\",\"line\":{\"colorbar\":{\"outlinewidth\":0,\"ticks\":\"\"}}}],\"scatterpolargl\":[{\"type\":\"scatterpolargl\",\"marker\":{\"colorbar\":{\"outlinewidth\":0,\"ticks\":\"\"}}}],\"bar\":[{\"error_x\":{\"color\":\"#2a3f5f\"},\"error_y\":{\"color\":\"#2a3f5f\"},\"marker\":{\"line\":{\"color\":\"#E5ECF6\",\"width\":0.5},\"pattern\":{\"fillmode\":\"overlay\",\"size\":10,\"solidity\":0.2}},\"type\":\"bar\"}],\"scattergeo\":[{\"type\":\"scattergeo\",\"marker\":{\"colorbar\":{\"outlinewidth\":0,\"ticks\":\"\"}}}],\"scatterpolar\":[{\"type\":\"scatterpolar\",\"marker\":{\"colorbar\":{\"outlinewidth\":0,\"ticks\":\"\"}}}],\"histogram\":[{\"marker\":{\"pattern\":{\"fillmode\":\"overlay\",\"size\":10,\"solidity\":0.2}},\"type\":\"histogram\"}],\"scattergl\":[{\"type\":\"scattergl\",\"marker\":{\"colorbar\":{\"outlinewidth\":0,\"ticks\":\"\"}}}],\"scatter3d\":[{\"type\":\"scatter3d\",\"line\":{\"colorbar\":{\"outlinewidth\":0,\"ticks\":\"\"}},\"marker\":{\"colorbar\":{\"outlinewidth\":0,\"ticks\":\"\"}}}],\"scattermapbox\":[{\"type\":\"scattermapbox\",\"marker\":{\"colorbar\":{\"outlinewidth\":0,\"ticks\":\"\"}}}],\"scatterternary\":[{\"type\":\"scatterternary\",\"marker\":{\"colorbar\":{\"outlinewidth\":0,\"ticks\":\"\"}}}],\"scattercarpet\":[{\"type\":\"scattercarpet\",\"marker\":{\"colorbar\":{\"outlinewidth\":0,\"ticks\":\"\"}}}],\"carpet\":[{\"aaxis\":{\"endlinecolor\":\"#2a3f5f\",\"gridcolor\":\"white\",\"linecolor\":\"white\",\"minorgridcolor\":\"white\",\"startlinecolor\":\"#2a3f5f\"},\"baxis\":{\"endlinecolor\":\"#2a3f5f\",\"gridcolor\":\"white\",\"linecolor\":\"white\",\"minorgridcolor\":\"white\",\"startlinecolor\":\"#2a3f5f\"},\"type\":\"carpet\"}],\"table\":[{\"cells\":{\"fill\":{\"color\":\"#EBF0F8\"},\"line\":{\"color\":\"white\"}},\"header\":{\"fill\":{\"color\":\"#C8D4E3\"},\"line\":{\"color\":\"white\"}},\"type\":\"table\"}],\"barpolar\":[{\"marker\":{\"line\":{\"color\":\"#E5ECF6\",\"width\":0.5},\"pattern\":{\"fillmode\":\"overlay\",\"size\":10,\"solidity\":0.2}},\"type\":\"barpolar\"}],\"pie\":[{\"automargin\":true,\"type\":\"pie\"}]},\"layout\":{\"autotypenumbers\":\"strict\",\"colorway\":[\"#636efa\",\"#EF553B\",\"#00cc96\",\"#ab63fa\",\"#FFA15A\",\"#19d3f3\",\"#FF6692\",\"#B6E880\",\"#FF97FF\",\"#FECB52\"],\"font\":{\"color\":\"#2a3f5f\"},\"hovermode\":\"closest\",\"hoverlabel\":{\"align\":\"left\"},\"paper_bgcolor\":\"white\",\"plot_bgcolor\":\"#E5ECF6\",\"polar\":{\"bgcolor\":\"#E5ECF6\",\"angularaxis\":{\"gridcolor\":\"white\",\"linecolor\":\"white\",\"ticks\":\"\"},\"radialaxis\":{\"gridcolor\":\"white\",\"linecolor\":\"white\",\"ticks\":\"\"}},\"ternary\":{\"bgcolor\":\"#E5ECF6\",\"aaxis\":{\"gridcolor\":\"white\",\"linecolor\":\"white\",\"ticks\":\"\"},\"baxis\":{\"gridcolor\":\"white\",\"linecolor\":\"white\",\"ticks\":\"\"},\"caxis\":{\"gridcolor\":\"white\",\"linecolor\":\"white\",\"ticks\":\"\"}},\"coloraxis\":{\"colorbar\":{\"outlinewidth\":0,\"ticks\":\"\"}},\"colorscale\":{\"sequential\":[[0.0,\"#0d0887\"],[0.1111111111111111,\"#46039f\"],[0.2222222222222222,\"#7201a8\"],[0.3333333333333333,\"#9c179e\"],[0.4444444444444444,\"#bd3786\"],[0.5555555555555556,\"#d8576b\"],[0.6666666666666666,\"#ed7953\"],[0.7777777777777778,\"#fb9f3a\"],[0.8888888888888888,\"#fdca26\"],[1.0,\"#f0f921\"]],\"sequentialminus\":[[0.0,\"#0d0887\"],[0.1111111111111111,\"#46039f\"],[0.2222222222222222,\"#7201a8\"],[0.3333333333333333,\"#9c179e\"],[0.4444444444444444,\"#bd3786\"],[0.5555555555555556,\"#d8576b\"],[0.6666666666666666,\"#ed7953\"],[0.7777777777777778,\"#fb9f3a\"],[0.8888888888888888,\"#fdca26\"],[1.0,\"#f0f921\"]],\"diverging\":[[0,\"#8e0152\"],[0.1,\"#c51b7d\"],[0.2,\"#de77ae\"],[0.3,\"#f1b6da\"],[0.4,\"#fde0ef\"],[0.5,\"#f7f7f7\"],[0.6,\"#e6f5d0\"],[0.7,\"#b8e186\"],[0.8,\"#7fbc41\"],[0.9,\"#4d9221\"],[1,\"#276419\"]]},\"xaxis\":{\"gridcolor\":\"white\",\"linecolor\":\"white\",\"ticks\":\"\",\"title\":{\"standoff\":15},\"zerolinecolor\":\"white\",\"automargin\":true,\"zerolinewidth\":2},\"yaxis\":{\"gridcolor\":\"white\",\"linecolor\":\"white\",\"ticks\":\"\",\"title\":{\"standoff\":15},\"zerolinecolor\":\"white\",\"automargin\":true,\"zerolinewidth\":2},\"scene\":{\"xaxis\":{\"backgroundcolor\":\"#E5ECF6\",\"gridcolor\":\"white\",\"linecolor\":\"white\",\"showbackground\":true,\"ticks\":\"\",\"zerolinecolor\":\"white\",\"gridwidth\":2},\"yaxis\":{\"backgroundcolor\":\"#E5ECF6\",\"gridcolor\":\"white\",\"linecolor\":\"white\",\"showbackground\":true,\"ticks\":\"\",\"zerolinecolor\":\"white\",\"gridwidth\":2},\"zaxis\":{\"backgroundcolor\":\"#E5ECF6\",\"gridcolor\":\"white\",\"linecolor\":\"white\",\"showbackground\":true,\"ticks\":\"\",\"zerolinecolor\":\"white\",\"gridwidth\":2}},\"shapedefaults\":{\"line\":{\"color\":\"#2a3f5f\"}},\"annotationdefaults\":{\"arrowcolor\":\"#2a3f5f\",\"arrowhead\":0,\"arrowwidth\":1},\"geo\":{\"bgcolor\":\"white\",\"landcolor\":\"#E5ECF6\",\"subunitcolor\":\"white\",\"showland\":true,\"showlakes\":true,\"lakecolor\":\"white\"},\"title\":{\"x\":0.05},\"mapbox\":{\"style\":\"light\"}}}},                        {\"responsive\": true}                    ).then(function(){\n",
       "                            \n",
       "var gd = document.getElementById('a9427bd3-7cb7-46b0-a2e7-4a72d02e73aa');\n",
       "var x = new MutationObserver(function (mutations, observer) {{\n",
       "        var display = window.getComputedStyle(gd).display;\n",
       "        if (!display || display === 'none') {{\n",
       "            console.log([gd, 'removed!']);\n",
       "            Plotly.purge(gd);\n",
       "            observer.disconnect();\n",
       "        }}\n",
       "}});\n",
       "\n",
       "// Listen for the removal of the full notebook cells\n",
       "var notebookContainer = gd.closest('#notebook-container');\n",
       "if (notebookContainer) {{\n",
       "    x.observe(notebookContainer, {childList: true});\n",
       "}}\n",
       "\n",
       "// Listen for the clearing of the current output cell\n",
       "var outputEl = gd.closest('.output');\n",
       "if (outputEl) {{\n",
       "    x.observe(outputEl, {childList: true});\n",
       "}}\n",
       "\n",
       "                        })                };                });            </script>        </div>"
      ]
     },
     "metadata": {},
     "output_type": "display_data"
    }
   ],
   "source": [
    "import plotly.express as px\n",
    "import plotly.graph_objects as go\n",
    "\n",
    "fig = go.Figure()\n",
    "\n",
    "for vehicle_id in plot_df[\"vehicle_id\"].unique().to_list():\n",
    "    fig.add_trace(\n",
    "        go.Scatter(\n",
    "            x=plot_df.filter(pl.col(\"vehicle_id\") == vehicle_id)[\"sim_time\"],\n",
    "            y=plot_df.filter(pl.col(\"vehicle_id\") == vehicle_id)[\"front_s_smooth_lowes\"],\n",
    "            mode=\"lines\",\n",
    "            name=f\"vehicle_id: {vehicle_id}\",\n",
    "            # color by the lane index\n",
    "        )\n",
    "    )\n",
    "\n",
    "\n",
    "for vehicle_id in plot_df[\"vehicle_id_leader\"].unique().to_list():\n",
    "    fig.add_trace(\n",
    "        go.Scatter(\n",
    "            x=plot_df.filter(pl.col(\"vehicle_id_leader\") == vehicle_id)[\"sim_time\"],\n",
    "            y=plot_df.filter(pl.col(\"vehicle_id_leader\") == vehicle_id)[\n",
    "                \"front_s_smooth_leader_lowes\"\n",
    "            ],\n",
    "            mode=\"lines\",\n",
    "            name=f\"vehicle_id_leader: {vehicle_id}\",\n",
    "        )\n",
    "    )\n",
    "\n",
    "    fig.add_trace(\n",
    "        go.Scatter(\n",
    "            x=plot_df.filter(pl.col(\"vehicle_id\") == vehicle_id)[\"sim_time\"],\n",
    "            y=plot_df.filter(pl.col(\"vehicle_id\") == vehicle_id)[\"front_s_smooth\"],\n",
    "            mode=\"lines\",\n",
    "            name=f\"vehicle_id: {vehicle_id} raw\",\n",
    "            # color by the lane index\n",
    "        )\n",
    "    )\n",
    "\n",
    "fig.show()"
   ]
  },
  {
   "cell_type": "code",
   "execution_count": null,
   "metadata": {},
   "outputs": [],
   "source": [
    "import plotly.express as px\n",
    "import plotly.graph_objects as go\n",
    "\n",
    "fig = go.Figure()\n",
    "\n",
    "for vehicle_id in plot_df[\"vehicle_id\"].unique().to_list():\n",
    "    fig.add_trace(\n",
    "        go.Scatter(\n",
    "            x=plot_df.filter(pl.col(\"vehicle_id\") == vehicle_id)[\"sim_time\"],\n",
    "            y=plot_df.filter(pl.col(\"vehicle_id\") == vehicle_id)[\"lowess\"],\n",
    "            mode=\"lines\",\n",
    "            name=f\"vehicle_id: {vehicle_id}\",\n",
    "            # color by the lane index\n",
    "        )\n",
    "    )\n",
    "\n",
    "for vehicle_id in plot_df[\"vehicle_id_leader\"].unique().to_list():\n",
    "    fig.add_trace(\n",
    "        go.Scatter(\n",
    "            x=plot_df.filter(pl.col(\"vehicle_id_leader\") == vehicle_id)[\"sim_time\"],\n",
    "            y=plot_df.filter(pl.col(\"vehicle_id_leader\") == vehicle_id)[\n",
    "                \"lowess_leader\"\n",
    "            ],\n",
    "            mode=\"lines\",\n",
    "            name=f\"vehicle_id_leader: {vehicle_id}\",\n",
    "        )\n",
    "    )\n",
    "\n",
    "fig.show()import plotly.express as px\n",
    "import plotly.graph_objects as go\n",
    "\n",
    "fig = go.Figure()\n",
    "\n",
    "for vehicle_id in plot_df[\"vehicle_id\"].unique().to_list():\n",
    "    fig.add_trace(\n",
    "        go.Scatter(\n",
    "            x=plot_df.filter(pl.col(\"vehicle_id\") == vehicle_id)[\"sim_time\"],\n",
    "            y=plot_df.filter(pl.col(\"vehicle_id\") == vehicle_id)[\"lowess\"],\n",
    "            mode=\"lines\",\n",
    "            name=f\"vehicle_id: {vehicle_id}\",\n",
    "            # color by the lane index\n",
    "        )\n",
    "    )\n",
    "\n",
    "for vehicle_id in plot_df[\"vehicle_id_leader\"].unique().to_list():\n",
    "    fig.add_trace(\n",
    "        go.Scatter(\n",
    "            x=plot_df.filter(pl.col(\"vehicle_id_leader\") == vehicle_id)[\"sim_time\"],\n",
    "            y=plot_df.filter(pl.col(\"vehicle_id_leader\") == vehicle_id)[\n",
    "                \"lowess_leader\"\n",
    "            ],\n",
    "            mode=\"lines\",\n",
    "            name=f\"vehicle_id_leader: {vehicle_id}\",\n",
    "        )\n",
    "    )\n",
    "\n",
    "fig.show()"
   ]
  },
  {
   "cell_type": "code",
   "execution_count": 18,
   "metadata": {},
   "outputs": [
    {
     "data": {
      "application/vnd.plotly.v1+json": {
       "config": {
        "plotlyServerURL": "https://plot.ly"
       },
       "data": [
        {
         "hovertemplate": "lane_index=0<br>epoch_time=%{x}<br>value=%{y}<extra></extra>",
         "legendgroup": "0",
         "marker": {
          "color": "#636efa",
          "symbol": "circle"
         },
         "mode": "markers",
         "name": "0",
         "orientation": "v",
         "showlegend": true,
         "type": "scatter",
         "x": [
          "2023-03-12T21:41:27.400000+00:00",
          "2023-03-12T21:41:27.500000+00:00",
          "2023-03-12T21:41:27.600000+00:00",
          "2023-03-12T21:41:27.700000+00:00",
          "2023-03-12T21:41:27.800000+00:00",
          "2023-03-12T21:41:27.900000+00:00",
          "2023-03-12T21:41:28+00:00",
          "2023-03-12T21:41:28.100000+00:00",
          "2023-03-12T21:41:28.200000+00:00",
          "2023-03-12T21:41:28.300000+00:00",
          "2023-03-12T21:41:28.400000+00:00",
          "2023-03-12T21:41:28.500000+00:00",
          "2023-03-12T21:41:28.600000+00:00",
          "2023-03-12T21:41:28.700000+00:00",
          "2023-03-12T21:41:28.800000+00:00",
          "2023-03-12T21:41:28.900000+00:00",
          "2023-03-12T21:41:29+00:00",
          "2023-03-12T21:41:29.100000+00:00",
          "2023-03-12T21:41:29.200000+00:00",
          "2023-03-12T21:41:29.300000+00:00",
          "2023-03-12T21:41:29.400000+00:00",
          "2023-03-12T21:41:29.500000+00:00",
          "2023-03-12T21:41:29.600000+00:00",
          "2023-03-12T21:41:29.700000+00:00",
          "2023-03-12T21:41:29.800000+00:00",
          "2023-03-12T21:41:29.900000+00:00",
          "2023-03-12T21:41:30+00:00",
          "2023-03-12T21:41:30.100000+00:00",
          "2023-03-12T21:41:30.200000+00:00",
          "2023-03-12T21:41:30.300000+00:00",
          "2023-03-12T21:41:30.400000+00:00",
          "2023-03-12T21:41:30.500000+00:00",
          "2023-03-12T21:41:30.600000+00:00",
          "2023-03-12T21:41:30.700000+00:00",
          "2023-03-12T21:41:30.800000+00:00",
          "2023-03-12T21:41:30.900000+00:00",
          "2023-03-12T21:41:31+00:00",
          "2023-03-12T21:41:31.100000+00:00",
          "2023-03-12T21:41:31.200000+00:00",
          "2023-03-12T21:41:31.300000+00:00",
          "2023-03-12T21:41:31.400000+00:00",
          "2023-03-12T21:41:31.500000+00:00",
          "2023-03-12T21:41:31.600000+00:00",
          "2023-03-12T21:41:31.700000+00:00",
          "2023-03-12T21:41:31.800000+00:00",
          "2023-03-12T21:41:31.900000+00:00",
          "2023-03-12T21:41:32+00:00",
          "2023-03-12T21:41:32.100000+00:00",
          "2023-03-12T21:41:32.200000+00:00",
          "2023-03-12T21:41:32.300000+00:00",
          "2023-03-12T21:41:32.400000+00:00",
          "2023-03-12T21:41:32.500000+00:00",
          "2023-03-12T21:41:32.600000+00:00",
          "2023-03-12T21:41:32.700000+00:00",
          "2023-03-12T21:41:32.800000+00:00",
          "2023-03-12T21:41:32.900000+00:00",
          "2023-03-12T21:41:33+00:00",
          "2023-03-12T21:41:33.100000+00:00",
          "2023-03-12T21:41:33.200000+00:00",
          "2023-03-12T21:41:33.300000+00:00",
          "2023-03-12T21:41:33.400000+00:00",
          "2023-03-12T21:41:33.500000+00:00",
          "2023-03-12T21:41:33.600000+00:00",
          "2023-03-12T21:41:33.700000+00:00",
          "2023-03-12T21:41:33.800000+00:00",
          "2023-03-12T21:41:33.900000+00:00",
          "2023-03-12T21:41:34+00:00",
          "2023-03-12T21:41:34.100000+00:00",
          "2023-03-12T21:41:34.200000+00:00",
          "2023-03-12T21:41:34.300000+00:00",
          "2023-03-12T21:41:34.400000+00:00",
          "2023-03-12T21:41:34.500000+00:00",
          "2023-03-12T21:41:34.600000+00:00",
          "2023-03-12T21:41:34.700000+00:00",
          "2023-03-12T21:41:34.800000+00:00",
          "2023-03-12T21:41:34.900000+00:00",
          "2023-03-12T21:41:35+00:00",
          "2023-03-12T21:41:35.100000+00:00",
          "2023-03-12T21:41:35.200000+00:00",
          "2023-03-12T21:41:35.300000+00:00",
          "2023-03-12T21:41:35.400000+00:00",
          "2023-03-12T21:41:35.500000+00:00",
          "2023-03-12T21:41:35.600000+00:00",
          "2023-03-12T21:41:35.700000+00:00",
          "2023-03-12T21:41:35.800000+00:00",
          "2023-03-12T21:41:35.900000+00:00",
          "2023-03-12T21:41:36+00:00",
          "2023-03-12T21:41:36.100000+00:00",
          "2023-03-12T21:41:36.200000+00:00",
          "2023-03-12T21:41:36.300000+00:00",
          "2023-03-12T21:41:36.400000+00:00",
          "2023-03-12T21:41:36.500000+00:00",
          "2023-03-12T21:41:36.600000+00:00",
          "2023-03-12T21:41:36.700000+00:00",
          "2023-03-12T21:41:36.800000+00:00",
          "2023-03-12T21:41:36.900000+00:00",
          "2023-03-12T21:41:37+00:00",
          "2023-03-12T21:41:37.100000+00:00",
          "2023-03-12T21:41:37.200000+00:00",
          "2023-03-12T21:41:37.300000+00:00",
          "2023-03-12T21:41:37.400000+00:00",
          "2023-03-12T21:41:37.500000+00:00",
          "2023-03-12T21:41:37.600000+00:00",
          "2023-03-12T21:41:37.700000+00:00",
          "2023-03-12T21:41:37.800000+00:00",
          "2023-03-12T21:41:37.900000+00:00",
          "2023-03-12T21:41:38+00:00",
          "2023-03-12T21:41:38.100000+00:00",
          "2023-03-12T21:41:38.200000+00:00",
          "2023-03-12T21:41:38.300000+00:00",
          "2023-03-12T21:41:38.400000+00:00",
          "2023-03-12T21:41:38.500000+00:00",
          "2023-03-12T21:41:38.600000+00:00",
          "2023-03-12T21:41:38.700000+00:00",
          "2023-03-12T21:41:38.800000+00:00",
          "2023-03-12T21:41:38.900000+00:00",
          "2023-03-12T21:41:39+00:00",
          "2023-03-12T21:41:39.100000+00:00",
          "2023-03-12T21:41:39.200000+00:00",
          "2023-03-12T21:41:39.300000+00:00",
          "2023-03-12T21:41:39.400000+00:00",
          "2023-03-12T21:41:39.500000+00:00",
          "2023-03-12T21:41:39.600000+00:00",
          "2023-03-12T21:41:39.700000+00:00",
          "2023-03-12T21:41:39.800000+00:00",
          "2023-03-12T21:41:39.900000+00:00",
          "2023-03-12T21:41:40+00:00",
          "2023-03-12T21:41:40.100000+00:00",
          "2023-03-12T21:41:40.200000+00:00",
          "2023-03-12T21:41:40.300000+00:00",
          "2023-03-12T21:41:40.400000+00:00",
          "2023-03-12T21:41:40.500000+00:00",
          "2023-03-12T21:41:40.600000+00:00",
          "2023-03-12T21:41:40.700000+00:00",
          "2023-03-12T21:41:40.800000+00:00",
          "2023-03-12T21:41:40.900000+00:00",
          "2023-03-12T21:41:41+00:00",
          "2023-03-12T21:41:41.100000+00:00",
          "2023-03-12T21:41:41.200000+00:00",
          "2023-03-12T21:41:41.300000+00:00",
          "2023-03-12T21:41:41.400000+00:00",
          "2023-03-12T21:41:41.500000+00:00",
          "2023-03-12T21:41:41.600000+00:00",
          "2023-03-12T21:41:41.700000+00:00",
          "2023-03-12T21:41:41.800000+00:00",
          "2023-03-12T21:41:41.900000+00:00",
          "2023-03-12T21:41:42+00:00",
          "2023-03-12T21:41:42.100000+00:00",
          "2023-03-12T21:41:42.200000+00:00",
          "2023-03-12T21:41:42.300000+00:00",
          "2023-03-12T21:41:42.400000+00:00",
          "2023-03-12T21:41:42.500000+00:00",
          "2023-03-12T21:41:42.600000+00:00",
          "2023-03-12T21:41:42.700000+00:00",
          "2023-03-12T21:41:42.800000+00:00",
          "2023-03-12T21:41:42.900000+00:00",
          "2023-03-12T21:41:43+00:00",
          "2023-03-12T21:41:43.100000+00:00",
          "2023-03-12T21:41:43.200000+00:00",
          "2023-03-12T21:41:43.300000+00:00",
          "2023-03-12T21:41:43.400000+00:00",
          "2023-03-12T21:41:43.500000+00:00",
          "2023-03-12T21:41:43.600000+00:00",
          "2023-03-12T21:41:43.700000+00:00",
          "2023-03-12T21:41:43.800000+00:00",
          "2023-03-12T21:41:43.900000+00:00",
          "2023-03-12T21:41:44+00:00",
          "2023-03-12T21:41:44.100000+00:00",
          "2023-03-12T21:41:44.200000+00:00",
          "2023-03-12T21:41:44.300000+00:00",
          "2023-03-12T21:41:44.400000+00:00",
          "2023-03-12T21:41:44.500000+00:00",
          "2023-03-12T21:41:44.600000+00:00",
          "2023-03-12T21:41:44.700000+00:00",
          "2023-03-12T21:41:44.800000+00:00",
          "2023-03-12T21:41:44.900000+00:00",
          "2023-03-12T21:41:45+00:00",
          "2023-03-12T21:41:45.100000+00:00",
          "2023-03-12T21:41:45.200000+00:00",
          "2023-03-12T21:41:45.300000+00:00",
          "2023-03-12T21:41:45.400000+00:00",
          "2023-03-12T21:41:45.500000+00:00",
          "2023-03-12T21:41:45.600000+00:00",
          "2023-03-12T21:41:45.700000+00:00",
          "2023-03-12T21:41:45.800000+00:00",
          "2023-03-12T21:41:45.900000+00:00",
          "2023-03-12T21:41:46+00:00",
          "2023-03-12T21:41:46.100000+00:00",
          "2023-03-12T21:41:46.200000+00:00",
          "2023-03-12T21:41:46.300000+00:00",
          "2023-03-12T21:41:46.400000+00:00",
          "2023-03-12T21:41:46.500000+00:00",
          "2023-03-12T21:41:46.600000+00:00",
          "2023-03-12T21:41:46.700000+00:00",
          "2023-03-12T21:41:46.800000+00:00",
          "2023-03-12T21:41:46.900000+00:00",
          "2023-03-12T21:41:47+00:00",
          "2023-03-12T21:41:47.100000+00:00",
          "2023-03-12T21:41:47.200000+00:00",
          "2023-03-12T21:41:47.300000+00:00",
          "2023-03-12T21:41:47.400000+00:00",
          "2023-03-12T21:41:47.500000+00:00",
          "2023-03-12T21:41:47.600000+00:00",
          "2023-03-12T21:41:47.700000+00:00",
          "2023-03-12T21:41:47.800000+00:00",
          "2023-03-12T21:41:47.900000+00:00",
          "2023-03-12T21:41:48+00:00",
          "2023-03-12T21:41:48.100000+00:00",
          "2023-03-12T21:41:48.200000+00:00",
          "2023-03-12T21:41:48.300000+00:00",
          "2023-03-12T21:41:48.400000+00:00",
          "2023-03-12T21:41:48.500000+00:00",
          "2023-03-12T21:41:48.600000+00:00",
          "2023-03-12T21:41:48.700000+00:00",
          "2023-03-12T21:41:48.800000+00:00",
          "2023-03-12T21:41:48.900000+00:00",
          "2023-03-12T21:41:49+00:00",
          "2023-03-12T21:41:49.100000+00:00",
          "2023-03-12T21:41:49.200000+00:00",
          "2023-03-12T21:41:49.300000+00:00",
          "2023-03-12T21:41:49.400000+00:00",
          "2023-03-12T21:41:49.500000+00:00",
          "2023-03-12T21:41:49.600000+00:00",
          "2023-03-12T21:41:49.700000+00:00",
          "2023-03-12T21:41:49.800000+00:00",
          "2023-03-12T21:41:49.900000+00:00",
          "2023-03-12T21:41:50+00:00",
          "2023-03-12T21:41:50.100000+00:00",
          "2023-03-12T21:41:50.200000+00:00",
          "2023-03-12T21:41:50.300000+00:00",
          "2023-03-12T21:41:50.400000+00:00",
          "2023-03-12T21:41:50.500000+00:00",
          "2023-03-12T21:41:50.600000+00:00",
          "2023-03-12T21:41:50.700000+00:00",
          "2023-03-12T21:41:50.800000+00:00",
          "2023-03-12T21:41:50.900000+00:00",
          "2023-03-12T21:41:51+00:00",
          "2023-03-12T21:41:51.100000+00:00",
          "2023-03-12T21:41:51.200000+00:00",
          "2023-03-12T21:41:51.300000+00:00",
          "2023-03-12T21:41:51.400000+00:00",
          "2023-03-12T21:41:51.500000+00:00",
          "2023-03-12T21:41:51.600000+00:00",
          "2023-03-12T21:41:51.700000+00:00",
          "2023-03-12T21:41:51.800000+00:00",
          "2023-03-12T21:41:51.900000+00:00",
          "2023-03-12T21:41:52+00:00",
          "2023-03-12T21:41:52.100000+00:00",
          "2023-03-12T21:41:52.200000+00:00",
          "2023-03-12T21:41:52.300000+00:00",
          "2023-03-12T21:41:52.400000+00:00",
          "2023-03-12T21:41:52.500000+00:00",
          "2023-03-12T21:41:52.600000+00:00",
          "2023-03-12T21:41:52.700000+00:00",
          "2023-03-12T21:41:52.800000+00:00",
          "2023-03-12T21:41:52.900000+00:00",
          "2023-03-12T21:41:53+00:00",
          "2023-03-12T21:41:53.100000+00:00",
          "2023-03-12T21:41:53.200000+00:00",
          "2023-03-12T21:41:53.300000+00:00",
          "2023-03-12T21:41:53.400000+00:00",
          "2023-03-12T21:41:53.500000+00:00",
          "2023-03-12T21:41:53.600000+00:00",
          "2023-03-12T21:41:53.700000+00:00",
          "2023-03-12T21:41:53.800000+00:00",
          "2023-03-12T21:41:53.900000+00:00",
          "2023-03-12T21:41:54+00:00",
          "2023-03-12T21:41:54.100000+00:00",
          "2023-03-12T21:41:54.200000+00:00",
          "2023-03-12T21:41:54.300000+00:00",
          "2023-03-12T21:41:54.400000+00:00",
          "2023-03-12T21:41:54.500000+00:00",
          "2023-03-12T21:41:54.600000+00:00",
          "2023-03-12T21:41:54.700000+00:00",
          "2023-03-12T21:41:54.800000+00:00",
          "2023-03-12T21:41:54.900000+00:00",
          "2023-03-12T21:41:55+00:00",
          "2023-03-12T21:41:55.100000+00:00",
          "2023-03-12T21:41:55.200000+00:00",
          "2023-03-12T21:41:55.300000+00:00",
          "2023-03-12T21:41:55.400000+00:00",
          "2023-03-12T21:41:55.500000+00:00",
          "2023-03-12T21:41:55.600000+00:00",
          "2023-03-12T21:41:55.700000+00:00",
          "2023-03-12T21:41:55.800000+00:00",
          "2023-03-12T21:41:55.900000+00:00",
          "2023-03-12T21:41:56+00:00",
          "2023-03-12T21:41:56.100000+00:00",
          "2023-03-12T21:41:56.200000+00:00",
          "2023-03-12T21:41:56.300000+00:00",
          "2023-03-12T21:41:56.400000+00:00",
          "2023-03-12T21:41:56.500000+00:00",
          "2023-03-12T21:41:56.600000+00:00",
          "2023-03-12T21:41:56.700000+00:00",
          "2023-03-12T21:41:56.800000+00:00",
          "2023-03-12T21:41:56.900000+00:00",
          "2023-03-12T21:41:57+00:00",
          "2023-03-12T21:41:57.100000+00:00",
          "2023-03-12T21:41:57.200000+00:00",
          "2023-03-12T21:41:57.300000+00:00",
          "2023-03-12T21:41:57.400000+00:00",
          "2023-03-12T21:41:57.500000+00:00",
          "2023-03-12T21:41:57.600000+00:00",
          "2023-03-12T21:41:57.700000+00:00",
          "2023-03-12T21:41:57.800000+00:00",
          "2023-03-12T21:41:57.900000+00:00",
          "2023-03-12T21:41:58+00:00",
          "2023-03-12T21:41:58.100000+00:00"
         ],
         "xaxis": "x",
         "y": [
          1152.681053080325,
          1153.0860823772,
          1153.439438016443,
          1153.871781848346,
          1154.3050870912828,
          1154.51322687155,
          1154.8405860211972,
          1155.1596843537716,
          1155.3312933676598,
          1155.510359592781,
          1155.7084835078092,
          1155.9880600685901,
          1156.277120617265,
          1156.5326446338997,
          1156.850147845205,
          1157.2702770161436,
          1157.6630743594078,
          1157.9382151019324,
          1158.4655612322235,
          1159.071571126063,
          1159.534438343728,
          1159.8837276332106,
          1160.322331098543,
          1160.5895627774912,
          1160.7767739370088,
          1161.167194933511,
          1161.5759481187442,
          1161.897544012682,
          1162.1808276219626,
          1162.4149166065713,
          1162.5435449321158,
          1162.7545582544901,
          1163.0875056954933,
          1163.3982625103863,
          1163.608240468383,
          1163.8769556084678,
          1164.119605894592,
          1164.454444767213,
          1164.8424755664737,
          1164.992857929407,
          1165.620254874327,
          1166.048249910676,
          1166.5915469427684,
          1167.119682046095,
          1167.72371042273,
          1168.2426331804063,
          1168.7486840247855,
          1169.1905594950501,
          1169.5838733870478,
          1169.873433473867,
          1170.1492621864572,
          1170.4299601186697,
          1170.708238725741,
          1171.118867056367,
          1171.4740169981897,
          1172.084078390221,
          1172.5949406743994,
          1173.3001869052282,
          1173.7837476510585,
          1174.408561044426,
          1174.938534175048,
          1175.45867278981,
          1175.9410335708328,
          1176.55179576982,
          1177.1015393187722,
          1177.562174748787,
          1178.0312816241196,
          1178.5009677055345,
          1179.0363272424784,
          1179.5728193146315,
          1180.1509873113403,
          1180.7631526962414,
          1181.464536210894,
          1182.1068351540193,
          1182.8920766772565,
          1183.6963216109832,
          1184.356019105526,
          1185.072383204797,
          1185.7106280954113,
          1186.2073057647697,
          1186.6456423443663,
          1187.3035698471147,
          1187.8865364392461,
          1188.5654758903097,
          1189.1537008242508,
          1189.833273854188,
          1190.535764227919,
          1191.2178133220489,
          1192.0707291848503,
          1192.771066541405,
          1193.6038175994397,
          1194.4899428995532,
          1195.3402303660528,
          1195.9476346524687,
          1196.7705126648696,
          1197.4403164008686,
          1198.1197525672385,
          1198.6990011573707,
          1199.373961906121,
          1200.0155452907095,
          1200.701794934085,
          1201.3782194000958,
          1202.2043170024704,
          1202.9901638144981,
          1203.8159936224165,
          1204.5830002817645,
          1205.252798197553,
          1205.8794758174329,
          1206.5815342616281,
          1207.1630711338044,
          1207.883577195064,
          1208.6016909880252,
          1209.2954628591167,
          1210.044311628539,
          1211.050809910425,
          1212.0588939718093,
          1213.0914163479142,
          1214.1839602256432,
          1215.3458184864544,
          1216.5700833661028,
          1217.659539764041,
          1218.551372807991,
          1219.6025303551023,
          1220.6686114336837,
          1221.6555397337454,
          1222.5928851341052,
          1223.6846775891258,
          1224.6839753464321,
          1225.7003337655108,
          1226.7953496897278,
          1227.9070743132354,
          1229.148606200614,
          1230.3874893812283,
          1231.4582697174694,
          1232.410385420499,
          1231.9479889368959,
          1234.2964430869274,
          1235.2779380242407,
          1236.231045302428,
          1236.9202742614787,
          1237.6931724495907,
          1238.2815157440564,
          1238.566474708704,
          1239.1253105101869,
          1241.9251447838108,
          1242.863001522728,
          1243.7159561611434,
          1244.3555387603024,
          1245.4368932810924,
          1246.618376842214,
          1248.052191628268,
          1249.1998950822822,
          1250.468560701366,
          1251.6334693431406,
          1252.8679894272595,
          1254.322293675278,
          1255.1065844166944,
          1256.0073239826386,
          1257.4997627256473,
          1258.223368650992,
          1259.2527139145009,
          1260.3428652183525,
          1261.155964194212,
          1262.1389779109652,
          1263.3375413057768,
          1264.5194088816843,
          1265.7037110628535,
          1266.8907087489474,
          1267.966850969472,
          1269.4715234342962,
          1270.5225983967764,
          1271.6910988248699,
          1272.6765978719095,
          1274.0305354003008,
          1275.1950894705813,
          1276.1977275112474,
          1277.4375034464272,
          1278.9623761637572,
          1279.8531460580905,
          1280.3060018840301,
          1281.529657315857,
          1282.840083311769,
          1284.3035847998258,
          1285.7834510659368,
          1287.3729922659074,
          1288.5021367784138,
          1289.8618412758751,
          1290.7147419153014,
          1292.1545842356081,
          1293.3394832784054,
          1294.7875784178345,
          1296.1299534849704,
          1297.3611518729956,
          1298.796605035012,
          1300.0353336896753,
          1300.9409909506026,
          1302.1616983044412,
          1303.3161348265262,
          1304.610235292407,
          1305.9195598695464,
          1307.313125712027,
          1308.5538026466695,
          1309.6751728825031,
          1310.7095093232185,
          1311.7471545065223,
          1313.218805314266,
          1314.4565438763207,
          1316.2747402005286,
          1317.1707686308066,
          1318.0862163700456,
          1319.6017572934843,
          1320.2164671472308,
          1320.8107476327618,
          1322.1323202414062,
          1324.1798672484156,
          1325.1524290476075,
          1327.029248042995,
          1328.413164399565,
          1329.3332322507797,
          1330.252964796492,
          1331.8691799142332,
          1332.5940117180887,
          1334.2790070764167,
          1335.9501872675219,
          1337.275388074323,
          1337.704071954787,
          1339.2890762183229,
          1340.0460637531392,
          1341.1801252086073,
          1342.064049236144,
          1343.6604662610614,
          1344.6107846067844,
          1346.091774066609,
          1347.4092344853436,
          1348.7980453669995,
          1350.274303201376,
          1351.4667590996762,
          1352.541790554592,
          1353.6468841375765,
          1354.8947301953715,
          1355.833983633726,
          1357.1701872605242,
          1358.2543937314729,
          1359.4474796736433,
          1360.8943160348795,
          1362.156841342993,
          1363.5077165179873,
          1364.769530386848,
          1365.7317610282964,
          1366.9820046113798,
          1368.2252433895505,
          1369.468928432316,
          1370.6940293192542,
          1371.9085423878068,
          1372.866604866218,
          1374.1031656778111,
          1375.2941649635416,
          1376.4826415268567,
          1377.6716066204137,
          1378.8635806763957,
          1379.6752506105752,
          1380.8782540192701,
          1382.0884590973951,
          1383.3064766786897,
          1384.5332833193147,
          1385.7700997255647,
          1386.7842212074052,
          1388.0430375733317,
          1389.3129496643605,
          1390.7055916611262,
          1392.1706505890686,
          1393.4672814223961,
          1394.7707482192686,
          1396.0809402747414,
          1397.6250603012172,
          1398.9483209027792,
          1400.2773003949667,
          1401.6126275434042,
          1403.0899295622773,
          1404.721228973269,
          1406.0749602569474,
          1407.433480763706,
          1408.7957854512401,
          1410.161107428791,
          1411.499254594425,
          1412.8692413352233,
          1414.2402127421626,
          1415.6117947734126,
          1416.9837430155771,
          1418.35630160935,
          1419.7296195275942,
          1421.079244842862,
          1422.453512419952,
          1423.828302883958,
          1425.2026925323955,
          1426.5769601096686,
          1427.9508610986913,
          1429.3245183252825,
          1430.69841969247,
          1432.0730534815325,
          1433.4489075788763,
          1434.8262115588398,
          1436.205361950547,
          1437.5859766786587,
          1438.9680567568187,
          1440.3518286161107,
          1441.737136899409,
          1443.0361615228994
         ],
         "yaxis": "y"
        },
        {
         "mode": "lines",
         "name": "lowess",
         "type": "scatter",
         "x": [
          "2023-03-12T21:41:27.400",
          "2023-03-12T21:41:27.500",
          "2023-03-12T21:41:27.600",
          "2023-03-12T21:41:27.700",
          "2023-03-12T21:41:27.800",
          "2023-03-12T21:41:27.900",
          "2023-03-12T21:41:28.000",
          "2023-03-12T21:41:28.100",
          "2023-03-12T21:41:28.200",
          "2023-03-12T21:41:28.300",
          "2023-03-12T21:41:28.400",
          "2023-03-12T21:41:28.500",
          "2023-03-12T21:41:28.600",
          "2023-03-12T21:41:28.700",
          "2023-03-12T21:41:28.800",
          "2023-03-12T21:41:28.900",
          "2023-03-12T21:41:29.000",
          "2023-03-12T21:41:29.100",
          "2023-03-12T21:41:29.200",
          "2023-03-12T21:41:29.300",
          "2023-03-12T21:41:29.400",
          "2023-03-12T21:41:29.500",
          "2023-03-12T21:41:29.600",
          "2023-03-12T21:41:29.700",
          "2023-03-12T21:41:29.800",
          "2023-03-12T21:41:29.900",
          "2023-03-12T21:41:30.000",
          "2023-03-12T21:41:30.100",
          "2023-03-12T21:41:30.200",
          "2023-03-12T21:41:30.300",
          "2023-03-12T21:41:30.400",
          "2023-03-12T21:41:30.500",
          "2023-03-12T21:41:30.600",
          "2023-03-12T21:41:30.700",
          "2023-03-12T21:41:30.800",
          "2023-03-12T21:41:30.900",
          "2023-03-12T21:41:31.000",
          "2023-03-12T21:41:31.100",
          "2023-03-12T21:41:31.200",
          "2023-03-12T21:41:31.300",
          "2023-03-12T21:41:31.400",
          "2023-03-12T21:41:31.500",
          "2023-03-12T21:41:31.600",
          "2023-03-12T21:41:31.700",
          "2023-03-12T21:41:31.800",
          "2023-03-12T21:41:31.900",
          "2023-03-12T21:41:32.000",
          "2023-03-12T21:41:32.100",
          "2023-03-12T21:41:32.200",
          "2023-03-12T21:41:32.300",
          "2023-03-12T21:41:32.400",
          "2023-03-12T21:41:32.500",
          "2023-03-12T21:41:32.600",
          "2023-03-12T21:41:32.700",
          "2023-03-12T21:41:32.800",
          "2023-03-12T21:41:32.900",
          "2023-03-12T21:41:33.000",
          "2023-03-12T21:41:33.100",
          "2023-03-12T21:41:33.200",
          "2023-03-12T21:41:33.300",
          "2023-03-12T21:41:33.400",
          "2023-03-12T21:41:33.500",
          "2023-03-12T21:41:33.600",
          "2023-03-12T21:41:33.700",
          "2023-03-12T21:41:33.800",
          "2023-03-12T21:41:33.900",
          "2023-03-12T21:41:34.000",
          "2023-03-12T21:41:34.100",
          "2023-03-12T21:41:34.200",
          "2023-03-12T21:41:34.300",
          "2023-03-12T21:41:34.400",
          "2023-03-12T21:41:34.500",
          "2023-03-12T21:41:34.600",
          "2023-03-12T21:41:34.700",
          "2023-03-12T21:41:34.800",
          "2023-03-12T21:41:34.900",
          "2023-03-12T21:41:35.000",
          "2023-03-12T21:41:35.100",
          "2023-03-12T21:41:35.200",
          "2023-03-12T21:41:35.300",
          "2023-03-12T21:41:35.400",
          "2023-03-12T21:41:35.500",
          "2023-03-12T21:41:35.600",
          "2023-03-12T21:41:35.700",
          "2023-03-12T21:41:35.800",
          "2023-03-12T21:41:35.900",
          "2023-03-12T21:41:36.000",
          "2023-03-12T21:41:36.100",
          "2023-03-12T21:41:36.200",
          "2023-03-12T21:41:36.300",
          "2023-03-12T21:41:36.400",
          "2023-03-12T21:41:36.500",
          "2023-03-12T21:41:36.600",
          "2023-03-12T21:41:36.700",
          "2023-03-12T21:41:36.800",
          "2023-03-12T21:41:36.900",
          "2023-03-12T21:41:37.000",
          "2023-03-12T21:41:37.100",
          "2023-03-12T21:41:37.200",
          "2023-03-12T21:41:37.300",
          "2023-03-12T21:41:37.400",
          "2023-03-12T21:41:37.500",
          "2023-03-12T21:41:37.600",
          "2023-03-12T21:41:37.700",
          "2023-03-12T21:41:37.800",
          "2023-03-12T21:41:37.900",
          "2023-03-12T21:41:38.000",
          "2023-03-12T21:41:38.100",
          "2023-03-12T21:41:38.200",
          "2023-03-12T21:41:38.300",
          "2023-03-12T21:41:38.400",
          "2023-03-12T21:41:38.500",
          "2023-03-12T21:41:38.600",
          "2023-03-12T21:41:38.700",
          "2023-03-12T21:41:38.800",
          "2023-03-12T21:41:38.900",
          "2023-03-12T21:41:39.000",
          "2023-03-12T21:41:39.100",
          "2023-03-12T21:41:39.200",
          "2023-03-12T21:41:39.300",
          "2023-03-12T21:41:39.400",
          "2023-03-12T21:41:39.500",
          "2023-03-12T21:41:39.600",
          "2023-03-12T21:41:39.700",
          "2023-03-12T21:41:39.800",
          "2023-03-12T21:41:39.900",
          "2023-03-12T21:41:40.000",
          "2023-03-12T21:41:40.100",
          "2023-03-12T21:41:40.200",
          "2023-03-12T21:41:40.300",
          "2023-03-12T21:41:40.400",
          "2023-03-12T21:41:40.500",
          "2023-03-12T21:41:40.600",
          "2023-03-12T21:41:40.700",
          "2023-03-12T21:41:40.800",
          "2023-03-12T21:41:40.900",
          "2023-03-12T21:41:41.000",
          "2023-03-12T21:41:41.100",
          "2023-03-12T21:41:41.200",
          "2023-03-12T21:41:41.300",
          "2023-03-12T21:41:41.400",
          "2023-03-12T21:41:41.500",
          "2023-03-12T21:41:41.600",
          "2023-03-12T21:41:41.700",
          "2023-03-12T21:41:41.800",
          "2023-03-12T21:41:41.900",
          "2023-03-12T21:41:42.000",
          "2023-03-12T21:41:42.100",
          "2023-03-12T21:41:42.200",
          "2023-03-12T21:41:42.300",
          "2023-03-12T21:41:42.400",
          "2023-03-12T21:41:42.500",
          "2023-03-12T21:41:42.600",
          "2023-03-12T21:41:42.700",
          "2023-03-12T21:41:42.800",
          "2023-03-12T21:41:42.900",
          "2023-03-12T21:41:43.000",
          "2023-03-12T21:41:43.100",
          "2023-03-12T21:41:43.200",
          "2023-03-12T21:41:43.300",
          "2023-03-12T21:41:43.400",
          "2023-03-12T21:41:43.500",
          "2023-03-12T21:41:43.600",
          "2023-03-12T21:41:43.700",
          "2023-03-12T21:41:43.800",
          "2023-03-12T21:41:43.900",
          "2023-03-12T21:41:44.000",
          "2023-03-12T21:41:44.100",
          "2023-03-12T21:41:44.200",
          "2023-03-12T21:41:44.300",
          "2023-03-12T21:41:44.400",
          "2023-03-12T21:41:44.500",
          "2023-03-12T21:41:44.600",
          "2023-03-12T21:41:44.700",
          "2023-03-12T21:41:44.800",
          "2023-03-12T21:41:44.900",
          "2023-03-12T21:41:45.000",
          "2023-03-12T21:41:45.100",
          "2023-03-12T21:41:45.200",
          "2023-03-12T21:41:45.300",
          "2023-03-12T21:41:45.400",
          "2023-03-12T21:41:45.500",
          "2023-03-12T21:41:45.600",
          "2023-03-12T21:41:45.700",
          "2023-03-12T21:41:45.800",
          "2023-03-12T21:41:45.900",
          "2023-03-12T21:41:46.000",
          "2023-03-12T21:41:46.100",
          "2023-03-12T21:41:46.200",
          "2023-03-12T21:41:46.300",
          "2023-03-12T21:41:46.400",
          "2023-03-12T21:41:46.500",
          "2023-03-12T21:41:46.600",
          "2023-03-12T21:41:46.700",
          "2023-03-12T21:41:46.800",
          "2023-03-12T21:41:46.900",
          "2023-03-12T21:41:47.000",
          "2023-03-12T21:41:47.100",
          "2023-03-12T21:41:47.200",
          "2023-03-12T21:41:47.300",
          "2023-03-12T21:41:47.400",
          "2023-03-12T21:41:47.500",
          "2023-03-12T21:41:47.600",
          "2023-03-12T21:41:47.700",
          "2023-03-12T21:41:47.800",
          "2023-03-12T21:41:47.900",
          "2023-03-12T21:41:48.000",
          "2023-03-12T21:41:48.100",
          "2023-03-12T21:41:48.200",
          "2023-03-12T21:41:48.300",
          "2023-03-12T21:41:48.400",
          "2023-03-12T21:41:48.500",
          "2023-03-12T21:41:48.600",
          "2023-03-12T21:41:48.700",
          "2023-03-12T21:41:48.800",
          "2023-03-12T21:41:48.900",
          "2023-03-12T21:41:49.000",
          "2023-03-12T21:41:49.100",
          "2023-03-12T21:41:49.200",
          "2023-03-12T21:41:49.300",
          "2023-03-12T21:41:49.400",
          "2023-03-12T21:41:49.500",
          "2023-03-12T21:41:49.600",
          "2023-03-12T21:41:49.700",
          "2023-03-12T21:41:49.800",
          "2023-03-12T21:41:49.900",
          "2023-03-12T21:41:50.000",
          "2023-03-12T21:41:50.100",
          "2023-03-12T21:41:50.200",
          "2023-03-12T21:41:50.300",
          "2023-03-12T21:41:50.400",
          "2023-03-12T21:41:50.500",
          "2023-03-12T21:41:50.600",
          "2023-03-12T21:41:50.700",
          "2023-03-12T21:41:50.800",
          "2023-03-12T21:41:50.900",
          "2023-03-12T21:41:51.000",
          "2023-03-12T21:41:51.100",
          "2023-03-12T21:41:51.200",
          "2023-03-12T21:41:51.300",
          "2023-03-12T21:41:51.400",
          "2023-03-12T21:41:51.500",
          "2023-03-12T21:41:51.600",
          "2023-03-12T21:41:51.700",
          "2023-03-12T21:41:51.800",
          "2023-03-12T21:41:51.900",
          "2023-03-12T21:41:52.000",
          "2023-03-12T21:41:52.100",
          "2023-03-12T21:41:52.200",
          "2023-03-12T21:41:52.300",
          "2023-03-12T21:41:52.400",
          "2023-03-12T21:41:52.500",
          "2023-03-12T21:41:52.600",
          "2023-03-12T21:41:52.700",
          "2023-03-12T21:41:52.800",
          "2023-03-12T21:41:52.900",
          "2023-03-12T21:41:53.000",
          "2023-03-12T21:41:53.100",
          "2023-03-12T21:41:53.200",
          "2023-03-12T21:41:53.300",
          "2023-03-12T21:41:53.400",
          "2023-03-12T21:41:53.500",
          "2023-03-12T21:41:53.600",
          "2023-03-12T21:41:53.700",
          "2023-03-12T21:41:53.800",
          "2023-03-12T21:41:53.900",
          "2023-03-12T21:41:54.000",
          "2023-03-12T21:41:54.100",
          "2023-03-12T21:41:54.200",
          "2023-03-12T21:41:54.300",
          "2023-03-12T21:41:54.400",
          "2023-03-12T21:41:54.500",
          "2023-03-12T21:41:54.600",
          "2023-03-12T21:41:54.700",
          "2023-03-12T21:41:54.800",
          "2023-03-12T21:41:54.900",
          "2023-03-12T21:41:55.000",
          "2023-03-12T21:41:55.100",
          "2023-03-12T21:41:55.200",
          "2023-03-12T21:41:55.300",
          "2023-03-12T21:41:55.400",
          "2023-03-12T21:41:55.500",
          "2023-03-12T21:41:55.600",
          "2023-03-12T21:41:55.700",
          "2023-03-12T21:41:55.800",
          "2023-03-12T21:41:55.900",
          "2023-03-12T21:41:56.000",
          "2023-03-12T21:41:56.100",
          "2023-03-12T21:41:56.200",
          "2023-03-12T21:41:56.300",
          "2023-03-12T21:41:56.400",
          "2023-03-12T21:41:56.500",
          "2023-03-12T21:41:56.600",
          "2023-03-12T21:41:56.700",
          "2023-03-12T21:41:56.800",
          "2023-03-12T21:41:56.900",
          "2023-03-12T21:41:57.000",
          "2023-03-12T21:41:57.100",
          "2023-03-12T21:41:57.200",
          "2023-03-12T21:41:57.300",
          "2023-03-12T21:41:57.400",
          "2023-03-12T21:41:57.500",
          "2023-03-12T21:41:57.600",
          "2023-03-12T21:41:57.700",
          "2023-03-12T21:41:57.800",
          "2023-03-12T21:41:57.900",
          "2023-03-12T21:41:58.000",
          "2023-03-12T21:41:58.100"
         ],
         "y": [
          1151.4671958309034,
          1151.8480372436861,
          1152.2300209026296,
          1152.6131724827912,
          1152.9966359751309,
          1153.379784141318,
          1153.7640891153644,
          1154.1489688641934,
          1154.535380298982,
          1154.921296337081,
          1155.309292242705,
          1155.6964640750039,
          1156.0842462564374,
          1156.4740436387563,
          1156.8637493338333,
          1157.253912751421,
          1157.6448510544712,
          1158.0373845633412,
          1158.4294599201287,
          1158.822035180598,
          1159.2165601229603,
          1159.610862049865,
          1160.006416274431,
          1160.402303397623,
          1160.7986693900875,
          1161.1962518888317,
          1161.5941113571077,
          1161.992841372101,
          1162.3923129344637,
          1162.7924299237905,
          1163.193261820032,
          1163.594672066402,
          1163.9967839225224,
          1164.3993238358137,
          1164.8026949213627,
          1165.2065980339778,
          1165.6110476432027,
          1166.0160954738378,
          1166.421747312611,
          1166.827845496569,
          1167.2344553208668,
          1167.6415235103889,
          1168.0490326036945,
          1168.4569644175767,
          1168.8653383967278,
          1169.2741928936198,
          1169.6837135118194,
          1170.0940974156113,
          1170.50580047475,
          1170.9195152304058,
          1171.3359693416317,
          1171.8018750796587,
          1172.2727644093104,
          1172.748658974292,
          1173.2295266960803,
          1173.715456321525,
          1174.2064299691058,
          1174.7025153303823,
          1175.203756481898,
          1175.7101884721826,
          1176.2218742584596,
          1176.7388560342122,
          1177.26118599128,
          1177.7889102656163,
          1178.3220779384965,
          1178.860748462192,
          1179.4049880083528,
          1179.954884970721,
          1180.5105300221983,
          1181.0720404038123,
          1181.6395567297475,
          1182.2132244982681,
          1182.7932055431634,
          1183.3796774152472,
          1183.972833311342,
          1184.5728471052096,
          1185.1798951920161,
          1185.7941974136968,
          1186.4159313400178,
          1187.0452359510311,
          1187.6823654796085,
          1188.3274345993152,
          1188.9806090874142,
          1189.642121111657,
          1190.3120339817115,
          1190.9905163113908,
          1191.6776250338435,
          1192.3733935316416,
          1193.077737851989,
          1193.7908322866706,
          1194.5123642932467,
          1195.2423779800752,
          1195.9805574732216,
          1196.7267006969162,
          1197.480497903875,
          1198.24141483771,
          1199.0093833717,
          1199.7839924015334,
          1200.5649070422141,
          1201.3520002332677,
          1202.1449460743363,
          1202.9435742087428,
          1203.7478103140318,
          1204.5575245132338,
          1205.3727253675129,
          1206.1934348381567,
          1207.0196648376163,
          1207.8514294689849,
          1208.6887262434284,
          1209.5316194267346,
          1210.3800791563267,
          1211.2341099413088,
          1212.0936490986223,
          1212.9586660347798,
          1213.8291058335628,
          1214.7048977971065,
          1215.5860047868302,
          1216.4723555543605,
          1217.3639672515935,
          1218.2608338789537,
          1219.1629838352483,
          1220.070472089327,
          1220.9833507852109,
          1221.901673803863,
          1222.8255198148217,
          1223.7549550446145,
          1224.6899479724889,
          1225.6306233535593,
          1226.5770208579463,
          1227.5291650454244,
          1228.4870918664235,
          1229.4510125721267,
          1230.420860346678,
          1231.3967677673365,
          1232.378881798217,
          1233.3672654121717,
          1234.3619861876261,
          1235.3632616475966,
          1236.3710424961414,
          1237.3853072691927,
          1238.406182058775,
          1239.4334097826277,
          1240.4670071277562,
          1241.5067831951437,
          1242.5524246908167,
          1243.6039564631926,
          1244.661071536543,
          1245.723521611334,
          1246.7912533087224,
          1247.8639142858374,
          1248.941359731043,
          1250.0234339662334,
          1251.1099222061164,
          1252.2006884204318,
          1253.2955270545247,
          1254.3943088163655,
          1255.4968319059258,
          1256.6029750749155,
          1257.712623325594,
          1258.8256869429017,
          1259.9421112603993,
          1261.0618547504089,
          1262.1848959626732,
          1263.3112133195036,
          1264.4407915345828,
          1265.573636538095,
          1266.7097588002036,
          1267.8491823353618,
          1268.9919445717812,
          1270.1380602067823,
          1271.2875530061067,
          1272.440431513154,
          1273.5966841955437,
          1274.7563073463039,
          1275.9192913689733,
          1277.0856212752456,
          1278.2552727164896,
          1279.4282116426716,
          1280.604359926026,
          1281.7836403914193,
          1282.9659320246185,
          1284.1510913048694,
          1285.3389758276721,
          1286.5294114849382,
          1287.7222412607373,
          1288.917311199795,
          1290.1144943994827,
          1291.3136845705903,
          1292.5147622975126,
          1293.717618045436,
          1294.92217832283,
          1296.1283763194297,
          1297.336180366902,
          1298.5455683626371,
          1299.7565323718939,
          1300.9690378889452,
          1302.1830301854002,
          1303.3984587448592,
          1304.615286072646,
          1305.8334629786773,
          1307.052937127024,
          1308.2736357982449,
          1309.495467864917,
          1310.7183292669285,
          1311.9421033274589,
          1313.1666660454252,
          1314.3918884056632,
          1315.6176385706285,
          1316.8437964971201,
          1318.0702299666027,
          1319.2968356710585,
          1320.5234983826779,
          1321.7501160401998,
          1322.9765956406595,
          1324.2028381431367,
          1325.428795847423,
          1326.6543754943455,
          1327.8794836473053,
          1329.1041121237813,
          1330.3281437422097,
          1331.551530391476,
          1332.7742147029367,
          1333.996166162051,
          1335.2173755478102,
          1336.437832018718,
          1337.6575152342707,
          1338.8764840881881,
          1340.0947753607795,
          1341.3124574269998,
          1342.52962618212,
          1343.7463746360502,
          1344.9628345484577,
          1346.179201945656,
          1347.3956170722677,
          1348.6123084737555,
          1349.8293175118222,
          1351.0470343659526,
          1352.265472745022,
          1353.4848241383334,
          1354.7053294960444,
          1355.9271247532217,
          1357.1503656452956,
          1358.3752452806605,
          1359.6018237795167,
          1360.8302039780565,
          1362.0605856395332,
          1363.2930118042245,
          1364.5275234524697,
          1365.7642787444256,
          1367.0031537993557,
          1368.2444152788842,
          1369.487954795036,
          1370.7338543568571,
          1371.982003232527,
          1373.232524783872,
          1374.4853148399777,
          1375.7404012338473,
          1376.997815438405,
          1378.2804580322959,
          1379.5657565865365,
          1380.8528537447808,
          1382.141030410069,
          1383.4296728975744,
          1384.7185383985884,
          1386.0073606983271,
          1387.2961554571896,
          1388.584858615043,
          1389.8734254559254,
          1391.1619167603476,
          1392.4504940681802,
          1393.7389715220593,
          1395.0276016671608,
          1396.3160531522637,
          1397.6049409797483,
          1398.8937405861068,
          1400.1829627504405,
          1401.472306979738,
          1402.7616198930707,
          1404.0514581916536,
          1405.3417343330675,
          1406.6319009241438,
          1407.9223275159754,
          1409.2137152904306,
          1410.5056085596568,
          1411.7971738385409,
          1413.0897392093248,
          1414.3826465087145,
          1415.6757732120627,
          1416.969834788619,
          1418.263665637046,
          1419.5590806277041,
          1420.8540562316027,
          1422.1498136666714,
          1423.4461550519122,
          1424.743123863571,
          1426.0407499525231,
          1427.339351198584,
          1428.6379715438377,
          1429.9365540778529,
          1431.236956282094,
          1432.5369404567641,
          1433.8382633343692,
          1435.1393060899434,
          1436.4417639800142,
          1437.7442871838982,
          1439.0478725551875,
          1440.351910668181,
          1441.6555349580424
         ]
        }
       ],
       "layout": {
        "legend": {
         "title": {
          "text": "lane_index"
         },
         "tracegroupgap": 0
        },
        "template": {
         "data": {
          "bar": [
           {
            "error_x": {
             "color": "#2a3f5f"
            },
            "error_y": {
             "color": "#2a3f5f"
            },
            "marker": {
             "line": {
              "color": "#E5ECF6",
              "width": 0.5
             },
             "pattern": {
              "fillmode": "overlay",
              "size": 10,
              "solidity": 0.2
             }
            },
            "type": "bar"
           }
          ],
          "barpolar": [
           {
            "marker": {
             "line": {
              "color": "#E5ECF6",
              "width": 0.5
             },
             "pattern": {
              "fillmode": "overlay",
              "size": 10,
              "solidity": 0.2
             }
            },
            "type": "barpolar"
           }
          ],
          "carpet": [
           {
            "aaxis": {
             "endlinecolor": "#2a3f5f",
             "gridcolor": "white",
             "linecolor": "white",
             "minorgridcolor": "white",
             "startlinecolor": "#2a3f5f"
            },
            "baxis": {
             "endlinecolor": "#2a3f5f",
             "gridcolor": "white",
             "linecolor": "white",
             "minorgridcolor": "white",
             "startlinecolor": "#2a3f5f"
            },
            "type": "carpet"
           }
          ],
          "choropleth": [
           {
            "colorbar": {
             "outlinewidth": 0,
             "ticks": ""
            },
            "type": "choropleth"
           }
          ],
          "contour": [
           {
            "colorbar": {
             "outlinewidth": 0,
             "ticks": ""
            },
            "colorscale": [
             [
              0,
              "#0d0887"
             ],
             [
              0.1111111111111111,
              "#46039f"
             ],
             [
              0.2222222222222222,
              "#7201a8"
             ],
             [
              0.3333333333333333,
              "#9c179e"
             ],
             [
              0.4444444444444444,
              "#bd3786"
             ],
             [
              0.5555555555555556,
              "#d8576b"
             ],
             [
              0.6666666666666666,
              "#ed7953"
             ],
             [
              0.7777777777777778,
              "#fb9f3a"
             ],
             [
              0.8888888888888888,
              "#fdca26"
             ],
             [
              1,
              "#f0f921"
             ]
            ],
            "type": "contour"
           }
          ],
          "contourcarpet": [
           {
            "colorbar": {
             "outlinewidth": 0,
             "ticks": ""
            },
            "type": "contourcarpet"
           }
          ],
          "heatmap": [
           {
            "colorbar": {
             "outlinewidth": 0,
             "ticks": ""
            },
            "colorscale": [
             [
              0,
              "#0d0887"
             ],
             [
              0.1111111111111111,
              "#46039f"
             ],
             [
              0.2222222222222222,
              "#7201a8"
             ],
             [
              0.3333333333333333,
              "#9c179e"
             ],
             [
              0.4444444444444444,
              "#bd3786"
             ],
             [
              0.5555555555555556,
              "#d8576b"
             ],
             [
              0.6666666666666666,
              "#ed7953"
             ],
             [
              0.7777777777777778,
              "#fb9f3a"
             ],
             [
              0.8888888888888888,
              "#fdca26"
             ],
             [
              1,
              "#f0f921"
             ]
            ],
            "type": "heatmap"
           }
          ],
          "heatmapgl": [
           {
            "colorbar": {
             "outlinewidth": 0,
             "ticks": ""
            },
            "colorscale": [
             [
              0,
              "#0d0887"
             ],
             [
              0.1111111111111111,
              "#46039f"
             ],
             [
              0.2222222222222222,
              "#7201a8"
             ],
             [
              0.3333333333333333,
              "#9c179e"
             ],
             [
              0.4444444444444444,
              "#bd3786"
             ],
             [
              0.5555555555555556,
              "#d8576b"
             ],
             [
              0.6666666666666666,
              "#ed7953"
             ],
             [
              0.7777777777777778,
              "#fb9f3a"
             ],
             [
              0.8888888888888888,
              "#fdca26"
             ],
             [
              1,
              "#f0f921"
             ]
            ],
            "type": "heatmapgl"
           }
          ],
          "histogram": [
           {
            "marker": {
             "pattern": {
              "fillmode": "overlay",
              "size": 10,
              "solidity": 0.2
             }
            },
            "type": "histogram"
           }
          ],
          "histogram2d": [
           {
            "colorbar": {
             "outlinewidth": 0,
             "ticks": ""
            },
            "colorscale": [
             [
              0,
              "#0d0887"
             ],
             [
              0.1111111111111111,
              "#46039f"
             ],
             [
              0.2222222222222222,
              "#7201a8"
             ],
             [
              0.3333333333333333,
              "#9c179e"
             ],
             [
              0.4444444444444444,
              "#bd3786"
             ],
             [
              0.5555555555555556,
              "#d8576b"
             ],
             [
              0.6666666666666666,
              "#ed7953"
             ],
             [
              0.7777777777777778,
              "#fb9f3a"
             ],
             [
              0.8888888888888888,
              "#fdca26"
             ],
             [
              1,
              "#f0f921"
             ]
            ],
            "type": "histogram2d"
           }
          ],
          "histogram2dcontour": [
           {
            "colorbar": {
             "outlinewidth": 0,
             "ticks": ""
            },
            "colorscale": [
             [
              0,
              "#0d0887"
             ],
             [
              0.1111111111111111,
              "#46039f"
             ],
             [
              0.2222222222222222,
              "#7201a8"
             ],
             [
              0.3333333333333333,
              "#9c179e"
             ],
             [
              0.4444444444444444,
              "#bd3786"
             ],
             [
              0.5555555555555556,
              "#d8576b"
             ],
             [
              0.6666666666666666,
              "#ed7953"
             ],
             [
              0.7777777777777778,
              "#fb9f3a"
             ],
             [
              0.8888888888888888,
              "#fdca26"
             ],
             [
              1,
              "#f0f921"
             ]
            ],
            "type": "histogram2dcontour"
           }
          ],
          "mesh3d": [
           {
            "colorbar": {
             "outlinewidth": 0,
             "ticks": ""
            },
            "type": "mesh3d"
           }
          ],
          "parcoords": [
           {
            "line": {
             "colorbar": {
              "outlinewidth": 0,
              "ticks": ""
             }
            },
            "type": "parcoords"
           }
          ],
          "pie": [
           {
            "automargin": true,
            "type": "pie"
           }
          ],
          "scatter": [
           {
            "fillpattern": {
             "fillmode": "overlay",
             "size": 10,
             "solidity": 0.2
            },
            "type": "scatter"
           }
          ],
          "scatter3d": [
           {
            "line": {
             "colorbar": {
              "outlinewidth": 0,
              "ticks": ""
             }
            },
            "marker": {
             "colorbar": {
              "outlinewidth": 0,
              "ticks": ""
             }
            },
            "type": "scatter3d"
           }
          ],
          "scattercarpet": [
           {
            "marker": {
             "colorbar": {
              "outlinewidth": 0,
              "ticks": ""
             }
            },
            "type": "scattercarpet"
           }
          ],
          "scattergeo": [
           {
            "marker": {
             "colorbar": {
              "outlinewidth": 0,
              "ticks": ""
             }
            },
            "type": "scattergeo"
           }
          ],
          "scattergl": [
           {
            "marker": {
             "colorbar": {
              "outlinewidth": 0,
              "ticks": ""
             }
            },
            "type": "scattergl"
           }
          ],
          "scattermapbox": [
           {
            "marker": {
             "colorbar": {
              "outlinewidth": 0,
              "ticks": ""
             }
            },
            "type": "scattermapbox"
           }
          ],
          "scatterpolar": [
           {
            "marker": {
             "colorbar": {
              "outlinewidth": 0,
              "ticks": ""
             }
            },
            "type": "scatterpolar"
           }
          ],
          "scatterpolargl": [
           {
            "marker": {
             "colorbar": {
              "outlinewidth": 0,
              "ticks": ""
             }
            },
            "type": "scatterpolargl"
           }
          ],
          "scatterternary": [
           {
            "marker": {
             "colorbar": {
              "outlinewidth": 0,
              "ticks": ""
             }
            },
            "type": "scatterternary"
           }
          ],
          "surface": [
           {
            "colorbar": {
             "outlinewidth": 0,
             "ticks": ""
            },
            "colorscale": [
             [
              0,
              "#0d0887"
             ],
             [
              0.1111111111111111,
              "#46039f"
             ],
             [
              0.2222222222222222,
              "#7201a8"
             ],
             [
              0.3333333333333333,
              "#9c179e"
             ],
             [
              0.4444444444444444,
              "#bd3786"
             ],
             [
              0.5555555555555556,
              "#d8576b"
             ],
             [
              0.6666666666666666,
              "#ed7953"
             ],
             [
              0.7777777777777778,
              "#fb9f3a"
             ],
             [
              0.8888888888888888,
              "#fdca26"
             ],
             [
              1,
              "#f0f921"
             ]
            ],
            "type": "surface"
           }
          ],
          "table": [
           {
            "cells": {
             "fill": {
              "color": "#EBF0F8"
             },
             "line": {
              "color": "white"
             }
            },
            "header": {
             "fill": {
              "color": "#C8D4E3"
             },
             "line": {
              "color": "white"
             }
            },
            "type": "table"
           }
          ]
         },
         "layout": {
          "annotationdefaults": {
           "arrowcolor": "#2a3f5f",
           "arrowhead": 0,
           "arrowwidth": 1
          },
          "autotypenumbers": "strict",
          "coloraxis": {
           "colorbar": {
            "outlinewidth": 0,
            "ticks": ""
           }
          },
          "colorscale": {
           "diverging": [
            [
             0,
             "#8e0152"
            ],
            [
             0.1,
             "#c51b7d"
            ],
            [
             0.2,
             "#de77ae"
            ],
            [
             0.3,
             "#f1b6da"
            ],
            [
             0.4,
             "#fde0ef"
            ],
            [
             0.5,
             "#f7f7f7"
            ],
            [
             0.6,
             "#e6f5d0"
            ],
            [
             0.7,
             "#b8e186"
            ],
            [
             0.8,
             "#7fbc41"
            ],
            [
             0.9,
             "#4d9221"
            ],
            [
             1,
             "#276419"
            ]
           ],
           "sequential": [
            [
             0,
             "#0d0887"
            ],
            [
             0.1111111111111111,
             "#46039f"
            ],
            [
             0.2222222222222222,
             "#7201a8"
            ],
            [
             0.3333333333333333,
             "#9c179e"
            ],
            [
             0.4444444444444444,
             "#bd3786"
            ],
            [
             0.5555555555555556,
             "#d8576b"
            ],
            [
             0.6666666666666666,
             "#ed7953"
            ],
            [
             0.7777777777777778,
             "#fb9f3a"
            ],
            [
             0.8888888888888888,
             "#fdca26"
            ],
            [
             1,
             "#f0f921"
            ]
           ],
           "sequentialminus": [
            [
             0,
             "#0d0887"
            ],
            [
             0.1111111111111111,
             "#46039f"
            ],
            [
             0.2222222222222222,
             "#7201a8"
            ],
            [
             0.3333333333333333,
             "#9c179e"
            ],
            [
             0.4444444444444444,
             "#bd3786"
            ],
            [
             0.5555555555555556,
             "#d8576b"
            ],
            [
             0.6666666666666666,
             "#ed7953"
            ],
            [
             0.7777777777777778,
             "#fb9f3a"
            ],
            [
             0.8888888888888888,
             "#fdca26"
            ],
            [
             1,
             "#f0f921"
            ]
           ]
          },
          "colorway": [
           "#636efa",
           "#EF553B",
           "#00cc96",
           "#ab63fa",
           "#FFA15A",
           "#19d3f3",
           "#FF6692",
           "#B6E880",
           "#FF97FF",
           "#FECB52"
          ],
          "font": {
           "color": "#2a3f5f"
          },
          "geo": {
           "bgcolor": "white",
           "lakecolor": "white",
           "landcolor": "#E5ECF6",
           "showlakes": true,
           "showland": true,
           "subunitcolor": "white"
          },
          "hoverlabel": {
           "align": "left"
          },
          "hovermode": "closest",
          "mapbox": {
           "style": "light"
          },
          "paper_bgcolor": "white",
          "plot_bgcolor": "#E5ECF6",
          "polar": {
           "angularaxis": {
            "gridcolor": "white",
            "linecolor": "white",
            "ticks": ""
           },
           "bgcolor": "#E5ECF6",
           "radialaxis": {
            "gridcolor": "white",
            "linecolor": "white",
            "ticks": ""
           }
          },
          "scene": {
           "xaxis": {
            "backgroundcolor": "#E5ECF6",
            "gridcolor": "white",
            "gridwidth": 2,
            "linecolor": "white",
            "showbackground": true,
            "ticks": "",
            "zerolinecolor": "white"
           },
           "yaxis": {
            "backgroundcolor": "#E5ECF6",
            "gridcolor": "white",
            "gridwidth": 2,
            "linecolor": "white",
            "showbackground": true,
            "ticks": "",
            "zerolinecolor": "white"
           },
           "zaxis": {
            "backgroundcolor": "#E5ECF6",
            "gridcolor": "white",
            "gridwidth": 2,
            "linecolor": "white",
            "showbackground": true,
            "ticks": "",
            "zerolinecolor": "white"
           }
          },
          "shapedefaults": {
           "line": {
            "color": "#2a3f5f"
           }
          },
          "ternary": {
           "aaxis": {
            "gridcolor": "white",
            "linecolor": "white",
            "ticks": ""
           },
           "baxis": {
            "gridcolor": "white",
            "linecolor": "white",
            "ticks": ""
           },
           "bgcolor": "#E5ECF6",
           "caxis": {
            "gridcolor": "white",
            "linecolor": "white",
            "ticks": ""
           }
          },
          "title": {
           "x": 0.05
          },
          "xaxis": {
           "automargin": true,
           "gridcolor": "white",
           "linecolor": "white",
           "ticks": "",
           "title": {
            "standoff": 15
           },
           "zerolinecolor": "white",
           "zerolinewidth": 2
          },
          "yaxis": {
           "automargin": true,
           "gridcolor": "white",
           "linecolor": "white",
           "ticks": "",
           "title": {
            "standoff": 15
           },
           "zerolinecolor": "white",
           "zerolinewidth": 2
          }
         }
        },
        "title": {
         "text": "Trajectory"
        },
        "xaxis": {
         "anchor": "y",
         "domain": [
          0,
          1
         ],
         "title": {
          "text": "epoch_time"
         }
        },
        "yaxis": {
         "anchor": "x",
         "domain": [
          0,
          1
         ],
         "title": {
          "text": "value"
         }
        }
       }
      },
      "text/html": [
       "<div>                            <div id=\"a92cbc56-7cf5-46ed-8dea-15113b0e8eaa\" class=\"plotly-graph-div\" style=\"height:525px; width:100%;\"></div>            <script type=\"text/javascript\">                require([\"plotly\"], function(Plotly) {                    window.PLOTLYENV=window.PLOTLYENV || {};                                    if (document.getElementById(\"a92cbc56-7cf5-46ed-8dea-15113b0e8eaa\")) {                    Plotly.newPlot(                        \"a92cbc56-7cf5-46ed-8dea-15113b0e8eaa\",                        [{\"hovertemplate\":\"lane_index=0\\u003cbr\\u003eepoch_time=%{x}\\u003cbr\\u003evalue=%{y}\\u003cextra\\u003e\\u003c\\u002fextra\\u003e\",\"legendgroup\":\"0\",\"marker\":{\"color\":\"#636efa\",\"symbol\":\"circle\"},\"mode\":\"markers\",\"name\":\"0\",\"orientation\":\"v\",\"showlegend\":true,\"x\":[\"2023-03-12T21:41:27.400000+00:00\",\"2023-03-12T21:41:27.500000+00:00\",\"2023-03-12T21:41:27.600000+00:00\",\"2023-03-12T21:41:27.700000+00:00\",\"2023-03-12T21:41:27.800000+00:00\",\"2023-03-12T21:41:27.900000+00:00\",\"2023-03-12T21:41:28+00:00\",\"2023-03-12T21:41:28.100000+00:00\",\"2023-03-12T21:41:28.200000+00:00\",\"2023-03-12T21:41:28.300000+00:00\",\"2023-03-12T21:41:28.400000+00:00\",\"2023-03-12T21:41:28.500000+00:00\",\"2023-03-12T21:41:28.600000+00:00\",\"2023-03-12T21:41:28.700000+00:00\",\"2023-03-12T21:41:28.800000+00:00\",\"2023-03-12T21:41:28.900000+00:00\",\"2023-03-12T21:41:29+00:00\",\"2023-03-12T21:41:29.100000+00:00\",\"2023-03-12T21:41:29.200000+00:00\",\"2023-03-12T21:41:29.300000+00:00\",\"2023-03-12T21:41:29.400000+00:00\",\"2023-03-12T21:41:29.500000+00:00\",\"2023-03-12T21:41:29.600000+00:00\",\"2023-03-12T21:41:29.700000+00:00\",\"2023-03-12T21:41:29.800000+00:00\",\"2023-03-12T21:41:29.900000+00:00\",\"2023-03-12T21:41:30+00:00\",\"2023-03-12T21:41:30.100000+00:00\",\"2023-03-12T21:41:30.200000+00:00\",\"2023-03-12T21:41:30.300000+00:00\",\"2023-03-12T21:41:30.400000+00:00\",\"2023-03-12T21:41:30.500000+00:00\",\"2023-03-12T21:41:30.600000+00:00\",\"2023-03-12T21:41:30.700000+00:00\",\"2023-03-12T21:41:30.800000+00:00\",\"2023-03-12T21:41:30.900000+00:00\",\"2023-03-12T21:41:31+00:00\",\"2023-03-12T21:41:31.100000+00:00\",\"2023-03-12T21:41:31.200000+00:00\",\"2023-03-12T21:41:31.300000+00:00\",\"2023-03-12T21:41:31.400000+00:00\",\"2023-03-12T21:41:31.500000+00:00\",\"2023-03-12T21:41:31.600000+00:00\",\"2023-03-12T21:41:31.700000+00:00\",\"2023-03-12T21:41:31.800000+00:00\",\"2023-03-12T21:41:31.900000+00:00\",\"2023-03-12T21:41:32+00:00\",\"2023-03-12T21:41:32.100000+00:00\",\"2023-03-12T21:41:32.200000+00:00\",\"2023-03-12T21:41:32.300000+00:00\",\"2023-03-12T21:41:32.400000+00:00\",\"2023-03-12T21:41:32.500000+00:00\",\"2023-03-12T21:41:32.600000+00:00\",\"2023-03-12T21:41:32.700000+00:00\",\"2023-03-12T21:41:32.800000+00:00\",\"2023-03-12T21:41:32.900000+00:00\",\"2023-03-12T21:41:33+00:00\",\"2023-03-12T21:41:33.100000+00:00\",\"2023-03-12T21:41:33.200000+00:00\",\"2023-03-12T21:41:33.300000+00:00\",\"2023-03-12T21:41:33.400000+00:00\",\"2023-03-12T21:41:33.500000+00:00\",\"2023-03-12T21:41:33.600000+00:00\",\"2023-03-12T21:41:33.700000+00:00\",\"2023-03-12T21:41:33.800000+00:00\",\"2023-03-12T21:41:33.900000+00:00\",\"2023-03-12T21:41:34+00:00\",\"2023-03-12T21:41:34.100000+00:00\",\"2023-03-12T21:41:34.200000+00:00\",\"2023-03-12T21:41:34.300000+00:00\",\"2023-03-12T21:41:34.400000+00:00\",\"2023-03-12T21:41:34.500000+00:00\",\"2023-03-12T21:41:34.600000+00:00\",\"2023-03-12T21:41:34.700000+00:00\",\"2023-03-12T21:41:34.800000+00:00\",\"2023-03-12T21:41:34.900000+00:00\",\"2023-03-12T21:41:35+00:00\",\"2023-03-12T21:41:35.100000+00:00\",\"2023-03-12T21:41:35.200000+00:00\",\"2023-03-12T21:41:35.300000+00:00\",\"2023-03-12T21:41:35.400000+00:00\",\"2023-03-12T21:41:35.500000+00:00\",\"2023-03-12T21:41:35.600000+00:00\",\"2023-03-12T21:41:35.700000+00:00\",\"2023-03-12T21:41:35.800000+00:00\",\"2023-03-12T21:41:35.900000+00:00\",\"2023-03-12T21:41:36+00:00\",\"2023-03-12T21:41:36.100000+00:00\",\"2023-03-12T21:41:36.200000+00:00\",\"2023-03-12T21:41:36.300000+00:00\",\"2023-03-12T21:41:36.400000+00:00\",\"2023-03-12T21:41:36.500000+00:00\",\"2023-03-12T21:41:36.600000+00:00\",\"2023-03-12T21:41:36.700000+00:00\",\"2023-03-12T21:41:36.800000+00:00\",\"2023-03-12T21:41:36.900000+00:00\",\"2023-03-12T21:41:37+00:00\",\"2023-03-12T21:41:37.100000+00:00\",\"2023-03-12T21:41:37.200000+00:00\",\"2023-03-12T21:41:37.300000+00:00\",\"2023-03-12T21:41:37.400000+00:00\",\"2023-03-12T21:41:37.500000+00:00\",\"2023-03-12T21:41:37.600000+00:00\",\"2023-03-12T21:41:37.700000+00:00\",\"2023-03-12T21:41:37.800000+00:00\",\"2023-03-12T21:41:37.900000+00:00\",\"2023-03-12T21:41:38+00:00\",\"2023-03-12T21:41:38.100000+00:00\",\"2023-03-12T21:41:38.200000+00:00\",\"2023-03-12T21:41:38.300000+00:00\",\"2023-03-12T21:41:38.400000+00:00\",\"2023-03-12T21:41:38.500000+00:00\",\"2023-03-12T21:41:38.600000+00:00\",\"2023-03-12T21:41:38.700000+00:00\",\"2023-03-12T21:41:38.800000+00:00\",\"2023-03-12T21:41:38.900000+00:00\",\"2023-03-12T21:41:39+00:00\",\"2023-03-12T21:41:39.100000+00:00\",\"2023-03-12T21:41:39.200000+00:00\",\"2023-03-12T21:41:39.300000+00:00\",\"2023-03-12T21:41:39.400000+00:00\",\"2023-03-12T21:41:39.500000+00:00\",\"2023-03-12T21:41:39.600000+00:00\",\"2023-03-12T21:41:39.700000+00:00\",\"2023-03-12T21:41:39.800000+00:00\",\"2023-03-12T21:41:39.900000+00:00\",\"2023-03-12T21:41:40+00:00\",\"2023-03-12T21:41:40.100000+00:00\",\"2023-03-12T21:41:40.200000+00:00\",\"2023-03-12T21:41:40.300000+00:00\",\"2023-03-12T21:41:40.400000+00:00\",\"2023-03-12T21:41:40.500000+00:00\",\"2023-03-12T21:41:40.600000+00:00\",\"2023-03-12T21:41:40.700000+00:00\",\"2023-03-12T21:41:40.800000+00:00\",\"2023-03-12T21:41:40.900000+00:00\",\"2023-03-12T21:41:41+00:00\",\"2023-03-12T21:41:41.100000+00:00\",\"2023-03-12T21:41:41.200000+00:00\",\"2023-03-12T21:41:41.300000+00:00\",\"2023-03-12T21:41:41.400000+00:00\",\"2023-03-12T21:41:41.500000+00:00\",\"2023-03-12T21:41:41.600000+00:00\",\"2023-03-12T21:41:41.700000+00:00\",\"2023-03-12T21:41:41.800000+00:00\",\"2023-03-12T21:41:41.900000+00:00\",\"2023-03-12T21:41:42+00:00\",\"2023-03-12T21:41:42.100000+00:00\",\"2023-03-12T21:41:42.200000+00:00\",\"2023-03-12T21:41:42.300000+00:00\",\"2023-03-12T21:41:42.400000+00:00\",\"2023-03-12T21:41:42.500000+00:00\",\"2023-03-12T21:41:42.600000+00:00\",\"2023-03-12T21:41:42.700000+00:00\",\"2023-03-12T21:41:42.800000+00:00\",\"2023-03-12T21:41:42.900000+00:00\",\"2023-03-12T21:41:43+00:00\",\"2023-03-12T21:41:43.100000+00:00\",\"2023-03-12T21:41:43.200000+00:00\",\"2023-03-12T21:41:43.300000+00:00\",\"2023-03-12T21:41:43.400000+00:00\",\"2023-03-12T21:41:43.500000+00:00\",\"2023-03-12T21:41:43.600000+00:00\",\"2023-03-12T21:41:43.700000+00:00\",\"2023-03-12T21:41:43.800000+00:00\",\"2023-03-12T21:41:43.900000+00:00\",\"2023-03-12T21:41:44+00:00\",\"2023-03-12T21:41:44.100000+00:00\",\"2023-03-12T21:41:44.200000+00:00\",\"2023-03-12T21:41:44.300000+00:00\",\"2023-03-12T21:41:44.400000+00:00\",\"2023-03-12T21:41:44.500000+00:00\",\"2023-03-12T21:41:44.600000+00:00\",\"2023-03-12T21:41:44.700000+00:00\",\"2023-03-12T21:41:44.800000+00:00\",\"2023-03-12T21:41:44.900000+00:00\",\"2023-03-12T21:41:45+00:00\",\"2023-03-12T21:41:45.100000+00:00\",\"2023-03-12T21:41:45.200000+00:00\",\"2023-03-12T21:41:45.300000+00:00\",\"2023-03-12T21:41:45.400000+00:00\",\"2023-03-12T21:41:45.500000+00:00\",\"2023-03-12T21:41:45.600000+00:00\",\"2023-03-12T21:41:45.700000+00:00\",\"2023-03-12T21:41:45.800000+00:00\",\"2023-03-12T21:41:45.900000+00:00\",\"2023-03-12T21:41:46+00:00\",\"2023-03-12T21:41:46.100000+00:00\",\"2023-03-12T21:41:46.200000+00:00\",\"2023-03-12T21:41:46.300000+00:00\",\"2023-03-12T21:41:46.400000+00:00\",\"2023-03-12T21:41:46.500000+00:00\",\"2023-03-12T21:41:46.600000+00:00\",\"2023-03-12T21:41:46.700000+00:00\",\"2023-03-12T21:41:46.800000+00:00\",\"2023-03-12T21:41:46.900000+00:00\",\"2023-03-12T21:41:47+00:00\",\"2023-03-12T21:41:47.100000+00:00\",\"2023-03-12T21:41:47.200000+00:00\",\"2023-03-12T21:41:47.300000+00:00\",\"2023-03-12T21:41:47.400000+00:00\",\"2023-03-12T21:41:47.500000+00:00\",\"2023-03-12T21:41:47.600000+00:00\",\"2023-03-12T21:41:47.700000+00:00\",\"2023-03-12T21:41:47.800000+00:00\",\"2023-03-12T21:41:47.900000+00:00\",\"2023-03-12T21:41:48+00:00\",\"2023-03-12T21:41:48.100000+00:00\",\"2023-03-12T21:41:48.200000+00:00\",\"2023-03-12T21:41:48.300000+00:00\",\"2023-03-12T21:41:48.400000+00:00\",\"2023-03-12T21:41:48.500000+00:00\",\"2023-03-12T21:41:48.600000+00:00\",\"2023-03-12T21:41:48.700000+00:00\",\"2023-03-12T21:41:48.800000+00:00\",\"2023-03-12T21:41:48.900000+00:00\",\"2023-03-12T21:41:49+00:00\",\"2023-03-12T21:41:49.100000+00:00\",\"2023-03-12T21:41:49.200000+00:00\",\"2023-03-12T21:41:49.300000+00:00\",\"2023-03-12T21:41:49.400000+00:00\",\"2023-03-12T21:41:49.500000+00:00\",\"2023-03-12T21:41:49.600000+00:00\",\"2023-03-12T21:41:49.700000+00:00\",\"2023-03-12T21:41:49.800000+00:00\",\"2023-03-12T21:41:49.900000+00:00\",\"2023-03-12T21:41:50+00:00\",\"2023-03-12T21:41:50.100000+00:00\",\"2023-03-12T21:41:50.200000+00:00\",\"2023-03-12T21:41:50.300000+00:00\",\"2023-03-12T21:41:50.400000+00:00\",\"2023-03-12T21:41:50.500000+00:00\",\"2023-03-12T21:41:50.600000+00:00\",\"2023-03-12T21:41:50.700000+00:00\",\"2023-03-12T21:41:50.800000+00:00\",\"2023-03-12T21:41:50.900000+00:00\",\"2023-03-12T21:41:51+00:00\",\"2023-03-12T21:41:51.100000+00:00\",\"2023-03-12T21:41:51.200000+00:00\",\"2023-03-12T21:41:51.300000+00:00\",\"2023-03-12T21:41:51.400000+00:00\",\"2023-03-12T21:41:51.500000+00:00\",\"2023-03-12T21:41:51.600000+00:00\",\"2023-03-12T21:41:51.700000+00:00\",\"2023-03-12T21:41:51.800000+00:00\",\"2023-03-12T21:41:51.900000+00:00\",\"2023-03-12T21:41:52+00:00\",\"2023-03-12T21:41:52.100000+00:00\",\"2023-03-12T21:41:52.200000+00:00\",\"2023-03-12T21:41:52.300000+00:00\",\"2023-03-12T21:41:52.400000+00:00\",\"2023-03-12T21:41:52.500000+00:00\",\"2023-03-12T21:41:52.600000+00:00\",\"2023-03-12T21:41:52.700000+00:00\",\"2023-03-12T21:41:52.800000+00:00\",\"2023-03-12T21:41:52.900000+00:00\",\"2023-03-12T21:41:53+00:00\",\"2023-03-12T21:41:53.100000+00:00\",\"2023-03-12T21:41:53.200000+00:00\",\"2023-03-12T21:41:53.300000+00:00\",\"2023-03-12T21:41:53.400000+00:00\",\"2023-03-12T21:41:53.500000+00:00\",\"2023-03-12T21:41:53.600000+00:00\",\"2023-03-12T21:41:53.700000+00:00\",\"2023-03-12T21:41:53.800000+00:00\",\"2023-03-12T21:41:53.900000+00:00\",\"2023-03-12T21:41:54+00:00\",\"2023-03-12T21:41:54.100000+00:00\",\"2023-03-12T21:41:54.200000+00:00\",\"2023-03-12T21:41:54.300000+00:00\",\"2023-03-12T21:41:54.400000+00:00\",\"2023-03-12T21:41:54.500000+00:00\",\"2023-03-12T21:41:54.600000+00:00\",\"2023-03-12T21:41:54.700000+00:00\",\"2023-03-12T21:41:54.800000+00:00\",\"2023-03-12T21:41:54.900000+00:00\",\"2023-03-12T21:41:55+00:00\",\"2023-03-12T21:41:55.100000+00:00\",\"2023-03-12T21:41:55.200000+00:00\",\"2023-03-12T21:41:55.300000+00:00\",\"2023-03-12T21:41:55.400000+00:00\",\"2023-03-12T21:41:55.500000+00:00\",\"2023-03-12T21:41:55.600000+00:00\",\"2023-03-12T21:41:55.700000+00:00\",\"2023-03-12T21:41:55.800000+00:00\",\"2023-03-12T21:41:55.900000+00:00\",\"2023-03-12T21:41:56+00:00\",\"2023-03-12T21:41:56.100000+00:00\",\"2023-03-12T21:41:56.200000+00:00\",\"2023-03-12T21:41:56.300000+00:00\",\"2023-03-12T21:41:56.400000+00:00\",\"2023-03-12T21:41:56.500000+00:00\",\"2023-03-12T21:41:56.600000+00:00\",\"2023-03-12T21:41:56.700000+00:00\",\"2023-03-12T21:41:56.800000+00:00\",\"2023-03-12T21:41:56.900000+00:00\",\"2023-03-12T21:41:57+00:00\",\"2023-03-12T21:41:57.100000+00:00\",\"2023-03-12T21:41:57.200000+00:00\",\"2023-03-12T21:41:57.300000+00:00\",\"2023-03-12T21:41:57.400000+00:00\",\"2023-03-12T21:41:57.500000+00:00\",\"2023-03-12T21:41:57.600000+00:00\",\"2023-03-12T21:41:57.700000+00:00\",\"2023-03-12T21:41:57.800000+00:00\",\"2023-03-12T21:41:57.900000+00:00\",\"2023-03-12T21:41:58+00:00\",\"2023-03-12T21:41:58.100000+00:00\"],\"xaxis\":\"x\",\"y\":[1152.681053080325,1153.0860823772,1153.439438016443,1153.871781848346,1154.3050870912828,1154.51322687155,1154.8405860211972,1155.1596843537716,1155.3312933676598,1155.510359592781,1155.7084835078092,1155.9880600685901,1156.277120617265,1156.5326446338997,1156.850147845205,1157.2702770161436,1157.6630743594078,1157.9382151019324,1158.4655612322235,1159.071571126063,1159.534438343728,1159.8837276332106,1160.322331098543,1160.5895627774912,1160.7767739370088,1161.167194933511,1161.5759481187442,1161.897544012682,1162.1808276219626,1162.4149166065713,1162.5435449321158,1162.7545582544901,1163.0875056954933,1163.3982625103863,1163.608240468383,1163.8769556084678,1164.119605894592,1164.454444767213,1164.8424755664737,1164.992857929407,1165.620254874327,1166.048249910676,1166.5915469427684,1167.119682046095,1167.72371042273,1168.2426331804063,1168.7486840247855,1169.1905594950501,1169.5838733870478,1169.873433473867,1170.1492621864572,1170.4299601186697,1170.708238725741,1171.118867056367,1171.4740169981897,1172.084078390221,1172.5949406743994,1173.3001869052282,1173.7837476510585,1174.408561044426,1174.938534175048,1175.45867278981,1175.9410335708328,1176.55179576982,1177.1015393187722,1177.562174748787,1178.0312816241196,1178.5009677055345,1179.0363272424784,1179.5728193146315,1180.1509873113403,1180.7631526962414,1181.464536210894,1182.1068351540193,1182.8920766772565,1183.6963216109832,1184.356019105526,1185.072383204797,1185.7106280954113,1186.2073057647697,1186.6456423443663,1187.3035698471147,1187.8865364392461,1188.5654758903097,1189.1537008242508,1189.833273854188,1190.535764227919,1191.2178133220489,1192.0707291848503,1192.771066541405,1193.6038175994397,1194.4899428995532,1195.3402303660528,1195.9476346524687,1196.7705126648696,1197.4403164008686,1198.1197525672385,1198.6990011573707,1199.373961906121,1200.0155452907095,1200.701794934085,1201.3782194000958,1202.2043170024704,1202.9901638144981,1203.8159936224165,1204.5830002817645,1205.252798197553,1205.8794758174329,1206.5815342616281,1207.1630711338044,1207.883577195064,1208.6016909880252,1209.2954628591167,1210.044311628539,1211.050809910425,1212.0588939718093,1213.0914163479142,1214.1839602256432,1215.3458184864544,1216.5700833661028,1217.659539764041,1218.551372807991,1219.6025303551023,1220.6686114336837,1221.6555397337454,1222.5928851341052,1223.6846775891258,1224.6839753464321,1225.7003337655108,1226.7953496897278,1227.9070743132354,1229.148606200614,1230.3874893812283,1231.4582697174694,1232.410385420499,1231.9479889368959,1234.2964430869274,1235.2779380242407,1236.231045302428,1236.9202742614787,1237.6931724495907,1238.2815157440564,1238.566474708704,1239.1253105101869,1241.9251447838108,1242.863001522728,1243.7159561611434,1244.3555387603024,1245.4368932810924,1246.618376842214,1248.052191628268,1249.1998950822822,1250.468560701366,1251.6334693431406,1252.8679894272595,1254.322293675278,1255.1065844166944,1256.0073239826386,1257.4997627256473,1258.223368650992,1259.2527139145009,1260.3428652183525,1261.155964194212,1262.1389779109652,1263.3375413057768,1264.5194088816843,1265.7037110628535,1266.8907087489474,1267.966850969472,1269.4715234342962,1270.5225983967764,1271.6910988248699,1272.6765978719095,1274.0305354003008,1275.1950894705813,1276.1977275112474,1277.4375034464272,1278.9623761637572,1279.8531460580905,1280.3060018840301,1281.529657315857,1282.840083311769,1284.3035847998258,1285.7834510659368,1287.3729922659074,1288.5021367784138,1289.8618412758751,1290.7147419153014,1292.1545842356081,1293.3394832784054,1294.7875784178345,1296.1299534849704,1297.3611518729956,1298.796605035012,1300.0353336896753,1300.9409909506026,1302.1616983044412,1303.3161348265262,1304.610235292407,1305.9195598695464,1307.313125712027,1308.5538026466695,1309.6751728825031,1310.7095093232185,1311.7471545065223,1313.218805314266,1314.4565438763207,1316.2747402005286,1317.1707686308066,1318.0862163700456,1319.6017572934843,1320.2164671472308,1320.8107476327618,1322.1323202414062,1324.1798672484156,1325.1524290476075,1327.029248042995,1328.413164399565,1329.3332322507797,1330.252964796492,1331.8691799142332,1332.5940117180887,1334.2790070764167,1335.9501872675219,1337.275388074323,1337.704071954787,1339.2890762183229,1340.0460637531392,1341.1801252086073,1342.064049236144,1343.6604662610614,1344.6107846067844,1346.091774066609,1347.4092344853436,1348.7980453669995,1350.274303201376,1351.4667590996762,1352.541790554592,1353.6468841375765,1354.8947301953715,1355.833983633726,1357.1701872605242,1358.2543937314729,1359.4474796736433,1360.8943160348795,1362.156841342993,1363.5077165179873,1364.769530386848,1365.7317610282964,1366.9820046113798,1368.2252433895505,1369.468928432316,1370.6940293192542,1371.9085423878068,1372.866604866218,1374.1031656778111,1375.2941649635416,1376.4826415268567,1377.6716066204137,1378.8635806763957,1379.6752506105752,1380.8782540192701,1382.0884590973951,1383.3064766786897,1384.5332833193147,1385.7700997255647,1386.7842212074052,1388.0430375733317,1389.3129496643605,1390.7055916611262,1392.1706505890686,1393.4672814223961,1394.7707482192686,1396.0809402747414,1397.6250603012172,1398.9483209027792,1400.2773003949667,1401.6126275434042,1403.0899295622773,1404.721228973269,1406.0749602569474,1407.433480763706,1408.7957854512401,1410.161107428791,1411.499254594425,1412.8692413352233,1414.2402127421626,1415.6117947734126,1416.9837430155771,1418.35630160935,1419.7296195275942,1421.079244842862,1422.453512419952,1423.828302883958,1425.2026925323955,1426.5769601096686,1427.9508610986913,1429.3245183252825,1430.69841969247,1432.0730534815325,1433.4489075788763,1434.8262115588398,1436.205361950547,1437.5859766786587,1438.9680567568187,1440.3518286161107,1441.737136899409,1443.0361615228994],\"yaxis\":\"y\",\"type\":\"scatter\"},{\"mode\":\"lines\",\"name\":\"lowess\",\"x\":[\"2023-03-12T21:41:27.400\",\"2023-03-12T21:41:27.500\",\"2023-03-12T21:41:27.600\",\"2023-03-12T21:41:27.700\",\"2023-03-12T21:41:27.800\",\"2023-03-12T21:41:27.900\",\"2023-03-12T21:41:28.000\",\"2023-03-12T21:41:28.100\",\"2023-03-12T21:41:28.200\",\"2023-03-12T21:41:28.300\",\"2023-03-12T21:41:28.400\",\"2023-03-12T21:41:28.500\",\"2023-03-12T21:41:28.600\",\"2023-03-12T21:41:28.700\",\"2023-03-12T21:41:28.800\",\"2023-03-12T21:41:28.900\",\"2023-03-12T21:41:29.000\",\"2023-03-12T21:41:29.100\",\"2023-03-12T21:41:29.200\",\"2023-03-12T21:41:29.300\",\"2023-03-12T21:41:29.400\",\"2023-03-12T21:41:29.500\",\"2023-03-12T21:41:29.600\",\"2023-03-12T21:41:29.700\",\"2023-03-12T21:41:29.800\",\"2023-03-12T21:41:29.900\",\"2023-03-12T21:41:30.000\",\"2023-03-12T21:41:30.100\",\"2023-03-12T21:41:30.200\",\"2023-03-12T21:41:30.300\",\"2023-03-12T21:41:30.400\",\"2023-03-12T21:41:30.500\",\"2023-03-12T21:41:30.600\",\"2023-03-12T21:41:30.700\",\"2023-03-12T21:41:30.800\",\"2023-03-12T21:41:30.900\",\"2023-03-12T21:41:31.000\",\"2023-03-12T21:41:31.100\",\"2023-03-12T21:41:31.200\",\"2023-03-12T21:41:31.300\",\"2023-03-12T21:41:31.400\",\"2023-03-12T21:41:31.500\",\"2023-03-12T21:41:31.600\",\"2023-03-12T21:41:31.700\",\"2023-03-12T21:41:31.800\",\"2023-03-12T21:41:31.900\",\"2023-03-12T21:41:32.000\",\"2023-03-12T21:41:32.100\",\"2023-03-12T21:41:32.200\",\"2023-03-12T21:41:32.300\",\"2023-03-12T21:41:32.400\",\"2023-03-12T21:41:32.500\",\"2023-03-12T21:41:32.600\",\"2023-03-12T21:41:32.700\",\"2023-03-12T21:41:32.800\",\"2023-03-12T21:41:32.900\",\"2023-03-12T21:41:33.000\",\"2023-03-12T21:41:33.100\",\"2023-03-12T21:41:33.200\",\"2023-03-12T21:41:33.300\",\"2023-03-12T21:41:33.400\",\"2023-03-12T21:41:33.500\",\"2023-03-12T21:41:33.600\",\"2023-03-12T21:41:33.700\",\"2023-03-12T21:41:33.800\",\"2023-03-12T21:41:33.900\",\"2023-03-12T21:41:34.000\",\"2023-03-12T21:41:34.100\",\"2023-03-12T21:41:34.200\",\"2023-03-12T21:41:34.300\",\"2023-03-12T21:41:34.400\",\"2023-03-12T21:41:34.500\",\"2023-03-12T21:41:34.600\",\"2023-03-12T21:41:34.700\",\"2023-03-12T21:41:34.800\",\"2023-03-12T21:41:34.900\",\"2023-03-12T21:41:35.000\",\"2023-03-12T21:41:35.100\",\"2023-03-12T21:41:35.200\",\"2023-03-12T21:41:35.300\",\"2023-03-12T21:41:35.400\",\"2023-03-12T21:41:35.500\",\"2023-03-12T21:41:35.600\",\"2023-03-12T21:41:35.700\",\"2023-03-12T21:41:35.800\",\"2023-03-12T21:41:35.900\",\"2023-03-12T21:41:36.000\",\"2023-03-12T21:41:36.100\",\"2023-03-12T21:41:36.200\",\"2023-03-12T21:41:36.300\",\"2023-03-12T21:41:36.400\",\"2023-03-12T21:41:36.500\",\"2023-03-12T21:41:36.600\",\"2023-03-12T21:41:36.700\",\"2023-03-12T21:41:36.800\",\"2023-03-12T21:41:36.900\",\"2023-03-12T21:41:37.000\",\"2023-03-12T21:41:37.100\",\"2023-03-12T21:41:37.200\",\"2023-03-12T21:41:37.300\",\"2023-03-12T21:41:37.400\",\"2023-03-12T21:41:37.500\",\"2023-03-12T21:41:37.600\",\"2023-03-12T21:41:37.700\",\"2023-03-12T21:41:37.800\",\"2023-03-12T21:41:37.900\",\"2023-03-12T21:41:38.000\",\"2023-03-12T21:41:38.100\",\"2023-03-12T21:41:38.200\",\"2023-03-12T21:41:38.300\",\"2023-03-12T21:41:38.400\",\"2023-03-12T21:41:38.500\",\"2023-03-12T21:41:38.600\",\"2023-03-12T21:41:38.700\",\"2023-03-12T21:41:38.800\",\"2023-03-12T21:41:38.900\",\"2023-03-12T21:41:39.000\",\"2023-03-12T21:41:39.100\",\"2023-03-12T21:41:39.200\",\"2023-03-12T21:41:39.300\",\"2023-03-12T21:41:39.400\",\"2023-03-12T21:41:39.500\",\"2023-03-12T21:41:39.600\",\"2023-03-12T21:41:39.700\",\"2023-03-12T21:41:39.800\",\"2023-03-12T21:41:39.900\",\"2023-03-12T21:41:40.000\",\"2023-03-12T21:41:40.100\",\"2023-03-12T21:41:40.200\",\"2023-03-12T21:41:40.300\",\"2023-03-12T21:41:40.400\",\"2023-03-12T21:41:40.500\",\"2023-03-12T21:41:40.600\",\"2023-03-12T21:41:40.700\",\"2023-03-12T21:41:40.800\",\"2023-03-12T21:41:40.900\",\"2023-03-12T21:41:41.000\",\"2023-03-12T21:41:41.100\",\"2023-03-12T21:41:41.200\",\"2023-03-12T21:41:41.300\",\"2023-03-12T21:41:41.400\",\"2023-03-12T21:41:41.500\",\"2023-03-12T21:41:41.600\",\"2023-03-12T21:41:41.700\",\"2023-03-12T21:41:41.800\",\"2023-03-12T21:41:41.900\",\"2023-03-12T21:41:42.000\",\"2023-03-12T21:41:42.100\",\"2023-03-12T21:41:42.200\",\"2023-03-12T21:41:42.300\",\"2023-03-12T21:41:42.400\",\"2023-03-12T21:41:42.500\",\"2023-03-12T21:41:42.600\",\"2023-03-12T21:41:42.700\",\"2023-03-12T21:41:42.800\",\"2023-03-12T21:41:42.900\",\"2023-03-12T21:41:43.000\",\"2023-03-12T21:41:43.100\",\"2023-03-12T21:41:43.200\",\"2023-03-12T21:41:43.300\",\"2023-03-12T21:41:43.400\",\"2023-03-12T21:41:43.500\",\"2023-03-12T21:41:43.600\",\"2023-03-12T21:41:43.700\",\"2023-03-12T21:41:43.800\",\"2023-03-12T21:41:43.900\",\"2023-03-12T21:41:44.000\",\"2023-03-12T21:41:44.100\",\"2023-03-12T21:41:44.200\",\"2023-03-12T21:41:44.300\",\"2023-03-12T21:41:44.400\",\"2023-03-12T21:41:44.500\",\"2023-03-12T21:41:44.600\",\"2023-03-12T21:41:44.700\",\"2023-03-12T21:41:44.800\",\"2023-03-12T21:41:44.900\",\"2023-03-12T21:41:45.000\",\"2023-03-12T21:41:45.100\",\"2023-03-12T21:41:45.200\",\"2023-03-12T21:41:45.300\",\"2023-03-12T21:41:45.400\",\"2023-03-12T21:41:45.500\",\"2023-03-12T21:41:45.600\",\"2023-03-12T21:41:45.700\",\"2023-03-12T21:41:45.800\",\"2023-03-12T21:41:45.900\",\"2023-03-12T21:41:46.000\",\"2023-03-12T21:41:46.100\",\"2023-03-12T21:41:46.200\",\"2023-03-12T21:41:46.300\",\"2023-03-12T21:41:46.400\",\"2023-03-12T21:41:46.500\",\"2023-03-12T21:41:46.600\",\"2023-03-12T21:41:46.700\",\"2023-03-12T21:41:46.800\",\"2023-03-12T21:41:46.900\",\"2023-03-12T21:41:47.000\",\"2023-03-12T21:41:47.100\",\"2023-03-12T21:41:47.200\",\"2023-03-12T21:41:47.300\",\"2023-03-12T21:41:47.400\",\"2023-03-12T21:41:47.500\",\"2023-03-12T21:41:47.600\",\"2023-03-12T21:41:47.700\",\"2023-03-12T21:41:47.800\",\"2023-03-12T21:41:47.900\",\"2023-03-12T21:41:48.000\",\"2023-03-12T21:41:48.100\",\"2023-03-12T21:41:48.200\",\"2023-03-12T21:41:48.300\",\"2023-03-12T21:41:48.400\",\"2023-03-12T21:41:48.500\",\"2023-03-12T21:41:48.600\",\"2023-03-12T21:41:48.700\",\"2023-03-12T21:41:48.800\",\"2023-03-12T21:41:48.900\",\"2023-03-12T21:41:49.000\",\"2023-03-12T21:41:49.100\",\"2023-03-12T21:41:49.200\",\"2023-03-12T21:41:49.300\",\"2023-03-12T21:41:49.400\",\"2023-03-12T21:41:49.500\",\"2023-03-12T21:41:49.600\",\"2023-03-12T21:41:49.700\",\"2023-03-12T21:41:49.800\",\"2023-03-12T21:41:49.900\",\"2023-03-12T21:41:50.000\",\"2023-03-12T21:41:50.100\",\"2023-03-12T21:41:50.200\",\"2023-03-12T21:41:50.300\",\"2023-03-12T21:41:50.400\",\"2023-03-12T21:41:50.500\",\"2023-03-12T21:41:50.600\",\"2023-03-12T21:41:50.700\",\"2023-03-12T21:41:50.800\",\"2023-03-12T21:41:50.900\",\"2023-03-12T21:41:51.000\",\"2023-03-12T21:41:51.100\",\"2023-03-12T21:41:51.200\",\"2023-03-12T21:41:51.300\",\"2023-03-12T21:41:51.400\",\"2023-03-12T21:41:51.500\",\"2023-03-12T21:41:51.600\",\"2023-03-12T21:41:51.700\",\"2023-03-12T21:41:51.800\",\"2023-03-12T21:41:51.900\",\"2023-03-12T21:41:52.000\",\"2023-03-12T21:41:52.100\",\"2023-03-12T21:41:52.200\",\"2023-03-12T21:41:52.300\",\"2023-03-12T21:41:52.400\",\"2023-03-12T21:41:52.500\",\"2023-03-12T21:41:52.600\",\"2023-03-12T21:41:52.700\",\"2023-03-12T21:41:52.800\",\"2023-03-12T21:41:52.900\",\"2023-03-12T21:41:53.000\",\"2023-03-12T21:41:53.100\",\"2023-03-12T21:41:53.200\",\"2023-03-12T21:41:53.300\",\"2023-03-12T21:41:53.400\",\"2023-03-12T21:41:53.500\",\"2023-03-12T21:41:53.600\",\"2023-03-12T21:41:53.700\",\"2023-03-12T21:41:53.800\",\"2023-03-12T21:41:53.900\",\"2023-03-12T21:41:54.000\",\"2023-03-12T21:41:54.100\",\"2023-03-12T21:41:54.200\",\"2023-03-12T21:41:54.300\",\"2023-03-12T21:41:54.400\",\"2023-03-12T21:41:54.500\",\"2023-03-12T21:41:54.600\",\"2023-03-12T21:41:54.700\",\"2023-03-12T21:41:54.800\",\"2023-03-12T21:41:54.900\",\"2023-03-12T21:41:55.000\",\"2023-03-12T21:41:55.100\",\"2023-03-12T21:41:55.200\",\"2023-03-12T21:41:55.300\",\"2023-03-12T21:41:55.400\",\"2023-03-12T21:41:55.500\",\"2023-03-12T21:41:55.600\",\"2023-03-12T21:41:55.700\",\"2023-03-12T21:41:55.800\",\"2023-03-12T21:41:55.900\",\"2023-03-12T21:41:56.000\",\"2023-03-12T21:41:56.100\",\"2023-03-12T21:41:56.200\",\"2023-03-12T21:41:56.300\",\"2023-03-12T21:41:56.400\",\"2023-03-12T21:41:56.500\",\"2023-03-12T21:41:56.600\",\"2023-03-12T21:41:56.700\",\"2023-03-12T21:41:56.800\",\"2023-03-12T21:41:56.900\",\"2023-03-12T21:41:57.000\",\"2023-03-12T21:41:57.100\",\"2023-03-12T21:41:57.200\",\"2023-03-12T21:41:57.300\",\"2023-03-12T21:41:57.400\",\"2023-03-12T21:41:57.500\",\"2023-03-12T21:41:57.600\",\"2023-03-12T21:41:57.700\",\"2023-03-12T21:41:57.800\",\"2023-03-12T21:41:57.900\",\"2023-03-12T21:41:58.000\",\"2023-03-12T21:41:58.100\"],\"y\":[1151.4671958309034,1151.8480372436861,1152.2300209026296,1152.6131724827912,1152.9966359751309,1153.379784141318,1153.7640891153644,1154.1489688641934,1154.535380298982,1154.921296337081,1155.309292242705,1155.6964640750039,1156.0842462564374,1156.4740436387563,1156.8637493338333,1157.253912751421,1157.6448510544712,1158.0373845633412,1158.4294599201287,1158.822035180598,1159.2165601229603,1159.610862049865,1160.006416274431,1160.402303397623,1160.7986693900875,1161.1962518888317,1161.5941113571077,1161.992841372101,1162.3923129344637,1162.7924299237905,1163.193261820032,1163.594672066402,1163.9967839225224,1164.3993238358137,1164.8026949213627,1165.2065980339778,1165.6110476432027,1166.0160954738378,1166.421747312611,1166.827845496569,1167.2344553208668,1167.6415235103889,1168.0490326036945,1168.4569644175767,1168.8653383967278,1169.2741928936198,1169.6837135118194,1170.0940974156113,1170.50580047475,1170.9195152304058,1171.3359693416317,1171.8018750796587,1172.2727644093104,1172.748658974292,1173.2295266960803,1173.715456321525,1174.2064299691058,1174.7025153303823,1175.203756481898,1175.7101884721826,1176.2218742584596,1176.7388560342122,1177.26118599128,1177.7889102656163,1178.3220779384965,1178.860748462192,1179.4049880083528,1179.954884970721,1180.5105300221983,1181.0720404038123,1181.6395567297475,1182.2132244982681,1182.7932055431634,1183.3796774152472,1183.972833311342,1184.5728471052096,1185.1798951920161,1185.7941974136968,1186.4159313400178,1187.0452359510311,1187.6823654796085,1188.3274345993152,1188.9806090874142,1189.642121111657,1190.3120339817115,1190.9905163113908,1191.6776250338435,1192.3733935316416,1193.077737851989,1193.7908322866706,1194.5123642932467,1195.2423779800752,1195.9805574732216,1196.7267006969162,1197.480497903875,1198.24141483771,1199.0093833717,1199.7839924015334,1200.5649070422141,1201.3520002332677,1202.1449460743363,1202.9435742087428,1203.7478103140318,1204.5575245132338,1205.3727253675129,1206.1934348381567,1207.0196648376163,1207.8514294689849,1208.6887262434284,1209.5316194267346,1210.3800791563267,1211.2341099413088,1212.0936490986223,1212.9586660347798,1213.8291058335628,1214.7048977971065,1215.5860047868302,1216.4723555543605,1217.3639672515935,1218.2608338789537,1219.1629838352483,1220.070472089327,1220.9833507852109,1221.901673803863,1222.8255198148217,1223.7549550446145,1224.6899479724889,1225.6306233535593,1226.5770208579463,1227.5291650454244,1228.4870918664235,1229.4510125721267,1230.420860346678,1231.3967677673365,1232.378881798217,1233.3672654121717,1234.3619861876261,1235.3632616475966,1236.3710424961414,1237.3853072691927,1238.406182058775,1239.4334097826277,1240.4670071277562,1241.5067831951437,1242.5524246908167,1243.6039564631926,1244.661071536543,1245.723521611334,1246.7912533087224,1247.8639142858374,1248.941359731043,1250.0234339662334,1251.1099222061164,1252.2006884204318,1253.2955270545247,1254.3943088163655,1255.4968319059258,1256.6029750749155,1257.712623325594,1258.8256869429017,1259.9421112603993,1261.0618547504089,1262.1848959626732,1263.3112133195036,1264.4407915345828,1265.573636538095,1266.7097588002036,1267.8491823353618,1268.9919445717812,1270.1380602067823,1271.2875530061067,1272.440431513154,1273.5966841955437,1274.7563073463039,1275.9192913689733,1277.0856212752456,1278.2552727164896,1279.4282116426716,1280.604359926026,1281.7836403914193,1282.9659320246185,1284.1510913048694,1285.3389758276721,1286.5294114849382,1287.7222412607373,1288.917311199795,1290.1144943994827,1291.3136845705903,1292.5147622975126,1293.717618045436,1294.92217832283,1296.1283763194297,1297.336180366902,1298.5455683626371,1299.7565323718939,1300.9690378889452,1302.1830301854002,1303.3984587448592,1304.615286072646,1305.8334629786773,1307.052937127024,1308.2736357982449,1309.495467864917,1310.7183292669285,1311.9421033274589,1313.1666660454252,1314.3918884056632,1315.6176385706285,1316.8437964971201,1318.0702299666027,1319.2968356710585,1320.5234983826779,1321.7501160401998,1322.9765956406595,1324.2028381431367,1325.428795847423,1326.6543754943455,1327.8794836473053,1329.1041121237813,1330.3281437422097,1331.551530391476,1332.7742147029367,1333.996166162051,1335.2173755478102,1336.437832018718,1337.6575152342707,1338.8764840881881,1340.0947753607795,1341.3124574269998,1342.52962618212,1343.7463746360502,1344.9628345484577,1346.179201945656,1347.3956170722677,1348.6123084737555,1349.8293175118222,1351.0470343659526,1352.265472745022,1353.4848241383334,1354.7053294960444,1355.9271247532217,1357.1503656452956,1358.3752452806605,1359.6018237795167,1360.8302039780565,1362.0605856395332,1363.2930118042245,1364.5275234524697,1365.7642787444256,1367.0031537993557,1368.2444152788842,1369.487954795036,1370.7338543568571,1371.982003232527,1373.232524783872,1374.4853148399777,1375.7404012338473,1376.997815438405,1378.2804580322959,1379.5657565865365,1380.8528537447808,1382.141030410069,1383.4296728975744,1384.7185383985884,1386.0073606983271,1387.2961554571896,1388.584858615043,1389.8734254559254,1391.1619167603476,1392.4504940681802,1393.7389715220593,1395.0276016671608,1396.3160531522637,1397.6049409797483,1398.8937405861068,1400.1829627504405,1401.472306979738,1402.7616198930707,1404.0514581916536,1405.3417343330675,1406.6319009241438,1407.9223275159754,1409.2137152904306,1410.5056085596568,1411.7971738385409,1413.0897392093248,1414.3826465087145,1415.6757732120627,1416.969834788619,1418.263665637046,1419.5590806277041,1420.8540562316027,1422.1498136666714,1423.4461550519122,1424.743123863571,1426.0407499525231,1427.339351198584,1428.6379715438377,1429.9365540778529,1431.236956282094,1432.5369404567641,1433.8382633343692,1435.1393060899434,1436.4417639800142,1437.7442871838982,1439.0478725551875,1440.351910668181,1441.6555349580424],\"type\":\"scatter\"}],                        {\"template\":{\"data\":{\"histogram2dcontour\":[{\"type\":\"histogram2dcontour\",\"colorbar\":{\"outlinewidth\":0,\"ticks\":\"\"},\"colorscale\":[[0.0,\"#0d0887\"],[0.1111111111111111,\"#46039f\"],[0.2222222222222222,\"#7201a8\"],[0.3333333333333333,\"#9c179e\"],[0.4444444444444444,\"#bd3786\"],[0.5555555555555556,\"#d8576b\"],[0.6666666666666666,\"#ed7953\"],[0.7777777777777778,\"#fb9f3a\"],[0.8888888888888888,\"#fdca26\"],[1.0,\"#f0f921\"]]}],\"choropleth\":[{\"type\":\"choropleth\",\"colorbar\":{\"outlinewidth\":0,\"ticks\":\"\"}}],\"histogram2d\":[{\"type\":\"histogram2d\",\"colorbar\":{\"outlinewidth\":0,\"ticks\":\"\"},\"colorscale\":[[0.0,\"#0d0887\"],[0.1111111111111111,\"#46039f\"],[0.2222222222222222,\"#7201a8\"],[0.3333333333333333,\"#9c179e\"],[0.4444444444444444,\"#bd3786\"],[0.5555555555555556,\"#d8576b\"],[0.6666666666666666,\"#ed7953\"],[0.7777777777777778,\"#fb9f3a\"],[0.8888888888888888,\"#fdca26\"],[1.0,\"#f0f921\"]]}],\"heatmap\":[{\"type\":\"heatmap\",\"colorbar\":{\"outlinewidth\":0,\"ticks\":\"\"},\"colorscale\":[[0.0,\"#0d0887\"],[0.1111111111111111,\"#46039f\"],[0.2222222222222222,\"#7201a8\"],[0.3333333333333333,\"#9c179e\"],[0.4444444444444444,\"#bd3786\"],[0.5555555555555556,\"#d8576b\"],[0.6666666666666666,\"#ed7953\"],[0.7777777777777778,\"#fb9f3a\"],[0.8888888888888888,\"#fdca26\"],[1.0,\"#f0f921\"]]}],\"heatmapgl\":[{\"type\":\"heatmapgl\",\"colorbar\":{\"outlinewidth\":0,\"ticks\":\"\"},\"colorscale\":[[0.0,\"#0d0887\"],[0.1111111111111111,\"#46039f\"],[0.2222222222222222,\"#7201a8\"],[0.3333333333333333,\"#9c179e\"],[0.4444444444444444,\"#bd3786\"],[0.5555555555555556,\"#d8576b\"],[0.6666666666666666,\"#ed7953\"],[0.7777777777777778,\"#fb9f3a\"],[0.8888888888888888,\"#fdca26\"],[1.0,\"#f0f921\"]]}],\"contourcarpet\":[{\"type\":\"contourcarpet\",\"colorbar\":{\"outlinewidth\":0,\"ticks\":\"\"}}],\"contour\":[{\"type\":\"contour\",\"colorbar\":{\"outlinewidth\":0,\"ticks\":\"\"},\"colorscale\":[[0.0,\"#0d0887\"],[0.1111111111111111,\"#46039f\"],[0.2222222222222222,\"#7201a8\"],[0.3333333333333333,\"#9c179e\"],[0.4444444444444444,\"#bd3786\"],[0.5555555555555556,\"#d8576b\"],[0.6666666666666666,\"#ed7953\"],[0.7777777777777778,\"#fb9f3a\"],[0.8888888888888888,\"#fdca26\"],[1.0,\"#f0f921\"]]}],\"surface\":[{\"type\":\"surface\",\"colorbar\":{\"outlinewidth\":0,\"ticks\":\"\"},\"colorscale\":[[0.0,\"#0d0887\"],[0.1111111111111111,\"#46039f\"],[0.2222222222222222,\"#7201a8\"],[0.3333333333333333,\"#9c179e\"],[0.4444444444444444,\"#bd3786\"],[0.5555555555555556,\"#d8576b\"],[0.6666666666666666,\"#ed7953\"],[0.7777777777777778,\"#fb9f3a\"],[0.8888888888888888,\"#fdca26\"],[1.0,\"#f0f921\"]]}],\"mesh3d\":[{\"type\":\"mesh3d\",\"colorbar\":{\"outlinewidth\":0,\"ticks\":\"\"}}],\"scatter\":[{\"fillpattern\":{\"fillmode\":\"overlay\",\"size\":10,\"solidity\":0.2},\"type\":\"scatter\"}],\"parcoords\":[{\"type\":\"parcoords\",\"line\":{\"colorbar\":{\"outlinewidth\":0,\"ticks\":\"\"}}}],\"scatterpolargl\":[{\"type\":\"scatterpolargl\",\"marker\":{\"colorbar\":{\"outlinewidth\":0,\"ticks\":\"\"}}}],\"bar\":[{\"error_x\":{\"color\":\"#2a3f5f\"},\"error_y\":{\"color\":\"#2a3f5f\"},\"marker\":{\"line\":{\"color\":\"#E5ECF6\",\"width\":0.5},\"pattern\":{\"fillmode\":\"overlay\",\"size\":10,\"solidity\":0.2}},\"type\":\"bar\"}],\"scattergeo\":[{\"type\":\"scattergeo\",\"marker\":{\"colorbar\":{\"outlinewidth\":0,\"ticks\":\"\"}}}],\"scatterpolar\":[{\"type\":\"scatterpolar\",\"marker\":{\"colorbar\":{\"outlinewidth\":0,\"ticks\":\"\"}}}],\"histogram\":[{\"marker\":{\"pattern\":{\"fillmode\":\"overlay\",\"size\":10,\"solidity\":0.2}},\"type\":\"histogram\"}],\"scattergl\":[{\"type\":\"scattergl\",\"marker\":{\"colorbar\":{\"outlinewidth\":0,\"ticks\":\"\"}}}],\"scatter3d\":[{\"type\":\"scatter3d\",\"line\":{\"colorbar\":{\"outlinewidth\":0,\"ticks\":\"\"}},\"marker\":{\"colorbar\":{\"outlinewidth\":0,\"ticks\":\"\"}}}],\"scattermapbox\":[{\"type\":\"scattermapbox\",\"marker\":{\"colorbar\":{\"outlinewidth\":0,\"ticks\":\"\"}}}],\"scatterternary\":[{\"type\":\"scatterternary\",\"marker\":{\"colorbar\":{\"outlinewidth\":0,\"ticks\":\"\"}}}],\"scattercarpet\":[{\"type\":\"scattercarpet\",\"marker\":{\"colorbar\":{\"outlinewidth\":0,\"ticks\":\"\"}}}],\"carpet\":[{\"aaxis\":{\"endlinecolor\":\"#2a3f5f\",\"gridcolor\":\"white\",\"linecolor\":\"white\",\"minorgridcolor\":\"white\",\"startlinecolor\":\"#2a3f5f\"},\"baxis\":{\"endlinecolor\":\"#2a3f5f\",\"gridcolor\":\"white\",\"linecolor\":\"white\",\"minorgridcolor\":\"white\",\"startlinecolor\":\"#2a3f5f\"},\"type\":\"carpet\"}],\"table\":[{\"cells\":{\"fill\":{\"color\":\"#EBF0F8\"},\"line\":{\"color\":\"white\"}},\"header\":{\"fill\":{\"color\":\"#C8D4E3\"},\"line\":{\"color\":\"white\"}},\"type\":\"table\"}],\"barpolar\":[{\"marker\":{\"line\":{\"color\":\"#E5ECF6\",\"width\":0.5},\"pattern\":{\"fillmode\":\"overlay\",\"size\":10,\"solidity\":0.2}},\"type\":\"barpolar\"}],\"pie\":[{\"automargin\":true,\"type\":\"pie\"}]},\"layout\":{\"autotypenumbers\":\"strict\",\"colorway\":[\"#636efa\",\"#EF553B\",\"#00cc96\",\"#ab63fa\",\"#FFA15A\",\"#19d3f3\",\"#FF6692\",\"#B6E880\",\"#FF97FF\",\"#FECB52\"],\"font\":{\"color\":\"#2a3f5f\"},\"hovermode\":\"closest\",\"hoverlabel\":{\"align\":\"left\"},\"paper_bgcolor\":\"white\",\"plot_bgcolor\":\"#E5ECF6\",\"polar\":{\"bgcolor\":\"#E5ECF6\",\"angularaxis\":{\"gridcolor\":\"white\",\"linecolor\":\"white\",\"ticks\":\"\"},\"radialaxis\":{\"gridcolor\":\"white\",\"linecolor\":\"white\",\"ticks\":\"\"}},\"ternary\":{\"bgcolor\":\"#E5ECF6\",\"aaxis\":{\"gridcolor\":\"white\",\"linecolor\":\"white\",\"ticks\":\"\"},\"baxis\":{\"gridcolor\":\"white\",\"linecolor\":\"white\",\"ticks\":\"\"},\"caxis\":{\"gridcolor\":\"white\",\"linecolor\":\"white\",\"ticks\":\"\"}},\"coloraxis\":{\"colorbar\":{\"outlinewidth\":0,\"ticks\":\"\"}},\"colorscale\":{\"sequential\":[[0.0,\"#0d0887\"],[0.1111111111111111,\"#46039f\"],[0.2222222222222222,\"#7201a8\"],[0.3333333333333333,\"#9c179e\"],[0.4444444444444444,\"#bd3786\"],[0.5555555555555556,\"#d8576b\"],[0.6666666666666666,\"#ed7953\"],[0.7777777777777778,\"#fb9f3a\"],[0.8888888888888888,\"#fdca26\"],[1.0,\"#f0f921\"]],\"sequentialminus\":[[0.0,\"#0d0887\"],[0.1111111111111111,\"#46039f\"],[0.2222222222222222,\"#7201a8\"],[0.3333333333333333,\"#9c179e\"],[0.4444444444444444,\"#bd3786\"],[0.5555555555555556,\"#d8576b\"],[0.6666666666666666,\"#ed7953\"],[0.7777777777777778,\"#fb9f3a\"],[0.8888888888888888,\"#fdca26\"],[1.0,\"#f0f921\"]],\"diverging\":[[0,\"#8e0152\"],[0.1,\"#c51b7d\"],[0.2,\"#de77ae\"],[0.3,\"#f1b6da\"],[0.4,\"#fde0ef\"],[0.5,\"#f7f7f7\"],[0.6,\"#e6f5d0\"],[0.7,\"#b8e186\"],[0.8,\"#7fbc41\"],[0.9,\"#4d9221\"],[1,\"#276419\"]]},\"xaxis\":{\"gridcolor\":\"white\",\"linecolor\":\"white\",\"ticks\":\"\",\"title\":{\"standoff\":15},\"zerolinecolor\":\"white\",\"automargin\":true,\"zerolinewidth\":2},\"yaxis\":{\"gridcolor\":\"white\",\"linecolor\":\"white\",\"ticks\":\"\",\"title\":{\"standoff\":15},\"zerolinecolor\":\"white\",\"automargin\":true,\"zerolinewidth\":2},\"scene\":{\"xaxis\":{\"backgroundcolor\":\"#E5ECF6\",\"gridcolor\":\"white\",\"linecolor\":\"white\",\"showbackground\":true,\"ticks\":\"\",\"zerolinecolor\":\"white\",\"gridwidth\":2},\"yaxis\":{\"backgroundcolor\":\"#E5ECF6\",\"gridcolor\":\"white\",\"linecolor\":\"white\",\"showbackground\":true,\"ticks\":\"\",\"zerolinecolor\":\"white\",\"gridwidth\":2},\"zaxis\":{\"backgroundcolor\":\"#E5ECF6\",\"gridcolor\":\"white\",\"linecolor\":\"white\",\"showbackground\":true,\"ticks\":\"\",\"zerolinecolor\":\"white\",\"gridwidth\":2}},\"shapedefaults\":{\"line\":{\"color\":\"#2a3f5f\"}},\"annotationdefaults\":{\"arrowcolor\":\"#2a3f5f\",\"arrowhead\":0,\"arrowwidth\":1},\"geo\":{\"bgcolor\":\"white\",\"landcolor\":\"#E5ECF6\",\"subunitcolor\":\"white\",\"showland\":true,\"showlakes\":true,\"lakecolor\":\"white\"},\"title\":{\"x\":0.05},\"mapbox\":{\"style\":\"light\"}}},\"xaxis\":{\"anchor\":\"y\",\"domain\":[0.0,1.0],\"title\":{\"text\":\"epoch_time\"}},\"yaxis\":{\"anchor\":\"x\",\"domain\":[0.0,1.0],\"title\":{\"text\":\"value\"}},\"legend\":{\"title\":{\"text\":\"lane_index\"},\"tracegroupgap\":0},\"title\":{\"text\":\"Trajectory\"}},                        {\"responsive\": true}                    ).then(function(){\n",
       "                            \n",
       "var gd = document.getElementById('a92cbc56-7cf5-46ed-8dea-15113b0e8eaa');\n",
       "var x = new MutationObserver(function (mutations, observer) {{\n",
       "        var display = window.getComputedStyle(gd).display;\n",
       "        if (!display || display === 'none') {{\n",
       "            console.log([gd, 'removed!']);\n",
       "            Plotly.purge(gd);\n",
       "            observer.disconnect();\n",
       "        }}\n",
       "}});\n",
       "\n",
       "// Listen for the removal of the full notebook cells\n",
       "var notebookContainer = gd.closest('#notebook-container');\n",
       "if (notebookContainer) {{\n",
       "    x.observe(notebookContainer, {childList: true});\n",
       "}}\n",
       "\n",
       "// Listen for the clearing of the current output cell\n",
       "var outputEl = gd.closest('.output');\n",
       "if (outputEl) {{\n",
       "    x.observe(outputEl, {childList: true});\n",
       "}}\n",
       "\n",
       "                        })                };                });            </script>        </div>"
      ]
     },
     "metadata": {},
     "output_type": "display_data"
    },
    {
     "data": {
      "application/vnd.plotly.v1+json": {
       "config": {
        "plotlyServerURL": "https://plot.ly"
       },
       "data": [
        {
         "hovertemplate": "variable=s_velocity_smooth<br>epoch_time=%{x}<br>value=%{y}<extra></extra>",
         "legendgroup": "s_velocity_smooth",
         "marker": {
          "color": "#636efa",
          "symbol": "circle"
         },
         "mode": "markers",
         "name": "s_velocity_smooth",
         "orientation": "v",
         "showlegend": true,
         "type": "scatter",
         "x": [
          "2023-03-12T21:41:27.400000+00:00",
          "2023-03-12T21:41:27.500000+00:00",
          "2023-03-12T21:41:27.600000+00:00",
          "2023-03-12T21:41:27.700000+00:00",
          "2023-03-12T21:41:27.800000+00:00",
          "2023-03-12T21:41:27.900000+00:00",
          "2023-03-12T21:41:28+00:00",
          "2023-03-12T21:41:28.100000+00:00",
          "2023-03-12T21:41:28.200000+00:00",
          "2023-03-12T21:41:28.300000+00:00",
          "2023-03-12T21:41:28.400000+00:00",
          "2023-03-12T21:41:28.500000+00:00",
          "2023-03-12T21:41:28.600000+00:00",
          "2023-03-12T21:41:28.700000+00:00",
          "2023-03-12T21:41:28.800000+00:00",
          "2023-03-12T21:41:28.900000+00:00",
          "2023-03-12T21:41:29+00:00",
          "2023-03-12T21:41:29.100000+00:00",
          "2023-03-12T21:41:29.200000+00:00",
          "2023-03-12T21:41:29.300000+00:00",
          "2023-03-12T21:41:29.400000+00:00",
          "2023-03-12T21:41:29.500000+00:00",
          "2023-03-12T21:41:29.600000+00:00",
          "2023-03-12T21:41:29.700000+00:00",
          "2023-03-12T21:41:29.800000+00:00",
          "2023-03-12T21:41:29.900000+00:00",
          "2023-03-12T21:41:30+00:00",
          "2023-03-12T21:41:30.100000+00:00",
          "2023-03-12T21:41:30.200000+00:00",
          "2023-03-12T21:41:30.300000+00:00",
          "2023-03-12T21:41:30.400000+00:00",
          "2023-03-12T21:41:30.500000+00:00",
          "2023-03-12T21:41:30.600000+00:00",
          "2023-03-12T21:41:30.700000+00:00",
          "2023-03-12T21:41:30.800000+00:00",
          "2023-03-12T21:41:30.900000+00:00",
          "2023-03-12T21:41:31+00:00",
          "2023-03-12T21:41:31.100000+00:00",
          "2023-03-12T21:41:31.200000+00:00",
          "2023-03-12T21:41:31.300000+00:00",
          "2023-03-12T21:41:31.400000+00:00",
          "2023-03-12T21:41:31.500000+00:00",
          "2023-03-12T21:41:31.600000+00:00",
          "2023-03-12T21:41:31.700000+00:00",
          "2023-03-12T21:41:31.800000+00:00",
          "2023-03-12T21:41:31.900000+00:00",
          "2023-03-12T21:41:32+00:00",
          "2023-03-12T21:41:32.100000+00:00",
          "2023-03-12T21:41:32.200000+00:00",
          "2023-03-12T21:41:32.300000+00:00",
          "2023-03-12T21:41:32.400000+00:00",
          "2023-03-12T21:41:32.500000+00:00",
          "2023-03-12T21:41:32.600000+00:00",
          "2023-03-12T21:41:32.700000+00:00",
          "2023-03-12T21:41:32.800000+00:00",
          "2023-03-12T21:41:32.900000+00:00",
          "2023-03-12T21:41:33+00:00",
          "2023-03-12T21:41:33.100000+00:00",
          "2023-03-12T21:41:33.200000+00:00",
          "2023-03-12T21:41:33.300000+00:00",
          "2023-03-12T21:41:33.400000+00:00",
          "2023-03-12T21:41:33.500000+00:00",
          "2023-03-12T21:41:33.600000+00:00",
          "2023-03-12T21:41:33.700000+00:00",
          "2023-03-12T21:41:33.800000+00:00",
          "2023-03-12T21:41:33.900000+00:00",
          "2023-03-12T21:41:34+00:00",
          "2023-03-12T21:41:34.100000+00:00",
          "2023-03-12T21:41:34.200000+00:00",
          "2023-03-12T21:41:34.300000+00:00",
          "2023-03-12T21:41:34.400000+00:00",
          "2023-03-12T21:41:34.500000+00:00",
          "2023-03-12T21:41:34.600000+00:00",
          "2023-03-12T21:41:34.700000+00:00",
          "2023-03-12T21:41:34.800000+00:00",
          "2023-03-12T21:41:34.900000+00:00",
          "2023-03-12T21:41:35+00:00",
          "2023-03-12T21:41:35.100000+00:00",
          "2023-03-12T21:41:35.200000+00:00",
          "2023-03-12T21:41:35.300000+00:00",
          "2023-03-12T21:41:35.400000+00:00",
          "2023-03-12T21:41:35.500000+00:00",
          "2023-03-12T21:41:35.600000+00:00",
          "2023-03-12T21:41:35.700000+00:00",
          "2023-03-12T21:41:35.800000+00:00",
          "2023-03-12T21:41:35.900000+00:00",
          "2023-03-12T21:41:36+00:00",
          "2023-03-12T21:41:36.100000+00:00",
          "2023-03-12T21:41:36.200000+00:00",
          "2023-03-12T21:41:36.300000+00:00",
          "2023-03-12T21:41:36.400000+00:00",
          "2023-03-12T21:41:36.500000+00:00",
          "2023-03-12T21:41:36.600000+00:00",
          "2023-03-12T21:41:36.700000+00:00",
          "2023-03-12T21:41:36.800000+00:00",
          "2023-03-12T21:41:36.900000+00:00",
          "2023-03-12T21:41:37+00:00",
          "2023-03-12T21:41:37.100000+00:00",
          "2023-03-12T21:41:37.200000+00:00",
          "2023-03-12T21:41:37.300000+00:00",
          "2023-03-12T21:41:37.400000+00:00",
          "2023-03-12T21:41:37.500000+00:00",
          "2023-03-12T21:41:37.600000+00:00",
          "2023-03-12T21:41:37.700000+00:00",
          "2023-03-12T21:41:37.800000+00:00",
          "2023-03-12T21:41:37.900000+00:00",
          "2023-03-12T21:41:38+00:00",
          "2023-03-12T21:41:38.100000+00:00",
          "2023-03-12T21:41:38.200000+00:00",
          "2023-03-12T21:41:38.300000+00:00",
          "2023-03-12T21:41:38.400000+00:00",
          "2023-03-12T21:41:38.500000+00:00",
          "2023-03-12T21:41:38.600000+00:00",
          "2023-03-12T21:41:38.700000+00:00",
          "2023-03-12T21:41:38.800000+00:00",
          "2023-03-12T21:41:38.900000+00:00",
          "2023-03-12T21:41:39+00:00",
          "2023-03-12T21:41:39.100000+00:00",
          "2023-03-12T21:41:39.200000+00:00",
          "2023-03-12T21:41:39.300000+00:00",
          "2023-03-12T21:41:39.400000+00:00",
          "2023-03-12T21:41:39.500000+00:00",
          "2023-03-12T21:41:39.600000+00:00",
          "2023-03-12T21:41:39.700000+00:00",
          "2023-03-12T21:41:39.800000+00:00",
          "2023-03-12T21:41:39.900000+00:00",
          "2023-03-12T21:41:40+00:00",
          "2023-03-12T21:41:40.100000+00:00",
          "2023-03-12T21:41:40.200000+00:00",
          "2023-03-12T21:41:40.300000+00:00",
          "2023-03-12T21:41:40.400000+00:00",
          "2023-03-12T21:41:40.500000+00:00",
          "2023-03-12T21:41:40.600000+00:00",
          "2023-03-12T21:41:40.700000+00:00",
          "2023-03-12T21:41:40.800000+00:00",
          "2023-03-12T21:41:40.900000+00:00",
          "2023-03-12T21:41:41+00:00",
          "2023-03-12T21:41:41.100000+00:00",
          "2023-03-12T21:41:41.200000+00:00",
          "2023-03-12T21:41:41.300000+00:00",
          "2023-03-12T21:41:41.400000+00:00",
          "2023-03-12T21:41:41.500000+00:00",
          "2023-03-12T21:41:41.600000+00:00",
          "2023-03-12T21:41:41.700000+00:00",
          "2023-03-12T21:41:41.800000+00:00",
          "2023-03-12T21:41:41.900000+00:00",
          "2023-03-12T21:41:42+00:00",
          "2023-03-12T21:41:42.100000+00:00",
          "2023-03-12T21:41:42.200000+00:00",
          "2023-03-12T21:41:42.300000+00:00",
          "2023-03-12T21:41:42.400000+00:00",
          "2023-03-12T21:41:42.500000+00:00",
          "2023-03-12T21:41:42.600000+00:00",
          "2023-03-12T21:41:42.700000+00:00",
          "2023-03-12T21:41:42.800000+00:00",
          "2023-03-12T21:41:42.900000+00:00",
          "2023-03-12T21:41:43+00:00",
          "2023-03-12T21:41:43.100000+00:00",
          "2023-03-12T21:41:43.200000+00:00",
          "2023-03-12T21:41:43.300000+00:00",
          "2023-03-12T21:41:43.400000+00:00",
          "2023-03-12T21:41:43.500000+00:00",
          "2023-03-12T21:41:43.600000+00:00",
          "2023-03-12T21:41:43.700000+00:00",
          "2023-03-12T21:41:43.800000+00:00",
          "2023-03-12T21:41:43.900000+00:00",
          "2023-03-12T21:41:44+00:00",
          "2023-03-12T21:41:44.100000+00:00",
          "2023-03-12T21:41:44.200000+00:00",
          "2023-03-12T21:41:44.300000+00:00",
          "2023-03-12T21:41:44.400000+00:00",
          "2023-03-12T21:41:44.500000+00:00",
          "2023-03-12T21:41:44.600000+00:00",
          "2023-03-12T21:41:44.700000+00:00",
          "2023-03-12T21:41:44.800000+00:00",
          "2023-03-12T21:41:44.900000+00:00",
          "2023-03-12T21:41:45+00:00",
          "2023-03-12T21:41:45.100000+00:00",
          "2023-03-12T21:41:45.200000+00:00",
          "2023-03-12T21:41:45.300000+00:00",
          "2023-03-12T21:41:45.400000+00:00",
          "2023-03-12T21:41:45.500000+00:00",
          "2023-03-12T21:41:45.600000+00:00",
          "2023-03-12T21:41:45.700000+00:00",
          "2023-03-12T21:41:45.800000+00:00",
          "2023-03-12T21:41:45.900000+00:00",
          "2023-03-12T21:41:46+00:00",
          "2023-03-12T21:41:46.100000+00:00",
          "2023-03-12T21:41:46.200000+00:00",
          "2023-03-12T21:41:46.300000+00:00",
          "2023-03-12T21:41:46.400000+00:00",
          "2023-03-12T21:41:46.500000+00:00",
          "2023-03-12T21:41:46.600000+00:00",
          "2023-03-12T21:41:46.700000+00:00",
          "2023-03-12T21:41:46.800000+00:00",
          "2023-03-12T21:41:46.900000+00:00",
          "2023-03-12T21:41:47+00:00",
          "2023-03-12T21:41:47.100000+00:00",
          "2023-03-12T21:41:47.200000+00:00",
          "2023-03-12T21:41:47.300000+00:00",
          "2023-03-12T21:41:47.400000+00:00",
          "2023-03-12T21:41:47.500000+00:00",
          "2023-03-12T21:41:47.600000+00:00",
          "2023-03-12T21:41:47.700000+00:00",
          "2023-03-12T21:41:47.800000+00:00",
          "2023-03-12T21:41:47.900000+00:00",
          "2023-03-12T21:41:48+00:00",
          "2023-03-12T21:41:48.100000+00:00",
          "2023-03-12T21:41:48.200000+00:00",
          "2023-03-12T21:41:48.300000+00:00",
          "2023-03-12T21:41:48.400000+00:00",
          "2023-03-12T21:41:48.500000+00:00",
          "2023-03-12T21:41:48.600000+00:00",
          "2023-03-12T21:41:48.700000+00:00",
          "2023-03-12T21:41:48.800000+00:00",
          "2023-03-12T21:41:48.900000+00:00",
          "2023-03-12T21:41:49+00:00",
          "2023-03-12T21:41:49.100000+00:00",
          "2023-03-12T21:41:49.200000+00:00",
          "2023-03-12T21:41:49.300000+00:00",
          "2023-03-12T21:41:49.400000+00:00",
          "2023-03-12T21:41:49.500000+00:00",
          "2023-03-12T21:41:49.600000+00:00",
          "2023-03-12T21:41:49.700000+00:00",
          "2023-03-12T21:41:49.800000+00:00",
          "2023-03-12T21:41:49.900000+00:00",
          "2023-03-12T21:41:50+00:00",
          "2023-03-12T21:41:50.100000+00:00",
          "2023-03-12T21:41:50.200000+00:00",
          "2023-03-12T21:41:50.300000+00:00",
          "2023-03-12T21:41:50.400000+00:00",
          "2023-03-12T21:41:50.500000+00:00",
          "2023-03-12T21:41:50.600000+00:00",
          "2023-03-12T21:41:50.700000+00:00",
          "2023-03-12T21:41:50.800000+00:00",
          "2023-03-12T21:41:50.900000+00:00",
          "2023-03-12T21:41:51+00:00",
          "2023-03-12T21:41:51.100000+00:00",
          "2023-03-12T21:41:51.200000+00:00",
          "2023-03-12T21:41:51.300000+00:00",
          "2023-03-12T21:41:51.400000+00:00",
          "2023-03-12T21:41:51.500000+00:00",
          "2023-03-12T21:41:51.600000+00:00",
          "2023-03-12T21:41:51.700000+00:00",
          "2023-03-12T21:41:51.800000+00:00",
          "2023-03-12T21:41:51.900000+00:00",
          "2023-03-12T21:41:52+00:00",
          "2023-03-12T21:41:52.100000+00:00",
          "2023-03-12T21:41:52.200000+00:00",
          "2023-03-12T21:41:52.300000+00:00",
          "2023-03-12T21:41:52.400000+00:00",
          "2023-03-12T21:41:52.500000+00:00",
          "2023-03-12T21:41:52.600000+00:00",
          "2023-03-12T21:41:52.700000+00:00",
          "2023-03-12T21:41:52.800000+00:00",
          "2023-03-12T21:41:52.900000+00:00",
          "2023-03-12T21:41:53+00:00",
          "2023-03-12T21:41:53.100000+00:00",
          "2023-03-12T21:41:53.200000+00:00",
          "2023-03-12T21:41:53.300000+00:00",
          "2023-03-12T21:41:53.400000+00:00",
          "2023-03-12T21:41:53.500000+00:00",
          "2023-03-12T21:41:53.600000+00:00",
          "2023-03-12T21:41:53.700000+00:00",
          "2023-03-12T21:41:53.800000+00:00",
          "2023-03-12T21:41:53.900000+00:00",
          "2023-03-12T21:41:54+00:00",
          "2023-03-12T21:41:54.100000+00:00",
          "2023-03-12T21:41:54.200000+00:00",
          "2023-03-12T21:41:54.300000+00:00",
          "2023-03-12T21:41:54.400000+00:00",
          "2023-03-12T21:41:54.500000+00:00",
          "2023-03-12T21:41:54.600000+00:00",
          "2023-03-12T21:41:54.700000+00:00",
          "2023-03-12T21:41:54.800000+00:00",
          "2023-03-12T21:41:54.900000+00:00",
          "2023-03-12T21:41:55+00:00",
          "2023-03-12T21:41:55.100000+00:00",
          "2023-03-12T21:41:55.200000+00:00",
          "2023-03-12T21:41:55.300000+00:00",
          "2023-03-12T21:41:55.400000+00:00",
          "2023-03-12T21:41:55.500000+00:00",
          "2023-03-12T21:41:55.600000+00:00",
          "2023-03-12T21:41:55.700000+00:00",
          "2023-03-12T21:41:55.800000+00:00",
          "2023-03-12T21:41:55.900000+00:00",
          "2023-03-12T21:41:56+00:00",
          "2023-03-12T21:41:56.100000+00:00",
          "2023-03-12T21:41:56.200000+00:00",
          "2023-03-12T21:41:56.300000+00:00",
          "2023-03-12T21:41:56.400000+00:00",
          "2023-03-12T21:41:56.500000+00:00",
          "2023-03-12T21:41:56.600000+00:00",
          "2023-03-12T21:41:56.700000+00:00",
          "2023-03-12T21:41:56.800000+00:00",
          "2023-03-12T21:41:56.900000+00:00",
          "2023-03-12T21:41:57+00:00",
          "2023-03-12T21:41:57.100000+00:00",
          "2023-03-12T21:41:57.200000+00:00",
          "2023-03-12T21:41:57.300000+00:00",
          "2023-03-12T21:41:57.400000+00:00",
          "2023-03-12T21:41:57.500000+00:00",
          "2023-03-12T21:41:57.600000+00:00",
          "2023-03-12T21:41:57.700000+00:00",
          "2023-03-12T21:41:57.800000+00:00",
          "2023-03-12T21:41:57.900000+00:00",
          "2023-03-12T21:41:58+00:00",
          "2023-03-12T21:41:58.100000+00:00"
         ],
         "xaxis": "x",
         "y": [
          4.081182479858398,
          4.019397258758545,
          3.893014907836914,
          3.7129862308502197,
          3.492058753967285,
          3.2408320903778076,
          2.973033905029297,
          2.7025201320648193,
          2.443103790283203,
          2.207099676132202,
          2.0021121501922607,
          1.832451343536377,
          1.7013007402420044,
          1.6089675426483154,
          1.5533571243286133,
          1.5312700271606445,
          1.5368688106536865,
          1.5642340183258057,
          1.6072523593902588,
          1.6623282432556152,
          1.7262057065963745,
          1.7930355072021484,
          1.859829068183899,
          1.92862868309021,
          2.0042009353637695,
          2.088477373123169,
          2.1794638633728027,
          2.2749674320220947,
          2.3708102703094482,
          2.462608814239502,
          2.550238609313965,
          2.6428158283233643,
          2.750977039337158,
          2.8767249584198,
          3.0120480060577393,
          3.147212505340576,
          3.2812585830688477,
          3.416754722595215,
          3.5514063835144043,
          3.6809723377227783,
          3.803934335708618,
          3.922243595123291,
          4.043584823608398,
          4.175732612609863,
          4.317313194274902,
          4.459811210632324,
          4.59658145904541,
          4.7252197265625,
          4.842162132263184,
          4.939998626708984,
          5.011811256408691,
          5.054241180419922,
          5.067700386047363,
          5.05779504776001,
          5.0333051681518555,
          5.007989406585693,
          4.998420715332031,
          5.0143842697143555,
          5.056918144226074,
          5.126200199127197,
          5.225460052490234,
          5.355740547180176,
          5.507985591888428,
          5.66323184967041,
          5.802267074584961,
          5.912353515625,
          5.988965034484863,
          6.036867618560791,
          6.064075946807861,
          6.07549524307251,
          6.076600551605225,
          6.074483394622803,
          6.076984882354736,
          6.093766212463379,
          6.133172512054443,
          6.197427749633789,
          6.2816290855407715,
          6.3730926513671875,
          6.456601619720459,
          6.521445274353027,
          6.562805652618408,
          6.582834720611572,
          6.587745666503906,
          6.586016654968262,
          6.5868706703186035,
          6.598219394683838,
          6.62717342376709,
          6.678468704223633,
          6.749135494232178,
          6.832685947418213,
          6.9252119064331055,
          7.023204803466797,
          7.122057914733887,
          7.21799373626709,
          7.305718898773193,
          7.380232334136963,
          7.439009189605713,
          7.477443218231201,
          7.494821548461914,
          7.497714519500732,
          7.496084213256836,
          7.49867582321167,
          7.508552074432373,
          7.524879455566406,
          7.543645858764648,
          7.560596942901611,
          7.578661918640137,
          7.607994556427002,
          7.661227226257324,
          7.755279064178467,
          7.910364627838135,
          8.138693809509277,
          8.427806854248047,
          8.70395565032959,
          8.953811645507812,
          9.205109596252441,
          9.479131698608398,
          9.774850845336914,
          10.088541030883789,
          10.407122611999512,
          10.70279312133789,
          10.93502426147461,
          11.063813209533691,
          11.057722091674805,
          10.899564743041992,
          10.600351333618164,
          10.21284008026123,
          9.838799476623535,
          9.505956649780273,
          9.216278076171875,
          8.959437370300293,
          8.719047546386719,
          8.491966247558594,
          8.30789852142334,
          8.26172161102295,
          8.348130226135254,
          8.519013404846191,
          8.732992172241211,
          8.959258079528809,
          9.178853034973145,
          9.388848304748535,
          9.598611831665039,
          9.819331169128418,
          10.04802131652832,
          10.25936508178711,
          10.444385528564453,
          10.60634994506836,
          10.749444961547852,
          10.877534866333008,
          10.99207592010498,
          11.091914176940918,
          11.176319122314453,
          11.246561050415039,
          11.306967735290527,
          11.36230182647705,
          11.417378425598145,
          11.473223686218262,
          11.527633666992188,
          11.579266548156738,
          11.628340721130371,
          11.673066139221191,
          11.711601257324219,
          11.744193077087402,
          11.773666381835938,
          11.801968574523926,
          11.829634666442871,
          11.8565673828125,
          11.882030487060547,
          11.90475082397461,
          11.923636436462402,
          11.938543319702148,
          11.953001022338867,
          11.970559120178223,
          11.992688179016113,
          12.01943588256836,
          12.051292419433594,
          12.090468406677246,
          12.13626766204834,
          12.185586929321289,
          12.237009048461914,
          12.289920806884766,
          12.341177940368652,
          12.38449478149414,
          12.416242599487305,
          12.436339378356934,
          12.448190689086914,
          12.454614639282227,
          12.45602798461914,
          12.451730728149414,
          12.443583488464355,
          12.43581771850586,
          12.43105697631836,
          12.428810119628906,
          12.427038192749023,
          12.427482604980469,
          12.435432434082031,
          12.454360961914062,
          12.486413955688477,
          12.527434349060059,
          12.570232391357422,
          12.608586311340332,
          12.636656761169434,
          12.651250839233398,
          12.651992797851562,
          12.643837928771973,
          12.633041381835938,
          12.618890762329102,
          12.597317695617676,
          12.56820297241211,
          12.53671932220459,
          12.505196571350098,
          12.474124908447266,
          12.44460391998291,
          12.419742584228516,
          12.399975776672363,
          12.384974479675293,
          12.370417594909668,
          12.356231689453125,
          12.34930419921875,
          12.352987289428711,
          12.365338325500488,
          12.384294509887695,
          12.405550003051758,
          12.424254417419434,
          12.436474800109863,
          12.441930770874023,
          12.439988136291504,
          12.433290481567383,
          12.428901672363281,
          12.430708885192871,
          12.437145233154297,
          12.446298599243164,
          12.459214210510254,
          12.4788236618042,
          12.509761810302734,
          12.554021835327148,
          12.609280586242676,
          12.669129371643066,
          12.721054077148438,
          12.755447387695312,
          12.767138481140137,
          12.757346153259277,
          12.734560012817383,
          12.710291862487793,
          12.691901206970215,
          12.671923637390137,
          12.64035701751709,
          12.594795227050781,
          12.53711986541748,
          12.469419479370117,
          12.392487525939941,
          12.303011894226074,
          12.199827194213867,
          12.092733383178711,
          11.997641563415527,
          11.927412986755371,
          11.888447761535645,
          11.880621910095215,
          11.899742126464844,
          11.94025993347168,
          11.996590614318848,
          12.06370735168457,
          12.138725280761719,
          12.222033500671387,
          12.315314292907715,
          12.419454574584961,
          12.531559944152832,
          12.645135879516602,
          12.752603530883789,
          12.848182678222656,
          12.930347442626953,
          13.002346992492676,
          13.069337844848633,
          13.134570121765137,
          13.198116302490234,
          13.259818077087402,
          13.321436882019043,
          13.38521957397461,
          13.450281143188477,
          13.511313438415527,
          13.563270568847656,
          13.605354309082031,
          13.640247344970703,
          13.669448852539062,
          13.691819190979004,
          13.706156730651855,
          13.713993072509766,
          13.718379020690918,
          13.722557067871094,
          13.728412628173828,
          13.73561954498291,
          13.74184799194336,
          13.745394706726074,
          13.745828628540039,
          13.743605613708496,
          13.740218162536621,
          13.737412452697754,
          13.737228393554688,
          13.741382598876953,
          13.750975608825684,
          13.76590347290039,
          13.783286094665527,
          13.799426078796387,
          13.813663482666016,
          13.827858924865723,
          13.843724250793457,
          13.860479354858398,
          13.87669849395752
         ],
         "yaxis": "y"
        },
        {
         "hovertemplate": "variable=rolling<br>epoch_time=%{x}<br>value=%{y}<extra></extra>",
         "legendgroup": "rolling",
         "marker": {
          "color": "#EF553B",
          "symbol": "circle"
         },
         "mode": "markers",
         "name": "rolling",
         "orientation": "v",
         "showlegend": true,
         "type": "scatter",
         "x": [
          "2023-03-12T21:41:27.400000+00:00",
          "2023-03-12T21:41:27.500000+00:00",
          "2023-03-12T21:41:27.600000+00:00",
          "2023-03-12T21:41:27.700000+00:00",
          "2023-03-12T21:41:27.800000+00:00",
          "2023-03-12T21:41:27.900000+00:00",
          "2023-03-12T21:41:28+00:00",
          "2023-03-12T21:41:28.100000+00:00",
          "2023-03-12T21:41:28.200000+00:00",
          "2023-03-12T21:41:28.300000+00:00",
          "2023-03-12T21:41:28.400000+00:00",
          "2023-03-12T21:41:28.500000+00:00",
          "2023-03-12T21:41:28.600000+00:00",
          "2023-03-12T21:41:28.700000+00:00",
          "2023-03-12T21:41:28.800000+00:00",
          "2023-03-12T21:41:28.900000+00:00",
          "2023-03-12T21:41:29+00:00",
          "2023-03-12T21:41:29.100000+00:00",
          "2023-03-12T21:41:29.200000+00:00",
          "2023-03-12T21:41:29.300000+00:00",
          "2023-03-12T21:41:29.400000+00:00",
          "2023-03-12T21:41:29.500000+00:00",
          "2023-03-12T21:41:29.600000+00:00",
          "2023-03-12T21:41:29.700000+00:00",
          "2023-03-12T21:41:29.800000+00:00",
          "2023-03-12T21:41:29.900000+00:00",
          "2023-03-12T21:41:30+00:00",
          "2023-03-12T21:41:30.100000+00:00",
          "2023-03-12T21:41:30.200000+00:00",
          "2023-03-12T21:41:30.300000+00:00",
          "2023-03-12T21:41:30.400000+00:00",
          "2023-03-12T21:41:30.500000+00:00",
          "2023-03-12T21:41:30.600000+00:00",
          "2023-03-12T21:41:30.700000+00:00",
          "2023-03-12T21:41:30.800000+00:00",
          "2023-03-12T21:41:30.900000+00:00",
          "2023-03-12T21:41:31+00:00",
          "2023-03-12T21:41:31.100000+00:00",
          "2023-03-12T21:41:31.200000+00:00",
          "2023-03-12T21:41:31.300000+00:00",
          "2023-03-12T21:41:31.400000+00:00",
          "2023-03-12T21:41:31.500000+00:00",
          "2023-03-12T21:41:31.600000+00:00",
          "2023-03-12T21:41:31.700000+00:00",
          "2023-03-12T21:41:31.800000+00:00",
          "2023-03-12T21:41:31.900000+00:00",
          "2023-03-12T21:41:32+00:00",
          "2023-03-12T21:41:32.100000+00:00",
          "2023-03-12T21:41:32.200000+00:00",
          "2023-03-12T21:41:32.300000+00:00",
          "2023-03-12T21:41:32.400000+00:00",
          "2023-03-12T21:41:32.500000+00:00",
          "2023-03-12T21:41:32.600000+00:00",
          "2023-03-12T21:41:32.700000+00:00",
          "2023-03-12T21:41:32.800000+00:00",
          "2023-03-12T21:41:32.900000+00:00",
          "2023-03-12T21:41:33+00:00",
          "2023-03-12T21:41:33.100000+00:00",
          "2023-03-12T21:41:33.200000+00:00",
          "2023-03-12T21:41:33.300000+00:00",
          "2023-03-12T21:41:33.400000+00:00",
          "2023-03-12T21:41:33.500000+00:00",
          "2023-03-12T21:41:33.600000+00:00",
          "2023-03-12T21:41:33.700000+00:00",
          "2023-03-12T21:41:33.800000+00:00",
          "2023-03-12T21:41:33.900000+00:00",
          "2023-03-12T21:41:34+00:00",
          "2023-03-12T21:41:34.100000+00:00",
          "2023-03-12T21:41:34.200000+00:00",
          "2023-03-12T21:41:34.300000+00:00",
          "2023-03-12T21:41:34.400000+00:00",
          "2023-03-12T21:41:34.500000+00:00",
          "2023-03-12T21:41:34.600000+00:00",
          "2023-03-12T21:41:34.700000+00:00",
          "2023-03-12T21:41:34.800000+00:00",
          "2023-03-12T21:41:34.900000+00:00",
          "2023-03-12T21:41:35+00:00",
          "2023-03-12T21:41:35.100000+00:00",
          "2023-03-12T21:41:35.200000+00:00",
          "2023-03-12T21:41:35.300000+00:00",
          "2023-03-12T21:41:35.400000+00:00",
          "2023-03-12T21:41:35.500000+00:00",
          "2023-03-12T21:41:35.600000+00:00",
          "2023-03-12T21:41:35.700000+00:00",
          "2023-03-12T21:41:35.800000+00:00",
          "2023-03-12T21:41:35.900000+00:00",
          "2023-03-12T21:41:36+00:00",
          "2023-03-12T21:41:36.100000+00:00",
          "2023-03-12T21:41:36.200000+00:00",
          "2023-03-12T21:41:36.300000+00:00",
          "2023-03-12T21:41:36.400000+00:00",
          "2023-03-12T21:41:36.500000+00:00",
          "2023-03-12T21:41:36.600000+00:00",
          "2023-03-12T21:41:36.700000+00:00",
          "2023-03-12T21:41:36.800000+00:00",
          "2023-03-12T21:41:36.900000+00:00",
          "2023-03-12T21:41:37+00:00",
          "2023-03-12T21:41:37.100000+00:00",
          "2023-03-12T21:41:37.200000+00:00",
          "2023-03-12T21:41:37.300000+00:00",
          "2023-03-12T21:41:37.400000+00:00",
          "2023-03-12T21:41:37.500000+00:00",
          "2023-03-12T21:41:37.600000+00:00",
          "2023-03-12T21:41:37.700000+00:00",
          "2023-03-12T21:41:37.800000+00:00",
          "2023-03-12T21:41:37.900000+00:00",
          "2023-03-12T21:41:38+00:00",
          "2023-03-12T21:41:38.100000+00:00",
          "2023-03-12T21:41:38.200000+00:00",
          "2023-03-12T21:41:38.300000+00:00",
          "2023-03-12T21:41:38.400000+00:00",
          "2023-03-12T21:41:38.500000+00:00",
          "2023-03-12T21:41:38.600000+00:00",
          "2023-03-12T21:41:38.700000+00:00",
          "2023-03-12T21:41:38.800000+00:00",
          "2023-03-12T21:41:38.900000+00:00",
          "2023-03-12T21:41:39+00:00",
          "2023-03-12T21:41:39.100000+00:00",
          "2023-03-12T21:41:39.200000+00:00",
          "2023-03-12T21:41:39.300000+00:00",
          "2023-03-12T21:41:39.400000+00:00",
          "2023-03-12T21:41:39.500000+00:00",
          "2023-03-12T21:41:39.600000+00:00",
          "2023-03-12T21:41:39.700000+00:00",
          "2023-03-12T21:41:39.800000+00:00",
          "2023-03-12T21:41:39.900000+00:00",
          "2023-03-12T21:41:40+00:00",
          "2023-03-12T21:41:40.100000+00:00",
          "2023-03-12T21:41:40.200000+00:00",
          "2023-03-12T21:41:40.300000+00:00",
          "2023-03-12T21:41:40.400000+00:00",
          "2023-03-12T21:41:40.500000+00:00",
          "2023-03-12T21:41:40.600000+00:00",
          "2023-03-12T21:41:40.700000+00:00",
          "2023-03-12T21:41:40.800000+00:00",
          "2023-03-12T21:41:40.900000+00:00",
          "2023-03-12T21:41:41+00:00",
          "2023-03-12T21:41:41.100000+00:00",
          "2023-03-12T21:41:41.200000+00:00",
          "2023-03-12T21:41:41.300000+00:00",
          "2023-03-12T21:41:41.400000+00:00",
          "2023-03-12T21:41:41.500000+00:00",
          "2023-03-12T21:41:41.600000+00:00",
          "2023-03-12T21:41:41.700000+00:00",
          "2023-03-12T21:41:41.800000+00:00",
          "2023-03-12T21:41:41.900000+00:00",
          "2023-03-12T21:41:42+00:00",
          "2023-03-12T21:41:42.100000+00:00",
          "2023-03-12T21:41:42.200000+00:00",
          "2023-03-12T21:41:42.300000+00:00",
          "2023-03-12T21:41:42.400000+00:00",
          "2023-03-12T21:41:42.500000+00:00",
          "2023-03-12T21:41:42.600000+00:00",
          "2023-03-12T21:41:42.700000+00:00",
          "2023-03-12T21:41:42.800000+00:00",
          "2023-03-12T21:41:42.900000+00:00",
          "2023-03-12T21:41:43+00:00",
          "2023-03-12T21:41:43.100000+00:00",
          "2023-03-12T21:41:43.200000+00:00",
          "2023-03-12T21:41:43.300000+00:00",
          "2023-03-12T21:41:43.400000+00:00",
          "2023-03-12T21:41:43.500000+00:00",
          "2023-03-12T21:41:43.600000+00:00",
          "2023-03-12T21:41:43.700000+00:00",
          "2023-03-12T21:41:43.800000+00:00",
          "2023-03-12T21:41:43.900000+00:00",
          "2023-03-12T21:41:44+00:00",
          "2023-03-12T21:41:44.100000+00:00",
          "2023-03-12T21:41:44.200000+00:00",
          "2023-03-12T21:41:44.300000+00:00",
          "2023-03-12T21:41:44.400000+00:00",
          "2023-03-12T21:41:44.500000+00:00",
          "2023-03-12T21:41:44.600000+00:00",
          "2023-03-12T21:41:44.700000+00:00",
          "2023-03-12T21:41:44.800000+00:00",
          "2023-03-12T21:41:44.900000+00:00",
          "2023-03-12T21:41:45+00:00",
          "2023-03-12T21:41:45.100000+00:00",
          "2023-03-12T21:41:45.200000+00:00",
          "2023-03-12T21:41:45.300000+00:00",
          "2023-03-12T21:41:45.400000+00:00",
          "2023-03-12T21:41:45.500000+00:00",
          "2023-03-12T21:41:45.600000+00:00",
          "2023-03-12T21:41:45.700000+00:00",
          "2023-03-12T21:41:45.800000+00:00",
          "2023-03-12T21:41:45.900000+00:00",
          "2023-03-12T21:41:46+00:00",
          "2023-03-12T21:41:46.100000+00:00",
          "2023-03-12T21:41:46.200000+00:00",
          "2023-03-12T21:41:46.300000+00:00",
          "2023-03-12T21:41:46.400000+00:00",
          "2023-03-12T21:41:46.500000+00:00",
          "2023-03-12T21:41:46.600000+00:00",
          "2023-03-12T21:41:46.700000+00:00",
          "2023-03-12T21:41:46.800000+00:00",
          "2023-03-12T21:41:46.900000+00:00",
          "2023-03-12T21:41:47+00:00",
          "2023-03-12T21:41:47.100000+00:00",
          "2023-03-12T21:41:47.200000+00:00",
          "2023-03-12T21:41:47.300000+00:00",
          "2023-03-12T21:41:47.400000+00:00",
          "2023-03-12T21:41:47.500000+00:00",
          "2023-03-12T21:41:47.600000+00:00",
          "2023-03-12T21:41:47.700000+00:00",
          "2023-03-12T21:41:47.800000+00:00",
          "2023-03-12T21:41:47.900000+00:00",
          "2023-03-12T21:41:48+00:00",
          "2023-03-12T21:41:48.100000+00:00",
          "2023-03-12T21:41:48.200000+00:00",
          "2023-03-12T21:41:48.300000+00:00",
          "2023-03-12T21:41:48.400000+00:00",
          "2023-03-12T21:41:48.500000+00:00",
          "2023-03-12T21:41:48.600000+00:00",
          "2023-03-12T21:41:48.700000+00:00",
          "2023-03-12T21:41:48.800000+00:00",
          "2023-03-12T21:41:48.900000+00:00",
          "2023-03-12T21:41:49+00:00",
          "2023-03-12T21:41:49.100000+00:00",
          "2023-03-12T21:41:49.200000+00:00",
          "2023-03-12T21:41:49.300000+00:00",
          "2023-03-12T21:41:49.400000+00:00",
          "2023-03-12T21:41:49.500000+00:00",
          "2023-03-12T21:41:49.600000+00:00",
          "2023-03-12T21:41:49.700000+00:00",
          "2023-03-12T21:41:49.800000+00:00",
          "2023-03-12T21:41:49.900000+00:00",
          "2023-03-12T21:41:50+00:00",
          "2023-03-12T21:41:50.100000+00:00",
          "2023-03-12T21:41:50.200000+00:00",
          "2023-03-12T21:41:50.300000+00:00",
          "2023-03-12T21:41:50.400000+00:00",
          "2023-03-12T21:41:50.500000+00:00",
          "2023-03-12T21:41:50.600000+00:00",
          "2023-03-12T21:41:50.700000+00:00",
          "2023-03-12T21:41:50.800000+00:00",
          "2023-03-12T21:41:50.900000+00:00",
          "2023-03-12T21:41:51+00:00",
          "2023-03-12T21:41:51.100000+00:00",
          "2023-03-12T21:41:51.200000+00:00",
          "2023-03-12T21:41:51.300000+00:00",
          "2023-03-12T21:41:51.400000+00:00",
          "2023-03-12T21:41:51.500000+00:00",
          "2023-03-12T21:41:51.600000+00:00",
          "2023-03-12T21:41:51.700000+00:00",
          "2023-03-12T21:41:51.800000+00:00",
          "2023-03-12T21:41:51.900000+00:00",
          "2023-03-12T21:41:52+00:00",
          "2023-03-12T21:41:52.100000+00:00",
          "2023-03-12T21:41:52.200000+00:00",
          "2023-03-12T21:41:52.300000+00:00",
          "2023-03-12T21:41:52.400000+00:00",
          "2023-03-12T21:41:52.500000+00:00",
          "2023-03-12T21:41:52.600000+00:00",
          "2023-03-12T21:41:52.700000+00:00",
          "2023-03-12T21:41:52.800000+00:00",
          "2023-03-12T21:41:52.900000+00:00",
          "2023-03-12T21:41:53+00:00",
          "2023-03-12T21:41:53.100000+00:00",
          "2023-03-12T21:41:53.200000+00:00",
          "2023-03-12T21:41:53.300000+00:00",
          "2023-03-12T21:41:53.400000+00:00",
          "2023-03-12T21:41:53.500000+00:00",
          "2023-03-12T21:41:53.600000+00:00",
          "2023-03-12T21:41:53.700000+00:00",
          "2023-03-12T21:41:53.800000+00:00",
          "2023-03-12T21:41:53.900000+00:00",
          "2023-03-12T21:41:54+00:00",
          "2023-03-12T21:41:54.100000+00:00",
          "2023-03-12T21:41:54.200000+00:00",
          "2023-03-12T21:41:54.300000+00:00",
          "2023-03-12T21:41:54.400000+00:00",
          "2023-03-12T21:41:54.500000+00:00",
          "2023-03-12T21:41:54.600000+00:00",
          "2023-03-12T21:41:54.700000+00:00",
          "2023-03-12T21:41:54.800000+00:00",
          "2023-03-12T21:41:54.900000+00:00",
          "2023-03-12T21:41:55+00:00",
          "2023-03-12T21:41:55.100000+00:00",
          "2023-03-12T21:41:55.200000+00:00",
          "2023-03-12T21:41:55.300000+00:00",
          "2023-03-12T21:41:55.400000+00:00",
          "2023-03-12T21:41:55.500000+00:00",
          "2023-03-12T21:41:55.600000+00:00",
          "2023-03-12T21:41:55.700000+00:00",
          "2023-03-12T21:41:55.800000+00:00",
          "2023-03-12T21:41:55.900000+00:00",
          "2023-03-12T21:41:56+00:00",
          "2023-03-12T21:41:56.100000+00:00",
          "2023-03-12T21:41:56.200000+00:00",
          "2023-03-12T21:41:56.300000+00:00",
          "2023-03-12T21:41:56.400000+00:00",
          "2023-03-12T21:41:56.500000+00:00",
          "2023-03-12T21:41:56.600000+00:00",
          "2023-03-12T21:41:56.700000+00:00",
          "2023-03-12T21:41:56.800000+00:00",
          "2023-03-12T21:41:56.900000+00:00",
          "2023-03-12T21:41:57+00:00",
          "2023-03-12T21:41:57.100000+00:00",
          "2023-03-12T21:41:57.200000+00:00",
          "2023-03-12T21:41:57.300000+00:00",
          "2023-03-12T21:41:57.400000+00:00",
          "2023-03-12T21:41:57.500000+00:00",
          "2023-03-12T21:41:57.600000+00:00",
          "2023-03-12T21:41:57.700000+00:00",
          "2023-03-12T21:41:57.800000+00:00",
          "2023-03-12T21:41:57.900000+00:00",
          "2023-03-12T21:41:58+00:00",
          "2023-03-12T21:41:58.100000+00:00"
         ],
         "xaxis": "x",
         "y": [
          2.347090721130371,
          2.337144136428833,
          2.3313040733337402,
          2.329292058944702,
          2.330723762512207,
          2.3351199626922607,
          2.3420591354370117,
          2.3514578342437744,
          2.3635644912719727,
          2.378657341003418,
          2.396754264831543,
          2.417600154876709,
          2.4409422874450684,
          2.4666216373443604,
          2.494436502456665,
          2.524099826812744,
          2.5553152561187744,
          2.5878612995147705,
          2.6217153072357178,
          2.657033920288086,
          2.6939289569854736,
          2.7323176860809326,
          2.7719831466674805,
          2.8126754760742188,
          2.854093551635742,
          2.8958117961883545,
          2.914424419403076,
          2.935121536254883,
          2.9586150646209717,
          2.985511541366577,
          3.016336441040039,
          3.0516796112060547,
          3.0921874046325684,
          3.138424873352051,
          3.1907012462615967,
          3.2490835189819336,
          3.3135507106781006,
          3.384016513824463,
          3.4601502418518066,
          3.5412356853485107,
          3.626213788986206,
          3.7138354778289795,
          3.802877426147461,
          3.8923299312591553,
          3.981466293334961,
          4.069729804992676,
          4.156737804412842,
          4.242366790771484,
          4.326709747314453,
          4.410012245178223,
          4.492591857910156,
          4.574770927429199,
          4.6568145751953125,
          4.738777160644531,
          4.820493221282959,
          4.901669502258301,
          4.981921195983887,
          5.060721397399902,
          5.137456893920898,
          5.211642265319824,
          5.283139228820801,
          5.352159023284912,
          5.419076919555664,
          5.484311580657959,
          5.548266410827637,
          5.611300468444824,
          5.6737260818481445,
          5.735745429992676,
          5.7973151206970215,
          5.858160495758057,
          5.917928695678711,
          5.976336479187012,
          6.033185005187988,
          6.088229179382324,
          6.141282558441162,
          6.192436695098877,
          6.242122173309326,
          6.291011333465576,
          6.3398284912109375,
          6.389169692993164,
          6.4393768310546875,
          6.490428924560547,
          6.542034149169922,
          6.593906879425049,
          6.645993232727051,
          6.698575019836426,
          6.752273082733154,
          6.807931900024414,
          6.866328239440918,
          6.927142143249512,
          6.99017333984375,
          7.056028366088867,
          7.1258320808410645,
          7.200591564178467,
          7.28108024597168,
          7.36771297454834,
          7.4602370262146,
          7.55744743347168,
          7.657183647155762,
          7.756462574005127,
          7.851789951324463,
          7.93984842300415,
          8.018472671508789,
          8.087786674499512,
          8.148774147033691,
          8.202670097351074,
          8.250602722167969,
          8.293327331542969,
          8.331412315368652,
          8.365849494934082,
          8.399346351623535,
          8.434345245361328,
          8.472182273864746,
          8.513272285461426,
          8.557475090026855,
          8.604398727416992,
          8.653672218322754,
          8.705180168151855,
          8.759125709533691,
          8.815726280212402,
          8.874798774719238,
          8.93608283996582,
          8.999429702758789,
          9.06486988067627,
          9.132524490356445,
          9.202411651611328,
          9.274328231811523,
          9.347881317138672,
          9.422640800476074,
          9.498283386230469,
          9.57465648651123,
          9.6517915725708,
          9.729682922363281,
          9.808075904846191,
          9.886436462402344,
          9.963897705078125,
          10.039151191711426,
          10.110610008239746,
          10.1769380569458,
          10.238332748413086,
          10.295295715332031,
          10.347785949707031,
          10.395334243774414,
          10.437478065490723,
          10.47380256652832,
          10.504133224487305,
          10.528847694396973,
          10.54920768737793,
          10.567342758178711,
          10.586041450500488,
          10.608438491821289,
          10.637456893920898,
          10.675009727478027,
          10.720959663391113,
          10.774552345275879,
          10.834966659545898,
          10.90157699584961,
          10.974020004272461,
          11.051871299743652,
          11.134037971496582,
          11.217530250549316,
          11.299530982971191,
          11.378242492675781,
          11.452703475952148,
          11.522553443908691,
          11.587848663330078,
          11.648787498474121,
          11.705435752868652,
          11.757625579833984,
          11.805206298828125,
          11.8485689163208,
          11.888389587402344,
          11.925350189208984,
          11.960088729858398,
          11.993085861206055,
          12.024649620056152,
          12.054983139038086,
          12.084189414978027,
          12.112282752990723,
          12.139183044433594,
          12.164813995361328,
          12.189128875732422,
          12.212041854858398,
          12.233434677124023,
          12.253212928771973,
          12.271380424499512,
          12.2880220413208,
          12.303272247314453,
          12.317279815673828,
          12.330201148986816,
          12.342162132263184,
          12.353267669677734,
          12.363544464111328,
          12.373029708862305,
          12.381921768188477,
          12.390507698059082,
          12.399044036865234,
          12.407670021057129,
          12.416369438171387,
          12.42500114440918,
          12.433341979980469,
          12.441156387329102,
          12.44814682006836,
          12.454087257385254,
          12.458952903747559,
          12.4628267288208,
          12.465771675109863,
          12.467873573303223,
          12.469367980957031,
          12.470619201660156,
          12.472087860107422,
          12.474204063415527,
          12.47729778289795,
          12.481558799743652,
          12.486946105957031,
          12.493182182312012,
          12.499809265136719,
          12.506335258483887,
          12.512450218200684,
          12.51811408996582,
          12.523402214050293,
          12.528132438659668,
          12.531852722167969,
          12.534021377563477,
          12.534214973449707,
          12.532198905944824,
          12.527876853942871,
          12.521204948425293,
          12.512176513671875,
          12.500990867614746,
          12.488066673278809,
          12.473954200744629,
          12.459344863891602,
          12.445011138916016,
          12.431641578674316,
          12.41971206665039,
          12.409540176391602,
          12.401331901550293,
          12.395215034484863,
          12.391261100769043,
          12.389568328857422,
          12.390257835388184,
          12.39348030090332,
          12.39925765991211,
          12.407323837280273,
          12.417228698730469,
          12.428528785705566,
          12.440890312194824,
          12.4541654586792,
          12.468371391296387,
          12.483604431152344,
          12.499961853027344,
          12.517590522766113,
          12.536628723144531,
          12.557055473327637,
          12.578666687011719,
          12.601190567016602,
          12.624371528625488,
          12.647992134094238,
          12.671804428100586,
          12.695446014404297,
          12.718488693237305,
          12.740583419799805,
          12.761569023132324,
          12.781598091125488,
          12.801056861877441,
          12.820425987243652,
          12.840115547180176,
          12.860333442687988,
          12.8810453414917,
          12.902078628540039,
          12.923444747924805,
          12.945385932922363,
          12.96823501586914,
          12.992321014404297,
          13.017951965332031,
          13.045419692993164,
          13.075024604797363,
          13.107016563415527,
          13.141435623168945,
          13.178040504455566,
          13.2163667678833,
          13.255807876586914,
          13.295729637145996,
          13.324219703674316,
          13.353053092956543,
          13.381914138793945,
          13.41057014465332,
          13.438833236694336,
          13.466487884521484,
          13.49325942993164,
          13.518826484680176,
          13.542905807495117,
          13.565350532531738,
          13.586189270019531,
          13.605609893798828,
          13.623860359191895,
          13.641124725341797,
          13.657461166381836,
          13.672840118408203,
          13.687225341796875,
          13.700581550598145,
          13.712811470031738,
          13.72373104095459,
          13.733160972595215,
          13.741083145141602,
          13.747669219970703,
          13.753143310546875
         ],
         "yaxis": "y"
        },
        {
         "mode": "lines",
         "name": "lowess",
         "type": "scatter",
         "x": [
          "2023-03-12T21:41:27.400",
          "2023-03-12T21:41:27.500",
          "2023-03-12T21:41:27.600",
          "2023-03-12T21:41:27.700",
          "2023-03-12T21:41:27.800",
          "2023-03-12T21:41:27.900",
          "2023-03-12T21:41:28.000",
          "2023-03-12T21:41:28.100",
          "2023-03-12T21:41:28.200",
          "2023-03-12T21:41:28.300",
          "2023-03-12T21:41:28.400",
          "2023-03-12T21:41:28.500",
          "2023-03-12T21:41:28.600",
          "2023-03-12T21:41:28.700",
          "2023-03-12T21:41:28.800",
          "2023-03-12T21:41:28.900",
          "2023-03-12T21:41:29.000",
          "2023-03-12T21:41:29.100",
          "2023-03-12T21:41:29.200",
          "2023-03-12T21:41:29.300",
          "2023-03-12T21:41:29.400",
          "2023-03-12T21:41:29.500",
          "2023-03-12T21:41:29.600",
          "2023-03-12T21:41:29.700",
          "2023-03-12T21:41:29.800",
          "2023-03-12T21:41:29.900",
          "2023-03-12T21:41:30.000",
          "2023-03-12T21:41:30.100",
          "2023-03-12T21:41:30.200",
          "2023-03-12T21:41:30.300",
          "2023-03-12T21:41:30.400",
          "2023-03-12T21:41:30.500",
          "2023-03-12T21:41:30.600",
          "2023-03-12T21:41:30.700",
          "2023-03-12T21:41:30.800",
          "2023-03-12T21:41:30.900",
          "2023-03-12T21:41:31.000",
          "2023-03-12T21:41:31.100",
          "2023-03-12T21:41:31.200",
          "2023-03-12T21:41:31.300",
          "2023-03-12T21:41:31.400",
          "2023-03-12T21:41:31.500",
          "2023-03-12T21:41:31.600",
          "2023-03-12T21:41:31.700",
          "2023-03-12T21:41:31.800",
          "2023-03-12T21:41:31.900",
          "2023-03-12T21:41:32.000",
          "2023-03-12T21:41:32.100",
          "2023-03-12T21:41:32.200",
          "2023-03-12T21:41:32.300",
          "2023-03-12T21:41:32.400",
          "2023-03-12T21:41:32.500",
          "2023-03-12T21:41:32.600",
          "2023-03-12T21:41:32.700",
          "2023-03-12T21:41:32.800",
          "2023-03-12T21:41:32.900",
          "2023-03-12T21:41:33.000",
          "2023-03-12T21:41:33.100",
          "2023-03-12T21:41:33.200",
          "2023-03-12T21:41:33.300",
          "2023-03-12T21:41:33.400",
          "2023-03-12T21:41:33.500",
          "2023-03-12T21:41:33.600",
          "2023-03-12T21:41:33.700",
          "2023-03-12T21:41:33.800",
          "2023-03-12T21:41:33.900",
          "2023-03-12T21:41:34.000",
          "2023-03-12T21:41:34.100",
          "2023-03-12T21:41:34.200",
          "2023-03-12T21:41:34.300",
          "2023-03-12T21:41:34.400",
          "2023-03-12T21:41:34.500",
          "2023-03-12T21:41:34.600",
          "2023-03-12T21:41:34.700",
          "2023-03-12T21:41:34.800",
          "2023-03-12T21:41:34.900",
          "2023-03-12T21:41:35.000",
          "2023-03-12T21:41:35.100",
          "2023-03-12T21:41:35.200",
          "2023-03-12T21:41:35.300",
          "2023-03-12T21:41:35.400",
          "2023-03-12T21:41:35.500",
          "2023-03-12T21:41:35.600",
          "2023-03-12T21:41:35.700",
          "2023-03-12T21:41:35.800",
          "2023-03-12T21:41:35.900",
          "2023-03-12T21:41:36.000",
          "2023-03-12T21:41:36.100",
          "2023-03-12T21:41:36.200",
          "2023-03-12T21:41:36.300",
          "2023-03-12T21:41:36.400",
          "2023-03-12T21:41:36.500",
          "2023-03-12T21:41:36.600",
          "2023-03-12T21:41:36.700",
          "2023-03-12T21:41:36.800",
          "2023-03-12T21:41:36.900",
          "2023-03-12T21:41:37.000",
          "2023-03-12T21:41:37.100",
          "2023-03-12T21:41:37.200",
          "2023-03-12T21:41:37.300",
          "2023-03-12T21:41:37.400",
          "2023-03-12T21:41:37.500",
          "2023-03-12T21:41:37.600",
          "2023-03-12T21:41:37.700",
          "2023-03-12T21:41:37.800",
          "2023-03-12T21:41:37.900",
          "2023-03-12T21:41:38.000",
          "2023-03-12T21:41:38.100",
          "2023-03-12T21:41:38.200",
          "2023-03-12T21:41:38.300",
          "2023-03-12T21:41:38.400",
          "2023-03-12T21:41:38.500",
          "2023-03-12T21:41:38.600",
          "2023-03-12T21:41:38.700",
          "2023-03-12T21:41:38.800",
          "2023-03-12T21:41:38.900",
          "2023-03-12T21:41:39.000",
          "2023-03-12T21:41:39.100",
          "2023-03-12T21:41:39.200",
          "2023-03-12T21:41:39.300",
          "2023-03-12T21:41:39.400",
          "2023-03-12T21:41:39.500",
          "2023-03-12T21:41:39.600",
          "2023-03-12T21:41:39.700",
          "2023-03-12T21:41:39.800",
          "2023-03-12T21:41:39.900",
          "2023-03-12T21:41:40.000",
          "2023-03-12T21:41:40.100",
          "2023-03-12T21:41:40.200",
          "2023-03-12T21:41:40.300",
          "2023-03-12T21:41:40.400",
          "2023-03-12T21:41:40.500",
          "2023-03-12T21:41:40.600",
          "2023-03-12T21:41:40.700",
          "2023-03-12T21:41:40.800",
          "2023-03-12T21:41:40.900",
          "2023-03-12T21:41:41.000",
          "2023-03-12T21:41:41.100",
          "2023-03-12T21:41:41.200",
          "2023-03-12T21:41:41.300",
          "2023-03-12T21:41:41.400",
          "2023-03-12T21:41:41.500",
          "2023-03-12T21:41:41.600",
          "2023-03-12T21:41:41.700",
          "2023-03-12T21:41:41.800",
          "2023-03-12T21:41:41.900",
          "2023-03-12T21:41:42.000",
          "2023-03-12T21:41:42.100",
          "2023-03-12T21:41:42.200",
          "2023-03-12T21:41:42.300",
          "2023-03-12T21:41:42.400",
          "2023-03-12T21:41:42.500",
          "2023-03-12T21:41:42.600",
          "2023-03-12T21:41:42.700",
          "2023-03-12T21:41:42.800",
          "2023-03-12T21:41:42.900",
          "2023-03-12T21:41:43.000",
          "2023-03-12T21:41:43.100",
          "2023-03-12T21:41:43.200",
          "2023-03-12T21:41:43.300",
          "2023-03-12T21:41:43.400",
          "2023-03-12T21:41:43.500",
          "2023-03-12T21:41:43.600",
          "2023-03-12T21:41:43.700",
          "2023-03-12T21:41:43.800",
          "2023-03-12T21:41:43.900",
          "2023-03-12T21:41:44.000",
          "2023-03-12T21:41:44.100",
          "2023-03-12T21:41:44.200",
          "2023-03-12T21:41:44.300",
          "2023-03-12T21:41:44.400",
          "2023-03-12T21:41:44.500",
          "2023-03-12T21:41:44.600",
          "2023-03-12T21:41:44.700",
          "2023-03-12T21:41:44.800",
          "2023-03-12T21:41:44.900",
          "2023-03-12T21:41:45.000",
          "2023-03-12T21:41:45.100",
          "2023-03-12T21:41:45.200",
          "2023-03-12T21:41:45.300",
          "2023-03-12T21:41:45.400",
          "2023-03-12T21:41:45.500",
          "2023-03-12T21:41:45.600",
          "2023-03-12T21:41:45.700",
          "2023-03-12T21:41:45.800",
          "2023-03-12T21:41:45.900",
          "2023-03-12T21:41:46.000",
          "2023-03-12T21:41:46.100",
          "2023-03-12T21:41:46.200",
          "2023-03-12T21:41:46.300",
          "2023-03-12T21:41:46.400",
          "2023-03-12T21:41:46.500",
          "2023-03-12T21:41:46.600",
          "2023-03-12T21:41:46.700",
          "2023-03-12T21:41:46.800",
          "2023-03-12T21:41:46.900",
          "2023-03-12T21:41:47.000",
          "2023-03-12T21:41:47.100",
          "2023-03-12T21:41:47.200",
          "2023-03-12T21:41:47.300",
          "2023-03-12T21:41:47.400",
          "2023-03-12T21:41:47.500",
          "2023-03-12T21:41:47.600",
          "2023-03-12T21:41:47.700",
          "2023-03-12T21:41:47.800",
          "2023-03-12T21:41:47.900",
          "2023-03-12T21:41:48.000",
          "2023-03-12T21:41:48.100",
          "2023-03-12T21:41:48.200",
          "2023-03-12T21:41:48.300",
          "2023-03-12T21:41:48.400",
          "2023-03-12T21:41:48.500",
          "2023-03-12T21:41:48.600",
          "2023-03-12T21:41:48.700",
          "2023-03-12T21:41:48.800",
          "2023-03-12T21:41:48.900",
          "2023-03-12T21:41:49.000",
          "2023-03-12T21:41:49.100",
          "2023-03-12T21:41:49.200",
          "2023-03-12T21:41:49.300",
          "2023-03-12T21:41:49.400",
          "2023-03-12T21:41:49.500",
          "2023-03-12T21:41:49.600",
          "2023-03-12T21:41:49.700",
          "2023-03-12T21:41:49.800",
          "2023-03-12T21:41:49.900",
          "2023-03-12T21:41:50.000",
          "2023-03-12T21:41:50.100",
          "2023-03-12T21:41:50.200",
          "2023-03-12T21:41:50.300",
          "2023-03-12T21:41:50.400",
          "2023-03-12T21:41:50.500",
          "2023-03-12T21:41:50.600",
          "2023-03-12T21:41:50.700",
          "2023-03-12T21:41:50.800",
          "2023-03-12T21:41:50.900",
          "2023-03-12T21:41:51.000",
          "2023-03-12T21:41:51.100",
          "2023-03-12T21:41:51.200",
          "2023-03-12T21:41:51.300",
          "2023-03-12T21:41:51.400",
          "2023-03-12T21:41:51.500",
          "2023-03-12T21:41:51.600",
          "2023-03-12T21:41:51.700",
          "2023-03-12T21:41:51.800",
          "2023-03-12T21:41:51.900",
          "2023-03-12T21:41:52.000",
          "2023-03-12T21:41:52.100",
          "2023-03-12T21:41:52.200",
          "2023-03-12T21:41:52.300",
          "2023-03-12T21:41:52.400",
          "2023-03-12T21:41:52.500",
          "2023-03-12T21:41:52.600",
          "2023-03-12T21:41:52.700",
          "2023-03-12T21:41:52.800",
          "2023-03-12T21:41:52.900",
          "2023-03-12T21:41:53.000",
          "2023-03-12T21:41:53.100",
          "2023-03-12T21:41:53.200",
          "2023-03-12T21:41:53.300",
          "2023-03-12T21:41:53.400",
          "2023-03-12T21:41:53.500",
          "2023-03-12T21:41:53.600",
          "2023-03-12T21:41:53.700",
          "2023-03-12T21:41:53.800",
          "2023-03-12T21:41:53.900",
          "2023-03-12T21:41:54.000",
          "2023-03-12T21:41:54.100",
          "2023-03-12T21:41:54.200",
          "2023-03-12T21:41:54.300",
          "2023-03-12T21:41:54.400",
          "2023-03-12T21:41:54.500",
          "2023-03-12T21:41:54.600",
          "2023-03-12T21:41:54.700",
          "2023-03-12T21:41:54.800",
          "2023-03-12T21:41:54.900",
          "2023-03-12T21:41:55.000",
          "2023-03-12T21:41:55.100",
          "2023-03-12T21:41:55.200",
          "2023-03-12T21:41:55.300",
          "2023-03-12T21:41:55.400",
          "2023-03-12T21:41:55.500",
          "2023-03-12T21:41:55.600",
          "2023-03-12T21:41:55.700",
          "2023-03-12T21:41:55.800",
          "2023-03-12T21:41:55.900",
          "2023-03-12T21:41:56.000",
          "2023-03-12T21:41:56.100",
          "2023-03-12T21:41:56.200",
          "2023-03-12T21:41:56.300",
          "2023-03-12T21:41:56.400",
          "2023-03-12T21:41:56.500",
          "2023-03-12T21:41:56.600",
          "2023-03-12T21:41:56.700",
          "2023-03-12T21:41:56.800",
          "2023-03-12T21:41:56.900",
          "2023-03-12T21:41:57.000",
          "2023-03-12T21:41:57.100",
          "2023-03-12T21:41:57.200",
          "2023-03-12T21:41:57.300",
          "2023-03-12T21:41:57.400",
          "2023-03-12T21:41:57.500",
          "2023-03-12T21:41:57.600",
          "2023-03-12T21:41:57.700",
          "2023-03-12T21:41:57.800",
          "2023-03-12T21:41:57.900",
          "2023-03-12T21:41:58.000",
          "2023-03-12T21:41:58.100"
         ],
         "y": [
          0.5462147669780514,
          0.6258741512567998,
          0.705569684330588,
          0.7852896055743583,
          0.8650346663262319,
          0.9448073071481071,
          1.0245990835897991,
          1.1044160356822992,
          1.1842549562303832,
          1.2641097531287617,
          1.3439822852760297,
          1.4238629290034577,
          1.5037445710839772,
          1.5836165843131949,
          1.6634722370507085,
          1.7432964187870754,
          1.8230790511272248,
          1.9028099803019545,
          1.9824718447955612,
          2.062062546423427,
          2.141566151151899,
          2.2209757930795524,
          2.3002808991143358,
          2.379472313616256,
          2.458543979377411,
          2.5374856415925486,
          2.6162947510053574,
          2.6949623013391153,
          2.7734847779444594,
          2.8518582650634627,
          2.9300807728250993,
          3.008149636917589,
          3.0860664544276957,
          3.163832327265978,
          3.2414510684004982,
          3.318927773959559,
          3.39627057263653,
          3.4734903030803794,
          3.5505998014066344,
          3.6276155376222494,
          3.704557823528937,
          3.781450788275185,
          3.8583241210339847,
          3.935213447324992,
          4.0121612100943755,
          4.0892198117570455,
          4.166450269979308,
          4.243929242143686,
          4.32174437591852,
          4.400000078678916,
          4.478813155239322,
          4.553630288806302,
          4.628144089255113,
          4.702336383037529,
          4.776179432033532,
          4.849629918062687,
          4.922634430753916,
          4.995125932580863,
          5.067028939079726,
          5.138262574945258,
          5.208746391934024,
          5.2784138131570355,
          5.3472186347993045,
          5.415142235977618,
          5.4821901984792465,
          5.54838669740157,
          5.613771144554911,
          5.678385874585869,
          5.742276060663243,
          5.805479656913674,
          5.868027544817237,
          5.929946555180998,
          5.991256390766302,
          6.051971849776244,
          6.112105664047475,
          6.171669950528295,
          6.230677903573295,
          6.2891519827035385,
          6.347127177394744,
          6.404651622781145,
          6.461777495642896,
          6.51855648744494,
          6.575044106306195,
          6.631293053005479,
          6.687358521788807,
          6.743293519332986,
          6.79915004337915,
          6.854973009903545,
          6.910803382658969,
          6.966676277668491,
          7.0226133358822675,
          7.078624442490319,
          7.134709700480414,
          7.190862689377728,
          7.247074203808514,
          7.303342645987563,
          7.35967319684522,
          7.416087054909189,
          7.472632187313401,
          7.529365348494808,
          7.586369333447129,
          7.643730118082474,
          7.701538804004314,
          7.7598817774924305,
          7.818830445734115,
          7.878435404471416,
          7.93872915786939,
          7.999723650504947,
          8.061399427329807,
          8.123743114735827,
          8.186718910519867,
          8.250289582199294,
          8.314412185947837,
          8.379041496906812,
          8.444135059418427,
          8.509638807374571,
          8.57549847673325,
          8.641663668102922,
          8.708072322293196,
          8.774674468012007,
          8.841413025603602,
          8.908243821283218,
          8.975116348945164,
          9.041987456301941,
          9.108823919254883,
          9.175583670449878,
          9.242238923046052,
          9.308760654024868,
          9.375120415915841,
          9.441294414896232,
          9.507262762779176,
          9.573014465957536,
          9.63854734260764,
          9.703873037511226,
          9.769009034940284,
          9.833982513280128,
          9.898824213455914,
          9.963566066013188,
          10.028236967208022,
          10.092858228305003,
          10.157440265024809,
          10.221979520894408,
          10.286454093598753,
          10.350823351399354,
          10.41502830583554,
          10.478983053017823,
          10.542587731884833,
          10.60572252285184,
          10.668257545832638,
          10.730056973941927,
          10.790990357303313,
          10.850928732343885,
          10.909777383733918,
          10.967442012183952,
          11.023862631767294,
          11.079004823307535,
          11.132856565565447,
          11.185433295073793,
          11.23675906214729,
          11.286876398084562,
          11.335830179815524,
          11.38366704211149,
          11.4304230406441,
          11.476122588570341,
          11.520770842086819,
          11.564359765161532,
          11.606870357948305,
          11.648273548119402,
          11.688537457546579,
          11.727628006574047,
          11.765510539589078,
          11.802153866204806,
          11.837528343759327,
          11.871610488577957,
          11.90438513767799,
          11.935847754018473,
          11.966006521492691,
          11.99488658523655,
          12.0225325932249,
          12.0490091178454,
          12.07438859540624,
          12.098734779507861,
          12.122089699327402,
          12.144471260149322,
          12.165880502304786,
          12.186312016621153,
          12.205759863360049,
          12.224220676453966,
          12.241697707746864,
          12.258205302477712,
          12.27377337502581,
          12.288447935479255,
          12.302288342872123,
          12.315362849189844,
          12.327743354452481,
          12.339500611542725,
          12.350699767830875,
          12.361398237815365,
          12.371644150697477,
          12.381476062735505,
          12.390922772163744,
          12.400003618685632,
          12.40872915741267,
          12.417102267454396,
          12.425119335996387,
          12.43277215622227,
          12.440048898855101,
          12.446935562036039,
          12.45341648579702,
          12.45947508415623,
          12.465094395107158,
          12.470257503457082,
          12.47494827732446,
          12.479152235000672,
          12.48285710442856,
          12.486054333628463,
          12.48874010239345,
          12.490917281524338,
          12.4925973930693,
          12.493802252303169,
          12.494566596607676,
          12.494937363480263,
          12.494976051839481,
          12.494755145036011,
          12.49436278791446,
          12.493894617579402,
          12.493455079441564,
          12.493152375694637,
          12.49310189929916,
          12.493412848313373,
          12.494194839589767,
          12.495549762261659,
          12.497566324996999,
          12.500325286011945,
          12.503896292231683,
          12.508330490154778,
          12.513671051630801,
          12.519945097295146,
          12.527167390786222,
          12.535345210822467,
          12.54447151168711,
          12.554530592969831,
          12.565502531035202,
          12.57735545695976,
          12.590055345247563,
          12.603560086689088,
          12.617825736782036,
          12.63280047754061,
          12.64842987469856,
          12.664658002122167,
          12.681424031878722,
          12.69866831332252,
          12.716331671113045,
          12.734357276511059,
          12.75269030517397,
          12.771280005368478,
          12.790079936490459,
          12.80904649197944,
          12.833441826114857,
          12.857384735088974,
          12.880882865038162,
          12.903977836668862,
          12.926728323948248,
          12.949197979393265,
          12.971447814815765,
          12.993534354024824,
          13.01550525183248,
          13.037401695421536,
          13.059259896522036,
          13.081108896993408,
          13.102975764545384,
          13.12488049747649,
          13.146840188025626,
          13.168872786400849,
          13.19098764864959,
          13.213197557943605,
          13.235508592290588,
          13.257929940820087,
          13.280465602951015,
          13.303120231891237,
          13.325896443975298,
          13.348796183204305,
          13.37182027669473,
          13.39496814880885,
          13.418237104349291,
          13.441627302446635,
          13.465138360691427,
          13.488765560709771,
          13.512505661582235,
          13.536356663304081,
          13.560312598351572,
          13.58436844953233,
          13.608526528358992,
          13.632768208705805,
          13.657103989770782,
          13.681522491336395,
          13.706013466537627,
          13.73058599002667,
          13.755220766717654,
          13.779923036859014,
          13.80468628542644,
          13.829498752857482,
          13.854364515805258,
          13.879270536254783,
          13.904230168617898,
          13.929224526224164,
          13.954252656009405,
          13.979318805747917
         ]
        }
       ],
       "layout": {
        "legend": {
         "title": {
          "text": "variable"
         },
         "tracegroupgap": 0
        },
        "template": {
         "data": {
          "bar": [
           {
            "error_x": {
             "color": "#2a3f5f"
            },
            "error_y": {
             "color": "#2a3f5f"
            },
            "marker": {
             "line": {
              "color": "#E5ECF6",
              "width": 0.5
             },
             "pattern": {
              "fillmode": "overlay",
              "size": 10,
              "solidity": 0.2
             }
            },
            "type": "bar"
           }
          ],
          "barpolar": [
           {
            "marker": {
             "line": {
              "color": "#E5ECF6",
              "width": 0.5
             },
             "pattern": {
              "fillmode": "overlay",
              "size": 10,
              "solidity": 0.2
             }
            },
            "type": "barpolar"
           }
          ],
          "carpet": [
           {
            "aaxis": {
             "endlinecolor": "#2a3f5f",
             "gridcolor": "white",
             "linecolor": "white",
             "minorgridcolor": "white",
             "startlinecolor": "#2a3f5f"
            },
            "baxis": {
             "endlinecolor": "#2a3f5f",
             "gridcolor": "white",
             "linecolor": "white",
             "minorgridcolor": "white",
             "startlinecolor": "#2a3f5f"
            },
            "type": "carpet"
           }
          ],
          "choropleth": [
           {
            "colorbar": {
             "outlinewidth": 0,
             "ticks": ""
            },
            "type": "choropleth"
           }
          ],
          "contour": [
           {
            "colorbar": {
             "outlinewidth": 0,
             "ticks": ""
            },
            "colorscale": [
             [
              0,
              "#0d0887"
             ],
             [
              0.1111111111111111,
              "#46039f"
             ],
             [
              0.2222222222222222,
              "#7201a8"
             ],
             [
              0.3333333333333333,
              "#9c179e"
             ],
             [
              0.4444444444444444,
              "#bd3786"
             ],
             [
              0.5555555555555556,
              "#d8576b"
             ],
             [
              0.6666666666666666,
              "#ed7953"
             ],
             [
              0.7777777777777778,
              "#fb9f3a"
             ],
             [
              0.8888888888888888,
              "#fdca26"
             ],
             [
              1,
              "#f0f921"
             ]
            ],
            "type": "contour"
           }
          ],
          "contourcarpet": [
           {
            "colorbar": {
             "outlinewidth": 0,
             "ticks": ""
            },
            "type": "contourcarpet"
           }
          ],
          "heatmap": [
           {
            "colorbar": {
             "outlinewidth": 0,
             "ticks": ""
            },
            "colorscale": [
             [
              0,
              "#0d0887"
             ],
             [
              0.1111111111111111,
              "#46039f"
             ],
             [
              0.2222222222222222,
              "#7201a8"
             ],
             [
              0.3333333333333333,
              "#9c179e"
             ],
             [
              0.4444444444444444,
              "#bd3786"
             ],
             [
              0.5555555555555556,
              "#d8576b"
             ],
             [
              0.6666666666666666,
              "#ed7953"
             ],
             [
              0.7777777777777778,
              "#fb9f3a"
             ],
             [
              0.8888888888888888,
              "#fdca26"
             ],
             [
              1,
              "#f0f921"
             ]
            ],
            "type": "heatmap"
           }
          ],
          "heatmapgl": [
           {
            "colorbar": {
             "outlinewidth": 0,
             "ticks": ""
            },
            "colorscale": [
             [
              0,
              "#0d0887"
             ],
             [
              0.1111111111111111,
              "#46039f"
             ],
             [
              0.2222222222222222,
              "#7201a8"
             ],
             [
              0.3333333333333333,
              "#9c179e"
             ],
             [
              0.4444444444444444,
              "#bd3786"
             ],
             [
              0.5555555555555556,
              "#d8576b"
             ],
             [
              0.6666666666666666,
              "#ed7953"
             ],
             [
              0.7777777777777778,
              "#fb9f3a"
             ],
             [
              0.8888888888888888,
              "#fdca26"
             ],
             [
              1,
              "#f0f921"
             ]
            ],
            "type": "heatmapgl"
           }
          ],
          "histogram": [
           {
            "marker": {
             "pattern": {
              "fillmode": "overlay",
              "size": 10,
              "solidity": 0.2
             }
            },
            "type": "histogram"
           }
          ],
          "histogram2d": [
           {
            "colorbar": {
             "outlinewidth": 0,
             "ticks": ""
            },
            "colorscale": [
             [
              0,
              "#0d0887"
             ],
             [
              0.1111111111111111,
              "#46039f"
             ],
             [
              0.2222222222222222,
              "#7201a8"
             ],
             [
              0.3333333333333333,
              "#9c179e"
             ],
             [
              0.4444444444444444,
              "#bd3786"
             ],
             [
              0.5555555555555556,
              "#d8576b"
             ],
             [
              0.6666666666666666,
              "#ed7953"
             ],
             [
              0.7777777777777778,
              "#fb9f3a"
             ],
             [
              0.8888888888888888,
              "#fdca26"
             ],
             [
              1,
              "#f0f921"
             ]
            ],
            "type": "histogram2d"
           }
          ],
          "histogram2dcontour": [
           {
            "colorbar": {
             "outlinewidth": 0,
             "ticks": ""
            },
            "colorscale": [
             [
              0,
              "#0d0887"
             ],
             [
              0.1111111111111111,
              "#46039f"
             ],
             [
              0.2222222222222222,
              "#7201a8"
             ],
             [
              0.3333333333333333,
              "#9c179e"
             ],
             [
              0.4444444444444444,
              "#bd3786"
             ],
             [
              0.5555555555555556,
              "#d8576b"
             ],
             [
              0.6666666666666666,
              "#ed7953"
             ],
             [
              0.7777777777777778,
              "#fb9f3a"
             ],
             [
              0.8888888888888888,
              "#fdca26"
             ],
             [
              1,
              "#f0f921"
             ]
            ],
            "type": "histogram2dcontour"
           }
          ],
          "mesh3d": [
           {
            "colorbar": {
             "outlinewidth": 0,
             "ticks": ""
            },
            "type": "mesh3d"
           }
          ],
          "parcoords": [
           {
            "line": {
             "colorbar": {
              "outlinewidth": 0,
              "ticks": ""
             }
            },
            "type": "parcoords"
           }
          ],
          "pie": [
           {
            "automargin": true,
            "type": "pie"
           }
          ],
          "scatter": [
           {
            "fillpattern": {
             "fillmode": "overlay",
             "size": 10,
             "solidity": 0.2
            },
            "type": "scatter"
           }
          ],
          "scatter3d": [
           {
            "line": {
             "colorbar": {
              "outlinewidth": 0,
              "ticks": ""
             }
            },
            "marker": {
             "colorbar": {
              "outlinewidth": 0,
              "ticks": ""
             }
            },
            "type": "scatter3d"
           }
          ],
          "scattercarpet": [
           {
            "marker": {
             "colorbar": {
              "outlinewidth": 0,
              "ticks": ""
             }
            },
            "type": "scattercarpet"
           }
          ],
          "scattergeo": [
           {
            "marker": {
             "colorbar": {
              "outlinewidth": 0,
              "ticks": ""
             }
            },
            "type": "scattergeo"
           }
          ],
          "scattergl": [
           {
            "marker": {
             "colorbar": {
              "outlinewidth": 0,
              "ticks": ""
             }
            },
            "type": "scattergl"
           }
          ],
          "scattermapbox": [
           {
            "marker": {
             "colorbar": {
              "outlinewidth": 0,
              "ticks": ""
             }
            },
            "type": "scattermapbox"
           }
          ],
          "scatterpolar": [
           {
            "marker": {
             "colorbar": {
              "outlinewidth": 0,
              "ticks": ""
             }
            },
            "type": "scatterpolar"
           }
          ],
          "scatterpolargl": [
           {
            "marker": {
             "colorbar": {
              "outlinewidth": 0,
              "ticks": ""
             }
            },
            "type": "scatterpolargl"
           }
          ],
          "scatterternary": [
           {
            "marker": {
             "colorbar": {
              "outlinewidth": 0,
              "ticks": ""
             }
            },
            "type": "scatterternary"
           }
          ],
          "surface": [
           {
            "colorbar": {
             "outlinewidth": 0,
             "ticks": ""
            },
            "colorscale": [
             [
              0,
              "#0d0887"
             ],
             [
              0.1111111111111111,
              "#46039f"
             ],
             [
              0.2222222222222222,
              "#7201a8"
             ],
             [
              0.3333333333333333,
              "#9c179e"
             ],
             [
              0.4444444444444444,
              "#bd3786"
             ],
             [
              0.5555555555555556,
              "#d8576b"
             ],
             [
              0.6666666666666666,
              "#ed7953"
             ],
             [
              0.7777777777777778,
              "#fb9f3a"
             ],
             [
              0.8888888888888888,
              "#fdca26"
             ],
             [
              1,
              "#f0f921"
             ]
            ],
            "type": "surface"
           }
          ],
          "table": [
           {
            "cells": {
             "fill": {
              "color": "#EBF0F8"
             },
             "line": {
              "color": "white"
             }
            },
            "header": {
             "fill": {
              "color": "#C8D4E3"
             },
             "line": {
              "color": "white"
             }
            },
            "type": "table"
           }
          ]
         },
         "layout": {
          "annotationdefaults": {
           "arrowcolor": "#2a3f5f",
           "arrowhead": 0,
           "arrowwidth": 1
          },
          "autotypenumbers": "strict",
          "coloraxis": {
           "colorbar": {
            "outlinewidth": 0,
            "ticks": ""
           }
          },
          "colorscale": {
           "diverging": [
            [
             0,
             "#8e0152"
            ],
            [
             0.1,
             "#c51b7d"
            ],
            [
             0.2,
             "#de77ae"
            ],
            [
             0.3,
             "#f1b6da"
            ],
            [
             0.4,
             "#fde0ef"
            ],
            [
             0.5,
             "#f7f7f7"
            ],
            [
             0.6,
             "#e6f5d0"
            ],
            [
             0.7,
             "#b8e186"
            ],
            [
             0.8,
             "#7fbc41"
            ],
            [
             0.9,
             "#4d9221"
            ],
            [
             1,
             "#276419"
            ]
           ],
           "sequential": [
            [
             0,
             "#0d0887"
            ],
            [
             0.1111111111111111,
             "#46039f"
            ],
            [
             0.2222222222222222,
             "#7201a8"
            ],
            [
             0.3333333333333333,
             "#9c179e"
            ],
            [
             0.4444444444444444,
             "#bd3786"
            ],
            [
             0.5555555555555556,
             "#d8576b"
            ],
            [
             0.6666666666666666,
             "#ed7953"
            ],
            [
             0.7777777777777778,
             "#fb9f3a"
            ],
            [
             0.8888888888888888,
             "#fdca26"
            ],
            [
             1,
             "#f0f921"
            ]
           ],
           "sequentialminus": [
            [
             0,
             "#0d0887"
            ],
            [
             0.1111111111111111,
             "#46039f"
            ],
            [
             0.2222222222222222,
             "#7201a8"
            ],
            [
             0.3333333333333333,
             "#9c179e"
            ],
            [
             0.4444444444444444,
             "#bd3786"
            ],
            [
             0.5555555555555556,
             "#d8576b"
            ],
            [
             0.6666666666666666,
             "#ed7953"
            ],
            [
             0.7777777777777778,
             "#fb9f3a"
            ],
            [
             0.8888888888888888,
             "#fdca26"
            ],
            [
             1,
             "#f0f921"
            ]
           ]
          },
          "colorway": [
           "#636efa",
           "#EF553B",
           "#00cc96",
           "#ab63fa",
           "#FFA15A",
           "#19d3f3",
           "#FF6692",
           "#B6E880",
           "#FF97FF",
           "#FECB52"
          ],
          "font": {
           "color": "#2a3f5f"
          },
          "geo": {
           "bgcolor": "white",
           "lakecolor": "white",
           "landcolor": "#E5ECF6",
           "showlakes": true,
           "showland": true,
           "subunitcolor": "white"
          },
          "hoverlabel": {
           "align": "left"
          },
          "hovermode": "closest",
          "mapbox": {
           "style": "light"
          },
          "paper_bgcolor": "white",
          "plot_bgcolor": "#E5ECF6",
          "polar": {
           "angularaxis": {
            "gridcolor": "white",
            "linecolor": "white",
            "ticks": ""
           },
           "bgcolor": "#E5ECF6",
           "radialaxis": {
            "gridcolor": "white",
            "linecolor": "white",
            "ticks": ""
           }
          },
          "scene": {
           "xaxis": {
            "backgroundcolor": "#E5ECF6",
            "gridcolor": "white",
            "gridwidth": 2,
            "linecolor": "white",
            "showbackground": true,
            "ticks": "",
            "zerolinecolor": "white"
           },
           "yaxis": {
            "backgroundcolor": "#E5ECF6",
            "gridcolor": "white",
            "gridwidth": 2,
            "linecolor": "white",
            "showbackground": true,
            "ticks": "",
            "zerolinecolor": "white"
           },
           "zaxis": {
            "backgroundcolor": "#E5ECF6",
            "gridcolor": "white",
            "gridwidth": 2,
            "linecolor": "white",
            "showbackground": true,
            "ticks": "",
            "zerolinecolor": "white"
           }
          },
          "shapedefaults": {
           "line": {
            "color": "#2a3f5f"
           }
          },
          "ternary": {
           "aaxis": {
            "gridcolor": "white",
            "linecolor": "white",
            "ticks": ""
           },
           "baxis": {
            "gridcolor": "white",
            "linecolor": "white",
            "ticks": ""
           },
           "bgcolor": "#E5ECF6",
           "caxis": {
            "gridcolor": "white",
            "linecolor": "white",
            "ticks": ""
           }
          },
          "title": {
           "x": 0.05
          },
          "xaxis": {
           "automargin": true,
           "gridcolor": "white",
           "linecolor": "white",
           "ticks": "",
           "title": {
            "standoff": 15
           },
           "zerolinecolor": "white",
           "zerolinewidth": 2
          },
          "yaxis": {
           "automargin": true,
           "gridcolor": "white",
           "linecolor": "white",
           "ticks": "",
           "title": {
            "standoff": 15
           },
           "zerolinecolor": "white",
           "zerolinewidth": 2
          }
         }
        },
        "title": {
         "text": "Velocity"
        },
        "xaxis": {
         "anchor": "y",
         "domain": [
          0,
          1
         ],
         "title": {
          "text": "epoch_time"
         }
        },
        "yaxis": {
         "anchor": "x",
         "domain": [
          0,
          1
         ],
         "title": {
          "text": "value"
         }
        }
       }
      },
      "text/html": [
       "<div>                            <div id=\"75b1063c-704f-4d50-86d1-a2577d5265c7\" class=\"plotly-graph-div\" style=\"height:525px; width:100%;\"></div>            <script type=\"text/javascript\">                require([\"plotly\"], function(Plotly) {                    window.PLOTLYENV=window.PLOTLYENV || {};                                    if (document.getElementById(\"75b1063c-704f-4d50-86d1-a2577d5265c7\")) {                    Plotly.newPlot(                        \"75b1063c-704f-4d50-86d1-a2577d5265c7\",                        [{\"hovertemplate\":\"variable=s_velocity_smooth\\u003cbr\\u003eepoch_time=%{x}\\u003cbr\\u003evalue=%{y}\\u003cextra\\u003e\\u003c\\u002fextra\\u003e\",\"legendgroup\":\"s_velocity_smooth\",\"marker\":{\"color\":\"#636efa\",\"symbol\":\"circle\"},\"mode\":\"markers\",\"name\":\"s_velocity_smooth\",\"orientation\":\"v\",\"showlegend\":true,\"x\":[\"2023-03-12T21:41:27.400000+00:00\",\"2023-03-12T21:41:27.500000+00:00\",\"2023-03-12T21:41:27.600000+00:00\",\"2023-03-12T21:41:27.700000+00:00\",\"2023-03-12T21:41:27.800000+00:00\",\"2023-03-12T21:41:27.900000+00:00\",\"2023-03-12T21:41:28+00:00\",\"2023-03-12T21:41:28.100000+00:00\",\"2023-03-12T21:41:28.200000+00:00\",\"2023-03-12T21:41:28.300000+00:00\",\"2023-03-12T21:41:28.400000+00:00\",\"2023-03-12T21:41:28.500000+00:00\",\"2023-03-12T21:41:28.600000+00:00\",\"2023-03-12T21:41:28.700000+00:00\",\"2023-03-12T21:41:28.800000+00:00\",\"2023-03-12T21:41:28.900000+00:00\",\"2023-03-12T21:41:29+00:00\",\"2023-03-12T21:41:29.100000+00:00\",\"2023-03-12T21:41:29.200000+00:00\",\"2023-03-12T21:41:29.300000+00:00\",\"2023-03-12T21:41:29.400000+00:00\",\"2023-03-12T21:41:29.500000+00:00\",\"2023-03-12T21:41:29.600000+00:00\",\"2023-03-12T21:41:29.700000+00:00\",\"2023-03-12T21:41:29.800000+00:00\",\"2023-03-12T21:41:29.900000+00:00\",\"2023-03-12T21:41:30+00:00\",\"2023-03-12T21:41:30.100000+00:00\",\"2023-03-12T21:41:30.200000+00:00\",\"2023-03-12T21:41:30.300000+00:00\",\"2023-03-12T21:41:30.400000+00:00\",\"2023-03-12T21:41:30.500000+00:00\",\"2023-03-12T21:41:30.600000+00:00\",\"2023-03-12T21:41:30.700000+00:00\",\"2023-03-12T21:41:30.800000+00:00\",\"2023-03-12T21:41:30.900000+00:00\",\"2023-03-12T21:41:31+00:00\",\"2023-03-12T21:41:31.100000+00:00\",\"2023-03-12T21:41:31.200000+00:00\",\"2023-03-12T21:41:31.300000+00:00\",\"2023-03-12T21:41:31.400000+00:00\",\"2023-03-12T21:41:31.500000+00:00\",\"2023-03-12T21:41:31.600000+00:00\",\"2023-03-12T21:41:31.700000+00:00\",\"2023-03-12T21:41:31.800000+00:00\",\"2023-03-12T21:41:31.900000+00:00\",\"2023-03-12T21:41:32+00:00\",\"2023-03-12T21:41:32.100000+00:00\",\"2023-03-12T21:41:32.200000+00:00\",\"2023-03-12T21:41:32.300000+00:00\",\"2023-03-12T21:41:32.400000+00:00\",\"2023-03-12T21:41:32.500000+00:00\",\"2023-03-12T21:41:32.600000+00:00\",\"2023-03-12T21:41:32.700000+00:00\",\"2023-03-12T21:41:32.800000+00:00\",\"2023-03-12T21:41:32.900000+00:00\",\"2023-03-12T21:41:33+00:00\",\"2023-03-12T21:41:33.100000+00:00\",\"2023-03-12T21:41:33.200000+00:00\",\"2023-03-12T21:41:33.300000+00:00\",\"2023-03-12T21:41:33.400000+00:00\",\"2023-03-12T21:41:33.500000+00:00\",\"2023-03-12T21:41:33.600000+00:00\",\"2023-03-12T21:41:33.700000+00:00\",\"2023-03-12T21:41:33.800000+00:00\",\"2023-03-12T21:41:33.900000+00:00\",\"2023-03-12T21:41:34+00:00\",\"2023-03-12T21:41:34.100000+00:00\",\"2023-03-12T21:41:34.200000+00:00\",\"2023-03-12T21:41:34.300000+00:00\",\"2023-03-12T21:41:34.400000+00:00\",\"2023-03-12T21:41:34.500000+00:00\",\"2023-03-12T21:41:34.600000+00:00\",\"2023-03-12T21:41:34.700000+00:00\",\"2023-03-12T21:41:34.800000+00:00\",\"2023-03-12T21:41:34.900000+00:00\",\"2023-03-12T21:41:35+00:00\",\"2023-03-12T21:41:35.100000+00:00\",\"2023-03-12T21:41:35.200000+00:00\",\"2023-03-12T21:41:35.300000+00:00\",\"2023-03-12T21:41:35.400000+00:00\",\"2023-03-12T21:41:35.500000+00:00\",\"2023-03-12T21:41:35.600000+00:00\",\"2023-03-12T21:41:35.700000+00:00\",\"2023-03-12T21:41:35.800000+00:00\",\"2023-03-12T21:41:35.900000+00:00\",\"2023-03-12T21:41:36+00:00\",\"2023-03-12T21:41:36.100000+00:00\",\"2023-03-12T21:41:36.200000+00:00\",\"2023-03-12T21:41:36.300000+00:00\",\"2023-03-12T21:41:36.400000+00:00\",\"2023-03-12T21:41:36.500000+00:00\",\"2023-03-12T21:41:36.600000+00:00\",\"2023-03-12T21:41:36.700000+00:00\",\"2023-03-12T21:41:36.800000+00:00\",\"2023-03-12T21:41:36.900000+00:00\",\"2023-03-12T21:41:37+00:00\",\"2023-03-12T21:41:37.100000+00:00\",\"2023-03-12T21:41:37.200000+00:00\",\"2023-03-12T21:41:37.300000+00:00\",\"2023-03-12T21:41:37.400000+00:00\",\"2023-03-12T21:41:37.500000+00:00\",\"2023-03-12T21:41:37.600000+00:00\",\"2023-03-12T21:41:37.700000+00:00\",\"2023-03-12T21:41:37.800000+00:00\",\"2023-03-12T21:41:37.900000+00:00\",\"2023-03-12T21:41:38+00:00\",\"2023-03-12T21:41:38.100000+00:00\",\"2023-03-12T21:41:38.200000+00:00\",\"2023-03-12T21:41:38.300000+00:00\",\"2023-03-12T21:41:38.400000+00:00\",\"2023-03-12T21:41:38.500000+00:00\",\"2023-03-12T21:41:38.600000+00:00\",\"2023-03-12T21:41:38.700000+00:00\",\"2023-03-12T21:41:38.800000+00:00\",\"2023-03-12T21:41:38.900000+00:00\",\"2023-03-12T21:41:39+00:00\",\"2023-03-12T21:41:39.100000+00:00\",\"2023-03-12T21:41:39.200000+00:00\",\"2023-03-12T21:41:39.300000+00:00\",\"2023-03-12T21:41:39.400000+00:00\",\"2023-03-12T21:41:39.500000+00:00\",\"2023-03-12T21:41:39.600000+00:00\",\"2023-03-12T21:41:39.700000+00:00\",\"2023-03-12T21:41:39.800000+00:00\",\"2023-03-12T21:41:39.900000+00:00\",\"2023-03-12T21:41:40+00:00\",\"2023-03-12T21:41:40.100000+00:00\",\"2023-03-12T21:41:40.200000+00:00\",\"2023-03-12T21:41:40.300000+00:00\",\"2023-03-12T21:41:40.400000+00:00\",\"2023-03-12T21:41:40.500000+00:00\",\"2023-03-12T21:41:40.600000+00:00\",\"2023-03-12T21:41:40.700000+00:00\",\"2023-03-12T21:41:40.800000+00:00\",\"2023-03-12T21:41:40.900000+00:00\",\"2023-03-12T21:41:41+00:00\",\"2023-03-12T21:41:41.100000+00:00\",\"2023-03-12T21:41:41.200000+00:00\",\"2023-03-12T21:41:41.300000+00:00\",\"2023-03-12T21:41:41.400000+00:00\",\"2023-03-12T21:41:41.500000+00:00\",\"2023-03-12T21:41:41.600000+00:00\",\"2023-03-12T21:41:41.700000+00:00\",\"2023-03-12T21:41:41.800000+00:00\",\"2023-03-12T21:41:41.900000+00:00\",\"2023-03-12T21:41:42+00:00\",\"2023-03-12T21:41:42.100000+00:00\",\"2023-03-12T21:41:42.200000+00:00\",\"2023-03-12T21:41:42.300000+00:00\",\"2023-03-12T21:41:42.400000+00:00\",\"2023-03-12T21:41:42.500000+00:00\",\"2023-03-12T21:41:42.600000+00:00\",\"2023-03-12T21:41:42.700000+00:00\",\"2023-03-12T21:41:42.800000+00:00\",\"2023-03-12T21:41:42.900000+00:00\",\"2023-03-12T21:41:43+00:00\",\"2023-03-12T21:41:43.100000+00:00\",\"2023-03-12T21:41:43.200000+00:00\",\"2023-03-12T21:41:43.300000+00:00\",\"2023-03-12T21:41:43.400000+00:00\",\"2023-03-12T21:41:43.500000+00:00\",\"2023-03-12T21:41:43.600000+00:00\",\"2023-03-12T21:41:43.700000+00:00\",\"2023-03-12T21:41:43.800000+00:00\",\"2023-03-12T21:41:43.900000+00:00\",\"2023-03-12T21:41:44+00:00\",\"2023-03-12T21:41:44.100000+00:00\",\"2023-03-12T21:41:44.200000+00:00\",\"2023-03-12T21:41:44.300000+00:00\",\"2023-03-12T21:41:44.400000+00:00\",\"2023-03-12T21:41:44.500000+00:00\",\"2023-03-12T21:41:44.600000+00:00\",\"2023-03-12T21:41:44.700000+00:00\",\"2023-03-12T21:41:44.800000+00:00\",\"2023-03-12T21:41:44.900000+00:00\",\"2023-03-12T21:41:45+00:00\",\"2023-03-12T21:41:45.100000+00:00\",\"2023-03-12T21:41:45.200000+00:00\",\"2023-03-12T21:41:45.300000+00:00\",\"2023-03-12T21:41:45.400000+00:00\",\"2023-03-12T21:41:45.500000+00:00\",\"2023-03-12T21:41:45.600000+00:00\",\"2023-03-12T21:41:45.700000+00:00\",\"2023-03-12T21:41:45.800000+00:00\",\"2023-03-12T21:41:45.900000+00:00\",\"2023-03-12T21:41:46+00:00\",\"2023-03-12T21:41:46.100000+00:00\",\"2023-03-12T21:41:46.200000+00:00\",\"2023-03-12T21:41:46.300000+00:00\",\"2023-03-12T21:41:46.400000+00:00\",\"2023-03-12T21:41:46.500000+00:00\",\"2023-03-12T21:41:46.600000+00:00\",\"2023-03-12T21:41:46.700000+00:00\",\"2023-03-12T21:41:46.800000+00:00\",\"2023-03-12T21:41:46.900000+00:00\",\"2023-03-12T21:41:47+00:00\",\"2023-03-12T21:41:47.100000+00:00\",\"2023-03-12T21:41:47.200000+00:00\",\"2023-03-12T21:41:47.300000+00:00\",\"2023-03-12T21:41:47.400000+00:00\",\"2023-03-12T21:41:47.500000+00:00\",\"2023-03-12T21:41:47.600000+00:00\",\"2023-03-12T21:41:47.700000+00:00\",\"2023-03-12T21:41:47.800000+00:00\",\"2023-03-12T21:41:47.900000+00:00\",\"2023-03-12T21:41:48+00:00\",\"2023-03-12T21:41:48.100000+00:00\",\"2023-03-12T21:41:48.200000+00:00\",\"2023-03-12T21:41:48.300000+00:00\",\"2023-03-12T21:41:48.400000+00:00\",\"2023-03-12T21:41:48.500000+00:00\",\"2023-03-12T21:41:48.600000+00:00\",\"2023-03-12T21:41:48.700000+00:00\",\"2023-03-12T21:41:48.800000+00:00\",\"2023-03-12T21:41:48.900000+00:00\",\"2023-03-12T21:41:49+00:00\",\"2023-03-12T21:41:49.100000+00:00\",\"2023-03-12T21:41:49.200000+00:00\",\"2023-03-12T21:41:49.300000+00:00\",\"2023-03-12T21:41:49.400000+00:00\",\"2023-03-12T21:41:49.500000+00:00\",\"2023-03-12T21:41:49.600000+00:00\",\"2023-03-12T21:41:49.700000+00:00\",\"2023-03-12T21:41:49.800000+00:00\",\"2023-03-12T21:41:49.900000+00:00\",\"2023-03-12T21:41:50+00:00\",\"2023-03-12T21:41:50.100000+00:00\",\"2023-03-12T21:41:50.200000+00:00\",\"2023-03-12T21:41:50.300000+00:00\",\"2023-03-12T21:41:50.400000+00:00\",\"2023-03-12T21:41:50.500000+00:00\",\"2023-03-12T21:41:50.600000+00:00\",\"2023-03-12T21:41:50.700000+00:00\",\"2023-03-12T21:41:50.800000+00:00\",\"2023-03-12T21:41:50.900000+00:00\",\"2023-03-12T21:41:51+00:00\",\"2023-03-12T21:41:51.100000+00:00\",\"2023-03-12T21:41:51.200000+00:00\",\"2023-03-12T21:41:51.300000+00:00\",\"2023-03-12T21:41:51.400000+00:00\",\"2023-03-12T21:41:51.500000+00:00\",\"2023-03-12T21:41:51.600000+00:00\",\"2023-03-12T21:41:51.700000+00:00\",\"2023-03-12T21:41:51.800000+00:00\",\"2023-03-12T21:41:51.900000+00:00\",\"2023-03-12T21:41:52+00:00\",\"2023-03-12T21:41:52.100000+00:00\",\"2023-03-12T21:41:52.200000+00:00\",\"2023-03-12T21:41:52.300000+00:00\",\"2023-03-12T21:41:52.400000+00:00\",\"2023-03-12T21:41:52.500000+00:00\",\"2023-03-12T21:41:52.600000+00:00\",\"2023-03-12T21:41:52.700000+00:00\",\"2023-03-12T21:41:52.800000+00:00\",\"2023-03-12T21:41:52.900000+00:00\",\"2023-03-12T21:41:53+00:00\",\"2023-03-12T21:41:53.100000+00:00\",\"2023-03-12T21:41:53.200000+00:00\",\"2023-03-12T21:41:53.300000+00:00\",\"2023-03-12T21:41:53.400000+00:00\",\"2023-03-12T21:41:53.500000+00:00\",\"2023-03-12T21:41:53.600000+00:00\",\"2023-03-12T21:41:53.700000+00:00\",\"2023-03-12T21:41:53.800000+00:00\",\"2023-03-12T21:41:53.900000+00:00\",\"2023-03-12T21:41:54+00:00\",\"2023-03-12T21:41:54.100000+00:00\",\"2023-03-12T21:41:54.200000+00:00\",\"2023-03-12T21:41:54.300000+00:00\",\"2023-03-12T21:41:54.400000+00:00\",\"2023-03-12T21:41:54.500000+00:00\",\"2023-03-12T21:41:54.600000+00:00\",\"2023-03-12T21:41:54.700000+00:00\",\"2023-03-12T21:41:54.800000+00:00\",\"2023-03-12T21:41:54.900000+00:00\",\"2023-03-12T21:41:55+00:00\",\"2023-03-12T21:41:55.100000+00:00\",\"2023-03-12T21:41:55.200000+00:00\",\"2023-03-12T21:41:55.300000+00:00\",\"2023-03-12T21:41:55.400000+00:00\",\"2023-03-12T21:41:55.500000+00:00\",\"2023-03-12T21:41:55.600000+00:00\",\"2023-03-12T21:41:55.700000+00:00\",\"2023-03-12T21:41:55.800000+00:00\",\"2023-03-12T21:41:55.900000+00:00\",\"2023-03-12T21:41:56+00:00\",\"2023-03-12T21:41:56.100000+00:00\",\"2023-03-12T21:41:56.200000+00:00\",\"2023-03-12T21:41:56.300000+00:00\",\"2023-03-12T21:41:56.400000+00:00\",\"2023-03-12T21:41:56.500000+00:00\",\"2023-03-12T21:41:56.600000+00:00\",\"2023-03-12T21:41:56.700000+00:00\",\"2023-03-12T21:41:56.800000+00:00\",\"2023-03-12T21:41:56.900000+00:00\",\"2023-03-12T21:41:57+00:00\",\"2023-03-12T21:41:57.100000+00:00\",\"2023-03-12T21:41:57.200000+00:00\",\"2023-03-12T21:41:57.300000+00:00\",\"2023-03-12T21:41:57.400000+00:00\",\"2023-03-12T21:41:57.500000+00:00\",\"2023-03-12T21:41:57.600000+00:00\",\"2023-03-12T21:41:57.700000+00:00\",\"2023-03-12T21:41:57.800000+00:00\",\"2023-03-12T21:41:57.900000+00:00\",\"2023-03-12T21:41:58+00:00\",\"2023-03-12T21:41:58.100000+00:00\"],\"xaxis\":\"x\",\"y\":[4.081182479858398,4.019397258758545,3.893014907836914,3.7129862308502197,3.492058753967285,3.2408320903778076,2.973033905029297,2.7025201320648193,2.443103790283203,2.207099676132202,2.0021121501922607,1.832451343536377,1.7013007402420044,1.6089675426483154,1.5533571243286133,1.5312700271606445,1.5368688106536865,1.5642340183258057,1.6072523593902588,1.6623282432556152,1.7262057065963745,1.7930355072021484,1.859829068183899,1.92862868309021,2.0042009353637695,2.088477373123169,2.1794638633728027,2.2749674320220947,2.3708102703094482,2.462608814239502,2.550238609313965,2.6428158283233643,2.750977039337158,2.8767249584198,3.0120480060577393,3.147212505340576,3.2812585830688477,3.416754722595215,3.5514063835144043,3.6809723377227783,3.803934335708618,3.922243595123291,4.043584823608398,4.175732612609863,4.317313194274902,4.459811210632324,4.59658145904541,4.7252197265625,4.842162132263184,4.939998626708984,5.011811256408691,5.054241180419922,5.067700386047363,5.05779504776001,5.0333051681518555,5.007989406585693,4.998420715332031,5.0143842697143555,5.056918144226074,5.126200199127197,5.225460052490234,5.355740547180176,5.507985591888428,5.66323184967041,5.802267074584961,5.912353515625,5.988965034484863,6.036867618560791,6.064075946807861,6.07549524307251,6.076600551605225,6.074483394622803,6.076984882354736,6.093766212463379,6.133172512054443,6.197427749633789,6.2816290855407715,6.3730926513671875,6.456601619720459,6.521445274353027,6.562805652618408,6.582834720611572,6.587745666503906,6.586016654968262,6.5868706703186035,6.598219394683838,6.62717342376709,6.678468704223633,6.749135494232178,6.832685947418213,6.9252119064331055,7.023204803466797,7.122057914733887,7.21799373626709,7.305718898773193,7.380232334136963,7.439009189605713,7.477443218231201,7.494821548461914,7.497714519500732,7.496084213256836,7.49867582321167,7.508552074432373,7.524879455566406,7.543645858764648,7.560596942901611,7.578661918640137,7.607994556427002,7.661227226257324,7.755279064178467,7.910364627838135,8.138693809509277,8.427806854248047,8.70395565032959,8.953811645507812,9.205109596252441,9.479131698608398,9.774850845336914,10.088541030883789,10.407122611999512,10.70279312133789,10.93502426147461,11.063813209533691,11.057722091674805,10.899564743041992,10.600351333618164,10.21284008026123,9.838799476623535,9.505956649780273,9.216278076171875,8.959437370300293,8.719047546386719,8.491966247558594,8.30789852142334,8.26172161102295,8.348130226135254,8.519013404846191,8.732992172241211,8.959258079528809,9.178853034973145,9.388848304748535,9.598611831665039,9.819331169128418,10.04802131652832,10.25936508178711,10.444385528564453,10.60634994506836,10.749444961547852,10.877534866333008,10.99207592010498,11.091914176940918,11.176319122314453,11.246561050415039,11.306967735290527,11.36230182647705,11.417378425598145,11.473223686218262,11.527633666992188,11.579266548156738,11.628340721130371,11.673066139221191,11.711601257324219,11.744193077087402,11.773666381835938,11.801968574523926,11.829634666442871,11.8565673828125,11.882030487060547,11.90475082397461,11.923636436462402,11.938543319702148,11.953001022338867,11.970559120178223,11.992688179016113,12.01943588256836,12.051292419433594,12.090468406677246,12.13626766204834,12.185586929321289,12.237009048461914,12.289920806884766,12.341177940368652,12.38449478149414,12.416242599487305,12.436339378356934,12.448190689086914,12.454614639282227,12.45602798461914,12.451730728149414,12.443583488464355,12.43581771850586,12.43105697631836,12.428810119628906,12.427038192749023,12.427482604980469,12.435432434082031,12.454360961914062,12.486413955688477,12.527434349060059,12.570232391357422,12.608586311340332,12.636656761169434,12.651250839233398,12.651992797851562,12.643837928771973,12.633041381835938,12.618890762329102,12.597317695617676,12.56820297241211,12.53671932220459,12.505196571350098,12.474124908447266,12.44460391998291,12.419742584228516,12.399975776672363,12.384974479675293,12.370417594909668,12.356231689453125,12.34930419921875,12.352987289428711,12.365338325500488,12.384294509887695,12.405550003051758,12.424254417419434,12.436474800109863,12.441930770874023,12.439988136291504,12.433290481567383,12.428901672363281,12.430708885192871,12.437145233154297,12.446298599243164,12.459214210510254,12.4788236618042,12.509761810302734,12.554021835327148,12.609280586242676,12.669129371643066,12.721054077148438,12.755447387695312,12.767138481140137,12.757346153259277,12.734560012817383,12.710291862487793,12.691901206970215,12.671923637390137,12.64035701751709,12.594795227050781,12.53711986541748,12.469419479370117,12.392487525939941,12.303011894226074,12.199827194213867,12.092733383178711,11.997641563415527,11.927412986755371,11.888447761535645,11.880621910095215,11.899742126464844,11.94025993347168,11.996590614318848,12.06370735168457,12.138725280761719,12.222033500671387,12.315314292907715,12.419454574584961,12.531559944152832,12.645135879516602,12.752603530883789,12.848182678222656,12.930347442626953,13.002346992492676,13.069337844848633,13.134570121765137,13.198116302490234,13.259818077087402,13.321436882019043,13.38521957397461,13.450281143188477,13.511313438415527,13.563270568847656,13.605354309082031,13.640247344970703,13.669448852539062,13.691819190979004,13.706156730651855,13.713993072509766,13.718379020690918,13.722557067871094,13.728412628173828,13.73561954498291,13.74184799194336,13.745394706726074,13.745828628540039,13.743605613708496,13.740218162536621,13.737412452697754,13.737228393554688,13.741382598876953,13.750975608825684,13.76590347290039,13.783286094665527,13.799426078796387,13.813663482666016,13.827858924865723,13.843724250793457,13.860479354858398,13.87669849395752],\"yaxis\":\"y\",\"type\":\"scatter\"},{\"hovertemplate\":\"variable=rolling\\u003cbr\\u003eepoch_time=%{x}\\u003cbr\\u003evalue=%{y}\\u003cextra\\u003e\\u003c\\u002fextra\\u003e\",\"legendgroup\":\"rolling\",\"marker\":{\"color\":\"#EF553B\",\"symbol\":\"circle\"},\"mode\":\"markers\",\"name\":\"rolling\",\"orientation\":\"v\",\"showlegend\":true,\"x\":[\"2023-03-12T21:41:27.400000+00:00\",\"2023-03-12T21:41:27.500000+00:00\",\"2023-03-12T21:41:27.600000+00:00\",\"2023-03-12T21:41:27.700000+00:00\",\"2023-03-12T21:41:27.800000+00:00\",\"2023-03-12T21:41:27.900000+00:00\",\"2023-03-12T21:41:28+00:00\",\"2023-03-12T21:41:28.100000+00:00\",\"2023-03-12T21:41:28.200000+00:00\",\"2023-03-12T21:41:28.300000+00:00\",\"2023-03-12T21:41:28.400000+00:00\",\"2023-03-12T21:41:28.500000+00:00\",\"2023-03-12T21:41:28.600000+00:00\",\"2023-03-12T21:41:28.700000+00:00\",\"2023-03-12T21:41:28.800000+00:00\",\"2023-03-12T21:41:28.900000+00:00\",\"2023-03-12T21:41:29+00:00\",\"2023-03-12T21:41:29.100000+00:00\",\"2023-03-12T21:41:29.200000+00:00\",\"2023-03-12T21:41:29.300000+00:00\",\"2023-03-12T21:41:29.400000+00:00\",\"2023-03-12T21:41:29.500000+00:00\",\"2023-03-12T21:41:29.600000+00:00\",\"2023-03-12T21:41:29.700000+00:00\",\"2023-03-12T21:41:29.800000+00:00\",\"2023-03-12T21:41:29.900000+00:00\",\"2023-03-12T21:41:30+00:00\",\"2023-03-12T21:41:30.100000+00:00\",\"2023-03-12T21:41:30.200000+00:00\",\"2023-03-12T21:41:30.300000+00:00\",\"2023-03-12T21:41:30.400000+00:00\",\"2023-03-12T21:41:30.500000+00:00\",\"2023-03-12T21:41:30.600000+00:00\",\"2023-03-12T21:41:30.700000+00:00\",\"2023-03-12T21:41:30.800000+00:00\",\"2023-03-12T21:41:30.900000+00:00\",\"2023-03-12T21:41:31+00:00\",\"2023-03-12T21:41:31.100000+00:00\",\"2023-03-12T21:41:31.200000+00:00\",\"2023-03-12T21:41:31.300000+00:00\",\"2023-03-12T21:41:31.400000+00:00\",\"2023-03-12T21:41:31.500000+00:00\",\"2023-03-12T21:41:31.600000+00:00\",\"2023-03-12T21:41:31.700000+00:00\",\"2023-03-12T21:41:31.800000+00:00\",\"2023-03-12T21:41:31.900000+00:00\",\"2023-03-12T21:41:32+00:00\",\"2023-03-12T21:41:32.100000+00:00\",\"2023-03-12T21:41:32.200000+00:00\",\"2023-03-12T21:41:32.300000+00:00\",\"2023-03-12T21:41:32.400000+00:00\",\"2023-03-12T21:41:32.500000+00:00\",\"2023-03-12T21:41:32.600000+00:00\",\"2023-03-12T21:41:32.700000+00:00\",\"2023-03-12T21:41:32.800000+00:00\",\"2023-03-12T21:41:32.900000+00:00\",\"2023-03-12T21:41:33+00:00\",\"2023-03-12T21:41:33.100000+00:00\",\"2023-03-12T21:41:33.200000+00:00\",\"2023-03-12T21:41:33.300000+00:00\",\"2023-03-12T21:41:33.400000+00:00\",\"2023-03-12T21:41:33.500000+00:00\",\"2023-03-12T21:41:33.600000+00:00\",\"2023-03-12T21:41:33.700000+00:00\",\"2023-03-12T21:41:33.800000+00:00\",\"2023-03-12T21:41:33.900000+00:00\",\"2023-03-12T21:41:34+00:00\",\"2023-03-12T21:41:34.100000+00:00\",\"2023-03-12T21:41:34.200000+00:00\",\"2023-03-12T21:41:34.300000+00:00\",\"2023-03-12T21:41:34.400000+00:00\",\"2023-03-12T21:41:34.500000+00:00\",\"2023-03-12T21:41:34.600000+00:00\",\"2023-03-12T21:41:34.700000+00:00\",\"2023-03-12T21:41:34.800000+00:00\",\"2023-03-12T21:41:34.900000+00:00\",\"2023-03-12T21:41:35+00:00\",\"2023-03-12T21:41:35.100000+00:00\",\"2023-03-12T21:41:35.200000+00:00\",\"2023-03-12T21:41:35.300000+00:00\",\"2023-03-12T21:41:35.400000+00:00\",\"2023-03-12T21:41:35.500000+00:00\",\"2023-03-12T21:41:35.600000+00:00\",\"2023-03-12T21:41:35.700000+00:00\",\"2023-03-12T21:41:35.800000+00:00\",\"2023-03-12T21:41:35.900000+00:00\",\"2023-03-12T21:41:36+00:00\",\"2023-03-12T21:41:36.100000+00:00\",\"2023-03-12T21:41:36.200000+00:00\",\"2023-03-12T21:41:36.300000+00:00\",\"2023-03-12T21:41:36.400000+00:00\",\"2023-03-12T21:41:36.500000+00:00\",\"2023-03-12T21:41:36.600000+00:00\",\"2023-03-12T21:41:36.700000+00:00\",\"2023-03-12T21:41:36.800000+00:00\",\"2023-03-12T21:41:36.900000+00:00\",\"2023-03-12T21:41:37+00:00\",\"2023-03-12T21:41:37.100000+00:00\",\"2023-03-12T21:41:37.200000+00:00\",\"2023-03-12T21:41:37.300000+00:00\",\"2023-03-12T21:41:37.400000+00:00\",\"2023-03-12T21:41:37.500000+00:00\",\"2023-03-12T21:41:37.600000+00:00\",\"2023-03-12T21:41:37.700000+00:00\",\"2023-03-12T21:41:37.800000+00:00\",\"2023-03-12T21:41:37.900000+00:00\",\"2023-03-12T21:41:38+00:00\",\"2023-03-12T21:41:38.100000+00:00\",\"2023-03-12T21:41:38.200000+00:00\",\"2023-03-12T21:41:38.300000+00:00\",\"2023-03-12T21:41:38.400000+00:00\",\"2023-03-12T21:41:38.500000+00:00\",\"2023-03-12T21:41:38.600000+00:00\",\"2023-03-12T21:41:38.700000+00:00\",\"2023-03-12T21:41:38.800000+00:00\",\"2023-03-12T21:41:38.900000+00:00\",\"2023-03-12T21:41:39+00:00\",\"2023-03-12T21:41:39.100000+00:00\",\"2023-03-12T21:41:39.200000+00:00\",\"2023-03-12T21:41:39.300000+00:00\",\"2023-03-12T21:41:39.400000+00:00\",\"2023-03-12T21:41:39.500000+00:00\",\"2023-03-12T21:41:39.600000+00:00\",\"2023-03-12T21:41:39.700000+00:00\",\"2023-03-12T21:41:39.800000+00:00\",\"2023-03-12T21:41:39.900000+00:00\",\"2023-03-12T21:41:40+00:00\",\"2023-03-12T21:41:40.100000+00:00\",\"2023-03-12T21:41:40.200000+00:00\",\"2023-03-12T21:41:40.300000+00:00\",\"2023-03-12T21:41:40.400000+00:00\",\"2023-03-12T21:41:40.500000+00:00\",\"2023-03-12T21:41:40.600000+00:00\",\"2023-03-12T21:41:40.700000+00:00\",\"2023-03-12T21:41:40.800000+00:00\",\"2023-03-12T21:41:40.900000+00:00\",\"2023-03-12T21:41:41+00:00\",\"2023-03-12T21:41:41.100000+00:00\",\"2023-03-12T21:41:41.200000+00:00\",\"2023-03-12T21:41:41.300000+00:00\",\"2023-03-12T21:41:41.400000+00:00\",\"2023-03-12T21:41:41.500000+00:00\",\"2023-03-12T21:41:41.600000+00:00\",\"2023-03-12T21:41:41.700000+00:00\",\"2023-03-12T21:41:41.800000+00:00\",\"2023-03-12T21:41:41.900000+00:00\",\"2023-03-12T21:41:42+00:00\",\"2023-03-12T21:41:42.100000+00:00\",\"2023-03-12T21:41:42.200000+00:00\",\"2023-03-12T21:41:42.300000+00:00\",\"2023-03-12T21:41:42.400000+00:00\",\"2023-03-12T21:41:42.500000+00:00\",\"2023-03-12T21:41:42.600000+00:00\",\"2023-03-12T21:41:42.700000+00:00\",\"2023-03-12T21:41:42.800000+00:00\",\"2023-03-12T21:41:42.900000+00:00\",\"2023-03-12T21:41:43+00:00\",\"2023-03-12T21:41:43.100000+00:00\",\"2023-03-12T21:41:43.200000+00:00\",\"2023-03-12T21:41:43.300000+00:00\",\"2023-03-12T21:41:43.400000+00:00\",\"2023-03-12T21:41:43.500000+00:00\",\"2023-03-12T21:41:43.600000+00:00\",\"2023-03-12T21:41:43.700000+00:00\",\"2023-03-12T21:41:43.800000+00:00\",\"2023-03-12T21:41:43.900000+00:00\",\"2023-03-12T21:41:44+00:00\",\"2023-03-12T21:41:44.100000+00:00\",\"2023-03-12T21:41:44.200000+00:00\",\"2023-03-12T21:41:44.300000+00:00\",\"2023-03-12T21:41:44.400000+00:00\",\"2023-03-12T21:41:44.500000+00:00\",\"2023-03-12T21:41:44.600000+00:00\",\"2023-03-12T21:41:44.700000+00:00\",\"2023-03-12T21:41:44.800000+00:00\",\"2023-03-12T21:41:44.900000+00:00\",\"2023-03-12T21:41:45+00:00\",\"2023-03-12T21:41:45.100000+00:00\",\"2023-03-12T21:41:45.200000+00:00\",\"2023-03-12T21:41:45.300000+00:00\",\"2023-03-12T21:41:45.400000+00:00\",\"2023-03-12T21:41:45.500000+00:00\",\"2023-03-12T21:41:45.600000+00:00\",\"2023-03-12T21:41:45.700000+00:00\",\"2023-03-12T21:41:45.800000+00:00\",\"2023-03-12T21:41:45.900000+00:00\",\"2023-03-12T21:41:46+00:00\",\"2023-03-12T21:41:46.100000+00:00\",\"2023-03-12T21:41:46.200000+00:00\",\"2023-03-12T21:41:46.300000+00:00\",\"2023-03-12T21:41:46.400000+00:00\",\"2023-03-12T21:41:46.500000+00:00\",\"2023-03-12T21:41:46.600000+00:00\",\"2023-03-12T21:41:46.700000+00:00\",\"2023-03-12T21:41:46.800000+00:00\",\"2023-03-12T21:41:46.900000+00:00\",\"2023-03-12T21:41:47+00:00\",\"2023-03-12T21:41:47.100000+00:00\",\"2023-03-12T21:41:47.200000+00:00\",\"2023-03-12T21:41:47.300000+00:00\",\"2023-03-12T21:41:47.400000+00:00\",\"2023-03-12T21:41:47.500000+00:00\",\"2023-03-12T21:41:47.600000+00:00\",\"2023-03-12T21:41:47.700000+00:00\",\"2023-03-12T21:41:47.800000+00:00\",\"2023-03-12T21:41:47.900000+00:00\",\"2023-03-12T21:41:48+00:00\",\"2023-03-12T21:41:48.100000+00:00\",\"2023-03-12T21:41:48.200000+00:00\",\"2023-03-12T21:41:48.300000+00:00\",\"2023-03-12T21:41:48.400000+00:00\",\"2023-03-12T21:41:48.500000+00:00\",\"2023-03-12T21:41:48.600000+00:00\",\"2023-03-12T21:41:48.700000+00:00\",\"2023-03-12T21:41:48.800000+00:00\",\"2023-03-12T21:41:48.900000+00:00\",\"2023-03-12T21:41:49+00:00\",\"2023-03-12T21:41:49.100000+00:00\",\"2023-03-12T21:41:49.200000+00:00\",\"2023-03-12T21:41:49.300000+00:00\",\"2023-03-12T21:41:49.400000+00:00\",\"2023-03-12T21:41:49.500000+00:00\",\"2023-03-12T21:41:49.600000+00:00\",\"2023-03-12T21:41:49.700000+00:00\",\"2023-03-12T21:41:49.800000+00:00\",\"2023-03-12T21:41:49.900000+00:00\",\"2023-03-12T21:41:50+00:00\",\"2023-03-12T21:41:50.100000+00:00\",\"2023-03-12T21:41:50.200000+00:00\",\"2023-03-12T21:41:50.300000+00:00\",\"2023-03-12T21:41:50.400000+00:00\",\"2023-03-12T21:41:50.500000+00:00\",\"2023-03-12T21:41:50.600000+00:00\",\"2023-03-12T21:41:50.700000+00:00\",\"2023-03-12T21:41:50.800000+00:00\",\"2023-03-12T21:41:50.900000+00:00\",\"2023-03-12T21:41:51+00:00\",\"2023-03-12T21:41:51.100000+00:00\",\"2023-03-12T21:41:51.200000+00:00\",\"2023-03-12T21:41:51.300000+00:00\",\"2023-03-12T21:41:51.400000+00:00\",\"2023-03-12T21:41:51.500000+00:00\",\"2023-03-12T21:41:51.600000+00:00\",\"2023-03-12T21:41:51.700000+00:00\",\"2023-03-12T21:41:51.800000+00:00\",\"2023-03-12T21:41:51.900000+00:00\",\"2023-03-12T21:41:52+00:00\",\"2023-03-12T21:41:52.100000+00:00\",\"2023-03-12T21:41:52.200000+00:00\",\"2023-03-12T21:41:52.300000+00:00\",\"2023-03-12T21:41:52.400000+00:00\",\"2023-03-12T21:41:52.500000+00:00\",\"2023-03-12T21:41:52.600000+00:00\",\"2023-03-12T21:41:52.700000+00:00\",\"2023-03-12T21:41:52.800000+00:00\",\"2023-03-12T21:41:52.900000+00:00\",\"2023-03-12T21:41:53+00:00\",\"2023-03-12T21:41:53.100000+00:00\",\"2023-03-12T21:41:53.200000+00:00\",\"2023-03-12T21:41:53.300000+00:00\",\"2023-03-12T21:41:53.400000+00:00\",\"2023-03-12T21:41:53.500000+00:00\",\"2023-03-12T21:41:53.600000+00:00\",\"2023-03-12T21:41:53.700000+00:00\",\"2023-03-12T21:41:53.800000+00:00\",\"2023-03-12T21:41:53.900000+00:00\",\"2023-03-12T21:41:54+00:00\",\"2023-03-12T21:41:54.100000+00:00\",\"2023-03-12T21:41:54.200000+00:00\",\"2023-03-12T21:41:54.300000+00:00\",\"2023-03-12T21:41:54.400000+00:00\",\"2023-03-12T21:41:54.500000+00:00\",\"2023-03-12T21:41:54.600000+00:00\",\"2023-03-12T21:41:54.700000+00:00\",\"2023-03-12T21:41:54.800000+00:00\",\"2023-03-12T21:41:54.900000+00:00\",\"2023-03-12T21:41:55+00:00\",\"2023-03-12T21:41:55.100000+00:00\",\"2023-03-12T21:41:55.200000+00:00\",\"2023-03-12T21:41:55.300000+00:00\",\"2023-03-12T21:41:55.400000+00:00\",\"2023-03-12T21:41:55.500000+00:00\",\"2023-03-12T21:41:55.600000+00:00\",\"2023-03-12T21:41:55.700000+00:00\",\"2023-03-12T21:41:55.800000+00:00\",\"2023-03-12T21:41:55.900000+00:00\",\"2023-03-12T21:41:56+00:00\",\"2023-03-12T21:41:56.100000+00:00\",\"2023-03-12T21:41:56.200000+00:00\",\"2023-03-12T21:41:56.300000+00:00\",\"2023-03-12T21:41:56.400000+00:00\",\"2023-03-12T21:41:56.500000+00:00\",\"2023-03-12T21:41:56.600000+00:00\",\"2023-03-12T21:41:56.700000+00:00\",\"2023-03-12T21:41:56.800000+00:00\",\"2023-03-12T21:41:56.900000+00:00\",\"2023-03-12T21:41:57+00:00\",\"2023-03-12T21:41:57.100000+00:00\",\"2023-03-12T21:41:57.200000+00:00\",\"2023-03-12T21:41:57.300000+00:00\",\"2023-03-12T21:41:57.400000+00:00\",\"2023-03-12T21:41:57.500000+00:00\",\"2023-03-12T21:41:57.600000+00:00\",\"2023-03-12T21:41:57.700000+00:00\",\"2023-03-12T21:41:57.800000+00:00\",\"2023-03-12T21:41:57.900000+00:00\",\"2023-03-12T21:41:58+00:00\",\"2023-03-12T21:41:58.100000+00:00\"],\"xaxis\":\"x\",\"y\":[2.347090721130371,2.337144136428833,2.3313040733337402,2.329292058944702,2.330723762512207,2.3351199626922607,2.3420591354370117,2.3514578342437744,2.3635644912719727,2.378657341003418,2.396754264831543,2.417600154876709,2.4409422874450684,2.4666216373443604,2.494436502456665,2.524099826812744,2.5553152561187744,2.5878612995147705,2.6217153072357178,2.657033920288086,2.6939289569854736,2.7323176860809326,2.7719831466674805,2.8126754760742188,2.854093551635742,2.8958117961883545,2.914424419403076,2.935121536254883,2.9586150646209717,2.985511541366577,3.016336441040039,3.0516796112060547,3.0921874046325684,3.138424873352051,3.1907012462615967,3.2490835189819336,3.3135507106781006,3.384016513824463,3.4601502418518066,3.5412356853485107,3.626213788986206,3.7138354778289795,3.802877426147461,3.8923299312591553,3.981466293334961,4.069729804992676,4.156737804412842,4.242366790771484,4.326709747314453,4.410012245178223,4.492591857910156,4.574770927429199,4.6568145751953125,4.738777160644531,4.820493221282959,4.901669502258301,4.981921195983887,5.060721397399902,5.137456893920898,5.211642265319824,5.283139228820801,5.352159023284912,5.419076919555664,5.484311580657959,5.548266410827637,5.611300468444824,5.6737260818481445,5.735745429992676,5.7973151206970215,5.858160495758057,5.917928695678711,5.976336479187012,6.033185005187988,6.088229179382324,6.141282558441162,6.192436695098877,6.242122173309326,6.291011333465576,6.3398284912109375,6.389169692993164,6.4393768310546875,6.490428924560547,6.542034149169922,6.593906879425049,6.645993232727051,6.698575019836426,6.752273082733154,6.807931900024414,6.866328239440918,6.927142143249512,6.99017333984375,7.056028366088867,7.1258320808410645,7.200591564178467,7.28108024597168,7.36771297454834,7.4602370262146,7.55744743347168,7.657183647155762,7.756462574005127,7.851789951324463,7.93984842300415,8.018472671508789,8.087786674499512,8.148774147033691,8.202670097351074,8.250602722167969,8.293327331542969,8.331412315368652,8.365849494934082,8.399346351623535,8.434345245361328,8.472182273864746,8.513272285461426,8.557475090026855,8.604398727416992,8.653672218322754,8.705180168151855,8.759125709533691,8.815726280212402,8.874798774719238,8.93608283996582,8.999429702758789,9.06486988067627,9.132524490356445,9.202411651611328,9.274328231811523,9.347881317138672,9.422640800476074,9.498283386230469,9.57465648651123,9.6517915725708,9.729682922363281,9.808075904846191,9.886436462402344,9.963897705078125,10.039151191711426,10.110610008239746,10.1769380569458,10.238332748413086,10.295295715332031,10.347785949707031,10.395334243774414,10.437478065490723,10.47380256652832,10.504133224487305,10.528847694396973,10.54920768737793,10.567342758178711,10.586041450500488,10.608438491821289,10.637456893920898,10.675009727478027,10.720959663391113,10.774552345275879,10.834966659545898,10.90157699584961,10.974020004272461,11.051871299743652,11.134037971496582,11.217530250549316,11.299530982971191,11.378242492675781,11.452703475952148,11.522553443908691,11.587848663330078,11.648787498474121,11.705435752868652,11.757625579833984,11.805206298828125,11.8485689163208,11.888389587402344,11.925350189208984,11.960088729858398,11.993085861206055,12.024649620056152,12.054983139038086,12.084189414978027,12.112282752990723,12.139183044433594,12.164813995361328,12.189128875732422,12.212041854858398,12.233434677124023,12.253212928771973,12.271380424499512,12.2880220413208,12.303272247314453,12.317279815673828,12.330201148986816,12.342162132263184,12.353267669677734,12.363544464111328,12.373029708862305,12.381921768188477,12.390507698059082,12.399044036865234,12.407670021057129,12.416369438171387,12.42500114440918,12.433341979980469,12.441156387329102,12.44814682006836,12.454087257385254,12.458952903747559,12.4628267288208,12.465771675109863,12.467873573303223,12.469367980957031,12.470619201660156,12.472087860107422,12.474204063415527,12.47729778289795,12.481558799743652,12.486946105957031,12.493182182312012,12.499809265136719,12.506335258483887,12.512450218200684,12.51811408996582,12.523402214050293,12.528132438659668,12.531852722167969,12.534021377563477,12.534214973449707,12.532198905944824,12.527876853942871,12.521204948425293,12.512176513671875,12.500990867614746,12.488066673278809,12.473954200744629,12.459344863891602,12.445011138916016,12.431641578674316,12.41971206665039,12.409540176391602,12.401331901550293,12.395215034484863,12.391261100769043,12.389568328857422,12.390257835388184,12.39348030090332,12.39925765991211,12.407323837280273,12.417228698730469,12.428528785705566,12.440890312194824,12.4541654586792,12.468371391296387,12.483604431152344,12.499961853027344,12.517590522766113,12.536628723144531,12.557055473327637,12.578666687011719,12.601190567016602,12.624371528625488,12.647992134094238,12.671804428100586,12.695446014404297,12.718488693237305,12.740583419799805,12.761569023132324,12.781598091125488,12.801056861877441,12.820425987243652,12.840115547180176,12.860333442687988,12.8810453414917,12.902078628540039,12.923444747924805,12.945385932922363,12.96823501586914,12.992321014404297,13.017951965332031,13.045419692993164,13.075024604797363,13.107016563415527,13.141435623168945,13.178040504455566,13.2163667678833,13.255807876586914,13.295729637145996,13.324219703674316,13.353053092956543,13.381914138793945,13.41057014465332,13.438833236694336,13.466487884521484,13.49325942993164,13.518826484680176,13.542905807495117,13.565350532531738,13.586189270019531,13.605609893798828,13.623860359191895,13.641124725341797,13.657461166381836,13.672840118408203,13.687225341796875,13.700581550598145,13.712811470031738,13.72373104095459,13.733160972595215,13.741083145141602,13.747669219970703,13.753143310546875],\"yaxis\":\"y\",\"type\":\"scatter\"},{\"mode\":\"lines\",\"name\":\"lowess\",\"x\":[\"2023-03-12T21:41:27.400\",\"2023-03-12T21:41:27.500\",\"2023-03-12T21:41:27.600\",\"2023-03-12T21:41:27.700\",\"2023-03-12T21:41:27.800\",\"2023-03-12T21:41:27.900\",\"2023-03-12T21:41:28.000\",\"2023-03-12T21:41:28.100\",\"2023-03-12T21:41:28.200\",\"2023-03-12T21:41:28.300\",\"2023-03-12T21:41:28.400\",\"2023-03-12T21:41:28.500\",\"2023-03-12T21:41:28.600\",\"2023-03-12T21:41:28.700\",\"2023-03-12T21:41:28.800\",\"2023-03-12T21:41:28.900\",\"2023-03-12T21:41:29.000\",\"2023-03-12T21:41:29.100\",\"2023-03-12T21:41:29.200\",\"2023-03-12T21:41:29.300\",\"2023-03-12T21:41:29.400\",\"2023-03-12T21:41:29.500\",\"2023-03-12T21:41:29.600\",\"2023-03-12T21:41:29.700\",\"2023-03-12T21:41:29.800\",\"2023-03-12T21:41:29.900\",\"2023-03-12T21:41:30.000\",\"2023-03-12T21:41:30.100\",\"2023-03-12T21:41:30.200\",\"2023-03-12T21:41:30.300\",\"2023-03-12T21:41:30.400\",\"2023-03-12T21:41:30.500\",\"2023-03-12T21:41:30.600\",\"2023-03-12T21:41:30.700\",\"2023-03-12T21:41:30.800\",\"2023-03-12T21:41:30.900\",\"2023-03-12T21:41:31.000\",\"2023-03-12T21:41:31.100\",\"2023-03-12T21:41:31.200\",\"2023-03-12T21:41:31.300\",\"2023-03-12T21:41:31.400\",\"2023-03-12T21:41:31.500\",\"2023-03-12T21:41:31.600\",\"2023-03-12T21:41:31.700\",\"2023-03-12T21:41:31.800\",\"2023-03-12T21:41:31.900\",\"2023-03-12T21:41:32.000\",\"2023-03-12T21:41:32.100\",\"2023-03-12T21:41:32.200\",\"2023-03-12T21:41:32.300\",\"2023-03-12T21:41:32.400\",\"2023-03-12T21:41:32.500\",\"2023-03-12T21:41:32.600\",\"2023-03-12T21:41:32.700\",\"2023-03-12T21:41:32.800\",\"2023-03-12T21:41:32.900\",\"2023-03-12T21:41:33.000\",\"2023-03-12T21:41:33.100\",\"2023-03-12T21:41:33.200\",\"2023-03-12T21:41:33.300\",\"2023-03-12T21:41:33.400\",\"2023-03-12T21:41:33.500\",\"2023-03-12T21:41:33.600\",\"2023-03-12T21:41:33.700\",\"2023-03-12T21:41:33.800\",\"2023-03-12T21:41:33.900\",\"2023-03-12T21:41:34.000\",\"2023-03-12T21:41:34.100\",\"2023-03-12T21:41:34.200\",\"2023-03-12T21:41:34.300\",\"2023-03-12T21:41:34.400\",\"2023-03-12T21:41:34.500\",\"2023-03-12T21:41:34.600\",\"2023-03-12T21:41:34.700\",\"2023-03-12T21:41:34.800\",\"2023-03-12T21:41:34.900\",\"2023-03-12T21:41:35.000\",\"2023-03-12T21:41:35.100\",\"2023-03-12T21:41:35.200\",\"2023-03-12T21:41:35.300\",\"2023-03-12T21:41:35.400\",\"2023-03-12T21:41:35.500\",\"2023-03-12T21:41:35.600\",\"2023-03-12T21:41:35.700\",\"2023-03-12T21:41:35.800\",\"2023-03-12T21:41:35.900\",\"2023-03-12T21:41:36.000\",\"2023-03-12T21:41:36.100\",\"2023-03-12T21:41:36.200\",\"2023-03-12T21:41:36.300\",\"2023-03-12T21:41:36.400\",\"2023-03-12T21:41:36.500\",\"2023-03-12T21:41:36.600\",\"2023-03-12T21:41:36.700\",\"2023-03-12T21:41:36.800\",\"2023-03-12T21:41:36.900\",\"2023-03-12T21:41:37.000\",\"2023-03-12T21:41:37.100\",\"2023-03-12T21:41:37.200\",\"2023-03-12T21:41:37.300\",\"2023-03-12T21:41:37.400\",\"2023-03-12T21:41:37.500\",\"2023-03-12T21:41:37.600\",\"2023-03-12T21:41:37.700\",\"2023-03-12T21:41:37.800\",\"2023-03-12T21:41:37.900\",\"2023-03-12T21:41:38.000\",\"2023-03-12T21:41:38.100\",\"2023-03-12T21:41:38.200\",\"2023-03-12T21:41:38.300\",\"2023-03-12T21:41:38.400\",\"2023-03-12T21:41:38.500\",\"2023-03-12T21:41:38.600\",\"2023-03-12T21:41:38.700\",\"2023-03-12T21:41:38.800\",\"2023-03-12T21:41:38.900\",\"2023-03-12T21:41:39.000\",\"2023-03-12T21:41:39.100\",\"2023-03-12T21:41:39.200\",\"2023-03-12T21:41:39.300\",\"2023-03-12T21:41:39.400\",\"2023-03-12T21:41:39.500\",\"2023-03-12T21:41:39.600\",\"2023-03-12T21:41:39.700\",\"2023-03-12T21:41:39.800\",\"2023-03-12T21:41:39.900\",\"2023-03-12T21:41:40.000\",\"2023-03-12T21:41:40.100\",\"2023-03-12T21:41:40.200\",\"2023-03-12T21:41:40.300\",\"2023-03-12T21:41:40.400\",\"2023-03-12T21:41:40.500\",\"2023-03-12T21:41:40.600\",\"2023-03-12T21:41:40.700\",\"2023-03-12T21:41:40.800\",\"2023-03-12T21:41:40.900\",\"2023-03-12T21:41:41.000\",\"2023-03-12T21:41:41.100\",\"2023-03-12T21:41:41.200\",\"2023-03-12T21:41:41.300\",\"2023-03-12T21:41:41.400\",\"2023-03-12T21:41:41.500\",\"2023-03-12T21:41:41.600\",\"2023-03-12T21:41:41.700\",\"2023-03-12T21:41:41.800\",\"2023-03-12T21:41:41.900\",\"2023-03-12T21:41:42.000\",\"2023-03-12T21:41:42.100\",\"2023-03-12T21:41:42.200\",\"2023-03-12T21:41:42.300\",\"2023-03-12T21:41:42.400\",\"2023-03-12T21:41:42.500\",\"2023-03-12T21:41:42.600\",\"2023-03-12T21:41:42.700\",\"2023-03-12T21:41:42.800\",\"2023-03-12T21:41:42.900\",\"2023-03-12T21:41:43.000\",\"2023-03-12T21:41:43.100\",\"2023-03-12T21:41:43.200\",\"2023-03-12T21:41:43.300\",\"2023-03-12T21:41:43.400\",\"2023-03-12T21:41:43.500\",\"2023-03-12T21:41:43.600\",\"2023-03-12T21:41:43.700\",\"2023-03-12T21:41:43.800\",\"2023-03-12T21:41:43.900\",\"2023-03-12T21:41:44.000\",\"2023-03-12T21:41:44.100\",\"2023-03-12T21:41:44.200\",\"2023-03-12T21:41:44.300\",\"2023-03-12T21:41:44.400\",\"2023-03-12T21:41:44.500\",\"2023-03-12T21:41:44.600\",\"2023-03-12T21:41:44.700\",\"2023-03-12T21:41:44.800\",\"2023-03-12T21:41:44.900\",\"2023-03-12T21:41:45.000\",\"2023-03-12T21:41:45.100\",\"2023-03-12T21:41:45.200\",\"2023-03-12T21:41:45.300\",\"2023-03-12T21:41:45.400\",\"2023-03-12T21:41:45.500\",\"2023-03-12T21:41:45.600\",\"2023-03-12T21:41:45.700\",\"2023-03-12T21:41:45.800\",\"2023-03-12T21:41:45.900\",\"2023-03-12T21:41:46.000\",\"2023-03-12T21:41:46.100\",\"2023-03-12T21:41:46.200\",\"2023-03-12T21:41:46.300\",\"2023-03-12T21:41:46.400\",\"2023-03-12T21:41:46.500\",\"2023-03-12T21:41:46.600\",\"2023-03-12T21:41:46.700\",\"2023-03-12T21:41:46.800\",\"2023-03-12T21:41:46.900\",\"2023-03-12T21:41:47.000\",\"2023-03-12T21:41:47.100\",\"2023-03-12T21:41:47.200\",\"2023-03-12T21:41:47.300\",\"2023-03-12T21:41:47.400\",\"2023-03-12T21:41:47.500\",\"2023-03-12T21:41:47.600\",\"2023-03-12T21:41:47.700\",\"2023-03-12T21:41:47.800\",\"2023-03-12T21:41:47.900\",\"2023-03-12T21:41:48.000\",\"2023-03-12T21:41:48.100\",\"2023-03-12T21:41:48.200\",\"2023-03-12T21:41:48.300\",\"2023-03-12T21:41:48.400\",\"2023-03-12T21:41:48.500\",\"2023-03-12T21:41:48.600\",\"2023-03-12T21:41:48.700\",\"2023-03-12T21:41:48.800\",\"2023-03-12T21:41:48.900\",\"2023-03-12T21:41:49.000\",\"2023-03-12T21:41:49.100\",\"2023-03-12T21:41:49.200\",\"2023-03-12T21:41:49.300\",\"2023-03-12T21:41:49.400\",\"2023-03-12T21:41:49.500\",\"2023-03-12T21:41:49.600\",\"2023-03-12T21:41:49.700\",\"2023-03-12T21:41:49.800\",\"2023-03-12T21:41:49.900\",\"2023-03-12T21:41:50.000\",\"2023-03-12T21:41:50.100\",\"2023-03-12T21:41:50.200\",\"2023-03-12T21:41:50.300\",\"2023-03-12T21:41:50.400\",\"2023-03-12T21:41:50.500\",\"2023-03-12T21:41:50.600\",\"2023-03-12T21:41:50.700\",\"2023-03-12T21:41:50.800\",\"2023-03-12T21:41:50.900\",\"2023-03-12T21:41:51.000\",\"2023-03-12T21:41:51.100\",\"2023-03-12T21:41:51.200\",\"2023-03-12T21:41:51.300\",\"2023-03-12T21:41:51.400\",\"2023-03-12T21:41:51.500\",\"2023-03-12T21:41:51.600\",\"2023-03-12T21:41:51.700\",\"2023-03-12T21:41:51.800\",\"2023-03-12T21:41:51.900\",\"2023-03-12T21:41:52.000\",\"2023-03-12T21:41:52.100\",\"2023-03-12T21:41:52.200\",\"2023-03-12T21:41:52.300\",\"2023-03-12T21:41:52.400\",\"2023-03-12T21:41:52.500\",\"2023-03-12T21:41:52.600\",\"2023-03-12T21:41:52.700\",\"2023-03-12T21:41:52.800\",\"2023-03-12T21:41:52.900\",\"2023-03-12T21:41:53.000\",\"2023-03-12T21:41:53.100\",\"2023-03-12T21:41:53.200\",\"2023-03-12T21:41:53.300\",\"2023-03-12T21:41:53.400\",\"2023-03-12T21:41:53.500\",\"2023-03-12T21:41:53.600\",\"2023-03-12T21:41:53.700\",\"2023-03-12T21:41:53.800\",\"2023-03-12T21:41:53.900\",\"2023-03-12T21:41:54.000\",\"2023-03-12T21:41:54.100\",\"2023-03-12T21:41:54.200\",\"2023-03-12T21:41:54.300\",\"2023-03-12T21:41:54.400\",\"2023-03-12T21:41:54.500\",\"2023-03-12T21:41:54.600\",\"2023-03-12T21:41:54.700\",\"2023-03-12T21:41:54.800\",\"2023-03-12T21:41:54.900\",\"2023-03-12T21:41:55.000\",\"2023-03-12T21:41:55.100\",\"2023-03-12T21:41:55.200\",\"2023-03-12T21:41:55.300\",\"2023-03-12T21:41:55.400\",\"2023-03-12T21:41:55.500\",\"2023-03-12T21:41:55.600\",\"2023-03-12T21:41:55.700\",\"2023-03-12T21:41:55.800\",\"2023-03-12T21:41:55.900\",\"2023-03-12T21:41:56.000\",\"2023-03-12T21:41:56.100\",\"2023-03-12T21:41:56.200\",\"2023-03-12T21:41:56.300\",\"2023-03-12T21:41:56.400\",\"2023-03-12T21:41:56.500\",\"2023-03-12T21:41:56.600\",\"2023-03-12T21:41:56.700\",\"2023-03-12T21:41:56.800\",\"2023-03-12T21:41:56.900\",\"2023-03-12T21:41:57.000\",\"2023-03-12T21:41:57.100\",\"2023-03-12T21:41:57.200\",\"2023-03-12T21:41:57.300\",\"2023-03-12T21:41:57.400\",\"2023-03-12T21:41:57.500\",\"2023-03-12T21:41:57.600\",\"2023-03-12T21:41:57.700\",\"2023-03-12T21:41:57.800\",\"2023-03-12T21:41:57.900\",\"2023-03-12T21:41:58.000\",\"2023-03-12T21:41:58.100\"],\"y\":[0.5462147669780514,0.6258741512567998,0.705569684330588,0.7852896055743583,0.8650346663262319,0.9448073071481071,1.0245990835897991,1.1044160356822992,1.1842549562303832,1.2641097531287617,1.3439822852760297,1.4238629290034577,1.5037445710839772,1.5836165843131949,1.6634722370507085,1.7432964187870754,1.8230790511272248,1.9028099803019545,1.9824718447955612,2.062062546423427,2.141566151151899,2.2209757930795524,2.3002808991143358,2.379472313616256,2.458543979377411,2.5374856415925486,2.6162947510053574,2.6949623013391153,2.7734847779444594,2.8518582650634627,2.9300807728250993,3.008149636917589,3.0860664544276957,3.163832327265978,3.2414510684004982,3.318927773959559,3.39627057263653,3.4734903030803794,3.5505998014066344,3.6276155376222494,3.704557823528937,3.781450788275185,3.8583241210339847,3.935213447324992,4.0121612100943755,4.0892198117570455,4.166450269979308,4.243929242143686,4.32174437591852,4.400000078678916,4.478813155239322,4.553630288806302,4.628144089255113,4.702336383037529,4.776179432033532,4.849629918062687,4.922634430753916,4.995125932580863,5.067028939079726,5.138262574945258,5.208746391934024,5.2784138131570355,5.3472186347993045,5.415142235977618,5.4821901984792465,5.54838669740157,5.613771144554911,5.678385874585869,5.742276060663243,5.805479656913674,5.868027544817237,5.929946555180998,5.991256390766302,6.051971849776244,6.112105664047475,6.171669950528295,6.230677903573295,6.2891519827035385,6.347127177394744,6.404651622781145,6.461777495642896,6.51855648744494,6.575044106306195,6.631293053005479,6.687358521788807,6.743293519332986,6.79915004337915,6.854973009903545,6.910803382658969,6.966676277668491,7.0226133358822675,7.078624442490319,7.134709700480414,7.190862689377728,7.247074203808514,7.303342645987563,7.35967319684522,7.416087054909189,7.472632187313401,7.529365348494808,7.586369333447129,7.643730118082474,7.701538804004314,7.7598817774924305,7.818830445734115,7.878435404471416,7.93872915786939,7.999723650504947,8.061399427329807,8.123743114735827,8.186718910519867,8.250289582199294,8.314412185947837,8.379041496906812,8.444135059418427,8.509638807374571,8.57549847673325,8.641663668102922,8.708072322293196,8.774674468012007,8.841413025603602,8.908243821283218,8.975116348945164,9.041987456301941,9.108823919254883,9.175583670449878,9.242238923046052,9.308760654024868,9.375120415915841,9.441294414896232,9.507262762779176,9.573014465957536,9.63854734260764,9.703873037511226,9.769009034940284,9.833982513280128,9.898824213455914,9.963566066013188,10.028236967208022,10.092858228305003,10.157440265024809,10.221979520894408,10.286454093598753,10.350823351399354,10.41502830583554,10.478983053017823,10.542587731884833,10.60572252285184,10.668257545832638,10.730056973941927,10.790990357303313,10.850928732343885,10.909777383733918,10.967442012183952,11.023862631767294,11.079004823307535,11.132856565565447,11.185433295073793,11.23675906214729,11.286876398084562,11.335830179815524,11.38366704211149,11.4304230406441,11.476122588570341,11.520770842086819,11.564359765161532,11.606870357948305,11.648273548119402,11.688537457546579,11.727628006574047,11.765510539589078,11.802153866204806,11.837528343759327,11.871610488577957,11.90438513767799,11.935847754018473,11.966006521492691,11.99488658523655,12.0225325932249,12.0490091178454,12.07438859540624,12.098734779507861,12.122089699327402,12.144471260149322,12.165880502304786,12.186312016621153,12.205759863360049,12.224220676453966,12.241697707746864,12.258205302477712,12.27377337502581,12.288447935479255,12.302288342872123,12.315362849189844,12.327743354452481,12.339500611542725,12.350699767830875,12.361398237815365,12.371644150697477,12.381476062735505,12.390922772163744,12.400003618685632,12.40872915741267,12.417102267454396,12.425119335996387,12.43277215622227,12.440048898855101,12.446935562036039,12.45341648579702,12.45947508415623,12.465094395107158,12.470257503457082,12.47494827732446,12.479152235000672,12.48285710442856,12.486054333628463,12.48874010239345,12.490917281524338,12.4925973930693,12.493802252303169,12.494566596607676,12.494937363480263,12.494976051839481,12.494755145036011,12.49436278791446,12.493894617579402,12.493455079441564,12.493152375694637,12.49310189929916,12.493412848313373,12.494194839589767,12.495549762261659,12.497566324996999,12.500325286011945,12.503896292231683,12.508330490154778,12.513671051630801,12.519945097295146,12.527167390786222,12.535345210822467,12.54447151168711,12.554530592969831,12.565502531035202,12.57735545695976,12.590055345247563,12.603560086689088,12.617825736782036,12.63280047754061,12.64842987469856,12.664658002122167,12.681424031878722,12.69866831332252,12.716331671113045,12.734357276511059,12.75269030517397,12.771280005368478,12.790079936490459,12.80904649197944,12.833441826114857,12.857384735088974,12.880882865038162,12.903977836668862,12.926728323948248,12.949197979393265,12.971447814815765,12.993534354024824,13.01550525183248,13.037401695421536,13.059259896522036,13.081108896993408,13.102975764545384,13.12488049747649,13.146840188025626,13.168872786400849,13.19098764864959,13.213197557943605,13.235508592290588,13.257929940820087,13.280465602951015,13.303120231891237,13.325896443975298,13.348796183204305,13.37182027669473,13.39496814880885,13.418237104349291,13.441627302446635,13.465138360691427,13.488765560709771,13.512505661582235,13.536356663304081,13.560312598351572,13.58436844953233,13.608526528358992,13.632768208705805,13.657103989770782,13.681522491336395,13.706013466537627,13.73058599002667,13.755220766717654,13.779923036859014,13.80468628542644,13.829498752857482,13.854364515805258,13.879270536254783,13.904230168617898,13.929224526224164,13.954252656009405,13.979318805747917],\"type\":\"scatter\"}],                        {\"template\":{\"data\":{\"histogram2dcontour\":[{\"type\":\"histogram2dcontour\",\"colorbar\":{\"outlinewidth\":0,\"ticks\":\"\"},\"colorscale\":[[0.0,\"#0d0887\"],[0.1111111111111111,\"#46039f\"],[0.2222222222222222,\"#7201a8\"],[0.3333333333333333,\"#9c179e\"],[0.4444444444444444,\"#bd3786\"],[0.5555555555555556,\"#d8576b\"],[0.6666666666666666,\"#ed7953\"],[0.7777777777777778,\"#fb9f3a\"],[0.8888888888888888,\"#fdca26\"],[1.0,\"#f0f921\"]]}],\"choropleth\":[{\"type\":\"choropleth\",\"colorbar\":{\"outlinewidth\":0,\"ticks\":\"\"}}],\"histogram2d\":[{\"type\":\"histogram2d\",\"colorbar\":{\"outlinewidth\":0,\"ticks\":\"\"},\"colorscale\":[[0.0,\"#0d0887\"],[0.1111111111111111,\"#46039f\"],[0.2222222222222222,\"#7201a8\"],[0.3333333333333333,\"#9c179e\"],[0.4444444444444444,\"#bd3786\"],[0.5555555555555556,\"#d8576b\"],[0.6666666666666666,\"#ed7953\"],[0.7777777777777778,\"#fb9f3a\"],[0.8888888888888888,\"#fdca26\"],[1.0,\"#f0f921\"]]}],\"heatmap\":[{\"type\":\"heatmap\",\"colorbar\":{\"outlinewidth\":0,\"ticks\":\"\"},\"colorscale\":[[0.0,\"#0d0887\"],[0.1111111111111111,\"#46039f\"],[0.2222222222222222,\"#7201a8\"],[0.3333333333333333,\"#9c179e\"],[0.4444444444444444,\"#bd3786\"],[0.5555555555555556,\"#d8576b\"],[0.6666666666666666,\"#ed7953\"],[0.7777777777777778,\"#fb9f3a\"],[0.8888888888888888,\"#fdca26\"],[1.0,\"#f0f921\"]]}],\"heatmapgl\":[{\"type\":\"heatmapgl\",\"colorbar\":{\"outlinewidth\":0,\"ticks\":\"\"},\"colorscale\":[[0.0,\"#0d0887\"],[0.1111111111111111,\"#46039f\"],[0.2222222222222222,\"#7201a8\"],[0.3333333333333333,\"#9c179e\"],[0.4444444444444444,\"#bd3786\"],[0.5555555555555556,\"#d8576b\"],[0.6666666666666666,\"#ed7953\"],[0.7777777777777778,\"#fb9f3a\"],[0.8888888888888888,\"#fdca26\"],[1.0,\"#f0f921\"]]}],\"contourcarpet\":[{\"type\":\"contourcarpet\",\"colorbar\":{\"outlinewidth\":0,\"ticks\":\"\"}}],\"contour\":[{\"type\":\"contour\",\"colorbar\":{\"outlinewidth\":0,\"ticks\":\"\"},\"colorscale\":[[0.0,\"#0d0887\"],[0.1111111111111111,\"#46039f\"],[0.2222222222222222,\"#7201a8\"],[0.3333333333333333,\"#9c179e\"],[0.4444444444444444,\"#bd3786\"],[0.5555555555555556,\"#d8576b\"],[0.6666666666666666,\"#ed7953\"],[0.7777777777777778,\"#fb9f3a\"],[0.8888888888888888,\"#fdca26\"],[1.0,\"#f0f921\"]]}],\"surface\":[{\"type\":\"surface\",\"colorbar\":{\"outlinewidth\":0,\"ticks\":\"\"},\"colorscale\":[[0.0,\"#0d0887\"],[0.1111111111111111,\"#46039f\"],[0.2222222222222222,\"#7201a8\"],[0.3333333333333333,\"#9c179e\"],[0.4444444444444444,\"#bd3786\"],[0.5555555555555556,\"#d8576b\"],[0.6666666666666666,\"#ed7953\"],[0.7777777777777778,\"#fb9f3a\"],[0.8888888888888888,\"#fdca26\"],[1.0,\"#f0f921\"]]}],\"mesh3d\":[{\"type\":\"mesh3d\",\"colorbar\":{\"outlinewidth\":0,\"ticks\":\"\"}}],\"scatter\":[{\"fillpattern\":{\"fillmode\":\"overlay\",\"size\":10,\"solidity\":0.2},\"type\":\"scatter\"}],\"parcoords\":[{\"type\":\"parcoords\",\"line\":{\"colorbar\":{\"outlinewidth\":0,\"ticks\":\"\"}}}],\"scatterpolargl\":[{\"type\":\"scatterpolargl\",\"marker\":{\"colorbar\":{\"outlinewidth\":0,\"ticks\":\"\"}}}],\"bar\":[{\"error_x\":{\"color\":\"#2a3f5f\"},\"error_y\":{\"color\":\"#2a3f5f\"},\"marker\":{\"line\":{\"color\":\"#E5ECF6\",\"width\":0.5},\"pattern\":{\"fillmode\":\"overlay\",\"size\":10,\"solidity\":0.2}},\"type\":\"bar\"}],\"scattergeo\":[{\"type\":\"scattergeo\",\"marker\":{\"colorbar\":{\"outlinewidth\":0,\"ticks\":\"\"}}}],\"scatterpolar\":[{\"type\":\"scatterpolar\",\"marker\":{\"colorbar\":{\"outlinewidth\":0,\"ticks\":\"\"}}}],\"histogram\":[{\"marker\":{\"pattern\":{\"fillmode\":\"overlay\",\"size\":10,\"solidity\":0.2}},\"type\":\"histogram\"}],\"scattergl\":[{\"type\":\"scattergl\",\"marker\":{\"colorbar\":{\"outlinewidth\":0,\"ticks\":\"\"}}}],\"scatter3d\":[{\"type\":\"scatter3d\",\"line\":{\"colorbar\":{\"outlinewidth\":0,\"ticks\":\"\"}},\"marker\":{\"colorbar\":{\"outlinewidth\":0,\"ticks\":\"\"}}}],\"scattermapbox\":[{\"type\":\"scattermapbox\",\"marker\":{\"colorbar\":{\"outlinewidth\":0,\"ticks\":\"\"}}}],\"scatterternary\":[{\"type\":\"scatterternary\",\"marker\":{\"colorbar\":{\"outlinewidth\":0,\"ticks\":\"\"}}}],\"scattercarpet\":[{\"type\":\"scattercarpet\",\"marker\":{\"colorbar\":{\"outlinewidth\":0,\"ticks\":\"\"}}}],\"carpet\":[{\"aaxis\":{\"endlinecolor\":\"#2a3f5f\",\"gridcolor\":\"white\",\"linecolor\":\"white\",\"minorgridcolor\":\"white\",\"startlinecolor\":\"#2a3f5f\"},\"baxis\":{\"endlinecolor\":\"#2a3f5f\",\"gridcolor\":\"white\",\"linecolor\":\"white\",\"minorgridcolor\":\"white\",\"startlinecolor\":\"#2a3f5f\"},\"type\":\"carpet\"}],\"table\":[{\"cells\":{\"fill\":{\"color\":\"#EBF0F8\"},\"line\":{\"color\":\"white\"}},\"header\":{\"fill\":{\"color\":\"#C8D4E3\"},\"line\":{\"color\":\"white\"}},\"type\":\"table\"}],\"barpolar\":[{\"marker\":{\"line\":{\"color\":\"#E5ECF6\",\"width\":0.5},\"pattern\":{\"fillmode\":\"overlay\",\"size\":10,\"solidity\":0.2}},\"type\":\"barpolar\"}],\"pie\":[{\"automargin\":true,\"type\":\"pie\"}]},\"layout\":{\"autotypenumbers\":\"strict\",\"colorway\":[\"#636efa\",\"#EF553B\",\"#00cc96\",\"#ab63fa\",\"#FFA15A\",\"#19d3f3\",\"#FF6692\",\"#B6E880\",\"#FF97FF\",\"#FECB52\"],\"font\":{\"color\":\"#2a3f5f\"},\"hovermode\":\"closest\",\"hoverlabel\":{\"align\":\"left\"},\"paper_bgcolor\":\"white\",\"plot_bgcolor\":\"#E5ECF6\",\"polar\":{\"bgcolor\":\"#E5ECF6\",\"angularaxis\":{\"gridcolor\":\"white\",\"linecolor\":\"white\",\"ticks\":\"\"},\"radialaxis\":{\"gridcolor\":\"white\",\"linecolor\":\"white\",\"ticks\":\"\"}},\"ternary\":{\"bgcolor\":\"#E5ECF6\",\"aaxis\":{\"gridcolor\":\"white\",\"linecolor\":\"white\",\"ticks\":\"\"},\"baxis\":{\"gridcolor\":\"white\",\"linecolor\":\"white\",\"ticks\":\"\"},\"caxis\":{\"gridcolor\":\"white\",\"linecolor\":\"white\",\"ticks\":\"\"}},\"coloraxis\":{\"colorbar\":{\"outlinewidth\":0,\"ticks\":\"\"}},\"colorscale\":{\"sequential\":[[0.0,\"#0d0887\"],[0.1111111111111111,\"#46039f\"],[0.2222222222222222,\"#7201a8\"],[0.3333333333333333,\"#9c179e\"],[0.4444444444444444,\"#bd3786\"],[0.5555555555555556,\"#d8576b\"],[0.6666666666666666,\"#ed7953\"],[0.7777777777777778,\"#fb9f3a\"],[0.8888888888888888,\"#fdca26\"],[1.0,\"#f0f921\"]],\"sequentialminus\":[[0.0,\"#0d0887\"],[0.1111111111111111,\"#46039f\"],[0.2222222222222222,\"#7201a8\"],[0.3333333333333333,\"#9c179e\"],[0.4444444444444444,\"#bd3786\"],[0.5555555555555556,\"#d8576b\"],[0.6666666666666666,\"#ed7953\"],[0.7777777777777778,\"#fb9f3a\"],[0.8888888888888888,\"#fdca26\"],[1.0,\"#f0f921\"]],\"diverging\":[[0,\"#8e0152\"],[0.1,\"#c51b7d\"],[0.2,\"#de77ae\"],[0.3,\"#f1b6da\"],[0.4,\"#fde0ef\"],[0.5,\"#f7f7f7\"],[0.6,\"#e6f5d0\"],[0.7,\"#b8e186\"],[0.8,\"#7fbc41\"],[0.9,\"#4d9221\"],[1,\"#276419\"]]},\"xaxis\":{\"gridcolor\":\"white\",\"linecolor\":\"white\",\"ticks\":\"\",\"title\":{\"standoff\":15},\"zerolinecolor\":\"white\",\"automargin\":true,\"zerolinewidth\":2},\"yaxis\":{\"gridcolor\":\"white\",\"linecolor\":\"white\",\"ticks\":\"\",\"title\":{\"standoff\":15},\"zerolinecolor\":\"white\",\"automargin\":true,\"zerolinewidth\":2},\"scene\":{\"xaxis\":{\"backgroundcolor\":\"#E5ECF6\",\"gridcolor\":\"white\",\"linecolor\":\"white\",\"showbackground\":true,\"ticks\":\"\",\"zerolinecolor\":\"white\",\"gridwidth\":2},\"yaxis\":{\"backgroundcolor\":\"#E5ECF6\",\"gridcolor\":\"white\",\"linecolor\":\"white\",\"showbackground\":true,\"ticks\":\"\",\"zerolinecolor\":\"white\",\"gridwidth\":2},\"zaxis\":{\"backgroundcolor\":\"#E5ECF6\",\"gridcolor\":\"white\",\"linecolor\":\"white\",\"showbackground\":true,\"ticks\":\"\",\"zerolinecolor\":\"white\",\"gridwidth\":2}},\"shapedefaults\":{\"line\":{\"color\":\"#2a3f5f\"}},\"annotationdefaults\":{\"arrowcolor\":\"#2a3f5f\",\"arrowhead\":0,\"arrowwidth\":1},\"geo\":{\"bgcolor\":\"white\",\"landcolor\":\"#E5ECF6\",\"subunitcolor\":\"white\",\"showland\":true,\"showlakes\":true,\"lakecolor\":\"white\"},\"title\":{\"x\":0.05},\"mapbox\":{\"style\":\"light\"}}},\"xaxis\":{\"anchor\":\"y\",\"domain\":[0.0,1.0],\"title\":{\"text\":\"epoch_time\"}},\"yaxis\":{\"anchor\":\"x\",\"domain\":[0.0,1.0],\"title\":{\"text\":\"value\"}},\"legend\":{\"title\":{\"text\":\"variable\"},\"tracegroupgap\":0},\"title\":{\"text\":\"Velocity\"}},                        {\"responsive\": true}                    ).then(function(){\n",
       "                            \n",
       "var gd = document.getElementById('75b1063c-704f-4d50-86d1-a2577d5265c7');\n",
       "var x = new MutationObserver(function (mutations, observer) {{\n",
       "        var display = window.getComputedStyle(gd).display;\n",
       "        if (!display || display === 'none') {{\n",
       "            console.log([gd, 'removed!']);\n",
       "            Plotly.purge(gd);\n",
       "            observer.disconnect();\n",
       "        }}\n",
       "}});\n",
       "\n",
       "// Listen for the removal of the full notebook cells\n",
       "var notebookContainer = gd.closest('#notebook-container');\n",
       "if (notebookContainer) {{\n",
       "    x.observe(notebookContainer, {childList: true});\n",
       "}}\n",
       "\n",
       "// Listen for the clearing of the current output cell\n",
       "var outputEl = gd.closest('.output');\n",
       "if (outputEl) {{\n",
       "    x.observe(outputEl, {childList: true});\n",
       "}}\n",
       "\n",
       "                        })                };                });            </script>        </div>"
      ]
     },
     "metadata": {},
     "output_type": "display_data"
    }
   ],
   "source": [
    "import plotly.express as px\n",
    "import statsmodels.nonparametric.smoothers_lowess as lowess\n",
    "\n",
    "_traj_df = traj_df.filter(pl.col(\"vehicle_id\").is_in([follower_id])).collect().sort(\"epoch_time\").clone()\n",
    "\n",
    "s = lowess.lowess(\n",
    "    _traj_df['front_s_smooth'].to_numpy(),\n",
    "    _traj_df['epoch_time'].to_numpy(),\n",
    "    frac=1/3,\n",
    "    it=2,\n",
    "    is_sorted=True,\n",
    ")\n",
    "\n",
    "\n",
    "fig = px.scatter(\n",
    "    _traj_df.to_pandas(),\n",
    "    x=\"epoch_time\",\n",
    "    y=[\"front_s_smooth\", ],\n",
    "    color=\"lane_index\",\n",
    "    title=\"Trajectory\",\n",
    "    # make second y axis\n",
    ")\n",
    "\n",
    "fig.add_trace(\n",
    "    go.Scatter(\n",
    "        x=_traj_df['epoch_time'],\n",
    "        y=s[:, 1],\n",
    "        mode=\"lines\",\n",
    "        name=\"lowess\",\n",
    "    )\n",
    ")\n",
    "\n",
    "\n",
    "y = lowess.lowess(\n",
    "    _traj_df['s_velocity_smooth'].to_numpy(),\n",
    "    _traj_df['epoch_time'].to_numpy(),\n",
    "    frac=1/3,\n",
    "    it=2,\n",
    "    is_sorted=True,\n",
    ")\n",
    "\n",
    "other_fig = px.scatter(\n",
    "    _traj_df.with_columns(pl.col('s_velocity_smooth').rolling_mean(window_size=50, center=True, min_periods=1).alias('rolling')).to_pandas(),\n",
    "    x=\"epoch_time\",\n",
    "    y=[\"s_velocity_smooth\", \"rolling\"],\n",
    "    # color=\"lane_index\",\n",
    "    title=\"Velocity\",\n",
    "    # make second y axis\n",
    ")\n",
    "\n",
    "other_fig.add_trace(\n",
    "    go.Scatter(\n",
    "        x=_traj_df['epoch_time'],\n",
    "        y=y[:, 1],\n",
    "        mode=\"lines\",\n",
    "        name=\"lowess\",\n",
    "    )\n",
    ")\n",
    "\n",
    "fig.show()\n",
    "other_fig.show()"
   ]
  },
  {
   "cell_type": "code",
   "execution_count": 19,
   "metadata": {},
   "outputs": [],
   "source": [
    "# fig = px.scatter(\n",
    "#     _traj_df.to_pandas(),\n",
    "#     x=\"epoch_time\",\n",
    "#     y=\"s_velocity_smooth\",\n",
    "#     color=\"lane_index\",\n",
    "#     title=\"Trajectory\",\n",
    "# )\n",
    "\n",
    "# fig.show()"
   ]
  },
  {
   "cell_type": "code",
   "execution_count": 20,
   "metadata": {},
   "outputs": [
    {
     "data": {
      "text/plain": [
       "<Axes: >"
      ]
     },
     "execution_count": 20,
     "metadata": {},
     "output_type": "execute_result"
    },
    {
     "data": {
      "image/png": "[encoded data removed]",
      "text/plain": [
       "<Figure size 640x480 with 1 Axes>"
      ]
     },
     "metadata": {},
     "output_type": "display_data"
    }
   ],
   "source": [
    "lf_df.filter(pl.col(\"association_distance\") < 10)[\n",
    "    \"association_distance\"\n",
    "].to_pandas().hist()"
   ]
  },
  {
   "cell_type": "code",
   "execution_count": 21,
   "metadata": {},
   "outputs": [],
   "source": [
    "# save_df.head()\n",
    "save_df.write_parquet(\n",
    "    \"/BittleLab/7 DOE Project/radar-data/prepared_data/calibration/leaders.parquet\",\n",
    ")"
   ]
  },
  {
   "cell_type": "code",
   "execution_count": 22,
   "metadata": {},
   "outputs": [
    {
     "name": "stderr",
     "output_type": "stream",
     "text": [
      "/home/max/Development/roadside-radar/venv/lib/python3.11/site-packages/statsmodels/nonparametric/smoothers_lowess.py:227: RuntimeWarning:\n",
      "\n",
      "divide by zero encountered in divide\n",
      "\n",
      "/home/max/Development/roadside-radar/venv/lib/python3.11/site-packages/statsmodels/nonparametric/smoothers_lowess.py:227: RuntimeWarning:\n",
      "\n",
      "invalid value encountered in divide\n",
      "\n",
      "/home/max/Development/roadside-radar/venv/lib/python3.11/site-packages/statsmodels/nonparametric/smoothers_lowess.py:227: RuntimeWarning:\n",
      "\n",
      "divide by zero encountered in divide\n",
      "\n",
      "/home/max/Development/roadside-radar/venv/lib/python3.11/site-packages/statsmodels/nonparametric/smoothers_lowess.py:227: RuntimeWarning:\n",
      "\n",
      "invalid value encountered in divide\n",
      "\n",
      "/home/max/Development/roadside-radar/venv/lib/python3.11/site-packages/statsmodels/nonparametric/smoothers_lowess.py:227: RuntimeWarning:\n",
      "\n",
      "invalid value encountered in multiply\n",
      "\n",
      "/home/max/Development/roadside-radar/venv/lib/python3.11/site-packages/numpy/core/fromnumeric.py:3504: RuntimeWarning:\n",
      "\n",
      "Mean of empty slice.\n",
      "\n",
      "/home/max/Development/roadside-radar/venv/lib/python3.11/site-packages/numpy/core/_methods.py:129: RuntimeWarning:\n",
      "\n",
      "invalid value encountered in scalar divide\n",
      "\n"
     ]
    }
   ],
   "source": [
    "processed_traj_df.collect().with_columns(\n",
    "    pl.struct(['front_s_smooth', 'epoch_time']).map_elements(\n",
    "        lambda x: lowess.lowess(\n",
    "            x.struct['front_s_smooth'],\n",
    "            x.struct['epoch_time'],\n",
    "            frac=1/3,\n",
    "            it=2,\n",
    "            is_sorted=True,\n",
    "        )[:, 1],\n",
    "        strategy=\"threading\"\n",
    "        ).over('vehicle_id').alias('lowess')\n",
    ")\n"
   ]
  },
  {
   "cell_type": "code",
   "execution_count": 20,
   "metadata": {},
   "outputs": [],
   "source": [
    "processed_traj_df.collect().write_parquet(\n",
    "    \"/BittleLab/7 DOE Project/radar-data/prepared_data/calibration/processed_traj.parquet\",\n",
    "    use_pyarrow=True,\n",
    ")"
   ]
  },
  {
   "cell_type": "code",
   "execution_count": 21,
   "metadata": {},
   "outputs": [],
   "source": [
    "lf_df.select([\"vehicle_id_leader\", \"vehicle_id\", \"association_distance\", \"association_distance_leader\"]).filter(\n",
    "    (pl.col(\"association_distance\") < 5)\n",
    "     & (pl.col(\"association_distance_leader\") < 5)\n",
    ").write_parquet(\n",
    "    \"/BittleLab/7 DOE Project/radar-data/prepared_data/calibration/candidate_leaders.parquet\",   \n",
    ")"
   ]
  },
  {
   "cell_type": "code",
   "execution_count": 19,
   "metadata": {},
   "outputs": [],
   "source": [
    "# processed_traj_df.filter(\n",
    "#     pl.col(\"vehicle_id\").is_in(save_df[\"vehicle_id\"])\n",
    "#     | pl.col(\"vehicle_id\").is_in(save_df[\"vehicle_id_leader\"])\n",
    "# ).sink_parquet(ROOT.joinpath(\"data/leader_follower_sample_traj.parquet\"))"
   ]
  }
 ],
 "metadata": {
  "kernelspec": {
   "display_name": "venv",
   "language": "python",
   "name": "python3"
  },
  "language_info": {
   "codemirror_mode": {
    "name": "ipython",
    "version": 3
   },
   "file_extension": ".py",
   "mimetype": "text/x-python",
   "name": "python",
   "nbconvert_exporter": "python",
   "pygments_lexer": "ipython3",
   "version": "3.11.5"
  }
 },
 "nbformat": 4,
 "nbformat_minor": 2
}
