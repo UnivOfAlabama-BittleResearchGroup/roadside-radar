{
 "cells": [
  {
   "cell_type": "code",
   "execution_count": 1,
   "metadata": {},
   "outputs": [],
   "source": [
    "%load_ext autoreload\n",
    "%autoreload 2"
   ]
  },
  {
   "cell_type": "code",
   "execution_count": 2,
   "metadata": {},
   "outputs": [
    {
     "name": "stdout",
     "output_type": "stream",
     "text": [
      "GPU available: True\n"
     ]
    }
   ],
   "source": [
    "# ruff: noqa: E402\n",
    "# find the root of the project\n",
    "import os\n",
    "from pathlib import Path\n",
    "import sys\n",
    "import polars as pl\n",
    "import dotenv\n",
    "\n",
    "\n",
    "ROOT = Path(os.getcwd()).parent\n",
    "while not ROOT.joinpath(\".git\").exists():\n",
    "    ROOT = ROOT.parent\n",
    "\n",
    "# add the root to the python path\n",
    "sys.path.append(str(ROOT))\n",
    "\n",
    "\n",
    "dotenv.load_dotenv(ROOT.joinpath(\".env\"))\n",
    "\n",
    "from src.utils import check_gpu_available\n",
    "\n",
    "GPU = check_gpu_available()\n",
    "print(f\"GPU available: {GPU}\")"
   ]
  },
  {
   "cell_type": "markdown",
   "metadata": {},
   "source": [
    "## Load the Network\n"
   ]
  },
  {
   "cell_type": "code",
   "execution_count": 3,
   "metadata": {},
   "outputs": [],
   "source": [
    "import geopandas as gpd\n",
    "from src.geometry import RoadNetwork\n",
    "\n",
    "\n",
    "mainline_net = RoadNetwork(\n",
    "    lane_gdf=gpd.read_file(ROOT / \"data/mainline_lanes.geojson\"),\n",
    "    keep_lanes=[\"EBL1\", \"WBL1\"],\n",
    "    step_size=0.01,\n",
    ")\n",
    "\n",
    "full_net = RoadNetwork(\n",
    "    lane_gdf=gpd.read_file(ROOT / \"data/mainline_lanes.geojson\"),\n",
    "    keep_lanes=None,\n",
    "    step_size=0.01,\n",
    ")\n",
    "\n",
    "LANE_WIDTH = 3.55\n",
    "LANE_NUM = 2"
   ]
  },
  {
   "cell_type": "markdown",
   "metadata": {},
   "source": [
    "## Read in the Trajectories\n"
   ]
  },
  {
   "cell_type": "code",
   "execution_count": 4,
   "metadata": {},
   "outputs": [],
   "source": [
    "from datetime import timedelta\n",
    "import polars as pl\n",
    "from src.radar import CalibratedRadar\n",
    "from src.pipelines.open_file import prep_df\n",
    "\n",
    "\n",
    "USE_FRONT = False\n",
    "\n",
    "\n",
    "radar_obj = CalibratedRadar(\n",
    "    radar_location_path=ROOT / \"configuration\" / \"march_calibrated.yaml\",\n",
    ")"
   ]
  },
  {
   "cell_type": "code",
   "execution_count": 5,
   "metadata": {},
   "outputs": [],
   "source": [
    "# _df = pl.scan_parquet(\n",
    "#     # Path(os.environ.get(\"RAW_DATA_DIR\")).joinpath(\"*.parquet\")\n",
    "#     Path(\"/home/max/Development/ua-traffic-data/tmp/all_working.parquet\")\n",
    "#     # \"/Users/max/Development/DOE-Project/ua-traffic-data/tmp/all_working_processed.parquet\"\n",
    "# )\n",
    "\n",
    "# _df.with_columns(\n",
    "#     pl.col(\"epoch_time\").dt.replace_time_zone(\"UTC\").dt.convert_time_zone(\"US/Central\")\n",
    "# ).select(\n",
    "#     pl.col(\"epoch_time\").min().alias(\"min\"), pl.col(\"epoch_time\").max().alias(\"max\")\n",
    "# ).collect()"
   ]
  },
  {
   "cell_type": "code",
   "execution_count": 6,
   "metadata": {},
   "outputs": [],
   "source": [
    "# radar_df = (\n",
    "#     pl.scan_parquet(\n",
    "#         Path(\"/home/max/Development/ua-traffic-data/tmp/all_working.parquet\")\n",
    "#     )\n",
    "#     .with_columns(\n",
    "#         pl.col(\"epoch_time\").dt.replace_time_zone(\"UTC\").dt.round(\"100ms\"),\n",
    "#     )\n",
    "#     .pipe(prep_df, f=radar_obj)\n",
    "#     .collect(streaming=True)\n",
    "# )"
   ]
  },
  {
   "cell_type": "code",
   "execution_count": 7,
   "metadata": {},
   "outputs": [],
   "source": [
    "# (\n",
    "#     radar_df.group_by(\"object_id\")\n",
    "#     .agg(\n",
    "#         (\n",
    "#             pl.col(\"utm_x\").diff() ** 2\n",
    "#             + pl.col(\"utm_y\").diff() ** 2\n",
    "#         )\n",
    "#         .sqrt()\n",
    "#         .sum()\n",
    "#         .alias(\"distance\")\n",
    "#     )\n",
    "#     .select(pl.col(\"distance\").mean())\n",
    "# )"
   ]
  },
  {
   "cell_type": "code",
   "execution_count": 8,
   "metadata": {},
   "outputs": [
    {
     "name": "stdout",
     "output_type": "stream",
     "text": [
      "function: create_object_id took: 0.0001201629638671875 seconds\n",
      "function: filter_short_trajectories took: 0.0003654956817626953 seconds\n",
      "function: clip_trajectory_end took: 0.0001983642578125 seconds\n",
      "function: resample took: 0.00021147727966308594 seconds\n",
      "function: set_timezone took: 3.9577484130859375e-05 seconds\n",
      "function: add_cst_timezone took: 2.9325485229492188e-05 seconds\n",
      "function: add_heading took: 2.5033950805664062e-05 seconds\n",
      "function: rotate_radars took: 0.0004913806915283203 seconds\n",
      "function: update_origin took: 0.0004572868347167969 seconds\n"
     ]
    }
   ],
   "source": [
    "radar_df = (\n",
    "    pl.scan_parquet(\n",
    "        Path(\"/home/max/Development/ua-traffic-data/tmp/all_working.parquet\")\n",
    "    )\n",
    "    .with_columns(\n",
    "        pl.col(\"epoch_time\").dt.replace_time_zone(\"UTC\").dt.round(\"100ms\"),\n",
    "    )\n",
    "    .pipe(prep_df, f=radar_obj)\n",
    "    .collect(streaming=True)\n",
    "    .pipe(\n",
    "        full_net.map_to_lane,\n",
    "        dist_upper_bound=(LANE_WIDTH / 2),\n",
    "        utm_x_col=\"utm_x\",\n",
    "        utm_y_col=\"utm_y\",\n",
    "    )\n",
    "    .rename(\n",
    "        {\n",
    "            \"name\": \"lane\",\n",
    "            \"angle\": \"heading_lane\",\n",
    "        }\n",
    "    )\n",
    ")"
   ]
  },
  {
   "cell_type": "code",
   "execution_count": 9,
   "metadata": {},
   "outputs": [],
   "source": [
    "radar_df = radar_df.with_columns(\n",
    "    pl.col(\"epoch_time\").dt.replace_time_zone(\"UTC\").dt.convert_time_zone(\"US/Central\")\n",
    "    - pl.duration(seconds=2.9)\n",
    ").filter(pl.col(\"epoch_time\").dt.hour() == 7)"
   ]
  },
  {
   "cell_type": "code",
   "execution_count": 25,
   "metadata": {},
   "outputs": [],
   "source": [
    "res_df = (\n",
    "    radar_df.filter(pl.col(\"lane\").is_in([\"EBL1\", \"EBL2\", \"WBL1\", \"WBL2\"]))\n",
    "    .sort([\"epoch_time\", \"s\"])\n",
    "    .with_columns(pl.col(\"s\").shift(-1).over([\"lane\", \"epoch_time\"]).alias(\"leader_s\"))\n",
    "    .select(\n",
    "        pl.col(\"object_id\").alias(\"vehicle_id\"),\n",
    "        \"lane\",\n",
    "        \"epoch_time\",\n",
    "        \"utm_x\",\n",
    "        \"utm_y\",\n",
    "        (pl.col(\"leader_s\") - pl.col(\"s\")).alias(\"gap\"),\n",
    "        pl.col(\"f32_velocityInDir_mps\").alias(\"speed\"),\n",
    "        ((pl.col('epoch_time') - pl.col('epoch_time').min()).dt.total_milliseconds() / 1000).alias('vehicle_time')\n",
    "    )\n",
    "    .sort('vehicle_id', \"epoch_time\")\n",
    ")"
   ]
  },
  {
   "cell_type": "code",
   "execution_count": 26,
   "metadata": {},
   "outputs": [],
   "source": [
    "from scipy.signal import butter, filtfilt, freqz, sosfiltfilt\n",
    "import matplotlib.pyplot as plt\n",
    "\n",
    "\n",
    "follower_id = 7446\n",
    "\n",
    "\n",
    "def butter_lowpass(cutoff, fs, order=5):\n",
    "    nyq = 0.5 * fs\n",
    "    normal_cutoff = cutoff / nyq\n",
    "    sos = butter(order, normal_cutoff, btype=\"low\", analog=False, output=\"sos\")\n",
    "    return sos\n",
    "\n",
    "\n",
    "sos = butter_lowpass(0.25, 1 / 0.1, order=5)\n",
    "\n",
    "\n",
    "def butter_lowpass_filter(\n",
    "    data,\n",
    "):\n",
    "    # normalize data\n",
    "    # max_val = np.max(data)\n",
    "    # data = data / max_val\n",
    "    # b, a = butter_lowpass(cutoff, fs, order=order)\n",
    "    try:\n",
    "        x = sosfiltfilt(\n",
    "            sos,\n",
    "            data,\n",
    "        )\n",
    "\n",
    "        if len(x) < len(data):\n",
    "            return data\n",
    "        return x\n",
    "    except:\n",
    "        return data\n",
    "\n",
    "    return x\n",
    "\n",
    "\n",
    "def butter_lowpass_filter_plot(\n",
    "    df: pl.DataFrame, col: str, vehicle_col: str\n",
    ") -> pl.DataFrame:\n",
    "    return df.with_columns(\n",
    "        pl.col(col)\n",
    "        .map_elements(\n",
    "            # lambda x: pl.Series(\n",
    "            #     name=f\"{col}_lowpass\",\n",
    "            #     values=(\n",
    "            #         # if x.is_not_null().all()\n",
    "            #         # else x.to_numpy()\n",
    "            #     ),\n",
    "            #     dtype=pl.Float64,\n",
    "            # ),\n",
    "            lambda x: pl.Series(\n",
    "                values=butter_lowpass_filter(\n",
    "                    x.to_numpy(),\n",
    "                ),\n",
    "                dtype=float,\n",
    "            ),\n",
    "            # return_dtype=pl.Float64,\n",
    "            # strategy='threading'\n",
    "        )\n",
    "        .over(vehicle_col)\n",
    "        .alias(f\"{col}_lowpass\")\n",
    "    )\n",
    "\n",
    "\n",
    "small_df = res_df.pipe(butter_lowpass_filter_plot, \"speed\", \"vehicle_id\").with_columns(\n",
    "    (pl.col(\"speed_lowpass\").diff() / pl.col(\"vehicle_time\").diff())\n",
    "    .backward_fill(1)\n",
    "    .over(\"vehicle_id\")\n",
    "    .alias(\"lowpass_accel\")\n",
    ")"
   ]
  },
  {
   "cell_type": "code",
   "execution_count": 27,
   "metadata": {},
   "outputs": [
    {
     "data": {
      "text/html": [
       "<div><style>\n",
       ".dataframe > thead > tr,\n",
       ".dataframe > tbody > tr {\n",
       "  text-align: right;\n",
       "  white-space: pre-wrap;\n",
       "}\n",
       "</style>\n",
       "<small>shape: (1_177_740, 10)</small><table border=\"1\" class=\"dataframe\"><thead><tr><th>vehicle_id</th><th>lane</th><th>epoch_time</th><th>utm_x</th><th>utm_y</th><th>gap</th><th>speed</th><th>vehicle_time</th><th>speed_lowpass</th><th>lowpass_accel</th></tr><tr><td>u64</td><td>str</td><td>datetime[ms, US/Central]</td><td>f64</td><td>f64</td><td>f64</td><td>f32</td><td>f64</td><td>f64</td><td>f64</td></tr></thead><tbody><tr><td>2158106745633146</td><td>&quot;WBL1&quot;</td><td>2023-03-13 07:44:38.800 CDT</td><td>442763.342945</td><td>3.6775e6</td><td>0.32</td><td>1.738027</td><td>2678.8</td><td>1.632069</td><td>2.90375</td></tr><tr><td>2158106745633146</td><td>&quot;WBL1&quot;</td><td>2023-03-13 07:44:38.900 CDT</td><td>442763.199271</td><td>3.6775e6</td><td>1.030002</td><td>1.738027</td><td>2678.9</td><td>1.922444</td><td>2.90375</td></tr><tr><td>2158106745633146</td><td>&quot;WBL1&quot;</td><td>2023-03-13 07:44:39 CDT</td><td>442762.617868</td><td>3.6775e6</td><td>0.980001</td><td>2.1094</td><td>2679.0</td><td>2.212871</td><td>2.904268</td></tr><tr><td>2158106745633146</td><td>&quot;WBL1&quot;</td><td>2023-03-13 07:44:39.100 CDT</td><td>442762.109699</td><td>3.6775e6</td><td>1.040002</td><td>2.428074</td><td>2679.1</td><td>2.502461</td><td>2.895897</td></tr><tr><td>2158106745633146</td><td>&quot;WBL1&quot;</td><td>2023-03-13 07:44:39.200 CDT</td><td>442761.407387</td><td>3.6775e6</td><td>0.550001</td><td>2.879037</td><td>2679.2</td><td>2.79041</td><td>2.879494</td></tr><tr><td>2158106745633146</td><td>&quot;WBL1&quot;</td><td>2023-03-13 07:44:39.300 CDT</td><td>442760.971141</td><td>3.6775e6</td><td>0.530001</td><td>3.03756</td><td>2679.3</td><td>3.07601</td><td>2.855997</td></tr><tr><td>2158106745633146</td><td>&quot;WBL1&quot;</td><td>2023-03-13 07:44:39.400 CDT</td><td>442760.203987</td><td>3.6775e6</td><td>0.900001</td><td>3.475389</td><td>2679.4</td><td>3.35865</td><td>2.826402</td></tr><tr><td>2158106745633146</td><td>&quot;WBL1&quot;</td><td>2023-03-13 07:44:39.500 CDT</td><td>442759.288912</td><td>3.6775e6</td><td>0.950001</td><td>3.945798</td><td>2679.5</td><td>3.637824</td><td>2.791737</td></tr><tr><td>2158106745633146</td><td>&quot;WBL1&quot;</td><td>2023-03-13 07:44:39.600 CDT</td><td>442758.6812</td><td>3.6775e6</td><td>1.120002</td><td>4.175154</td><td>2679.6</td><td>3.913128</td><td>2.753044</td></tr><tr><td>2158106745633146</td><td>&quot;WBL1&quot;</td><td>2023-03-13 07:44:39.700 CDT</td><td>442758.011656</td><td>3.6775e6</td><td>1.080002</td><td>4.374054</td><td>2679.7</td><td>4.184263</td><td>2.711351</td></tr><tr><td>2158106745633146</td><td>&quot;WBL1&quot;</td><td>2023-03-13 07:44:39.800 CDT</td><td>442757.212807</td><td>3.6775e6</td><td>1.180002</td><td>4.693248</td><td>2679.8</td><td>4.451028</td><td>2.667653</td></tr><tr><td>2158106745633146</td><td>&quot;WBL1&quot;</td><td>2023-03-13 07:44:39.900 CDT</td><td>442756.917187</td><td>3.6775e6</td><td>1.420002</td><td>4.785181</td><td>2679.9</td><td>4.713318</td><td>2.622891</td></tr><tr><td>&hellip;</td><td>&hellip;</td><td>&hellip;</td><td>&hellip;</td><td>&hellip;</td><td>&hellip;</td><td>&hellip;</td><td>&hellip;</td><td>&hellip;</td><td>&hellip;</td></tr><tr><td>18445757101202569361</td><td>&quot;EBL1&quot;</td><td>2023-03-13 07:04:09.100 CDT</td><td>443335.930414</td><td>3.6776e6</td><td>null</td><td>22.562773</td><td>249.1</td><td>22.061095</td><td>1.020849</td></tr><tr><td>18445757101202569361</td><td>&quot;EBL1&quot;</td><td>2023-03-13 07:04:09.200 CDT</td><td>443338.095451</td><td>3.6776e6</td><td>null</td><td>22.593346</td><td>249.2</td><td>22.157954</td><td>0.968587</td></tr><tr><td>18445757101202569361</td><td>&quot;EBL1&quot;</td><td>2023-03-13 07:04:09.300 CDT</td><td>443340.46574</td><td>3.6776e6</td><td>null</td><td>22.730751</td><td>249.3</td><td>22.249097</td><td>0.911431</td></tr><tr><td>18445757101202569361</td><td>&quot;EBL1&quot;</td><td>2023-03-13 07:04:09.400 CDT</td><td>443342.672156</td><td>3.6776e6</td><td>null</td><td>22.734085</td><td>249.4</td><td>22.334116</td><td>0.850191</td></tr><tr><td>18445757101202569361</td><td>&quot;EBL1&quot;</td><td>2023-03-13 07:04:09.500 CDT</td><td>443344.943138</td><td>3.6776e6</td><td>null</td><td>22.763557</td><td>249.5</td><td>22.412694</td><td>0.785778</td></tr><tr><td>18445757101202569361</td><td>&quot;EBL1&quot;</td><td>2023-03-13 07:04:09.600 CDT</td><td>443347.23675</td><td>3.6776e6</td><td>null</td><td>22.781471</td><td>249.6</td><td>22.484612</td><td>0.719177</td></tr><tr><td>18445757101202569361</td><td>&quot;EBL1&quot;</td><td>2023-03-13 07:04:09.700 CDT</td><td>443349.538181</td><td>3.6776e6</td><td>null</td><td>22.805901</td><td>249.7</td><td>22.549754</td><td>0.651423</td></tr><tr><td>18445757101202569361</td><td>&quot;EBL1&quot;</td><td>2023-03-13 07:04:09.800 CDT</td><td>443351.879875</td><td>3.6776e6</td><td>null</td><td>22.847229</td><td>249.8</td><td>22.60811</td><td>0.58356</td></tr><tr><td>18445757101202569361</td><td>&quot;EBL1&quot;</td><td>2023-03-13 07:04:09.900 CDT</td><td>443354.226833</td><td>3.6776e6</td><td>null</td><td>22.925095</td><td>249.9</td><td>22.659772</td><td>0.51662</td></tr><tr><td>18445757101202569361</td><td>&quot;EBL1&quot;</td><td>2023-03-13 07:04:10 CDT</td><td>443356.570899</td><td>3.6776e6</td><td>null</td><td>22.979399</td><td>250.0</td><td>22.704931</td><td>0.451586</td></tr><tr><td>18445757101202569361</td><td>&quot;EBL1&quot;</td><td>2023-03-13 07:04:10.100 CDT</td><td>443358.74881</td><td>3.6776e6</td><td>null</td><td>22.923494</td><td>250.1</td><td>22.743867</td><td>0.389365</td></tr><tr><td>18445757101202569361</td><td>&quot;EBL1&quot;</td><td>2023-03-13 07:04:10.200 CDT</td><td>443361.162452</td><td>3.6776e6</td><td>null</td><td>23.003288</td><td>250.2</td><td>22.776944</td><td>0.330762</td></tr></tbody></table></div>"
      ],
      "text/plain": [
       "shape: (1_177_740, 10)\n",
       "┌────────────┬──────┬────────────┬────────────┬───┬───────────┬────────────┬───────────┬───────────┐\n",
       "│ vehicle_id ┆ lane ┆ epoch_time ┆ utm_x      ┆ … ┆ speed     ┆ vehicle_ti ┆ speed_low ┆ lowpass_a │\n",
       "│ ---        ┆ ---  ┆ ---        ┆ ---        ┆   ┆ ---       ┆ me         ┆ pass      ┆ ccel      │\n",
       "│ u64        ┆ str  ┆ datetime[m ┆ f64        ┆   ┆ f32       ┆ ---        ┆ ---       ┆ ---       │\n",
       "│            ┆      ┆ s, US/Cent ┆            ┆   ┆           ┆ f64        ┆ f64       ┆ f64       │\n",
       "│            ┆      ┆ ral]       ┆            ┆   ┆           ┆            ┆           ┆           │\n",
       "╞════════════╪══════╪════════════╪════════════╪═══╪═══════════╪════════════╪═══════════╪═══════════╡\n",
       "│ 2158106745 ┆ WBL1 ┆ 2023-03-13 ┆ 442763.342 ┆ … ┆ 1.738027  ┆ 2678.8     ┆ 1.632069  ┆ 2.90375   │\n",
       "│ 633146     ┆      ┆ 07:44:38.8 ┆ 945        ┆   ┆           ┆            ┆           ┆           │\n",
       "│            ┆      ┆ 00 CDT     ┆            ┆   ┆           ┆            ┆           ┆           │\n",
       "│ 2158106745 ┆ WBL1 ┆ 2023-03-13 ┆ 442763.199 ┆ … ┆ 1.738027  ┆ 2678.9     ┆ 1.922444  ┆ 2.90375   │\n",
       "│ 633146     ┆      ┆ 07:44:38.9 ┆ 271        ┆   ┆           ┆            ┆           ┆           │\n",
       "│            ┆      ┆ 00 CDT     ┆            ┆   ┆           ┆            ┆           ┆           │\n",
       "│ 2158106745 ┆ WBL1 ┆ 2023-03-13 ┆ 442762.617 ┆ … ┆ 2.1094    ┆ 2679.0     ┆ 2.212871  ┆ 2.904268  │\n",
       "│ 633146     ┆      ┆ 07:44:39   ┆ 868        ┆   ┆           ┆            ┆           ┆           │\n",
       "│            ┆      ┆ CDT        ┆            ┆   ┆           ┆            ┆           ┆           │\n",
       "│ 2158106745 ┆ WBL1 ┆ 2023-03-13 ┆ 442762.109 ┆ … ┆ 2.428074  ┆ 2679.1     ┆ 2.502461  ┆ 2.895897  │\n",
       "│ 633146     ┆      ┆ 07:44:39.1 ┆ 699        ┆   ┆           ┆            ┆           ┆           │\n",
       "│            ┆      ┆ 00 CDT     ┆            ┆   ┆           ┆            ┆           ┆           │\n",
       "│ …          ┆ …    ┆ …          ┆ …          ┆ … ┆ …         ┆ …          ┆ …         ┆ …         │\n",
       "│ 1844575710 ┆ EBL1 ┆ 2023-03-13 ┆ 443354.226 ┆ … ┆ 22.925095 ┆ 249.9      ┆ 22.659772 ┆ 0.51662   │\n",
       "│ 1202569361 ┆      ┆ 07:04:09.9 ┆ 833        ┆   ┆           ┆            ┆           ┆           │\n",
       "│            ┆      ┆ 00 CDT     ┆            ┆   ┆           ┆            ┆           ┆           │\n",
       "│ 1844575710 ┆ EBL1 ┆ 2023-03-13 ┆ 443356.570 ┆ … ┆ 22.979399 ┆ 250.0      ┆ 22.704931 ┆ 0.451586  │\n",
       "│ 1202569361 ┆      ┆ 07:04:10   ┆ 899        ┆   ┆           ┆            ┆           ┆           │\n",
       "│            ┆      ┆ CDT        ┆            ┆   ┆           ┆            ┆           ┆           │\n",
       "│ 1844575710 ┆ EBL1 ┆ 2023-03-13 ┆ 443358.748 ┆ … ┆ 22.923494 ┆ 250.1      ┆ 22.743867 ┆ 0.389365  │\n",
       "│ 1202569361 ┆      ┆ 07:04:10.1 ┆ 81         ┆   ┆           ┆            ┆           ┆           │\n",
       "│            ┆      ┆ 00 CDT     ┆            ┆   ┆           ┆            ┆           ┆           │\n",
       "│ 1844575710 ┆ EBL1 ┆ 2023-03-13 ┆ 443361.162 ┆ … ┆ 23.003288 ┆ 250.2      ┆ 22.776944 ┆ 0.330762  │\n",
       "│ 1202569361 ┆      ┆ 07:04:10.2 ┆ 452        ┆   ┆           ┆            ┆           ┆           │\n",
       "│            ┆      ┆ 00 CDT     ┆            ┆   ┆           ┆            ┆           ┆           │\n",
       "└────────────┴──────┴────────────┴────────────┴───┴───────────┴────────────┴───────────┴───────────┘"
      ]
     },
     "execution_count": 27,
     "metadata": {},
     "output_type": "execute_result"
    }
   ],
   "source": [
    "small_df"
   ]
  }
 ],
 "metadata": {
  "kernelspec": {
   "display_name": "venv",
   "language": "python",
   "name": "python3"
  },
  "language_info": {
   "codemirror_mode": {
    "name": "ipython",
    "version": 3
   },
   "file_extension": ".py",
   "mimetype": "text/x-python",
   "name": "python",
   "nbconvert_exporter": "python",
   "pygments_lexer": "ipython3",
   "version": "3.11.5"
  }
 },
 "nbformat": 4,
 "nbformat_minor": 2
}
