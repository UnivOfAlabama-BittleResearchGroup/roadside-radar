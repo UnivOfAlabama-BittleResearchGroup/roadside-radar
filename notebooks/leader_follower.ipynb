{
 "cells": [
  {
   "cell_type": "markdown",
   "metadata": {},
   "source": [
    "# Using the Processed & Joined DataFrame to Identify Leader & Follower Pairs"
   ]
  },
  {
   "cell_type": "code",
   "execution_count": null,
   "metadata": {},
   "outputs": [],
   "source": [
    "%load_ext autoreload\n",
    "%autoreload 2"
   ]
  },
  {
   "cell_type": "code",
   "execution_count": null,
   "metadata": {},
   "outputs": [],
   "source": [
    "%load_ext autoreload\n",
    "%autoreload 2\n",
    "\n",
    "# find the root of the project\n",
    "import os\n",
    "from pathlib import Path\n",
    "import polars as pl\n",
    "\n",
    "ROOT = Path(os.getcwd()).parent\n",
    "while not ROOT.joinpath(\".git\").exists():\n",
    "    ROOT = ROOT.parent\n",
    "\n",
    "# add the root to the python path\n",
    "import sys\n",
    "\n",
    "sys.path.append(str(ROOT))"
   ]
  },
  {
   "cell_type": "markdown",
   "metadata": {},
   "source": [
    "## Read in the Processed Trajectory Data"
   ]
  },
  {
   "cell_type": "code",
   "execution_count": null,
   "metadata": {},
   "outputs": [],
   "source": [
    "trajectory_df = pl.read_parquet(\n",
    "    ROOT / \"notebooks\" / \"clean_workflow\" / \"data\" / \"merged_trajectories.parquet\"\n",
    ").with_columns(\n",
    "    pl.struct([\"lane\", \"lane_index\"]).hash().alias(\"lane_hash\"),\n",
    ")"
   ]
  },
  {
   "cell_type": "code",
   "execution_count": null,
   "metadata": {},
   "outputs": [],
   "source": [
    "trajectory_df.head()"
   ]
  },
  {
   "cell_type": "markdown",
   "metadata": {},
   "source": [
    "### Build a Match DataFrame"
   ]
  },
  {
   "cell_type": "code",
   "execution_count": null,
   "metadata": {},
   "outputs": [],
   "source": [
    "from src.association.pipelines import build_match_df\n",
    "\n",
    "matching_df = build_match_df(\n",
    "    trajectory_df,\n",
    "    s_thresh=200,\n",
    "    object_id_col=\"vehicle_id\",\n",
    "    s_col=\"s_smooth\",\n",
    ").with_columns(\n",
    "    # calculate the time headway\n",
    "    time_headway=pl.col(\"s_gap\")\n",
    "    / pl.col(\"s_velocity_smooth\"),\n",
    ")\n",
    "\n",
    "matching_df.head()"
   ]
  },
  {
   "cell_type": "markdown",
   "metadata": {},
   "source": [
    "### Group the Trajectories and Rank Them Based on Un-broken Duration"
   ]
  },
  {
   "cell_type": "code",
   "execution_count": null,
   "metadata": {},
   "outputs": [],
   "source": [
    "pair_df = (\n",
    "    matching_df.sort([\"vehicle_id\", \"epoch_time\"])\n",
    "    .with_columns(\n",
    "        leader_change=(pl.col(\"leader\") != pl.col(\"leader\").shift(1).backward_fill())\n",
    "        .cumsum()\n",
    "        .over(\"vehicle_id\")\n",
    "    )\n",
    "    .with_columns(\n",
    "        leader_follower=pl.struct([\"vehicle_id\", \"leader\", \"leader_change\"]),\n",
    "        leader_follower_hash=pl.struct(\n",
    "            [\"vehicle_id\", \"leader\", \"leader_change\"]\n",
    "        ).hash(),\n",
    "    )\n",
    "    .group_by(\"leader_follower_hash\")\n",
    "    .agg(\n",
    "        pl.col(\"vehicle_id\").first().alias(\"vehicle_id\"),\n",
    "        pl.col(\"leader\").first().alias(\"leader\"),\n",
    "        pl.col(\"leader_change\").first().alias(\"leader_change\"),\n",
    "        pl.col(\"s_velocity_smooth\").mean().alias(\"s_velocity_smooth\"),\n",
    "        pl.col(\"time_headway\")\n",
    "        .filter(pl.col(\"s_velocity_smooth\").abs() > 5)\n",
    "        .mean()\n",
    "        .alias(\"time_headway\"),\n",
    "        pl.col(\"time_headway\")\n",
    "        .filter(pl.col(\"s_velocity_smooth\").abs() > 5)\n",
    "        .min()\n",
    "        .alias(\"time_headway_min\"),\n",
    "        pl.col(\"time_headway\")\n",
    "        .filter(pl.col(\"s_velocity_smooth\").abs() > 5)\n",
    "        .max()\n",
    "        .alias(\"time_headway_max\"),\n",
    "        (-1 * pl.col(\"s_gap\").mean()).alias(\"s_gap\"),\n",
    "        (-1 * pl.col(\"s_gap\").min()).alias(\"s_gap_min\"),\n",
    "        (pl.col(\"s_smooth\").first() - pl.col(\"s_gap\").last()).alias(\"s_distance\"),\n",
    "        pl.col(\"epoch_time\").min().alias(\"start_time\"),\n",
    "        pl.col(\"epoch_time\").max().alias(\"end_time\"),\n",
    "        pl.col(\"epoch_time\").count().alias(\"num_points\"),\n",
    "    )\n",
    "    .with_columns(\n",
    "        # calculate the total time in follower mode\n",
    "        total_time=(pl.col(\"end_time\") - pl.col(\"start_time\"))\n",
    "        / 1000,\n",
    "    )\n",
    "    .filter(\n",
    "        # filter out pairs with less than 10 seconds of follower time\n",
    "        (pl.col(\"total_time\") > 30)\n",
    "        & (pl.col(\"time_headway_min\").is_between(0.5, 5))\n",
    "        & (pl.col(\"s_distance\") > 50)\n",
    "    )\n",
    ")\n",
    "\n",
    "pair_df.head()"
   ]
  },
  {
   "cell_type": "code",
   "execution_count": null,
   "metadata": {},
   "outputs": [],
   "source": [
    "pair_df.sort(pl.col(\"total_time\"))"
   ]
  },
  {
   "cell_type": "markdown",
   "metadata": {},
   "source": [
    "## Test Querying the DataFrame"
   ]
  },
  {
   "cell_type": "code",
   "execution_count": null,
   "metadata": {},
   "outputs": [],
   "source": [
    "trajectory_df = pl.scan_parquet(\n",
    "    ROOT / \"notebooks\" / \"clean_workflow\" / \"data\" / \"merged_trajectories.parquet\"\n",
    ")"
   ]
  },
  {
   "cell_type": "code",
   "execution_count": null,
   "metadata": {},
   "outputs": [],
   "source": [
    "def load_trajectories(\n",
    "    follower_id: int,\n",
    "    leader_id: int,\n",
    "    trajectory_df: pl.LazyFrame,\n",
    ") -> pl.DataFrame:\n",
    "    interest_df = trajectory_df.filter(\n",
    "        (pl.col(\"vehicle_id\") == follower_id) | (pl.col(\"vehicle_id\") == leader_id)\n",
    "    )\n",
    "\n",
    "    return (\n",
    "        interest_df.filter(\n",
    "            pl.col(\"epoch_time\").is_between(\n",
    "                pl.max_horizontal(\n",
    "                    [\n",
    "                        pl.col(\"epoch_time\")\n",
    "                        .filter(pl.col(\"vehicle_id\") == follower_id)\n",
    "                        .first(),\n",
    "                        pl.col(\"epoch_time\")\n",
    "                        .filter(pl.col(\"vehicle_id\") == leader_id)\n",
    "                        .first(),\n",
    "                    ]\n",
    "                ),\n",
    "                pl.min_horizontal(\n",
    "                    [\n",
    "                        pl.col(\"epoch_time\")\n",
    "                        .filter(pl.col(\"vehicle_id\") == follower_id)\n",
    "                        .last(),\n",
    "                        pl.col(\"epoch_time\")\n",
    "                        .filter(pl.col(\"vehicle_id\") == leader_id)\n",
    "                        .last(),\n",
    "                    ]\n",
    "                )\n",
    "            )\n",
    "        )\n",
    "        .with_columns(\n",
    "            (pl.col(\"s_smooth\").max() - pl.col(\"s_smooth\")),\n",
    "            ((pl.col('epoch_time') - pl.col('epoch_time').first()) / 1000).alias('sim_time')\n",
    "        )\n",
    "        .with_columns(\n",
    "            pl.col('s_smooth').shift_and_fill(\n",
    "                pl.col('s_smooth').first() - pl.col('s_velocity_smooth').first() * 0.1,\n",
    "            ).over('vehicle_id')\n",
    "        )\n",
    "        .collect()\n",
    "    )\n",
    "\n",
    "\n",
    "match_df = pair_df.sample(1)\n",
    "\n",
    "\n",
    "test_df = load_trajectories(\n",
    "    follower_id=match_df[\"vehicle_id\"][0],\n",
    "    leader_id=match_df[\"leader\"][0],\n",
    "    trajectory_df=trajectory_df,\n",
    ")"
   ]
  },
  {
   "cell_type": "code",
   "execution_count": null,
   "metadata": {},
   "outputs": [],
   "source": [
    "import plotly.graph_objects as go\n",
    "\n",
    "veh = 5100\n",
    "\n",
    "follower_df = test_df.filter(pl.col(\"vehicle_id\") == match_df[\"vehicle_id\"][0])\n",
    "\n",
    "fig = go.Figure()\n",
    "\n",
    "fig.add_trace(\n",
    "    go.Scatter(\n",
    "        x=follower_df[\"sim_time\"],\n",
    "        y=follower_df[\"s_smooth\"],\n",
    "        mode=\"markers\",\n",
    "        marker=dict(color=\"blue\", size=2),\n",
    "        name=\"Follower\",\n",
    "    )\n",
    ")\n",
    "\n",
    "\n",
    "leader_df = test_df.filter(pl.col(\"vehicle_id\") == match_df[\"leader\"][0])\n",
    "\n",
    "fig.add_trace(\n",
    "    go.Scatter(\n",
    "        x=leader_df[\"sim_time\"],\n",
    "        y=leader_df[\"s_smooth\"],\n",
    "        mode=\"markers\",\n",
    "        marker=dict(color=\"red\", size=2),\n",
    "        name=\"Leader\",\n",
    "    )\n",
    ")\n",
    "\n",
    "\n",
    "fig.show()"
   ]
  },
  {
   "cell_type": "code",
   "execution_count": null,
   "metadata": {},
   "outputs": [],
   "source": [
    "import plotly.graph_objects as go\n",
    "\n",
    "follower_df = test_df.filter(pl.col(\"vehicle_id\") == match_df[\"vehicle_id\"][0])\n",
    "print(match_df[\"vehicle_id\"][0])\n",
    "\n",
    "fig = go.Figure()\n",
    "\n",
    "fig.add_trace(\n",
    "    go.Scatter(\n",
    "        x=follower_df[\"sim_time\"],\n",
    "        y=follower_df[\"s_velocity_smooth\"] * -1,\n",
    "        mode=\"markers\",\n",
    "        marker=dict(color=\"blue\", size=2),\n",
    "        name=\"Follower\",\n",
    "    )\n",
    ")\n",
    "\n",
    "\n",
    "leader_df = test_df.filter(pl.col(\"vehicle_id\") == match_df[\"leader\"][0])\n",
    "print(match_df[\"leader\"][0])\n",
    "\n",
    "fig.add_trace(\n",
    "    go.Scatter(\n",
    "        x=leader_df[\"sim_time\"],\n",
    "        y=leader_df[\"s_velocity_smooth\"] * -1,\n",
    "        mode=\"markers\",\n",
    "        marker=dict(color=\"red\", size=2),\n",
    "        name=\"Leader\",\n",
    "    )\n",
    ")\n",
    "\n",
    "\n",
    "fig.show()"
   ]
  },
  {
   "cell_type": "code",
   "execution_count": null,
   "metadata": {},
   "outputs": [],
   "source": [
    "pair_df.write_database(\n",
    "    \n",
    ")"
   ]
  }
 ],
 "metadata": {
  "kernelspec": {
   "display_name": "venv",
   "language": "python",
   "name": "python3"
  },
  "language_info": {
   "codemirror_mode": {
    "name": "ipython",
    "version": 3
   },
   "file_extension": ".py",
   "mimetype": "text/x-python",
   "name": "python",
   "nbconvert_exporter": "python",
   "pygments_lexer": "ipython3",
   "version": "3.9.18"
  }
 },
 "nbformat": 4,
 "nbformat_minor": 2
}
