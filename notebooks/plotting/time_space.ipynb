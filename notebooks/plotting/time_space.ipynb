{
 "cells": [
  {
   "cell_type": "markdown",
   "metadata": {},
   "source": [
    "# Detector Validation\n"
   ]
  },
  {
   "cell_type": "code",
   "execution_count": 1,
   "metadata": {},
   "outputs": [],
   "source": [
    "# ruff: noqa: E402\n",
    "%load_ext autoreload\n",
    "%autoreload 2\n",
    "\n",
    "# find the root of the project\n",
    "import os\n",
    "from pathlib import Path\n",
    "import sys\n",
    "import polars as pl\n",
    "\n",
    "ROOT = Path(os.getcwd()).parent\n",
    "while not ROOT.joinpath(\".git\").exists():\n",
    "    ROOT = ROOT.parent\n",
    "\n",
    "# add the root to the python path\n",
    "sys.path.append(str(ROOT))"
   ]
  },
  {
   "cell_type": "markdown",
   "metadata": {},
   "source": [
    "## Read in the Processed Trajectories\n",
    "\n",
    "The detector is in EBL1 Index 2\n"
   ]
  },
  {
   "cell_type": "code",
   "execution_count": 2,
   "metadata": {},
   "outputs": [
    {
     "data": {
      "text/html": [
       "<div><style>\n",
       ".dataframe > thead > tr,\n",
       ".dataframe > tbody > tr {\n",
       "  text-align: right;\n",
       "  white-space: pre-wrap;\n",
       "}\n",
       "</style>\n",
       "<small>shape: (5, 9)</small><table border=\"1\" class=\"dataframe\"><thead><tr><th>epoch_time_cst</th><th>vehicle_id</th><th>lane</th><th>lane_index</th><th>association_distance</th><th>s_smooth</th><th>s_velocity_smooth</th><th>length_s</th><th>Harper</th></tr><tr><td>datetime[ms, US/Central]</td><td>u64</td><td>str</td><td>u16</td><td>f32</td><td>f64</td><td>f32</td><td>f64</td><td>bool</td></tr></thead><tbody><tr><td>2023-03-12 16:41:27.300 CDT</td><td>0</td><td>&quot;WBL1&quot;</td><td>0</td><td>null</td><td>1044.388272</td><td>22.171509</td><td>3.613847</td><td>false</td></tr><tr><td>2023-03-12 16:41:27.300 CDT</td><td>1</td><td>&quot;EBL1&quot;</td><td>0</td><td>null</td><td>643.46732</td><td>21.330873</td><td>5.367028</td><td>false</td></tr><tr><td>2023-03-12 16:41:27.300 CDT</td><td>2</td><td>&quot;EBL1&quot;</td><td>1</td><td>null</td><td>1084.416652</td><td>16.189831</td><td>4.784425</td><td>true</td></tr><tr><td>2023-03-12 16:41:27.300 CDT</td><td>3</td><td>&quot;EBL1&quot;</td><td>0</td><td>null</td><td>920.065366</td><td>23.284044</td><td>9.615423</td><td>false</td></tr><tr><td>2023-03-12 16:41:27.300 CDT</td><td>4</td><td>&quot;EBL1&quot;</td><td>0</td><td>null</td><td>1205.912551</td><td>3.290045</td><td>1.690091</td><td>true</td></tr></tbody></table></div>"
      ],
      "text/plain": [
       "shape: (5, 9)\n",
       "┌─────────────┬────────────┬──────┬────────────┬───┬─────────────┬─────────────┬──────────┬────────┐\n",
       "│ epoch_time_ ┆ vehicle_id ┆ lane ┆ lane_index ┆ … ┆ s_smooth    ┆ s_velocity_ ┆ length_s ┆ Harper │\n",
       "│ cst         ┆ ---        ┆ ---  ┆ ---        ┆   ┆ ---         ┆ smooth      ┆ ---      ┆ ---    │\n",
       "│ ---         ┆ u64        ┆ str  ┆ u16        ┆   ┆ f64         ┆ ---         ┆ f64      ┆ bool   │\n",
       "│ datetime[ms ┆            ┆      ┆            ┆   ┆             ┆ f32         ┆          ┆        │\n",
       "│ ,           ┆            ┆      ┆            ┆   ┆             ┆             ┆          ┆        │\n",
       "│ US/Central] ┆            ┆      ┆            ┆   ┆             ┆             ┆          ┆        │\n",
       "╞═════════════╪════════════╪══════╪════════════╪═══╪═════════════╪═════════════╪══════════╪════════╡\n",
       "│ 2023-03-12  ┆ 0          ┆ WBL1 ┆ 0          ┆ … ┆ 1044.388272 ┆ 22.171509   ┆ 3.613847 ┆ false  │\n",
       "│ 16:41:27.30 ┆            ┆      ┆            ┆   ┆             ┆             ┆          ┆        │\n",
       "│ 0 CDT       ┆            ┆      ┆            ┆   ┆             ┆             ┆          ┆        │\n",
       "│ 2023-03-12  ┆ 1          ┆ EBL1 ┆ 0          ┆ … ┆ 643.46732   ┆ 21.330873   ┆ 5.367028 ┆ false  │\n",
       "│ 16:41:27.30 ┆            ┆      ┆            ┆   ┆             ┆             ┆          ┆        │\n",
       "│ 0 CDT       ┆            ┆      ┆            ┆   ┆             ┆             ┆          ┆        │\n",
       "│ 2023-03-12  ┆ 2          ┆ EBL1 ┆ 1          ┆ … ┆ 1084.416652 ┆ 16.189831   ┆ 4.784425 ┆ true   │\n",
       "│ 16:41:27.30 ┆            ┆      ┆            ┆   ┆             ┆             ┆          ┆        │\n",
       "│ 0 CDT       ┆            ┆      ┆            ┆   ┆             ┆             ┆          ┆        │\n",
       "│ 2023-03-12  ┆ 3          ┆ EBL1 ┆ 0          ┆ … ┆ 920.065366  ┆ 23.284044   ┆ 9.615423 ┆ false  │\n",
       "│ 16:41:27.30 ┆            ┆      ┆            ┆   ┆             ┆             ┆          ┆        │\n",
       "│ 0 CDT       ┆            ┆      ┆            ┆   ┆             ┆             ┆          ┆        │\n",
       "│ 2023-03-12  ┆ 4          ┆ EBL1 ┆ 0          ┆ … ┆ 1205.912551 ┆ 3.290045    ┆ 1.690091 ┆ true   │\n",
       "│ 16:41:27.30 ┆            ┆      ┆            ┆   ┆             ┆             ┆          ┆        │\n",
       "│ 0 CDT       ┆            ┆      ┆            ┆   ┆             ┆             ┆          ┆        │\n",
       "└─────────────┴────────────┴──────┴────────────┴───┴─────────────┴─────────────┴──────────┴────────┘"
      ]
     },
     "execution_count": 2,
     "metadata": {},
     "output_type": "execute_result"
    }
   ],
   "source": [
    "radar_df = (\n",
    "    pl.scan_parquet(\n",
    "        ROOT / \"data\" / \"vppc_ext_data.parquet\",\n",
    "    )\n",
    "    # .filter((pl.col(\"lane\") == \"EBL1\") & (pl.col(\"lane_index\") == 1))\n",
    "    .sort(\"epoch_time_cst\")\n",
    "    .set_sorted(\"epoch_time_cst\")\n",
    "    .collect()\n",
    ")\n",
    "\n",
    "radar_df.head()"
   ]
  },
  {
   "cell_type": "markdown",
   "metadata": {},
   "source": [
    "## Read in the Traffic Signals"
   ]
  },
  {
   "cell_type": "code",
   "execution_count": 3,
   "metadata": {},
   "outputs": [],
   "source": [
    "import polars as pl\n",
    "from src.plotting.traffic_signals import open_signal_df, add_signals_to_plot\n",
    "\n",
    "\n",
    "signal_df = open_signal_df(ROOT / \"data\" / \"tl_logs\" / \"03_13_2023_TL.csv\", offset=2.9)"
   ]
  },
  {
   "cell_type": "markdown",
   "metadata": {},
   "source": [
    "## Plot the Time Space Data"
   ]
  },
  {
   "cell_type": "code",
   "execution_count": 4,
   "metadata": {},
   "outputs": [
    {
     "data": {
      "application/vnd.jupyter.widget-view+json": {
       "model_id": "8391cdd54f9f49aa828d1be0b2ecea8f",
       "version_major": 2,
       "version_minor": 0
      },
      "text/plain": [
       "Image(value=b'\\x89PNG\\r\\n\\x1a\\n\\x00\\x00\\x00\\rIHDR\\x00\\x00\\x03\\xe8\\x00\\x00\\x02X\\x08\\x06\\x00\\x00\\x00\\xf1\\x1e\\xcc…"
      ]
     },
     "execution_count": 4,
     "metadata": {},
     "output_type": "execute_result"
    }
   ],
   "source": [
    "import plotly.graph_objects as go\n",
    "from src.plotting.time_space import plot_time_space\n",
    "from src.radar import BasicRadar\n",
    "from datetime import timedelta\n",
    "\n",
    "tl = pl.lit(\"2023-03-13 06:50:00\").str.strptime(\n",
    "    pl.Datetime(time_unit=\"ns\", time_zone=\"US/Central\"),\n",
    ")\n",
    "th = pl.lit(\"2023-03-13 07:00:00\").str.strptime(\n",
    "    pl.Datetime(time_unit=\"ns\", time_zone=\"US/Central\"),\n",
    ")\n",
    "\n",
    "plot_radar_df = (\n",
    "    radar_df\n",
    "    # .pipe(BasicRadar.add_cst_timezone)\n",
    "    .filter(\n",
    "        pl.col(\"epoch_time_cst\").is_between(\n",
    "            tl,\n",
    "            th,\n",
    "        )\n",
    "        & (pl.col(\"lane\").str.contains(\"E\"))\n",
    "        & (pl.col(\"lane_index\") == 0)\n",
    "    ).with_columns(pl.col(\"s_smooth\").max() - pl.col(\"s_smooth\"))\n",
    ")\n",
    "\n",
    "\n",
    "fig = plot_time_space(\n",
    "    plot_radar_df,\n",
    "    s_col=\"s_smooth\",\n",
    "    vehicle_col=\"vehicle_id\",\n",
    ")\n",
    "\n",
    "\n",
    "fig = add_signals_to_plot(\n",
    "    signal_df.filter(\n",
    "        pl.col(\"Timestamp\").is_between(\n",
    "            tl - timedelta(seconds=120),\n",
    "            th + timedelta(seconds=120),\n",
    "        )\n",
    "        & (pl.col(\"Phase\") == 6)\n",
    "    ),\n",
    "    fig=fig,\n",
    "    s_mapping={63082002: 1230, 63082003: 830, 63082004: 450},\n",
    ")\n",
    "\n",
    "fig.update_layout(\n",
    "    # use journal paper font\n",
    "    font_family=\"Times New Roman\",\n",
    "    # set the font size\n",
    "    font_size=22,\n",
    "    # set the x_limit\n",
    "    xaxis=dict(\n",
    "        range=[\n",
    "            plot_radar_df[\"epoch_time_cst\"].min(),\n",
    "            plot_radar_df[\"epoch_time_cst\"].max(),\n",
    "        ],\n",
    "    ),\n",
    "    yaxis=dict(\n",
    "        range=[200, 1500],\n",
    "        title=\"S Distance [m]\",\n",
    "    ),\n",
    "    # set the size of the figure\n",
    "    width=1000,\n",
    "    height=600,\n",
    ")\n",
    "\n",
    "\n",
    "# save the figure as png\n",
    "fig.write_image(ROOT / \"data\" / \"figures\" / \"time_space.png\")\n",
    "\n",
    "# display the image\n",
    "from ipywidgets import Image\n",
    "\n",
    "Image(value=open(ROOT / \"data\" / \"figures\" / \"time_space.png\", \"rb\").read())"
   ]
  },
  {
   "cell_type": "code",
   "execution_count": 5,
   "metadata": {},
   "outputs": [],
   "source": [
    "# this is a a stupid way to deal with datetimes, but hack it till you make it\n",
    "tl = pl.lit(\"2023-03-13 06:57:00\").str.strptime(\n",
    "    pl.Datetime(time_unit=\"ns\", time_zone=\"US/Central\"),\n",
    ")\n",
    "\n",
    "tl = plot_radar_df.filter(pl.col(\"epoch_time_cst\") > tl)[\"epoch_time_cst\"].min()\n",
    "\n",
    "\n",
    "fig.update_layout(\n",
    "    # use journal paper font\n",
    "    font_family=\"Times New Roman\",\n",
    "    # set the font size\n",
    "    font_size=22,\n",
    "    # set the x_limit\n",
    "    xaxis=dict(\n",
    "        range=[tl, plot_radar_df[\"epoch_time_cst\"].max()],\n",
    "    ),\n",
    "    yaxis=dict(\n",
    "        range=[200, 1400],\n",
    "        title=\"S Distance [m]\",\n",
    "    ),\n",
    "    # set the size of the figure\n",
    "    width=1000,\n",
    "    height=600,\n",
    ")\n",
    "\n",
    "fig.write_image(ROOT / \"data\" / \"figures\" / \"time_space_small.png\")\n",
    "\n",
    "# fig.show()"
   ]
  },
  {
   "cell_type": "markdown",
   "metadata": {},
   "source": [
    "## Plot Speed and Volume Data"
   ]
  },
  {
   "cell_type": "code",
   "execution_count": null,
   "metadata": {},
   "outputs": [],
   "source": [
    "# get the volume at Harper & Average Speed\n",
    "\n",
    "avg_speed = (\n",
    "    radar_df.filter(\n",
    "        pl.col(\"s_velocity_smooth\").is_between(0, 35)\n",
    "        & pl.col(\"s_velocity_smooth\").is_not_nan()\n",
    "    )\n",
    "    .group_by_dynamic(\"epoch_time_cst\", by=\"lane\", every=\"30m\")\n",
    "    .agg(pl.col(\"s_velocity_smooth\").mean())\n",
    ")\n",
    "\n",
    "\n",
    "volume = (\n",
    "    radar_df.filter(\n",
    "        pl.col(\"s_velocity_smooth\").is_between(0, 35)\n",
    "        & pl.col(\"s_velocity_smooth\").is_not_nan()\n",
    "    )\n",
    "    .with_columns(\n",
    "        pl.col('lane').replace({\n",
    "            'EBL1': 950,\n",
    "            'WBL1': 950\n",
    "        }).cast(float).alias('s_dist')\n",
    "    )\n",
    "    .with_columns(\n",
    "        (pl.col('s_smooth') >= pl.col('s_dist')).alias('gt')\n",
    "    )\n",
    "    .filter(\n",
    "        # indicative of a detector cross\n",
    "        ((pl.col('gt') == 0).any() & (pl.col('gt') == 1).any()).over('vehicle_id')\n",
    "    )\n",
    "    .group_by_dynamic(\"epoch_time_cst\", by=\"lane\", every=\"30m\")\n",
    "    .agg(pl.col(\"vehicle_id\").n_unique() * 2)\n",
    ")"
   ]
  },
  {
   "cell_type": "code",
   "execution_count": null,
   "metadata": {},
   "outputs": [],
   "source": [
    "import matplotlib.pyplot as plt\n",
    "import scienceplots\n",
    "import seaborn as sns\n",
    "\n",
    "engine_color = [0.65, 0.65, 0.65]\n",
    "gps_color = [0, 0, 0.75]\n",
    "plutron_color = [0, 0, 0]\n",
    "alabama = [165, 30, 54]\n",
    "alabama = [i / 255 for i in alabama]\n",
    "\n",
    "plt.style.use([\"science\", \"ieee\"])\n",
    "\n",
    "\n",
    "fig, ax = plt.subplots(figsize=(6, 3))\n",
    "ax2 = ax.twinx()\n",
    "\n",
    "sns.lineplot(\n",
    "    data=avg_speed.with_columns(pl.col(\"epoch_time_cst\").dt.time().cast(str))\n",
    "    .sort(\"epoch_time_cst\")\n",
    "    .to_pandas().drop_duplicates([\"epoch_time_cst\", 'lane']),\n",
    "    x=\"epoch_time_cst\",\n",
    "    y=\"s_velocity_smooth\",\n",
    "    hue=\"lane\",\n",
    "    ax=ax2,\n",
    "    legend=False,\n",
    "    palette=[alabama, engine_color, plutron_color],\n",
    "    linestyle='--'\n",
    "    # style=\"-\"\n",
    "    # dash the lines\n",
    "    # dashes=[(2, 2), (2, 2)]\n",
    ")\n",
    "\n",
    "plot_ = sns.lineplot(\n",
    "    data=volume.with_columns(pl.col(\"epoch_time_cst\").dt.time().cast(str))\n",
    "    .sort(\"epoch_time_cst\")\n",
    "    .to_pandas().drop_duplicates([\"epoch_time_cst\", 'lane']),\n",
    "    x=\"epoch_time_cst\",\n",
    "    y=\"vehicle_id\",\n",
    "    hue=\"lane\",\n",
    "    ax=ax,\n",
    "    legend=True,\n",
    "    palette=[alabama, engine_color, plutron_color],\n",
    "    # style=\"-\"\n",
    "    # dash the lines\n",
    "    # dashes=[(2, 2), (2, 2)]\n",
    ")\n",
    "\n",
    "for ind, label in enumerate(plot_.get_xticklabels()):\n",
    "    if ind % 5 == 0:  # every 10th label is kept\n",
    "        label.set_visible(True)\n",
    "    else:\n",
    "        label.set_visible(False)\n",
    "\n",
    "# remove the title from the legend\n",
    "\n",
    "handles, labels = ax.get_legend_handles_labels()\n",
    "ax.legend(handles=handles, labels=labels)\n",
    "\n",
    "# ax.set_xticklabels(volume['epoch_time_cst'][::10], rotation=45)\n",
    "ax.set_ylabel(\"Volume [veh/hr]\")\n",
    "ax2.set_ylabel(\"Average Speed [m/s]\")\n",
    "ax.set_xlabel(\"Time\")\n",
    "\n",
    "# plt.locator_params(axis='x', nbins=5)\n",
    "# plt.gcf().autofmt_xdate()"
   ]
  },
  {
   "cell_type": "code",
   "execution_count": null,
   "metadata": {},
   "outputs": [],
   "source": [
    "avg_speed.with_columns(pl.col(\"epoch_time_cst\").dt.time())"
   ]
  }
 ],
 "metadata": {
  "kernelspec": {
   "display_name": "venv",
   "language": "python",
   "name": "python3"
  },
  "language_info": {
   "codemirror_mode": {
    "name": "ipython",
    "version": 3
   },
   "file_extension": ".py",
   "mimetype": "text/x-python",
   "name": "python",
   "nbconvert_exporter": "python",
   "pygments_lexer": "ipython3",
   "version": "3.11.5"
  }
 },
 "nbformat": 4,
 "nbformat_minor": 2
}
